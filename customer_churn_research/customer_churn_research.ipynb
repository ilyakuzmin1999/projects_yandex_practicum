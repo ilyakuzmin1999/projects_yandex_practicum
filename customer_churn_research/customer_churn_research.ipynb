{
 "cells": [
  {
   "cell_type": "markdown",
   "metadata": {
    "toc": true
   },
   "source": [
    "<h1>Содержание<span class=\"tocSkip\"></span></h1>\n",
    "<div class=\"toc\"><ul class=\"toc-item\"><li><span><a href=\"#Подготовка-данных\" data-toc-modified-id=\"Подготовка-данных-1\"><span class=\"toc-item-num\">1&nbsp;&nbsp;</span>Подготовка данных</a></span><ul class=\"toc-item\"><li><span><a href=\"#Загрузка-библиотек-и-датафрейма\" data-toc-modified-id=\"Загрузка-библиотек-и-датафрейма-1.1\"><span class=\"toc-item-num\">1.1&nbsp;&nbsp;</span>Загрузка библиотек и датафрейма</a></span></li><li><span><a href=\"#Обработка-данных\" data-toc-modified-id=\"Обработка-данных-1.2\"><span class=\"toc-item-num\">1.2&nbsp;&nbsp;</span>Обработка данных</a></span></li></ul></li><li><span><a href=\"#Исследование-задачи\" data-toc-modified-id=\"Исследование-задачи-2\"><span class=\"toc-item-num\">2&nbsp;&nbsp;</span>Исследование задачи</a></span><ul class=\"toc-item\"><li><span><a href=\"#Дисбаланс-классов\" data-toc-modified-id=\"Дисбаланс-классов-2.1\"><span class=\"toc-item-num\">2.1&nbsp;&nbsp;</span>Дисбаланс классов</a></span></li><li><span><a href=\"#Дерево-решений-(DecisionTreeClassifier)\" data-toc-modified-id=\"Дерево-решений-(DecisionTreeClassifier)-2.2\"><span class=\"toc-item-num\">2.2&nbsp;&nbsp;</span>Дерево решений (DecisionTreeClassifier)</a></span></li><li><span><a href=\"#Случайный-лес-(RandomForestClassifier)\" data-toc-modified-id=\"Случайный-лес-(RandomForestClassifier)-2.3\"><span class=\"toc-item-num\">2.3&nbsp;&nbsp;</span>Случайный лес (RandomForestClassifier)</a></span></li><li><span><a href=\"#Логистическая-регрессия-(LogisticRegression)\" data-toc-modified-id=\"Логистическая-регрессия-(LogisticRegression)-2.4\"><span class=\"toc-item-num\">2.4&nbsp;&nbsp;</span>Логистическая регрессия (LogisticRegression)</a></span></li><li><span><a href=\"#Сравнение-метрики-AUC-ROC\" data-toc-modified-id=\"Сравнение-метрики-AUC-ROC-2.5\"><span class=\"toc-item-num\">2.5&nbsp;&nbsp;</span>Сравнение метрики AUC-ROC</a></span></li><li><span><a href=\"#Выводы\" data-toc-modified-id=\"Выводы-2.6\"><span class=\"toc-item-num\">2.6&nbsp;&nbsp;</span>Выводы</a></span></li></ul></li><li><span><a href=\"#Борьба-с-дисбалансом\" data-toc-modified-id=\"Борьба-с-дисбалансом-3\"><span class=\"toc-item-num\">3&nbsp;&nbsp;</span>Борьба с дисбалансом</a></span><ul class=\"toc-item\"><li><span><a href=\"#Функции-для-моделей\" data-toc-modified-id=\"Функции-для-моделей-3.1\"><span class=\"toc-item-num\">3.1&nbsp;&nbsp;</span>Функции для моделей</a></span><ul class=\"toc-item\"><li><span><a href=\"#Функция-дерево-решений-(DecisionTreeClassifier)\" data-toc-modified-id=\"Функция-дерево-решений-(DecisionTreeClassifier)-3.1.1\"><span class=\"toc-item-num\">3.1.1&nbsp;&nbsp;</span>Функция дерево решений (DecisionTreeClassifier)</a></span></li><li><span><a href=\"#Случайный-лес-(RandomForestClassifier)\" data-toc-modified-id=\"Случайный-лес-(RandomForestClassifier)-3.1.2\"><span class=\"toc-item-num\">3.1.2&nbsp;&nbsp;</span>Случайный лес (RandomForestClassifier)</a></span></li><li><span><a href=\"#Логистическая-регрессия-(LogisticRegression)\" data-toc-modified-id=\"Логистическая-регрессия-(LogisticRegression)-3.1.3\"><span class=\"toc-item-num\">3.1.3&nbsp;&nbsp;</span>Логистическая регрессия (LogisticRegression)</a></span></li><li><span><a href=\"#Метрика-AUC-ROC\" data-toc-modified-id=\"Метрика-AUC-ROC-3.1.4\"><span class=\"toc-item-num\">3.1.4&nbsp;&nbsp;</span>Метрика AUC-ROC</a></span></li></ul></li><li><span><a href=\"#Функция-увеличения-выборки-(upsample)\" data-toc-modified-id=\"Функция-увеличения-выборки-(upsample)-3.2\"><span class=\"toc-item-num\">3.2&nbsp;&nbsp;</span>Функция увеличения выборки (upsample)</a></span><ul class=\"toc-item\"><li><span><a href=\"#F1-по-моделям\" data-toc-modified-id=\"F1-по-моделям-3.2.1\"><span class=\"toc-item-num\">3.2.1&nbsp;&nbsp;</span>F1 по моделям</a></span></li><li><span><a href=\"#AUC_ROC\" data-toc-modified-id=\"AUC_ROC-3.2.2\"><span class=\"toc-item-num\">3.2.2&nbsp;&nbsp;</span>AUC_ROC</a></span></li></ul></li><li><span><a href=\"#Функция-уменьшения-выборки-(downsample)\" data-toc-modified-id=\"Функция-уменьшения-выборки-(downsample)-3.3\"><span class=\"toc-item-num\">3.3&nbsp;&nbsp;</span>Функция уменьшения выборки (downsample)</a></span><ul class=\"toc-item\"><li><span><a href=\"#F1-по-моделям\" data-toc-modified-id=\"F1-по-моделям-3.3.1\"><span class=\"toc-item-num\">3.3.1&nbsp;&nbsp;</span>F1 по моделям</a></span></li><li><span><a href=\"#Метрика-AUC-ROC\" data-toc-modified-id=\"Метрика-AUC-ROC-3.3.2\"><span class=\"toc-item-num\">3.3.2&nbsp;&nbsp;</span>Метрика AUC-ROC</a></span></li></ul></li><li><span><a href=\"#Использование-взвешивание-классов\" data-toc-modified-id=\"Использование-взвешивание-классов-3.4\"><span class=\"toc-item-num\">3.4&nbsp;&nbsp;</span>Использование взвешивание классов</a></span><ul class=\"toc-item\"><li><span><a href=\"#F1-по-моделям\" data-toc-modified-id=\"F1-по-моделям-3.4.1\"><span class=\"toc-item-num\">3.4.1&nbsp;&nbsp;</span>F1 по моделям</a></span></li><li><span><a href=\"#Метрика-AUC-ROC\" data-toc-modified-id=\"Метрика-AUC-ROC-3.4.2\"><span class=\"toc-item-num\">3.4.2&nbsp;&nbsp;</span>Метрика AUC-ROC</a></span></li></ul></li><li><span><a href=\"#Выводы\" data-toc-modified-id=\"Выводы-3.5\"><span class=\"toc-item-num\">3.5&nbsp;&nbsp;</span>Выводы</a></span></li></ul></li><li><span><a href=\"#Тестирование-модели\" data-toc-modified-id=\"Тестирование-модели-4\"><span class=\"toc-item-num\">4&nbsp;&nbsp;</span>Тестирование модели</a></span></li><li><span><a href=\"#Чек-лист-готовности-проекта\" data-toc-modified-id=\"Чек-лист-готовности-проекта-5\"><span class=\"toc-item-num\">5&nbsp;&nbsp;</span>Чек-лист готовности проекта</a></span></li></ul></div>"
   ]
  },
  {
   "cell_type": "markdown",
   "metadata": {},
   "source": [
    "# Отток клиентов"
   ]
  },
  {
   "cell_type": "markdown",
   "metadata": {},
   "source": [
    "Из «Бета-Банка» стали уходить клиенты. Каждый месяц. Немного, но заметно. Банковские маркетологи посчитали: сохранять текущих клиентов дешевле, чем привлекать новых.\n",
    "\n",
    "Нужно спрогнозировать, уйдёт клиент из банка в ближайшее время или нет. Вам предоставлены исторические данные о поведении клиентов и расторжении договоров с банком. \n",
    "\n",
    "Постройте модель с предельно большим значением *F1*-меры. Чтобы сдать проект успешно, нужно довести метрику до 0.59. Проверьте *F1*-меру на тестовой выборке самостоятельно.\n",
    "\n",
    "Дополнительно измеряйте *AUC-ROC*, сравнивайте её значение с *F1*-мерой.\n",
    "\n",
    "Источник данных: [https://www.kaggle.com/barelydedicated/bank-customer-churn-modeling](https://www.kaggle.com/barelydedicated/bank-customer-churn-modeling)"
   ]
  },
  {
   "cell_type": "markdown",
   "metadata": {},
   "source": [
    "## Подготовка данных"
   ]
  },
  {
   "cell_type": "markdown",
   "metadata": {},
   "source": [
    "### Загрузка библиотек и датафрейма"
   ]
  },
  {
   "cell_type": "code",
   "execution_count": 1,
   "metadata": {},
   "outputs": [],
   "source": [
    "import pandas as pd\n",
    "import matplotlib.pyplot as plt\n",
    "import seaborn as sns\n",
    "from sklearn.preprocessing import OneHotEncoder\n",
    "from sklearn.tree import DecisionTreeClassifier\n",
    "from sklearn.ensemble import RandomForestClassifier\n",
    "from sklearn.linear_model import LogisticRegression\n",
    "from sklearn.model_selection import train_test_split\n",
    "from sklearn.preprocessing import StandardScaler\n",
    "from sklearn.metrics import f1_score, roc_curve, roc_auc_score\n",
    "from sklearn.utils import shuffle\n",
    "from sklearn.dummy import DummyClassifier\n",
    "\n",
    "import warnings"
   ]
  },
  {
   "cell_type": "code",
   "execution_count": 2,
   "metadata": {},
   "outputs": [],
   "source": [
    "warnings.filterwarnings(\"ignore\")"
   ]
  },
  {
   "cell_type": "code",
   "execution_count": 3,
   "metadata": {},
   "outputs": [
    {
     "data": {
      "text/html": [
       "<div>\n",
       "<style scoped>\n",
       "    .dataframe tbody tr th:only-of-type {\n",
       "        vertical-align: middle;\n",
       "    }\n",
       "\n",
       "    .dataframe tbody tr th {\n",
       "        vertical-align: top;\n",
       "    }\n",
       "\n",
       "    .dataframe thead th {\n",
       "        text-align: right;\n",
       "    }\n",
       "</style>\n",
       "<table border=\"1\" class=\"dataframe\">\n",
       "  <thead>\n",
       "    <tr style=\"text-align: right;\">\n",
       "      <th></th>\n",
       "      <th>RowNumber</th>\n",
       "      <th>CustomerId</th>\n",
       "      <th>Surname</th>\n",
       "      <th>CreditScore</th>\n",
       "      <th>Geography</th>\n",
       "      <th>Gender</th>\n",
       "      <th>Age</th>\n",
       "      <th>Tenure</th>\n",
       "      <th>Balance</th>\n",
       "      <th>NumOfProducts</th>\n",
       "      <th>HasCrCard</th>\n",
       "      <th>IsActiveMember</th>\n",
       "      <th>EstimatedSalary</th>\n",
       "      <th>Exited</th>\n",
       "    </tr>\n",
       "  </thead>\n",
       "  <tbody>\n",
       "    <tr>\n",
       "      <th>0</th>\n",
       "      <td>1</td>\n",
       "      <td>15634602</td>\n",
       "      <td>Hargrave</td>\n",
       "      <td>619</td>\n",
       "      <td>France</td>\n",
       "      <td>Female</td>\n",
       "      <td>42</td>\n",
       "      <td>2.0</td>\n",
       "      <td>0.00</td>\n",
       "      <td>1</td>\n",
       "      <td>1</td>\n",
       "      <td>1</td>\n",
       "      <td>101348.88</td>\n",
       "      <td>1</td>\n",
       "    </tr>\n",
       "    <tr>\n",
       "      <th>1</th>\n",
       "      <td>2</td>\n",
       "      <td>15647311</td>\n",
       "      <td>Hill</td>\n",
       "      <td>608</td>\n",
       "      <td>Spain</td>\n",
       "      <td>Female</td>\n",
       "      <td>41</td>\n",
       "      <td>1.0</td>\n",
       "      <td>83807.86</td>\n",
       "      <td>1</td>\n",
       "      <td>0</td>\n",
       "      <td>1</td>\n",
       "      <td>112542.58</td>\n",
       "      <td>0</td>\n",
       "    </tr>\n",
       "    <tr>\n",
       "      <th>2</th>\n",
       "      <td>3</td>\n",
       "      <td>15619304</td>\n",
       "      <td>Onio</td>\n",
       "      <td>502</td>\n",
       "      <td>France</td>\n",
       "      <td>Female</td>\n",
       "      <td>42</td>\n",
       "      <td>8.0</td>\n",
       "      <td>159660.80</td>\n",
       "      <td>3</td>\n",
       "      <td>1</td>\n",
       "      <td>0</td>\n",
       "      <td>113931.57</td>\n",
       "      <td>1</td>\n",
       "    </tr>\n",
       "    <tr>\n",
       "      <th>3</th>\n",
       "      <td>4</td>\n",
       "      <td>15701354</td>\n",
       "      <td>Boni</td>\n",
       "      <td>699</td>\n",
       "      <td>France</td>\n",
       "      <td>Female</td>\n",
       "      <td>39</td>\n",
       "      <td>1.0</td>\n",
       "      <td>0.00</td>\n",
       "      <td>2</td>\n",
       "      <td>0</td>\n",
       "      <td>0</td>\n",
       "      <td>93826.63</td>\n",
       "      <td>0</td>\n",
       "    </tr>\n",
       "    <tr>\n",
       "      <th>4</th>\n",
       "      <td>5</td>\n",
       "      <td>15737888</td>\n",
       "      <td>Mitchell</td>\n",
       "      <td>850</td>\n",
       "      <td>Spain</td>\n",
       "      <td>Female</td>\n",
       "      <td>43</td>\n",
       "      <td>2.0</td>\n",
       "      <td>125510.82</td>\n",
       "      <td>1</td>\n",
       "      <td>1</td>\n",
       "      <td>1</td>\n",
       "      <td>79084.10</td>\n",
       "      <td>0</td>\n",
       "    </tr>\n",
       "  </tbody>\n",
       "</table>\n",
       "</div>"
      ],
      "text/plain": [
       "   RowNumber  CustomerId   Surname  CreditScore Geography  Gender  Age  \\\n",
       "0          1    15634602  Hargrave          619    France  Female   42   \n",
       "1          2    15647311      Hill          608     Spain  Female   41   \n",
       "2          3    15619304      Onio          502    France  Female   42   \n",
       "3          4    15701354      Boni          699    France  Female   39   \n",
       "4          5    15737888  Mitchell          850     Spain  Female   43   \n",
       "\n",
       "   Tenure    Balance  NumOfProducts  HasCrCard  IsActiveMember  \\\n",
       "0     2.0       0.00              1          1               1   \n",
       "1     1.0   83807.86              1          0               1   \n",
       "2     8.0  159660.80              3          1               0   \n",
       "3     1.0       0.00              2          0               0   \n",
       "4     2.0  125510.82              1          1               1   \n",
       "\n",
       "   EstimatedSalary  Exited  \n",
       "0        101348.88       1  \n",
       "1        112542.58       0  \n",
       "2        113931.57       1  \n",
       "3         93826.63       0  \n",
       "4         79084.10       0  "
      ]
     },
     "execution_count": 3,
     "metadata": {},
     "output_type": "execute_result"
    }
   ],
   "source": [
    "df = pd.read_csv('https://code.s3.yandex.net/datasets/Churn.csv')\n",
    "df.head(5)"
   ]
  },
  {
   "cell_type": "code",
   "execution_count": 4,
   "metadata": {},
   "outputs": [
    {
     "name": "stdout",
     "output_type": "stream",
     "text": [
      "<class 'pandas.core.frame.DataFrame'>\n",
      "RangeIndex: 10000 entries, 0 to 9999\n",
      "Data columns (total 14 columns):\n",
      " #   Column           Non-Null Count  Dtype  \n",
      "---  ------           --------------  -----  \n",
      " 0   RowNumber        10000 non-null  int64  \n",
      " 1   CustomerId       10000 non-null  int64  \n",
      " 2   Surname          10000 non-null  object \n",
      " 3   CreditScore      10000 non-null  int64  \n",
      " 4   Geography        10000 non-null  object \n",
      " 5   Gender           10000 non-null  object \n",
      " 6   Age              10000 non-null  int64  \n",
      " 7   Tenure           9091 non-null   float64\n",
      " 8   Balance          10000 non-null  float64\n",
      " 9   NumOfProducts    10000 non-null  int64  \n",
      " 10  HasCrCard        10000 non-null  int64  \n",
      " 11  IsActiveMember   10000 non-null  int64  \n",
      " 12  EstimatedSalary  10000 non-null  float64\n",
      " 13  Exited           10000 non-null  int64  \n",
      "dtypes: float64(3), int64(8), object(3)\n",
      "memory usage: 1.1+ MB\n"
     ]
    }
   ],
   "source": [
    "df.info()"
   ]
  },
  {
   "cell_type": "markdown",
   "metadata": {},
   "source": [
    "После первого знакомства с данными:\n",
    "- в столбце 'tenure' пропуски заменим на медианное значение и приведем к типу 'int'\n",
    "- удалим столбцы, которорые не пригодятся при обучении моделей\n",
    "- необходимо категориальный признаки преобразовать в численные\n",
    "- необходимо масштабировать признаки"
   ]
  },
  {
   "cell_type": "code",
   "execution_count": 5,
   "metadata": {},
   "outputs": [],
   "source": [
    "def show_hists(data, data_label, num_bins):\n",
    "    sns.set()\n",
    "    f, axes = plt.subplots(1, 2, figsize=(16, 4))\n",
    "    axes[0].set_title(data_label + \". Гистограмма распределения\", fontsize=18)\n",
    "    axes[0].set_ylabel('количество', fontsize=15)\n",
    "    sns.histplot(data, bins=num_bins, ax=axes[0], kde=True)\n",
    "    axes[1].set_title(data_label + \". Boxplot\", fontsize=18)\n",
    "    sns.boxplot(data=df, x=data_label, ax=axes[1])\n",
    "    plt.show()"
   ]
  },
  {
   "cell_type": "code",
   "execution_count": 6,
   "metadata": {},
   "outputs": [
    {
     "data": {
      "image/png": "[encoded data removed]",
      "text/plain": [
       "<Figure size 1152x288 with 2 Axes>"
      ]
     },
     "metadata": {},
     "output_type": "display_data"
    },
    {
     "data": {
      "image/png": "[encoded data removed]",
      "text/plain": [
       "<Figure size 1152x288 with 2 Axes>"
      ]
     },
     "metadata": {},
     "output_type": "display_data"
    },
    {
     "data": {
      "image/png": "[encoded data removed]",
      "text/plain": [
       "<Figure size 1152x288 with 2 Axes>"
      ]
     },
     "metadata": {},
     "output_type": "display_data"
    },
    {
     "data": {
      "image/png": "[encoded data removed]",
      "text/plain": [
       "<Figure size 1152x288 with 2 Axes>"
      ]
     },
     "metadata": {},
     "output_type": "display_data"
    }
   ],
   "source": [
    "numerics = ['CreditScore', 'Age', 'Balance', 'EstimatedSalary']\n",
    "for column in numerics:\n",
    "    show_hists(df[column], column, num_bins=30)"
   ]
  },
  {
   "cell_type": "code",
   "execution_count": 7,
   "metadata": {},
   "outputs": [
    {
     "data": {
      "image/png": "[encoded data removed]",
      "text/plain": [
       "<Figure size 576x432 with 1 Axes>"
      ]
     },
     "metadata": {},
     "output_type": "display_data"
    }
   ],
   "source": [
    "plt.figure(figsize=(8, 6))\n",
    "sns.countplot(x='Geography', data=df);\n",
    "plt.title('Распределение пользоватлей по странам');\n",
    "plt.ylabel('Количесиво пользоватлей в стране');"
   ]
  },
  {
   "cell_type": "markdown",
   "metadata": {},
   "source": [
    "### Обработка данных"
   ]
  },
  {
   "cell_type": "code",
   "execution_count": 8,
   "metadata": {},
   "outputs": [
    {
     "name": "stdout",
     "output_type": "stream",
     "text": [
      "<class 'pandas.core.frame.DataFrame'>\n",
      "RangeIndex: 10000 entries, 0 to 9999\n",
      "Data columns (total 11 columns):\n",
      " #   Column           Non-Null Count  Dtype  \n",
      "---  ------           --------------  -----  \n",
      " 0   CreditScore      10000 non-null  int64  \n",
      " 1   Geography        10000 non-null  object \n",
      " 2   Gender           10000 non-null  object \n",
      " 3   Age              10000 non-null  int64  \n",
      " 4   Tenure           10000 non-null  int64  \n",
      " 5   Balance          10000 non-null  float64\n",
      " 6   NumOfProducts    10000 non-null  int64  \n",
      " 7   HasCrCard        10000 non-null  int64  \n",
      " 8   IsActiveMember   10000 non-null  int64  \n",
      " 9   EstimatedSalary  10000 non-null  float64\n",
      " 10  Exited           10000 non-null  int64  \n",
      "dtypes: float64(2), int64(7), object(2)\n",
      "memory usage: 859.5+ KB\n"
     ]
    }
   ],
   "source": [
    "df['Tenure'] = df['Tenure'].fillna(df['Tenure'].median()).astype('int')\n",
    "df = df.drop(['RowNumber', 'CustomerId', 'Surname'], axis=1)\n",
    "df.info()"
   ]
  },
  {
   "cell_type": "markdown",
   "metadata": {},
   "source": [
    "Необходимо разбить данные на обучающую, валидационную и тестовую выборки в отношение 3:1:1"
   ]
  },
  {
   "cell_type": "code",
   "execution_count": 10,
   "metadata": {},
   "outputs": [
    {
     "data": {
      "text/html": [
       "<div>\n",
       "<style scoped>\n",
       "    .dataframe tbody tr th:only-of-type {\n",
       "        vertical-align: middle;\n",
       "    }\n",
       "\n",
       "    .dataframe tbody tr th {\n",
       "        vertical-align: top;\n",
       "    }\n",
       "\n",
       "    .dataframe thead th {\n",
       "        text-align: right;\n",
       "    }\n",
       "</style>\n",
       "<table border=\"1\" class=\"dataframe\">\n",
       "  <thead>\n",
       "    <tr style=\"text-align: right;\">\n",
       "      <th></th>\n",
       "      <th>CreditScore</th>\n",
       "      <th>Age</th>\n",
       "      <th>Tenure</th>\n",
       "      <th>Balance</th>\n",
       "      <th>NumOfProducts</th>\n",
       "      <th>HasCrCard</th>\n",
       "      <th>IsActiveMember</th>\n",
       "      <th>EstimatedSalary</th>\n",
       "      <th>x0_Germany</th>\n",
       "      <th>x0_Spain</th>\n",
       "      <th>x1_Male</th>\n",
       "    </tr>\n",
       "  </thead>\n",
       "  <tbody>\n",
       "    <tr>\n",
       "      <th>657</th>\n",
       "      <td>601</td>\n",
       "      <td>54</td>\n",
       "      <td>1</td>\n",
       "      <td>131039.97</td>\n",
       "      <td>2</td>\n",
       "      <td>1</td>\n",
       "      <td>1</td>\n",
       "      <td>199661.50</td>\n",
       "      <td>1.0</td>\n",
       "      <td>0.0</td>\n",
       "      <td>0.0</td>\n",
       "    </tr>\n",
       "    <tr>\n",
       "      <th>2083</th>\n",
       "      <td>534</td>\n",
       "      <td>24</td>\n",
       "      <td>1</td>\n",
       "      <td>0.00</td>\n",
       "      <td>1</td>\n",
       "      <td>1</td>\n",
       "      <td>1</td>\n",
       "      <td>169653.32</td>\n",
       "      <td>0.0</td>\n",
       "      <td>0.0</td>\n",
       "      <td>1.0</td>\n",
       "    </tr>\n",
       "    <tr>\n",
       "      <th>3234</th>\n",
       "      <td>527</td>\n",
       "      <td>47</td>\n",
       "      <td>1</td>\n",
       "      <td>0.00</td>\n",
       "      <td>1</td>\n",
       "      <td>1</td>\n",
       "      <td>0</td>\n",
       "      <td>21312.16</td>\n",
       "      <td>0.0</td>\n",
       "      <td>0.0</td>\n",
       "      <td>1.0</td>\n",
       "    </tr>\n",
       "    <tr>\n",
       "      <th>1551</th>\n",
       "      <td>730</td>\n",
       "      <td>52</td>\n",
       "      <td>7</td>\n",
       "      <td>0.00</td>\n",
       "      <td>2</td>\n",
       "      <td>0</td>\n",
       "      <td>1</td>\n",
       "      <td>122398.84</td>\n",
       "      <td>0.0</td>\n",
       "      <td>1.0</td>\n",
       "      <td>0.0</td>\n",
       "    </tr>\n",
       "    <tr>\n",
       "      <th>2344</th>\n",
       "      <td>714</td>\n",
       "      <td>49</td>\n",
       "      <td>4</td>\n",
       "      <td>93059.34</td>\n",
       "      <td>1</td>\n",
       "      <td>1</td>\n",
       "      <td>0</td>\n",
       "      <td>7571.51</td>\n",
       "      <td>1.0</td>\n",
       "      <td>0.0</td>\n",
       "      <td>0.0</td>\n",
       "    </tr>\n",
       "  </tbody>\n",
       "</table>\n",
       "</div>"
      ],
      "text/plain": [
       "      CreditScore  Age  Tenure    Balance  NumOfProducts  HasCrCard  \\\n",
       "657           601   54       1  131039.97              2          1   \n",
       "2083          534   24       1       0.00              1          1   \n",
       "3234          527   47       1       0.00              1          1   \n",
       "1551          730   52       7       0.00              2          0   \n",
       "2344          714   49       4   93059.34              1          1   \n",
       "\n",
       "      IsActiveMember  EstimatedSalary  x0_Germany  x0_Spain  x1_Male  \n",
       "657                1        199661.50         1.0       0.0      0.0  \n",
       "2083               1        169653.32         0.0       0.0      1.0  \n",
       "3234               0         21312.16         0.0       0.0      1.0  \n",
       "1551               1        122398.84         0.0       1.0      0.0  \n",
       "2344               0          7571.51         1.0       0.0      0.0  "
      ]
     },
     "execution_count": 10,
     "metadata": {},
     "output_type": "execute_result"
    }
   ],
   "source": [
    "features = df.drop(['Exited'], axis=1)\n",
    "target = df['Exited']\n",
    "\n",
    "features_train, features_val_test, target_train, targetval_val_test = train_test_split(\n",
    "    features, target, test_size=.4, random_state=12345, stratify=target)\n",
    "\n",
    "features_val, features_test, target_val, target_test = train_test_split(\n",
    "    features_val_test, targetval_val_test, test_size=.5, random_state=12345, stratify=targetval_val_test)\n",
    "\n",
    "cat_features = ['Geography', 'Gender']\n",
    "\n",
    "ohe_encoder = OneHotEncoder(drop='first', sparse=False)\n",
    "\n",
    "train_temp = ohe_encoder.fit_transform(features_train[cat_features])\n",
    "features_train[ohe_encoder.get_feature_names()] = train_temp\n",
    "features_train.drop(cat_features, axis=1, inplace=True)\n",
    "\n",
    "val_temp = ohe_encoder.transform(features_val[cat_features])\n",
    "features_val[ohe_encoder.get_feature_names()] = val_temp\n",
    "features_val.drop(cat_features, axis=1, inplace=True)\n",
    "\n",
    "test_temp = ohe_encoder.transform(features_test[cat_features])\n",
    "features_test[ohe_encoder.get_feature_names()] = test_temp\n",
    "features_test.drop(cat_features, axis=1, inplace=True)\n",
    "\n",
    "features_test.head()"
   ]
  },
  {
   "cell_type": "code",
   "execution_count": 11,
   "metadata": {},
   "outputs": [
    {
     "name": "stdout",
     "output_type": "stream",
     "text": [
      "Размер обучающей выборки параметров: (6000, 11)\n",
      "Размер обучающей выборки целевого парметра: (6000,)\n",
      "Размер валидационной выборки параметров: (2000, 11)\n",
      "Размер тестовой выборки параметров: (2000, 11)\n",
      "Размер валидационной выборки целевого парметра: (2000,)\n",
      "Размер тестовой выборки целевого парметра: (2000,)\n"
     ]
    }
   ],
   "source": [
    "print('Размер обучающей выборки параметров:', features_train.shape)\n",
    "print('Размер обучающей выборки целевого парметра:', target_train.shape)\n",
    "print('Размер валидационной выборки параметров:', features_val.shape)\n",
    "print('Размер тестовой выборки параметров:', features_test.shape)\n",
    "print('Размер валидационной выборки целевого парметра:', target_val.shape)\n",
    "print('Размер тестовой выборки целевого парметра:', target_test.shape)"
   ]
  },
  {
   "cell_type": "markdown",
   "metadata": {},
   "source": [
    "Далее необходимо масштабировать все численные признаки."
   ]
  },
  {
   "cell_type": "code",
   "execution_count": 12,
   "metadata": {},
   "outputs": [
    {
     "data": {
      "text/html": [
       "<div>\n",
       "<style scoped>\n",
       "    .dataframe tbody tr th:only-of-type {\n",
       "        vertical-align: middle;\n",
       "    }\n",
       "\n",
       "    .dataframe tbody tr th {\n",
       "        vertical-align: top;\n",
       "    }\n",
       "\n",
       "    .dataframe thead th {\n",
       "        text-align: right;\n",
       "    }\n",
       "</style>\n",
       "<table border=\"1\" class=\"dataframe\">\n",
       "  <thead>\n",
       "    <tr style=\"text-align: right;\">\n",
       "      <th></th>\n",
       "      <th>CreditScore</th>\n",
       "      <th>Age</th>\n",
       "      <th>Tenure</th>\n",
       "      <th>Balance</th>\n",
       "      <th>NumOfProducts</th>\n",
       "      <th>HasCrCard</th>\n",
       "      <th>IsActiveMember</th>\n",
       "      <th>EstimatedSalary</th>\n",
       "      <th>x0_Germany</th>\n",
       "      <th>x0_Spain</th>\n",
       "      <th>x1_Male</th>\n",
       "    </tr>\n",
       "  </thead>\n",
       "  <tbody>\n",
       "    <tr>\n",
       "      <th>2837</th>\n",
       "      <td>-1.040434</td>\n",
       "      <td>0.953312</td>\n",
       "      <td>0.360600</td>\n",
       "      <td>0.774657</td>\n",
       "      <td>-0.914708</td>\n",
       "      <td>0</td>\n",
       "      <td>1</td>\n",
       "      <td>-0.119110</td>\n",
       "      <td>1.0</td>\n",
       "      <td>0.0</td>\n",
       "      <td>0.0</td>\n",
       "    </tr>\n",
       "    <tr>\n",
       "      <th>9925</th>\n",
       "      <td>0.454006</td>\n",
       "      <td>-0.095244</td>\n",
       "      <td>-0.002786</td>\n",
       "      <td>1.910540</td>\n",
       "      <td>-0.914708</td>\n",
       "      <td>1</td>\n",
       "      <td>1</td>\n",
       "      <td>-0.258658</td>\n",
       "      <td>0.0</td>\n",
       "      <td>0.0</td>\n",
       "      <td>0.0</td>\n",
       "    </tr>\n",
       "    <tr>\n",
       "      <th>8746</th>\n",
       "      <td>0.103585</td>\n",
       "      <td>-0.476537</td>\n",
       "      <td>1.087371</td>\n",
       "      <td>0.481608</td>\n",
       "      <td>0.820981</td>\n",
       "      <td>0</td>\n",
       "      <td>1</td>\n",
       "      <td>1.422836</td>\n",
       "      <td>0.0</td>\n",
       "      <td>0.0</td>\n",
       "      <td>1.0</td>\n",
       "    </tr>\n",
       "    <tr>\n",
       "      <th>660</th>\n",
       "      <td>-0.184996</td>\n",
       "      <td>0.190726</td>\n",
       "      <td>-0.002786</td>\n",
       "      <td>0.088439</td>\n",
       "      <td>-0.914708</td>\n",
       "      <td>1</td>\n",
       "      <td>1</td>\n",
       "      <td>-1.160427</td>\n",
       "      <td>1.0</td>\n",
       "      <td>0.0</td>\n",
       "      <td>0.0</td>\n",
       "    </tr>\n",
       "    <tr>\n",
       "      <th>3610</th>\n",
       "      <td>-0.720933</td>\n",
       "      <td>1.620574</td>\n",
       "      <td>-1.456328</td>\n",
       "      <td>0.879129</td>\n",
       "      <td>-0.914708</td>\n",
       "      <td>1</td>\n",
       "      <td>0</td>\n",
       "      <td>0.113236</td>\n",
       "      <td>0.0</td>\n",
       "      <td>0.0</td>\n",
       "      <td>0.0</td>\n",
       "    </tr>\n",
       "  </tbody>\n",
       "</table>\n",
       "</div>"
      ],
      "text/plain": [
       "      CreditScore       Age    Tenure   Balance  NumOfProducts  HasCrCard  \\\n",
       "2837    -1.040434  0.953312  0.360600  0.774657      -0.914708          0   \n",
       "9925     0.454006 -0.095244 -0.002786  1.910540      -0.914708          1   \n",
       "8746     0.103585 -0.476537  1.087371  0.481608       0.820981          0   \n",
       "660     -0.184996  0.190726 -0.002786  0.088439      -0.914708          1   \n",
       "3610    -0.720933  1.620574 -1.456328  0.879129      -0.914708          1   \n",
       "\n",
       "      IsActiveMember  EstimatedSalary  x0_Germany  x0_Spain  x1_Male  \n",
       "2837               1        -0.119110         1.0       0.0      0.0  \n",
       "9925               1        -0.258658         0.0       0.0      0.0  \n",
       "8746               1         1.422836         0.0       0.0      1.0  \n",
       "660                1        -1.160427         1.0       0.0      0.0  \n",
       "3610               0         0.113236         0.0       0.0      0.0  "
      ]
     },
     "execution_count": 12,
     "metadata": {},
     "output_type": "execute_result"
    }
   ],
   "source": [
    "numeric = ['CreditScore', 'Age', 'Tenure', 'Balance', 'NumOfProducts', 'EstimatedSalary']\n",
    "scaler = StandardScaler()\n",
    "scaler.fit(features_train[numeric])\n",
    "features_train[numeric] = scaler.transform(features_train[numeric])\n",
    "features_val[numeric] = scaler.transform(features_val[numeric])\n",
    "features_test[numeric] = scaler.transform(features_test[numeric])\n",
    "features_train.head()"
   ]
  },
  {
   "cell_type": "markdown",
   "metadata": {},
   "source": [
    "Данные подготовлены для обучения моделей."
   ]
  },
  {
   "cell_type": "markdown",
   "metadata": {},
   "source": [
    "## Исследование задачи"
   ]
  },
  {
   "cell_type": "markdown",
   "metadata": {},
   "source": [
    "### Дисбаланс классов"
   ]
  },
  {
   "cell_type": "code",
   "execution_count": 13,
   "metadata": {
    "scrolled": true
   },
   "outputs": [
    {
     "data": {
      "image/png": "[encoded data removed]",
      "text/plain": [
       "<Figure size 432x288 with 1 Axes>"
      ]
     },
     "metadata": {},
     "output_type": "display_data"
    }
   ],
   "source": [
    "df.Exited.value_counts().plot(kind='bar', title='Распределение в целевом признаке');"
   ]
  },
  {
   "cell_type": "markdown",
   "metadata": {},
   "source": [
    "Из диаграммы видно, что есть дисбаланс в данных целевого признака, примерно 4:1. Попробуем обучить модели без учета дисбаланса."
   ]
  },
  {
   "cell_type": "markdown",
   "metadata": {},
   "source": [
    "### Дерево решений (DecisionTreeClassifier)"
   ]
  },
  {
   "cell_type": "code",
   "execution_count": 14,
   "metadata": {},
   "outputs": [
    {
     "name": "stdout",
     "output_type": "stream",
     "text": [
      "F1 лучшей модели: 0.5924855491329479\n",
      "Best_depth: 7\n"
     ]
    }
   ],
   "source": [
    "best_model_1 = None\n",
    "best_f1_1 = 0\n",
    "for depth_1 in range(1, 10):\n",
    "    model_1 = DecisionTreeClassifier(random_state=12345, max_depth=depth_1)\n",
    "    model_1.fit(features_train, target_train)\n",
    "    predictions_1 = model_1.predict(features_val)\n",
    "    f1_1 = f1_score(target_val, predictions_1)\n",
    "    if f1_1 > best_f1_1:\n",
    "        best_model_1 = model_1\n",
    "        best_f1_1 = f1_1\n",
    "        best_depth_1 = depth_1\n",
    "        \n",
    "print('F1 лучшей модели:', best_f1_1)\n",
    "print('Best_depth:', best_depth_1)"
   ]
  },
  {
   "cell_type": "markdown",
   "metadata": {},
   "source": [
    "Лучшая модель дерева решений получилась с метрикой F1 равной 0,59"
   ]
  },
  {
   "cell_type": "markdown",
   "metadata": {},
   "source": [
    "### Случайный лес (RandomForestClassifier)"
   ]
  },
  {
   "cell_type": "code",
   "execution_count": 15,
   "metadata": {},
   "outputs": [
    {
     "name": "stdout",
     "output_type": "stream",
     "text": [
      "F1 0.6176470588235294\n",
      "Best_depth: 21\n"
     ]
    }
   ],
   "source": [
    "best_model_2 = None\n",
    "best_f1_2 = 0\n",
    "for depth_2 in range(1, 30):\n",
    "    model_2 = RandomForestClassifier(random_state=12345, n_estimators=47, max_depth=depth_2)\n",
    "    model_2.fit(features_train, target_train)\n",
    "    predictions_2 = model_2.predict(features_val)\n",
    "    f1_2 = f1_score(target_val, predictions_2)\n",
    "    if f1_2 > best_f1_2:\n",
    "        best_model_2 = model_2\n",
    "        best_f1_2 = f1_2\n",
    "        best_depth_2 = depth_2\n",
    "\n",
    "print('F1', best_f1_2)\n",
    "print('Best_depth:', best_depth_2)"
   ]
  },
  {
   "cell_type": "markdown",
   "metadata": {},
   "source": [
    "Лучшая модель случайного леса получилась с метрикой F1 равной 0,62"
   ]
  },
  {
   "cell_type": "markdown",
   "metadata": {},
   "source": [
    "### Логистическая регрессия (LogisticRegression)"
   ]
  },
  {
   "cell_type": "code",
   "execution_count": 16,
   "metadata": {},
   "outputs": [
    {
     "name": "stdout",
     "output_type": "stream",
     "text": [
      "F1: 0.30458715596330277\n"
     ]
    }
   ],
   "source": [
    "model_3 = LogisticRegression(random_state=12345)\n",
    "model_3.fit(features_train, target_train)\n",
    "predictions_3 = model_3.predict(features_val)\n",
    "f1_3 = f1_score(target_val, predictions_3)\n",
    "\n",
    "\n",
    "print('F1:', f1_3)"
   ]
  },
  {
   "cell_type": "markdown",
   "metadata": {},
   "source": [
    "Лучшая модель логистической регрессии получилась с метрикой F1 равной 0,30"
   ]
  },
  {
   "cell_type": "markdown",
   "metadata": {},
   "source": [
    "### Сравнение метрики AUC-ROC"
   ]
  },
  {
   "cell_type": "code",
   "execution_count": 17,
   "metadata": {},
   "outputs": [
    {
     "data": {
      "text/plain": [
       "0.8230390617302197"
      ]
     },
     "execution_count": 17,
     "metadata": {},
     "output_type": "execute_result"
    }
   ],
   "source": [
    "probabilities_tree = best_model_1.predict_proba(features_val)\n",
    "probabilities_one_valid_tree = probabilities_tree[:,1]\n",
    "fpr_tree, tpr_tree, thresholds = roc_curve(target_val, probabilities_one_valid_tree)\n",
    "auc_roc_tree = roc_auc_score(target_val,probabilities_one_valid_tree)\n",
    "auc_roc_tree"
   ]
  },
  {
   "cell_type": "code",
   "execution_count": 18,
   "metadata": {},
   "outputs": [
    {
     "data": {
      "text/plain": [
       "0.8631900310375407"
      ]
     },
     "execution_count": 18,
     "metadata": {},
     "output_type": "execute_result"
    }
   ],
   "source": [
    "probabilities_forest = best_model_2.predict_proba(features_val)\n",
    "probabilities_one_valid_forest = probabilities_forest[:,1]\n",
    "fpr_forest, tpr_forest, thresholds = roc_curve(target_val, probabilities_one_valid_forest)\n",
    "auc_roc_forest = roc_auc_score(target_val,probabilities_one_valid_forest)\n",
    "auc_roc_forest"
   ]
  },
  {
   "cell_type": "code",
   "execution_count": 19,
   "metadata": {},
   "outputs": [
    {
     "data": {
      "text/plain": [
       "0.7875698960488718"
      ]
     },
     "execution_count": 19,
     "metadata": {},
     "output_type": "execute_result"
    }
   ],
   "source": [
    "probabilities_log = model_3.predict_proba(features_val)\n",
    "probabilities_one_valid_log = probabilities_log[:,1]\n",
    "fpr_log, tpr_log, thresholds = roc_curve(target_val,probabilities_one_valid_log)\n",
    "auc_roc_log = roc_auc_score(target_val, probabilities_one_valid_log)\n",
    "auc_roc_log"
   ]
  },
  {
   "cell_type": "code",
   "execution_count": 20,
   "metadata": {},
   "outputs": [
    {
     "data": {
      "image/png": "[encoded data removed]",
      "text/plain": [
       "<Figure size 1080x576 with 1 Axes>"
      ]
     },
     "metadata": {},
     "output_type": "display_data"
    }
   ],
   "source": [
    "plt.figure(figsize=(15,8));\n",
    "plt.plot([0, 1], [0, 1], linestyle='--');\n",
    "plt.xlim([0.0, 1.0]);\n",
    "plt.ylim([0.0, 1.0]);\n",
    "plt.plot(fpr_forest, tpr_forest);\n",
    "plt.plot(fpr_log, tpr_log);\n",
    "plt.plot(fpr_tree, tpr_tree);\n",
    "plt.xlabel('False Positive Rate');\n",
    "plt.ylabel('True Positive Rate');\n",
    "plt.title('ROC-кривая');\n",
    "plt.legend(['Случайная модель', 'Случайный лес', 'Логистическая регрессия', 'Дерево решения'],\n",
    "           loc='upper left');"
   ]
  },
  {
   "cell_type": "markdown",
   "metadata": {},
   "source": [
    "### Выводы"
   ]
  },
  {
   "cell_type": "markdown",
   "metadata": {},
   "source": [
    "1. Лучший показатель метрики F1=0.62 у модели случайного леса.\n",
    "2. Лучший показатель метрики AUC-ROC=0.86 также у модели случайного леса."
   ]
  },
  {
   "cell_type": "markdown",
   "metadata": {},
   "source": [
    "## Борьба с дисбалансом"
   ]
  },
  {
   "cell_type": "markdown",
   "metadata": {},
   "source": [
    "### Функции для моделей "
   ]
  },
  {
   "cell_type": "markdown",
   "metadata": {},
   "source": [
    "При исследований различных методов борьбы с дисбалансом классов запишем функции для обучения разных моделей"
   ]
  },
  {
   "cell_type": "markdown",
   "metadata": {},
   "source": [
    "#### Функция дерево решений (DecisionTreeClassifier)"
   ]
  },
  {
   "cell_type": "code",
   "execution_count": 21,
   "metadata": {},
   "outputs": [],
   "source": [
    "def best_model_dt(features, target, class_weight=None):\n",
    "    best_model_dtc = None\n",
    "    best_f1_dtc = 0\n",
    "    for depth_dtc in range(1, 10):\n",
    "        model_dtc = DecisionTreeClassifier(random_state=12345, max_depth=depth_dtc, class_weight=class_weight)\n",
    "        model_dtc.fit(features, target)\n",
    "        predictions_dtc = model_dtc.predict(features_val)\n",
    "        f1_dtc = f1_score(target_val, predictions_dtc)\n",
    "        if f1_dtc > best_f1_dtc:\n",
    "            best_model_dtc = model_dtc\n",
    "            best_f1_dtc = f1_dtc\n",
    "        \n",
    "    print('F1 лучшей модели дерева решений:', best_f1_dtc)\n",
    "    \n",
    "    return best_model_dtc"
   ]
  },
  {
   "cell_type": "markdown",
   "metadata": {},
   "source": [
    "#### Случайный лес (RandomForestClassifier)"
   ]
  },
  {
   "cell_type": "code",
   "execution_count": 22,
   "metadata": {},
   "outputs": [],
   "source": [
    "def best_model_rfc(features, target, class_weight=None):\n",
    "    best_model_rfc = None\n",
    "    best_f1_rfc = 0\n",
    "    for depth_rfc in range(1, 30):\n",
    "        model_rfc = RandomForestClassifier(random_state=12345, n_estimators=38, max_depth=depth_rfc, class_weight=class_weight)\n",
    "        model_rfc.fit(features, target)\n",
    "        predictions_rfc = model_rfc.predict(features_val)\n",
    "        f1_rfc = f1_score(target_val, predictions_rfc)\n",
    "        if f1_rfc > best_f1_rfc:\n",
    "            best_model_rfc = model_rfc\n",
    "            best_f1_rfc = f1_rfc\n",
    "\n",
    "    print('F1 лучшей модели случайного леса:', best_f1_rfc)\n",
    "    \n",
    "    return best_model_rfc"
   ]
  },
  {
   "cell_type": "markdown",
   "metadata": {},
   "source": [
    "#### Логистическая регрессия (LogisticRegression)"
   ]
  },
  {
   "cell_type": "code",
   "execution_count": 23,
   "metadata": {},
   "outputs": [],
   "source": [
    "def model_log(features, target, class_weight=None):\n",
    "    model_log = LogisticRegression(random_state=12345, class_weight=class_weight, solver='liblinear')\n",
    "    model_log.fit(features, target)\n",
    "    predictions_log = model_log.predict(features_val)\n",
    "    f1_log = f1_score(target_val, predictions_log)\n",
    "\n",
    "    print('F1 логистической регрессии:', f1_log)\n",
    "    \n",
    "    return model_log"
   ]
  },
  {
   "cell_type": "markdown",
   "metadata": {},
   "source": [
    "#### Метрика AUC-ROC"
   ]
  },
  {
   "cell_type": "code",
   "execution_count": 24,
   "metadata": {},
   "outputs": [],
   "source": [
    "def auc_rc(best_model_auc_roc):\n",
    "    probabilities = best_model_auc_roc.predict_proba(features_val)\n",
    "    probabilities_one_valid = probabilities[:,1]\n",
    "    fpr, tpr, thresholds = roc_curve(target_val, probabilities_one_valid)\n",
    "    auc_roc = roc_auc_score(target_val,probabilities_one_valid)\n",
    "    \n",
    "    print(auc_roc)\n",
    "    \n",
    "    return fpr, tpr"
   ]
  },
  {
   "cell_type": "markdown",
   "metadata": {},
   "source": [
    "### Функция увеличения выборки (upsample)"
   ]
  },
  {
   "cell_type": "code",
   "execution_count": 25,
   "metadata": {},
   "outputs": [],
   "source": [
    "def upsample(features, target, repeat):\n",
    "    features_zeros = features[target == 0]\n",
    "    features_ones = features[target == 1]\n",
    "    target_zeros = target[target == 0]\n",
    "    target_ones = target[target == 1]\n",
    "\n",
    "    features_upsampled = pd.concat([features_zeros] + [features_ones] * repeat)\n",
    "    target_upsampled = pd.concat([target_zeros] + [target_ones] * repeat)\n",
    "    \n",
    "    features_upsampled, target_upsampled = shuffle(\n",
    "        features_upsampled, target_upsampled, random_state=12345)\n",
    "    \n",
    "    return features_upsampled, target_upsampled"
   ]
  },
  {
   "cell_type": "code",
   "execution_count": 26,
   "metadata": {},
   "outputs": [
    {
     "data": {
      "image/png": "[encoded data removed]",
      "text/plain": [
       "<Figure size 432x288 with 1 Axes>"
      ]
     },
     "metadata": {},
     "output_type": "display_data"
    }
   ],
   "source": [
    "features_up, target_up = upsample(features_train, target_train, 4)\n",
    "\n",
    "target_up.value_counts().plot(kind='bar', title='Распределение в целевом признаке для обучающей выборки');"
   ]
  },
  {
   "cell_type": "markdown",
   "metadata": {},
   "source": [
    "#### F1 по моделям"
   ]
  },
  {
   "cell_type": "code",
   "execution_count": 27,
   "metadata": {},
   "outputs": [
    {
     "name": "stdout",
     "output_type": "stream",
     "text": [
      "F1 лучшей модели дерева решений: 0.575925925925926\n"
     ]
    }
   ],
   "source": [
    "best_model_dt_up = best_model_dt(features_up, target_up)"
   ]
  },
  {
   "cell_type": "code",
   "execution_count": 28,
   "metadata": {},
   "outputs": [
    {
     "name": "stdout",
     "output_type": "stream",
     "text": [
      "F1 лучшей модели случайного леса: 0.6508620689655172\n"
     ]
    }
   ],
   "source": [
    "best_model_rfc_up = best_model_rfc(features_up, target_up)"
   ]
  },
  {
   "cell_type": "code",
   "execution_count": 29,
   "metadata": {},
   "outputs": [
    {
     "name": "stdout",
     "output_type": "stream",
     "text": [
      "F1 логистической регрессии: 0.5246753246753246\n"
     ]
    }
   ],
   "source": [
    "model_log_up = model_log(features_up, target_up)"
   ]
  },
  {
   "cell_type": "markdown",
   "metadata": {},
   "source": [
    "Лучший показатель F1 меры у модели случайного леса, он выше чем до учета дисбаланса примерно на 0.3"
   ]
  },
  {
   "cell_type": "markdown",
   "metadata": {},
   "source": [
    "#### AUC_ROC"
   ]
  },
  {
   "cell_type": "code",
   "execution_count": 30,
   "metadata": {},
   "outputs": [
    {
     "name": "stdout",
     "output_type": "stream",
     "text": [
      "AUC_ROC для дерева решений\n",
      "0.8233423551581437\n"
     ]
    }
   ],
   "source": [
    "print('AUC_ROC для дерева решений')\n",
    "fpr_dt_up, tpr_dt_up = auc_rc(best_model_dt_up)"
   ]
  },
  {
   "cell_type": "code",
   "execution_count": 31,
   "metadata": {},
   "outputs": [
    {
     "name": "stdout",
     "output_type": "stream",
     "text": [
      "AUC_ROC для случайного леса\n",
      "0.8657965070450292\n"
     ]
    }
   ],
   "source": [
    "print('AUC_ROC для случайного леса')\n",
    "fpr_rfc_up, tpr_rfc_up = auc_rc(best_model_rfc_up)"
   ]
  },
  {
   "cell_type": "code",
   "execution_count": 32,
   "metadata": {},
   "outputs": [
    {
     "name": "stdout",
     "output_type": "stream",
     "text": [
      "AUC_ROC для логистической регрессии\n",
      "0.7937774041777517\n"
     ]
    }
   ],
   "source": [
    "print('AUC_ROC для логистической регрессии')\n",
    "fpr_log_up, tpr_log_up = auc_rc(model_log_up)"
   ]
  },
  {
   "cell_type": "code",
   "execution_count": 33,
   "metadata": {},
   "outputs": [
    {
     "data": {
      "image/png": "[encoded data removed]",
      "text/plain": [
       "<Figure size 1080x576 with 1 Axes>"
      ]
     },
     "metadata": {},
     "output_type": "display_data"
    }
   ],
   "source": [
    "plt.figure(figsize=(15,8));\n",
    "plt.plot([0, 1], [0, 1], linestyle='--');\n",
    "plt.xlim([0.0, 1.0]);\n",
    "plt.ylim([0.0, 1.0]);\n",
    "plt.plot(fpr_rfc_up, tpr_rfc_up);\n",
    "plt.plot(fpr_log_up, tpr_log_up);\n",
    "plt.plot(fpr_dt_up, tpr_dt_up);\n",
    "plt.xlabel('False Positive Rate');\n",
    "plt.ylabel('True Positive Rate');\n",
    "plt.title('ROC-кривая');\n",
    "plt.legend(['Случайная модель', 'Случайный лес', 'Логистическая регрессия', 'Дерево решения'],\n",
    "           loc='upper left');"
   ]
  },
  {
   "cell_type": "markdown",
   "metadata": {},
   "source": [
    "Метрика AUC_ROC почти не изменилась."
   ]
  },
  {
   "cell_type": "markdown",
   "metadata": {},
   "source": [
    "### Функция уменьшения выборки (downsample)"
   ]
  },
  {
   "cell_type": "code",
   "execution_count": 34,
   "metadata": {},
   "outputs": [],
   "source": [
    "def downsample(features, target, fraction):\n",
    "    features_zeros = features[target == 0]\n",
    "    features_ones = features[target == 1]\n",
    "    target_zeros = target[target == 0]\n",
    "    target_ones = target[target == 1]\n",
    "\n",
    "    features_downsampled = pd.concat(\n",
    "        [features_zeros.sample(frac=fraction, random_state=12345)] + [features_ones])\n",
    "    target_downsampled = pd.concat(\n",
    "        [target_zeros.sample(frac=fraction, random_state=12345)] + [target_ones])\n",
    "    \n",
    "    features_downsampled, target_downsampled = shuffle(\n",
    "        features_downsampled, target_downsampled, random_state=12345)\n",
    "    \n",
    "    return features_downsampled, target_downsampled"
   ]
  },
  {
   "cell_type": "code",
   "execution_count": 35,
   "metadata": {},
   "outputs": [
    {
     "data": {
      "image/png": "[encoded data removed]",
      "text/plain": [
       "<Figure size 432x288 with 1 Axes>"
      ]
     },
     "metadata": {},
     "output_type": "display_data"
    }
   ],
   "source": [
    "features_down, target_down = downsample(features_train, target_train, 0.25)\n",
    "\n",
    "target_down.value_counts().plot(kind='bar', title='Распределение в целевом признаке для обучающей выборки');"
   ]
  },
  {
   "cell_type": "markdown",
   "metadata": {},
   "source": [
    "#### F1 по моделям"
   ]
  },
  {
   "cell_type": "code",
   "execution_count": 36,
   "metadata": {},
   "outputs": [
    {
     "name": "stdout",
     "output_type": "stream",
     "text": [
      "F1 лучшей модели дерева решений: 0.5944919278252612\n"
     ]
    }
   ],
   "source": [
    "best_model_dt_down = best_model_dt(features_down, target_down)"
   ]
  },
  {
   "cell_type": "code",
   "execution_count": 37,
   "metadata": {},
   "outputs": [
    {
     "name": "stdout",
     "output_type": "stream",
     "text": [
      "F1 лучшей модели случайного леса: 0.6366251198465964\n"
     ]
    }
   ],
   "source": [
    "best_model_rfc_down = best_model_rfc(features_down, target_down)"
   ]
  },
  {
   "cell_type": "code",
   "execution_count": 38,
   "metadata": {},
   "outputs": [
    {
     "name": "stdout",
     "output_type": "stream",
     "text": [
      "F1 логистической регрессии: 0.5275862068965517\n"
     ]
    }
   ],
   "source": [
    "model_log_down = model_log(features_down, target_down)"
   ]
  },
  {
   "cell_type": "markdown",
   "metadata": {},
   "source": [
    "Лучший показатель F1 меры у модели случайного леса, но немного ниже, чем у метода upsample"
   ]
  },
  {
   "cell_type": "markdown",
   "metadata": {},
   "source": [
    "#### Метрика AUC-ROC"
   ]
  },
  {
   "cell_type": "code",
   "execution_count": 39,
   "metadata": {},
   "outputs": [
    {
     "name": "stdout",
     "output_type": "stream",
     "text": [
      "AUC_ROC для дерева решений\n",
      "0.8477767206128681\n"
     ]
    }
   ],
   "source": [
    "print('AUC_ROC для дерева решений')\n",
    "fpr_dt_down, tpr_dt_down = auc_rc(best_model_dt_down)"
   ]
  },
  {
   "cell_type": "code",
   "execution_count": 40,
   "metadata": {},
   "outputs": [
    {
     "name": "stdout",
     "output_type": "stream",
     "text": [
      "AUC_ROC для случайного леса\n",
      "0.8679195610404966\n"
     ]
    }
   ],
   "source": [
    "print('AUC_ROC для случайного леса')\n",
    "fpr_rfc_down, tpr_rfc_down = auc_rc(best_model_rfc_down)"
   ]
  },
  {
   "cell_type": "code",
   "execution_count": 41,
   "metadata": {},
   "outputs": [
    {
     "name": "stdout",
     "output_type": "stream",
     "text": [
      "AUC_ROC для логистической регрессии\n",
      "0.7926027194797518\n"
     ]
    }
   ],
   "source": [
    "print('AUC_ROC для логистической регрессии')\n",
    "fpr_log_down, tpr_log_down = auc_rc(model_log_down)"
   ]
  },
  {
   "cell_type": "code",
   "execution_count": 42,
   "metadata": {},
   "outputs": [
    {
     "data": {
      "image/png": "[encoded data removed]",
      "text/plain": [
       "<Figure size 1080x576 with 1 Axes>"
      ]
     },
     "metadata": {},
     "output_type": "display_data"
    }
   ],
   "source": [
    "plt.figure(figsize=(15,8));\n",
    "plt.plot([0, 1], [0, 1], linestyle='--');\n",
    "plt.xlim([0.0, 1.0]);\n",
    "plt.ylim([0.0, 1.0]);\n",
    "plt.plot(fpr_rfc_down, tpr_rfc_down);\n",
    "plt.plot(fpr_log_down, tpr_log_down);\n",
    "plt.plot(fpr_dt_down, tpr_dt_down);\n",
    "plt.xlabel('False Positive Rate');\n",
    "plt.ylabel('True Positive Rate');\n",
    "plt.title('ROC-кривая');\n",
    "plt.legend(['Случайная модель', 'Случайный лес', 'Логистическая регрессия', 'Дерево решения'],\n",
    "           loc='upper left');"
   ]
  },
  {
   "cell_type": "markdown",
   "metadata": {},
   "source": [
    "Метрика AUC_ROC почти не изменилась."
   ]
  },
  {
   "cell_type": "markdown",
   "metadata": {},
   "source": [
    "### Использование взвешивание классов"
   ]
  },
  {
   "cell_type": "markdown",
   "metadata": {},
   "source": [
    "#### F1 по моделям"
   ]
  },
  {
   "cell_type": "code",
   "execution_count": 45,
   "metadata": {},
   "outputs": [
    {
     "name": "stdout",
     "output_type": "stream",
     "text": [
      "F1 лучшей модели дерева решений: 0.575925925925926\n"
     ]
    }
   ],
   "source": [
    "best_model_dt_bal = best_model_dt(features_train, target_train, 'balanced')"
   ]
  },
  {
   "cell_type": "code",
   "execution_count": 46,
   "metadata": {},
   "outputs": [
    {
     "name": "stdout",
     "output_type": "stream",
     "text": [
      "F1 лучшей модели случайного леса: 0.6454545454545454\n"
     ]
    }
   ],
   "source": [
    "best_model_rfc_bal = best_model_rfc(features_train, target_train, 'balanced')"
   ]
  },
  {
   "cell_type": "code",
   "execution_count": 47,
   "metadata": {},
   "outputs": [
    {
     "name": "stdout",
     "output_type": "stream",
     "text": [
      "F1 логистической регрессии: 0.5289982425307558\n"
     ]
    }
   ],
   "source": [
    "model_log_bal = model_log(features_train, target_train, 'balanced')"
   ]
  },
  {
   "cell_type": "markdown",
   "metadata": {},
   "source": [
    "Лучший показатель F1 меры у модели случайного леса, но немного ниже, чем у метода upsample"
   ]
  },
  {
   "cell_type": "markdown",
   "metadata": {},
   "source": [
    "#### Метрика AUC-ROC"
   ]
  },
  {
   "cell_type": "code",
   "execution_count": 48,
   "metadata": {},
   "outputs": [
    {
     "name": "stdout",
     "output_type": "stream",
     "text": [
      "AUC_ROC для дерева решений\n",
      "0.8233269595526653\n"
     ]
    }
   ],
   "source": [
    "print('AUC_ROC для дерева решений')\n",
    "fpr_dt_bal, tpr_dt_bal = auc_rc(best_model_dt_bal)"
   ]
  },
  {
   "cell_type": "code",
   "execution_count": 49,
   "metadata": {},
   "outputs": [
    {
     "name": "stdout",
     "output_type": "stream",
     "text": [
      "AUC_ROC для случайного леса\n",
      "0.8711156887378066\n"
     ]
    }
   ],
   "source": [
    "print('AUC_ROC для случайного леса')\n",
    "fpr_rfc_bal, tpr_rfc_bal = auc_rc(best_model_rfc_bal)"
   ]
  },
  {
   "cell_type": "code",
   "execution_count": 50,
   "metadata": {},
   "outputs": [
    {
     "name": "stdout",
     "output_type": "stream",
     "text": [
      "AUC_ROC для логистической регрессии\n",
      "0.7937004261503596\n"
     ]
    }
   ],
   "source": [
    "print('AUC_ROC для логистической регрессии')\n",
    "fpr_log_bal, tpr_log_bal = auc_rc(model_log_bal)"
   ]
  },
  {
   "cell_type": "code",
   "execution_count": 51,
   "metadata": {},
   "outputs": [
    {
     "data": {
      "image/png": "[encoded data removed]",
      "text/plain": [
       "<Figure size 1080x576 with 1 Axes>"
      ]
     },
     "metadata": {},
     "output_type": "display_data"
    }
   ],
   "source": [
    "plt.figure(figsize=(15,8));\n",
    "plt.plot([0, 1], [0, 1], linestyle='--');\n",
    "plt.xlim([0.0, 1.0]);\n",
    "plt.ylim([0.0, 1.0]);\n",
    "plt.plot(fpr_rfc_bal, tpr_rfc_bal);\n",
    "plt.plot(fpr_log_bal, tpr_log_bal);\n",
    "plt.plot(fpr_dt_bal, tpr_dt_bal);\n",
    "plt.xlabel('False Positive Rate');\n",
    "plt.ylabel('True Positive Rate');\n",
    "plt.title('ROC-кривая');\n",
    "plt.legend(['Случайная модель', 'Случайный лес', 'Логистическая регрессия', 'Дерево решения'],\n",
    "           loc='upper left');"
   ]
  },
  {
   "cell_type": "markdown",
   "metadata": {},
   "source": [
    "Метрика AUC_ROC почти не изменилась"
   ]
  },
  {
   "cell_type": "markdown",
   "metadata": {},
   "source": [
    "### Выводы"
   ]
  },
  {
   "cell_type": "markdown",
   "metadata": {},
   "source": [
    "1. Лучшая модель это случайный лес с метрикой F1=0.65, при использовании метода upsample\n",
    "2. Метрика AUC-ROC почти не изменилась, различия не более 0.1\n",
    "3. Для тестирования будем использовать модель best_model_rfc_up"
   ]
  },
  {
   "cell_type": "markdown",
   "metadata": {},
   "source": [
    "## Тестирование модели"
   ]
  },
  {
   "cell_type": "code",
   "execution_count": 52,
   "metadata": {},
   "outputs": [
    {
     "data": {
      "text/plain": [
       "0.6006528835690967"
      ]
     },
     "execution_count": 52,
     "metadata": {},
     "output_type": "execute_result"
    }
   ],
   "source": [
    "predictions_final = best_model_rfc_up.predict(features_test)\n",
    "f1_final = f1_score(target_test, predictions_final)\n",
    "f1_final"
   ]
  },
  {
   "cell_type": "markdown",
   "metadata": {},
   "source": [
    "На тестовой выборке метрика F1 получилась чусть выше 0.60, необходимый порог был достигнут."
   ]
  }
 ],
 "metadata": {
  "ExecuteTimeLog": [
   {
    "duration": 44,
    "start_time": "2023-07-20T06:58:15.157Z"
   },
   {
    "duration": 347,
    "start_time": "2023-07-20T06:58:17.589Z"
   },
   {
    "duration": 79,
    "start_time": "2023-07-20T06:58:19.155Z"
   },
   {
    "duration": 56,
    "start_time": "2023-07-20T06:58:27.837Z"
   },
   {
    "duration": 11,
    "start_time": "2023-07-20T08:45:15.355Z"
   },
   {
    "duration": 1346,
    "start_time": "2023-07-20T08:46:31.471Z"
   },
   {
    "duration": 132,
    "start_time": "2023-07-20T08:46:33.319Z"
   },
   {
    "duration": 13,
    "start_time": "2023-07-20T08:46:35.656Z"
   },
   {
    "duration": 6,
    "start_time": "2023-07-20T08:48:04.817Z"
   },
   {
    "duration": 4,
    "start_time": "2023-07-20T08:52:57.230Z"
   },
   {
    "duration": 308,
    "start_time": "2023-07-20T08:52:59.221Z"
   },
   {
    "duration": 98,
    "start_time": "2023-07-20T08:53:06.455Z"
   },
   {
    "duration": 11,
    "start_time": "2023-07-20T08:53:08.407Z"
   },
   {
    "duration": 8,
    "start_time": "2023-07-20T09:03:35.401Z"
   },
   {
    "duration": 14,
    "start_time": "2023-07-20T09:03:48.080Z"
   },
   {
    "duration": 14,
    "start_time": "2023-07-20T09:25:54.655Z"
   },
   {
    "duration": 148,
    "start_time": "2023-07-20T09:37:56.738Z"
   },
   {
    "duration": 105,
    "start_time": "2023-07-20T09:38:06.016Z"
   },
   {
    "duration": 320,
    "start_time": "2023-07-20T10:16:59.849Z"
   },
   {
    "duration": 15,
    "start_time": "2023-07-20T10:17:09.263Z"
   },
   {
    "duration": 15,
    "start_time": "2023-07-20T10:22:01.550Z"
   },
   {
    "duration": 520,
    "start_time": "2023-07-20T10:24:08.747Z"
   },
   {
    "duration": 2633,
    "start_time": "2023-07-20T11:01:18.203Z"
   },
   {
    "duration": 25,
    "start_time": "2023-07-20T11:01:39.569Z"
   },
   {
    "duration": 19,
    "start_time": "2023-07-20T11:05:09.301Z"
   },
   {
    "duration": 1505,
    "start_time": "2023-07-20T11:09:28.408Z"
   },
   {
    "duration": 88,
    "start_time": "2023-07-20T11:09:29.915Z"
   },
   {
    "duration": 17,
    "start_time": "2023-07-20T11:09:30.006Z"
   },
   {
    "duration": 58,
    "start_time": "2023-07-20T11:09:30.028Z"
   },
   {
    "duration": 26,
    "start_time": "2023-07-20T11:09:30.089Z"
   },
   {
    "duration": 1663,
    "start_time": "2023-07-20T11:12:31.437Z"
   },
   {
    "duration": 107,
    "start_time": "2023-07-20T11:12:33.103Z"
   },
   {
    "duration": 16,
    "start_time": "2023-07-20T11:12:33.212Z"
   },
   {
    "duration": 19,
    "start_time": "2023-07-20T11:12:33.230Z"
   },
   {
    "duration": 141,
    "start_time": "2023-07-20T12:01:00.932Z"
   },
   {
    "duration": 10,
    "start_time": "2023-07-20T12:01:16.132Z"
   },
   {
    "duration": 9,
    "start_time": "2023-07-20T12:01:40.409Z"
   },
   {
    "duration": 9,
    "start_time": "2023-07-20T12:01:46.732Z"
   },
   {
    "duration": 10,
    "start_time": "2023-07-20T12:01:58.162Z"
   },
   {
    "duration": 147,
    "start_time": "2023-07-20T12:03:02.093Z"
   },
   {
    "duration": 116,
    "start_time": "2023-07-20T12:03:31.391Z"
   },
   {
    "duration": 137,
    "start_time": "2023-07-20T12:03:39.782Z"
   },
   {
    "duration": 11,
    "start_time": "2023-07-20T12:03:59.367Z"
   },
   {
    "duration": 13,
    "start_time": "2023-07-20T12:04:18.210Z"
   },
   {
    "duration": 10,
    "start_time": "2023-07-20T12:04:19.035Z"
   },
   {
    "duration": 5,
    "start_time": "2023-07-20T12:04:32.272Z"
   },
   {
    "duration": 12,
    "start_time": "2023-07-20T12:05:01.282Z"
   },
   {
    "duration": 11,
    "start_time": "2023-07-20T12:05:02.366Z"
   },
   {
    "duration": 119,
    "start_time": "2023-07-20T12:05:11.493Z"
   },
   {
    "duration": 145,
    "start_time": "2023-07-20T12:05:17.537Z"
   },
   {
    "duration": 24,
    "start_time": "2023-07-20T12:27:17.279Z"
   },
   {
    "duration": 107,
    "start_time": "2023-07-20T12:29:40.115Z"
   },
   {
    "duration": 45,
    "start_time": "2023-07-20T12:30:57.805Z"
   },
   {
    "duration": 42,
    "start_time": "2023-07-20T12:31:17.709Z"
   },
   {
    "duration": 47,
    "start_time": "2023-07-20T12:31:21.222Z"
   },
   {
    "duration": 17,
    "start_time": "2023-07-20T12:32:14.305Z"
   },
   {
    "duration": 18,
    "start_time": "2023-07-20T12:32:34.072Z"
   },
   {
    "duration": 20,
    "start_time": "2023-07-20T12:32:36.220Z"
   },
   {
    "duration": 16,
    "start_time": "2023-07-20T12:32:36.920Z"
   },
   {
    "duration": 16,
    "start_time": "2023-07-20T12:32:57.533Z"
   },
   {
    "duration": 28,
    "start_time": "2023-07-20T12:33:52.554Z"
   },
   {
    "duration": 22,
    "start_time": "2023-07-20T12:35:06.504Z"
   },
   {
    "duration": 2046,
    "start_time": "2023-07-20T14:50:08.892Z"
   },
   {
    "duration": 15,
    "start_time": "2023-07-20T14:51:04.651Z"
   },
   {
    "duration": 1844,
    "start_time": "2023-07-20T14:51:19.270Z"
   },
   {
    "duration": 1919,
    "start_time": "2023-07-20T14:52:05.764Z"
   },
   {
    "duration": 15,
    "start_time": "2023-07-20T14:52:15.174Z"
   },
   {
    "duration": 29,
    "start_time": "2023-07-20T14:52:27.228Z"
   },
   {
    "duration": 1901,
    "start_time": "2023-07-20T14:52:51.905Z"
   },
   {
    "duration": 210,
    "start_time": "2023-07-20T14:52:53.808Z"
   },
   {
    "duration": 18,
    "start_time": "2023-07-20T14:52:54.020Z"
   },
   {
    "duration": 48,
    "start_time": "2023-07-20T14:52:54.041Z"
   },
   {
    "duration": 34,
    "start_time": "2023-07-20T14:52:54.092Z"
   },
   {
    "duration": 179,
    "start_time": "2023-07-20T14:52:54.128Z"
   },
   {
    "duration": 34,
    "start_time": "2023-07-20T14:52:54.309Z"
   },
   {
    "duration": 211,
    "start_time": "2023-07-20T14:56:26.866Z"
   },
   {
    "duration": 1609,
    "start_time": "2023-07-20T14:57:04.136Z"
   },
   {
    "duration": 1576,
    "start_time": "2023-07-20T14:57:32.084Z"
   },
   {
    "duration": 114,
    "start_time": "2023-07-20T14:57:33.662Z"
   },
   {
    "duration": 18,
    "start_time": "2023-07-20T14:57:33.778Z"
   },
   {
    "duration": 120,
    "start_time": "2023-07-20T14:57:33.798Z"
   },
   {
    "duration": 0,
    "start_time": "2023-07-20T14:57:33.920Z"
   },
   {
    "duration": 0,
    "start_time": "2023-07-20T14:57:33.921Z"
   },
   {
    "duration": 0,
    "start_time": "2023-07-20T14:57:33.922Z"
   },
   {
    "duration": 1479,
    "start_time": "2023-07-20T14:58:40.426Z"
   },
   {
    "duration": 117,
    "start_time": "2023-07-20T14:58:41.908Z"
   },
   {
    "duration": 14,
    "start_time": "2023-07-20T14:58:42.027Z"
   },
   {
    "duration": 16,
    "start_time": "2023-07-20T14:58:42.044Z"
   },
   {
    "duration": 20,
    "start_time": "2023-07-20T14:58:42.062Z"
   },
   {
    "duration": 166,
    "start_time": "2023-07-20T14:58:42.085Z"
   },
   {
    "duration": 25,
    "start_time": "2023-07-20T14:58:42.253Z"
   },
   {
    "duration": 3419,
    "start_time": "2023-07-20T15:00:29.631Z"
   },
   {
    "duration": 2143,
    "start_time": "2023-07-20T15:01:00.888Z"
   },
   {
    "duration": 1737,
    "start_time": "2023-07-20T15:01:36.252Z"
   },
   {
    "duration": 1457,
    "start_time": "2023-07-20T15:01:59.637Z"
   },
   {
    "duration": 123,
    "start_time": "2023-07-20T15:02:01.096Z"
   },
   {
    "duration": 16,
    "start_time": "2023-07-20T15:02:01.222Z"
   },
   {
    "duration": 282,
    "start_time": "2023-07-20T15:02:01.242Z"
   },
   {
    "duration": 0,
    "start_time": "2023-07-20T15:02:01.526Z"
   },
   {
    "duration": 0,
    "start_time": "2023-07-20T15:02:01.532Z"
   },
   {
    "duration": 0,
    "start_time": "2023-07-20T15:02:01.534Z"
   },
   {
    "duration": 22,
    "start_time": "2023-07-20T15:02:20.255Z"
   },
   {
    "duration": 1852,
    "start_time": "2023-07-20T15:02:27.816Z"
   },
   {
    "duration": 107,
    "start_time": "2023-07-20T15:02:29.671Z"
   },
   {
    "duration": 19,
    "start_time": "2023-07-20T15:02:29.780Z"
   },
   {
    "duration": 34,
    "start_time": "2023-07-20T15:02:29.801Z"
   },
   {
    "duration": 26,
    "start_time": "2023-07-20T15:02:29.838Z"
   },
   {
    "duration": 187,
    "start_time": "2023-07-20T15:02:29.866Z"
   },
   {
    "duration": 0,
    "start_time": "2023-07-20T15:02:30.055Z"
   },
   {
    "duration": 180,
    "start_time": "2023-07-20T15:02:42.407Z"
   },
   {
    "duration": 26,
    "start_time": "2023-07-20T15:03:00.211Z"
   },
   {
    "duration": 24,
    "start_time": "2023-07-20T15:10:18.522Z"
   },
   {
    "duration": 22,
    "start_time": "2023-07-20T15:12:55.604Z"
   },
   {
    "duration": 1598,
    "start_time": "2023-07-21T07:12:55.638Z"
   },
   {
    "duration": 89,
    "start_time": "2023-07-21T07:12:57.239Z"
   },
   {
    "duration": 13,
    "start_time": "2023-07-21T07:12:57.330Z"
   },
   {
    "duration": 21,
    "start_time": "2023-07-21T07:12:57.345Z"
   },
   {
    "duration": 16,
    "start_time": "2023-07-21T07:12:57.368Z"
   },
   {
    "duration": 17,
    "start_time": "2023-07-21T07:12:57.399Z"
   },
   {
    "duration": 137,
    "start_time": "2023-07-21T07:12:57.417Z"
   },
   {
    "duration": 0,
    "start_time": "2023-07-21T07:12:57.556Z"
   },
   {
    "duration": 26,
    "start_time": "2023-07-21T07:13:52.944Z"
   },
   {
    "duration": 44,
    "start_time": "2023-07-21T07:14:34.508Z"
   },
   {
    "duration": 1280,
    "start_time": "2023-07-21T07:15:12.535Z"
   },
   {
    "duration": 3,
    "start_time": "2023-07-21T07:15:13.816Z"
   },
   {
    "duration": 88,
    "start_time": "2023-07-21T07:15:13.820Z"
   },
   {
    "duration": 10,
    "start_time": "2023-07-21T07:15:13.910Z"
   },
   {
    "duration": 33,
    "start_time": "2023-07-21T07:15:13.922Z"
   },
   {
    "duration": 36,
    "start_time": "2023-07-21T07:15:13.956Z"
   },
   {
    "duration": 23,
    "start_time": "2023-07-21T07:15:13.993Z"
   },
   {
    "duration": 57,
    "start_time": "2023-07-21T07:15:14.017Z"
   },
   {
    "duration": 105,
    "start_time": "2023-07-21T07:15:14.075Z"
   },
   {
    "duration": 32,
    "start_time": "2023-07-21T07:16:04.599Z"
   },
   {
    "duration": 28,
    "start_time": "2023-07-21T07:16:39.214Z"
   },
   {
    "duration": 29,
    "start_time": "2023-07-21T07:17:00.075Z"
   },
   {
    "duration": 107,
    "start_time": "2023-07-21T07:36:03.457Z"
   },
   {
    "duration": 134,
    "start_time": "2023-07-21T08:35:18.535Z"
   },
   {
    "duration": 1330,
    "start_time": "2023-07-21T08:35:31.919Z"
   },
   {
    "duration": 3,
    "start_time": "2023-07-21T08:35:33.251Z"
   },
   {
    "duration": 218,
    "start_time": "2023-07-21T08:35:33.255Z"
   },
   {
    "duration": 18,
    "start_time": "2023-07-21T08:35:33.474Z"
   },
   {
    "duration": 17,
    "start_time": "2023-07-21T08:35:33.495Z"
   },
   {
    "duration": 20,
    "start_time": "2023-07-21T08:35:33.513Z"
   },
   {
    "duration": 19,
    "start_time": "2023-07-21T08:35:33.535Z"
   },
   {
    "duration": 53,
    "start_time": "2023-07-21T08:35:33.557Z"
   },
   {
    "duration": 124,
    "start_time": "2023-07-21T08:35:33.611Z"
   },
   {
    "duration": 84,
    "start_time": "2023-07-21T08:35:33.737Z"
   },
   {
    "duration": 2321,
    "start_time": "2023-07-21T08:35:33.824Z"
   },
   {
    "duration": 261,
    "start_time": "2023-07-21T08:35:36.147Z"
   },
   {
    "duration": 125,
    "start_time": "2023-07-21T08:56:57.043Z"
   },
   {
    "duration": 87,
    "start_time": "2023-07-21T08:57:05.572Z"
   },
   {
    "duration": 9298,
    "start_time": "2023-07-21T08:59:27.750Z"
   },
   {
    "duration": 184,
    "start_time": "2023-07-21T09:00:19.188Z"
   },
   {
    "duration": 406,
    "start_time": "2023-07-21T09:00:27.800Z"
   },
   {
    "duration": 203,
    "start_time": "2023-07-21T09:00:33.826Z"
   },
   {
    "duration": 9141,
    "start_time": "2023-07-21T09:01:53.522Z"
   },
   {
    "duration": 13690,
    "start_time": "2023-07-21T09:02:28.472Z"
   },
   {
    "duration": 463,
    "start_time": "2023-07-21T09:03:49.943Z"
   },
   {
    "duration": 467,
    "start_time": "2023-07-21T09:04:07.956Z"
   },
   {
    "duration": 2159,
    "start_time": "2023-07-21T09:04:18.910Z"
   },
   {
    "duration": 2484,
    "start_time": "2023-07-21T09:05:17.094Z"
   },
   {
    "duration": 2696,
    "start_time": "2023-07-21T09:05:29.950Z"
   },
   {
    "duration": 1810,
    "start_time": "2023-07-21T09:05:40.796Z"
   },
   {
    "duration": 1501,
    "start_time": "2023-07-21T09:05:48.626Z"
   },
   {
    "duration": 2055,
    "start_time": "2023-07-21T09:05:54.379Z"
   },
   {
    "duration": 2099,
    "start_time": "2023-07-21T09:06:01.576Z"
   },
   {
    "duration": 2125,
    "start_time": "2023-07-21T09:06:08.526Z"
   },
   {
    "duration": 2152,
    "start_time": "2023-07-21T09:06:14.271Z"
   },
   {
    "duration": 2118,
    "start_time": "2023-07-21T09:06:19.540Z"
   },
   {
    "duration": 2576,
    "start_time": "2023-07-21T09:06:26.886Z"
   },
   {
    "duration": 5339,
    "start_time": "2023-07-21T09:06:36.323Z"
   },
   {
    "duration": 1112,
    "start_time": "2023-07-21T09:06:49.154Z"
   },
   {
    "duration": 1973,
    "start_time": "2023-07-21T09:06:56.179Z"
   },
   {
    "duration": 8960,
    "start_time": "2023-07-21T09:07:11.727Z"
   },
   {
    "duration": 82,
    "start_time": "2023-07-21T09:07:43.934Z"
   },
   {
    "duration": 145,
    "start_time": "2023-07-21T09:08:40.773Z"
   },
   {
    "duration": 895,
    "start_time": "2023-07-21T09:12:26.374Z"
   },
   {
    "duration": 153,
    "start_time": "2023-07-21T09:12:31.915Z"
   },
   {
    "duration": 8595,
    "start_time": "2023-07-21T09:12:34.351Z"
   },
   {
    "duration": 8,
    "start_time": "2023-07-21T09:19:13.319Z"
   },
   {
    "duration": 1373,
    "start_time": "2023-07-21T09:19:21.337Z"
   },
   {
    "duration": 8,
    "start_time": "2023-07-21T09:19:22.712Z"
   },
   {
    "duration": 119,
    "start_time": "2023-07-21T09:19:22.721Z"
   },
   {
    "duration": 12,
    "start_time": "2023-07-21T09:19:22.841Z"
   },
   {
    "duration": 20,
    "start_time": "2023-07-21T09:19:22.856Z"
   },
   {
    "duration": 45,
    "start_time": "2023-07-21T09:19:22.878Z"
   },
   {
    "duration": 19,
    "start_time": "2023-07-21T09:19:22.926Z"
   },
   {
    "duration": 38,
    "start_time": "2023-07-21T09:19:22.947Z"
   },
   {
    "duration": 137,
    "start_time": "2023-07-21T09:19:22.987Z"
   },
   {
    "duration": 198,
    "start_time": "2023-07-21T09:19:23.127Z"
   },
   {
    "duration": 9440,
    "start_time": "2023-07-21T09:19:23.328Z"
   },
   {
    "duration": 435,
    "start_time": "2023-07-21T09:19:32.769Z"
   },
   {
    "duration": 131,
    "start_time": "2023-07-21T09:26:41.951Z"
   },
   {
    "duration": 25,
    "start_time": "2023-07-21T09:27:27.990Z"
   },
   {
    "duration": 32,
    "start_time": "2023-07-21T09:27:44.496Z"
   },
   {
    "duration": 24,
    "start_time": "2023-07-21T09:27:59.625Z"
   },
   {
    "duration": 2532,
    "start_time": "2023-07-21T09:28:20.226Z"
   },
   {
    "duration": 3,
    "start_time": "2023-07-21T09:28:22.760Z"
   },
   {
    "duration": 196,
    "start_time": "2023-07-21T09:28:22.764Z"
   },
   {
    "duration": 17,
    "start_time": "2023-07-21T09:28:22.961Z"
   },
   {
    "duration": 889,
    "start_time": "2023-07-21T09:28:22.980Z"
   },
   {
    "duration": 0,
    "start_time": "2023-07-21T09:28:23.871Z"
   },
   {
    "duration": 0,
    "start_time": "2023-07-21T09:28:23.873Z"
   },
   {
    "duration": 0,
    "start_time": "2023-07-21T09:28:23.874Z"
   },
   {
    "duration": 0,
    "start_time": "2023-07-21T09:28:23.875Z"
   },
   {
    "duration": 0,
    "start_time": "2023-07-21T09:28:23.876Z"
   },
   {
    "duration": 0,
    "start_time": "2023-07-21T09:28:23.878Z"
   },
   {
    "duration": 0,
    "start_time": "2023-07-21T09:28:23.878Z"
   },
   {
    "duration": 1839,
    "start_time": "2023-07-21T09:29:21.823Z"
   },
   {
    "duration": 3,
    "start_time": "2023-07-21T09:29:23.664Z"
   },
   {
    "duration": 187,
    "start_time": "2023-07-21T09:29:23.669Z"
   },
   {
    "duration": 43,
    "start_time": "2023-07-21T09:29:23.860Z"
   },
   {
    "duration": 412,
    "start_time": "2023-07-21T09:29:23.905Z"
   },
   {
    "duration": 0,
    "start_time": "2023-07-21T09:29:24.323Z"
   },
   {
    "duration": 0,
    "start_time": "2023-07-21T09:29:24.324Z"
   },
   {
    "duration": 0,
    "start_time": "2023-07-21T09:29:24.325Z"
   },
   {
    "duration": 0,
    "start_time": "2023-07-21T09:29:24.326Z"
   },
   {
    "duration": 0,
    "start_time": "2023-07-21T09:29:24.328Z"
   },
   {
    "duration": 0,
    "start_time": "2023-07-21T09:29:24.329Z"
   },
   {
    "duration": 0,
    "start_time": "2023-07-21T09:29:24.331Z"
   },
   {
    "duration": 1064,
    "start_time": "2023-07-21T09:30:09.225Z"
   },
   {
    "duration": 542,
    "start_time": "2023-07-21T09:30:39.359Z"
   },
   {
    "duration": 27,
    "start_time": "2023-07-21T09:30:48.794Z"
   },
   {
    "duration": 25,
    "start_time": "2023-07-21T09:30:56.537Z"
   },
   {
    "duration": 1592,
    "start_time": "2023-07-21T09:31:04.740Z"
   },
   {
    "duration": 3,
    "start_time": "2023-07-21T09:31:06.334Z"
   },
   {
    "duration": 310,
    "start_time": "2023-07-21T09:31:06.338Z"
   },
   {
    "duration": 80,
    "start_time": "2023-07-21T09:31:06.650Z"
   },
   {
    "duration": 109,
    "start_time": "2023-07-21T09:31:06.737Z"
   },
   {
    "duration": 117,
    "start_time": "2023-07-21T09:31:06.848Z"
   },
   {
    "duration": 90,
    "start_time": "2023-07-21T09:31:06.967Z"
   },
   {
    "duration": 353,
    "start_time": "2023-07-21T09:31:07.058Z"
   },
   {
    "duration": 0,
    "start_time": "2023-07-21T09:31:07.413Z"
   },
   {
    "duration": 0,
    "start_time": "2023-07-21T09:31:07.415Z"
   },
   {
    "duration": 0,
    "start_time": "2023-07-21T09:31:07.416Z"
   },
   {
    "duration": 0,
    "start_time": "2023-07-21T09:31:07.417Z"
   },
   {
    "duration": 2439,
    "start_time": "2023-07-21T09:31:43.041Z"
   },
   {
    "duration": 1543,
    "start_time": "2023-07-21T09:31:50.691Z"
   },
   {
    "duration": 3,
    "start_time": "2023-07-21T09:31:52.241Z"
   },
   {
    "duration": 174,
    "start_time": "2023-07-21T09:31:52.246Z"
   },
   {
    "duration": 26,
    "start_time": "2023-07-21T09:31:52.423Z"
   },
   {
    "duration": 25,
    "start_time": "2023-07-21T09:31:52.451Z"
   },
   {
    "duration": 51,
    "start_time": "2023-07-21T09:31:52.478Z"
   },
   {
    "duration": 43,
    "start_time": "2023-07-21T09:31:52.530Z"
   },
   {
    "duration": 66,
    "start_time": "2023-07-21T09:31:52.575Z"
   },
   {
    "duration": 167,
    "start_time": "2023-07-21T09:31:52.646Z"
   },
   {
    "duration": 194,
    "start_time": "2023-07-21T09:31:52.833Z"
   },
   {
    "duration": 10047,
    "start_time": "2023-07-21T09:31:53.029Z"
   },
   {
    "duration": 237,
    "start_time": "2023-07-21T09:32:03.079Z"
   },
   {
    "duration": 4,
    "start_time": "2023-07-21T09:34:09.373Z"
   },
   {
    "duration": 1613,
    "start_time": "2023-07-21T09:34:14.953Z"
   },
   {
    "duration": 4,
    "start_time": "2023-07-21T09:34:16.568Z"
   },
   {
    "duration": 152,
    "start_time": "2023-07-21T09:34:16.574Z"
   },
   {
    "duration": 25,
    "start_time": "2023-07-21T09:34:16.728Z"
   },
   {
    "duration": 37,
    "start_time": "2023-07-21T09:34:16.755Z"
   },
   {
    "duration": 34,
    "start_time": "2023-07-21T09:34:16.794Z"
   },
   {
    "duration": 45,
    "start_time": "2023-07-21T09:34:16.830Z"
   },
   {
    "duration": 46,
    "start_time": "2023-07-21T09:34:16.876Z"
   },
   {
    "duration": 163,
    "start_time": "2023-07-21T09:34:16.924Z"
   },
   {
    "duration": 222,
    "start_time": "2023-07-21T09:34:17.088Z"
   },
   {
    "duration": 11227,
    "start_time": "2023-07-21T09:34:17.311Z"
   },
   {
    "duration": 261,
    "start_time": "2023-07-21T09:34:28.544Z"
   },
   {
    "duration": 11,
    "start_time": "2023-07-21T10:10:12.739Z"
   },
   {
    "duration": 40,
    "start_time": "2023-07-21T10:10:14.629Z"
   },
   {
    "duration": 69,
    "start_time": "2023-07-21T10:10:29.556Z"
   },
   {
    "duration": 1740,
    "start_time": "2023-07-21T10:11:28.222Z"
   },
   {
    "duration": 4,
    "start_time": "2023-07-21T10:11:29.965Z"
   },
   {
    "duration": 266,
    "start_time": "2023-07-21T10:11:29.971Z"
   },
   {
    "duration": 24,
    "start_time": "2023-07-21T10:11:30.241Z"
   },
   {
    "duration": 98,
    "start_time": "2023-07-21T10:11:30.269Z"
   },
   {
    "duration": 123,
    "start_time": "2023-07-21T10:11:30.369Z"
   },
   {
    "duration": 99,
    "start_time": "2023-07-21T10:11:30.493Z"
   },
   {
    "duration": 129,
    "start_time": "2023-07-21T10:11:30.594Z"
   },
   {
    "duration": 272,
    "start_time": "2023-07-21T10:11:30.725Z"
   },
   {
    "duration": 250,
    "start_time": "2023-07-21T10:11:30.999Z"
   },
   {
    "duration": 10976,
    "start_time": "2023-07-21T10:11:31.254Z"
   },
   {
    "duration": 478,
    "start_time": "2023-07-21T10:11:42.235Z"
   },
   {
    "duration": 84,
    "start_time": "2023-07-21T10:11:42.729Z"
   },
   {
    "duration": 50,
    "start_time": "2023-07-21T10:11:42.830Z"
   },
   {
    "duration": 24,
    "start_time": "2023-07-21T10:11:42.882Z"
   },
   {
    "duration": 342,
    "start_time": "2023-07-21T10:11:42.908Z"
   },
   {
    "duration": 12,
    "start_time": "2023-07-21T10:13:25.479Z"
   },
   {
    "duration": 62,
    "start_time": "2023-07-21T10:13:27.304Z"
   },
   {
    "duration": 278,
    "start_time": "2023-07-21T10:13:28.966Z"
   },
   {
    "duration": 86,
    "start_time": "2023-07-21T10:13:35.549Z"
   },
   {
    "duration": 278,
    "start_time": "2023-07-21T10:13:38.453Z"
   },
   {
    "duration": 281,
    "start_time": "2023-07-21T10:13:56.262Z"
   },
   {
    "duration": 258,
    "start_time": "2023-07-21T10:14:02.637Z"
   },
   {
    "duration": 263,
    "start_time": "2023-07-21T10:14:07.618Z"
   },
   {
    "duration": 187,
    "start_time": "2023-07-21T10:14:14.563Z"
   },
   {
    "duration": 226,
    "start_time": "2023-07-21T10:14:19.631Z"
   },
   {
    "duration": 231,
    "start_time": "2023-07-21T10:14:25.862Z"
   },
   {
    "duration": 291,
    "start_time": "2023-07-21T10:14:32.020Z"
   },
   {
    "duration": 230,
    "start_time": "2023-07-21T10:14:35.130Z"
   },
   {
    "duration": 13,
    "start_time": "2023-07-21T12:38:01.511Z"
   },
   {
    "duration": 9,
    "start_time": "2023-07-21T12:54:06.679Z"
   },
   {
    "duration": 10,
    "start_time": "2023-07-21T12:54:10.465Z"
   },
   {
    "duration": 10,
    "start_time": "2023-07-21T12:54:12.849Z"
   },
   {
    "duration": 88,
    "start_time": "2023-07-21T12:54:14.871Z"
   },
   {
    "duration": 18,
    "start_time": "2023-07-21T12:54:44.298Z"
   },
   {
    "duration": 10,
    "start_time": "2023-07-21T12:54:53.822Z"
   },
   {
    "duration": 112,
    "start_time": "2023-07-21T12:54:55.935Z"
   },
   {
    "duration": 16,
    "start_time": "2023-07-21T12:55:20.690Z"
   },
   {
    "duration": 9,
    "start_time": "2023-07-21T12:55:22.584Z"
   },
   {
    "duration": 98,
    "start_time": "2023-07-21T12:55:24.564Z"
   },
   {
    "duration": 10,
    "start_time": "2023-07-21T12:55:51.055Z"
   },
   {
    "duration": 11,
    "start_time": "2023-07-21T12:55:52.377Z"
   },
   {
    "duration": 101,
    "start_time": "2023-07-21T12:55:53.936Z"
   },
   {
    "duration": 12,
    "start_time": "2023-07-21T12:55:59.559Z"
   },
   {
    "duration": 86,
    "start_time": "2023-07-21T12:56:01.959Z"
   },
   {
    "duration": 11,
    "start_time": "2023-07-21T12:56:07.267Z"
   },
   {
    "duration": 86,
    "start_time": "2023-07-21T12:56:08.716Z"
   },
   {
    "duration": 12,
    "start_time": "2023-07-21T12:56:17.286Z"
   },
   {
    "duration": 88,
    "start_time": "2023-07-21T12:56:18.679Z"
   },
   {
    "duration": 9,
    "start_time": "2023-07-21T12:56:36.872Z"
   },
   {
    "duration": 11,
    "start_time": "2023-07-21T12:56:38.516Z"
   },
   {
    "duration": 151,
    "start_time": "2023-07-21T12:56:40.100Z"
   },
   {
    "duration": 10,
    "start_time": "2023-07-21T12:56:57.796Z"
   },
   {
    "duration": 13,
    "start_time": "2023-07-21T12:56:59.500Z"
   },
   {
    "duration": 92,
    "start_time": "2023-07-21T12:57:01.121Z"
   },
   {
    "duration": 17,
    "start_time": "2023-07-21T12:57:16.868Z"
   },
   {
    "duration": 10,
    "start_time": "2023-07-21T12:57:22.882Z"
   },
   {
    "duration": 133,
    "start_time": "2023-07-21T12:57:56.148Z"
   },
   {
    "duration": 102,
    "start_time": "2023-07-21T12:58:06.671Z"
   },
   {
    "duration": 15,
    "start_time": "2023-07-21T12:58:24.300Z"
   },
   {
    "duration": 12,
    "start_time": "2023-07-21T12:58:25.744Z"
   },
   {
    "duration": 94,
    "start_time": "2023-07-21T12:58:27.335Z"
   },
   {
    "duration": 9,
    "start_time": "2023-07-21T12:58:42.747Z"
   },
   {
    "duration": 12,
    "start_time": "2023-07-21T12:58:43.824Z"
   },
   {
    "duration": 91,
    "start_time": "2023-07-21T12:58:45.183Z"
   },
   {
    "duration": 18,
    "start_time": "2023-07-21T12:58:51.591Z"
   },
   {
    "duration": 105,
    "start_time": "2023-07-21T12:58:53.024Z"
   },
   {
    "duration": 12,
    "start_time": "2023-07-21T12:59:00.346Z"
   },
   {
    "duration": 99,
    "start_time": "2023-07-21T12:59:01.789Z"
   },
   {
    "duration": 12,
    "start_time": "2023-07-21T12:59:05.684Z"
   },
   {
    "duration": 97,
    "start_time": "2023-07-21T12:59:07.168Z"
   },
   {
    "duration": 11,
    "start_time": "2023-07-21T12:59:12.663Z"
   },
   {
    "duration": 103,
    "start_time": "2023-07-21T12:59:14.059Z"
   },
   {
    "duration": 11,
    "start_time": "2023-07-21T12:59:19.654Z"
   },
   {
    "duration": 103,
    "start_time": "2023-07-21T12:59:21.254Z"
   },
   {
    "duration": 97,
    "start_time": "2023-07-21T13:05:58.994Z"
   },
   {
    "duration": 171,
    "start_time": "2023-07-21T13:09:05.512Z"
   },
   {
    "duration": 164,
    "start_time": "2023-07-21T13:09:49.226Z"
   },
   {
    "duration": 197,
    "start_time": "2023-07-21T13:10:00.127Z"
   },
   {
    "duration": 516,
    "start_time": "2023-07-21T13:10:05.765Z"
   },
   {
    "duration": 161,
    "start_time": "2023-07-21T13:10:09.545Z"
   },
   {
    "duration": 1376,
    "start_time": "2023-07-21T13:12:13.184Z"
   },
   {
    "duration": 2,
    "start_time": "2023-07-21T13:12:14.562Z"
   },
   {
    "duration": 187,
    "start_time": "2023-07-21T13:12:14.566Z"
   },
   {
    "duration": 11,
    "start_time": "2023-07-21T13:12:14.754Z"
   },
   {
    "duration": 60,
    "start_time": "2023-07-21T13:12:14.767Z"
   },
   {
    "duration": 37,
    "start_time": "2023-07-21T13:12:14.829Z"
   },
   {
    "duration": 14,
    "start_time": "2023-07-21T13:12:14.868Z"
   },
   {
    "duration": 70,
    "start_time": "2023-07-21T13:12:14.884Z"
   },
   {
    "duration": 119,
    "start_time": "2023-07-21T13:12:14.955Z"
   },
   {
    "duration": 166,
    "start_time": "2023-07-21T13:12:15.075Z"
   },
   {
    "duration": 9747,
    "start_time": "2023-07-21T13:12:15.243Z"
   },
   {
    "duration": 129,
    "start_time": "2023-07-21T13:12:24.991Z"
   },
   {
    "duration": 85,
    "start_time": "2023-07-21T13:12:25.122Z"
   },
   {
    "duration": 123,
    "start_time": "2023-07-21T13:12:25.210Z"
   },
   {
    "duration": 75,
    "start_time": "2023-07-21T13:12:25.335Z"
   },
   {
    "duration": 320,
    "start_time": "2023-07-21T13:12:25.415Z"
   },
   {
    "duration": 12,
    "start_time": "2023-07-21T13:12:25.737Z"
   },
   {
    "duration": 13,
    "start_time": "2023-07-21T13:12:25.750Z"
   },
   {
    "duration": 142,
    "start_time": "2023-07-21T13:12:25.765Z"
   },
   {
    "duration": 194,
    "start_time": "2023-07-21T13:12:25.909Z"
   },
   {
    "duration": 8855,
    "start_time": "2023-07-21T13:12:26.104Z"
   },
   {
    "duration": 8595,
    "start_time": "2023-07-21T13:13:06.416Z"
   },
   {
    "duration": 193,
    "start_time": "2023-07-21T13:13:57.596Z"
   },
   {
    "duration": 195,
    "start_time": "2023-07-21T13:14:23.635Z"
   },
   {
    "duration": 222,
    "start_time": "2023-07-21T13:15:26.225Z"
   },
   {
    "duration": 9962,
    "start_time": "2023-07-21T13:15:50.401Z"
   },
   {
    "duration": 9953,
    "start_time": "2023-07-21T13:16:21.693Z"
   },
   {
    "duration": 32,
    "start_time": "2023-07-21T13:18:32.977Z"
   },
   {
    "duration": 20,
    "start_time": "2023-07-21T13:18:51.317Z"
   },
   {
    "duration": 1293,
    "start_time": "2023-07-21T13:19:21.428Z"
   },
   {
    "duration": 3,
    "start_time": "2023-07-21T13:19:22.723Z"
   },
   {
    "duration": 97,
    "start_time": "2023-07-21T13:19:22.727Z"
   },
   {
    "duration": 11,
    "start_time": "2023-07-21T13:19:22.826Z"
   },
   {
    "duration": 34,
    "start_time": "2023-07-21T13:19:22.839Z"
   },
   {
    "duration": 17,
    "start_time": "2023-07-21T13:19:22.875Z"
   },
   {
    "duration": 27,
    "start_time": "2023-07-21T13:19:22.894Z"
   },
   {
    "duration": 40,
    "start_time": "2023-07-21T13:19:22.922Z"
   },
   {
    "duration": 120,
    "start_time": "2023-07-21T13:19:22.964Z"
   },
   {
    "duration": 162,
    "start_time": "2023-07-21T13:19:23.086Z"
   },
   {
    "duration": 9809,
    "start_time": "2023-07-21T13:19:23.250Z"
   },
   {
    "duration": 142,
    "start_time": "2023-07-21T13:19:33.061Z"
   },
   {
    "duration": 101,
    "start_time": "2023-07-21T13:19:33.205Z"
   },
   {
    "duration": 28,
    "start_time": "2023-07-21T13:19:33.307Z"
   },
   {
    "duration": 12,
    "start_time": "2023-07-21T13:19:33.399Z"
   },
   {
    "duration": 376,
    "start_time": "2023-07-21T13:19:33.412Z"
   },
   {
    "duration": 11,
    "start_time": "2023-07-21T13:19:33.799Z"
   },
   {
    "duration": 15,
    "start_time": "2023-07-21T13:19:33.811Z"
   },
   {
    "duration": 101,
    "start_time": "2023-07-21T13:19:33.827Z"
   },
   {
    "duration": 183,
    "start_time": "2023-07-21T13:19:33.929Z"
   },
   {
    "duration": 9090,
    "start_time": "2023-07-21T13:19:34.114Z"
   },
   {
    "duration": 22,
    "start_time": "2023-07-21T13:19:43.206Z"
   },
   {
    "duration": 22,
    "start_time": "2023-07-21T13:19:45.358Z"
   },
   {
    "duration": 5956,
    "start_time": "2023-07-21T13:20:02.187Z"
   },
   {
    "duration": 5308,
    "start_time": "2023-07-21T13:20:14.848Z"
   },
   {
    "duration": 7292,
    "start_time": "2023-07-21T13:20:25.575Z"
   },
   {
    "duration": 5799,
    "start_time": "2023-07-21T13:20:38.864Z"
   },
   {
    "duration": 9366,
    "start_time": "2023-07-21T13:20:48.248Z"
   },
   {
    "duration": 7866,
    "start_time": "2023-07-21T13:21:01.303Z"
   },
   {
    "duration": 10738,
    "start_time": "2023-07-21T13:21:13.867Z"
   },
   {
    "duration": 7408,
    "start_time": "2023-07-21T13:21:30.570Z"
   },
   {
    "duration": 11,
    "start_time": "2023-07-21T13:23:54.347Z"
   },
   {
    "duration": 9,
    "start_time": "2023-07-21T13:25:19.029Z"
   },
   {
    "duration": 10,
    "start_time": "2023-07-21T13:25:19.594Z"
   },
   {
    "duration": 10,
    "start_time": "2023-07-21T13:25:19.819Z"
   },
   {
    "duration": 11,
    "start_time": "2023-07-21T13:25:35.940Z"
   },
   {
    "duration": 28,
    "start_time": "2023-07-21T13:25:47.899Z"
   },
   {
    "duration": 24,
    "start_time": "2023-07-21T13:26:09.475Z"
   },
   {
    "duration": 177,
    "start_time": "2023-07-21T13:29:40.839Z"
   },
   {
    "duration": 28,
    "start_time": "2023-07-21T13:36:36.695Z"
   },
   {
    "duration": 21,
    "start_time": "2023-07-21T13:37:16.230Z"
   },
   {
    "duration": 26,
    "start_time": "2023-07-21T13:37:16.446Z"
   },
   {
    "duration": 22,
    "start_time": "2023-07-21T13:37:16.651Z"
   },
   {
    "duration": 1251,
    "start_time": "2023-07-21T13:39:58.858Z"
   },
   {
    "duration": 2,
    "start_time": "2023-07-21T13:40:00.111Z"
   },
   {
    "duration": 123,
    "start_time": "2023-07-21T13:40:00.115Z"
   },
   {
    "duration": 10,
    "start_time": "2023-07-21T13:40:00.239Z"
   },
   {
    "duration": 47,
    "start_time": "2023-07-21T13:40:00.250Z"
   },
   {
    "duration": 30,
    "start_time": "2023-07-21T13:40:00.299Z"
   },
   {
    "duration": 31,
    "start_time": "2023-07-21T13:40:00.330Z"
   },
   {
    "duration": 63,
    "start_time": "2023-07-21T13:40:00.362Z"
   },
   {
    "duration": 156,
    "start_time": "2023-07-21T13:40:00.426Z"
   },
   {
    "duration": 151,
    "start_time": "2023-07-21T13:40:00.583Z"
   },
   {
    "duration": 7976,
    "start_time": "2023-07-21T13:40:00.736Z"
   },
   {
    "duration": 286,
    "start_time": "2023-07-21T13:40:08.713Z"
   },
   {
    "duration": 99,
    "start_time": "2023-07-21T13:40:09.002Z"
   },
   {
    "duration": 33,
    "start_time": "2023-07-21T13:40:09.104Z"
   },
   {
    "duration": 68,
    "start_time": "2023-07-21T13:40:09.139Z"
   },
   {
    "duration": 278,
    "start_time": "2023-07-21T13:40:09.209Z"
   },
   {
    "duration": 13,
    "start_time": "2023-07-21T13:40:09.488Z"
   },
   {
    "duration": 11,
    "start_time": "2023-07-21T13:40:09.503Z"
   },
   {
    "duration": 113,
    "start_time": "2023-07-21T13:40:09.515Z"
   },
   {
    "duration": 169,
    "start_time": "2023-07-21T13:40:09.630Z"
   },
   {
    "duration": 7177,
    "start_time": "2023-07-21T13:40:09.801Z"
   },
   {
    "duration": 29,
    "start_time": "2023-07-21T13:40:16.979Z"
   },
   {
    "duration": 94,
    "start_time": "2023-07-21T13:40:17.010Z"
   },
   {
    "duration": 124,
    "start_time": "2023-07-21T13:40:17.105Z"
   },
   {
    "duration": 9,
    "start_time": "2023-07-21T13:40:17.230Z"
   },
   {
    "duration": 329,
    "start_time": "2023-07-21T13:40:17.240Z"
   },
   {
    "duration": 30,
    "start_time": "2023-07-21T13:40:17.570Z"
   },
   {
    "duration": 24,
    "start_time": "2023-07-21T13:41:45.382Z"
   },
   {
    "duration": 23,
    "start_time": "2023-07-21T13:41:54.939Z"
   },
   {
    "duration": 7205,
    "start_time": "2023-07-21T13:42:09.739Z"
   },
   {
    "duration": 23,
    "start_time": "2023-07-21T13:42:25.310Z"
   },
   {
    "duration": 108,
    "start_time": "2023-07-21T13:45:19.907Z"
   },
   {
    "duration": 4,
    "start_time": "2023-07-21T13:45:41.015Z"
   },
   {
    "duration": 1438,
    "start_time": "2023-07-21T13:45:45.212Z"
   },
   {
    "duration": 3,
    "start_time": "2023-07-21T13:45:46.652Z"
   },
   {
    "duration": 100,
    "start_time": "2023-07-21T13:45:46.656Z"
   },
   {
    "duration": 11,
    "start_time": "2023-07-21T13:45:46.758Z"
   },
   {
    "duration": 15,
    "start_time": "2023-07-21T13:45:46.771Z"
   },
   {
    "duration": 22,
    "start_time": "2023-07-21T13:45:46.787Z"
   },
   {
    "duration": 26,
    "start_time": "2023-07-21T13:45:46.811Z"
   },
   {
    "duration": 42,
    "start_time": "2023-07-21T13:45:46.838Z"
   },
   {
    "duration": 118,
    "start_time": "2023-07-21T13:45:46.881Z"
   },
   {
    "duration": 157,
    "start_time": "2023-07-21T13:45:47.001Z"
   },
   {
    "duration": 8286,
    "start_time": "2023-07-21T13:45:47.159Z"
   },
   {
    "duration": 254,
    "start_time": "2023-07-21T13:45:55.446Z"
   },
   {
    "duration": 98,
    "start_time": "2023-07-21T13:45:55.702Z"
   },
   {
    "duration": 35,
    "start_time": "2023-07-21T13:45:55.803Z"
   },
   {
    "duration": 67,
    "start_time": "2023-07-21T13:45:55.839Z"
   },
   {
    "duration": 295,
    "start_time": "2023-07-21T13:45:55.908Z"
   },
   {
    "duration": 11,
    "start_time": "2023-07-21T13:45:56.205Z"
   },
   {
    "duration": 18,
    "start_time": "2023-07-21T13:45:56.218Z"
   },
   {
    "duration": 154,
    "start_time": "2023-07-21T13:45:56.238Z"
   },
   {
    "duration": 201,
    "start_time": "2023-07-21T13:45:56.399Z"
   },
   {
    "duration": 7439,
    "start_time": "2023-07-21T13:45:56.602Z"
   },
   {
    "duration": 66,
    "start_time": "2023-07-21T13:46:04.043Z"
   },
   {
    "duration": 94,
    "start_time": "2023-07-21T13:46:04.111Z"
   },
   {
    "duration": 31,
    "start_time": "2023-07-21T13:46:04.207Z"
   },
   {
    "duration": 68,
    "start_time": "2023-07-21T13:46:04.240Z"
   },
   {
    "duration": 314,
    "start_time": "2023-07-21T13:46:04.313Z"
   },
   {
    "duration": 21,
    "start_time": "2023-07-21T13:46:04.629Z"
   },
   {
    "duration": 5,
    "start_time": "2023-07-21T13:46:04.651Z"
   },
   {
    "duration": 1818,
    "start_time": "2023-07-22T12:25:26.048Z"
   },
   {
    "duration": 3,
    "start_time": "2023-07-22T12:25:27.868Z"
   },
   {
    "duration": 410,
    "start_time": "2023-07-22T12:25:27.986Z"
   },
   {
    "duration": 19,
    "start_time": "2023-07-22T12:25:28.976Z"
   },
   {
    "duration": 15,
    "start_time": "2023-07-22T12:25:31.855Z"
   },
   {
    "duration": 122,
    "start_time": "2023-07-22T12:27:20.363Z"
   },
   {
    "duration": 18,
    "start_time": "2023-07-22T12:27:23.950Z"
   },
   {
    "duration": 1709,
    "start_time": "2023-07-22T12:31:42.375Z"
   },
   {
    "duration": 3,
    "start_time": "2023-07-22T12:31:44.087Z"
   },
   {
    "duration": 132,
    "start_time": "2023-07-22T12:31:44.092Z"
   },
   {
    "duration": 16,
    "start_time": "2023-07-22T12:31:44.227Z"
   },
   {
    "duration": 31,
    "start_time": "2023-07-22T12:31:44.246Z"
   },
   {
    "duration": 131,
    "start_time": "2023-07-22T12:31:44.280Z"
   },
   {
    "duration": 41,
    "start_time": "2023-07-22T12:31:54.995Z"
   },
   {
    "duration": 26,
    "start_time": "2023-07-22T12:32:14.765Z"
   },
   {
    "duration": 18,
    "start_time": "2023-07-22T12:32:18.258Z"
   },
   {
    "duration": 36,
    "start_time": "2023-07-22T12:33:22.468Z"
   },
   {
    "duration": 132,
    "start_time": "2023-07-22T12:33:25.631Z"
   },
   {
    "duration": 1567,
    "start_time": "2023-07-23T10:56:22.532Z"
   },
   {
    "duration": 3,
    "start_time": "2023-07-23T10:56:24.102Z"
   },
   {
    "duration": 102,
    "start_time": "2023-07-23T10:56:24.106Z"
   },
   {
    "duration": 12,
    "start_time": "2023-07-23T10:56:24.210Z"
   },
   {
    "duration": 8,
    "start_time": "2023-07-23T10:56:24.224Z"
   },
   {
    "duration": 115,
    "start_time": "2023-07-23T10:56:24.233Z"
   },
   {
    "duration": 0,
    "start_time": "2023-07-23T10:56:24.350Z"
   },
   {
    "duration": 0,
    "start_time": "2023-07-23T10:56:24.351Z"
   },
   {
    "duration": 0,
    "start_time": "2023-07-23T10:56:24.353Z"
   },
   {
    "duration": 0,
    "start_time": "2023-07-23T10:56:24.353Z"
   },
   {
    "duration": 0,
    "start_time": "2023-07-23T10:56:24.354Z"
   },
   {
    "duration": 0,
    "start_time": "2023-07-23T10:56:24.355Z"
   },
   {
    "duration": 0,
    "start_time": "2023-07-23T10:56:24.356Z"
   },
   {
    "duration": 0,
    "start_time": "2023-07-23T10:56:24.357Z"
   },
   {
    "duration": 0,
    "start_time": "2023-07-23T10:56:24.358Z"
   },
   {
    "duration": 0,
    "start_time": "2023-07-23T10:56:24.359Z"
   },
   {
    "duration": 0,
    "start_time": "2023-07-23T10:56:24.360Z"
   },
   {
    "duration": 0,
    "start_time": "2023-07-23T10:56:24.361Z"
   },
   {
    "duration": 0,
    "start_time": "2023-07-23T10:56:24.362Z"
   },
   {
    "duration": 0,
    "start_time": "2023-07-23T10:56:24.363Z"
   },
   {
    "duration": 0,
    "start_time": "2023-07-23T10:56:24.363Z"
   },
   {
    "duration": 0,
    "start_time": "2023-07-23T10:56:24.365Z"
   },
   {
    "duration": 0,
    "start_time": "2023-07-23T10:56:24.366Z"
   },
   {
    "duration": 0,
    "start_time": "2023-07-23T10:56:24.367Z"
   },
   {
    "duration": 0,
    "start_time": "2023-07-23T10:56:24.367Z"
   },
   {
    "duration": 0,
    "start_time": "2023-07-23T10:56:24.369Z"
   },
   {
    "duration": 0,
    "start_time": "2023-07-23T10:56:24.370Z"
   },
   {
    "duration": 0,
    "start_time": "2023-07-23T10:56:24.371Z"
   },
   {
    "duration": 0,
    "start_time": "2023-07-23T10:56:24.372Z"
   },
   {
    "duration": 0,
    "start_time": "2023-07-23T10:56:24.373Z"
   },
   {
    "duration": 12,
    "start_time": "2023-07-23T10:56:53.990Z"
   },
   {
    "duration": 53,
    "start_time": "2023-07-23T10:57:17.112Z"
   },
   {
    "duration": 1485,
    "start_time": "2023-07-23T10:57:21.704Z"
   },
   {
    "duration": 3,
    "start_time": "2023-07-23T10:57:23.192Z"
   },
   {
    "duration": 134,
    "start_time": "2023-07-23T10:57:23.198Z"
   },
   {
    "duration": 16,
    "start_time": "2023-07-23T10:57:23.334Z"
   },
   {
    "duration": 10,
    "start_time": "2023-07-23T10:57:23.353Z"
   },
   {
    "duration": 518,
    "start_time": "2023-07-23T10:57:23.366Z"
   },
   {
    "duration": 0,
    "start_time": "2023-07-23T10:57:23.885Z"
   },
   {
    "duration": 0,
    "start_time": "2023-07-23T10:57:23.888Z"
   },
   {
    "duration": 0,
    "start_time": "2023-07-23T10:57:23.889Z"
   },
   {
    "duration": 0,
    "start_time": "2023-07-23T10:57:23.890Z"
   },
   {
    "duration": 0,
    "start_time": "2023-07-23T10:57:23.891Z"
   },
   {
    "duration": 0,
    "start_time": "2023-07-23T10:57:23.892Z"
   },
   {
    "duration": 0,
    "start_time": "2023-07-23T10:57:23.893Z"
   },
   {
    "duration": 0,
    "start_time": "2023-07-23T10:57:23.893Z"
   },
   {
    "duration": 0,
    "start_time": "2023-07-23T10:57:23.894Z"
   },
   {
    "duration": 0,
    "start_time": "2023-07-23T10:57:23.895Z"
   },
   {
    "duration": 0,
    "start_time": "2023-07-23T10:57:23.897Z"
   },
   {
    "duration": 0,
    "start_time": "2023-07-23T10:57:23.898Z"
   },
   {
    "duration": 0,
    "start_time": "2023-07-23T10:57:23.920Z"
   },
   {
    "duration": 0,
    "start_time": "2023-07-23T10:57:23.921Z"
   },
   {
    "duration": 0,
    "start_time": "2023-07-23T10:57:23.923Z"
   },
   {
    "duration": 0,
    "start_time": "2023-07-23T10:57:23.924Z"
   },
   {
    "duration": 0,
    "start_time": "2023-07-23T10:57:23.925Z"
   },
   {
    "duration": 0,
    "start_time": "2023-07-23T10:57:23.927Z"
   },
   {
    "duration": 0,
    "start_time": "2023-07-23T10:57:23.927Z"
   },
   {
    "duration": 0,
    "start_time": "2023-07-23T10:57:23.928Z"
   },
   {
    "duration": 0,
    "start_time": "2023-07-23T10:57:23.929Z"
   },
   {
    "duration": 0,
    "start_time": "2023-07-23T10:57:23.930Z"
   },
   {
    "duration": 0,
    "start_time": "2023-07-23T10:57:23.931Z"
   },
   {
    "duration": 0,
    "start_time": "2023-07-23T10:57:23.932Z"
   },
   {
    "duration": 348,
    "start_time": "2023-07-23T10:57:38.898Z"
   },
   {
    "duration": 7,
    "start_time": "2023-07-23T10:58:46.510Z"
   },
   {
    "duration": 396,
    "start_time": "2023-07-23T10:58:48.848Z"
   },
   {
    "duration": 1392,
    "start_time": "2023-07-23T11:00:06.093Z"
   },
   {
    "duration": 3,
    "start_time": "2023-07-23T11:00:07.488Z"
   },
   {
    "duration": 158,
    "start_time": "2023-07-23T11:00:07.493Z"
   },
   {
    "duration": 13,
    "start_time": "2023-07-23T11:00:07.653Z"
   },
   {
    "duration": 23,
    "start_time": "2023-07-23T11:00:07.668Z"
   },
   {
    "duration": 493,
    "start_time": "2023-07-23T11:00:07.693Z"
   },
   {
    "duration": 0,
    "start_time": "2023-07-23T11:00:08.188Z"
   },
   {
    "duration": 0,
    "start_time": "2023-07-23T11:00:08.189Z"
   },
   {
    "duration": 0,
    "start_time": "2023-07-23T11:00:08.191Z"
   },
   {
    "duration": 0,
    "start_time": "2023-07-23T11:00:08.193Z"
   },
   {
    "duration": 0,
    "start_time": "2023-07-23T11:00:08.195Z"
   },
   {
    "duration": 0,
    "start_time": "2023-07-23T11:00:08.196Z"
   },
   {
    "duration": 0,
    "start_time": "2023-07-23T11:00:08.197Z"
   },
   {
    "duration": 0,
    "start_time": "2023-07-23T11:00:08.198Z"
   },
   {
    "duration": 0,
    "start_time": "2023-07-23T11:00:08.221Z"
   },
   {
    "duration": 1,
    "start_time": "2023-07-23T11:00:08.222Z"
   },
   {
    "duration": 0,
    "start_time": "2023-07-23T11:00:08.224Z"
   },
   {
    "duration": 0,
    "start_time": "2023-07-23T11:00:08.225Z"
   },
   {
    "duration": 0,
    "start_time": "2023-07-23T11:00:08.227Z"
   },
   {
    "duration": 0,
    "start_time": "2023-07-23T11:00:08.228Z"
   },
   {
    "duration": 0,
    "start_time": "2023-07-23T11:00:08.229Z"
   },
   {
    "duration": 0,
    "start_time": "2023-07-23T11:00:08.230Z"
   },
   {
    "duration": 0,
    "start_time": "2023-07-23T11:00:08.231Z"
   },
   {
    "duration": 0,
    "start_time": "2023-07-23T11:00:08.232Z"
   },
   {
    "duration": 0,
    "start_time": "2023-07-23T11:00:08.234Z"
   },
   {
    "duration": 0,
    "start_time": "2023-07-23T11:00:08.235Z"
   },
   {
    "duration": 0,
    "start_time": "2023-07-23T11:00:08.236Z"
   },
   {
    "duration": 0,
    "start_time": "2023-07-23T11:00:08.237Z"
   },
   {
    "duration": 0,
    "start_time": "2023-07-23T11:00:08.238Z"
   },
   {
    "duration": 0,
    "start_time": "2023-07-23T11:00:08.239Z"
   },
   {
    "duration": 355,
    "start_time": "2023-07-23T11:01:01.482Z"
   },
   {
    "duration": 5,
    "start_time": "2023-07-23T11:01:44.331Z"
   },
   {
    "duration": 1272,
    "start_time": "2023-07-23T11:01:46.393Z"
   },
   {
    "duration": 5,
    "start_time": "2023-07-23T11:05:07.607Z"
   },
   {
    "duration": 268,
    "start_time": "2023-07-23T11:05:09.137Z"
   },
   {
    "duration": 5,
    "start_time": "2023-07-23T11:05:23.030Z"
   },
   {
    "duration": 1317,
    "start_time": "2023-07-23T11:05:25.300Z"
   },
   {
    "duration": 5,
    "start_time": "2023-07-23T11:08:30.101Z"
   },
   {
    "duration": 1304,
    "start_time": "2023-07-23T11:08:31.524Z"
   },
   {
    "duration": 12,
    "start_time": "2023-07-23T11:08:42.414Z"
   },
   {
    "duration": 7,
    "start_time": "2023-07-23T11:08:51.314Z"
   },
   {
    "duration": 2167,
    "start_time": "2023-07-23T11:08:52.997Z"
   },
   {
    "duration": 7,
    "start_time": "2023-07-23T11:09:06.981Z"
   },
   {
    "duration": 334,
    "start_time": "2023-07-23T11:09:08.880Z"
   },
   {
    "duration": 5,
    "start_time": "2023-07-23T11:09:23.145Z"
   },
   {
    "duration": 285,
    "start_time": "2023-07-23T11:09:24.526Z"
   },
   {
    "duration": 6,
    "start_time": "2023-07-23T11:09:33.514Z"
   },
   {
    "duration": 1562,
    "start_time": "2023-07-23T11:09:35.225Z"
   },
   {
    "duration": 5,
    "start_time": "2023-07-23T11:09:44.489Z"
   },
   {
    "duration": 1573,
    "start_time": "2023-07-23T11:09:46.196Z"
   },
   {
    "duration": 4,
    "start_time": "2023-07-23T11:10:26.989Z"
   },
   {
    "duration": 1348,
    "start_time": "2023-07-23T11:10:28.599Z"
   },
   {
    "duration": 4,
    "start_time": "2023-07-23T11:12:38.417Z"
   },
   {
    "duration": 1369,
    "start_time": "2023-07-23T11:12:40.094Z"
   },
   {
    "duration": 13,
    "start_time": "2023-07-23T11:14:06.033Z"
   },
   {
    "duration": 14,
    "start_time": "2023-07-23T11:14:22.286Z"
   },
   {
    "duration": 23,
    "start_time": "2023-07-23T11:15:14.693Z"
   },
   {
    "duration": 19,
    "start_time": "2023-07-23T11:15:34.043Z"
   },
   {
    "duration": 20,
    "start_time": "2023-07-23T11:18:11.933Z"
   },
   {
    "duration": 22,
    "start_time": "2023-07-23T11:18:14.018Z"
   },
   {
    "duration": 117,
    "start_time": "2023-07-23T11:18:45.994Z"
   },
   {
    "duration": 102,
    "start_time": "2023-07-23T11:18:50.530Z"
   },
   {
    "duration": 170,
    "start_time": "2023-07-23T11:19:39.319Z"
   },
   {
    "duration": 114,
    "start_time": "2023-07-23T11:20:31.956Z"
   },
   {
    "duration": 118,
    "start_time": "2023-07-23T11:20:59.911Z"
   },
   {
    "duration": 142,
    "start_time": "2023-07-23T11:21:02.795Z"
   },
   {
    "duration": 108,
    "start_time": "2023-07-23T11:21:20.413Z"
   },
   {
    "duration": 105,
    "start_time": "2023-07-23T11:21:29.768Z"
   },
   {
    "duration": 137,
    "start_time": "2023-07-23T11:21:42.951Z"
   },
   {
    "duration": 117,
    "start_time": "2023-07-23T11:21:48.625Z"
   },
   {
    "duration": 196,
    "start_time": "2023-07-23T11:23:32.514Z"
   },
   {
    "duration": 171,
    "start_time": "2023-07-23T11:23:41.504Z"
   },
   {
    "duration": 275,
    "start_time": "2023-07-23T11:24:13.957Z"
   },
   {
    "duration": 129,
    "start_time": "2023-07-23T11:24:30.237Z"
   },
   {
    "duration": 14,
    "start_time": "2023-07-23T11:38:46.002Z"
   },
   {
    "duration": 36,
    "start_time": "2023-07-23T11:38:49.813Z"
   },
   {
    "duration": 24,
    "start_time": "2023-07-23T11:40:47.349Z"
   },
   {
    "duration": 41,
    "start_time": "2023-07-23T11:40:53.347Z"
   },
   {
    "duration": 1507,
    "start_time": "2023-07-23T12:24:25.855Z"
   },
   {
    "duration": 3,
    "start_time": "2023-07-23T12:24:27.363Z"
   },
   {
    "duration": 185,
    "start_time": "2023-07-23T12:24:27.368Z"
   },
   {
    "duration": 88,
    "start_time": "2023-07-23T12:24:27.557Z"
   },
   {
    "duration": 7,
    "start_time": "2023-07-23T12:24:27.647Z"
   },
   {
    "duration": 2446,
    "start_time": "2023-07-23T12:24:27.656Z"
   },
   {
    "duration": 144,
    "start_time": "2023-07-23T12:24:30.104Z"
   },
   {
    "duration": 15,
    "start_time": "2023-07-23T12:24:30.250Z"
   },
   {
    "duration": 80,
    "start_time": "2023-07-23T12:24:30.266Z"
   },
   {
    "duration": 84,
    "start_time": "2023-07-23T12:24:30.349Z"
   },
   {
    "duration": 159,
    "start_time": "2023-07-23T12:24:30.444Z"
   },
   {
    "duration": 0,
    "start_time": "2023-07-23T12:24:30.605Z"
   },
   {
    "duration": 0,
    "start_time": "2023-07-23T12:24:30.606Z"
   },
   {
    "duration": 0,
    "start_time": "2023-07-23T12:24:30.606Z"
   },
   {
    "duration": 0,
    "start_time": "2023-07-23T12:24:30.607Z"
   },
   {
    "duration": 0,
    "start_time": "2023-07-23T12:24:30.608Z"
   },
   {
    "duration": 0,
    "start_time": "2023-07-23T12:24:30.609Z"
   },
   {
    "duration": 0,
    "start_time": "2023-07-23T12:24:30.610Z"
   },
   {
    "duration": 0,
    "start_time": "2023-07-23T12:24:30.611Z"
   },
   {
    "duration": 0,
    "start_time": "2023-07-23T12:24:30.612Z"
   },
   {
    "duration": 0,
    "start_time": "2023-07-23T12:24:30.620Z"
   },
   {
    "duration": 0,
    "start_time": "2023-07-23T12:24:30.620Z"
   },
   {
    "duration": 0,
    "start_time": "2023-07-23T12:24:30.621Z"
   },
   {
    "duration": 0,
    "start_time": "2023-07-23T12:24:30.622Z"
   },
   {
    "duration": 0,
    "start_time": "2023-07-23T12:24:30.622Z"
   },
   {
    "duration": 0,
    "start_time": "2023-07-23T12:24:30.623Z"
   },
   {
    "duration": 0,
    "start_time": "2023-07-23T12:24:30.623Z"
   },
   {
    "duration": 0,
    "start_time": "2023-07-23T12:24:30.624Z"
   },
   {
    "duration": 0,
    "start_time": "2023-07-23T12:24:30.625Z"
   },
   {
    "duration": 0,
    "start_time": "2023-07-23T12:24:30.626Z"
   },
   {
    "duration": 0,
    "start_time": "2023-07-23T12:24:30.627Z"
   },
   {
    "duration": 0,
    "start_time": "2023-07-23T12:24:30.628Z"
   },
   {
    "duration": 68,
    "start_time": "2023-07-23T12:26:32.342Z"
   },
   {
    "duration": 2203,
    "start_time": "2023-07-23T12:26:40.035Z"
   },
   {
    "duration": 2,
    "start_time": "2023-07-23T12:26:42.241Z"
   },
   {
    "duration": 330,
    "start_time": "2023-07-23T12:26:42.245Z"
   },
   {
    "duration": 27,
    "start_time": "2023-07-23T12:26:42.620Z"
   },
   {
    "duration": 31,
    "start_time": "2023-07-23T12:26:42.658Z"
   },
   {
    "duration": 1773,
    "start_time": "2023-07-23T12:26:42.692Z"
   },
   {
    "duration": 148,
    "start_time": "2023-07-23T12:26:44.468Z"
   },
   {
    "duration": 18,
    "start_time": "2023-07-23T12:26:44.619Z"
   },
   {
    "duration": 75,
    "start_time": "2023-07-23T12:26:44.641Z"
   },
   {
    "duration": 252,
    "start_time": "2023-07-23T12:26:44.718Z"
   },
   {
    "duration": 0,
    "start_time": "2023-07-23T12:26:44.973Z"
   },
   {
    "duration": 0,
    "start_time": "2023-07-23T12:26:44.975Z"
   },
   {
    "duration": 0,
    "start_time": "2023-07-23T12:26:44.977Z"
   },
   {
    "duration": 0,
    "start_time": "2023-07-23T12:26:44.978Z"
   },
   {
    "duration": 0,
    "start_time": "2023-07-23T12:26:44.979Z"
   },
   {
    "duration": 0,
    "start_time": "2023-07-23T12:26:44.980Z"
   },
   {
    "duration": 0,
    "start_time": "2023-07-23T12:26:44.981Z"
   },
   {
    "duration": 0,
    "start_time": "2023-07-23T12:26:44.982Z"
   },
   {
    "duration": 0,
    "start_time": "2023-07-23T12:26:44.983Z"
   },
   {
    "duration": 0,
    "start_time": "2023-07-23T12:26:44.983Z"
   },
   {
    "duration": 0,
    "start_time": "2023-07-23T12:26:44.984Z"
   },
   {
    "duration": 0,
    "start_time": "2023-07-23T12:26:44.985Z"
   },
   {
    "duration": 0,
    "start_time": "2023-07-23T12:26:44.986Z"
   },
   {
    "duration": 0,
    "start_time": "2023-07-23T12:26:44.987Z"
   },
   {
    "duration": 0,
    "start_time": "2023-07-23T12:26:44.988Z"
   },
   {
    "duration": 0,
    "start_time": "2023-07-23T12:26:44.989Z"
   },
   {
    "duration": 0,
    "start_time": "2023-07-23T12:26:44.990Z"
   },
   {
    "duration": 0,
    "start_time": "2023-07-23T12:26:44.991Z"
   },
   {
    "duration": 0,
    "start_time": "2023-07-23T12:26:44.992Z"
   },
   {
    "duration": 0,
    "start_time": "2023-07-23T12:26:44.992Z"
   },
   {
    "duration": 0,
    "start_time": "2023-07-23T12:26:44.993Z"
   },
   {
    "duration": 1710,
    "start_time": "2023-07-23T12:27:16.663Z"
   },
   {
    "duration": 5,
    "start_time": "2023-07-23T12:27:18.376Z"
   },
   {
    "duration": 185,
    "start_time": "2023-07-23T12:27:18.382Z"
   },
   {
    "duration": 101,
    "start_time": "2023-07-23T12:27:18.570Z"
   },
   {
    "duration": 8,
    "start_time": "2023-07-23T12:27:18.678Z"
   },
   {
    "duration": 3000,
    "start_time": "2023-07-23T12:27:18.688Z"
   },
   {
    "duration": 181,
    "start_time": "2023-07-23T12:27:21.691Z"
   },
   {
    "duration": 15,
    "start_time": "2023-07-23T12:27:21.876Z"
   },
   {
    "duration": 195,
    "start_time": "2023-07-23T12:27:21.893Z"
   },
   {
    "duration": 0,
    "start_time": "2023-07-23T12:27:22.090Z"
   },
   {
    "duration": 0,
    "start_time": "2023-07-23T12:27:22.091Z"
   },
   {
    "duration": 1,
    "start_time": "2023-07-23T12:27:22.092Z"
   },
   {
    "duration": 0,
    "start_time": "2023-07-23T12:27:22.093Z"
   },
   {
    "duration": 0,
    "start_time": "2023-07-23T12:27:22.095Z"
   },
   {
    "duration": 0,
    "start_time": "2023-07-23T12:27:22.095Z"
   },
   {
    "duration": 0,
    "start_time": "2023-07-23T12:27:22.097Z"
   },
   {
    "duration": 0,
    "start_time": "2023-07-23T12:27:22.098Z"
   },
   {
    "duration": 0,
    "start_time": "2023-07-23T12:27:22.098Z"
   },
   {
    "duration": 0,
    "start_time": "2023-07-23T12:27:22.099Z"
   },
   {
    "duration": 0,
    "start_time": "2023-07-23T12:27:22.099Z"
   },
   {
    "duration": 0,
    "start_time": "2023-07-23T12:27:22.100Z"
   },
   {
    "duration": 0,
    "start_time": "2023-07-23T12:27:22.100Z"
   },
   {
    "duration": 0,
    "start_time": "2023-07-23T12:27:22.101Z"
   },
   {
    "duration": 0,
    "start_time": "2023-07-23T12:27:22.101Z"
   },
   {
    "duration": 0,
    "start_time": "2023-07-23T12:27:22.102Z"
   },
   {
    "duration": 0,
    "start_time": "2023-07-23T12:27:22.102Z"
   },
   {
    "duration": 0,
    "start_time": "2023-07-23T12:27:22.103Z"
   },
   {
    "duration": 0,
    "start_time": "2023-07-23T12:27:22.103Z"
   },
   {
    "duration": 0,
    "start_time": "2023-07-23T12:27:22.104Z"
   },
   {
    "duration": 0,
    "start_time": "2023-07-23T12:27:22.104Z"
   },
   {
    "duration": 1995,
    "start_time": "2023-07-23T12:28:45.743Z"
   },
   {
    "duration": 4,
    "start_time": "2023-07-23T12:28:47.740Z"
   },
   {
    "duration": 210,
    "start_time": "2023-07-23T12:28:47.751Z"
   },
   {
    "duration": 75,
    "start_time": "2023-07-23T12:28:47.963Z"
   },
   {
    "duration": 33,
    "start_time": "2023-07-23T12:28:48.048Z"
   },
   {
    "duration": 2234,
    "start_time": "2023-07-23T12:28:48.083Z"
   },
   {
    "duration": 187,
    "start_time": "2023-07-23T12:28:50.320Z"
   },
   {
    "duration": 25,
    "start_time": "2023-07-23T12:28:50.509Z"
   },
   {
    "duration": 65,
    "start_time": "2023-07-23T12:28:50.536Z"
   },
   {
    "duration": 82,
    "start_time": "2023-07-23T12:28:50.603Z"
   },
   {
    "duration": 48,
    "start_time": "2023-07-23T12:28:50.687Z"
   },
   {
    "duration": 13,
    "start_time": "2023-07-23T12:28:50.736Z"
   },
   {
    "duration": 54,
    "start_time": "2023-07-23T12:28:50.750Z"
   },
   {
    "duration": 206,
    "start_time": "2023-07-23T12:28:50.807Z"
   },
   {
    "duration": 177,
    "start_time": "2023-07-23T12:28:51.014Z"
   },
   {
    "duration": 9628,
    "start_time": "2023-07-23T12:28:51.193Z"
   },
   {
    "duration": 335,
    "start_time": "2023-07-23T12:29:00.823Z"
   },
   {
    "duration": 96,
    "start_time": "2023-07-23T12:29:01.175Z"
   },
   {
    "duration": 91,
    "start_time": "2023-07-23T12:29:01.283Z"
   },
   {
    "duration": 152,
    "start_time": "2023-07-23T12:29:01.376Z"
   },
   {
    "duration": 419,
    "start_time": "2023-07-23T12:29:01.534Z"
   },
   {
    "duration": 14,
    "start_time": "2023-07-23T12:29:01.956Z"
   },
   {
    "duration": 90,
    "start_time": "2023-07-23T12:29:01.972Z"
   },
   {
    "duration": 278,
    "start_time": "2023-07-23T12:29:02.067Z"
   },
   {
    "duration": 246,
    "start_time": "2023-07-23T12:29:02.347Z"
   },
   {
    "duration": 8635,
    "start_time": "2023-07-23T12:29:02.595Z"
   },
   {
    "duration": 95,
    "start_time": "2023-07-23T12:29:11.234Z"
   },
   {
    "duration": 139,
    "start_time": "2023-07-23T12:29:11.332Z"
   },
   {
    "duration": 23,
    "start_time": "2023-07-23T12:29:11.473Z"
   },
   {
    "duration": 28,
    "start_time": "2023-07-23T12:29:11.498Z"
   },
   {
    "duration": 442,
    "start_time": "2023-07-23T12:29:11.528Z"
   },
   {
    "duration": 20,
    "start_time": "2023-07-23T12:29:11.971Z"
   },
   {
    "duration": 216,
    "start_time": "2023-07-23T12:45:45.225Z"
   },
   {
    "duration": 26,
    "start_time": "2023-07-23T12:45:47.911Z"
   },
   {
    "duration": 154,
    "start_time": "2023-07-23T12:45:49.949Z"
   },
   {
    "duration": 161,
    "start_time": "2023-07-23T12:56:40.008Z"
   },
   {
    "duration": 135,
    "start_time": "2023-07-23T12:59:13.757Z"
   },
   {
    "duration": 107,
    "start_time": "2023-07-23T12:59:55.708Z"
   },
   {
    "duration": 6,
    "start_time": "2023-07-23T13:00:02.057Z"
   },
   {
    "duration": 4,
    "start_time": "2023-07-23T13:08:01.703Z"
   },
   {
    "duration": 5,
    "start_time": "2023-07-23T13:08:04.140Z"
   },
   {
    "duration": 3,
    "start_time": "2023-07-23T13:16:04.399Z"
   },
   {
    "duration": 3,
    "start_time": "2023-07-23T13:17:23.115Z"
   },
   {
    "duration": 21,
    "start_time": "2023-07-23T13:20:42.156Z"
   },
   {
    "duration": 1674,
    "start_time": "2023-07-23T13:20:59.460Z"
   },
   {
    "duration": 4,
    "start_time": "2023-07-23T13:21:01.136Z"
   },
   {
    "duration": 353,
    "start_time": "2023-07-23T13:21:01.142Z"
   },
   {
    "duration": 20,
    "start_time": "2023-07-23T13:21:01.497Z"
   },
   {
    "duration": 80,
    "start_time": "2023-07-23T13:21:01.526Z"
   },
   {
    "duration": 1474,
    "start_time": "2023-07-23T13:21:01.608Z"
   },
   {
    "duration": 129,
    "start_time": "2023-07-23T13:21:03.084Z"
   },
   {
    "duration": 23,
    "start_time": "2023-07-23T13:21:03.215Z"
   },
   {
    "duration": 37,
    "start_time": "2023-07-23T13:21:03.240Z"
   },
   {
    "duration": 62,
    "start_time": "2023-07-23T13:21:03.279Z"
   },
   {
    "duration": 6,
    "start_time": "2023-07-23T13:21:03.342Z"
   },
   {
    "duration": 97,
    "start_time": "2023-07-23T13:21:03.349Z"
   },
   {
    "duration": 245,
    "start_time": "2023-07-23T13:21:03.447Z"
   },
   {
    "duration": 157,
    "start_time": "2023-07-23T13:21:03.694Z"
   },
   {
    "duration": 8277,
    "start_time": "2023-07-23T13:21:03.852Z"
   },
   {
    "duration": 2096,
    "start_time": "2023-07-23T13:21:12.130Z"
   },
   {
    "duration": 91,
    "start_time": "2023-07-23T13:21:14.228Z"
   },
   {
    "duration": 45,
    "start_time": "2023-07-23T13:21:14.324Z"
   },
   {
    "duration": 51,
    "start_time": "2023-07-23T13:21:14.370Z"
   },
   {
    "duration": 355,
    "start_time": "2023-07-23T13:21:14.424Z"
   },
   {
    "duration": 4,
    "start_time": "2023-07-23T13:21:14.780Z"
   },
   {
    "duration": 24,
    "start_time": "2023-07-23T13:21:14.785Z"
   },
   {
    "duration": 32,
    "start_time": "2023-07-23T13:21:14.810Z"
   },
   {
    "duration": 27,
    "start_time": "2023-07-23T13:21:14.844Z"
   },
   {
    "duration": 21,
    "start_time": "2023-07-23T13:21:14.873Z"
   },
   {
    "duration": 142,
    "start_time": "2023-07-23T13:21:14.896Z"
   },
   {
    "duration": 199,
    "start_time": "2023-07-23T13:21:15.040Z"
   },
   {
    "duration": 137,
    "start_time": "2023-07-23T13:21:15.243Z"
   },
   {
    "duration": 0,
    "start_time": "2023-07-23T13:21:15.382Z"
   },
   {
    "duration": 1,
    "start_time": "2023-07-23T13:21:15.383Z"
   },
   {
    "duration": 0,
    "start_time": "2023-07-23T13:21:15.386Z"
   },
   {
    "duration": 0,
    "start_time": "2023-07-23T13:21:15.387Z"
   },
   {
    "duration": 0,
    "start_time": "2023-07-23T13:21:15.388Z"
   },
   {
    "duration": 9168,
    "start_time": "2023-07-23T13:22:48.501Z"
   },
   {
    "duration": 4,
    "start_time": "2023-07-23T13:23:17.793Z"
   },
   {
    "duration": 9002,
    "start_time": "2023-07-23T13:23:23.240Z"
   },
   {
    "duration": 40,
    "start_time": "2023-07-23T13:24:36.906Z"
   },
   {
    "duration": 10,
    "start_time": "2023-07-23T13:26:15.486Z"
   },
   {
    "duration": 22,
    "start_time": "2023-07-23T13:28:00.170Z"
   },
   {
    "duration": 33,
    "start_time": "2023-07-23T13:28:07.706Z"
   },
   {
    "duration": 3,
    "start_time": "2023-07-23T13:28:53.107Z"
   },
   {
    "duration": 9,
    "start_time": "2023-07-23T13:28:58.137Z"
   },
   {
    "duration": 22,
    "start_time": "2023-07-23T13:28:59.982Z"
   },
   {
    "duration": 4,
    "start_time": "2023-07-23T13:29:23.608Z"
   },
   {
    "duration": 9,
    "start_time": "2023-07-23T13:29:27.562Z"
   },
   {
    "duration": 19,
    "start_time": "2023-07-23T13:29:31.053Z"
   },
   {
    "duration": 9,
    "start_time": "2023-07-23T13:29:51.591Z"
   },
   {
    "duration": 6,
    "start_time": "2023-07-23T13:32:22.412Z"
   },
   {
    "duration": 17,
    "start_time": "2023-07-23T13:32:30.917Z"
   },
   {
    "duration": 10,
    "start_time": "2023-07-23T13:33:19.505Z"
   },
   {
    "duration": 233,
    "start_time": "2023-07-23T13:35:15.932Z"
   },
   {
    "duration": 8,
    "start_time": "2023-07-23T13:40:49.025Z"
   },
   {
    "duration": 107,
    "start_time": "2023-07-23T13:40:51.904Z"
   },
   {
    "duration": 128,
    "start_time": "2023-07-23T13:41:08.206Z"
   },
   {
    "duration": 4,
    "start_time": "2023-07-23T13:41:15.240Z"
   },
   {
    "duration": 198,
    "start_time": "2023-07-23T13:41:18.093Z"
   },
   {
    "duration": 110,
    "start_time": "2023-07-23T13:41:23.602Z"
   },
   {
    "duration": 99,
    "start_time": "2023-07-23T13:44:49.197Z"
   },
   {
    "duration": 3553,
    "start_time": "2023-07-23T13:44:51.152Z"
   },
   {
    "duration": 84,
    "start_time": "2023-07-23T13:44:56.542Z"
   },
   {
    "duration": 1455,
    "start_time": "2023-07-23T13:48:17.248Z"
   },
   {
    "duration": 3,
    "start_time": "2023-07-23T13:48:18.705Z"
   },
   {
    "duration": 102,
    "start_time": "2023-07-23T13:48:18.709Z"
   },
   {
    "duration": 18,
    "start_time": "2023-07-23T13:48:18.813Z"
   },
   {
    "duration": 25,
    "start_time": "2023-07-23T13:48:18.832Z"
   },
   {
    "duration": 1403,
    "start_time": "2023-07-23T13:48:18.859Z"
   },
   {
    "duration": 136,
    "start_time": "2023-07-23T13:48:20.263Z"
   },
   {
    "duration": 24,
    "start_time": "2023-07-23T13:48:20.401Z"
   },
   {
    "duration": 75,
    "start_time": "2023-07-23T13:48:20.426Z"
   },
   {
    "duration": 47,
    "start_time": "2023-07-23T13:48:20.504Z"
   },
   {
    "duration": 10,
    "start_time": "2023-07-23T13:48:20.553Z"
   },
   {
    "duration": 74,
    "start_time": "2023-07-23T13:48:20.564Z"
   },
   {
    "duration": 134,
    "start_time": "2023-07-23T13:48:20.640Z"
   },
   {
    "duration": 169,
    "start_time": "2023-07-23T13:48:20.776Z"
   },
   {
    "duration": 8390,
    "start_time": "2023-07-23T13:48:20.947Z"
   },
   {
    "duration": 93,
    "start_time": "2023-07-23T13:48:29.339Z"
   },
   {
    "duration": 107,
    "start_time": "2023-07-23T13:48:29.434Z"
   },
   {
    "duration": 105,
    "start_time": "2023-07-23T13:48:29.543Z"
   },
   {
    "duration": 74,
    "start_time": "2023-07-23T13:48:29.650Z"
   },
   {
    "duration": 377,
    "start_time": "2023-07-23T13:48:29.726Z"
   },
   {
    "duration": 5,
    "start_time": "2023-07-23T13:48:30.104Z"
   },
   {
    "duration": 65,
    "start_time": "2023-07-23T13:48:30.110Z"
   },
   {
    "duration": 31,
    "start_time": "2023-07-23T13:48:30.177Z"
   },
   {
    "duration": 27,
    "start_time": "2023-07-23T13:48:30.210Z"
   },
   {
    "duration": 24,
    "start_time": "2023-07-23T13:48:30.239Z"
   },
   {
    "duration": 131,
    "start_time": "2023-07-23T13:48:30.265Z"
   },
   {
    "duration": 199,
    "start_time": "2023-07-23T13:48:30.397Z"
   },
   {
    "duration": 9446,
    "start_time": "2023-07-23T13:48:30.599Z"
   },
   {
    "duration": 79,
    "start_time": "2023-07-23T13:48:40.048Z"
   },
   {
    "duration": 93,
    "start_time": "2023-07-23T13:48:40.132Z"
   },
   {
    "duration": 25,
    "start_time": "2023-07-23T13:48:40.235Z"
   },
   {
    "duration": 8,
    "start_time": "2023-07-23T13:48:40.262Z"
   },
   {
    "duration": 383,
    "start_time": "2023-07-23T13:48:40.271Z"
   },
   {
    "duration": 4,
    "start_time": "2023-07-23T13:48:40.655Z"
   },
   {
    "duration": 116,
    "start_time": "2023-07-23T13:48:40.661Z"
   },
   {
    "duration": 96,
    "start_time": "2023-07-23T13:48:40.779Z"
   },
   {
    "duration": 3660,
    "start_time": "2023-07-23T13:48:40.878Z"
   },
   {
    "duration": 12,
    "start_time": "2023-07-23T13:48:44.540Z"
   },
   {
    "duration": 84,
    "start_time": "2023-07-23T13:48:44.554Z"
   },
   {
    "duration": 114,
    "start_time": "2023-07-23T13:48:44.642Z"
   },
   {
    "duration": 64,
    "start_time": "2023-07-23T13:48:44.757Z"
   },
   {
    "duration": 368,
    "start_time": "2023-07-23T13:48:44.823Z"
   },
   {
    "duration": 132,
    "start_time": "2023-07-23T13:48:45.193Z"
   },
   {
    "duration": 190,
    "start_time": "2023-07-23T13:53:48.464Z"
   },
   {
    "duration": 157,
    "start_time": "2023-07-23T13:54:23.006Z"
   },
   {
    "duration": 7365,
    "start_time": "2023-07-23T13:55:11.604Z"
   },
   {
    "duration": 36,
    "start_time": "2023-07-23T13:56:14.401Z"
   },
   {
    "duration": 7,
    "start_time": "2023-07-23T13:58:04.905Z"
   },
   {
    "duration": 21,
    "start_time": "2023-07-23T13:58:06.637Z"
   },
   {
    "duration": 14,
    "start_time": "2023-07-23T13:58:08.740Z"
   },
   {
    "duration": 217,
    "start_time": "2023-07-23T13:58:11.132Z"
   },
   {
    "duration": 27,
    "start_time": "2023-07-23T14:01:45.933Z"
   },
   {
    "duration": 3,
    "start_time": "2023-07-23T14:03:35.110Z"
   },
   {
    "duration": 4,
    "start_time": "2023-07-23T14:03:39.647Z"
   },
   {
    "duration": 150,
    "start_time": "2023-07-23T14:03:57.245Z"
   },
   {
    "duration": 3,
    "start_time": "2023-07-23T14:04:00.636Z"
   }
  ],
  "kernelspec": {
   "display_name": "Python 3 (ipykernel)",
   "language": "python",
   "name": "python3"
  },
  "language_info": {
   "codemirror_mode": {
    "name": "ipython",
    "version": 3
   },
   "file_extension": ".py",
   "mimetype": "text/x-python",
   "name": "python",
   "nbconvert_exporter": "python",
   "pygments_lexer": "ipython3",
   "version": "3.10.9"
  },
  "toc": {
   "base_numbering": 1,
   "nav_menu": {},
   "number_sections": true,
   "sideBar": true,
   "skip_h1_title": true,
   "title_cell": "Содержание",
   "title_sidebar": "Contents",
   "toc_cell": true,
   "toc_position": {
    "height": "507px",
    "left": "24px",
    "top": "110px",
    "width": "251.389px"
   },
   "toc_section_display": true,
   "toc_window_display": true
  }
 },
 "nbformat": 4,
 "nbformat_minor": 2
}
