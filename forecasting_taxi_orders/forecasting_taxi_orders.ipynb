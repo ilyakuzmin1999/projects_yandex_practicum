{
 "cells": [
  {
   "cell_type": "markdown",
   "metadata": {
    "toc": true
   },
   "source": [
    "<h1>Содержание<span class=\"tocSkip\"></span></h1>\n",
    "<div class=\"toc\"><ul class=\"toc-item\"><li><span><a href=\"#Подготовка\" data-toc-modified-id=\"Подготовка-1\"><span class=\"toc-item-num\">1&nbsp;&nbsp;</span>Подготовка</a></span></li><li><span><a href=\"#Анализ\" data-toc-modified-id=\"Анализ-2\"><span class=\"toc-item-num\">2&nbsp;&nbsp;</span>Анализ</a></span></li><li><span><a href=\"#Обучение\" data-toc-modified-id=\"Обучение-3\"><span class=\"toc-item-num\">3&nbsp;&nbsp;</span>Обучение</a></span><ul class=\"toc-item\"><li><span><a href=\"#Подготовка-признаков\" data-toc-modified-id=\"Подготовка-признаков-3.1\"><span class=\"toc-item-num\">3.1&nbsp;&nbsp;</span>Подготовка признаков</a></span></li><li><span><a href=\"#LinearRegression\" data-toc-modified-id=\"LinearRegression-3.2\"><span class=\"toc-item-num\">3.2&nbsp;&nbsp;</span>LinearRegression</a></span></li><li><span><a href=\"#CatBoost\" data-toc-modified-id=\"CatBoost-3.3\"><span class=\"toc-item-num\">3.3&nbsp;&nbsp;</span>CatBoost</a></span></li></ul></li><li><span><a href=\"#Тестирование\" data-toc-modified-id=\"Тестирование-4\"><span class=\"toc-item-num\">4&nbsp;&nbsp;</span>Тестирование</a></span></li><li><span><a href=\"#Чек-лист-проверки\" data-toc-modified-id=\"Чек-лист-проверки-5\"><span class=\"toc-item-num\">5&nbsp;&nbsp;</span>Чек-лист проверки</a></span></li></ul></div>"
   ]
  },
  {
   "cell_type": "markdown",
   "metadata": {},
   "source": [
    "#  Прогнозирование заказов такси"
   ]
  },
  {
   "cell_type": "markdown",
   "metadata": {},
   "source": [
    "Компания «Чётенькое такси» собрала исторические данные о заказах такси в аэропортах. Чтобы привлекать больше водителей в период пиковой нагрузки, нужно спрогнозировать количество заказов такси на следующий час. Постройте модель для такого предсказания.\n",
    "\n",
    "Значение метрики *RMSE* на тестовой выборке должно быть не больше 48.\n",
    "\n",
    "Необходимо:\n",
    "\n",
    "1. Загрузить данные и выполнить их ресемплирование по одному часу.\n",
    "2. Проанализировать данные.\n",
    "3. Обучить разные модели с различными гиперпараметрами. Сделать тестовую выборку размером 10% от исходных данных.\n",
    "4. Проверить данные на тестовой выборке и сделать выводы.\n",
    "\n",
    "\n",
    "Данные лежат в файле `taxi.csv`. Количество заказов находится в столбце `num_orders` (от англ. *number of orders*, «число заказов»)."
   ]
  },
  {
   "cell_type": "code",
   "execution_count": 1,
   "metadata": {},
   "outputs": [],
   "source": [
    "import pandas as pd\n",
    "import numpy as np\n",
    "import matplotlib.pyplot as plt\n",
    "from statsmodels.tsa.seasonal import seasonal_decompose\n",
    "\n",
    "from sklearn.model_selection import train_test_split, cross_val_score, TimeSeriesSplit\n",
    "from sklearn.metrics import mean_squared_error\n",
    "\n",
    "from sklearn.linear_model import LinearRegression\n",
    "from sklearn.dummy import DummyRegressor\n",
    "from catboost import CatBoostRegressor, Pool\n",
    "\n",
    "import warnings"
   ]
  },
  {
   "cell_type": "code",
   "execution_count": 2,
   "metadata": {},
   "outputs": [],
   "source": [
    "RANDOM_STATE = 12345"
   ]
  },
  {
   "cell_type": "code",
   "execution_count": 3,
   "metadata": {},
   "outputs": [],
   "source": [
    "warnings.filterwarnings(\"ignore\")"
   ]
  },
  {
   "cell_type": "markdown",
   "metadata": {},
   "source": [
    "## Подготовка"
   ]
  },
  {
   "cell_type": "code",
   "execution_count": 4,
   "metadata": {},
   "outputs": [
    {
     "data": {
      "text/html": [
       "<div>\n",
       "<style scoped>\n",
       "    .dataframe tbody tr th:only-of-type {\n",
       "        vertical-align: middle;\n",
       "    }\n",
       "\n",
       "    .dataframe tbody tr th {\n",
       "        vertical-align: top;\n",
       "    }\n",
       "\n",
       "    .dataframe thead th {\n",
       "        text-align: right;\n",
       "    }\n",
       "</style>\n",
       "<table border=\"1\" class=\"dataframe\">\n",
       "  <thead>\n",
       "    <tr style=\"text-align: right;\">\n",
       "      <th></th>\n",
       "      <th>datetime</th>\n",
       "      <th>num_orders</th>\n",
       "    </tr>\n",
       "  </thead>\n",
       "  <tbody>\n",
       "    <tr>\n",
       "      <th>0</th>\n",
       "      <td>2018-03-01 00:00:00</td>\n",
       "      <td>9</td>\n",
       "    </tr>\n",
       "    <tr>\n",
       "      <th>1</th>\n",
       "      <td>2018-03-01 00:10:00</td>\n",
       "      <td>14</td>\n",
       "    </tr>\n",
       "    <tr>\n",
       "      <th>2</th>\n",
       "      <td>2018-03-01 00:20:00</td>\n",
       "      <td>28</td>\n",
       "    </tr>\n",
       "    <tr>\n",
       "      <th>3</th>\n",
       "      <td>2018-03-01 00:30:00</td>\n",
       "      <td>20</td>\n",
       "    </tr>\n",
       "    <tr>\n",
       "      <th>4</th>\n",
       "      <td>2018-03-01 00:40:00</td>\n",
       "      <td>32</td>\n",
       "    </tr>\n",
       "    <tr>\n",
       "      <th>5</th>\n",
       "      <td>2018-03-01 00:50:00</td>\n",
       "      <td>21</td>\n",
       "    </tr>\n",
       "    <tr>\n",
       "      <th>6</th>\n",
       "      <td>2018-03-01 01:00:00</td>\n",
       "      <td>7</td>\n",
       "    </tr>\n",
       "    <tr>\n",
       "      <th>7</th>\n",
       "      <td>2018-03-01 01:10:00</td>\n",
       "      <td>5</td>\n",
       "    </tr>\n",
       "    <tr>\n",
       "      <th>8</th>\n",
       "      <td>2018-03-01 01:20:00</td>\n",
       "      <td>17</td>\n",
       "    </tr>\n",
       "    <tr>\n",
       "      <th>9</th>\n",
       "      <td>2018-03-01 01:30:00</td>\n",
       "      <td>12</td>\n",
       "    </tr>\n",
       "  </tbody>\n",
       "</table>\n",
       "</div>"
      ],
      "text/plain": [
       "             datetime  num_orders\n",
       "0 2018-03-01 00:00:00           9\n",
       "1 2018-03-01 00:10:00          14\n",
       "2 2018-03-01 00:20:00          28\n",
       "3 2018-03-01 00:30:00          20\n",
       "4 2018-03-01 00:40:00          32\n",
       "5 2018-03-01 00:50:00          21\n",
       "6 2018-03-01 01:00:00           7\n",
       "7 2018-03-01 01:10:00           5\n",
       "8 2018-03-01 01:20:00          17\n",
       "9 2018-03-01 01:30:00          12"
      ]
     },
     "execution_count": 4,
     "metadata": {},
     "output_type": "execute_result"
    }
   ],
   "source": [
    "df = pd.read_csv('/datasets/taxi.csv', parse_dates=[0])\n",
    "df.head(10)"
   ]
  },
  {
   "cell_type": "code",
   "execution_count": 5,
   "metadata": {},
   "outputs": [
    {
     "name": "stdout",
     "output_type": "stream",
     "text": [
      "<class 'pandas.core.frame.DataFrame'>\n",
      "RangeIndex: 26496 entries, 0 to 26495\n",
      "Data columns (total 2 columns):\n",
      " #   Column      Non-Null Count  Dtype         \n",
      "---  ------      --------------  -----         \n",
      " 0   datetime    26496 non-null  datetime64[ns]\n",
      " 1   num_orders  26496 non-null  int64         \n",
      "dtypes: datetime64[ns](1), int64(1)\n",
      "memory usage: 414.1 KB\n"
     ]
    }
   ],
   "source": [
    "df.info()"
   ]
  },
  {
   "cell_type": "markdown",
   "metadata": {},
   "source": [
    "Данные соответствуют типам и не пропусков нет, сделаем дату индексом"
   ]
  },
  {
   "cell_type": "code",
   "execution_count": 6,
   "metadata": {},
   "outputs": [
    {
     "data": {
      "text/html": [
       "<div>\n",
       "<style scoped>\n",
       "    .dataframe tbody tr th:only-of-type {\n",
       "        vertical-align: middle;\n",
       "    }\n",
       "\n",
       "    .dataframe tbody tr th {\n",
       "        vertical-align: top;\n",
       "    }\n",
       "\n",
       "    .dataframe thead th {\n",
       "        text-align: right;\n",
       "    }\n",
       "</style>\n",
       "<table border=\"1\" class=\"dataframe\">\n",
       "  <thead>\n",
       "    <tr style=\"text-align: right;\">\n",
       "      <th></th>\n",
       "      <th>num_orders</th>\n",
       "    </tr>\n",
       "    <tr>\n",
       "      <th>datetime</th>\n",
       "      <th></th>\n",
       "    </tr>\n",
       "  </thead>\n",
       "  <tbody>\n",
       "    <tr>\n",
       "      <th>2018-03-01 00:00:00</th>\n",
       "      <td>9</td>\n",
       "    </tr>\n",
       "    <tr>\n",
       "      <th>2018-03-01 00:10:00</th>\n",
       "      <td>14</td>\n",
       "    </tr>\n",
       "    <tr>\n",
       "      <th>2018-03-01 00:20:00</th>\n",
       "      <td>28</td>\n",
       "    </tr>\n",
       "    <tr>\n",
       "      <th>2018-03-01 00:30:00</th>\n",
       "      <td>20</td>\n",
       "    </tr>\n",
       "    <tr>\n",
       "      <th>2018-03-01 00:40:00</th>\n",
       "      <td>32</td>\n",
       "    </tr>\n",
       "  </tbody>\n",
       "</table>\n",
       "</div>"
      ],
      "text/plain": [
       "                     num_orders\n",
       "datetime                       \n",
       "2018-03-01 00:00:00           9\n",
       "2018-03-01 00:10:00          14\n",
       "2018-03-01 00:20:00          28\n",
       "2018-03-01 00:30:00          20\n",
       "2018-03-01 00:40:00          32"
      ]
     },
     "execution_count": 6,
     "metadata": {},
     "output_type": "execute_result"
    }
   ],
   "source": [
    "df = df.set_index('datetime')\n",
    "df.head()"
   ]
  },
  {
   "cell_type": "markdown",
   "metadata": {},
   "source": [
    "Проверим, возрастает отсортированны ли данные по возрастанию"
   ]
  },
  {
   "cell_type": "code",
   "execution_count": 7,
   "metadata": {},
   "outputs": [
    {
     "data": {
      "text/plain": [
       "True"
      ]
     },
     "execution_count": 7,
     "metadata": {},
     "output_type": "execute_result"
    }
   ],
   "source": [
    "df.index.is_monotonic"
   ]
  },
  {
   "cell_type": "markdown",
   "metadata": {},
   "source": [
    "Нам необходимо предсказать количесво заказов на следующий час, сделаем ресемплирование на час"
   ]
  },
  {
   "cell_type": "code",
   "execution_count": 8,
   "metadata": {},
   "outputs": [
    {
     "data": {
      "text/html": [
       "<div>\n",
       "<style scoped>\n",
       "    .dataframe tbody tr th:only-of-type {\n",
       "        vertical-align: middle;\n",
       "    }\n",
       "\n",
       "    .dataframe tbody tr th {\n",
       "        vertical-align: top;\n",
       "    }\n",
       "\n",
       "    .dataframe thead th {\n",
       "        text-align: right;\n",
       "    }\n",
       "</style>\n",
       "<table border=\"1\" class=\"dataframe\">\n",
       "  <thead>\n",
       "    <tr style=\"text-align: right;\">\n",
       "      <th></th>\n",
       "      <th>num_orders</th>\n",
       "    </tr>\n",
       "    <tr>\n",
       "      <th>datetime</th>\n",
       "      <th></th>\n",
       "    </tr>\n",
       "  </thead>\n",
       "  <tbody>\n",
       "    <tr>\n",
       "      <th>2018-03-01 00:00:00</th>\n",
       "      <td>124</td>\n",
       "    </tr>\n",
       "    <tr>\n",
       "      <th>2018-03-01 01:00:00</th>\n",
       "      <td>85</td>\n",
       "    </tr>\n",
       "    <tr>\n",
       "      <th>2018-03-01 02:00:00</th>\n",
       "      <td>71</td>\n",
       "    </tr>\n",
       "    <tr>\n",
       "      <th>2018-03-01 03:00:00</th>\n",
       "      <td>66</td>\n",
       "    </tr>\n",
       "    <tr>\n",
       "      <th>2018-03-01 04:00:00</th>\n",
       "      <td>43</td>\n",
       "    </tr>\n",
       "  </tbody>\n",
       "</table>\n",
       "</div>"
      ],
      "text/plain": [
       "                     num_orders\n",
       "datetime                       \n",
       "2018-03-01 00:00:00         124\n",
       "2018-03-01 01:00:00          85\n",
       "2018-03-01 02:00:00          71\n",
       "2018-03-01 03:00:00          66\n",
       "2018-03-01 04:00:00          43"
      ]
     },
     "execution_count": 8,
     "metadata": {},
     "output_type": "execute_result"
    }
   ],
   "source": [
    "df = df.resample('1H').sum()\n",
    "df.head()"
   ]
  },
  {
   "cell_type": "code",
   "execution_count": 9,
   "metadata": {},
   "outputs": [
    {
     "data": {
      "text/plain": [
       "(4416, 1)"
      ]
     },
     "execution_count": 9,
     "metadata": {},
     "output_type": "execute_result"
    }
   ],
   "source": [
    "df.shape"
   ]
  },
  {
   "cell_type": "markdown",
   "metadata": {},
   "source": [
    "## Анализ"
   ]
  },
  {
   "cell_type": "code",
   "execution_count": 10,
   "metadata": {},
   "outputs": [
    {
     "data": {
      "image/png": "[encoded data removed]",
      "text/plain": [
       "<Figure size 1080x720 with 3 Axes>"
      ]
     },
     "metadata": {
      "needs_background": "light"
     },
     "output_type": "display_data"
    }
   ],
   "source": [
    "decomposed = seasonal_decompose(df)\n",
    "\n",
    "plt.figure(figsize=(15, 10))\n",
    "\n",
    "plt.subplot(311)\n",
    "decomposed.trend.plot(ax=plt.gca())\n",
    "plt.title('Trend')\n",
    "\n",
    "plt.subplot(312)\n",
    "decomposed.seasonal.plot(ax=plt.gca())\n",
    "plt.title('Seasonality')\n",
    "\n",
    "plt.subplot(313)\n",
    "decomposed.resid.plot(ax=plt.gca())\n",
    "plt.title('Residuals')\n",
    "\n",
    "plt.tight_layout()"
   ]
  },
  {
   "cell_type": "code",
   "execution_count": 11,
   "metadata": {},
   "outputs": [
    {
     "data": {
      "image/png": "[encoded data removed]",
      "text/plain": [
       "<Figure size 1080x288 with 1 Axes>"
      ]
     },
     "metadata": {
      "needs_background": "light"
     },
     "output_type": "display_data"
    }
   ],
   "source": [
    "plt.figure(figsize=(15, 4));\n",
    "decomposed.seasonal['2018-07-30':'2018-08-01'].plot(ax=plt.gca());\n",
    "plt.title('Seasonality');"
   ]
  },
  {
   "cell_type": "code",
   "execution_count": 12,
   "metadata": {},
   "outputs": [
    {
     "data": {
      "image/png": "[encoded data removed]",
      "text/plain": [
       "<Figure size 1080x576 with 1 Axes>"
      ]
     },
     "metadata": {
      "needs_background": "light"
     },
     "output_type": "display_data"
    }
   ],
   "source": [
    "df['rolling_mean'] = df.rolling(10).mean()\n",
    "df.plot(figsize=(15, 8));"
   ]
  },
  {
   "cell_type": "markdown",
   "metadata": {},
   "source": [
    "Из декомпозиции можно отметить, что тренд указывает на увеличение заказов. Сезоность указывает на высокий спрос на такси в ночное время, потому что в это время не работает общественный транспорт.\n",
    "\n",
    "Можно сказать, что временной ряд нестационарный"
   ]
  },
  {
   "cell_type": "markdown",
   "metadata": {},
   "source": [
    "## Обучение"
   ]
  },
  {
   "cell_type": "markdown",
   "metadata": {},
   "source": [
    "### Подготовка признаков"
   ]
  },
  {
   "cell_type": "code",
   "execution_count": 13,
   "metadata": {},
   "outputs": [],
   "source": [
    "def make_features(df, max_lag, rolling_mean_size):\n",
    "    df_new = df.copy()\n",
    "    df_new['year'] = df_new.index.year\n",
    "    df_new['month'] = df_new.index.month\n",
    "    df_new['day'] = df_new.index.day\n",
    "    df_new['dayofweek'] = df_new.index.dayofweek\n",
    "    \n",
    "    for lag in range(1, max_lag + 1):\n",
    "        df_new['lag_{}'.format(lag)] = df_new['num_orders'].shift(lag)\n",
    "\n",
    "    df_new['rolling_mean'] = df_new['num_orders'].shift().rolling(rolling_mean_size).mean()\n",
    "    \n",
    "    return df_new"
   ]
  },
  {
   "cell_type": "code",
   "execution_count": 14,
   "metadata": {},
   "outputs": [
    {
     "data": {
      "text/plain": [
       "(4416, 2)"
      ]
     },
     "execution_count": 14,
     "metadata": {},
     "output_type": "execute_result"
    }
   ],
   "source": [
    "df_new = make_features(df, 500, 300)\n",
    "df.shape"
   ]
  },
  {
   "cell_type": "code",
   "execution_count": 15,
   "metadata": {},
   "outputs": [
    {
     "data": {
      "text/html": [
       "<div>\n",
       "<style scoped>\n",
       "    .dataframe tbody tr th:only-of-type {\n",
       "        vertical-align: middle;\n",
       "    }\n",
       "\n",
       "    .dataframe tbody tr th {\n",
       "        vertical-align: top;\n",
       "    }\n",
       "\n",
       "    .dataframe thead th {\n",
       "        text-align: right;\n",
       "    }\n",
       "</style>\n",
       "<table border=\"1\" class=\"dataframe\">\n",
       "  <thead>\n",
       "    <tr style=\"text-align: right;\">\n",
       "      <th></th>\n",
       "      <th>num_orders</th>\n",
       "      <th>rolling_mean</th>\n",
       "      <th>year</th>\n",
       "      <th>month</th>\n",
       "      <th>day</th>\n",
       "      <th>dayofweek</th>\n",
       "      <th>lag_1</th>\n",
       "      <th>lag_2</th>\n",
       "      <th>lag_3</th>\n",
       "      <th>lag_4</th>\n",
       "      <th>...</th>\n",
       "      <th>lag_491</th>\n",
       "      <th>lag_492</th>\n",
       "      <th>lag_493</th>\n",
       "      <th>lag_494</th>\n",
       "      <th>lag_495</th>\n",
       "      <th>lag_496</th>\n",
       "      <th>lag_497</th>\n",
       "      <th>lag_498</th>\n",
       "      <th>lag_499</th>\n",
       "      <th>lag_500</th>\n",
       "    </tr>\n",
       "    <tr>\n",
       "      <th>datetime</th>\n",
       "      <th></th>\n",
       "      <th></th>\n",
       "      <th></th>\n",
       "      <th></th>\n",
       "      <th></th>\n",
       "      <th></th>\n",
       "      <th></th>\n",
       "      <th></th>\n",
       "      <th></th>\n",
       "      <th></th>\n",
       "      <th></th>\n",
       "      <th></th>\n",
       "      <th></th>\n",
       "      <th></th>\n",
       "      <th></th>\n",
       "      <th></th>\n",
       "      <th></th>\n",
       "      <th></th>\n",
       "      <th></th>\n",
       "      <th></th>\n",
       "      <th></th>\n",
       "    </tr>\n",
       "  </thead>\n",
       "  <tbody>\n",
       "    <tr>\n",
       "      <th>2018-03-01 00:00:00</th>\n",
       "      <td>124</td>\n",
       "      <td>NaN</td>\n",
       "      <td>2018</td>\n",
       "      <td>3</td>\n",
       "      <td>1</td>\n",
       "      <td>3</td>\n",
       "      <td>NaN</td>\n",
       "      <td>NaN</td>\n",
       "      <td>NaN</td>\n",
       "      <td>NaN</td>\n",
       "      <td>...</td>\n",
       "      <td>NaN</td>\n",
       "      <td>NaN</td>\n",
       "      <td>NaN</td>\n",
       "      <td>NaN</td>\n",
       "      <td>NaN</td>\n",
       "      <td>NaN</td>\n",
       "      <td>NaN</td>\n",
       "      <td>NaN</td>\n",
       "      <td>NaN</td>\n",
       "      <td>NaN</td>\n",
       "    </tr>\n",
       "    <tr>\n",
       "      <th>2018-03-01 01:00:00</th>\n",
       "      <td>85</td>\n",
       "      <td>NaN</td>\n",
       "      <td>2018</td>\n",
       "      <td>3</td>\n",
       "      <td>1</td>\n",
       "      <td>3</td>\n",
       "      <td>124.0</td>\n",
       "      <td>NaN</td>\n",
       "      <td>NaN</td>\n",
       "      <td>NaN</td>\n",
       "      <td>...</td>\n",
       "      <td>NaN</td>\n",
       "      <td>NaN</td>\n",
       "      <td>NaN</td>\n",
       "      <td>NaN</td>\n",
       "      <td>NaN</td>\n",
       "      <td>NaN</td>\n",
       "      <td>NaN</td>\n",
       "      <td>NaN</td>\n",
       "      <td>NaN</td>\n",
       "      <td>NaN</td>\n",
       "    </tr>\n",
       "    <tr>\n",
       "      <th>2018-03-01 02:00:00</th>\n",
       "      <td>71</td>\n",
       "      <td>NaN</td>\n",
       "      <td>2018</td>\n",
       "      <td>3</td>\n",
       "      <td>1</td>\n",
       "      <td>3</td>\n",
       "      <td>85.0</td>\n",
       "      <td>124.0</td>\n",
       "      <td>NaN</td>\n",
       "      <td>NaN</td>\n",
       "      <td>...</td>\n",
       "      <td>NaN</td>\n",
       "      <td>NaN</td>\n",
       "      <td>NaN</td>\n",
       "      <td>NaN</td>\n",
       "      <td>NaN</td>\n",
       "      <td>NaN</td>\n",
       "      <td>NaN</td>\n",
       "      <td>NaN</td>\n",
       "      <td>NaN</td>\n",
       "      <td>NaN</td>\n",
       "    </tr>\n",
       "    <tr>\n",
       "      <th>2018-03-01 03:00:00</th>\n",
       "      <td>66</td>\n",
       "      <td>NaN</td>\n",
       "      <td>2018</td>\n",
       "      <td>3</td>\n",
       "      <td>1</td>\n",
       "      <td>3</td>\n",
       "      <td>71.0</td>\n",
       "      <td>85.0</td>\n",
       "      <td>124.0</td>\n",
       "      <td>NaN</td>\n",
       "      <td>...</td>\n",
       "      <td>NaN</td>\n",
       "      <td>NaN</td>\n",
       "      <td>NaN</td>\n",
       "      <td>NaN</td>\n",
       "      <td>NaN</td>\n",
       "      <td>NaN</td>\n",
       "      <td>NaN</td>\n",
       "      <td>NaN</td>\n",
       "      <td>NaN</td>\n",
       "      <td>NaN</td>\n",
       "    </tr>\n",
       "    <tr>\n",
       "      <th>2018-03-01 04:00:00</th>\n",
       "      <td>43</td>\n",
       "      <td>NaN</td>\n",
       "      <td>2018</td>\n",
       "      <td>3</td>\n",
       "      <td>1</td>\n",
       "      <td>3</td>\n",
       "      <td>66.0</td>\n",
       "      <td>71.0</td>\n",
       "      <td>85.0</td>\n",
       "      <td>124.0</td>\n",
       "      <td>...</td>\n",
       "      <td>NaN</td>\n",
       "      <td>NaN</td>\n",
       "      <td>NaN</td>\n",
       "      <td>NaN</td>\n",
       "      <td>NaN</td>\n",
       "      <td>NaN</td>\n",
       "      <td>NaN</td>\n",
       "      <td>NaN</td>\n",
       "      <td>NaN</td>\n",
       "      <td>NaN</td>\n",
       "    </tr>\n",
       "  </tbody>\n",
       "</table>\n",
       "<p>5 rows × 506 columns</p>\n",
       "</div>"
      ],
      "text/plain": [
       "                     num_orders  rolling_mean  year  month  day  dayofweek  \\\n",
       "datetime                                                                     \n",
       "2018-03-01 00:00:00         124           NaN  2018      3    1          3   \n",
       "2018-03-01 01:00:00          85           NaN  2018      3    1          3   \n",
       "2018-03-01 02:00:00          71           NaN  2018      3    1          3   \n",
       "2018-03-01 03:00:00          66           NaN  2018      3    1          3   \n",
       "2018-03-01 04:00:00          43           NaN  2018      3    1          3   \n",
       "\n",
       "                     lag_1  lag_2  lag_3  lag_4  ...  lag_491  lag_492  \\\n",
       "datetime                                         ...                     \n",
       "2018-03-01 00:00:00    NaN    NaN    NaN    NaN  ...      NaN      NaN   \n",
       "2018-03-01 01:00:00  124.0    NaN    NaN    NaN  ...      NaN      NaN   \n",
       "2018-03-01 02:00:00   85.0  124.0    NaN    NaN  ...      NaN      NaN   \n",
       "2018-03-01 03:00:00   71.0   85.0  124.0    NaN  ...      NaN      NaN   \n",
       "2018-03-01 04:00:00   66.0   71.0   85.0  124.0  ...      NaN      NaN   \n",
       "\n",
       "                     lag_493  lag_494  lag_495  lag_496  lag_497  lag_498  \\\n",
       "datetime                                                                    \n",
       "2018-03-01 00:00:00      NaN      NaN      NaN      NaN      NaN      NaN   \n",
       "2018-03-01 01:00:00      NaN      NaN      NaN      NaN      NaN      NaN   \n",
       "2018-03-01 02:00:00      NaN      NaN      NaN      NaN      NaN      NaN   \n",
       "2018-03-01 03:00:00      NaN      NaN      NaN      NaN      NaN      NaN   \n",
       "2018-03-01 04:00:00      NaN      NaN      NaN      NaN      NaN      NaN   \n",
       "\n",
       "                     lag_499  lag_500  \n",
       "datetime                               \n",
       "2018-03-01 00:00:00      NaN      NaN  \n",
       "2018-03-01 01:00:00      NaN      NaN  \n",
       "2018-03-01 02:00:00      NaN      NaN  \n",
       "2018-03-01 03:00:00      NaN      NaN  \n",
       "2018-03-01 04:00:00      NaN      NaN  \n",
       "\n",
       "[5 rows x 506 columns]"
      ]
     },
     "execution_count": 15,
     "metadata": {},
     "output_type": "execute_result"
    }
   ],
   "source": [
    "df_new.head()"
   ]
  },
  {
   "cell_type": "code",
   "execution_count": 16,
   "metadata": {},
   "outputs": [
    {
     "data": {
      "text/plain": [
       "(3916, 506)"
      ]
     },
     "execution_count": 16,
     "metadata": {},
     "output_type": "execute_result"
    }
   ],
   "source": [
    "df_new = df_new.dropna()\n",
    "df_new.shape"
   ]
  },
  {
   "cell_type": "code",
   "execution_count": 17,
   "metadata": {},
   "outputs": [
    {
     "data": {
      "text/html": [
       "<div>\n",
       "<style scoped>\n",
       "    .dataframe tbody tr th:only-of-type {\n",
       "        vertical-align: middle;\n",
       "    }\n",
       "\n",
       "    .dataframe tbody tr th {\n",
       "        vertical-align: top;\n",
       "    }\n",
       "\n",
       "    .dataframe thead th {\n",
       "        text-align: right;\n",
       "    }\n",
       "</style>\n",
       "<table border=\"1\" class=\"dataframe\">\n",
       "  <thead>\n",
       "    <tr style=\"text-align: right;\">\n",
       "      <th></th>\n",
       "      <th>num_orders</th>\n",
       "      <th>rolling_mean</th>\n",
       "      <th>year</th>\n",
       "      <th>month</th>\n",
       "      <th>day</th>\n",
       "      <th>dayofweek</th>\n",
       "      <th>lag_1</th>\n",
       "      <th>lag_2</th>\n",
       "      <th>lag_3</th>\n",
       "      <th>lag_4</th>\n",
       "      <th>...</th>\n",
       "      <th>lag_491</th>\n",
       "      <th>lag_492</th>\n",
       "      <th>lag_493</th>\n",
       "      <th>lag_494</th>\n",
       "      <th>lag_495</th>\n",
       "      <th>lag_496</th>\n",
       "      <th>lag_497</th>\n",
       "      <th>lag_498</th>\n",
       "      <th>lag_499</th>\n",
       "      <th>lag_500</th>\n",
       "    </tr>\n",
       "    <tr>\n",
       "      <th>datetime</th>\n",
       "      <th></th>\n",
       "      <th></th>\n",
       "      <th></th>\n",
       "      <th></th>\n",
       "      <th></th>\n",
       "      <th></th>\n",
       "      <th></th>\n",
       "      <th></th>\n",
       "      <th></th>\n",
       "      <th></th>\n",
       "      <th></th>\n",
       "      <th></th>\n",
       "      <th></th>\n",
       "      <th></th>\n",
       "      <th></th>\n",
       "      <th></th>\n",
       "      <th></th>\n",
       "      <th></th>\n",
       "      <th></th>\n",
       "      <th></th>\n",
       "      <th></th>\n",
       "    </tr>\n",
       "  </thead>\n",
       "  <tbody>\n",
       "    <tr>\n",
       "      <th>2018-03-21 20:00:00</th>\n",
       "      <td>60</td>\n",
       "      <td>56.580000</td>\n",
       "      <td>2018</td>\n",
       "      <td>3</td>\n",
       "      <td>21</td>\n",
       "      <td>2</td>\n",
       "      <td>41.0</td>\n",
       "      <td>95.0</td>\n",
       "      <td>61.0</td>\n",
       "      <td>61.0</td>\n",
       "      <td>...</td>\n",
       "      <td>69.0</td>\n",
       "      <td>34.0</td>\n",
       "      <td>15.0</td>\n",
       "      <td>12.0</td>\n",
       "      <td>6.0</td>\n",
       "      <td>43.0</td>\n",
       "      <td>66.0</td>\n",
       "      <td>71.0</td>\n",
       "      <td>85.0</td>\n",
       "      <td>124.0</td>\n",
       "    </tr>\n",
       "    <tr>\n",
       "      <th>2018-03-21 21:00:00</th>\n",
       "      <td>65</td>\n",
       "      <td>56.660000</td>\n",
       "      <td>2018</td>\n",
       "      <td>3</td>\n",
       "      <td>21</td>\n",
       "      <td>2</td>\n",
       "      <td>60.0</td>\n",
       "      <td>41.0</td>\n",
       "      <td>95.0</td>\n",
       "      <td>61.0</td>\n",
       "      <td>...</td>\n",
       "      <td>64.0</td>\n",
       "      <td>69.0</td>\n",
       "      <td>34.0</td>\n",
       "      <td>15.0</td>\n",
       "      <td>12.0</td>\n",
       "      <td>6.0</td>\n",
       "      <td>43.0</td>\n",
       "      <td>66.0</td>\n",
       "      <td>71.0</td>\n",
       "      <td>85.0</td>\n",
       "    </tr>\n",
       "    <tr>\n",
       "      <th>2018-03-21 22:00:00</th>\n",
       "      <td>73</td>\n",
       "      <td>56.733333</td>\n",
       "      <td>2018</td>\n",
       "      <td>3</td>\n",
       "      <td>21</td>\n",
       "      <td>2</td>\n",
       "      <td>65.0</td>\n",
       "      <td>60.0</td>\n",
       "      <td>41.0</td>\n",
       "      <td>95.0</td>\n",
       "      <td>...</td>\n",
       "      <td>96.0</td>\n",
       "      <td>64.0</td>\n",
       "      <td>69.0</td>\n",
       "      <td>34.0</td>\n",
       "      <td>15.0</td>\n",
       "      <td>12.0</td>\n",
       "      <td>6.0</td>\n",
       "      <td>43.0</td>\n",
       "      <td>66.0</td>\n",
       "      <td>71.0</td>\n",
       "    </tr>\n",
       "    <tr>\n",
       "      <th>2018-03-21 23:00:00</th>\n",
       "      <td>53</td>\n",
       "      <td>56.833333</td>\n",
       "      <td>2018</td>\n",
       "      <td>3</td>\n",
       "      <td>21</td>\n",
       "      <td>2</td>\n",
       "      <td>73.0</td>\n",
       "      <td>65.0</td>\n",
       "      <td>60.0</td>\n",
       "      <td>41.0</td>\n",
       "      <td>...</td>\n",
       "      <td>30.0</td>\n",
       "      <td>96.0</td>\n",
       "      <td>64.0</td>\n",
       "      <td>69.0</td>\n",
       "      <td>34.0</td>\n",
       "      <td>15.0</td>\n",
       "      <td>12.0</td>\n",
       "      <td>6.0</td>\n",
       "      <td>43.0</td>\n",
       "      <td>66.0</td>\n",
       "    </tr>\n",
       "    <tr>\n",
       "      <th>2018-03-22 00:00:00</th>\n",
       "      <td>139</td>\n",
       "      <td>56.846667</td>\n",
       "      <td>2018</td>\n",
       "      <td>3</td>\n",
       "      <td>22</td>\n",
       "      <td>3</td>\n",
       "      <td>53.0</td>\n",
       "      <td>73.0</td>\n",
       "      <td>65.0</td>\n",
       "      <td>60.0</td>\n",
       "      <td>...</td>\n",
       "      <td>32.0</td>\n",
       "      <td>30.0</td>\n",
       "      <td>96.0</td>\n",
       "      <td>64.0</td>\n",
       "      <td>69.0</td>\n",
       "      <td>34.0</td>\n",
       "      <td>15.0</td>\n",
       "      <td>12.0</td>\n",
       "      <td>6.0</td>\n",
       "      <td>43.0</td>\n",
       "    </tr>\n",
       "  </tbody>\n",
       "</table>\n",
       "<p>5 rows × 506 columns</p>\n",
       "</div>"
      ],
      "text/plain": [
       "                     num_orders  rolling_mean  year  month  day  dayofweek  \\\n",
       "datetime                                                                     \n",
       "2018-03-21 20:00:00          60     56.580000  2018      3   21          2   \n",
       "2018-03-21 21:00:00          65     56.660000  2018      3   21          2   \n",
       "2018-03-21 22:00:00          73     56.733333  2018      3   21          2   \n",
       "2018-03-21 23:00:00          53     56.833333  2018      3   21          2   \n",
       "2018-03-22 00:00:00         139     56.846667  2018      3   22          3   \n",
       "\n",
       "                     lag_1  lag_2  lag_3  lag_4  ...  lag_491  lag_492  \\\n",
       "datetime                                         ...                     \n",
       "2018-03-21 20:00:00   41.0   95.0   61.0   61.0  ...     69.0     34.0   \n",
       "2018-03-21 21:00:00   60.0   41.0   95.0   61.0  ...     64.0     69.0   \n",
       "2018-03-21 22:00:00   65.0   60.0   41.0   95.0  ...     96.0     64.0   \n",
       "2018-03-21 23:00:00   73.0   65.0   60.0   41.0  ...     30.0     96.0   \n",
       "2018-03-22 00:00:00   53.0   73.0   65.0   60.0  ...     32.0     30.0   \n",
       "\n",
       "                     lag_493  lag_494  lag_495  lag_496  lag_497  lag_498  \\\n",
       "datetime                                                                    \n",
       "2018-03-21 20:00:00     15.0     12.0      6.0     43.0     66.0     71.0   \n",
       "2018-03-21 21:00:00     34.0     15.0     12.0      6.0     43.0     66.0   \n",
       "2018-03-21 22:00:00     69.0     34.0     15.0     12.0      6.0     43.0   \n",
       "2018-03-21 23:00:00     64.0     69.0     34.0     15.0     12.0      6.0   \n",
       "2018-03-22 00:00:00     96.0     64.0     69.0     34.0     15.0     12.0   \n",
       "\n",
       "                     lag_499  lag_500  \n",
       "datetime                               \n",
       "2018-03-21 20:00:00     85.0    124.0  \n",
       "2018-03-21 21:00:00     71.0     85.0  \n",
       "2018-03-21 22:00:00     66.0     71.0  \n",
       "2018-03-21 23:00:00     43.0     66.0  \n",
       "2018-03-22 00:00:00      6.0     43.0  \n",
       "\n",
       "[5 rows x 506 columns]"
      ]
     },
     "execution_count": 17,
     "metadata": {},
     "output_type": "execute_result"
    }
   ],
   "source": [
    "df_new.head()"
   ]
  },
  {
   "cell_type": "code",
   "execution_count": 18,
   "metadata": {},
   "outputs": [],
   "source": [
    "features = df_new.drop('num_orders', axis = 1)\n",
    "target = df_new['num_orders']\n",
    "\n",
    "features_train, features_test, target_train, target_test = train_test_split(\n",
    "    features, target, shuffle=False, test_size=0.1)"
   ]
  },
  {
   "cell_type": "markdown",
   "metadata": {},
   "source": [
    "### LinearRegression"
   ]
  },
  {
   "cell_type": "code",
   "execution_count": 19,
   "metadata": {},
   "outputs": [
    {
     "name": "stderr",
     "output_type": "stream",
     "text": [
      "[Parallel(n_jobs=1)]: Using backend SequentialBackend with 1 concurrent workers.\n"
     ]
    },
    {
     "name": "stdout",
     "output_type": "stream",
     "text": [
      "[CV] START .....................................................................\n",
      "[CV] END .............................. score: (test=-83.915) total time=   1.2s\n",
      "[CV] START .....................................................................\n"
     ]
    },
    {
     "name": "stderr",
     "output_type": "stream",
     "text": [
      "[Parallel(n_jobs=1)]: Done   1 out of   1 | elapsed:    1.3s remaining:    0.0s\n"
     ]
    },
    {
     "name": "stdout",
     "output_type": "stream",
     "text": [
      "[CV] END .............................. score: (test=-25.612) total time=   1.0s\n",
      "[CV] START .....................................................................\n"
     ]
    },
    {
     "name": "stderr",
     "output_type": "stream",
     "text": [
      "[Parallel(n_jobs=1)]: Done   2 out of   2 | elapsed:    2.2s remaining:    0.0s\n"
     ]
    },
    {
     "name": "stdout",
     "output_type": "stream",
     "text": [
      "[CV] END .............................. score: (test=-23.831) total time=   1.5s\n",
      "[CV] START .....................................................................\n"
     ]
    },
    {
     "name": "stderr",
     "output_type": "stream",
     "text": [
      "[Parallel(n_jobs=1)]: Done   3 out of   3 | elapsed:    3.8s remaining:    0.0s\n"
     ]
    },
    {
     "name": "stdout",
     "output_type": "stream",
     "text": [
      "[CV] END .............................. score: (test=-24.898) total time=   2.3s\n",
      "[CV] START .....................................................................\n"
     ]
    },
    {
     "name": "stderr",
     "output_type": "stream",
     "text": [
      "[Parallel(n_jobs=1)]: Done   4 out of   4 | elapsed:    6.1s remaining:    0.0s\n"
     ]
    },
    {
     "name": "stdout",
     "output_type": "stream",
     "text": [
      "[CV] END .............................. score: (test=-29.223) total time=   1.5s\n"
     ]
    },
    {
     "name": "stderr",
     "output_type": "stream",
     "text": [
      "[Parallel(n_jobs=1)]: Done   5 out of   5 | elapsed:    7.6s remaining:    0.0s\n",
      "[Parallel(n_jobs=1)]: Done   5 out of   5 | elapsed:    7.6s finished\n"
     ]
    }
   ],
   "source": [
    "model_lr = LinearRegression()\n",
    "\n",
    "tscv = TimeSeriesSplit(n_splits=5)\n",
    "\n",
    "lr_scores = cross_val_score(model_lr, \n",
    "                            features_train, \n",
    "                            target_train, \n",
    "                            cv=tscv, \n",
    "                            scoring='neg_root_mean_squared_error',\n",
    "                            verbose=10)"
   ]
  },
  {
   "cell_type": "code",
   "execution_count": 20,
   "metadata": {},
   "outputs": [
    {
     "name": "stdout",
     "output_type": "stream",
     "text": [
      "Метрика RMSE для LinearRegression: 37.49572515618034\n"
     ]
    }
   ],
   "source": [
    "print('Метрика RMSE для LinearRegression:', abs(lr_scores.mean()))"
   ]
  },
  {
   "cell_type": "markdown",
   "metadata": {},
   "source": [
    "### CatBoost"
   ]
  },
  {
   "cell_type": "code",
   "execution_count": 21,
   "metadata": {
    "scrolled": true
   },
   "outputs": [
    {
     "name": "stdout",
     "output_type": "stream",
     "text": [
      "0:\tlearn: 75.8630624\ttest: 108.2707216\tbest: 108.2707216 (0)\ttotal: 320ms\tremaining: 6.07s\n",
      "19:\tlearn: 24.0417021\ttest: 43.8968207\tbest: 43.8968207 (19)\ttotal: 2.65s\tremaining: 0us\n",
      "\n",
      "bestTest = 43.8968207\n",
      "bestIteration = 19\n",
      "\n",
      "0:\tloss: 43.8968207\tbest: 43.8968207 (0)\ttotal: 3.53s\tremaining: 31.7s\n",
      "0:\tlearn: 61.7570940\ttest: 91.1748576\tbest: 91.1748576 (0)\ttotal: 202ms\tremaining: 3.84s\n",
      "19:\tlearn: 18.8282497\ttest: 31.9117143\tbest: 31.8846400 (18)\ttotal: 2.48s\tremaining: 0us\n",
      "\n",
      "bestTest = 31.88463999\n",
      "bestIteration = 18\n",
      "\n",
      "1:\tloss: 31.8846400\tbest: 31.8846400 (1)\ttotal: 6.01s\tremaining: 24s\n",
      "0:\tlearn: 48.3816885\ttest: 74.7045150\tbest: 74.7045150 (0)\ttotal: 177ms\tremaining: 3.36s\n",
      "19:\tlearn: 17.4774851\ttest: 31.6353954\tbest: 31.6353954 (19)\ttotal: 2.63s\tremaining: 0us\n",
      "\n",
      "bestTest = 31.63539535\n",
      "bestIteration = 19\n",
      "\n",
      "2:\tloss: 31.6353954\tbest: 31.6353954 (2)\ttotal: 8.65s\tremaining: 20.2s\n",
      "0:\tlearn: 36.5479323\ttest: 59.3824757\tbest: 59.3824757 (0)\ttotal: 236ms\tremaining: 4.49s\n",
      "19:\tlearn: 16.5503778\ttest: 31.4879697\tbest: 31.2689250 (12)\ttotal: 2.5s\tremaining: 0us\n",
      "\n",
      "bestTest = 31.26892499\n",
      "bestIteration = 12\n",
      "\n",
      "3:\tloss: 31.2689250\tbest: 31.2689250 (3)\ttotal: 11.2s\tremaining: 16.7s\n",
      "0:\tlearn: 28.2635695\ttest: 46.3615815\tbest: 46.3615815 (0)\ttotal: 219ms\tremaining: 4.16s\n",
      "19:\tlearn: 15.4146293\ttest: 33.4144506\tbest: 31.6707658 (4)\ttotal: 2.51s\tremaining: 0us\n",
      "\n",
      "bestTest = 31.67076583\n",
      "bestIteration = 4\n",
      "\n",
      "4:\tloss: 31.6707658\tbest: 31.2689250 (3)\ttotal: 13.7s\tremaining: 13.7s\n",
      "0:\tlearn: 75.8630624\ttest: 108.2707216\tbest: 108.2707216 (0)\ttotal: 184ms\tremaining: 7.16s\n",
      "20:\tlearn: 23.4353975\ttest: 42.8379451\tbest: 42.8379451 (20)\ttotal: 2.63s\tremaining: 2.38s\n",
      "39:\tlearn: 18.9944670\ttest: 33.1520652\tbest: 33.1520652 (39)\ttotal: 5.17s\tremaining: 0us\n",
      "\n",
      "bestTest = 33.15206522\n",
      "bestIteration = 39\n",
      "\n",
      "5:\tloss: 33.1520652\tbest: 31.2689250 (3)\ttotal: 18.9s\tremaining: 12.6s\n",
      "0:\tlearn: 61.7570940\ttest: 91.1748576\tbest: 91.1748576 (0)\ttotal: 196ms\tremaining: 7.65s\n",
      "20:\tlearn: 18.7876212\ttest: 31.8880404\tbest: 31.8846400 (18)\ttotal: 2.77s\tremaining: 2.5s\n",
      "39:\tlearn: 16.4641387\ttest: 31.0677758\tbest: 31.0677758 (39)\ttotal: 5.16s\tremaining: 0us\n",
      "\n",
      "bestTest = 31.06777579\n",
      "bestIteration = 39\n",
      "\n",
      "6:\tloss: 31.0677758\tbest: 31.0677758 (6)\ttotal: 24s\tremaining: 10.3s\n",
      "0:\tlearn: 48.3816885\ttest: 74.7045150\tbest: 74.7045150 (0)\ttotal: 186ms\tremaining: 7.24s\n",
      "20:\tlearn: 17.4290144\ttest: 31.6357689\tbest: 31.6353954 (19)\ttotal: 2.65s\tremaining: 2.4s\n",
      "39:\tlearn: 14.1006040\ttest: 31.0906247\tbest: 30.8896819 (29)\ttotal: 5.23s\tremaining: 0us\n",
      "\n",
      "bestTest = 30.88968187\n",
      "bestIteration = 29\n",
      "\n",
      "7:\tloss: 30.8896819\tbest: 30.8896819 (7)\ttotal: 29.3s\tremaining: 7.32s\n",
      "0:\tlearn: 36.5479323\ttest: 59.3824757\tbest: 59.3824757 (0)\ttotal: 182ms\tremaining: 7.1s\n",
      "20:\tlearn: 16.2824220\ttest: 31.9684409\tbest: 31.2689250 (12)\ttotal: 2.65s\tremaining: 2.4s\n",
      "39:\tlearn: 12.2441341\ttest: 32.9298674\tbest: 31.2689250 (12)\ttotal: 4.93s\tremaining: 0us\n",
      "\n",
      "bestTest = 31.26892499\n",
      "bestIteration = 12\n",
      "\n",
      "8:\tloss: 31.2689250\tbest: 30.8896819 (7)\ttotal: 34.2s\tremaining: 3.8s\n",
      "0:\tlearn: 28.2635695\ttest: 46.3615815\tbest: 46.3615815 (0)\ttotal: 183ms\tremaining: 7.15s\n",
      "20:\tlearn: 15.1264034\ttest: 33.3957090\tbest: 31.6707658 (4)\ttotal: 2.92s\tremaining: 2.64s\n",
      "39:\tlearn: 10.6893442\ttest: 34.6277516\tbest: 31.6707658 (4)\ttotal: 5.76s\tremaining: 0us\n",
      "\n",
      "bestTest = 31.67076583\n",
      "bestIteration = 4\n",
      "\n",
      "9:\tloss: 31.6707658\tbest: 30.8896819 (7)\ttotal: 40s\tremaining: 0us\n",
      "Estimating final quality...\n",
      "Training on fold [0/5]\n",
      "0:\tlearn: 42.1485779\ttest: 50.2807242\tbest: 50.2807242 (0)\ttotal: 167ms\tremaining: 6.53s\n",
      "20:\tlearn: 9.5179130\ttest: 22.9845428\tbest: 22.5914461 (10)\ttotal: 2.64s\tremaining: 2.39s\n",
      "39:\tlearn: 4.7021171\ttest: 23.5944891\tbest: 22.5914461 (10)\ttotal: 4.99s\tremaining: 0us\n",
      "\n",
      "bestTest = 22.59144612\n",
      "bestIteration = 10\n",
      "\n",
      "Training on fold [1/5]\n",
      "0:\tlearn: 44.4006453\ttest: 57.7755590\tbest: 57.7755590 (0)\ttotal: 195ms\tremaining: 7.62s\n",
      "20:\tlearn: 12.3929410\ttest: 25.7574494\tbest: 25.2732152 (13)\ttotal: 2.86s\tremaining: 2.59s\n",
      "39:\tlearn: 7.7014924\ttest: 25.6635746\tbest: 25.2732152 (13)\ttotal: 4.77s\tremaining: 0us\n",
      "\n",
      "bestTest = 25.27321522\n",
      "bestIteration = 13\n",
      "\n",
      "Training on fold [2/5]\n",
      "0:\tlearn: 45.2782622\ttest: 53.9673159\tbest: 53.9673159 (0)\ttotal: 156ms\tremaining: 6.07s\n",
      "20:\tlearn: 15.2104353\ttest: 22.6224047\tbest: 22.5006125 (17)\ttotal: 2.23s\tremaining: 2.02s\n",
      "39:\tlearn: 10.5386891\ttest: 23.1834568\tbest: 22.5006125 (17)\ttotal: 4.12s\tremaining: 0us\n",
      "\n",
      "bestTest = 22.50061248\n",
      "bestIteration = 17\n",
      "\n",
      "Training on fold [3/5]\n",
      "0:\tlearn: 46.7181155\ttest: 63.5952291\tbest: 63.5952291 (0)\ttotal: 171ms\tremaining: 6.69s\n",
      "20:\tlearn: 16.5991731\ttest: 25.3169212\tbest: 25.1554892 (15)\ttotal: 2.28s\tremaining: 2.07s\n",
      "39:\tlearn: 12.3911011\ttest: 25.9597145\tbest: 25.1554892 (15)\ttotal: 4.51s\tremaining: 0us\n",
      "\n",
      "bestTest = 25.15548916\n",
      "bestIteration = 15\n",
      "\n",
      "Training on fold [4/5]\n",
      "0:\tlearn: 49.0067496\ttest: 75.8152143\tbest: 75.8152143 (0)\ttotal: 201ms\tremaining: 7.83s\n",
      "20:\tlearn: 17.9856529\ttest: 30.7529324\tbest: 30.7238763 (16)\ttotal: 2.44s\tremaining: 2.21s\n",
      "39:\tlearn: 14.2465355\ttest: 31.4956509\tbest: 30.7238763 (16)\ttotal: 4.5s\tremaining: 0us\n",
      "\n",
      "bestTest = 30.72387629\n",
      "bestIteration = 16\n",
      "\n"
     ]
    }
   ],
   "source": [
    "train_pool = Pool(data=features_train,\n",
    "                  label=target_train,\n",
    "                 )\n",
    "\n",
    "catboost = CatBoostRegressor(loss_function='RMSE', verbose=20, random_state=RANDOM_STATE)\n",
    "\n",
    "parameters_cat = {'learning_rate':np.arange(0.1,1,0.2),\n",
    "                  'iterations': range(20, 60, 20)}\n",
    "\n",
    "catboost_grid = catboost.grid_search(parameters_cat, train_pool,\n",
    "            cv=tscv,\n",
    "            verbose=True,\n",
    "            plot=False)"
   ]
  },
  {
   "cell_type": "code",
   "execution_count": 22,
   "metadata": {},
   "outputs": [
    {
     "name": "stdout",
     "output_type": "stream",
     "text": [
      "RMSE catboost: 25.346302958251822\n"
     ]
    }
   ],
   "source": [
    "catboost_rmse = min(catboost_grid['cv_results']['test-RMSE-mean'])\n",
    "print('RMSE catboost:', catboost_rmse)"
   ]
  },
  {
   "cell_type": "markdown",
   "metadata": {},
   "source": [
    "Среди двух моделей получили лучшую, это CatBoost занчение RMSE получилось чуть лучше чем у линейной регресии"
   ]
  },
  {
   "cell_type": "markdown",
   "metadata": {},
   "source": [
    "## Тестирование"
   ]
  },
  {
   "cell_type": "code",
   "execution_count": 23,
   "metadata": {},
   "outputs": [
    {
     "data": {
      "text/plain": [
       "{'iterations': 40, 'learning_rate': 0.5000000000000001}"
      ]
     },
     "execution_count": 23,
     "metadata": {},
     "output_type": "execute_result"
    }
   ],
   "source": [
    "catboost_grid['params']"
   ]
  },
  {
   "cell_type": "code",
   "execution_count": 24,
   "metadata": {},
   "outputs": [],
   "source": [
    "test_pool = Pool(data=features_test,\n",
    "                  label=target_test,\n",
    "                 )"
   ]
  },
  {
   "cell_type": "code",
   "execution_count": 25,
   "metadata": {},
   "outputs": [
    {
     "name": "stdout",
     "output_type": "stream",
     "text": [
      "0:\tlearn: 29.4302336\ttest: 66.8323220\tbest: 66.8323220 (0)\ttotal: 297ms\tremaining: 11.6s\n",
      "10:\tlearn: 20.2393660\ttest: 41.5827989\tbest: 41.5827989 (10)\ttotal: 2.19s\tremaining: 5.77s\n",
      "20:\tlearn: 18.7413322\ttest: 40.8261272\tbest: 40.8261272 (20)\ttotal: 3.69s\tremaining: 3.34s\n",
      "30:\tlearn: 17.0727120\ttest: 39.7554641\tbest: 39.7484915 (28)\ttotal: 5.5s\tremaining: 1.6s\n",
      "39:\tlearn: 15.5771424\ttest: 39.7547052\tbest: 39.3572076 (35)\ttotal: 7.21s\tremaining: 0us\n",
      "\n",
      "bestTest = 39.35720763\n",
      "bestIteration = 35\n",
      "\n",
      "Shrink model to first 36 iterations.\n"
     ]
    },
    {
     "data": {
      "text/plain": [
       "<catboost.core.CatBoostRegressor at 0x7f713347daf0>"
      ]
     },
     "execution_count": 25,
     "metadata": {},
     "output_type": "execute_result"
    }
   ],
   "source": [
    "cb_model = CatBoostRegressor(loss_function='RMSE', **catboost_grid['params'], verbose=10, random_state=RANDOM_STATE)\n",
    "cb_model.fit(train_pool, eval_set=test_pool)"
   ]
  },
  {
   "cell_type": "code",
   "execution_count": 26,
   "metadata": {},
   "outputs": [
    {
     "name": "stdout",
     "output_type": "stream",
     "text": [
      "RMSE CatBoost: 39.35720763450165\n"
     ]
    }
   ],
   "source": [
    "print('RMSE CatBoost:', cb_model.best_score_['validation']['RMSE'])"
   ]
  },
  {
   "cell_type": "code",
   "execution_count": 27,
   "metadata": {},
   "outputs": [],
   "source": [
    "predictions = cb_model.predict(features_test)"
   ]
  },
  {
   "cell_type": "code",
   "execution_count": 28,
   "metadata": {},
   "outputs": [
    {
     "data": {
      "image/png": "[encoded data removed]",
      "text/plain": [
       "<Figure size 1080x360 with 1 Axes>"
      ]
     },
     "metadata": {
      "needs_background": "light"
     },
     "output_type": "display_data"
    }
   ],
   "source": [
    "prediction_frame = target_test.to_frame()\n",
    "prediction_frame['pred_num_orders'] = predictions\n",
    "prediction_frame.plot(figsize=(15, 5));"
   ]
  },
  {
   "cell_type": "markdown",
   "metadata": {},
   "source": [
    "Метрика получилась меньше 48, как и требовалось, осталось проверить модель на адекватность, сравнив с константной моделью"
   ]
  },
  {
   "cell_type": "code",
   "execution_count": 29,
   "metadata": {},
   "outputs": [
    {
     "name": "stdout",
     "output_type": "stream",
     "text": [
      "Метрика RMSE для dummy:  84.82973039380086\n"
     ]
    }
   ],
   "source": [
    "dummy_model = DummyRegressor()\n",
    "dummy_model.fit(features_train, target_train)\n",
    "dummy_predictions = dummy_model.predict(features_test)\n",
    "mse = mean_squared_error(target_test, dummy_predictions)\n",
    "print('Метрика RMSE для dummy: ', mse ** 0.5)"
   ]
  },
  {
   "cell_type": "markdown",
   "metadata": {},
   "source": [
    "Метрика у константной модели почти в два раза хуже, значит наша модель показывает хороший результат"
   ]
  }
 ],
 "metadata": {
  "ExecuteTimeLog": [
   {
    "duration": 1709,
    "start_time": "2023-09-21T07:24:39.091Z"
   },
   {
    "duration": 183,
    "start_time": "2023-09-21T07:25:02.731Z"
   },
   {
    "duration": 114,
    "start_time": "2023-09-21T07:25:18.830Z"
   },
   {
    "duration": 59,
    "start_time": "2023-09-21T07:25:25.875Z"
   },
   {
    "duration": 57,
    "start_time": "2023-09-21T07:27:20.688Z"
   },
   {
    "duration": 12,
    "start_time": "2023-09-21T07:27:56.526Z"
   },
   {
    "duration": 16,
    "start_time": "2023-09-21T07:28:20.364Z"
   },
   {
    "duration": 14,
    "start_time": "2023-09-21T07:28:24.632Z"
   },
   {
    "duration": 19,
    "start_time": "2023-09-21T07:28:40.355Z"
   },
   {
    "duration": 16,
    "start_time": "2023-09-21T07:29:00.522Z"
   },
   {
    "duration": 16,
    "start_time": "2023-09-21T08:08:40.429Z"
   },
   {
    "duration": 63,
    "start_time": "2023-09-21T08:09:52.299Z"
   },
   {
    "duration": 10,
    "start_time": "2023-09-21T08:09:54.857Z"
   },
   {
    "duration": 62,
    "start_time": "2023-09-21T08:10:49.281Z"
   },
   {
    "duration": 12,
    "start_time": "2023-09-21T08:11:05.655Z"
   },
   {
    "duration": 11,
    "start_time": "2023-09-21T08:12:54.181Z"
   },
   {
    "duration": 11,
    "start_time": "2023-09-21T08:12:59.302Z"
   },
   {
    "duration": 12,
    "start_time": "2023-09-21T08:13:05.556Z"
   },
   {
    "duration": 11,
    "start_time": "2023-09-21T08:13:12.329Z"
   },
   {
    "duration": 16,
    "start_time": "2023-09-21T08:13:19.434Z"
   },
   {
    "duration": 9,
    "start_time": "2023-09-21T08:13:34.053Z"
   },
   {
    "duration": 9,
    "start_time": "2023-09-21T08:13:37.887Z"
   },
   {
    "duration": 1623,
    "start_time": "2023-09-21T08:13:45.101Z"
   },
   {
    "duration": 58,
    "start_time": "2023-09-21T08:13:46.727Z"
   },
   {
    "duration": 12,
    "start_time": "2023-09-21T08:13:46.786Z"
   },
   {
    "duration": 23,
    "start_time": "2023-09-21T08:13:46.799Z"
   },
   {
    "duration": 139,
    "start_time": "2023-09-21T08:13:46.824Z"
   },
   {
    "duration": 13,
    "start_time": "2023-09-21T08:13:59.044Z"
   },
   {
    "duration": 10,
    "start_time": "2023-09-21T08:14:18.351Z"
   },
   {
    "duration": 1663,
    "start_time": "2023-09-21T08:14:24.471Z"
   },
   {
    "duration": 60,
    "start_time": "2023-09-21T08:14:26.137Z"
   },
   {
    "duration": 12,
    "start_time": "2023-09-21T08:14:26.198Z"
   },
   {
    "duration": 36,
    "start_time": "2023-09-21T08:14:26.211Z"
   },
   {
    "duration": 11,
    "start_time": "2023-09-21T08:14:26.249Z"
   },
   {
    "duration": 126,
    "start_time": "2023-09-21T08:14:43.665Z"
   },
   {
    "duration": 11,
    "start_time": "2023-09-21T08:15:03.248Z"
   },
   {
    "duration": 9,
    "start_time": "2023-09-21T08:15:08.085Z"
   },
   {
    "duration": 1734,
    "start_time": "2023-09-21T08:15:13.874Z"
   },
   {
    "duration": 69,
    "start_time": "2023-09-21T08:15:15.611Z"
   },
   {
    "duration": 10,
    "start_time": "2023-09-21T08:15:15.682Z"
   },
   {
    "duration": 24,
    "start_time": "2023-09-21T08:15:15.693Z"
   },
   {
    "duration": 21,
    "start_time": "2023-09-21T08:15:15.719Z"
   },
   {
    "duration": 4,
    "start_time": "2023-09-21T08:15:22.541Z"
   },
   {
    "duration": 125,
    "start_time": "2023-09-21T08:15:27.444Z"
   },
   {
    "duration": 10,
    "start_time": "2023-09-21T08:15:32.714Z"
   },
   {
    "duration": 1501,
    "start_time": "2023-09-21T08:15:37.869Z"
   },
   {
    "duration": 60,
    "start_time": "2023-09-21T08:15:39.373Z"
   },
   {
    "duration": 18,
    "start_time": "2023-09-21T08:15:39.435Z"
   },
   {
    "duration": 26,
    "start_time": "2023-09-21T08:15:39.454Z"
   },
   {
    "duration": 37,
    "start_time": "2023-09-21T08:15:39.482Z"
   },
   {
    "duration": 26,
    "start_time": "2023-09-21T08:15:39.521Z"
   },
   {
    "duration": 148,
    "start_time": "2023-09-21T08:16:11.525Z"
   },
   {
    "duration": 1848,
    "start_time": "2023-09-21T08:16:26.207Z"
   },
   {
    "duration": 58,
    "start_time": "2023-09-21T08:16:28.057Z"
   },
   {
    "duration": 12,
    "start_time": "2023-09-21T08:16:28.117Z"
   },
   {
    "duration": 16,
    "start_time": "2023-09-21T08:16:28.131Z"
   },
   {
    "duration": 11,
    "start_time": "2023-09-21T08:16:28.150Z"
   },
   {
    "duration": 52,
    "start_time": "2023-09-21T08:16:28.163Z"
   },
   {
    "duration": 5,
    "start_time": "2023-09-21T08:16:43.449Z"
   },
   {
    "duration": 4,
    "start_time": "2023-09-21T08:16:45.873Z"
   },
   {
    "duration": 16,
    "start_time": "2023-09-21T08:16:47.321Z"
   },
   {
    "duration": 136,
    "start_time": "2023-09-21T08:17:05.522Z"
   },
   {
    "duration": 1572,
    "start_time": "2023-09-21T08:17:10.326Z"
   },
   {
    "duration": 69,
    "start_time": "2023-09-21T08:17:11.900Z"
   },
   {
    "duration": 11,
    "start_time": "2023-09-21T08:17:11.971Z"
   },
   {
    "duration": 9,
    "start_time": "2023-09-21T08:17:11.984Z"
   },
   {
    "duration": 16,
    "start_time": "2023-09-21T08:18:30.119Z"
   },
   {
    "duration": 849,
    "start_time": "2023-09-21T08:21:57.890Z"
   },
   {
    "duration": 129,
    "start_time": "2023-09-21T08:22:13.980Z"
   },
   {
    "duration": 807,
    "start_time": "2023-09-21T08:22:43.551Z"
   },
   {
    "duration": 19,
    "start_time": "2023-09-21T08:33:38.947Z"
   },
   {
    "duration": 334,
    "start_time": "2023-09-21T08:34:05.056Z"
   },
   {
    "duration": 197,
    "start_time": "2023-09-21T08:34:17.498Z"
   },
   {
    "duration": 251,
    "start_time": "2023-09-21T08:34:25.653Z"
   },
   {
    "duration": 16,
    "start_time": "2023-09-21T08:46:40.031Z"
   },
   {
    "duration": 1591,
    "start_time": "2023-09-21T08:46:50.742Z"
   },
   {
    "duration": 59,
    "start_time": "2023-09-21T08:46:52.335Z"
   },
   {
    "duration": 10,
    "start_time": "2023-09-21T08:46:52.396Z"
   },
   {
    "duration": 140,
    "start_time": "2023-09-21T08:46:52.408Z"
   },
   {
    "duration": 98,
    "start_time": "2023-09-21T08:46:52.550Z"
   },
   {
    "duration": 13,
    "start_time": "2023-09-21T08:49:10.803Z"
   },
   {
    "duration": 3,
    "start_time": "2023-09-21T08:49:22.181Z"
   },
   {
    "duration": 130,
    "start_time": "2023-09-21T08:51:46.717Z"
   },
   {
    "duration": 277,
    "start_time": "2023-09-21T08:51:54.878Z"
   },
   {
    "duration": 324,
    "start_time": "2023-09-21T08:51:58.086Z"
   },
   {
    "duration": 369,
    "start_time": "2023-09-21T08:52:16.057Z"
   },
   {
    "duration": 402,
    "start_time": "2023-09-21T08:52:25.835Z"
   },
   {
    "duration": 319,
    "start_time": "2023-09-21T08:52:31.441Z"
   },
   {
    "duration": 302,
    "start_time": "2023-09-21T08:52:43.517Z"
   },
   {
    "duration": 316,
    "start_time": "2023-09-21T08:52:49.076Z"
   },
   {
    "duration": 425,
    "start_time": "2023-09-21T08:53:01.999Z"
   },
   {
    "duration": 16,
    "start_time": "2023-09-21T08:53:39.544Z"
   },
   {
    "duration": 24,
    "start_time": "2023-09-21T08:54:04.974Z"
   },
   {
    "duration": 16,
    "start_time": "2023-09-21T08:54:09.867Z"
   },
   {
    "duration": 1527,
    "start_time": "2023-09-21T08:54:52.550Z"
   },
   {
    "duration": 67,
    "start_time": "2023-09-21T08:54:54.080Z"
   },
   {
    "duration": 93,
    "start_time": "2023-09-21T08:54:54.149Z"
   },
   {
    "duration": 170,
    "start_time": "2023-09-21T08:54:54.245Z"
   },
   {
    "duration": 211,
    "start_time": "2023-09-21T08:54:54.417Z"
   },
   {
    "duration": 111,
    "start_time": "2023-09-21T08:54:54.630Z"
   },
   {
    "duration": 147,
    "start_time": "2023-09-21T08:54:54.743Z"
   },
   {
    "duration": 502,
    "start_time": "2023-09-21T08:54:54.892Z"
   },
   {
    "duration": 127,
    "start_time": "2023-09-21T08:54:55.396Z"
   },
   {
    "duration": 42,
    "start_time": "2023-09-21T08:55:01.249Z"
   },
   {
    "duration": 1979,
    "start_time": "2023-09-21T08:55:17.616Z"
   },
   {
    "duration": 67,
    "start_time": "2023-09-21T08:55:19.599Z"
   },
   {
    "duration": 11,
    "start_time": "2023-09-21T08:55:19.668Z"
   },
   {
    "duration": 133,
    "start_time": "2023-09-21T08:55:19.681Z"
   },
   {
    "duration": 57,
    "start_time": "2023-09-21T08:55:19.816Z"
   },
   {
    "duration": 63,
    "start_time": "2023-09-21T08:55:19.874Z"
   },
   {
    "duration": 140,
    "start_time": "2023-09-21T08:55:19.938Z"
   },
   {
    "duration": 666,
    "start_time": "2023-09-21T08:55:20.080Z"
   },
   {
    "duration": 127,
    "start_time": "2023-09-21T08:55:20.748Z"
   },
   {
    "duration": 12,
    "start_time": "2023-09-21T08:59:08.514Z"
   },
   {
    "duration": 1904,
    "start_time": "2023-09-21T09:00:39.612Z"
   },
   {
    "duration": 60,
    "start_time": "2023-09-21T09:00:41.519Z"
   },
   {
    "duration": 11,
    "start_time": "2023-09-21T09:00:41.581Z"
   },
   {
    "duration": 24,
    "start_time": "2023-09-21T09:00:41.594Z"
   },
   {
    "duration": 24,
    "start_time": "2023-09-21T09:00:41.620Z"
   },
   {
    "duration": 27,
    "start_time": "2023-09-21T09:00:41.646Z"
   },
   {
    "duration": 25,
    "start_time": "2023-09-21T09:00:41.675Z"
   },
   {
    "duration": 859,
    "start_time": "2023-09-21T09:00:41.701Z"
   },
   {
    "duration": 817,
    "start_time": "2023-09-21T09:00:51.973Z"
   },
   {
    "duration": 836,
    "start_time": "2023-09-21T09:01:11.054Z"
   },
   {
    "duration": 888,
    "start_time": "2023-09-21T09:01:52.388Z"
   },
   {
    "duration": 768,
    "start_time": "2023-09-21T09:02:05.159Z"
   },
   {
    "duration": 781,
    "start_time": "2023-09-21T09:02:14.006Z"
   },
   {
    "duration": 805,
    "start_time": "2023-09-21T09:03:40.206Z"
   },
   {
    "duration": 845,
    "start_time": "2023-09-21T09:03:53.069Z"
   },
   {
    "duration": 720,
    "start_time": "2023-09-21T09:04:13.613Z"
   },
   {
    "duration": 740,
    "start_time": "2023-09-21T09:04:20.366Z"
   },
   {
    "duration": 252,
    "start_time": "2023-09-21T09:04:38.889Z"
   },
   {
    "duration": 457,
    "start_time": "2023-09-21T09:04:59.491Z"
   },
   {
    "duration": 374,
    "start_time": "2023-09-21T09:06:56.920Z"
   },
   {
    "duration": 23,
    "start_time": "2023-09-21T09:07:08.556Z"
   },
   {
    "duration": 1621,
    "start_time": "2023-09-21T09:26:31.428Z"
   },
   {
    "duration": 60,
    "start_time": "2023-09-21T09:26:33.052Z"
   },
   {
    "duration": 104,
    "start_time": "2023-09-21T09:26:33.113Z"
   },
   {
    "duration": 149,
    "start_time": "2023-09-21T09:26:33.218Z"
   },
   {
    "duration": 89,
    "start_time": "2023-09-21T09:26:33.369Z"
   },
   {
    "duration": 132,
    "start_time": "2023-09-21T09:26:33.459Z"
   },
   {
    "duration": 186,
    "start_time": "2023-09-21T09:26:33.593Z"
   },
   {
    "duration": 934,
    "start_time": "2023-09-21T09:26:33.780Z"
   },
   {
    "duration": 413,
    "start_time": "2023-09-21T09:26:34.716Z"
   },
   {
    "duration": 5,
    "start_time": "2023-09-21T09:26:35.131Z"
   },
   {
    "duration": 522,
    "start_time": "2023-09-21T09:26:35.138Z"
   },
   {
    "duration": 22,
    "start_time": "2023-09-21T09:26:35.662Z"
   },
   {
    "duration": 67,
    "start_time": "2023-09-21T09:26:35.686Z"
   },
   {
    "duration": 37,
    "start_time": "2023-09-21T09:29:58.511Z"
   },
   {
    "duration": 35,
    "start_time": "2023-09-21T09:30:53.113Z"
   },
   {
    "duration": 3,
    "start_time": "2023-09-21T09:41:01.214Z"
   },
   {
    "duration": 4,
    "start_time": "2023-09-21T09:41:02.742Z"
   },
   {
    "duration": 183,
    "start_time": "2023-09-21T09:50:25.792Z"
   },
   {
    "duration": 8,
    "start_time": "2023-09-21T09:50:32.226Z"
   },
   {
    "duration": 17,
    "start_time": "2023-09-21T09:50:36.021Z"
   },
   {
    "duration": 18,
    "start_time": "2023-09-21T09:50:57.651Z"
   },
   {
    "duration": 13534,
    "start_time": "2023-09-21T09:51:16.269Z"
   },
   {
    "duration": 6,
    "start_time": "2023-09-21T09:52:10.277Z"
   },
   {
    "duration": 4,
    "start_time": "2023-09-21T09:52:45.287Z"
   },
   {
    "duration": 13280,
    "start_time": "2023-09-21T09:52:57.096Z"
   },
   {
    "duration": 82,
    "start_time": "2023-09-21T09:53:18.897Z"
   },
   {
    "duration": 16,
    "start_time": "2023-09-21T09:53:30.654Z"
   },
   {
    "duration": 25,
    "start_time": "2023-09-21T09:54:23.209Z"
   },
   {
    "duration": 76515,
    "start_time": "2023-09-21T09:55:45.215Z"
   },
   {
    "duration": 4,
    "start_time": "2023-09-21T09:57:11.653Z"
   },
   {
    "duration": 8,
    "start_time": "2023-09-21T09:58:01.460Z"
   },
   {
    "duration": 75858,
    "start_time": "2023-09-21T09:58:19.884Z"
   },
   {
    "duration": 6,
    "start_time": "2023-09-21T09:59:40.784Z"
   },
   {
    "duration": 4,
    "start_time": "2023-09-21T10:00:42.756Z"
   },
   {
    "duration": 6,
    "start_time": "2023-09-21T10:00:47.849Z"
   },
   {
    "duration": 16,
    "start_time": "2023-09-21T10:05:21.703Z"
   },
   {
    "duration": 63512,
    "start_time": "2023-09-21T10:05:43.900Z"
   },
   {
    "duration": 5,
    "start_time": "2023-09-21T10:08:46.298Z"
   },
   {
    "duration": 5,
    "start_time": "2023-09-21T10:10:21.469Z"
   },
   {
    "duration": 23,
    "start_time": "2023-09-21T10:11:23.599Z"
   },
   {
    "duration": 7005,
    "start_time": "2023-09-21T10:11:26.802Z"
   },
   {
    "duration": 3,
    "start_time": "2023-09-21T10:11:53.009Z"
   },
   {
    "duration": 6768,
    "start_time": "2023-09-21T10:12:43.448Z"
   },
   {
    "duration": 6,
    "start_time": "2023-09-21T10:14:13.191Z"
   },
   {
    "duration": 129659,
    "start_time": "2023-09-21T10:15:40.082Z"
   },
   {
    "duration": 7303,
    "start_time": "2023-09-21T10:18:28.523Z"
   },
   {
    "duration": 2179,
    "start_time": "2023-09-21T10:19:19.091Z"
   },
   {
    "duration": 3,
    "start_time": "2023-09-21T10:19:21.278Z"
   },
   {
    "duration": 189,
    "start_time": "2023-09-21T10:19:21.283Z"
   },
   {
    "duration": 135,
    "start_time": "2023-09-21T10:19:21.474Z"
   },
   {
    "duration": 12,
    "start_time": "2023-09-21T10:19:21.611Z"
   },
   {
    "duration": 15,
    "start_time": "2023-09-21T10:19:21.625Z"
   },
   {
    "duration": 23,
    "start_time": "2023-09-21T10:19:21.642Z"
   },
   {
    "duration": 17,
    "start_time": "2023-09-21T10:19:21.668Z"
   },
   {
    "duration": 6,
    "start_time": "2023-09-21T10:19:21.688Z"
   },
   {
    "duration": 902,
    "start_time": "2023-09-21T10:19:21.696Z"
   },
   {
    "duration": 486,
    "start_time": "2023-09-21T10:19:22.600Z"
   },
   {
    "duration": 8,
    "start_time": "2023-09-21T10:19:23.089Z"
   },
   {
    "duration": 590,
    "start_time": "2023-09-21T10:19:23.098Z"
   },
   {
    "duration": 49,
    "start_time": "2023-09-21T10:19:23.692Z"
   },
   {
    "duration": 44,
    "start_time": "2023-09-21T10:19:23.746Z"
   },
   {
    "duration": 153,
    "start_time": "2023-09-21T10:19:23.792Z"
   },
   {
    "duration": 214,
    "start_time": "2023-09-21T10:19:23.946Z"
   },
   {
    "duration": 82674,
    "start_time": "2023-09-21T10:19:24.163Z"
   },
   {
    "duration": 11,
    "start_time": "2023-09-21T10:20:46.844Z"
   },
   {
    "duration": 33925,
    "start_time": "2023-09-21T10:20:46.924Z"
   },
   {
    "duration": 0,
    "start_time": "2023-09-21T10:21:20.852Z"
   },
   {
    "duration": 0,
    "start_time": "2023-09-21T10:21:20.853Z"
   },
   {
    "duration": 0,
    "start_time": "2023-09-21T10:21:20.854Z"
   },
   {
    "duration": 0,
    "start_time": "2023-09-21T10:21:20.859Z"
   },
   {
    "duration": 0,
    "start_time": "2023-09-21T10:21:20.861Z"
   },
   {
    "duration": 0,
    "start_time": "2023-09-21T10:21:20.862Z"
   },
   {
    "duration": 14,
    "start_time": "2023-09-21T10:21:41.250Z"
   },
   {
    "duration": 2069,
    "start_time": "2023-09-21T10:21:48.297Z"
   },
   {
    "duration": 3,
    "start_time": "2023-09-21T10:21:50.371Z"
   },
   {
    "duration": 34,
    "start_time": "2023-09-21T10:21:50.376Z"
   },
   {
    "duration": 94,
    "start_time": "2023-09-21T10:21:50.412Z"
   },
   {
    "duration": 11,
    "start_time": "2023-09-21T10:21:50.509Z"
   },
   {
    "duration": 16,
    "start_time": "2023-09-21T10:21:50.522Z"
   },
   {
    "duration": 8,
    "start_time": "2023-09-21T10:21:50.539Z"
   },
   {
    "duration": 24,
    "start_time": "2023-09-21T10:21:50.548Z"
   },
   {
    "duration": 17,
    "start_time": "2023-09-21T10:21:50.574Z"
   },
   {
    "duration": 913,
    "start_time": "2023-09-21T10:21:50.593Z"
   },
   {
    "duration": 448,
    "start_time": "2023-09-21T10:21:51.508Z"
   },
   {
    "duration": 6,
    "start_time": "2023-09-21T10:21:51.958Z"
   },
   {
    "duration": 440,
    "start_time": "2023-09-21T10:21:51.966Z"
   },
   {
    "duration": 45,
    "start_time": "2023-09-21T10:21:52.408Z"
   },
   {
    "duration": 42,
    "start_time": "2023-09-21T10:21:52.455Z"
   },
   {
    "duration": 46,
    "start_time": "2023-09-21T10:21:52.499Z"
   },
   {
    "duration": 23,
    "start_time": "2023-09-21T10:21:52.552Z"
   },
   {
    "duration": 93180,
    "start_time": "2023-09-21T10:21:52.577Z"
   },
   {
    "duration": 67,
    "start_time": "2023-09-21T10:23:25.760Z"
   },
   {
    "duration": 63782,
    "start_time": "2023-09-21T10:23:25.831Z"
   },
   {
    "duration": 3,
    "start_time": "2023-09-21T10:24:29.615Z"
   },
   {
    "duration": 30,
    "start_time": "2023-09-21T10:24:29.620Z"
   },
   {
    "duration": 51,
    "start_time": "2023-09-21T10:24:29.652Z"
   },
   {
    "duration": 8246,
    "start_time": "2023-09-21T10:24:29.705Z"
   },
   {
    "duration": 4,
    "start_time": "2023-09-21T10:24:37.953Z"
   },
   {
    "duration": 33,
    "start_time": "2023-09-21T10:24:37.958Z"
   },
   {
    "duration": 64,
    "start_time": "2023-09-22T08:41:30.714Z"
   },
   {
    "duration": 1803,
    "start_time": "2023-09-22T08:41:37.343Z"
   },
   {
    "duration": 3,
    "start_time": "2023-09-22T08:41:39.150Z"
   },
   {
    "duration": 19,
    "start_time": "2023-09-22T08:41:39.154Z"
   },
   {
    "duration": 142,
    "start_time": "2023-09-22T08:41:39.175Z"
   },
   {
    "duration": 13,
    "start_time": "2023-09-22T08:41:39.319Z"
   },
   {
    "duration": 15,
    "start_time": "2023-09-22T08:41:39.333Z"
   },
   {
    "duration": 16,
    "start_time": "2023-09-22T08:41:39.350Z"
   },
   {
    "duration": 27,
    "start_time": "2023-09-22T08:41:39.368Z"
   },
   {
    "duration": 5,
    "start_time": "2023-09-22T08:41:39.398Z"
   },
   {
    "duration": 1117,
    "start_time": "2023-09-22T08:41:39.410Z"
   },
   {
    "duration": 340,
    "start_time": "2023-09-22T08:41:40.529Z"
   },
   {
    "duration": 6,
    "start_time": "2023-09-22T08:41:40.872Z"
   },
   {
    "duration": 779,
    "start_time": "2023-09-22T08:41:40.879Z"
   },
   {
    "duration": 27,
    "start_time": "2023-09-22T08:41:41.711Z"
   },
   {
    "duration": 95,
    "start_time": "2023-09-22T08:41:41.740Z"
   },
   {
    "duration": 80,
    "start_time": "2023-09-22T08:41:41.836Z"
   },
   {
    "duration": 37,
    "start_time": "2023-09-22T08:41:41.918Z"
   },
   {
    "duration": 7958,
    "start_time": "2023-09-22T08:41:41.957Z"
   },
   {
    "duration": 91,
    "start_time": "2023-09-22T08:41:49.917Z"
   },
   {
    "duration": 53737,
    "start_time": "2023-09-22T08:41:50.011Z"
   },
   {
    "duration": 0,
    "start_time": "2023-09-22T08:42:43.750Z"
   },
   {
    "duration": 0,
    "start_time": "2023-09-22T08:42:43.751Z"
   },
   {
    "duration": 0,
    "start_time": "2023-09-22T08:42:43.753Z"
   },
   {
    "duration": 0,
    "start_time": "2023-09-22T08:42:43.754Z"
   },
   {
    "duration": 0,
    "start_time": "2023-09-22T08:42:43.755Z"
   },
   {
    "duration": 0,
    "start_time": "2023-09-22T08:42:43.757Z"
   },
   {
    "duration": 0,
    "start_time": "2023-09-22T08:42:43.758Z"
   },
   {
    "duration": 193,
    "start_time": "2023-09-22T08:42:45.377Z"
   },
   {
    "duration": 286,
    "start_time": "2023-09-22T08:42:58.555Z"
   },
   {
    "duration": 322,
    "start_time": "2023-09-22T08:43:01.654Z"
   },
   {
    "duration": 246,
    "start_time": "2023-09-22T08:43:09.137Z"
   },
   {
    "duration": 257,
    "start_time": "2023-09-22T08:43:16.419Z"
   },
   {
    "duration": 179,
    "start_time": "2023-09-22T08:44:23.352Z"
   },
   {
    "duration": 206,
    "start_time": "2023-09-22T08:44:32.946Z"
   },
   {
    "duration": 4,
    "start_time": "2023-09-22T08:48:39.707Z"
   },
   {
    "duration": 3,
    "start_time": "2023-09-22T08:54:50.056Z"
   },
   {
    "duration": 23,
    "start_time": "2023-09-22T08:56:22.066Z"
   },
   {
    "duration": 2519,
    "start_time": "2023-09-22T08:56:29.748Z"
   },
   {
    "duration": 3,
    "start_time": "2023-09-22T08:56:32.270Z"
   },
   {
    "duration": 19,
    "start_time": "2023-09-22T08:56:32.275Z"
   },
   {
    "duration": 65,
    "start_time": "2023-09-22T08:56:32.297Z"
   },
   {
    "duration": 15,
    "start_time": "2023-09-22T08:56:32.364Z"
   },
   {
    "duration": 11,
    "start_time": "2023-09-22T08:56:32.381Z"
   },
   {
    "duration": 11,
    "start_time": "2023-09-22T08:56:32.394Z"
   },
   {
    "duration": 19,
    "start_time": "2023-09-22T08:56:32.409Z"
   },
   {
    "duration": 5,
    "start_time": "2023-09-22T08:56:32.431Z"
   },
   {
    "duration": 1043,
    "start_time": "2023-09-22T08:56:32.439Z"
   },
   {
    "duration": 253,
    "start_time": "2023-09-22T08:56:33.485Z"
   },
   {
    "duration": 331,
    "start_time": "2023-09-22T08:56:33.739Z"
   },
   {
    "duration": 6,
    "start_time": "2023-09-22T08:56:34.073Z"
   },
   {
    "duration": 409,
    "start_time": "2023-09-22T08:56:34.081Z"
   },
   {
    "duration": 35,
    "start_time": "2023-09-22T08:56:34.491Z"
   },
   {
    "duration": 43,
    "start_time": "2023-09-22T08:56:34.528Z"
   },
   {
    "duration": 44,
    "start_time": "2023-09-22T08:56:34.573Z"
   },
   {
    "duration": 23,
    "start_time": "2023-09-22T08:56:34.618Z"
   },
   {
    "duration": 7866,
    "start_time": "2023-09-22T08:56:34.644Z"
   },
   {
    "duration": 5,
    "start_time": "2023-09-22T08:56:42.513Z"
   },
   {
    "duration": 63345,
    "start_time": "2023-09-22T08:56:42.521Z"
   },
   {
    "duration": 4,
    "start_time": "2023-09-22T08:57:45.867Z"
   },
   {
    "duration": 11,
    "start_time": "2023-09-22T08:57:45.873Z"
   },
   {
    "duration": 47,
    "start_time": "2023-09-22T08:57:45.886Z"
   },
   {
    "duration": 6110,
    "start_time": "2023-09-22T08:57:45.935Z"
   },
   {
    "duration": 4,
    "start_time": "2023-09-22T08:57:52.047Z"
   },
   {
    "duration": 14,
    "start_time": "2023-09-22T08:57:52.053Z"
   },
   {
    "duration": 5,
    "start_time": "2023-09-22T09:02:45.890Z"
   },
   {
    "duration": 4,
    "start_time": "2023-09-22T09:02:48.436Z"
   },
   {
    "duration": 5,
    "start_time": "2023-09-22T09:03:01.885Z"
   },
   {
    "duration": 5,
    "start_time": "2023-09-22T09:03:05.783Z"
   },
   {
    "duration": 2495,
    "start_time": "2023-09-22T09:04:55.339Z"
   },
   {
    "duration": 4,
    "start_time": "2023-09-22T09:05:15.664Z"
   },
   {
    "duration": 240,
    "start_time": "2023-09-22T09:05:21.698Z"
   },
   {
    "duration": 276,
    "start_time": "2023-09-22T09:05:54.081Z"
   },
   {
    "duration": 245,
    "start_time": "2023-09-22T09:06:06.035Z"
   },
   {
    "duration": 463,
    "start_time": "2023-09-22T09:06:09.642Z"
   },
   {
    "duration": 319,
    "start_time": "2023-09-22T09:06:16.938Z"
   },
   {
    "duration": 502,
    "start_time": "2023-09-22T09:06:23.387Z"
   },
   {
    "duration": 381,
    "start_time": "2023-09-22T09:06:33.341Z"
   },
   {
    "duration": 379,
    "start_time": "2023-09-22T09:06:43.351Z"
   },
   {
    "duration": 5,
    "start_time": "2023-09-22T09:07:26.976Z"
   },
   {
    "duration": 6361,
    "start_time": "2023-09-22T09:12:48.037Z"
   },
   {
    "duration": 5,
    "start_time": "2023-09-22T09:13:01.234Z"
   },
   {
    "duration": 6,
    "start_time": "2023-09-22T09:13:14.037Z"
   },
   {
    "duration": 461,
    "start_time": "2023-09-22T09:13:43.903Z"
   },
   {
    "duration": 381,
    "start_time": "2023-09-22T09:13:58.757Z"
   },
   {
    "duration": 376,
    "start_time": "2023-09-22T09:14:08.960Z"
   },
   {
    "duration": 6756,
    "start_time": "2023-09-22T09:14:29.787Z"
   },
   {
    "duration": 5,
    "start_time": "2023-09-22T09:14:44.863Z"
   },
   {
    "duration": 336,
    "start_time": "2023-09-22T09:14:49.242Z"
   },
   {
    "duration": 6,
    "start_time": "2023-09-22T09:16:20.258Z"
   },
   {
    "duration": 12,
    "start_time": "2023-09-22T09:19:25.269Z"
   },
   {
    "duration": 8,
    "start_time": "2023-09-22T09:19:49.461Z"
   },
   {
    "duration": 348,
    "start_time": "2023-09-22T09:29:04.292Z"
   },
   {
    "duration": 325,
    "start_time": "2023-09-22T09:29:20.989Z"
   },
   {
    "duration": 382,
    "start_time": "2023-09-22T09:30:18.537Z"
   },
   {
    "duration": 298,
    "start_time": "2023-09-22T09:30:29.147Z"
   },
   {
    "duration": 3,
    "start_time": "2023-09-22T09:33:01.965Z"
   },
   {
    "duration": 108,
    "start_time": "2023-09-22T09:33:19.836Z"
   },
   {
    "duration": 10,
    "start_time": "2023-09-22T09:33:31.373Z"
   },
   {
    "duration": 19,
    "start_time": "2023-09-22T09:34:00.126Z"
   },
   {
    "duration": 13,
    "start_time": "2023-09-22T09:34:30.648Z"
   },
   {
    "duration": 4,
    "start_time": "2023-09-22T09:36:17.067Z"
   },
   {
    "duration": 6,
    "start_time": "2023-09-22T09:36:29.630Z"
   },
   {
    "duration": 8,
    "start_time": "2023-09-22T09:36:49.448Z"
   },
   {
    "duration": 10,
    "start_time": "2023-09-22T09:36:54.910Z"
   },
   {
    "duration": 14,
    "start_time": "2023-09-22T09:37:20.002Z"
   },
   {
    "duration": 9,
    "start_time": "2023-09-22T09:38:12.126Z"
   },
   {
    "duration": 47,
    "start_time": "2023-09-22T09:38:45.329Z"
   },
   {
    "duration": 13,
    "start_time": "2023-09-22T09:38:49.832Z"
   },
   {
    "duration": 5,
    "start_time": "2023-09-22T09:39:22.288Z"
   },
   {
    "duration": 13,
    "start_time": "2023-09-22T09:39:24.520Z"
   },
   {
    "duration": 23,
    "start_time": "2023-09-22T09:43:47.134Z"
   },
   {
    "duration": 26,
    "start_time": "2023-09-22T09:43:55.473Z"
   },
   {
    "duration": 17,
    "start_time": "2023-09-22T09:44:09.158Z"
   },
   {
    "duration": 17,
    "start_time": "2023-09-22T09:44:43.070Z"
   },
   {
    "duration": 19,
    "start_time": "2023-09-22T09:44:52.136Z"
   },
   {
    "duration": 18,
    "start_time": "2023-09-22T09:44:58.069Z"
   },
   {
    "duration": 8,
    "start_time": "2023-09-22T09:45:19.766Z"
   },
   {
    "duration": 21,
    "start_time": "2023-09-22T09:45:23.856Z"
   },
   {
    "duration": 6,
    "start_time": "2023-09-22T09:52:25.192Z"
   },
   {
    "duration": 3798,
    "start_time": "2023-09-22T09:52:37.859Z"
   },
   {
    "duration": 3,
    "start_time": "2023-09-22T09:52:41.660Z"
   },
   {
    "duration": 13,
    "start_time": "2023-09-22T09:52:41.665Z"
   },
   {
    "duration": 77,
    "start_time": "2023-09-22T09:52:41.680Z"
   },
   {
    "duration": 13,
    "start_time": "2023-09-22T09:52:41.760Z"
   },
   {
    "duration": 21,
    "start_time": "2023-09-22T09:52:41.774Z"
   },
   {
    "duration": 46,
    "start_time": "2023-09-22T09:52:41.798Z"
   },
   {
    "duration": 56,
    "start_time": "2023-09-22T09:52:41.848Z"
   },
   {
    "duration": 32,
    "start_time": "2023-09-22T09:52:41.906Z"
   },
   {
    "duration": 1320,
    "start_time": "2023-09-22T09:52:41.940Z"
   },
   {
    "duration": 296,
    "start_time": "2023-09-22T09:52:43.262Z"
   },
   {
    "duration": 424,
    "start_time": "2023-09-22T09:52:43.561Z"
   },
   {
    "duration": 7,
    "start_time": "2023-09-22T09:52:43.987Z"
   },
   {
    "duration": 466,
    "start_time": "2023-09-22T09:52:43.998Z"
   },
   {
    "duration": 47,
    "start_time": "2023-09-22T09:52:44.466Z"
   },
   {
    "duration": 59,
    "start_time": "2023-09-22T09:52:44.520Z"
   },
   {
    "duration": 36,
    "start_time": "2023-09-22T09:52:44.581Z"
   },
   {
    "duration": 38,
    "start_time": "2023-09-22T09:52:44.620Z"
   },
   {
    "duration": 23193,
    "start_time": "2023-09-22T09:52:44.660Z"
   },
   {
    "duration": 54,
    "start_time": "2023-09-22T09:53:07.857Z"
   },
   {
    "duration": 72497,
    "start_time": "2023-09-22T09:53:07.914Z"
   },
   {
    "duration": 8,
    "start_time": "2023-09-22T09:54:20.414Z"
   },
   {
    "duration": 104,
    "start_time": "2023-09-22T09:54:20.424Z"
   },
   {
    "duration": 28,
    "start_time": "2023-09-22T09:54:20.531Z"
   },
   {
    "duration": 6899,
    "start_time": "2023-09-22T09:54:20.561Z"
   },
   {
    "duration": 4,
    "start_time": "2023-09-22T09:54:27.462Z"
   },
   {
    "duration": 13,
    "start_time": "2023-09-22T09:54:27.468Z"
   },
   {
    "duration": 6,
    "start_time": "2023-09-22T09:54:27.483Z"
   },
   {
    "duration": 16,
    "start_time": "2023-09-22T09:54:27.491Z"
   },
   {
    "duration": 296,
    "start_time": "2023-09-22T09:54:54.686Z"
   },
   {
    "duration": 12,
    "start_time": "2023-09-22T09:55:35.554Z"
   },
   {
    "duration": 9,
    "start_time": "2023-09-22T09:55:54.392Z"
   },
   {
    "duration": 20,
    "start_time": "2023-09-22T09:57:40.956Z"
   },
   {
    "duration": 248,
    "start_time": "2023-09-22T09:57:56.543Z"
   },
   {
    "duration": 467,
    "start_time": "2023-09-22T09:58:34.567Z"
   },
   {
    "duration": 407,
    "start_time": "2023-09-22T09:58:42.633Z"
   },
   {
    "duration": 310,
    "start_time": "2023-09-22T09:58:52.010Z"
   },
   {
    "duration": 536,
    "start_time": "2023-09-22T09:59:02.344Z"
   },
   {
    "duration": 399,
    "start_time": "2023-09-22T09:59:20.167Z"
   },
   {
    "duration": 294,
    "start_time": "2023-09-22T09:59:27.991Z"
   },
   {
    "duration": 1722,
    "start_time": "2023-09-22T10:00:31.866Z"
   },
   {
    "duration": 4,
    "start_time": "2023-09-22T10:00:33.591Z"
   },
   {
    "duration": 77,
    "start_time": "2023-09-22T10:00:33.597Z"
   },
   {
    "duration": 144,
    "start_time": "2023-09-22T10:00:33.678Z"
   },
   {
    "duration": 15,
    "start_time": "2023-09-22T10:00:33.825Z"
   },
   {
    "duration": 11,
    "start_time": "2023-09-22T10:00:33.842Z"
   },
   {
    "duration": 7,
    "start_time": "2023-09-22T10:00:33.856Z"
   },
   {
    "duration": 53,
    "start_time": "2023-09-22T10:00:33.865Z"
   },
   {
    "duration": 6,
    "start_time": "2023-09-22T10:00:33.920Z"
   },
   {
    "duration": 1035,
    "start_time": "2023-09-22T10:00:33.931Z"
   },
   {
    "duration": 270,
    "start_time": "2023-09-22T10:00:34.969Z"
   },
   {
    "duration": 440,
    "start_time": "2023-09-22T10:00:35.241Z"
   },
   {
    "duration": 5,
    "start_time": "2023-09-22T10:00:35.684Z"
   },
   {
    "duration": 408,
    "start_time": "2023-09-22T10:00:35.690Z"
   },
   {
    "duration": 35,
    "start_time": "2023-09-22T10:00:36.100Z"
   },
   {
    "duration": 52,
    "start_time": "2023-09-22T10:00:36.137Z"
   },
   {
    "duration": 31,
    "start_time": "2023-09-22T10:00:36.211Z"
   },
   {
    "duration": 22,
    "start_time": "2023-09-22T10:00:36.244Z"
   },
   {
    "duration": 7650,
    "start_time": "2023-09-22T10:00:36.268Z"
   },
   {
    "duration": 6,
    "start_time": "2023-09-22T10:00:43.922Z"
   },
   {
    "duration": 72770,
    "start_time": "2023-09-22T10:00:44.010Z"
   },
   {
    "duration": 5,
    "start_time": "2023-09-22T10:01:56.783Z"
   },
   {
    "duration": 6,
    "start_time": "2023-09-22T10:01:56.790Z"
   },
   {
    "duration": 64,
    "start_time": "2023-09-22T10:01:56.799Z"
   },
   {
    "duration": 8611,
    "start_time": "2023-09-22T10:01:56.866Z"
   },
   {
    "duration": 5,
    "start_time": "2023-09-22T10:02:05.479Z"
   },
   {
    "duration": 56,
    "start_time": "2023-09-22T10:02:05.486Z"
   },
   {
    "duration": 462,
    "start_time": "2023-09-22T10:02:05.548Z"
   },
   {
    "duration": 8,
    "start_time": "2023-09-22T10:02:06.012Z"
   }
  ],
  "kernelspec": {
   "display_name": "Python 3 (ipykernel)",
   "language": "python",
   "name": "python3"
  },
  "language_info": {
   "codemirror_mode": {
    "name": "ipython",
    "version": 3
   },
   "file_extension": ".py",
   "mimetype": "text/x-python",
   "name": "python",
   "nbconvert_exporter": "python",
   "pygments_lexer": "ipython3",
   "version": "3.10.9"
  },
  "toc": {
   "base_numbering": 1,
   "nav_menu": {},
   "number_sections": true,
   "sideBar": true,
   "skip_h1_title": true,
   "title_cell": "Содержание",
   "title_sidebar": "Contents",
   "toc_cell": true,
   "toc_position": {
    "height": "calc(100% - 180px)",
    "left": "10px",
    "top": "150px",
    "width": "208.516px"
   },
   "toc_section_display": true,
   "toc_window_display": true
  }
 },
 "nbformat": 4,
 "nbformat_minor": 2
}
