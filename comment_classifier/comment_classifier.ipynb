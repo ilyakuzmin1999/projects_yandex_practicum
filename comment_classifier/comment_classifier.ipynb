{
 "cells": [
  {
   "cell_type": "markdown",
   "metadata": {
    "toc": true
   },
   "source": [
    "<h1>Содержание<span class=\"tocSkip\"></span></h1>\n",
    "<div class=\"toc\"><ul class=\"toc-item\"><li><span><a href=\"#Подготовка\" data-toc-modified-id=\"Подготовка-1\"><span class=\"toc-item-num\">1&nbsp;&nbsp;</span>Подготовка</a></span></li><li><span><a href=\"#Обучение\" data-toc-modified-id=\"Обучение-2\"><span class=\"toc-item-num\">2&nbsp;&nbsp;</span>Обучение</a></span><ul class=\"toc-item\"><li><span><a href=\"#LogisticRegression\" data-toc-modified-id=\"LogisticRegression-2.1\"><span class=\"toc-item-num\">2.1&nbsp;&nbsp;</span>LogisticRegression</a></span></li><li><span><a href=\"#CatBoost\" data-toc-modified-id=\"CatBoost-2.2\"><span class=\"toc-item-num\">2.2&nbsp;&nbsp;</span>CatBoost</a></span></li></ul></li><li><span><a href=\"#Тестирование-лучшей-модели\" data-toc-modified-id=\"Тестирование-лучшей-модели-3\"><span class=\"toc-item-num\">3&nbsp;&nbsp;</span>Тестирование лучшей модели</a></span></li><li><span><a href=\"#Вывод\" data-toc-modified-id=\"Вывод-4\"><span class=\"toc-item-num\">4&nbsp;&nbsp;</span>Вывод</a></span></li><li><span><a href=\"#Чек-лист-проверки\" data-toc-modified-id=\"Чек-лист-проверки-5\"><span class=\"toc-item-num\">5&nbsp;&nbsp;</span>Чек-лист проверки</a></span></li></ul></div>"
   ]
  },
  {
   "cell_type": "markdown",
   "metadata": {},
   "source": [
    "# Проект для «Викишоп»"
   ]
  },
  {
   "cell_type": "markdown",
   "metadata": {},
   "source": [
    "Интернет-магазин «Викишоп» запускает новый сервис. Теперь пользователи могут редактировать и дополнять описания товаров, как в вики-сообществах. То есть клиенты предлагают свои правки и комментируют изменения других. Магазину нужен инструмент, который будет искать токсичные комментарии и отправлять их на модерацию. \n",
    "\n",
    "Обучите модель классифицировать комментарии на позитивные и негативные. В вашем распоряжении набор данных с разметкой о токсичности правок.\n",
    "\n",
    "Постройте модель со значением метрики качества *F1* не меньше 0.75. \n",
    "\n",
    "**Инструкция по выполнению проекта**\n",
    "\n",
    "1. Загрузите и подготовьте данные.\n",
    "2. Обучите разные модели. \n",
    "3. Сделайте выводы.\n",
    "\n",
    "\n",
    "\n",
    "**Описание данных**\n",
    "\n",
    "Данные находятся в файле `toxic_comments.csv`. Столбец *text* в нём содержит текст комментария, а *toxic* — целевой признак."
   ]
  },
  {
   "cell_type": "markdown",
   "metadata": {},
   "source": [
    " <div class=\"alert alert-success\">\n",
    "<h2> Комментарий ревьюера <a class=\"tocSkip\"> </h2>\n",
    "\n",
    "<b>Все отлично!👍:</b> \n",
    "    \n",
    "Вижу твое добавленное описание проекта. Молодец! Это поможет тебе расставлять акценты в выводах"
   ]
  },
  {
   "cell_type": "markdown",
   "metadata": {},
   "source": [
    "## Подготовка"
   ]
  },
  {
   "cell_type": "code",
   "execution_count": 1,
   "metadata": {},
   "outputs": [],
   "source": [
    "import pandas as pd\n",
    "import numpy as np\n",
    "import spacy\n",
    "import re\n",
    "import nltk\n",
    "from nltk.corpus import stopwords as nltk_stopwords\n",
    "from sklearn.feature_extraction.text import TfidfVectorizer\n",
    "from tqdm.notebook import tqdm\n",
    "\n",
    "from sklearn.linear_model import LogisticRegression\n",
    "from sklearn.dummy import DummyClassifier\n",
    "from catboost import CatBoostClassifier, Pool, cv\n",
    "from sklearn.metrics import f1_score\n",
    "from sklearn.model_selection import train_test_split, cross_val_score\n",
    "\n",
    "import warnings"
   ]
  },
  {
   "cell_type": "code",
   "execution_count": 2,
   "metadata": {},
   "outputs": [],
   "source": [
    "RANDOM_STATE = 12345"
   ]
  },
  {
   "cell_type": "code",
   "execution_count": 3,
   "metadata": {},
   "outputs": [],
   "source": [
    "warnings.filterwarnings(\"ignore\")"
   ]
  },
  {
   "cell_type": "code",
   "execution_count": 4,
   "metadata": {
    "scrolled": true
   },
   "outputs": [
    {
     "data": {
      "text/html": [
       "<div>\n",
       "<style scoped>\n",
       "    .dataframe tbody tr th:only-of-type {\n",
       "        vertical-align: middle;\n",
       "    }\n",
       "\n",
       "    .dataframe tbody tr th {\n",
       "        vertical-align: top;\n",
       "    }\n",
       "\n",
       "    .dataframe thead th {\n",
       "        text-align: right;\n",
       "    }\n",
       "</style>\n",
       "<table border=\"1\" class=\"dataframe\">\n",
       "  <thead>\n",
       "    <tr style=\"text-align: right;\">\n",
       "      <th></th>\n",
       "      <th>Unnamed: 0</th>\n",
       "      <th>text</th>\n",
       "      <th>toxic</th>\n",
       "    </tr>\n",
       "  </thead>\n",
       "  <tbody>\n",
       "    <tr>\n",
       "      <th>0</th>\n",
       "      <td>0</td>\n",
       "      <td>Explanation\\nWhy the edits made under my usern...</td>\n",
       "      <td>0</td>\n",
       "    </tr>\n",
       "    <tr>\n",
       "      <th>1</th>\n",
       "      <td>1</td>\n",
       "      <td>D'aww! He matches this background colour I'm s...</td>\n",
       "      <td>0</td>\n",
       "    </tr>\n",
       "    <tr>\n",
       "      <th>2</th>\n",
       "      <td>2</td>\n",
       "      <td>Hey man, I'm really not trying to edit war. It...</td>\n",
       "      <td>0</td>\n",
       "    </tr>\n",
       "    <tr>\n",
       "      <th>3</th>\n",
       "      <td>3</td>\n",
       "      <td>\"\\nMore\\nI can't make any real suggestions on ...</td>\n",
       "      <td>0</td>\n",
       "    </tr>\n",
       "    <tr>\n",
       "      <th>4</th>\n",
       "      <td>4</td>\n",
       "      <td>You, sir, are my hero. Any chance you remember...</td>\n",
       "      <td>0</td>\n",
       "    </tr>\n",
       "  </tbody>\n",
       "</table>\n",
       "</div>"
      ],
      "text/plain": [
       "   Unnamed: 0                                               text  toxic\n",
       "0           0  Explanation\\nWhy the edits made under my usern...      0\n",
       "1           1  D'aww! He matches this background colour I'm s...      0\n",
       "2           2  Hey man, I'm really not trying to edit war. It...      0\n",
       "3           3  \"\\nMore\\nI can't make any real suggestions on ...      0\n",
       "4           4  You, sir, are my hero. Any chance you remember...      0"
      ]
     },
     "execution_count": 4,
     "metadata": {},
     "output_type": "execute_result"
    }
   ],
   "source": [
    "df = pd.read_csv('https://code.s3.yandex.net/datasets/toxic_comments.csv')\n",
    "df.head()"
   ]
  },
  {
   "cell_type": "code",
   "execution_count": 5,
   "metadata": {},
   "outputs": [
    {
     "data": {
      "text/html": [
       "<div>\n",
       "<style scoped>\n",
       "    .dataframe tbody tr th:only-of-type {\n",
       "        vertical-align: middle;\n",
       "    }\n",
       "\n",
       "    .dataframe tbody tr th {\n",
       "        vertical-align: top;\n",
       "    }\n",
       "\n",
       "    .dataframe thead th {\n",
       "        text-align: right;\n",
       "    }\n",
       "</style>\n",
       "<table border=\"1\" class=\"dataframe\">\n",
       "  <thead>\n",
       "    <tr style=\"text-align: right;\">\n",
       "      <th></th>\n",
       "      <th>count</th>\n",
       "    </tr>\n",
       "    <tr>\n",
       "      <th>toxic</th>\n",
       "      <th></th>\n",
       "    </tr>\n",
       "  </thead>\n",
       "  <tbody>\n",
       "    <tr>\n",
       "      <th>0</th>\n",
       "      <td>143106</td>\n",
       "    </tr>\n",
       "    <tr>\n",
       "      <th>1</th>\n",
       "      <td>16186</td>\n",
       "    </tr>\n",
       "  </tbody>\n",
       "</table>\n",
       "</div>"
      ],
      "text/plain": [
       "        count\n",
       "toxic        \n",
       "0      143106\n",
       "1       16186"
      ]
     },
     "execution_count": 5,
     "metadata": {},
     "output_type": "execute_result"
    }
   ],
   "source": [
    "df.groupby('toxic')['toxic'].agg(['count'])"
   ]
  },
  {
   "cell_type": "markdown",
   "metadata": {},
   "source": [
    "Виден сильный дисбаланс классов, это необходимо учесть при разбиении данных и обучении модели"
   ]
  },
  {
   "cell_type": "code",
   "execution_count": 6,
   "metadata": {},
   "outputs": [],
   "source": [
    "def clear_text(text):\n",
    "    cleared_text = re.sub(r'[^a-zA-Z]', ' ', text)\n",
    "    cleared_text = ' '.join(cleared_text.split())\n",
    "    return cleared_text"
   ]
  },
  {
   "cell_type": "code",
   "execution_count": 7,
   "metadata": {},
   "outputs": [],
   "source": [
    "nlp = spacy.load('en_core_web_sm')"
   ]
  },
  {
   "cell_type": "code",
   "execution_count": 8,
   "metadata": {},
   "outputs": [],
   "source": [
    "def lemmatize_text(text):\n",
    "    lemm_text = \" \".join([token.lemma_ for token in nlp(text)])\n",
    "    return lemm_text"
   ]
  },
  {
   "cell_type": "code",
   "execution_count": 9,
   "metadata": {
    "scrolled": true
   },
   "outputs": [
    {
     "data": {
      "application/vnd.jupyter.widget-view+json": {
       "model_id": "096915fec60344adb0f010a9887526a9",
       "version_major": 2,
       "version_minor": 0
      },
      "text/plain": [
       "  0%|          | 0/159292 [00:00<?, ?it/s]"
      ]
     },
     "metadata": {},
     "output_type": "display_data"
    },
    {
     "data": {
      "text/html": [
       "<div>\n",
       "<style scoped>\n",
       "    .dataframe tbody tr th:only-of-type {\n",
       "        vertical-align: middle;\n",
       "    }\n",
       "\n",
       "    .dataframe tbody tr th {\n",
       "        vertical-align: top;\n",
       "    }\n",
       "\n",
       "    .dataframe thead th {\n",
       "        text-align: right;\n",
       "    }\n",
       "</style>\n",
       "<table border=\"1\" class=\"dataframe\">\n",
       "  <thead>\n",
       "    <tr style=\"text-align: right;\">\n",
       "      <th></th>\n",
       "      <th>Unnamed: 0</th>\n",
       "      <th>text</th>\n",
       "      <th>toxic</th>\n",
       "      <th>lemm_text</th>\n",
       "    </tr>\n",
       "  </thead>\n",
       "  <tbody>\n",
       "    <tr>\n",
       "      <th>0</th>\n",
       "      <td>0</td>\n",
       "      <td>Explanation\\nWhy the edits made under my usern...</td>\n",
       "      <td>0</td>\n",
       "      <td>Explanation Why the edits made under my userna...</td>\n",
       "    </tr>\n",
       "    <tr>\n",
       "      <th>1</th>\n",
       "      <td>1</td>\n",
       "      <td>D'aww! He matches this background colour I'm s...</td>\n",
       "      <td>0</td>\n",
       "      <td>D aww He matches this background colour I m se...</td>\n",
       "    </tr>\n",
       "    <tr>\n",
       "      <th>2</th>\n",
       "      <td>2</td>\n",
       "      <td>Hey man, I'm really not trying to edit war. It...</td>\n",
       "      <td>0</td>\n",
       "      <td>Hey man I m really not trying to edit war It s...</td>\n",
       "    </tr>\n",
       "    <tr>\n",
       "      <th>3</th>\n",
       "      <td>3</td>\n",
       "      <td>\"\\nMore\\nI can't make any real suggestions on ...</td>\n",
       "      <td>0</td>\n",
       "      <td>More I can t make any real suggestions on impr...</td>\n",
       "    </tr>\n",
       "    <tr>\n",
       "      <th>4</th>\n",
       "      <td>4</td>\n",
       "      <td>You, sir, are my hero. Any chance you remember...</td>\n",
       "      <td>0</td>\n",
       "      <td>You sir are my hero Any chance you remember wh...</td>\n",
       "    </tr>\n",
       "  </tbody>\n",
       "</table>\n",
       "</div>"
      ],
      "text/plain": [
       "   Unnamed: 0                                               text  toxic  \\\n",
       "0           0  Explanation\\nWhy the edits made under my usern...      0   \n",
       "1           1  D'aww! He matches this background colour I'm s...      0   \n",
       "2           2  Hey man, I'm really not trying to edit war. It...      0   \n",
       "3           3  \"\\nMore\\nI can't make any real suggestions on ...      0   \n",
       "4           4  You, sir, are my hero. Any chance you remember...      0   \n",
       "\n",
       "                                           lemm_text  \n",
       "0  Explanation Why the edits made under my userna...  \n",
       "1  D aww He matches this background colour I m se...  \n",
       "2  Hey man I m really not trying to edit war It s...  \n",
       "3  More I can t make any real suggestions on impr...  \n",
       "4  You sir are my hero Any chance you remember wh...  "
      ]
     },
     "execution_count": 9,
     "metadata": {},
     "output_type": "execute_result"
    }
   ],
   "source": [
    "tqdm.pandas()\n",
    "df['lemm_text'] = df['text'].progress_apply(clear_text)\n",
    "df.head()"
   ]
  },
  {
   "cell_type": "code",
   "execution_count": 10,
   "metadata": {},
   "outputs": [
    {
     "data": {
      "application/vnd.jupyter.widget-view+json": {
       "model_id": "07cfb487e6c84bad9afb1d29112d0f28",
       "version_major": 2,
       "version_minor": 0
      },
      "text/plain": [
       "  0%|          | 0/159292 [00:00<?, ?it/s]"
      ]
     },
     "metadata": {},
     "output_type": "display_data"
    },
    {
     "data": {
      "text/html": [
       "<div>\n",
       "<style scoped>\n",
       "    .dataframe tbody tr th:only-of-type {\n",
       "        vertical-align: middle;\n",
       "    }\n",
       "\n",
       "    .dataframe tbody tr th {\n",
       "        vertical-align: top;\n",
       "    }\n",
       "\n",
       "    .dataframe thead th {\n",
       "        text-align: right;\n",
       "    }\n",
       "</style>\n",
       "<table border=\"1\" class=\"dataframe\">\n",
       "  <thead>\n",
       "    <tr style=\"text-align: right;\">\n",
       "      <th></th>\n",
       "      <th>Unnamed: 0</th>\n",
       "      <th>text</th>\n",
       "      <th>toxic</th>\n",
       "      <th>lemm_text</th>\n",
       "    </tr>\n",
       "  </thead>\n",
       "  <tbody>\n",
       "    <tr>\n",
       "      <th>0</th>\n",
       "      <td>0</td>\n",
       "      <td>Explanation\\nWhy the edits made under my usern...</td>\n",
       "      <td>0</td>\n",
       "      <td>explanation why the edit make under my usernam...</td>\n",
       "    </tr>\n",
       "    <tr>\n",
       "      <th>1</th>\n",
       "      <td>1</td>\n",
       "      <td>D'aww! He matches this background colour I'm s...</td>\n",
       "      <td>0</td>\n",
       "      <td>d aww he match this background colour I m seem...</td>\n",
       "    </tr>\n",
       "    <tr>\n",
       "      <th>2</th>\n",
       "      <td>2</td>\n",
       "      <td>Hey man, I'm really not trying to edit war. It...</td>\n",
       "      <td>0</td>\n",
       "      <td>hey man I m really not try to edit war it s ju...</td>\n",
       "    </tr>\n",
       "    <tr>\n",
       "      <th>3</th>\n",
       "      <td>3</td>\n",
       "      <td>\"\\nMore\\nI can't make any real suggestions on ...</td>\n",
       "      <td>0</td>\n",
       "      <td>More I can t make any real suggestion on impro...</td>\n",
       "    </tr>\n",
       "    <tr>\n",
       "      <th>4</th>\n",
       "      <td>4</td>\n",
       "      <td>You, sir, are my hero. Any chance you remember...</td>\n",
       "      <td>0</td>\n",
       "      <td>you sir be my hero any chance you remember wha...</td>\n",
       "    </tr>\n",
       "  </tbody>\n",
       "</table>\n",
       "</div>"
      ],
      "text/plain": [
       "   Unnamed: 0                                               text  toxic  \\\n",
       "0           0  Explanation\\nWhy the edits made under my usern...      0   \n",
       "1           1  D'aww! He matches this background colour I'm s...      0   \n",
       "2           2  Hey man, I'm really not trying to edit war. It...      0   \n",
       "3           3  \"\\nMore\\nI can't make any real suggestions on ...      0   \n",
       "4           4  You, sir, are my hero. Any chance you remember...      0   \n",
       "\n",
       "                                           lemm_text  \n",
       "0  explanation why the edit make under my usernam...  \n",
       "1  d aww he match this background colour I m seem...  \n",
       "2  hey man I m really not try to edit war it s ju...  \n",
       "3  More I can t make any real suggestion on impro...  \n",
       "4  you sir be my hero any chance you remember wha...  "
      ]
     },
     "execution_count": 10,
     "metadata": {},
     "output_type": "execute_result"
    }
   ],
   "source": [
    "df['lemm_text'] = df['lemm_text'].progress_apply(lemmatize_text)\n",
    "df.head()"
   ]
  },
  {
   "cell_type": "code",
   "execution_count": 11,
   "metadata": {},
   "outputs": [
    {
     "name": "stderr",
     "output_type": "stream",
     "text": [
      "[nltk_data] Downloading package stopwords to /home/jovyan/nltk_data...\n",
      "[nltk_data]   Package stopwords is already up-to-date!\n"
     ]
    }
   ],
   "source": [
    "nltk.download('stopwords')\n",
    "stopwords = set(nltk_stopwords.words('english'))"
   ]
  },
  {
   "cell_type": "code",
   "execution_count": 12,
   "metadata": {},
   "outputs": [],
   "source": [
    "df_train, df_test = train_test_split(df, test_size=.25, stratify=df['toxic'], random_state=RANDOM_STATE)"
   ]
  },
  {
   "cell_type": "code",
   "execution_count": 13,
   "metadata": {},
   "outputs": [
    {
     "data": {
      "text/plain": [
       "(119469, 132298)"
      ]
     },
     "execution_count": 13,
     "metadata": {},
     "output_type": "execute_result"
    }
   ],
   "source": [
    "count_tf_idf = TfidfVectorizer(stop_words=list(stopwords))\n",
    "tf_idf_train = count_tf_idf.fit_transform(df_train['lemm_text'])\n",
    "tf_idf_train.shape"
   ]
  },
  {
   "cell_type": "code",
   "execution_count": 14,
   "metadata": {},
   "outputs": [
    {
     "data": {
      "text/plain": [
       "(39823, 132298)"
      ]
     },
     "execution_count": 14,
     "metadata": {},
     "output_type": "execute_result"
    }
   ],
   "source": [
    "tf_idf_test = count_tf_idf.transform(df_test.lemm_text)\n",
    "tf_idf_test.shape"
   ]
  },
  {
   "cell_type": "code",
   "execution_count": 15,
   "metadata": {},
   "outputs": [],
   "source": [
    "target_train = df_train['toxic']\n",
    "target_test = df_test['toxic']"
   ]
  },
  {
   "cell_type": "markdown",
   "metadata": {},
   "source": [
    "## Обучение"
   ]
  },
  {
   "cell_type": "markdown",
   "metadata": {},
   "source": [
    "### LogisticRegression"
   ]
  },
  {
   "cell_type": "code",
   "execution_count": 16,
   "metadata": {},
   "outputs": [],
   "source": [
    "model_log_reg = LogisticRegression(class_weight='balanced', random_state=RANDOM_STATE, C=6)\n",
    "log_reg_scores = cross_val_score(model_log_reg, \n",
    "                            tf_idf_train, \n",
    "                            target_train, \n",
    "                            cv=3, \n",
    "                            scoring='f1')"
   ]
  },
  {
   "cell_type": "code",
   "execution_count": 17,
   "metadata": {},
   "outputs": [
    {
     "name": "stdout",
     "output_type": "stream",
     "text": [
      "Метрика f1: 0.7631433012881711\n"
     ]
    }
   ],
   "source": [
    "print('Метрика f1:', log_reg_scores.mean())"
   ]
  },
  {
   "cell_type": "markdown",
   "metadata": {},
   "source": [
    "### CatBoost"
   ]
  },
  {
   "cell_type": "code",
   "execution_count": 18,
   "metadata": {},
   "outputs": [
    {
     "name": "stdout",
     "output_type": "stream",
     "text": [
      "0:\tlearn: 0.4361062\ttest: 0.4240730\tbest: 0.4240730 (0)\ttotal: 1.75s\tremaining: 1m 8s\n",
      "20:\tlearn: 0.7580884\ttest: 0.7498820\tbest: 0.7498820 (20)\ttotal: 29.6s\tremaining: 26.7s\n",
      "39:\tlearn: 0.7955000\ttest: 0.7989114\tbest: 0.7989114 (39)\ttotal: 55.5s\tremaining: 0us\n",
      "\n",
      "bestTest = 0.7989113901\n",
      "bestIteration = 39\n",
      "\n",
      "0:\tloss: 0.7989114\tbest: 0.7989114 (0)\ttotal: 1m 45s\tremaining: 7m 1s\n",
      "0:\tlearn: 0.4361062\ttest: 0.4240730\tbest: 0.4240730 (0)\ttotal: 1.7s\tremaining: 1m 6s\n",
      "20:\tlearn: 0.8178774\ttest: 0.8185972\tbest: 0.8185972 (20)\ttotal: 28.7s\tremaining: 26s\n",
      "39:\tlearn: 0.8508112\ttest: 0.8461702\tbest: 0.8461702 (39)\ttotal: 54.6s\tremaining: 0us\n",
      "\n",
      "bestTest = 0.8461702342\n",
      "bestIteration = 39\n",
      "\n",
      "1:\tloss: 0.8461702\tbest: 0.8461702 (1)\ttotal: 2m 40s\tremaining: 4m\n",
      "0:\tlearn: 0.4361062\ttest: 0.4240730\tbest: 0.4240730 (0)\ttotal: 1.8s\tremaining: 1m 10s\n",
      "20:\tlearn: 0.8359085\ttest: 0.8366693\tbest: 0.8386310 (19)\ttotal: 29.4s\tremaining: 26.6s\n",
      "39:\tlearn: 0.8687301\ttest: 0.8568970\tbest: 0.8568970 (39)\ttotal: 54.4s\tremaining: 0us\n",
      "\n",
      "bestTest = 0.8568970196\n",
      "bestIteration = 39\n",
      "\n",
      "2:\tloss: 0.8568970\tbest: 0.8568970 (2)\ttotal: 3m 34s\tremaining: 2m 23s\n",
      "0:\tlearn: 0.4361062\ttest: 0.4240730\tbest: 0.4240730 (0)\ttotal: 1.75s\tremaining: 1m 8s\n",
      "20:\tlearn: 0.8433781\ttest: 0.8428511\tbest: 0.8433292 (19)\ttotal: 28.6s\tremaining: 25.9s\n",
      "39:\tlearn: 0.8809261\ttest: 0.8628992\tbest: 0.8628992 (39)\ttotal: 53.2s\tremaining: 0us\n",
      "\n",
      "bestTest = 0.8628991624\n",
      "bestIteration = 39\n",
      "\n",
      "3:\tloss: 0.8628992\tbest: 0.8628992 (3)\ttotal: 4m 27s\tremaining: 1m 6s\n",
      "0:\tlearn: 0.4361062\ttest: 0.4240730\tbest: 0.4240730 (0)\ttotal: 1.72s\tremaining: 1m 7s\n",
      "20:\tlearn: 0.8486239\ttest: 0.8462069\tbest: 0.8462069 (20)\ttotal: 28.1s\tremaining: 25.5s\n",
      "39:\tlearn: 0.8843360\ttest: 0.8653368\tbest: 0.8653368 (39)\ttotal: 52.5s\tremaining: 0us\n",
      "\n",
      "bestTest = 0.8653368122\n",
      "bestIteration = 39\n",
      "\n",
      "4:\tloss: 0.8653368\tbest: 0.8653368 (4)\ttotal: 5m 20s\tremaining: 0us\n",
      "Estimating final quality...\n",
      "Training on fold [0/3]\n",
      "0:\tlearn: 0.4230221\ttest: 0.4196309\tbest: 0.4196309 (0)\ttotal: 1.29s\tremaining: 50.2s\n",
      "20:\tlearn: 0.8538571\ttest: 0.8355061\tbest: 0.8355061 (20)\ttotal: 26.8s\tremaining: 24.2s\n",
      "39:\tlearn: 0.8901627\ttest: 0.8586991\tbest: 0.8586991 (39)\ttotal: 50.1s\tremaining: 0us\n",
      "\n",
      "bestTest = 0.8586991227\n",
      "bestIteration = 39\n",
      "\n",
      "Training on fold [1/3]\n",
      "0:\tlearn: 0.4332396\ttest: 0.4422564\tbest: 0.4422564 (0)\ttotal: 1.4s\tremaining: 54.7s\n",
      "20:\tlearn: 0.8575085\ttest: 0.8282177\tbest: 0.8282177 (20)\ttotal: 27.7s\tremaining: 25.1s\n",
      "39:\tlearn: 0.8904002\ttest: 0.8555089\tbest: 0.8555089 (39)\ttotal: 52.4s\tremaining: 0us\n",
      "\n",
      "bestTest = 0.8555088739\n",
      "bestIteration = 39\n",
      "\n",
      "Training on fold [2/3]\n",
      "0:\tlearn: 0.4797001\ttest: 0.4631840\tbest: 0.4631840 (0)\ttotal: 1.37s\tremaining: 53.3s\n",
      "20:\tlearn: 0.8505525\ttest: 0.8387016\tbest: 0.8387016 (20)\ttotal: 27.8s\tremaining: 25.2s\n",
      "39:\tlearn: 0.8855675\ttest: 0.8626239\tbest: 0.8626239 (39)\ttotal: 52.2s\tremaining: 0us\n",
      "\n",
      "bestTest = 0.8626239247\n",
      "bestIteration = 39\n",
      "\n"
     ]
    }
   ],
   "source": [
    "train_pool = Pool(data=tf_idf_train,\n",
    "                  label=target_train,\n",
    "                 )\n",
    "\n",
    "catboost = CatBoostClassifier(loss_function='Logloss',\n",
    "                              eval_metric='F1',\n",
    "                              verbose=20, \n",
    "                              random_state=RANDOM_STATE,\n",
    "                              iterations=40,\n",
    "                              depth=5,\n",
    "                              auto_class_weights='Balanced')\n",
    "\n",
    "parameters_cat = {'learning_rate':np.arange(0.1,1,0.2)}\n",
    "\n",
    "catboost_grid = catboost.grid_search(parameters_cat, train_pool,\n",
    "            verbose=True,\n",
    "            plot=False)"
   ]
  },
  {
   "cell_type": "code",
   "execution_count": 19,
   "metadata": {},
   "outputs": [
    {
     "name": "stdout",
     "output_type": "stream",
     "text": [
      "Метрика f1: 0.858943973771193\n"
     ]
    }
   ],
   "source": [
    "print('Метрика f1:', max(catboost_grid['cv_results']['test-F1-mean']))"
   ]
  },
  {
   "cell_type": "markdown",
   "metadata": {},
   "source": [
    "Лучшая метрика у модели CatBoost, выбираем её для дальнейшего тестирования."
   ]
  },
  {
   "cell_type": "markdown",
   "metadata": {},
   "source": [
    "## Тестирование лучшей модели"
   ]
  },
  {
   "cell_type": "code",
   "execution_count": 20,
   "metadata": {},
   "outputs": [
    {
     "data": {
      "text/plain": [
       "{'learning_rate': 0.9000000000000001}"
      ]
     },
     "execution_count": 20,
     "metadata": {},
     "output_type": "execute_result"
    }
   ],
   "source": [
    "catboost_grid['params']"
   ]
  },
  {
   "cell_type": "code",
   "execution_count": 21,
   "metadata": {},
   "outputs": [
    {
     "name": "stdout",
     "output_type": "stream",
     "text": [
      "0:\tlearn: 0.4789017\ttest: 0.4664065\tbest: 0.4664065 (0)\ttotal: 1.9s\tremaining: 1m 14s\n",
      "1:\tlearn: 0.5899162\ttest: 0.5860098\tbest: 0.5860098 (1)\ttotal: 3.4s\tremaining: 1m 4s\n",
      "2:\tlearn: 0.6274950\ttest: 0.6192452\tbest: 0.6192452 (2)\ttotal: 4.89s\tremaining: 1m\n",
      "3:\tlearn: 0.6681541\ttest: 0.6583624\tbest: 0.6583624 (3)\ttotal: 6.44s\tremaining: 58s\n",
      "4:\tlearn: 0.7073342\ttest: 0.6976670\tbest: 0.6976670 (4)\ttotal: 7.99s\tremaining: 55.9s\n",
      "5:\tlearn: 0.7319713\ttest: 0.7236329\tbest: 0.7236329 (5)\ttotal: 9.44s\tremaining: 53.5s\n",
      "6:\tlearn: 0.7562815\ttest: 0.7443180\tbest: 0.7443180 (6)\ttotal: 10.9s\tremaining: 51.5s\n",
      "7:\tlearn: 0.7696588\ttest: 0.7579779\tbest: 0.7579779 (7)\ttotal: 12.4s\tremaining: 49.7s\n",
      "8:\tlearn: 0.7803342\ttest: 0.7713563\tbest: 0.7713563 (8)\ttotal: 13.8s\tremaining: 47.6s\n",
      "9:\tlearn: 0.7879346\ttest: 0.7759542\tbest: 0.7759542 (9)\ttotal: 15.3s\tremaining: 45.8s\n",
      "10:\tlearn: 0.7965385\ttest: 0.7863864\tbest: 0.7863864 (10)\ttotal: 16.7s\tremaining: 44s\n",
      "11:\tlearn: 0.8037192\ttest: 0.7917001\tbest: 0.7917001 (11)\ttotal: 18.2s\tremaining: 42.6s\n",
      "12:\tlearn: 0.8128629\ttest: 0.8033231\tbest: 0.8033231 (12)\ttotal: 19.8s\tremaining: 41.1s\n",
      "13:\tlearn: 0.8199811\ttest: 0.8098253\tbest: 0.8098253 (13)\ttotal: 21.3s\tremaining: 39.6s\n",
      "14:\tlearn: 0.8278935\ttest: 0.8176560\tbest: 0.8176560 (14)\ttotal: 22.7s\tremaining: 37.9s\n",
      "15:\tlearn: 0.8339216\ttest: 0.8224027\tbest: 0.8224027 (15)\ttotal: 24.1s\tremaining: 36.2s\n",
      "16:\tlearn: 0.8379922\ttest: 0.8248140\tbest: 0.8248140 (16)\ttotal: 25.5s\tremaining: 34.5s\n",
      "17:\tlearn: 0.8429782\ttest: 0.8304911\tbest: 0.8304911 (17)\ttotal: 26.9s\tremaining: 32.9s\n",
      "18:\tlearn: 0.8442298\ttest: 0.8300112\tbest: 0.8304911 (17)\ttotal: 28.5s\tremaining: 31.5s\n",
      "19:\tlearn: 0.8480621\ttest: 0.8347968\tbest: 0.8347968 (19)\ttotal: 30s\tremaining: 30s\n",
      "20:\tlearn: 0.8507911\ttest: 0.8368305\tbest: 0.8368305 (20)\ttotal: 31.4s\tremaining: 28.4s\n",
      "21:\tlearn: 0.8535187\ttest: 0.8380588\tbest: 0.8380588 (21)\ttotal: 32.8s\tremaining: 26.8s\n",
      "22:\tlearn: 0.8555557\ttest: 0.8397167\tbest: 0.8397167 (22)\ttotal: 34.2s\tremaining: 25.3s\n",
      "23:\tlearn: 0.8583371\ttest: 0.8427324\tbest: 0.8427324 (23)\ttotal: 35.7s\tremaining: 23.8s\n",
      "24:\tlearn: 0.8606457\ttest: 0.8444572\tbest: 0.8444572 (24)\ttotal: 37.1s\tremaining: 22.2s\n",
      "25:\tlearn: 0.8624324\ttest: 0.8466988\tbest: 0.8466988 (25)\ttotal: 38.5s\tremaining: 20.7s\n",
      "26:\tlearn: 0.8649735\ttest: 0.8478737\tbest: 0.8478737 (26)\ttotal: 40s\tremaining: 19.2s\n",
      "27:\tlearn: 0.8665827\ttest: 0.8498151\tbest: 0.8498151 (27)\ttotal: 41.4s\tremaining: 17.7s\n",
      "28:\tlearn: 0.8679987\ttest: 0.8509442\tbest: 0.8509442 (28)\ttotal: 42.8s\tremaining: 16.2s\n",
      "29:\tlearn: 0.8710044\ttest: 0.8560622\tbest: 0.8560622 (29)\ttotal: 44.1s\tremaining: 14.7s\n",
      "30:\tlearn: 0.8720342\ttest: 0.8568576\tbest: 0.8568576 (30)\ttotal: 45.4s\tremaining: 13.2s\n",
      "31:\tlearn: 0.8737355\ttest: 0.8583634\tbest: 0.8583634 (31)\ttotal: 46.8s\tremaining: 11.7s\n",
      "32:\tlearn: 0.8752235\ttest: 0.8584601\tbest: 0.8584601 (32)\ttotal: 48.1s\tremaining: 10.2s\n",
      "33:\tlearn: 0.8762210\ttest: 0.8587383\tbest: 0.8587383 (33)\ttotal: 49.4s\tremaining: 8.72s\n",
      "34:\tlearn: 0.8778826\ttest: 0.8610607\tbest: 0.8610607 (34)\ttotal: 50.9s\tremaining: 7.27s\n",
      "35:\tlearn: 0.8795271\ttest: 0.8626234\tbest: 0.8626234 (35)\ttotal: 52.2s\tremaining: 5.8s\n",
      "36:\tlearn: 0.8810520\ttest: 0.8630066\tbest: 0.8630066 (36)\ttotal: 53.5s\tremaining: 4.34s\n",
      "37:\tlearn: 0.8825412\ttest: 0.8643417\tbest: 0.8643417 (37)\ttotal: 54.9s\tremaining: 2.89s\n",
      "38:\tlearn: 0.8839039\ttest: 0.8643417\tbest: 0.8643417 (37)\ttotal: 56.3s\tremaining: 1.44s\n",
      "39:\tlearn: 0.8852014\ttest: 0.8654049\tbest: 0.8654049 (39)\ttotal: 57.6s\tremaining: 0us\n",
      "\n",
      "bestTest = 0.8654049254\n",
      "bestIteration = 39\n",
      "\n"
     ]
    },
    {
     "data": {
      "text/plain": [
       "<catboost.core.CatBoostClassifier at 0x7f4a645c2430>"
      ]
     },
     "execution_count": 21,
     "metadata": {},
     "output_type": "execute_result"
    }
   ],
   "source": [
    "train_pool = Pool(data=tf_idf_train,\n",
    "                  label=target_train)\n",
    "\n",
    "test_pool = Pool(data=tf_idf_test,\n",
    "                  label=target_test)\n",
    "\n",
    "catboost_model = CatBoostClassifier(loss_function='Logloss',\n",
    "                              eval_metric='F1', \n",
    "                              random_state=RANDOM_STATE,\n",
    "                              iterations=40,\n",
    "                              depth=5,\n",
    "                              auto_class_weights='Balanced',\n",
    "                              learning_rate=0.9)\n",
    "\n",
    "catboost_model.fit(train_pool, eval_set=test_pool)"
   ]
  },
  {
   "cell_type": "code",
   "execution_count": 22,
   "metadata": {},
   "outputs": [
    {
     "name": "stdout",
     "output_type": "stream",
     "text": [
      "Метрика f1: 0.8654049253770559\n"
     ]
    }
   ],
   "source": [
    "print('Метрика f1:', catboost_model.best_score_['validation']['F1'])"
   ]
  },
  {
   "cell_type": "markdown",
   "metadata": {},
   "source": [
    "Проверим на адекватность, сравнив с константной моделью"
   ]
  },
  {
   "cell_type": "code",
   "execution_count": 23,
   "metadata": {},
   "outputs": [
    {
     "name": "stdout",
     "output_type": "stream",
     "text": [
      "Метрика F1 = для dummy:  0.0\n"
     ]
    }
   ],
   "source": [
    "dummy_model = DummyClassifier(random_state=RANDOM_STATE, strategy='most_frequent')\n",
    "dummy_model.fit(tf_idf_train, target_train)\n",
    "dummy_predictions = dummy_model.predict(tf_idf_test)\n",
    "f1 = f1_score(target_test, dummy_predictions)\n",
    "print('Метрика F1 = для dummy: ', f1)"
   ]
  },
  {
   "cell_type": "markdown",
   "metadata": {},
   "source": [
    "Всё верно, наша модель показывает хороший результат. F1=0 для константной модели, т.к. TP=0"
   ]
  },
  {
   "cell_type": "markdown",
   "metadata": {},
   "source": [
    "## Вывод"
   ]
  },
  {
   "cell_type": "markdown",
   "metadata": {},
   "source": [
    "- лемматизировали и очистиили все признаки при подготовки данных\n",
    "- векторизовали все призники методом TF-IDf методом TfidfVectorizer\n",
    "- учитывали дисбаланс классов при разбиении параметром stratify\n",
    "- использовали две модели для выявления лучшей CatBoost и LogisticRegression\n",
    "- при обучении моделей укзывали параметр class_weigts как 'balanced'\n",
    "- у LogisticRegression на кросс-валидации F1 = 0.763\n",
    "- у CatBoost на кросс-валидации F1 = 0.859\n",
    "- при тестировании лучшей модели метрика F1 = 0.865, что выше заданной F1 = 0.75\n",
    "- проверили модель на адекватность с константной моделью"
   ]
  }
 ],
 "metadata": {
  "ExecuteTimeLog": [
   {
    "duration": 1371,
    "start_time": "2023-10-09T08:37:10.713Z"
   },
   {
    "duration": 2585,
    "start_time": "2023-10-09T08:37:13.812Z"
   },
   {
    "duration": 876,
    "start_time": "2023-10-09T08:38:25.328Z"
   },
   {
    "duration": 837,
    "start_time": "2023-10-09T08:38:34.075Z"
   },
   {
    "duration": 828,
    "start_time": "2023-10-09T08:39:48.066Z"
   },
   {
    "duration": 4,
    "start_time": "2023-10-09T08:59:29.461Z"
   },
   {
    "duration": 704,
    "start_time": "2023-10-09T08:59:45.889Z"
   },
   {
    "duration": 3,
    "start_time": "2023-10-09T09:00:03.733Z"
   },
   {
    "duration": 1395,
    "start_time": "2023-10-09T09:00:05.925Z"
   },
   {
    "duration": 4,
    "start_time": "2023-10-09T09:00:22.511Z"
   },
   {
    "duration": 3,
    "start_time": "2023-10-09T09:00:26.362Z"
   },
   {
    "duration": 1333,
    "start_time": "2023-10-09T09:01:33.539Z"
   },
   {
    "duration": 969,
    "start_time": "2023-10-09T09:01:34.874Z"
   },
   {
    "duration": 5,
    "start_time": "2023-10-09T09:01:35.845Z"
   },
   {
    "duration": 1392,
    "start_time": "2023-10-09T09:02:23.027Z"
   },
   {
    "duration": 936,
    "start_time": "2023-10-09T09:02:24.421Z"
   },
   {
    "duration": 4,
    "start_time": "2023-10-09T09:02:25.359Z"
   },
   {
    "duration": 1395,
    "start_time": "2023-10-09T09:20:28.956Z"
   },
   {
    "duration": 988,
    "start_time": "2023-10-09T09:20:30.354Z"
   },
   {
    "duration": 4,
    "start_time": "2023-10-09T09:20:31.343Z"
   },
   {
    "duration": 1917085,
    "start_time": "2023-10-09T09:20:31.349Z"
   },
   {
    "duration": 0,
    "start_time": "2023-10-09T09:52:28.436Z"
   },
   {
    "duration": 0,
    "start_time": "2023-10-09T09:52:28.438Z"
   },
   {
    "duration": 0,
    "start_time": "2023-10-09T09:52:28.439Z"
   },
   {
    "duration": 0,
    "start_time": "2023-10-09T09:52:28.440Z"
   },
   {
    "duration": 0,
    "start_time": "2023-10-09T09:52:28.441Z"
   },
   {
    "duration": 0,
    "start_time": "2023-10-09T09:52:28.443Z"
   },
   {
    "duration": 0,
    "start_time": "2023-10-09T09:52:28.444Z"
   },
   {
    "duration": 0,
    "start_time": "2023-10-09T09:52:28.445Z"
   },
   {
    "duration": 0,
    "start_time": "2023-10-09T09:52:28.446Z"
   },
   {
    "duration": 3,
    "start_time": "2023-10-09T10:01:21.969Z"
   },
   {
    "duration": 244943,
    "start_time": "2023-10-09T10:01:23.704Z"
   },
   {
    "duration": 10,
    "start_time": "2023-10-09T10:08:22.428Z"
   },
   {
    "duration": 4,
    "start_time": "2023-10-09T10:08:29.063Z"
   },
   {
    "duration": 7881,
    "start_time": "2023-10-09T10:08:30.362Z"
   },
   {
    "duration": 8668,
    "start_time": "2023-10-09T10:08:44.321Z"
   },
   {
    "duration": 3,
    "start_time": "2023-10-09T10:09:15.606Z"
   },
   {
    "duration": 4496,
    "start_time": "2023-10-09T10:09:18.313Z"
   },
   {
    "duration": 4133,
    "start_time": "2023-10-09T10:09:48.823Z"
   },
   {
    "duration": 385467,
    "start_time": "2023-10-09T10:10:16.386Z"
   },
   {
    "duration": 0,
    "start_time": "2023-10-09T10:24:50.715Z"
   },
   {
    "duration": 737,
    "start_time": "2023-10-09T10:25:53.332Z"
   },
   {
    "duration": 32586,
    "start_time": "2023-10-09T10:31:45.847Z"
   },
   {
    "duration": 0,
    "start_time": "2023-10-09T10:32:18.435Z"
   },
   {
    "duration": 4,
    "start_time": "2023-10-09T10:32:19.680Z"
   },
   {
    "duration": 4241,
    "start_time": "2023-10-09T10:32:21.468Z"
   },
   {
    "duration": 392386,
    "start_time": "2023-10-09T10:32:42.945Z"
   },
   {
    "duration": 10,
    "start_time": "2023-10-09T10:50:09.858Z"
   },
   {
    "duration": 49,
    "start_time": "2023-10-09T10:50:55.840Z"
   },
   {
    "duration": 33821,
    "start_time": "2023-10-09T10:50:59.412Z"
   },
   {
    "duration": 1253,
    "start_time": "2023-10-09T10:52:02.280Z"
   },
   {
    "duration": 937,
    "start_time": "2023-10-09T10:52:03.535Z"
   },
   {
    "duration": 3,
    "start_time": "2023-10-09T10:52:04.474Z"
   },
   {
    "duration": 4048,
    "start_time": "2023-10-09T10:52:04.479Z"
   },
   {
    "duration": 318230,
    "start_time": "2023-10-09T10:52:08.530Z"
   },
   {
    "duration": 0,
    "start_time": "2023-10-09T10:57:26.762Z"
   },
   {
    "duration": 0,
    "start_time": "2023-10-09T10:57:26.763Z"
   },
   {
    "duration": 0,
    "start_time": "2023-10-09T10:57:26.764Z"
   },
   {
    "duration": 0,
    "start_time": "2023-10-09T10:57:26.766Z"
   },
   {
    "duration": 0,
    "start_time": "2023-10-09T10:57:26.766Z"
   },
   {
    "duration": 0,
    "start_time": "2023-10-09T10:57:26.767Z"
   },
   {
    "duration": 0,
    "start_time": "2023-10-09T10:57:26.768Z"
   },
   {
    "duration": 0,
    "start_time": "2023-10-09T10:57:26.770Z"
   },
   {
    "duration": 0,
    "start_time": "2023-10-09T10:57:26.771Z"
   },
   {
    "duration": 4290,
    "start_time": "2023-10-09T11:00:10.296Z"
   },
   {
    "duration": 11,
    "start_time": "2023-10-09T11:00:32.668Z"
   },
   {
    "duration": 42,
    "start_time": "2023-10-09T11:00:38.667Z"
   },
   {
    "duration": 33808,
    "start_time": "2023-10-09T11:00:41.188Z"
   },
   {
    "duration": 4,
    "start_time": "2023-10-09T11:12:35.632Z"
   },
   {
    "duration": 3,
    "start_time": "2023-10-09T11:12:37.529Z"
   },
   {
    "duration": 10911,
    "start_time": "2023-10-09T11:12:39.041Z"
   },
   {
    "duration": 3,
    "start_time": "2023-10-09T11:23:59.009Z"
   },
   {
    "duration": 9,
    "start_time": "2023-10-09T11:24:16.363Z"
   },
   {
    "duration": 3,
    "start_time": "2023-10-09T11:24:34.415Z"
   },
   {
    "duration": 22139,
    "start_time": "2023-10-09T11:24:37.838Z"
   },
   {
    "duration": 3860,
    "start_time": "2023-10-09T11:25:03.238Z"
   },
   {
    "duration": 5,
    "start_time": "2023-10-09T11:27:06.115Z"
   },
   {
    "duration": 10,
    "start_time": "2023-10-09T11:27:09.399Z"
   },
   {
    "duration": 4,
    "start_time": "2023-10-09T11:27:21.142Z"
   },
   {
    "duration": 11,
    "start_time": "2023-10-09T11:27:24.338Z"
   },
   {
    "duration": 4,
    "start_time": "2023-10-09T11:27:36.299Z"
   },
   {
    "duration": 4591,
    "start_time": "2023-10-09T11:27:51.538Z"
   },
   {
    "duration": 1328,
    "start_time": "2023-10-09T11:28:01.767Z"
   },
   {
    "duration": 943,
    "start_time": "2023-10-09T11:28:03.097Z"
   },
   {
    "duration": 3,
    "start_time": "2023-10-09T11:28:04.042Z"
   },
   {
    "duration": 178,
    "start_time": "2023-10-09T11:28:04.046Z"
   },
   {
    "duration": 1501,
    "start_time": "2023-10-09T11:36:05.006Z"
   },
   {
    "duration": 980,
    "start_time": "2023-10-09T11:36:06.509Z"
   },
   {
    "duration": 4,
    "start_time": "2023-10-09T11:36:07.490Z"
   },
   {
    "duration": 130,
    "start_time": "2023-10-09T11:36:07.495Z"
   },
   {
    "duration": 1319,
    "start_time": "2023-10-09T11:36:40.742Z"
   },
   {
    "duration": 949,
    "start_time": "2023-10-09T11:36:42.063Z"
   },
   {
    "duration": 10,
    "start_time": "2023-10-09T11:36:43.014Z"
   },
   {
    "duration": 1771698,
    "start_time": "2023-10-09T11:36:43.025Z"
   },
   {
    "duration": 0,
    "start_time": "2023-10-09T12:06:14.725Z"
   },
   {
    "duration": 0,
    "start_time": "2023-10-09T12:06:14.727Z"
   },
   {
    "duration": 0,
    "start_time": "2023-10-09T12:06:14.728Z"
   },
   {
    "duration": 0,
    "start_time": "2023-10-09T12:06:14.729Z"
   },
   {
    "duration": 0,
    "start_time": "2023-10-09T12:06:14.730Z"
   },
   {
    "duration": 0,
    "start_time": "2023-10-09T12:06:14.731Z"
   },
   {
    "duration": 0,
    "start_time": "2023-10-09T12:06:14.733Z"
   },
   {
    "duration": 0,
    "start_time": "2023-10-09T12:06:14.734Z"
   },
   {
    "duration": 5,
    "start_time": "2023-10-09T12:06:56.094Z"
   },
   {
    "duration": 11,
    "start_time": "2023-10-09T12:06:59.047Z"
   },
   {
    "duration": 4310,
    "start_time": "2023-10-09T12:07:13.563Z"
   },
   {
    "duration": 36,
    "start_time": "2023-10-09T12:07:19.612Z"
   },
   {
    "duration": 13,
    "start_time": "2023-10-09T12:08:32.535Z"
   },
   {
    "duration": 10,
    "start_time": "2023-10-09T12:08:41.276Z"
   },
   {
    "duration": 4,
    "start_time": "2023-10-09T12:09:00.822Z"
   },
   {
    "duration": 4194,
    "start_time": "2023-10-09T12:09:38.508Z"
   },
   {
    "duration": 35,
    "start_time": "2023-10-09T12:09:44.931Z"
   },
   {
    "duration": 4284,
    "start_time": "2023-10-09T12:10:06.830Z"
   },
   {
    "duration": 29,
    "start_time": "2023-10-09T12:10:12.586Z"
   },
   {
    "duration": 4222,
    "start_time": "2023-10-09T12:10:28.943Z"
   },
   {
    "duration": 50910,
    "start_time": "2023-10-09T12:10:34.228Z"
   },
   {
    "duration": 4,
    "start_time": "2023-10-09T12:11:35.696Z"
   },
   {
    "duration": 7157,
    "start_time": "2023-10-09T12:12:22.753Z"
   },
   {
    "duration": 5811,
    "start_time": "2023-10-09T12:12:40.883Z"
   },
   {
    "duration": 5545,
    "start_time": "2023-10-09T12:18:39.170Z"
   },
   {
    "duration": 5888,
    "start_time": "2023-10-09T12:19:52.937Z"
   },
   {
    "duration": 6186,
    "start_time": "2023-10-09T12:21:09.587Z"
   },
   {
    "duration": 6264,
    "start_time": "2023-10-09T12:21:42.639Z"
   },
   {
    "duration": 5574,
    "start_time": "2023-10-09T12:22:02.560Z"
   },
   {
    "duration": 3,
    "start_time": "2023-10-09T12:22:59.789Z"
   },
   {
    "duration": 5698,
    "start_time": "2023-10-09T12:23:01.846Z"
   },
   {
    "duration": 5713,
    "start_time": "2023-10-09T12:31:23.057Z"
   },
   {
    "duration": 4,
    "start_time": "2023-10-09T12:33:26.521Z"
   },
   {
    "duration": 93,
    "start_time": "2023-10-09T12:33:40.218Z"
   },
   {
    "duration": 9,
    "start_time": "2023-10-09T12:34:16.915Z"
   },
   {
    "duration": 63,
    "start_time": "2023-10-09T12:34:28.448Z"
   },
   {
    "duration": 8,
    "start_time": "2023-10-09T12:35:46.329Z"
   },
   {
    "duration": 13,
    "start_time": "2023-10-09T12:35:55.855Z"
   },
   {
    "duration": 95,
    "start_time": "2023-10-09T12:36:09.717Z"
   },
   {
    "duration": 10,
    "start_time": "2023-10-09T12:36:16.150Z"
   },
   {
    "duration": 75,
    "start_time": "2023-10-09T12:36:25.349Z"
   },
   {
    "duration": 10,
    "start_time": "2023-10-09T12:36:28.585Z"
   },
   {
    "duration": 3,
    "start_time": "2023-10-09T12:40:04.639Z"
   },
   {
    "duration": 10,
    "start_time": "2023-10-09T12:40:51.513Z"
   },
   {
    "duration": 10,
    "start_time": "2023-10-09T12:41:07.042Z"
   },
   {
    "duration": 3,
    "start_time": "2023-10-09T12:41:10.854Z"
   },
   {
    "duration": 9,
    "start_time": "2023-10-09T12:41:13.929Z"
   },
   {
    "duration": 34,
    "start_time": "2023-10-09T12:41:24.678Z"
   },
   {
    "duration": 161,
    "start_time": "2023-10-09T12:41:27.534Z"
   },
   {
    "duration": 5153,
    "start_time": "2023-10-09T12:41:51.227Z"
   },
   {
    "duration": 1654,
    "start_time": "2023-10-09T12:41:59.908Z"
   },
   {
    "duration": 89,
    "start_time": "2023-10-09T13:17:46.630Z"
   },
   {
    "duration": 5559,
    "start_time": "2023-10-09T13:18:03.769Z"
   },
   {
    "duration": 1746,
    "start_time": "2023-10-09T13:18:11.490Z"
   },
   {
    "duration": 3,
    "start_time": "2023-10-09T13:18:52.730Z"
   },
   {
    "duration": 16,
    "start_time": "2023-10-09T13:51:12.918Z"
   },
   {
    "duration": 79,
    "start_time": "2023-10-09T13:51:17.981Z"
   },
   {
    "duration": 33,
    "start_time": "2023-10-09T13:51:23.282Z"
   },
   {
    "duration": 95505,
    "start_time": "2023-10-09T13:51:26.840Z"
   },
   {
    "duration": 6,
    "start_time": "2023-10-09T13:53:11.902Z"
   },
   {
    "duration": 5,
    "start_time": "2023-10-09T13:53:19.547Z"
   },
   {
    "duration": 247590,
    "start_time": "2023-10-09T13:55:50.146Z"
   },
   {
    "duration": 91273,
    "start_time": "2023-10-09T14:00:11.376Z"
   },
   {
    "duration": 6,
    "start_time": "2023-10-09T14:01:47.319Z"
   },
   {
    "duration": 3,
    "start_time": "2023-10-09T14:05:28.468Z"
   },
   {
    "duration": 4,
    "start_time": "2023-10-09T14:05:35.389Z"
   },
   {
    "duration": 173717,
    "start_time": "2023-10-09T14:05:45.630Z"
   },
   {
    "duration": 44274,
    "start_time": "2023-10-09T14:10:29.470Z"
   },
   {
    "duration": 3,
    "start_time": "2023-10-09T14:11:21.662Z"
   },
   {
    "duration": 4,
    "start_time": "2023-10-09T14:14:41.690Z"
   },
   {
    "duration": 1412,
    "start_time": "2023-10-09T14:14:55.854Z"
   },
   {
    "duration": 2,
    "start_time": "2023-10-09T14:14:57.269Z"
   },
   {
    "duration": 957,
    "start_time": "2023-10-09T14:14:57.275Z"
   },
   {
    "duration": 10,
    "start_time": "2023-10-09T14:14:58.235Z"
   },
   {
    "duration": 15,
    "start_time": "2023-10-09T14:14:58.247Z"
   },
   {
    "duration": 7243,
    "start_time": "2023-10-09T14:14:58.263Z"
   },
   {
    "duration": 261,
    "start_time": "2023-10-09T14:15:05.507Z"
   },
   {
    "duration": 131,
    "start_time": "2023-10-09T14:15:05.770Z"
   },
   {
    "duration": 5539,
    "start_time": "2023-10-09T14:15:05.903Z"
   },
   {
    "duration": 1634,
    "start_time": "2023-10-09T14:15:11.444Z"
   },
   {
    "duration": 4,
    "start_time": "2023-10-09T14:15:13.079Z"
   },
   {
    "duration": 88856,
    "start_time": "2023-10-09T14:15:13.084Z"
   },
   {
    "duration": 3,
    "start_time": "2023-10-09T14:16:41.943Z"
   },
   {
    "duration": 13,
    "start_time": "2023-10-09T14:16:41.948Z"
   },
   {
    "duration": 89396,
    "start_time": "2023-10-09T14:33:27.040Z"
   },
   {
    "duration": 3,
    "start_time": "2023-10-09T14:34:59.809Z"
   },
   {
    "duration": 4,
    "start_time": "2023-10-09T14:35:02.384Z"
   },
   {
    "duration": 159,
    "start_time": "2023-10-09T14:43:00.913Z"
   },
   {
    "duration": 4,
    "start_time": "2023-10-09T14:43:12.537Z"
   },
   {
    "duration": 858,
    "start_time": "2023-10-09T14:43:15.961Z"
   },
   {
    "duration": 4,
    "start_time": "2023-10-09T14:43:46.617Z"
   },
   {
    "duration": 707,
    "start_time": "2023-10-09T14:43:52.705Z"
   },
   {
    "duration": 1018,
    "start_time": "2023-10-09T14:44:03.195Z"
   },
   {
    "duration": 704,
    "start_time": "2023-10-09T14:59:02.452Z"
   },
   {
    "duration": 914,
    "start_time": "2023-10-09T14:59:05.043Z"
   },
   {
    "duration": 671,
    "start_time": "2023-10-09T14:59:34.836Z"
   },
   {
    "duration": 65026,
    "start_time": "2023-10-09T14:59:36.993Z"
   },
   {
    "duration": 0,
    "start_time": "2023-10-09T15:00:42.030Z"
   },
   {
    "duration": 190274,
    "start_time": "2023-10-09T15:00:44.262Z"
   },
   {
    "duration": 601,
    "start_time": "2023-10-09T15:06:21.164Z"
   },
   {
    "duration": 12,
    "start_time": "2023-10-09T15:06:23.583Z"
   },
   {
    "duration": 90231,
    "start_time": "2023-10-09T15:08:49.863Z"
   },
   {
    "duration": 14,
    "start_time": "2023-10-09T15:15:21.832Z"
   },
   {
    "duration": 11,
    "start_time": "2023-10-09T15:15:23.030Z"
   },
   {
    "duration": 11,
    "start_time": "2023-10-09T15:15:23.273Z"
   },
   {
    "duration": 4,
    "start_time": "2023-10-09T15:23:24.681Z"
   },
   {
    "duration": 632,
    "start_time": "2023-10-09T15:24:48.336Z"
   },
   {
    "duration": 632,
    "start_time": "2023-10-09T15:29:37.715Z"
   },
   {
    "duration": 11,
    "start_time": "2023-10-09T15:29:41.263Z"
   },
   {
    "duration": 1213,
    "start_time": "2023-10-09T15:33:29.294Z"
   },
   {
    "duration": 977,
    "start_time": "2023-10-09T15:33:49.000Z"
   },
   {
    "duration": 1425,
    "start_time": "2023-10-09T15:34:04.554Z"
   },
   {
    "duration": 3,
    "start_time": "2023-10-09T15:34:05.982Z"
   },
   {
    "duration": 1015,
    "start_time": "2023-10-09T15:34:05.988Z"
   },
   {
    "duration": 19,
    "start_time": "2023-10-09T15:34:07.005Z"
   },
   {
    "duration": 4,
    "start_time": "2023-10-09T15:34:07.025Z"
   },
   {
    "duration": 6886,
    "start_time": "2023-10-09T15:34:07.030Z"
   },
   {
    "duration": 212,
    "start_time": "2023-10-09T15:34:13.918Z"
   },
   {
    "duration": 99,
    "start_time": "2023-10-09T15:34:14.132Z"
   },
   {
    "duration": 5497,
    "start_time": "2023-10-09T15:34:14.233Z"
   },
   {
    "duration": 1780,
    "start_time": "2023-10-09T15:34:19.733Z"
   },
   {
    "duration": 3,
    "start_time": "2023-10-09T15:34:21.515Z"
   },
   {
    "duration": 100823,
    "start_time": "2023-10-09T15:34:21.519Z"
   },
   {
    "duration": 7,
    "start_time": "2023-10-09T15:36:02.344Z"
   },
   {
    "duration": 1396,
    "start_time": "2023-10-09T15:36:02.370Z"
   },
   {
    "duration": 137,
    "start_time": "2023-10-09T15:41:15.002Z"
   },
   {
    "duration": 2406,
    "start_time": "2023-10-09T15:41:30.903Z"
   },
   {
    "duration": 43264,
    "start_time": "2023-10-09T15:41:55.690Z"
   },
   {
    "duration": 188603,
    "start_time": "2023-10-09T15:42:47.906Z"
   },
   {
    "duration": 271017,
    "start_time": "2023-10-09T15:46:14.661Z"
   },
   {
    "duration": 443432,
    "start_time": "2023-10-09T15:51:14.978Z"
   },
   {
    "duration": 24,
    "start_time": "2023-10-09T15:59:08.162Z"
   },
   {
    "duration": 689,
    "start_time": "2023-10-09T15:59:31.067Z"
   },
   {
    "duration": 51353,
    "start_time": "2023-10-09T15:59:39.621Z"
   },
   {
    "duration": 144,
    "start_time": "2023-10-09T16:08:58.421Z"
   },
   {
    "duration": 34,
    "start_time": "2023-10-09T16:10:03.909Z"
   },
   {
    "duration": 12,
    "start_time": "2023-10-09T16:10:14.776Z"
   },
   {
    "duration": 13,
    "start_time": "2023-10-09T16:10:23.021Z"
   },
   {
    "duration": 12,
    "start_time": "2023-10-09T16:10:27.153Z"
   },
   {
    "duration": 627668,
    "start_time": "2023-10-09T16:10:39.951Z"
   },
   {
    "duration": 53961,
    "start_time": "2023-10-09T16:23:13.988Z"
   },
   {
    "duration": 6,
    "start_time": "2023-10-09T16:24:42.813Z"
   },
   {
    "duration": 2,
    "start_time": "2023-10-09T16:25:29.048Z"
   },
   {
    "duration": 55671,
    "start_time": "2023-10-09T16:25:41.325Z"
   },
   {
    "duration": 9,
    "start_time": "2023-10-09T16:26:40.721Z"
   },
   {
    "duration": 3,
    "start_time": "2023-10-09T16:26:52.155Z"
   },
   {
    "duration": 1493,
    "start_time": "2023-10-09T16:29:40.776Z"
   },
   {
    "duration": 6,
    "start_time": "2023-10-09T16:29:42.271Z"
   },
   {
    "duration": 1064,
    "start_time": "2023-10-09T16:29:42.279Z"
   },
   {
    "duration": 12,
    "start_time": "2023-10-09T16:29:43.345Z"
   },
   {
    "duration": 132,
    "start_time": "2023-10-09T16:29:43.359Z"
   },
   {
    "duration": 7110,
    "start_time": "2023-10-09T16:29:43.493Z"
   },
   {
    "duration": 152,
    "start_time": "2023-10-09T16:29:50.606Z"
   },
   {
    "duration": 147,
    "start_time": "2023-10-09T16:29:50.761Z"
   },
   {
    "duration": 5476,
    "start_time": "2023-10-09T16:29:50.913Z"
   },
   {
    "duration": 1675,
    "start_time": "2023-10-09T16:29:56.391Z"
   },
   {
    "duration": 4,
    "start_time": "2023-10-09T16:29:58.068Z"
   },
   {
    "duration": 121,
    "start_time": "2023-10-09T16:29:58.074Z"
   },
   {
    "duration": 4,
    "start_time": "2023-10-09T16:32:22.354Z"
   },
   {
    "duration": 53046,
    "start_time": "2023-10-09T16:32:22.360Z"
   },
   {
    "duration": 6,
    "start_time": "2023-10-09T16:33:15.408Z"
   },
   {
    "duration": 1393,
    "start_time": "2023-10-09T16:33:36.820Z"
   },
   {
    "duration": 9,
    "start_time": "2023-10-09T16:33:38.216Z"
   },
   {
    "duration": 3,
    "start_time": "2023-10-09T16:33:38.227Z"
   },
   {
    "duration": 964,
    "start_time": "2023-10-09T16:33:38.232Z"
   },
   {
    "duration": 26,
    "start_time": "2023-10-09T16:33:39.198Z"
   },
   {
    "duration": 4,
    "start_time": "2023-10-09T16:33:39.225Z"
   },
   {
    "duration": 7012,
    "start_time": "2023-10-09T16:33:39.231Z"
   },
   {
    "duration": 155,
    "start_time": "2023-10-09T16:33:46.245Z"
   },
   {
    "duration": 116,
    "start_time": "2023-10-09T16:33:46.402Z"
   },
   {
    "duration": 5787,
    "start_time": "2023-10-09T16:33:46.520Z"
   },
   {
    "duration": 1786,
    "start_time": "2023-10-09T16:33:52.309Z"
   },
   {
    "duration": 4,
    "start_time": "2023-10-09T16:33:54.097Z"
   },
   {
    "duration": 21,
    "start_time": "2023-10-09T16:33:54.103Z"
   },
   {
    "duration": 1570,
    "start_time": "2023-10-09T16:35:24.871Z"
   },
   {
    "duration": 3,
    "start_time": "2023-10-09T16:35:26.444Z"
   },
   {
    "duration": 191,
    "start_time": "2023-10-09T16:35:26.449Z"
   },
   {
    "duration": 1175,
    "start_time": "2023-10-09T16:35:26.643Z"
   },
   {
    "duration": 24,
    "start_time": "2023-10-09T16:35:27.820Z"
   },
   {
    "duration": 5,
    "start_time": "2023-10-09T16:35:27.846Z"
   },
   {
    "duration": 7929,
    "start_time": "2023-10-09T16:35:27.852Z"
   },
   {
    "duration": 177,
    "start_time": "2023-10-09T16:35:35.783Z"
   },
   {
    "duration": 129,
    "start_time": "2023-10-09T16:35:35.966Z"
   },
   {
    "duration": 6323,
    "start_time": "2023-10-09T16:35:36.098Z"
   },
   {
    "duration": 1952,
    "start_time": "2023-10-09T16:35:42.427Z"
   },
   {
    "duration": 3,
    "start_time": "2023-10-09T16:35:44.381Z"
   },
   {
    "duration": 24,
    "start_time": "2023-10-09T16:35:44.386Z"
   },
   {
    "duration": 146245,
    "start_time": "2023-10-09T16:35:44.413Z"
   },
   {
    "duration": 5,
    "start_time": "2023-10-09T16:38:10.660Z"
   },
   {
    "duration": 52634,
    "start_time": "2023-10-09T16:38:10.667Z"
   },
   {
    "duration": 5,
    "start_time": "2023-10-09T16:39:03.303Z"
   },
   {
    "duration": 983,
    "start_time": "2023-10-09T16:39:23.742Z"
   },
   {
    "duration": 733,
    "start_time": "2023-10-09T16:39:37.604Z"
   },
   {
    "duration": 54353,
    "start_time": "2023-10-09T16:40:26.550Z"
   },
   {
    "duration": 6,
    "start_time": "2023-10-09T16:41:37.181Z"
   },
   {
    "duration": 6,
    "start_time": "2023-10-09T16:47:07.788Z"
   },
   {
    "duration": 107,
    "start_time": "2023-10-09T16:51:35.731Z"
   },
   {
    "duration": 773,
    "start_time": "2023-10-09T16:51:40.335Z"
   },
   {
    "duration": 688,
    "start_time": "2023-10-09T16:52:06.284Z"
   },
   {
    "duration": 2125971,
    "start_time": "2023-10-09T16:52:08.525Z"
   },
   {
    "duration": 845,
    "start_time": "2023-10-09T17:27:46.207Z"
   },
   {
    "duration": 1800,
    "start_time": "2023-10-09T17:28:00.090Z"
   },
   {
    "duration": 4,
    "start_time": "2023-10-09T17:28:01.892Z"
   },
   {
    "duration": 94,
    "start_time": "2023-10-09T17:28:01.897Z"
   },
   {
    "duration": 1215,
    "start_time": "2023-10-09T17:28:01.993Z"
   },
   {
    "duration": 19,
    "start_time": "2023-10-09T17:28:03.211Z"
   },
   {
    "duration": 5,
    "start_time": "2023-10-09T17:28:03.231Z"
   },
   {
    "duration": 10037,
    "start_time": "2023-10-09T17:28:03.238Z"
   },
   {
    "duration": 245,
    "start_time": "2023-10-09T17:28:13.278Z"
   },
   {
    "duration": 133,
    "start_time": "2023-10-09T17:28:13.531Z"
   },
   {
    "duration": 7338,
    "start_time": "2023-10-09T17:28:13.670Z"
   },
   {
    "duration": 2471,
    "start_time": "2023-10-09T17:28:21.012Z"
   },
   {
    "duration": 3,
    "start_time": "2023-10-09T17:28:23.485Z"
   },
   {
    "duration": 74,
    "start_time": "2023-10-09T17:28:23.490Z"
   },
   {
    "duration": 160513,
    "start_time": "2023-10-09T17:28:23.572Z"
   },
   {
    "duration": 53,
    "start_time": "2023-10-09T17:31:04.087Z"
   },
   {
    "duration": 1249,
    "start_time": "2023-10-09T17:31:04.152Z"
   },
   {
    "duration": 639316,
    "start_time": "2023-10-09T17:31:05.403Z"
   },
   {
    "duration": 1128,
    "start_time": "2023-10-09T17:44:50.268Z"
   },
   {
    "duration": 145344,
    "start_time": "2023-10-09T17:44:53.065Z"
   },
   {
    "duration": 774,
    "start_time": "2023-10-09T17:47:36.791Z"
   },
   {
    "duration": 12,
    "start_time": "2023-10-09T17:47:54.809Z"
   },
   {
    "duration": 701,
    "start_time": "2023-10-09T17:48:12.783Z"
   },
   {
    "duration": 24,
    "start_time": "2023-10-09T17:48:14.752Z"
   },
   {
    "duration": 699,
    "start_time": "2023-10-09T17:48:31.386Z"
   },
   {
    "duration": 755,
    "start_time": "2023-10-09T17:48:36.659Z"
   },
   {
    "duration": 2625,
    "start_time": "2023-10-09T17:49:36.701Z"
   },
   {
    "duration": 12,
    "start_time": "2023-10-09T17:49:39.328Z"
   },
   {
    "duration": 6,
    "start_time": "2023-10-09T17:49:39.344Z"
   },
   {
    "duration": 1184,
    "start_time": "2023-10-09T17:49:39.352Z"
   },
   {
    "duration": 15,
    "start_time": "2023-10-09T17:49:40.538Z"
   },
   {
    "duration": 9,
    "start_time": "2023-10-09T17:49:40.555Z"
   },
   {
    "duration": 8934,
    "start_time": "2023-10-09T17:49:40.566Z"
   },
   {
    "duration": 330,
    "start_time": "2023-10-09T17:49:49.503Z"
   },
   {
    "duration": 131,
    "start_time": "2023-10-09T17:49:49.835Z"
   },
   {
    "duration": 7222,
    "start_time": "2023-10-09T17:49:49.975Z"
   },
   {
    "duration": 2181,
    "start_time": "2023-10-09T17:49:57.199Z"
   },
   {
    "duration": 3,
    "start_time": "2023-10-09T17:49:59.382Z"
   },
   {
    "duration": 12,
    "start_time": "2023-10-09T17:49:59.387Z"
   },
   {
    "duration": 145537,
    "start_time": "2023-10-09T17:49:59.401Z"
   },
   {
    "duration": 12,
    "start_time": "2023-10-09T17:52:24.949Z"
   },
   {
    "duration": 782,
    "start_time": "2023-10-09T17:52:24.964Z"
   },
   {
    "duration": 132364,
    "start_time": "2023-10-09T17:52:25.748Z"
   },
   {
    "duration": 758,
    "start_time": "2023-10-09T17:55:01.187Z"
   },
   {
    "duration": 449816,
    "start_time": "2023-10-09T17:55:03.772Z"
   },
   {
    "duration": 2049,
    "start_time": "2023-10-09T18:16:14.647Z"
   },
   {
    "duration": 1222,
    "start_time": "2023-10-09T18:16:26.775Z"
   },
   {
    "duration": 416154,
    "start_time": "2023-10-09T18:18:43.056Z"
   },
   {
    "duration": 6,
    "start_time": "2023-10-09T18:32:09.276Z"
   },
   {
    "duration": 5,
    "start_time": "2023-10-09T18:32:23.288Z"
   },
   {
    "duration": 1664,
    "start_time": "2023-10-10T08:17:47.110Z"
   },
   {
    "duration": 3,
    "start_time": "2023-10-10T08:17:48.776Z"
   },
   {
    "duration": 38,
    "start_time": "2023-10-10T08:17:48.781Z"
   },
   {
    "duration": 2450,
    "start_time": "2023-10-10T08:17:48.821Z"
   },
   {
    "duration": 10,
    "start_time": "2023-10-10T08:17:51.273Z"
   },
   {
    "duration": 9,
    "start_time": "2023-10-10T08:17:51.285Z"
   },
   {
    "duration": 6434,
    "start_time": "2023-10-10T08:17:51.296Z"
   },
   {
    "duration": 224,
    "start_time": "2023-10-10T08:17:57.731Z"
   },
   {
    "duration": 91,
    "start_time": "2023-10-10T08:17:57.956Z"
   },
   {
    "duration": 5165,
    "start_time": "2023-10-10T08:17:58.048Z"
   },
   {
    "duration": 1499,
    "start_time": "2023-10-10T08:18:03.215Z"
   },
   {
    "duration": 8,
    "start_time": "2023-10-10T08:18:04.716Z"
   },
   {
    "duration": 131,
    "start_time": "2023-10-10T08:18:04.725Z"
   },
   {
    "duration": 131069,
    "start_time": "2023-10-10T08:18:04.858Z"
   },
   {
    "duration": 3,
    "start_time": "2023-10-10T08:20:15.929Z"
   },
   {
    "duration": 355035,
    "start_time": "2023-10-10T08:20:15.934Z"
   },
   {
    "duration": 683648,
    "start_time": "2023-10-10T08:46:00.712Z"
   },
   {
    "duration": 7,
    "start_time": "2023-10-10T08:59:02.515Z"
   },
   {
    "duration": 4,
    "start_time": "2023-10-10T09:00:33.661Z"
   },
   {
    "duration": 9,
    "start_time": "2023-10-10T09:00:40.252Z"
   },
   {
    "duration": 4,
    "start_time": "2023-10-10T09:00:49.128Z"
   },
   {
    "duration": 4,
    "start_time": "2023-10-10T09:01:17.211Z"
   },
   {
    "duration": 8,
    "start_time": "2023-10-10T09:02:26.894Z"
   },
   {
    "duration": 4,
    "start_time": "2023-10-10T09:02:34.110Z"
   },
   {
    "duration": 47573,
    "start_time": "2023-10-10T09:07:54.157Z"
   },
   {
    "duration": 109163,
    "start_time": "2023-10-10T09:08:50.861Z"
   },
   {
    "duration": 14,
    "start_time": "2023-10-10T09:12:29.634Z"
   },
   {
    "duration": 3,
    "start_time": "2023-10-10T09:12:42.077Z"
   },
   {
    "duration": 10,
    "start_time": "2023-10-10T09:12:49.160Z"
   },
   {
    "duration": 3,
    "start_time": "2023-10-10T09:13:02.880Z"
   },
   {
    "duration": 6,
    "start_time": "2023-10-10T09:16:55.980Z"
   },
   {
    "duration": 19,
    "start_time": "2023-10-10T09:18:07.386Z"
   },
   {
    "duration": 22,
    "start_time": "2023-10-10T09:18:09.162Z"
   },
   {
    "duration": 29,
    "start_time": "2023-10-10T09:18:25.792Z"
   },
   {
    "duration": 4,
    "start_time": "2023-10-10T09:18:30.618Z"
   },
   {
    "duration": 18,
    "start_time": "2023-10-10T09:18:34.375Z"
   },
   {
    "duration": 25,
    "start_time": "2023-10-10T09:20:18.137Z"
   },
   {
    "duration": 24,
    "start_time": "2023-10-10T09:20:19.211Z"
   },
   {
    "duration": 19,
    "start_time": "2023-10-10T09:21:22.862Z"
   },
   {
    "duration": 18,
    "start_time": "2023-10-10T09:21:45.562Z"
   },
   {
    "duration": 19,
    "start_time": "2023-10-10T09:22:25.611Z"
   },
   {
    "duration": 1348,
    "start_time": "2023-10-10T09:22:37.720Z"
   },
   {
    "duration": 3,
    "start_time": "2023-10-10T09:22:39.070Z"
   },
   {
    "duration": 25,
    "start_time": "2023-10-10T09:22:39.075Z"
   },
   {
    "duration": 988,
    "start_time": "2023-10-10T09:22:39.102Z"
   },
   {
    "duration": 11,
    "start_time": "2023-10-10T09:22:40.092Z"
   },
   {
    "duration": 33,
    "start_time": "2023-10-10T09:22:40.105Z"
   },
   {
    "duration": 7075,
    "start_time": "2023-10-10T09:22:40.141Z"
   },
   {
    "duration": 133,
    "start_time": "2023-10-10T09:22:47.218Z"
   },
   {
    "duration": 93,
    "start_time": "2023-10-10T09:22:47.352Z"
   },
   {
    "duration": 5412,
    "start_time": "2023-10-10T09:22:47.447Z"
   },
   {
    "duration": 1669,
    "start_time": "2023-10-10T09:22:52.861Z"
   },
   {
    "duration": 4,
    "start_time": "2023-10-10T09:22:54.531Z"
   },
   {
    "duration": 89290,
    "start_time": "2023-10-10T09:22:54.537Z"
   },
   {
    "duration": 3,
    "start_time": "2023-10-10T09:24:23.830Z"
   },
   {
    "duration": 708947,
    "start_time": "2023-10-10T09:24:23.835Z"
   },
   {
    "duration": 4,
    "start_time": "2023-10-10T09:36:12.784Z"
   },
   {
    "duration": 76,
    "start_time": "2023-10-10T09:36:12.789Z"
   },
   {
    "duration": 113688,
    "start_time": "2023-10-10T09:36:12.866Z"
   },
   {
    "duration": 4,
    "start_time": "2023-10-10T09:38:06.555Z"
   },
   {
    "duration": 25,
    "start_time": "2023-10-10T09:38:06.561Z"
   },
   {
    "duration": 20,
    "start_time": "2023-10-10T10:06:01.602Z"
   },
   {
    "duration": 19,
    "start_time": "2023-10-10T10:09:01.071Z"
   },
   {
    "duration": 19,
    "start_time": "2023-10-10T10:09:02.817Z"
   },
   {
    "duration": 19,
    "start_time": "2023-10-10T10:09:03.055Z"
   },
   {
    "duration": 301,
    "start_time": "2023-10-10T10:09:03.257Z"
   },
   {
    "duration": 18622,
    "start_time": "2023-10-10T10:31:13.460Z"
   },
   {
    "duration": 92,
    "start_time": "2023-10-10T10:32:11.322Z"
   },
   {
    "duration": 19,
    "start_time": "2023-10-10T10:33:04.866Z"
   },
   {
    "duration": 20,
    "start_time": "2023-10-10T10:34:32.898Z"
   },
   {
    "duration": 20,
    "start_time": "2023-10-10T10:34:33.747Z"
   },
   {
    "duration": 18,
    "start_time": "2023-10-10T10:34:33.938Z"
   },
   {
    "duration": 26,
    "start_time": "2023-10-10T10:34:34.116Z"
   },
   {
    "duration": 19,
    "start_time": "2023-10-10T10:34:34.336Z"
   },
   {
    "duration": 31,
    "start_time": "2023-10-10T10:36:32.018Z"
   },
   {
    "duration": 20,
    "start_time": "2023-10-10T10:38:27.308Z"
   },
   {
    "duration": 17,
    "start_time": "2023-10-10T10:38:48.643Z"
   },
   {
    "duration": 19,
    "start_time": "2023-10-10T10:38:48.977Z"
   },
   {
    "duration": 19,
    "start_time": "2023-10-10T10:38:49.183Z"
   },
   {
    "duration": 18,
    "start_time": "2023-10-10T10:38:49.361Z"
   },
   {
    "duration": 17,
    "start_time": "2023-10-10T10:38:49.544Z"
   },
   {
    "duration": 25,
    "start_time": "2023-10-10T10:41:23.644Z"
   },
   {
    "duration": 29,
    "start_time": "2023-10-10T10:41:28.223Z"
   },
   {
    "duration": 21,
    "start_time": "2023-10-10T10:41:28.447Z"
   },
   {
    "duration": 19,
    "start_time": "2023-10-10T10:41:28.691Z"
   },
   {
    "duration": 19,
    "start_time": "2023-10-10T10:44:26.998Z"
   },
   {
    "duration": 4,
    "start_time": "2023-10-10T10:45:58.144Z"
   },
   {
    "duration": 18,
    "start_time": "2023-10-10T10:46:13.247Z"
   },
   {
    "duration": 4,
    "start_time": "2023-10-10T10:46:56.801Z"
   },
   {
    "duration": 6,
    "start_time": "2023-10-10T10:47:06.859Z"
   },
   {
    "duration": 11,
    "start_time": "2023-10-10T10:49:16.746Z"
   },
   {
    "duration": 5,
    "start_time": "2023-10-10T10:49:26.685Z"
   },
   {
    "duration": 130,
    "start_time": "2023-10-10T10:57:10.945Z"
   },
   {
    "duration": 1459,
    "start_time": "2023-10-10T10:57:31.658Z"
   },
   {
    "duration": 15,
    "start_time": "2023-10-10T10:57:33.119Z"
   },
   {
    "duration": 64,
    "start_time": "2023-10-10T10:57:33.136Z"
   },
   {
    "duration": 1089,
    "start_time": "2023-10-10T10:57:33.202Z"
   },
   {
    "duration": 10,
    "start_time": "2023-10-10T10:57:34.293Z"
   },
   {
    "duration": 12,
    "start_time": "2023-10-10T10:57:34.304Z"
   },
   {
    "duration": 7724,
    "start_time": "2023-10-10T10:57:34.328Z"
   },
   {
    "duration": 254,
    "start_time": "2023-10-10T10:57:42.054Z"
   },
   {
    "duration": 101,
    "start_time": "2023-10-10T10:57:42.309Z"
   },
   {
    "duration": 5938,
    "start_time": "2023-10-10T10:57:42.412Z"
   },
   {
    "duration": 1813,
    "start_time": "2023-10-10T10:57:48.353Z"
   },
   {
    "duration": 3,
    "start_time": "2023-10-10T10:57:50.168Z"
   },
   {
    "duration": 99963,
    "start_time": "2023-10-10T10:57:50.173Z"
   },
   {
    "duration": 12,
    "start_time": "2023-10-10T10:59:30.140Z"
   },
   {
    "duration": 776227,
    "start_time": "2023-10-10T10:59:30.154Z"
   },
   {
    "duration": 3,
    "start_time": "2023-10-10T11:12:26.383Z"
   },
   {
    "duration": 27,
    "start_time": "2023-10-10T11:12:26.388Z"
   },
   {
    "duration": 130401,
    "start_time": "2023-10-10T11:12:26.417Z"
   },
   {
    "duration": 6,
    "start_time": "2023-10-10T11:14:36.820Z"
   },
   {
    "duration": 83,
    "start_time": "2023-10-10T11:14:36.834Z"
   },
   {
    "duration": 480,
    "start_time": "2023-10-11T11:59:36.610Z"
   },
   {
    "duration": 0,
    "start_time": "2023-10-11T11:59:37.092Z"
   },
   {
    "duration": 0,
    "start_time": "2023-10-11T11:59:37.094Z"
   },
   {
    "duration": 0,
    "start_time": "2023-10-11T11:59:37.095Z"
   },
   {
    "duration": 0,
    "start_time": "2023-10-11T11:59:37.096Z"
   },
   {
    "duration": 0,
    "start_time": "2023-10-11T11:59:37.097Z"
   },
   {
    "duration": 0,
    "start_time": "2023-10-11T11:59:37.098Z"
   },
   {
    "duration": 0,
    "start_time": "2023-10-11T11:59:37.099Z"
   },
   {
    "duration": 0,
    "start_time": "2023-10-11T11:59:37.100Z"
   },
   {
    "duration": 0,
    "start_time": "2023-10-11T11:59:37.101Z"
   },
   {
    "duration": 0,
    "start_time": "2023-10-11T11:59:37.102Z"
   },
   {
    "duration": 0,
    "start_time": "2023-10-11T11:59:37.103Z"
   },
   {
    "duration": 0,
    "start_time": "2023-10-11T11:59:37.104Z"
   },
   {
    "duration": 0,
    "start_time": "2023-10-11T11:59:37.105Z"
   },
   {
    "duration": 0,
    "start_time": "2023-10-11T11:59:37.106Z"
   },
   {
    "duration": 0,
    "start_time": "2023-10-11T11:59:37.107Z"
   },
   {
    "duration": 0,
    "start_time": "2023-10-11T11:59:37.109Z"
   },
   {
    "duration": 0,
    "start_time": "2023-10-11T11:59:37.110Z"
   },
   {
    "duration": 0,
    "start_time": "2023-10-11T11:59:37.111Z"
   },
   {
    "duration": 0,
    "start_time": "2023-10-11T11:59:37.112Z"
   },
   {
    "duration": 3467,
    "start_time": "2023-10-11T11:59:53.043Z"
   },
   {
    "duration": 2,
    "start_time": "2023-10-11T12:00:00.767Z"
   },
   {
    "duration": 3,
    "start_time": "2023-10-11T12:00:02.801Z"
   },
   {
    "duration": 866,
    "start_time": "2023-10-11T12:00:04.267Z"
   },
   {
    "duration": 11,
    "start_time": "2023-10-11T12:00:07.099Z"
   },
   {
    "duration": 3,
    "start_time": "2023-10-11T12:00:09.406Z"
   },
   {
    "duration": 309,
    "start_time": "2023-10-11T12:00:23.880Z"
   },
   {
    "duration": 1244,
    "start_time": "2023-10-11T12:00:34.827Z"
   },
   {
    "duration": 4,
    "start_time": "2023-10-11T12:01:03.235Z"
   },
   {
    "duration": 4,
    "start_time": "2023-10-11T12:01:08.420Z"
   },
   {
    "duration": 883,
    "start_time": "2023-10-11T12:01:10.029Z"
   },
   {
    "duration": 449,
    "start_time": "2023-10-11T12:01:51.153Z"
   },
   {
    "duration": 373,
    "start_time": "2023-10-11T12:01:53.024Z"
   },
   {
    "duration": 447,
    "start_time": "2023-10-11T12:02:03.340Z"
   },
   {
    "duration": 452,
    "start_time": "2023-10-11T12:02:05.293Z"
   },
   {
    "duration": 5,
    "start_time": "2023-10-11T12:02:36.258Z"
   },
   {
    "duration": 901,
    "start_time": "2023-10-11T12:02:38.269Z"
   },
   {
    "duration": 3,
    "start_time": "2023-10-11T12:03:21.517Z"
   },
   {
    "duration": 7,
    "start_time": "2023-10-11T12:03:24.423Z"
   },
   {
    "duration": 1445173,
    "start_time": "2023-10-11T12:03:25.838Z"
   },
   {
    "duration": 3817,
    "start_time": "2023-10-11T12:27:40.549Z"
   },
   {
    "duration": 2,
    "start_time": "2023-10-11T12:27:44.368Z"
   },
   {
    "duration": 26,
    "start_time": "2023-10-11T12:27:44.371Z"
   },
   {
    "duration": 871,
    "start_time": "2023-10-11T12:27:44.399Z"
   },
   {
    "duration": 10,
    "start_time": "2023-10-11T12:27:45.272Z"
   },
   {
    "duration": 37,
    "start_time": "2023-10-11T12:27:45.283Z"
   },
   {
    "duration": 2249647,
    "start_time": "2023-10-11T12:27:45.322Z"
   },
   {
    "duration": 0,
    "start_time": "2023-10-11T13:05:14.972Z"
   },
   {
    "duration": 0,
    "start_time": "2023-10-11T13:05:14.973Z"
   },
   {
    "duration": 0,
    "start_time": "2023-10-11T13:05:14.974Z"
   },
   {
    "duration": 0,
    "start_time": "2023-10-11T13:05:14.975Z"
   },
   {
    "duration": 0,
    "start_time": "2023-10-11T13:05:14.976Z"
   },
   {
    "duration": 0,
    "start_time": "2023-10-11T13:05:14.978Z"
   },
   {
    "duration": 0,
    "start_time": "2023-10-11T13:05:14.979Z"
   },
   {
    "duration": 0,
    "start_time": "2023-10-11T13:05:14.980Z"
   },
   {
    "duration": 0,
    "start_time": "2023-10-11T13:05:14.981Z"
   },
   {
    "duration": 0,
    "start_time": "2023-10-11T13:05:14.982Z"
   },
   {
    "duration": 0,
    "start_time": "2023-10-11T13:05:14.984Z"
   },
   {
    "duration": 0,
    "start_time": "2023-10-11T13:05:14.985Z"
   },
   {
    "duration": 0,
    "start_time": "2023-10-11T13:05:14.986Z"
   },
   {
    "duration": 3,
    "start_time": "2023-10-11T13:08:11.830Z"
   },
   {
    "duration": 503,
    "start_time": "2023-10-11T13:08:13.708Z"
   },
   {
    "duration": 3,
    "start_time": "2023-10-11T13:08:16.196Z"
   },
   {
    "duration": 4637,
    "start_time": "2023-10-11T13:08:29.371Z"
   },
   {
    "duration": 421,
    "start_time": "2023-10-11T13:08:49.771Z"
   },
   {
    "duration": 450,
    "start_time": "2023-10-11T13:09:25.673Z"
   },
   {
    "duration": 2,
    "start_time": "2023-10-11T13:09:34.340Z"
   },
   {
    "duration": 2407765,
    "start_time": "2023-10-11T13:09:36.931Z"
   },
   {
    "duration": 33,
    "start_time": "2023-10-11T13:55:57.848Z"
   },
   {
    "duration": 4,
    "start_time": "2023-10-11T13:56:07.827Z"
   },
   {
    "duration": 18,
    "start_time": "2023-10-11T13:56:17.781Z"
   },
   {
    "duration": 26,
    "start_time": "2023-10-11T13:56:44.023Z"
   },
   {
    "duration": 3,
    "start_time": "2023-10-11T13:57:50.170Z"
   },
   {
    "duration": 17,
    "start_time": "2023-10-11T13:58:00.923Z"
   },
   {
    "duration": 17,
    "start_time": "2023-10-11T13:58:02.614Z"
   },
   {
    "duration": 6,
    "start_time": "2023-10-11T13:58:10.763Z"
   },
   {
    "duration": 17,
    "start_time": "2023-10-11T13:58:16.570Z"
   },
   {
    "duration": 249,
    "start_time": "2023-10-11T13:58:34.128Z"
   },
   {
    "duration": 99,
    "start_time": "2023-10-11T13:58:39.439Z"
   },
   {
    "duration": 5998,
    "start_time": "2023-10-11T13:58:40.794Z"
   },
   {
    "duration": 1791,
    "start_time": "2023-10-11T13:58:48.315Z"
   },
   {
    "duration": 3,
    "start_time": "2023-10-11T13:58:51.470Z"
   },
   {
    "duration": 20,
    "start_time": "2023-10-11T13:58:54.656Z"
   },
   {
    "duration": 6,
    "start_time": "2023-10-11T13:59:07.986Z"
   },
   {
    "duration": 126057,
    "start_time": "2023-10-11T13:59:10.792Z"
   },
   {
    "duration": 4,
    "start_time": "2023-10-11T14:01:26.705Z"
   },
   {
    "duration": 136683,
    "start_time": "2023-10-11T14:01:37.967Z"
   },
   {
    "duration": 4,
    "start_time": "2023-10-11T14:03:57.577Z"
   },
   {
    "duration": 12,
    "start_time": "2023-10-11T14:05:46.363Z"
   },
   {
    "duration": 147307,
    "start_time": "2023-10-11T14:06:07.247Z"
   },
   {
    "duration": 3,
    "start_time": "2023-10-11T14:08:38.755Z"
   },
   {
    "duration": 2,
    "start_time": "2023-10-11T14:08:52.788Z"
   },
   {
    "duration": 145241,
    "start_time": "2023-10-11T14:09:00.702Z"
   },
   {
    "duration": 5,
    "start_time": "2023-10-11T14:11:48.029Z"
   },
   {
    "duration": 140868,
    "start_time": "2023-10-11T14:12:00.201Z"
   },
   {
    "duration": 4,
    "start_time": "2023-10-11T14:14:52.357Z"
   },
   {
    "duration": 137905,
    "start_time": "2023-10-11T14:15:07.443Z"
   },
   {
    "duration": 4,
    "start_time": "2023-10-11T14:18:02.285Z"
   },
   {
    "duration": 134944,
    "start_time": "2023-10-11T14:18:13.012Z"
   },
   {
    "duration": 4,
    "start_time": "2023-10-11T14:20:49.394Z"
   },
   {
    "duration": 139200,
    "start_time": "2023-10-11T14:21:00.563Z"
   },
   {
    "duration": 3,
    "start_time": "2023-10-11T14:24:13.789Z"
   },
   {
    "duration": 4126,
    "start_time": "2023-10-11T15:19:28.992Z"
   },
   {
    "duration": 3,
    "start_time": "2023-10-11T15:19:33.120Z"
   },
   {
    "duration": 18,
    "start_time": "2023-10-11T15:19:33.125Z"
   },
   {
    "duration": 926,
    "start_time": "2023-10-11T15:19:33.145Z"
   },
   {
    "duration": 14,
    "start_time": "2023-10-11T15:19:34.074Z"
   },
   {
    "duration": 8,
    "start_time": "2023-10-11T15:19:34.090Z"
   },
   {
    "duration": 735,
    "start_time": "2023-10-11T15:19:34.100Z"
   },
   {
    "duration": 8,
    "start_time": "2023-10-11T15:19:34.836Z"
   },
   {
    "duration": 4916,
    "start_time": "2023-10-11T15:19:34.846Z"
   },
   {
    "duration": 2481168,
    "start_time": "2023-10-11T15:19:39.764Z"
   },
   {
    "duration": 166,
    "start_time": "2023-10-11T16:01:00.934Z"
   },
   {
    "duration": 89,
    "start_time": "2023-10-11T16:01:01.102Z"
   },
   {
    "duration": 5377,
    "start_time": "2023-10-11T16:01:01.193Z"
   },
   {
    "duration": 1658,
    "start_time": "2023-10-11T16:01:06.572Z"
   },
   {
    "duration": 3,
    "start_time": "2023-10-11T16:01:08.232Z"
   },
   {
    "duration": 139738,
    "start_time": "2023-10-11T16:01:08.236Z"
   },
   {
    "duration": 4,
    "start_time": "2023-10-11T16:03:28.054Z"
   },
   {
    "duration": 652221,
    "start_time": "2023-10-11T16:03:28.060Z"
   },
   {
    "duration": 3,
    "start_time": "2023-10-11T16:14:20.283Z"
   },
   {
    "duration": 17,
    "start_time": "2023-10-11T16:14:20.288Z"
   },
   {
    "duration": 101790,
    "start_time": "2023-10-11T16:14:20.307Z"
   },
   {
    "duration": 4,
    "start_time": "2023-10-11T16:16:02.099Z"
   },
   {
    "duration": 60,
    "start_time": "2023-10-11T16:16:02.105Z"
   }
  ],
  "kernelspec": {
   "display_name": "Python 3 (ipykernel)",
   "language": "python",
   "name": "python3"
  },
  "language_info": {
   "codemirror_mode": {
    "name": "ipython",
    "version": 3
   },
   "file_extension": ".py",
   "mimetype": "text/x-python",
   "name": "python",
   "nbconvert_exporter": "python",
   "pygments_lexer": "ipython3",
   "version": "3.10.9"
  },
  "toc": {
   "base_numbering": 1,
   "nav_menu": {},
   "number_sections": true,
   "sideBar": true,
   "skip_h1_title": true,
   "title_cell": "Содержание",
   "title_sidebar": "Contents",
   "toc_cell": true,
   "toc_position": {
    "height": "calc(100% - 180px)",
    "left": "10px",
    "top": "150px",
    "width": "302.391px"
   },
   "toc_section_display": true,
   "toc_window_display": true
  }
 },
 "nbformat": 4,
 "nbformat_minor": 2
}
