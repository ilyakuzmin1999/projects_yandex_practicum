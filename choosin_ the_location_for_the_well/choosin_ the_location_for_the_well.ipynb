{
 "cells": [
  {
   "cell_type": "markdown",
   "metadata": {},
   "source": [
    "# Выбор локации для скважины"
   ]
  },
  {
   "cell_type": "markdown",
   "metadata": {},
   "source": [
    "Допустим, вы работаете в добывающей компании «ГлавРосГосНефть». Нужно решить, где бурить новую скважину.\n",
    "\n",
    "Вам предоставлены пробы нефти в трёх регионах: в каждом 10 000 месторождений, где измерили качество нефти и объём её запасов. Постройте модель машинного обучения, которая поможет определить регион, где добыча принесёт наибольшую прибыль. Проанализируйте возможную прибыль и риски техникой *Bootstrap.*\n",
    "\n",
    "Шаги для выбора локации:\n",
    "\n",
    "- В избранном регионе ищут месторождения, для каждого определяют значения признаков;\n",
    "- Строят модель и оценивают объём запасов;\n",
    "- Выбирают месторождения с самым высокими оценками значений. Количество месторождений зависит от бюджета компании и стоимости разработки одной скважины;\n",
    "- Прибыль равна суммарной прибыли отобранных месторождений."
   ]
  },
  {
   "cell_type": "markdown",
   "metadata": {},
   "source": [
    "## Загрузка и подготовка данных"
   ]
  },
  {
   "cell_type": "code",
   "execution_count": 1,
   "metadata": {},
   "outputs": [],
   "source": [
    "import pandas as pd\n",
    "import matplotlib.pyplot as plt\n",
    "import seaborn as sns\n",
    "import numpy as np\n",
    "from sklearn.linear_model import LinearRegression\n",
    "from sklearn.model_selection import train_test_split\n",
    "from sklearn.metrics import mean_squared_error\n",
    "\n",
    "import warnings"
   ]
  },
  {
   "cell_type": "code",
   "execution_count": 2,
   "metadata": {},
   "outputs": [],
   "source": [
    "POINTS = 500\n",
    "BEST_FOR_ML = 200\n",
    "BUDGET = 10e9\n",
    "BARREL_PRICE = 450e3\n",
    "THRESHOLD = 0.025"
   ]
  },
  {
   "cell_type": "code",
   "execution_count": 3,
   "metadata": {},
   "outputs": [],
   "source": [
    "warnings.filterwarnings(\"ignore\")"
   ]
  },
  {
   "cell_type": "markdown",
   "metadata": {},
   "source": [
    "### Загрузка датасетов и проверка на пропуски"
   ]
  },
  {
   "cell_type": "markdown",
   "metadata": {},
   "source": [
    "#### Первый регион"
   ]
  },
  {
   "cell_type": "code",
   "execution_count": 4,
   "metadata": {},
   "outputs": [
    {
     "data": {
      "text/html": [
       "<div>\n",
       "<style scoped>\n",
       "    .dataframe tbody tr th:only-of-type {\n",
       "        vertical-align: middle;\n",
       "    }\n",
       "\n",
       "    .dataframe tbody tr th {\n",
       "        vertical-align: top;\n",
       "    }\n",
       "\n",
       "    .dataframe thead th {\n",
       "        text-align: right;\n",
       "    }\n",
       "</style>\n",
       "<table border=\"1\" class=\"dataframe\">\n",
       "  <thead>\n",
       "    <tr style=\"text-align: right;\">\n",
       "      <th></th>\n",
       "      <th>id</th>\n",
       "      <th>f0</th>\n",
       "      <th>f1</th>\n",
       "      <th>f2</th>\n",
       "      <th>product</th>\n",
       "    </tr>\n",
       "  </thead>\n",
       "  <tbody>\n",
       "    <tr>\n",
       "      <th>0</th>\n",
       "      <td>txEyH</td>\n",
       "      <td>0.705745</td>\n",
       "      <td>-0.497823</td>\n",
       "      <td>1.221170</td>\n",
       "      <td>105.280062</td>\n",
       "    </tr>\n",
       "    <tr>\n",
       "      <th>1</th>\n",
       "      <td>2acmU</td>\n",
       "      <td>1.334711</td>\n",
       "      <td>-0.340164</td>\n",
       "      <td>4.365080</td>\n",
       "      <td>73.037750</td>\n",
       "    </tr>\n",
       "    <tr>\n",
       "      <th>2</th>\n",
       "      <td>409Wp</td>\n",
       "      <td>1.022732</td>\n",
       "      <td>0.151990</td>\n",
       "      <td>1.419926</td>\n",
       "      <td>85.265647</td>\n",
       "    </tr>\n",
       "    <tr>\n",
       "      <th>3</th>\n",
       "      <td>iJLyR</td>\n",
       "      <td>-0.032172</td>\n",
       "      <td>0.139033</td>\n",
       "      <td>2.978566</td>\n",
       "      <td>168.620776</td>\n",
       "    </tr>\n",
       "    <tr>\n",
       "      <th>4</th>\n",
       "      <td>Xdl7t</td>\n",
       "      <td>1.988431</td>\n",
       "      <td>0.155413</td>\n",
       "      <td>4.751769</td>\n",
       "      <td>154.036647</td>\n",
       "    </tr>\n",
       "  </tbody>\n",
       "</table>\n",
       "</div>"
      ],
      "text/plain": [
       "      id        f0        f1        f2     product\n",
       "0  txEyH  0.705745 -0.497823  1.221170  105.280062\n",
       "1  2acmU  1.334711 -0.340164  4.365080   73.037750\n",
       "2  409Wp  1.022732  0.151990  1.419926   85.265647\n",
       "3  iJLyR -0.032172  0.139033  2.978566  168.620776\n",
       "4  Xdl7t  1.988431  0.155413  4.751769  154.036647"
      ]
     },
     "execution_count": 4,
     "metadata": {},
     "output_type": "execute_result"
    }
   ],
   "source": [
    "df_1 = pd.read_csv('/datasets/geo_data_0.csv')\n",
    "df_1.head()"
   ]
  },
  {
   "cell_type": "code",
   "execution_count": 5,
   "metadata": {},
   "outputs": [
    {
     "name": "stdout",
     "output_type": "stream",
     "text": [
      "<class 'pandas.core.frame.DataFrame'>\n",
      "RangeIndex: 100000 entries, 0 to 99999\n",
      "Data columns (total 5 columns):\n",
      " #   Column   Non-Null Count   Dtype  \n",
      "---  ------   --------------   -----  \n",
      " 0   id       100000 non-null  object \n",
      " 1   f0       100000 non-null  float64\n",
      " 2   f1       100000 non-null  float64\n",
      " 3   f2       100000 non-null  float64\n",
      " 4   product  100000 non-null  float64\n",
      "dtypes: float64(4), object(1)\n",
      "memory usage: 3.8+ MB\n"
     ]
    }
   ],
   "source": [
    "df_1.info()"
   ]
  },
  {
   "cell_type": "code",
   "execution_count": 6,
   "metadata": {},
   "outputs": [
    {
     "data": {
      "text/plain": [
       "id         0\n",
       "f0         0\n",
       "f1         0\n",
       "f2         0\n",
       "product    0\n",
       "dtype: int64"
      ]
     },
     "execution_count": 6,
     "metadata": {},
     "output_type": "execute_result"
    }
   ],
   "source": [
    "df_1.isna().sum()"
   ]
  },
  {
   "cell_type": "code",
   "execution_count": 7,
   "metadata": {},
   "outputs": [
    {
     "data": {
      "text/plain": [
       "0"
      ]
     },
     "execution_count": 7,
     "metadata": {},
     "output_type": "execute_result"
    }
   ],
   "source": [
    "df_1.duplicated().sum()"
   ]
  },
  {
   "cell_type": "code",
   "execution_count": 8,
   "metadata": {},
   "outputs": [
    {
     "data": {
      "text/html": [
       "<div>\n",
       "<style scoped>\n",
       "    .dataframe tbody tr th:only-of-type {\n",
       "        vertical-align: middle;\n",
       "    }\n",
       "\n",
       "    .dataframe tbody tr th {\n",
       "        vertical-align: top;\n",
       "    }\n",
       "\n",
       "    .dataframe thead th {\n",
       "        text-align: right;\n",
       "    }\n",
       "</style>\n",
       "<table border=\"1\" class=\"dataframe\">\n",
       "  <thead>\n",
       "    <tr style=\"text-align: right;\">\n",
       "      <th></th>\n",
       "      <th>id</th>\n",
       "    </tr>\n",
       "  </thead>\n",
       "  <tbody>\n",
       "    <tr>\n",
       "      <th>bxg6G</th>\n",
       "      <td>2</td>\n",
       "    </tr>\n",
       "    <tr>\n",
       "      <th>HZww2</th>\n",
       "      <td>2</td>\n",
       "    </tr>\n",
       "    <tr>\n",
       "      <th>fiKDv</th>\n",
       "      <td>2</td>\n",
       "    </tr>\n",
       "    <tr>\n",
       "      <th>bsk9y</th>\n",
       "      <td>2</td>\n",
       "    </tr>\n",
       "    <tr>\n",
       "      <th>QcMuo</th>\n",
       "      <td>2</td>\n",
       "    </tr>\n",
       "    <tr>\n",
       "      <th>AGS9W</th>\n",
       "      <td>2</td>\n",
       "    </tr>\n",
       "    <tr>\n",
       "      <th>A5aEY</th>\n",
       "      <td>2</td>\n",
       "    </tr>\n",
       "    <tr>\n",
       "      <th>74z30</th>\n",
       "      <td>2</td>\n",
       "    </tr>\n",
       "    <tr>\n",
       "      <th>Tdehs</th>\n",
       "      <td>2</td>\n",
       "    </tr>\n",
       "    <tr>\n",
       "      <th>TtcGQ</th>\n",
       "      <td>2</td>\n",
       "    </tr>\n",
       "    <tr>\n",
       "      <th>yc7So</th>\n",
       "      <td>1</td>\n",
       "    </tr>\n",
       "    <tr>\n",
       "      <th>YqmAD</th>\n",
       "      <td>1</td>\n",
       "    </tr>\n",
       "    <tr>\n",
       "      <th>BGsDy</th>\n",
       "      <td>1</td>\n",
       "    </tr>\n",
       "    <tr>\n",
       "      <th>oKnQ7</th>\n",
       "      <td>1</td>\n",
       "    </tr>\n",
       "    <tr>\n",
       "      <th>G3JTC</th>\n",
       "      <td>1</td>\n",
       "    </tr>\n",
       "  </tbody>\n",
       "</table>\n",
       "</div>"
      ],
      "text/plain": [
       "       id\n",
       "bxg6G   2\n",
       "HZww2   2\n",
       "fiKDv   2\n",
       "bsk9y   2\n",
       "QcMuo   2\n",
       "AGS9W   2\n",
       "A5aEY   2\n",
       "74z30   2\n",
       "Tdehs   2\n",
       "TtcGQ   2\n",
       "yc7So   1\n",
       "YqmAD   1\n",
       "BGsDy   1\n",
       "oKnQ7   1\n",
       "G3JTC   1"
      ]
     },
     "execution_count": 8,
     "metadata": {},
     "output_type": "execute_result"
    }
   ],
   "source": [
    "df_1.id.value_counts().to_frame().head(15)"
   ]
  },
  {
   "cell_type": "code",
   "execution_count": 9,
   "metadata": {},
   "outputs": [],
   "source": [
    "df_1.drop(df_1[df_1.duplicated(subset='id')].index, inplace=True)"
   ]
  },
  {
   "cell_type": "code",
   "execution_count": 10,
   "metadata": {},
   "outputs": [
    {
     "data": {
      "text/html": [
       "<div>\n",
       "<style scoped>\n",
       "    .dataframe tbody tr th:only-of-type {\n",
       "        vertical-align: middle;\n",
       "    }\n",
       "\n",
       "    .dataframe tbody tr th {\n",
       "        vertical-align: top;\n",
       "    }\n",
       "\n",
       "    .dataframe thead th {\n",
       "        text-align: right;\n",
       "    }\n",
       "</style>\n",
       "<table border=\"1\" class=\"dataframe\">\n",
       "  <thead>\n",
       "    <tr style=\"text-align: right;\">\n",
       "      <th></th>\n",
       "      <th>id</th>\n",
       "    </tr>\n",
       "  </thead>\n",
       "  <tbody>\n",
       "    <tr>\n",
       "      <th>btzXu</th>\n",
       "      <td>1</td>\n",
       "    </tr>\n",
       "    <tr>\n",
       "      <th>gzBog</th>\n",
       "      <td>1</td>\n",
       "    </tr>\n",
       "    <tr>\n",
       "      <th>xCStY</th>\n",
       "      <td>1</td>\n",
       "    </tr>\n",
       "    <tr>\n",
       "      <th>Ei4qu</th>\n",
       "      <td>1</td>\n",
       "    </tr>\n",
       "    <tr>\n",
       "      <th>6ruUD</th>\n",
       "      <td>1</td>\n",
       "    </tr>\n",
       "    <tr>\n",
       "      <th>G3JTC</th>\n",
       "      <td>1</td>\n",
       "    </tr>\n",
       "    <tr>\n",
       "      <th>YqmAD</th>\n",
       "      <td>1</td>\n",
       "    </tr>\n",
       "    <tr>\n",
       "      <th>yc7So</th>\n",
       "      <td>1</td>\n",
       "    </tr>\n",
       "    <tr>\n",
       "      <th>BGsDy</th>\n",
       "      <td>1</td>\n",
       "    </tr>\n",
       "    <tr>\n",
       "      <th>oKnQ7</th>\n",
       "      <td>1</td>\n",
       "    </tr>\n",
       "    <tr>\n",
       "      <th>qB35J</th>\n",
       "      <td>1</td>\n",
       "    </tr>\n",
       "    <tr>\n",
       "      <th>r8e2e</th>\n",
       "      <td>1</td>\n",
       "    </tr>\n",
       "    <tr>\n",
       "      <th>SSFex</th>\n",
       "      <td>1</td>\n",
       "    </tr>\n",
       "    <tr>\n",
       "      <th>VHheM</th>\n",
       "      <td>1</td>\n",
       "    </tr>\n",
       "    <tr>\n",
       "      <th>5mMKY</th>\n",
       "      <td>1</td>\n",
       "    </tr>\n",
       "  </tbody>\n",
       "</table>\n",
       "</div>"
      ],
      "text/plain": [
       "       id\n",
       "btzXu   1\n",
       "gzBog   1\n",
       "xCStY   1\n",
       "Ei4qu   1\n",
       "6ruUD   1\n",
       "G3JTC   1\n",
       "YqmAD   1\n",
       "yc7So   1\n",
       "BGsDy   1\n",
       "oKnQ7   1\n",
       "qB35J   1\n",
       "r8e2e   1\n",
       "SSFex   1\n",
       "VHheM   1\n",
       "5mMKY   1"
      ]
     },
     "execution_count": 10,
     "metadata": {},
     "output_type": "execute_result"
    }
   ],
   "source": [
    "df_1.id.value_counts().to_frame().head(15)"
   ]
  },
  {
   "cell_type": "markdown",
   "metadata": {},
   "source": [
    "#### Второй регион"
   ]
  },
  {
   "cell_type": "code",
   "execution_count": 11,
   "metadata": {},
   "outputs": [
    {
     "data": {
      "text/html": [
       "<div>\n",
       "<style scoped>\n",
       "    .dataframe tbody tr th:only-of-type {\n",
       "        vertical-align: middle;\n",
       "    }\n",
       "\n",
       "    .dataframe tbody tr th {\n",
       "        vertical-align: top;\n",
       "    }\n",
       "\n",
       "    .dataframe thead th {\n",
       "        text-align: right;\n",
       "    }\n",
       "</style>\n",
       "<table border=\"1\" class=\"dataframe\">\n",
       "  <thead>\n",
       "    <tr style=\"text-align: right;\">\n",
       "      <th></th>\n",
       "      <th>id</th>\n",
       "      <th>f0</th>\n",
       "      <th>f1</th>\n",
       "      <th>f2</th>\n",
       "      <th>product</th>\n",
       "    </tr>\n",
       "  </thead>\n",
       "  <tbody>\n",
       "    <tr>\n",
       "      <th>0</th>\n",
       "      <td>kBEdx</td>\n",
       "      <td>-15.001348</td>\n",
       "      <td>-8.276000</td>\n",
       "      <td>-0.005876</td>\n",
       "      <td>3.179103</td>\n",
       "    </tr>\n",
       "    <tr>\n",
       "      <th>1</th>\n",
       "      <td>62mP7</td>\n",
       "      <td>14.272088</td>\n",
       "      <td>-3.475083</td>\n",
       "      <td>0.999183</td>\n",
       "      <td>26.953261</td>\n",
       "    </tr>\n",
       "    <tr>\n",
       "      <th>2</th>\n",
       "      <td>vyE1P</td>\n",
       "      <td>6.263187</td>\n",
       "      <td>-5.948386</td>\n",
       "      <td>5.001160</td>\n",
       "      <td>134.766305</td>\n",
       "    </tr>\n",
       "    <tr>\n",
       "      <th>3</th>\n",
       "      <td>KcrkZ</td>\n",
       "      <td>-13.081196</td>\n",
       "      <td>-11.506057</td>\n",
       "      <td>4.999415</td>\n",
       "      <td>137.945408</td>\n",
       "    </tr>\n",
       "    <tr>\n",
       "      <th>4</th>\n",
       "      <td>AHL4O</td>\n",
       "      <td>12.702195</td>\n",
       "      <td>-8.147433</td>\n",
       "      <td>5.004363</td>\n",
       "      <td>134.766305</td>\n",
       "    </tr>\n",
       "  </tbody>\n",
       "</table>\n",
       "</div>"
      ],
      "text/plain": [
       "      id         f0         f1        f2     product\n",
       "0  kBEdx -15.001348  -8.276000 -0.005876    3.179103\n",
       "1  62mP7  14.272088  -3.475083  0.999183   26.953261\n",
       "2  vyE1P   6.263187  -5.948386  5.001160  134.766305\n",
       "3  KcrkZ -13.081196 -11.506057  4.999415  137.945408\n",
       "4  AHL4O  12.702195  -8.147433  5.004363  134.766305"
      ]
     },
     "execution_count": 11,
     "metadata": {},
     "output_type": "execute_result"
    }
   ],
   "source": [
    "df_2 = pd.read_csv('/datasets/geo_data_1.csv')\n",
    "df_2.head()"
   ]
  },
  {
   "cell_type": "code",
   "execution_count": 12,
   "metadata": {},
   "outputs": [
    {
     "name": "stdout",
     "output_type": "stream",
     "text": [
      "<class 'pandas.core.frame.DataFrame'>\n",
      "RangeIndex: 100000 entries, 0 to 99999\n",
      "Data columns (total 5 columns):\n",
      " #   Column   Non-Null Count   Dtype  \n",
      "---  ------   --------------   -----  \n",
      " 0   id       100000 non-null  object \n",
      " 1   f0       100000 non-null  float64\n",
      " 2   f1       100000 non-null  float64\n",
      " 3   f2       100000 non-null  float64\n",
      " 4   product  100000 non-null  float64\n",
      "dtypes: float64(4), object(1)\n",
      "memory usage: 3.8+ MB\n"
     ]
    }
   ],
   "source": [
    "df_2.info()"
   ]
  },
  {
   "cell_type": "code",
   "execution_count": 13,
   "metadata": {},
   "outputs": [
    {
     "data": {
      "text/plain": [
       "id         0\n",
       "f0         0\n",
       "f1         0\n",
       "f2         0\n",
       "product    0\n",
       "dtype: int64"
      ]
     },
     "execution_count": 13,
     "metadata": {},
     "output_type": "execute_result"
    }
   ],
   "source": [
    "df_2.isna().sum()"
   ]
  },
  {
   "cell_type": "code",
   "execution_count": 14,
   "metadata": {},
   "outputs": [
    {
     "data": {
      "text/plain": [
       "0"
      ]
     },
     "execution_count": 14,
     "metadata": {},
     "output_type": "execute_result"
    }
   ],
   "source": [
    "df_2.duplicated().sum()"
   ]
  },
  {
   "cell_type": "code",
   "execution_count": 15,
   "metadata": {},
   "outputs": [
    {
     "data": {
      "text/html": [
       "<div>\n",
       "<style scoped>\n",
       "    .dataframe tbody tr th:only-of-type {\n",
       "        vertical-align: middle;\n",
       "    }\n",
       "\n",
       "    .dataframe tbody tr th {\n",
       "        vertical-align: top;\n",
       "    }\n",
       "\n",
       "    .dataframe thead th {\n",
       "        text-align: right;\n",
       "    }\n",
       "</style>\n",
       "<table border=\"1\" class=\"dataframe\">\n",
       "  <thead>\n",
       "    <tr style=\"text-align: right;\">\n",
       "      <th></th>\n",
       "      <th>id</th>\n",
       "    </tr>\n",
       "  </thead>\n",
       "  <tbody>\n",
       "    <tr>\n",
       "      <th>LHZR0</th>\n",
       "      <td>2</td>\n",
       "    </tr>\n",
       "    <tr>\n",
       "      <th>5ltQ6</th>\n",
       "      <td>2</td>\n",
       "    </tr>\n",
       "    <tr>\n",
       "      <th>bfPNe</th>\n",
       "      <td>2</td>\n",
       "    </tr>\n",
       "    <tr>\n",
       "      <th>wt4Uk</th>\n",
       "      <td>2</td>\n",
       "    </tr>\n",
       "    <tr>\n",
       "      <th>HFhmk</th>\n",
       "      <td>1</td>\n",
       "    </tr>\n",
       "    <tr>\n",
       "      <th>v501o</th>\n",
       "      <td>1</td>\n",
       "    </tr>\n",
       "    <tr>\n",
       "      <th>6e6mX</th>\n",
       "      <td>1</td>\n",
       "    </tr>\n",
       "    <tr>\n",
       "      <th>4G2PU</th>\n",
       "      <td>1</td>\n",
       "    </tr>\n",
       "    <tr>\n",
       "      <th>GNYRK</th>\n",
       "      <td>1</td>\n",
       "    </tr>\n",
       "    <tr>\n",
       "      <th>eiu5z</th>\n",
       "      <td>1</td>\n",
       "    </tr>\n",
       "    <tr>\n",
       "      <th>9h59w</th>\n",
       "      <td>1</td>\n",
       "    </tr>\n",
       "    <tr>\n",
       "      <th>xYIep</th>\n",
       "      <td>1</td>\n",
       "    </tr>\n",
       "    <tr>\n",
       "      <th>wwnKU</th>\n",
       "      <td>1</td>\n",
       "    </tr>\n",
       "    <tr>\n",
       "      <th>WfxIk</th>\n",
       "      <td>1</td>\n",
       "    </tr>\n",
       "    <tr>\n",
       "      <th>5ItKF</th>\n",
       "      <td>1</td>\n",
       "    </tr>\n",
       "  </tbody>\n",
       "</table>\n",
       "</div>"
      ],
      "text/plain": [
       "       id\n",
       "LHZR0   2\n",
       "5ltQ6   2\n",
       "bfPNe   2\n",
       "wt4Uk   2\n",
       "HFhmk   1\n",
       "v501o   1\n",
       "6e6mX   1\n",
       "4G2PU   1\n",
       "GNYRK   1\n",
       "eiu5z   1\n",
       "9h59w   1\n",
       "xYIep   1\n",
       "wwnKU   1\n",
       "WfxIk   1\n",
       "5ItKF   1"
      ]
     },
     "execution_count": 15,
     "metadata": {},
     "output_type": "execute_result"
    }
   ],
   "source": [
    "df_2.id.value_counts().to_frame().head(15)"
   ]
  },
  {
   "cell_type": "code",
   "execution_count": 16,
   "metadata": {},
   "outputs": [],
   "source": [
    "df_2.drop(df_2[df_2.duplicated(subset='id')].index, inplace=True)"
   ]
  },
  {
   "cell_type": "code",
   "execution_count": 17,
   "metadata": {},
   "outputs": [
    {
     "data": {
      "text/html": [
       "<div>\n",
       "<style scoped>\n",
       "    .dataframe tbody tr th:only-of-type {\n",
       "        vertical-align: middle;\n",
       "    }\n",
       "\n",
       "    .dataframe tbody tr th {\n",
       "        vertical-align: top;\n",
       "    }\n",
       "\n",
       "    .dataframe thead th {\n",
       "        text-align: right;\n",
       "    }\n",
       "</style>\n",
       "<table border=\"1\" class=\"dataframe\">\n",
       "  <thead>\n",
       "    <tr style=\"text-align: right;\">\n",
       "      <th></th>\n",
       "      <th>id</th>\n",
       "    </tr>\n",
       "  </thead>\n",
       "  <tbody>\n",
       "    <tr>\n",
       "      <th>HFhmk</th>\n",
       "      <td>1</td>\n",
       "    </tr>\n",
       "    <tr>\n",
       "      <th>yuo5f</th>\n",
       "      <td>1</td>\n",
       "    </tr>\n",
       "    <tr>\n",
       "      <th>d2Crc</th>\n",
       "      <td>1</td>\n",
       "    </tr>\n",
       "    <tr>\n",
       "      <th>6e6mX</th>\n",
       "      <td>1</td>\n",
       "    </tr>\n",
       "    <tr>\n",
       "      <th>4G2PU</th>\n",
       "      <td>1</td>\n",
       "    </tr>\n",
       "  </tbody>\n",
       "</table>\n",
       "</div>"
      ],
      "text/plain": [
       "       id\n",
       "HFhmk   1\n",
       "yuo5f   1\n",
       "d2Crc   1\n",
       "6e6mX   1\n",
       "4G2PU   1"
      ]
     },
     "execution_count": 17,
     "metadata": {},
     "output_type": "execute_result"
    }
   ],
   "source": [
    "df_2.id.value_counts().to_frame().head()"
   ]
  },
  {
   "cell_type": "markdown",
   "metadata": {},
   "source": [
    "#### Третий регион"
   ]
  },
  {
   "cell_type": "code",
   "execution_count": 18,
   "metadata": {},
   "outputs": [
    {
     "data": {
      "text/html": [
       "<div>\n",
       "<style scoped>\n",
       "    .dataframe tbody tr th:only-of-type {\n",
       "        vertical-align: middle;\n",
       "    }\n",
       "\n",
       "    .dataframe tbody tr th {\n",
       "        vertical-align: top;\n",
       "    }\n",
       "\n",
       "    .dataframe thead th {\n",
       "        text-align: right;\n",
       "    }\n",
       "</style>\n",
       "<table border=\"1\" class=\"dataframe\">\n",
       "  <thead>\n",
       "    <tr style=\"text-align: right;\">\n",
       "      <th></th>\n",
       "      <th>id</th>\n",
       "      <th>f0</th>\n",
       "      <th>f1</th>\n",
       "      <th>f2</th>\n",
       "      <th>product</th>\n",
       "    </tr>\n",
       "  </thead>\n",
       "  <tbody>\n",
       "    <tr>\n",
       "      <th>0</th>\n",
       "      <td>fwXo0</td>\n",
       "      <td>-1.146987</td>\n",
       "      <td>0.963328</td>\n",
       "      <td>-0.828965</td>\n",
       "      <td>27.758673</td>\n",
       "    </tr>\n",
       "    <tr>\n",
       "      <th>1</th>\n",
       "      <td>WJtFt</td>\n",
       "      <td>0.262778</td>\n",
       "      <td>0.269839</td>\n",
       "      <td>-2.530187</td>\n",
       "      <td>56.069697</td>\n",
       "    </tr>\n",
       "    <tr>\n",
       "      <th>2</th>\n",
       "      <td>ovLUW</td>\n",
       "      <td>0.194587</td>\n",
       "      <td>0.289035</td>\n",
       "      <td>-5.586433</td>\n",
       "      <td>62.871910</td>\n",
       "    </tr>\n",
       "    <tr>\n",
       "      <th>3</th>\n",
       "      <td>q6cA6</td>\n",
       "      <td>2.236060</td>\n",
       "      <td>-0.553760</td>\n",
       "      <td>0.930038</td>\n",
       "      <td>114.572842</td>\n",
       "    </tr>\n",
       "    <tr>\n",
       "      <th>4</th>\n",
       "      <td>WPMUX</td>\n",
       "      <td>-0.515993</td>\n",
       "      <td>1.716266</td>\n",
       "      <td>5.899011</td>\n",
       "      <td>149.600746</td>\n",
       "    </tr>\n",
       "  </tbody>\n",
       "</table>\n",
       "</div>"
      ],
      "text/plain": [
       "      id        f0        f1        f2     product\n",
       "0  fwXo0 -1.146987  0.963328 -0.828965   27.758673\n",
       "1  WJtFt  0.262778  0.269839 -2.530187   56.069697\n",
       "2  ovLUW  0.194587  0.289035 -5.586433   62.871910\n",
       "3  q6cA6  2.236060 -0.553760  0.930038  114.572842\n",
       "4  WPMUX -0.515993  1.716266  5.899011  149.600746"
      ]
     },
     "execution_count": 18,
     "metadata": {},
     "output_type": "execute_result"
    }
   ],
   "source": [
    "df_3 = pd.read_csv('/datasets/geo_data_2.csv')\n",
    "df_3.head()"
   ]
  },
  {
   "cell_type": "code",
   "execution_count": 19,
   "metadata": {},
   "outputs": [
    {
     "name": "stdout",
     "output_type": "stream",
     "text": [
      "<class 'pandas.core.frame.DataFrame'>\n",
      "RangeIndex: 100000 entries, 0 to 99999\n",
      "Data columns (total 5 columns):\n",
      " #   Column   Non-Null Count   Dtype  \n",
      "---  ------   --------------   -----  \n",
      " 0   id       100000 non-null  object \n",
      " 1   f0       100000 non-null  float64\n",
      " 2   f1       100000 non-null  float64\n",
      " 3   f2       100000 non-null  float64\n",
      " 4   product  100000 non-null  float64\n",
      "dtypes: float64(4), object(1)\n",
      "memory usage: 3.8+ MB\n"
     ]
    }
   ],
   "source": [
    "df_3.info()"
   ]
  },
  {
   "cell_type": "code",
   "execution_count": 20,
   "metadata": {},
   "outputs": [
    {
     "data": {
      "text/plain": [
       "id         0\n",
       "f0         0\n",
       "f1         0\n",
       "f2         0\n",
       "product    0\n",
       "dtype: int64"
      ]
     },
     "execution_count": 20,
     "metadata": {},
     "output_type": "execute_result"
    }
   ],
   "source": [
    "df_3.isna().sum()"
   ]
  },
  {
   "cell_type": "code",
   "execution_count": 21,
   "metadata": {},
   "outputs": [
    {
     "data": {
      "text/plain": [
       "0"
      ]
     },
     "execution_count": 21,
     "metadata": {},
     "output_type": "execute_result"
    }
   ],
   "source": [
    "df_3.duplicated().sum()"
   ]
  },
  {
   "cell_type": "code",
   "execution_count": 22,
   "metadata": {},
   "outputs": [
    {
     "data": {
      "text/html": [
       "<div>\n",
       "<style scoped>\n",
       "    .dataframe tbody tr th:only-of-type {\n",
       "        vertical-align: middle;\n",
       "    }\n",
       "\n",
       "    .dataframe tbody tr th {\n",
       "        vertical-align: top;\n",
       "    }\n",
       "\n",
       "    .dataframe thead th {\n",
       "        text-align: right;\n",
       "    }\n",
       "</style>\n",
       "<table border=\"1\" class=\"dataframe\">\n",
       "  <thead>\n",
       "    <tr style=\"text-align: right;\">\n",
       "      <th></th>\n",
       "      <th>id</th>\n",
       "    </tr>\n",
       "  </thead>\n",
       "  <tbody>\n",
       "    <tr>\n",
       "      <th>Vcm5J</th>\n",
       "      <td>2</td>\n",
       "    </tr>\n",
       "    <tr>\n",
       "      <th>KUPhW</th>\n",
       "      <td>2</td>\n",
       "    </tr>\n",
       "    <tr>\n",
       "      <th>VF7Jo</th>\n",
       "      <td>2</td>\n",
       "    </tr>\n",
       "    <tr>\n",
       "      <th>xCHr8</th>\n",
       "      <td>2</td>\n",
       "    </tr>\n",
       "    <tr>\n",
       "      <th>TDsuX</th>\n",
       "      <td>1</td>\n",
       "    </tr>\n",
       "    <tr>\n",
       "      <th>nezj4</th>\n",
       "      <td>1</td>\n",
       "    </tr>\n",
       "    <tr>\n",
       "      <th>6Gpne</th>\n",
       "      <td>1</td>\n",
       "    </tr>\n",
       "    <tr>\n",
       "      <th>D4tDZ</th>\n",
       "      <td>1</td>\n",
       "    </tr>\n",
       "    <tr>\n",
       "      <th>WdPIv</th>\n",
       "      <td>1</td>\n",
       "    </tr>\n",
       "    <tr>\n",
       "      <th>H43mY</th>\n",
       "      <td>1</td>\n",
       "    </tr>\n",
       "    <tr>\n",
       "      <th>Pff2I</th>\n",
       "      <td>1</td>\n",
       "    </tr>\n",
       "    <tr>\n",
       "      <th>wsa7V</th>\n",
       "      <td>1</td>\n",
       "    </tr>\n",
       "    <tr>\n",
       "      <th>Kpp4a</th>\n",
       "      <td>1</td>\n",
       "    </tr>\n",
       "    <tr>\n",
       "      <th>T17fA</th>\n",
       "      <td>1</td>\n",
       "    </tr>\n",
       "    <tr>\n",
       "      <th>qzf7v</th>\n",
       "      <td>1</td>\n",
       "    </tr>\n",
       "  </tbody>\n",
       "</table>\n",
       "</div>"
      ],
      "text/plain": [
       "       id\n",
       "Vcm5J   2\n",
       "KUPhW   2\n",
       "VF7Jo   2\n",
       "xCHr8   2\n",
       "TDsuX   1\n",
       "nezj4   1\n",
       "6Gpne   1\n",
       "D4tDZ   1\n",
       "WdPIv   1\n",
       "H43mY   1\n",
       "Pff2I   1\n",
       "wsa7V   1\n",
       "Kpp4a   1\n",
       "T17fA   1\n",
       "qzf7v   1"
      ]
     },
     "execution_count": 22,
     "metadata": {},
     "output_type": "execute_result"
    }
   ],
   "source": [
    "df_3.id.value_counts().to_frame().head(15)"
   ]
  },
  {
   "cell_type": "code",
   "execution_count": 23,
   "metadata": {},
   "outputs": [],
   "source": [
    "df_3.drop(df_3[df_3.duplicated(subset='id')].index, inplace=True)"
   ]
  },
  {
   "cell_type": "code",
   "execution_count": 24,
   "metadata": {},
   "outputs": [
    {
     "data": {
      "text/html": [
       "<div>\n",
       "<style scoped>\n",
       "    .dataframe tbody tr th:only-of-type {\n",
       "        vertical-align: middle;\n",
       "    }\n",
       "\n",
       "    .dataframe tbody tr th {\n",
       "        vertical-align: top;\n",
       "    }\n",
       "\n",
       "    .dataframe thead th {\n",
       "        text-align: right;\n",
       "    }\n",
       "</style>\n",
       "<table border=\"1\" class=\"dataframe\">\n",
       "  <thead>\n",
       "    <tr style=\"text-align: right;\">\n",
       "      <th></th>\n",
       "      <th>id</th>\n",
       "    </tr>\n",
       "  </thead>\n",
       "  <tbody>\n",
       "    <tr>\n",
       "      <th>TDsuX</th>\n",
       "      <td>1</td>\n",
       "    </tr>\n",
       "    <tr>\n",
       "      <th>0KxWH</th>\n",
       "      <td>1</td>\n",
       "    </tr>\n",
       "    <tr>\n",
       "      <th>D4tDZ</th>\n",
       "      <td>1</td>\n",
       "    </tr>\n",
       "    <tr>\n",
       "      <th>WdPIv</th>\n",
       "      <td>1</td>\n",
       "    </tr>\n",
       "    <tr>\n",
       "      <th>H43mY</th>\n",
       "      <td>1</td>\n",
       "    </tr>\n",
       "  </tbody>\n",
       "</table>\n",
       "</div>"
      ],
      "text/plain": [
       "       id\n",
       "TDsuX   1\n",
       "0KxWH   1\n",
       "D4tDZ   1\n",
       "WdPIv   1\n",
       "H43mY   1"
      ]
     },
     "execution_count": 24,
     "metadata": {},
     "output_type": "execute_result"
    }
   ],
   "source": [
    "df_3.id.value_counts().to_frame().head()"
   ]
  },
  {
   "cell_type": "markdown",
   "metadata": {},
   "source": [
    "Пропусков не обнаружено, все столбцы соответствуют типам данных."
   ]
  },
  {
   "cell_type": "markdown",
   "metadata": {},
   "source": [
    "### Распределения признаков"
   ]
  },
  {
   "cell_type": "code",
   "execution_count": 25,
   "metadata": {},
   "outputs": [],
   "source": [
    "def show_hists(data, data_label, num_bins):\n",
    "    sns.set()\n",
    "    f, axes = plt.subplots(1, 2, figsize=(15, 3))\n",
    "    axes[0].set_title(data_label + \". Гистограмма распределения\", fontsize=18)\n",
    "    axes[0].set_ylabel('количество', fontsize=15)\n",
    "    sns.histplot(data, bins=num_bins, ax=axes[0], kde=True)\n",
    "    axes[1].set_title(data_label + \". Boxplot\", fontsize=18)\n",
    "    sns.boxplot(data, x=data_label, ax=axes[1])\n",
    "    plt.show()"
   ]
  },
  {
   "cell_type": "code",
   "execution_count": 26,
   "metadata": {},
   "outputs": [],
   "source": [
    "def corr_matrix(data):    \n",
    "    corr_matrix = data.corr()\n",
    "    display(corr_matrix)\n",
    "    fig, ax = plt.subplots(figsize=(15, 6))\n",
    "    sns.heatmap(corr_matrix, annot=True, cmap=\"coolwarm\");\n",
    "    plt.show()"
   ]
  },
  {
   "cell_type": "markdown",
   "metadata": {},
   "source": [
    "#### Для первого региона"
   ]
  },
  {
   "cell_type": "code",
   "execution_count": 27,
   "metadata": {},
   "outputs": [
    {
     "data": {
      "image/png": "[encoded data removed]",
      "text/plain": [
       "<Figure size 1080x216 with 2 Axes>"
      ]
     },
     "metadata": {},
     "output_type": "display_data"
    },
    {
     "data": {
      "image/png": "[encoded data removed]",
      "text/plain": [
       "<Figure size 1080x216 with 2 Axes>"
      ]
     },
     "metadata": {},
     "output_type": "display_data"
    },
    {
     "data": {
      "image/png": "[encoded data removed]",
      "text/plain": [
       "<Figure size 1080x216 with 2 Axes>"
      ]
     },
     "metadata": {},
     "output_type": "display_data"
    },
    {
     "data": {
      "image/png": "[encoded data removed]",
      "text/plain": [
       "<Figure size 1080x216 with 2 Axes>"
      ]
     },
     "metadata": {},
     "output_type": "display_data"
    }
   ],
   "source": [
    "numerics = ['f0', 'f1', 'f2', 'product']\n",
    "for column in numerics:\n",
    "    show_hists(df_1[column], column, num_bins=30)"
   ]
  },
  {
   "cell_type": "code",
   "execution_count": 28,
   "metadata": {},
   "outputs": [
    {
     "data": {
      "text/html": [
       "<div>\n",
       "<style scoped>\n",
       "    .dataframe tbody tr th:only-of-type {\n",
       "        vertical-align: middle;\n",
       "    }\n",
       "\n",
       "    .dataframe tbody tr th {\n",
       "        vertical-align: top;\n",
       "    }\n",
       "\n",
       "    .dataframe thead th {\n",
       "        text-align: right;\n",
       "    }\n",
       "</style>\n",
       "<table border=\"1\" class=\"dataframe\">\n",
       "  <thead>\n",
       "    <tr style=\"text-align: right;\">\n",
       "      <th></th>\n",
       "      <th>f0</th>\n",
       "      <th>f1</th>\n",
       "      <th>f2</th>\n",
       "      <th>product</th>\n",
       "    </tr>\n",
       "  </thead>\n",
       "  <tbody>\n",
       "    <tr>\n",
       "      <th>f0</th>\n",
       "      <td>1.000000</td>\n",
       "      <td>-0.440717</td>\n",
       "      <td>-0.003211</td>\n",
       "      <td>0.143504</td>\n",
       "    </tr>\n",
       "    <tr>\n",
       "      <th>f1</th>\n",
       "      <td>-0.440717</td>\n",
       "      <td>1.000000</td>\n",
       "      <td>0.001764</td>\n",
       "      <td>-0.192351</td>\n",
       "    </tr>\n",
       "    <tr>\n",
       "      <th>f2</th>\n",
       "      <td>-0.003211</td>\n",
       "      <td>0.001764</td>\n",
       "      <td>1.000000</td>\n",
       "      <td>0.483631</td>\n",
       "    </tr>\n",
       "    <tr>\n",
       "      <th>product</th>\n",
       "      <td>0.143504</td>\n",
       "      <td>-0.192351</td>\n",
       "      <td>0.483631</td>\n",
       "      <td>1.000000</td>\n",
       "    </tr>\n",
       "  </tbody>\n",
       "</table>\n",
       "</div>"
      ],
      "text/plain": [
       "               f0        f1        f2   product\n",
       "f0       1.000000 -0.440717 -0.003211  0.143504\n",
       "f1      -0.440717  1.000000  0.001764 -0.192351\n",
       "f2      -0.003211  0.001764  1.000000  0.483631\n",
       "product  0.143504 -0.192351  0.483631  1.000000"
      ]
     },
     "metadata": {},
     "output_type": "display_data"
    },
    {
     "data": {
      "image/png": "[encoded data removed]",
      "text/plain": [
       "<Figure size 1080x432 with 2 Axes>"
      ]
     },
     "metadata": {},
     "output_type": "display_data"
    }
   ],
   "source": [
    "corr_matrix(df_1)"
   ]
  },
  {
   "cell_type": "markdown",
   "metadata": {},
   "source": [
    "#### Для второго региона"
   ]
  },
  {
   "cell_type": "code",
   "execution_count": 29,
   "metadata": {},
   "outputs": [
    {
     "data": {
      "image/png": "[encoded data removed]",
      "text/plain": [
       "<Figure size 1080x216 with 2 Axes>"
      ]
     },
     "metadata": {},
     "output_type": "display_data"
    },
    {
     "data": {
      "image/png": "[encoded data removed]",
      "text/plain": [
       "<Figure size 1080x216 with 2 Axes>"
      ]
     },
     "metadata": {},
     "output_type": "display_data"
    },
    {
     "data": {
      "image/png": "[encoded data removed]",
      "text/plain": [
       "<Figure size 1080x216 with 2 Axes>"
      ]
     },
     "metadata": {},
     "output_type": "display_data"
    },
    {
     "data": {
      "image/png": "[encoded data removed]",
      "text/plain": [
       "<Figure size 1080x216 with 2 Axes>"
      ]
     },
     "metadata": {},
     "output_type": "display_data"
    }
   ],
   "source": [
    "for column in numerics:\n",
    "    show_hists(df_2[column], column, num_bins=30)"
   ]
  },
  {
   "cell_type": "code",
   "execution_count": 30,
   "metadata": {},
   "outputs": [
    {
     "data": {
      "text/html": [
       "<div>\n",
       "<style scoped>\n",
       "    .dataframe tbody tr th:only-of-type {\n",
       "        vertical-align: middle;\n",
       "    }\n",
       "\n",
       "    .dataframe tbody tr th {\n",
       "        vertical-align: top;\n",
       "    }\n",
       "\n",
       "    .dataframe thead th {\n",
       "        text-align: right;\n",
       "    }\n",
       "</style>\n",
       "<table border=\"1\" class=\"dataframe\">\n",
       "  <thead>\n",
       "    <tr style=\"text-align: right;\">\n",
       "      <th></th>\n",
       "      <th>f0</th>\n",
       "      <th>f1</th>\n",
       "      <th>f2</th>\n",
       "      <th>product</th>\n",
       "    </tr>\n",
       "  </thead>\n",
       "  <tbody>\n",
       "    <tr>\n",
       "      <th>f0</th>\n",
       "      <td>1.000000</td>\n",
       "      <td>0.182279</td>\n",
       "      <td>-0.001810</td>\n",
       "      <td>-0.030523</td>\n",
       "    </tr>\n",
       "    <tr>\n",
       "      <th>f1</th>\n",
       "      <td>0.182279</td>\n",
       "      <td>1.000000</td>\n",
       "      <td>-0.002594</td>\n",
       "      <td>-0.010154</td>\n",
       "    </tr>\n",
       "    <tr>\n",
       "      <th>f2</th>\n",
       "      <td>-0.001810</td>\n",
       "      <td>-0.002594</td>\n",
       "      <td>1.000000</td>\n",
       "      <td>0.999397</td>\n",
       "    </tr>\n",
       "    <tr>\n",
       "      <th>product</th>\n",
       "      <td>-0.030523</td>\n",
       "      <td>-0.010154</td>\n",
       "      <td>0.999397</td>\n",
       "      <td>1.000000</td>\n",
       "    </tr>\n",
       "  </tbody>\n",
       "</table>\n",
       "</div>"
      ],
      "text/plain": [
       "               f0        f1        f2   product\n",
       "f0       1.000000  0.182279 -0.001810 -0.030523\n",
       "f1       0.182279  1.000000 -0.002594 -0.010154\n",
       "f2      -0.001810 -0.002594  1.000000  0.999397\n",
       "product -0.030523 -0.010154  0.999397  1.000000"
      ]
     },
     "metadata": {},
     "output_type": "display_data"
    },
    {
     "data": {
      "image/png": "[encoded data removed]",
      "text/plain": [
       "<Figure size 1080x432 with 2 Axes>"
      ]
     },
     "metadata": {},
     "output_type": "display_data"
    }
   ],
   "source": [
    "corr_matrix(df_2)"
   ]
  },
  {
   "cell_type": "markdown",
   "metadata": {},
   "source": [
    "#### Для третьего региона"
   ]
  },
  {
   "cell_type": "code",
   "execution_count": 31,
   "metadata": {},
   "outputs": [
    {
     "data": {
      "image/png": "[encoded data removed]",
      "text/plain": [
       "<Figure size 1080x216 with 2 Axes>"
      ]
     },
     "metadata": {},
     "output_type": "display_data"
    },
    {
     "data": {
      "image/png": "[encoded data removed]",
      "text/plain": [
       "<Figure size 1080x216 with 2 Axes>"
      ]
     },
     "metadata": {},
     "output_type": "display_data"
    },
    {
     "data": {
      "image/png": "[encoded data removed]",
      "text/plain": [
       "<Figure size 1080x216 with 2 Axes>"
      ]
     },
     "metadata": {},
     "output_type": "display_data"
    },
    {
     "data": {
      "image/png": "[encoded data removed]",
      "text/plain": [
       "<Figure size 1080x216 with 2 Axes>"
      ]
     },
     "metadata": {},
     "output_type": "display_data"
    }
   ],
   "source": [
    "for column in numerics:\n",
    "    show_hists(df_3[column], column, num_bins=30)"
   ]
  },
  {
   "cell_type": "code",
   "execution_count": 32,
   "metadata": {},
   "outputs": [
    {
     "data": {
      "text/html": [
       "<div>\n",
       "<style scoped>\n",
       "    .dataframe tbody tr th:only-of-type {\n",
       "        vertical-align: middle;\n",
       "    }\n",
       "\n",
       "    .dataframe tbody tr th {\n",
       "        vertical-align: top;\n",
       "    }\n",
       "\n",
       "    .dataframe thead th {\n",
       "        text-align: right;\n",
       "    }\n",
       "</style>\n",
       "<table border=\"1\" class=\"dataframe\">\n",
       "  <thead>\n",
       "    <tr style=\"text-align: right;\">\n",
       "      <th></th>\n",
       "      <th>f0</th>\n",
       "      <th>f1</th>\n",
       "      <th>f2</th>\n",
       "      <th>product</th>\n",
       "    </tr>\n",
       "  </thead>\n",
       "  <tbody>\n",
       "    <tr>\n",
       "      <th>f0</th>\n",
       "      <td>1.000000</td>\n",
       "      <td>0.000506</td>\n",
       "      <td>-0.000452</td>\n",
       "      <td>-0.001978</td>\n",
       "    </tr>\n",
       "    <tr>\n",
       "      <th>f1</th>\n",
       "      <td>0.000506</td>\n",
       "      <td>1.000000</td>\n",
       "      <td>0.000753</td>\n",
       "      <td>-0.001055</td>\n",
       "    </tr>\n",
       "    <tr>\n",
       "      <th>f2</th>\n",
       "      <td>-0.000452</td>\n",
       "      <td>0.000753</td>\n",
       "      <td>1.000000</td>\n",
       "      <td>0.445867</td>\n",
       "    </tr>\n",
       "    <tr>\n",
       "      <th>product</th>\n",
       "      <td>-0.001978</td>\n",
       "      <td>-0.001055</td>\n",
       "      <td>0.445867</td>\n",
       "      <td>1.000000</td>\n",
       "    </tr>\n",
       "  </tbody>\n",
       "</table>\n",
       "</div>"
      ],
      "text/plain": [
       "               f0        f1        f2   product\n",
       "f0       1.000000  0.000506 -0.000452 -0.001978\n",
       "f1       0.000506  1.000000  0.000753 -0.001055\n",
       "f2      -0.000452  0.000753  1.000000  0.445867\n",
       "product -0.001978 -0.001055  0.445867  1.000000"
      ]
     },
     "metadata": {},
     "output_type": "display_data"
    },
    {
     "data": {
      "image/png": "[encoded data removed]",
      "text/plain": [
       "<Figure size 1080x432 with 2 Axes>"
      ]
     },
     "metadata": {},
     "output_type": "display_data"
    }
   ],
   "source": [
    "corr_matrix(df_3)"
   ]
  },
  {
   "cell_type": "markdown",
   "metadata": {},
   "source": [
    "Большинсво параметров распределны не по нормально закону, но видно, что все парметры симметричны, что говорит о балансe признаков."
   ]
  },
  {
   "cell_type": "markdown",
   "metadata": {},
   "source": [
    "### Разъбиние данных на обучающую и валидационную выборки"
   ]
  },
  {
   "cell_type": "markdown",
   "metadata": {},
   "source": [
    "Также необходимо удалить столбец 'id', т.к. он не играет роли при обучении"
   ]
  },
  {
   "cell_type": "code",
   "execution_count": 33,
   "metadata": {},
   "outputs": [],
   "source": [
    "def split(data):\n",
    "    \n",
    "    features = data.drop(['product', 'id'], axis=1)\n",
    "    target = data['product']\n",
    "\n",
    "    features_train, features_val, target_train, target_val = train_test_split(\n",
    "        features, target, test_size=.25, random_state=12345)\n",
    "    \n",
    "    return features_train, features_val, target_train, target_val"
   ]
  },
  {
   "cell_type": "code",
   "execution_count": 34,
   "metadata": {},
   "outputs": [],
   "source": [
    "features_train_1, features_val_1, target_train_1, target_val_1 = split(df_1)"
   ]
  },
  {
   "cell_type": "code",
   "execution_count": 35,
   "metadata": {},
   "outputs": [],
   "source": [
    "features_train_2, features_val_2, target_train_2, target_val_2 = split(df_2)"
   ]
  },
  {
   "cell_type": "code",
   "execution_count": 36,
   "metadata": {},
   "outputs": [
    {
     "name": "stdout",
     "output_type": "stream",
     "text": [
      "Размер обучающей выборки параметров: (74997, 3)\n",
      "Размер обучающей выборки целевого парметра: (74997,)\n",
      "Размер валидационной выборки параметров: (24999, 3)\n",
      "Размер валидационной выборки целевого парметра: (24999,)\n"
     ]
    }
   ],
   "source": [
    "features_train_3, features_val_3, target_train_3, target_val_3 = split(df_3)\n",
    "\n",
    "print('Размер обучающей выборки параметров:', features_train_3.shape)\n",
    "print('Размер обучающей выборки целевого парметра:', target_train_3.shape)\n",
    "print('Размер валидационной выборки параметров:', features_val_3.shape)\n",
    "print('Размер валидационной выборки целевого парметра:',target_val_3.shape)"
   ]
  },
  {
   "cell_type": "markdown",
   "metadata": {},
   "source": [
    "Разбиние выполнено корректно"
   ]
  },
  {
   "cell_type": "markdown",
   "metadata": {},
   "source": [
    "## Обучение и проверка модели"
   ]
  },
  {
   "cell_type": "code",
   "execution_count": 37,
   "metadata": {},
   "outputs": [],
   "source": [
    "def model_line(features_train, target_train, features_val, target_val):\n",
    "    model = LinearRegression()\n",
    "    model.fit(features_train, target_train)\n",
    "    predictions_val = model.predict(features_val)\n",
    "    result = mean_squared_error(target_val, predictions_val)**0.5\n",
    "    product_mean = predictions_val.mean()\n",
    "    \n",
    "    print('Средний запас предсказанного сырья:', product_mean)\n",
    "    print('RMSE модели:', result)\n",
    "    \n",
    "    return predictions_val"
   ]
  },
  {
   "cell_type": "markdown",
   "metadata": {},
   "source": [
    "### Первый регион "
   ]
  },
  {
   "cell_type": "code",
   "execution_count": 38,
   "metadata": {},
   "outputs": [
    {
     "name": "stdout",
     "output_type": "stream",
     "text": [
      "Средний запас предсказанного сырья: 92.78915638280621\n",
      "RMSE модели: 37.853527328872964\n"
     ]
    }
   ],
   "source": [
    "predictions_val_1 = model_line(features_train_1, target_train_1, features_val_1, target_val_1)"
   ]
  },
  {
   "cell_type": "markdown",
   "metadata": {},
   "source": [
    "### Второй регион "
   ]
  },
  {
   "cell_type": "code",
   "execution_count": 39,
   "metadata": {},
   "outputs": [
    {
     "name": "stdout",
     "output_type": "stream",
     "text": [
      "Средний запас предсказанного сырья: 69.17831957030432\n",
      "RMSE модели: 0.892059264771703\n"
     ]
    }
   ],
   "source": [
    "predictions_val_2 = model_line(features_train_2, target_train_2, features_val_2, target_val_2)"
   ]
  },
  {
   "cell_type": "markdown",
   "metadata": {},
   "source": [
    "### Третий регион "
   ]
  },
  {
   "cell_type": "code",
   "execution_count": 40,
   "metadata": {},
   "outputs": [
    {
     "name": "stdout",
     "output_type": "stream",
     "text": [
      "Средний запас предсказанного сырья: 94.86572480562035\n",
      "RMSE модели: 40.07585073246016\n"
     ]
    }
   ],
   "source": [
    "predictions_val_3 = model_line(features_train_3, target_train_3, features_val_3, target_val_3)"
   ]
  },
  {
   "cell_type": "markdown",
   "metadata": {},
   "source": [
    "Видими, что у вторго региона сильно отличется среднее и корень из средней квадратической ошибки. Во втором регионе все данные о скважинах схожи, это видно из низкого показателя RMSE."
   ]
  },
  {
   "cell_type": "markdown",
   "metadata": {},
   "source": [
    "## Подготовка к расчёту прибыли"
   ]
  },
  {
   "cell_type": "markdown",
   "metadata": {},
   "source": [
    "При разведке региона исследуюем 500 точек, из которых с помощью машинного обучения выберем 200 лучших для разработки.\n",
    "\n",
    "Бюджет на разработку скважин в регионе — 10 млрд рублей.\n",
    "\n",
    "При нынешних ценах один баррель сырья приносит 450 рублей дохода. Доход с каждой единицы продукта составляет 450 тыс.\n",
    "рублей, поскольку объём указан в тысячах баррелей.\n",
    "\n",
    "После оценки рисков оставим лишь те регионы, в которых вероятность убытков меньше 2.5%. Среди них выберем регион с наибольшей средней прибылью"
   ]
  },
  {
   "cell_type": "code",
   "execution_count": 41,
   "metadata": {},
   "outputs": [
    {
     "name": "stdout",
     "output_type": "stream",
     "text": [
      "Достаточный объём сырья для безубыточной разработки = 111.11 тыс. баррелей.\n",
      "\n",
      "Средний запас в df_1 регионе = 92.79 тыс. баррелей.\n",
      "Процент скважин с объёмом больше чем порог = 21.80%\n",
      "Количество скважин в объёмом больше чем порог = 5450\n",
      "\n",
      "Средний запас в df_2 регионе = 69.18 тыс. баррелей.\n",
      "Процент скважин с объёмом больше чем порог = 18.33%\n",
      "Количество скважин в объёмом больше чем порог = 4583\n",
      "\n",
      "Средний запас в df_3 регионе = 94.87 тыс. баррелей.\n",
      "Процент скважин с объёмом больше чем порог = 21.31%\n",
      "Количество скважин в объёмом больше чем порог = 5327\n"
     ]
    }
   ],
   "source": [
    "predictions_val_1 = pd.Series(predictions_val_1, index=target_val_1.index)\n",
    "predictions_val_2 = pd.Series(predictions_val_2, index=target_val_2.index)\n",
    "predictions_val_3 = pd.Series(predictions_val_3, index=target_val_3.index)\n",
    "\n",
    "names = ['df_1', 'df_2', 'df_3']\n",
    "predictions = [predictions_val_1, predictions_val_2, predictions_val_3]\n",
    "\n",
    "break_even = BUDGET / (BARREL_PRICE * BEST_FOR_ML)\n",
    "print(f'Достаточный объём сырья для безубыточной разработки = {break_even:.2f} тыс. баррелей.')\n",
    "\n",
    "for name, predictions in zip(names, predictions):\n",
    "    print()\n",
    "    print(f'Средний запас в {name} регионе = {predictions.mean():.2f} тыс. баррелей.')\n",
    "    print(f'Процент скважин с объёмом больше чем порог = {len(predictions.loc[ lambda x : x > break_even]) / len(predictions):.2%}')\n",
    "    print(f'Количество скважин в объёмом больше чем порог = {len(predictions.loc[ lambda x : x > break_even])}')\n"
   ]
  },
  {
   "cell_type": "markdown",
   "metadata": {},
   "source": [
    "Достаточный объём сырья для безубыточной разработки = 111.11 тыс. баррелей, по средним величинам уходим в минус, но есть точки и лучше. Для каждого региона около 20% точек будут окупаться"
   ]
  },
  {
   "cell_type": "markdown",
   "metadata": {},
   "source": [
    "## Расчёт прибыли и рисков "
   ]
  },
  {
   "cell_type": "code",
   "execution_count": 42,
   "metadata": {},
   "outputs": [],
   "source": [
    "def profit(target, probabilities, count):\n",
    "    probs_sorted = probabilities.sort_values(ascending=False)[:count]\n",
    "    selected = target[probs_sorted.index]\n",
    "    product = selected.sum()\n",
    "    revenue = product * BARREL_PRICE\n",
    "    return revenue - BUDGET"
   ]
  },
  {
   "cell_type": "code",
   "execution_count": 43,
   "metadata": {},
   "outputs": [],
   "source": [
    "targets = {\n",
    "    'df_1': [target_val_1, predictions_val_1],\n",
    "    'df_2': [target_val_2, predictions_val_2],\n",
    "    'df_3': [target_val_3, predictions_val_3],\n",
    "}"
   ]
  },
  {
   "cell_type": "code",
   "execution_count": 44,
   "metadata": {},
   "outputs": [
    {
     "data": {
      "image/png": "[encoded data removed]",
      "text/plain": [
       "<Figure size 1152x360 with 1 Axes>"
      ]
     },
     "metadata": {},
     "output_type": "display_data"
    },
    {
     "name": "stdout",
     "output_type": "stream",
     "text": [
      "\n",
      "Для df_1 региона:\n",
      "Средняя валовая прибыль с 200 лучших скважин, отобраных по предсказанию = 59 млн. рублей.\n",
      "Доверительный интервал лежит между -1 - 128 млн. рублей.\n",
      "Риск убытков составляет = 2.80%\n"
     ]
    },
    {
     "data": {
      "image/png": "[encoded data removed]",
      "text/plain": [
       "<Figure size 1152x360 with 1 Axes>"
      ]
     },
     "metadata": {},
     "output_type": "display_data"
    },
    {
     "name": "stdout",
     "output_type": "stream",
     "text": [
      "\n",
      "Для df_2 региона:\n",
      "Средняя валовая прибыль с 200 лучших скважин, отобраных по предсказанию = 69 млн. рублей.\n",
      "Доверительный интервал лежит между 19 - 126 млн. рублей.\n",
      "Риск убытков составляет = 0.10%\n"
     ]
    },
    {
     "data": {
      "image/png": "[encoded data removed]",
      "text/plain": [
       "<Figure size 1152x360 with 1 Axes>"
      ]
     },
     "metadata": {},
     "output_type": "display_data"
    },
    {
     "name": "stdout",
     "output_type": "stream",
     "text": [
      "\n",
      "Для df_3 региона:\n",
      "Средняя валовая прибыль с 200 лучших скважин, отобраных по предсказанию = 52 млн. рублей.\n",
      "Доверительный интервал лежит между -11 - 116 млн. рублей.\n",
      "Риск убытков составляет = 5.80%\n"
     ]
    }
   ],
   "source": [
    "state = np.random.RandomState(12345)\n",
    "\n",
    "for name in targets:\n",
    "    values = []\n",
    "    for _ in range(1000):\n",
    "        probs_subsample = targets[name][1].sample(POINTS, replace=True, random_state=state)\n",
    "        target_subsample = targets[name][0][probs_subsample.index]\n",
    "        values.append(profit(target_subsample, probs_subsample, BEST_FOR_ML))\n",
    "        \n",
    "    values = pd.Series(values)\n",
    "        \n",
    "    mean = values.mean() / 10e6\n",
    "    lower = values.quantile(.025) / 10e6\n",
    "    upper = values.quantile(.975) / 10e6\n",
    "        \n",
    "    risk = values.apply(lambda x: x < 0).sum() / len(values)\n",
    "    \n",
    "\n",
    "    values.hist(figsize=(16, 5), bins=50, color='black');\n",
    "    plt.grid(True);\n",
    "    plt.axvline(values.quantile(0.025), color='violet');\n",
    "    plt.axvline(values.quantile(0.975), color='gold')\n",
    "    plt.legend(['Нижняя граница 95%-го доверительного интервала', \n",
    "        'Верхняя граница 95%-го доверительного интервала', f'Распределение прибыли для региона {name}']);\n",
    "    plt.xlabel('Прибыль, руб.');\n",
    "    plt.ylabel('Количество скважин из 200');\n",
    "    plt.title(f'Распределение прибыли для региона {name}');\n",
    "    plt.show();\n",
    "\n",
    "    print()\n",
    "    print(f'Для {name} региона:')\n",
    "    print(f'Средняя валовая прибыль с 200 лучших скважин, отобраных по предсказанию = {mean:.0f} млн. рублей.')\n",
    "    print(f'Доверительный интервал лежит между {lower:.0f} - {upper:.0f} млн. рублей.')\n",
    "    print(f'Риск убытков составляет = {risk:.2%}')"
   ]
  },
  {
   "cell_type": "markdown",
   "metadata": {},
   "source": [
    "В регионе df2 ожидается наибольшая возможная прибыль в размере 69 млн. рублей при оценке модели.\n",
    "Риск потерь минимальный - всего 0,1%, также во втором регионе.\n",
    "Учитывая все факторы, можно порекомендовать регион df2 для разработки, так как он обладает наибольшей средней потенциальной прибылью и минимальными рисками."
   ]
  }
 ],
 "metadata": {
  "ExecuteTimeLog": [
   {
    "duration": 442,
    "start_time": "2023-07-31T10:42:13.065Z"
   },
   {
    "duration": 527,
    "start_time": "2023-07-31T10:42:57.718Z"
   },
   {
    "duration": 163,
    "start_time": "2023-07-31T10:43:09.154Z"
   },
   {
    "duration": 579,
    "start_time": "2023-07-31T10:44:07.686Z"
   },
   {
    "duration": 626,
    "start_time": "2023-07-31T10:44:23.857Z"
   },
   {
    "duration": 74,
    "start_time": "2023-08-01T08:12:55.834Z"
   },
   {
    "duration": 509,
    "start_time": "2023-08-01T08:13:03.251Z"
   },
   {
    "duration": 415,
    "start_time": "2023-08-01T08:13:03.763Z"
   },
   {
    "duration": 21,
    "start_time": "2023-08-01T08:13:04.180Z"
   },
   {
    "duration": 230,
    "start_time": "2023-08-01T08:13:04.203Z"
   },
   {
    "duration": 254,
    "start_time": "2023-08-01T08:13:04.435Z"
   },
   {
    "duration": 412,
    "start_time": "2023-08-01T08:19:24.690Z"
   },
   {
    "duration": 176,
    "start_time": "2023-08-01T08:19:25.104Z"
   },
   {
    "duration": 19,
    "start_time": "2023-08-01T08:19:25.282Z"
   },
   {
    "duration": 148,
    "start_time": "2023-08-01T08:19:25.304Z"
   },
   {
    "duration": 18,
    "start_time": "2023-08-01T08:19:25.453Z"
   },
   {
    "duration": 143,
    "start_time": "2023-08-01T08:19:25.473Z"
   },
   {
    "duration": 12,
    "start_time": "2023-08-01T08:19:36.059Z"
   },
   {
    "duration": 1554,
    "start_time": "2023-08-01T09:44:47.804Z"
   },
   {
    "duration": 139,
    "start_time": "2023-08-01T09:44:49.360Z"
   },
   {
    "duration": 20,
    "start_time": "2023-08-01T09:44:49.500Z"
   },
   {
    "duration": 110,
    "start_time": "2023-08-01T09:44:49.521Z"
   },
   {
    "duration": 12,
    "start_time": "2023-08-01T09:44:49.633Z"
   },
   {
    "duration": 116,
    "start_time": "2023-08-01T09:44:49.647Z"
   },
   {
    "duration": 12,
    "start_time": "2023-08-01T09:44:49.764Z"
   },
   {
    "duration": 4,
    "start_time": "2023-08-01T09:44:49.777Z"
   },
   {
    "duration": 841,
    "start_time": "2023-08-01T09:44:49.782Z"
   },
   {
    "duration": 5,
    "start_time": "2023-08-01T09:45:16.583Z"
   },
   {
    "duration": 827,
    "start_time": "2023-08-01T09:45:18.566Z"
   },
   {
    "duration": 4,
    "start_time": "2023-08-01T09:46:36.500Z"
   },
   {
    "duration": 3023,
    "start_time": "2023-08-01T09:46:38.161Z"
   },
   {
    "duration": 1740,
    "start_time": "2023-08-01T09:47:05.453Z"
   },
   {
    "duration": 2,
    "start_time": "2023-08-01T09:47:07.195Z"
   },
   {
    "duration": 145,
    "start_time": "2023-08-01T09:47:07.200Z"
   },
   {
    "duration": 12,
    "start_time": "2023-08-01T09:47:07.347Z"
   },
   {
    "duration": 112,
    "start_time": "2023-08-01T09:47:07.360Z"
   },
   {
    "duration": 11,
    "start_time": "2023-08-01T09:47:07.474Z"
   },
   {
    "duration": 120,
    "start_time": "2023-08-01T09:47:07.487Z"
   },
   {
    "duration": 17,
    "start_time": "2023-08-01T09:47:07.609Z"
   },
   {
    "duration": 4,
    "start_time": "2023-08-01T09:47:07.627Z"
   },
   {
    "duration": 2946,
    "start_time": "2023-08-01T09:47:07.632Z"
   },
   {
    "duration": 4,
    "start_time": "2023-08-01T09:47:47.800Z"
   },
   {
    "duration": 2655,
    "start_time": "2023-08-01T09:47:49.067Z"
   },
   {
    "duration": 4,
    "start_time": "2023-08-01T09:48:00.252Z"
   },
   {
    "duration": 2841,
    "start_time": "2023-08-01T09:48:03.180Z"
   },
   {
    "duration": 4,
    "start_time": "2023-08-01T09:48:16.958Z"
   },
   {
    "duration": 3124,
    "start_time": "2023-08-01T09:48:19.360Z"
   },
   {
    "duration": 3045,
    "start_time": "2023-08-01T09:49:05.378Z"
   },
   {
    "duration": 2864,
    "start_time": "2023-08-01T09:49:11.099Z"
   },
   {
    "duration": 1462,
    "start_time": "2023-08-01T09:58:43.545Z"
   },
   {
    "duration": 2,
    "start_time": "2023-08-01T09:58:45.009Z"
   },
   {
    "duration": 160,
    "start_time": "2023-08-01T09:58:45.013Z"
   },
   {
    "duration": 15,
    "start_time": "2023-08-01T09:58:45.175Z"
   },
   {
    "duration": 108,
    "start_time": "2023-08-01T09:58:45.192Z"
   },
   {
    "duration": 18,
    "start_time": "2023-08-01T09:58:45.302Z"
   },
   {
    "duration": 119,
    "start_time": "2023-08-01T09:58:45.321Z"
   },
   {
    "duration": 14,
    "start_time": "2023-08-01T09:58:45.442Z"
   },
   {
    "duration": 12,
    "start_time": "2023-08-01T09:58:45.458Z"
   },
   {
    "duration": 3031,
    "start_time": "2023-08-01T09:58:45.472Z"
   },
   {
    "duration": 2843,
    "start_time": "2023-08-01T09:58:48.505Z"
   },
   {
    "duration": 3224,
    "start_time": "2023-08-01T09:58:51.350Z"
   },
   {
    "duration": 3,
    "start_time": "2023-08-01T10:11:38.870Z"
   },
   {
    "duration": 129,
    "start_time": "2023-08-01T10:12:40.392Z"
   },
   {
    "duration": 3,
    "start_time": "2023-08-01T10:13:04.819Z"
   },
   {
    "duration": 30,
    "start_time": "2023-08-01T10:13:06.920Z"
   },
   {
    "duration": 4,
    "start_time": "2023-08-01T10:18:16.485Z"
   },
   {
    "duration": 31,
    "start_time": "2023-08-01T10:18:39.334Z"
   },
   {
    "duration": 31,
    "start_time": "2023-08-01T10:20:30.890Z"
   },
   {
    "duration": 42,
    "start_time": "2023-08-01T10:20:35.253Z"
   },
   {
    "duration": 4,
    "start_time": "2023-08-01T10:20:54.582Z"
   },
   {
    "duration": 41,
    "start_time": "2023-08-01T10:20:56.698Z"
   },
   {
    "duration": 3,
    "start_time": "2023-08-01T10:21:48.018Z"
   },
   {
    "duration": 31,
    "start_time": "2023-08-01T10:21:49.556Z"
   },
   {
    "duration": 3,
    "start_time": "2023-08-01T10:22:06.772Z"
   },
   {
    "duration": 37,
    "start_time": "2023-08-01T10:22:08.125Z"
   },
   {
    "duration": 28,
    "start_time": "2023-08-01T10:26:18.338Z"
   },
   {
    "duration": 14,
    "start_time": "2023-08-01T10:26:37.340Z"
   },
   {
    "duration": 3,
    "start_time": "2023-08-01T10:27:13.568Z"
   },
   {
    "duration": 17,
    "start_time": "2023-08-01T10:27:15.163Z"
   },
   {
    "duration": 1328,
    "start_time": "2023-08-01T10:27:53.568Z"
   },
   {
    "duration": 2,
    "start_time": "2023-08-01T10:27:54.898Z"
   },
   {
    "duration": 147,
    "start_time": "2023-08-01T10:27:54.901Z"
   },
   {
    "duration": 12,
    "start_time": "2023-08-01T10:27:55.050Z"
   },
   {
    "duration": 112,
    "start_time": "2023-08-01T10:27:55.064Z"
   },
   {
    "duration": 12,
    "start_time": "2023-08-01T10:27:55.178Z"
   },
   {
    "duration": 136,
    "start_time": "2023-08-01T10:27:55.192Z"
   },
   {
    "duration": 16,
    "start_time": "2023-08-01T10:27:55.330Z"
   },
   {
    "duration": 168,
    "start_time": "2023-08-01T10:27:55.348Z"
   },
   {
    "duration": 2873,
    "start_time": "2023-08-01T10:27:55.517Z"
   },
   {
    "duration": 2879,
    "start_time": "2023-08-01T10:27:58.391Z"
   },
   {
    "duration": 3172,
    "start_time": "2023-08-01T10:28:01.272Z"
   },
   {
    "duration": 3,
    "start_time": "2023-08-01T10:28:04.445Z"
   },
   {
    "duration": 25,
    "start_time": "2023-08-01T10:28:04.450Z"
   },
   {
    "duration": 17,
    "start_time": "2023-08-01T10:28:04.476Z"
   },
   {
    "duration": 25,
    "start_time": "2023-08-01T10:28:04.495Z"
   },
   {
    "duration": 18,
    "start_time": "2023-08-01T10:33:49.643Z"
   },
   {
    "duration": 3,
    "start_time": "2023-08-01T10:33:57.507Z"
   },
   {
    "duration": 13,
    "start_time": "2023-08-01T10:33:59.114Z"
   },
   {
    "duration": 15,
    "start_time": "2023-08-01T10:34:00.405Z"
   },
   {
    "duration": 15,
    "start_time": "2023-08-01T10:34:01.670Z"
   },
   {
    "duration": 4430,
    "start_time": "2023-08-01T10:56:47.165Z"
   },
   {
    "duration": 4251,
    "start_time": "2023-08-01T10:58:47.525Z"
   },
   {
    "duration": 127,
    "start_time": "2023-08-01T11:35:07.153Z"
   },
   {
    "duration": 31,
    "start_time": "2023-08-01T11:35:22.638Z"
   },
   {
    "duration": 23,
    "start_time": "2023-08-01T11:39:26.628Z"
   },
   {
    "duration": 35,
    "start_time": "2023-08-01T11:39:27.649Z"
   },
   {
    "duration": 24,
    "start_time": "2023-08-01T11:39:28.171Z"
   },
   {
    "duration": 32,
    "start_time": "2023-08-01T11:42:03.922Z"
   },
   {
    "duration": 1376,
    "start_time": "2023-08-01T11:42:33.459Z"
   },
   {
    "duration": 2,
    "start_time": "2023-08-01T11:42:34.837Z"
   },
   {
    "duration": 139,
    "start_time": "2023-08-01T11:42:34.840Z"
   },
   {
    "duration": 12,
    "start_time": "2023-08-01T11:42:34.981Z"
   },
   {
    "duration": 117,
    "start_time": "2023-08-01T11:42:34.995Z"
   },
   {
    "duration": 16,
    "start_time": "2023-08-01T11:42:35.113Z"
   },
   {
    "duration": 213,
    "start_time": "2023-08-01T11:42:35.131Z"
   },
   {
    "duration": 15,
    "start_time": "2023-08-01T11:42:35.346Z"
   },
   {
    "duration": 61,
    "start_time": "2023-08-01T11:42:35.363Z"
   },
   {
    "duration": 3646,
    "start_time": "2023-08-01T11:42:35.426Z"
   },
   {
    "duration": 2991,
    "start_time": "2023-08-01T11:42:39.074Z"
   },
   {
    "duration": 3233,
    "start_time": "2023-08-01T11:42:42.067Z"
   },
   {
    "duration": 3,
    "start_time": "2023-08-01T11:42:45.301Z"
   },
   {
    "duration": 33,
    "start_time": "2023-08-01T11:42:45.306Z"
   },
   {
    "duration": 20,
    "start_time": "2023-08-01T11:42:45.340Z"
   },
   {
    "duration": 23,
    "start_time": "2023-08-01T11:42:45.362Z"
   },
   {
    "duration": 186,
    "start_time": "2023-08-01T11:42:45.386Z"
   },
   {
    "duration": 0,
    "start_time": "2023-08-01T11:42:45.574Z"
   },
   {
    "duration": 0,
    "start_time": "2023-08-01T11:42:45.576Z"
   },
   {
    "duration": 29,
    "start_time": "2023-08-01T11:43:57.551Z"
   },
   {
    "duration": 27,
    "start_time": "2023-08-01T11:43:58.400Z"
   },
   {
    "duration": 35,
    "start_time": "2023-08-01T11:43:58.562Z"
   },
   {
    "duration": 26,
    "start_time": "2023-08-01T11:43:58.742Z"
   },
   {
    "duration": 25,
    "start_time": "2023-08-01T11:47:40.424Z"
   },
   {
    "duration": 26,
    "start_time": "2023-08-01T11:47:47.610Z"
   },
   {
    "duration": 1829,
    "start_time": "2023-08-01T11:49:47.651Z"
   },
   {
    "duration": 2,
    "start_time": "2023-08-01T11:49:49.482Z"
   },
   {
    "duration": 143,
    "start_time": "2023-08-01T11:49:49.486Z"
   },
   {
    "duration": 13,
    "start_time": "2023-08-01T11:49:49.631Z"
   },
   {
    "duration": 106,
    "start_time": "2023-08-01T11:49:49.645Z"
   },
   {
    "duration": 11,
    "start_time": "2023-08-01T11:49:49.753Z"
   },
   {
    "duration": 110,
    "start_time": "2023-08-01T11:49:49.765Z"
   },
   {
    "duration": 12,
    "start_time": "2023-08-01T11:49:49.877Z"
   },
   {
    "duration": 4,
    "start_time": "2023-08-01T11:49:49.891Z"
   },
   {
    "duration": 2870,
    "start_time": "2023-08-01T11:49:49.897Z"
   },
   {
    "duration": 2858,
    "start_time": "2023-08-01T11:49:52.769Z"
   },
   {
    "duration": 3172,
    "start_time": "2023-08-01T11:49:55.629Z"
   },
   {
    "duration": 3,
    "start_time": "2023-08-01T11:49:58.802Z"
   },
   {
    "duration": 30,
    "start_time": "2023-08-01T11:49:58.806Z"
   },
   {
    "duration": 23,
    "start_time": "2023-08-01T11:49:58.838Z"
   },
   {
    "duration": 24,
    "start_time": "2023-08-01T11:49:58.863Z"
   },
   {
    "duration": 32,
    "start_time": "2023-08-01T11:49:58.889Z"
   },
   {
    "duration": 398,
    "start_time": "2023-08-01T11:49:58.923Z"
   },
   {
    "duration": 0,
    "start_time": "2023-08-01T11:49:59.322Z"
   },
   {
    "duration": 22,
    "start_time": "2023-08-01T11:53:54.046Z"
   },
   {
    "duration": 16,
    "start_time": "2023-08-01T11:53:58.899Z"
   },
   {
    "duration": 29,
    "start_time": "2023-08-01T11:54:02.422Z"
   },
   {
    "duration": 108,
    "start_time": "2023-08-01T11:54:07.517Z"
   },
   {
    "duration": 13,
    "start_time": "2023-08-01T11:54:11.974Z"
   },
   {
    "duration": 1493,
    "start_time": "2023-08-01T11:55:20.759Z"
   },
   {
    "duration": 3,
    "start_time": "2023-08-01T11:55:22.255Z"
   },
   {
    "duration": 147,
    "start_time": "2023-08-01T11:55:22.260Z"
   },
   {
    "duration": 17,
    "start_time": "2023-08-01T11:55:22.408Z"
   },
   {
    "duration": 116,
    "start_time": "2023-08-01T11:55:22.427Z"
   },
   {
    "duration": 16,
    "start_time": "2023-08-01T11:55:22.545Z"
   },
   {
    "duration": 119,
    "start_time": "2023-08-01T11:55:22.563Z"
   },
   {
    "duration": 19,
    "start_time": "2023-08-01T11:55:22.684Z"
   },
   {
    "duration": 16,
    "start_time": "2023-08-01T11:55:22.705Z"
   },
   {
    "duration": 3400,
    "start_time": "2023-08-01T11:55:22.722Z"
   },
   {
    "duration": 3199,
    "start_time": "2023-08-01T11:55:26.123Z"
   },
   {
    "duration": 3180,
    "start_time": "2023-08-01T11:55:29.323Z"
   },
   {
    "duration": 3,
    "start_time": "2023-08-01T11:55:32.504Z"
   },
   {
    "duration": 28,
    "start_time": "2023-08-01T11:55:32.509Z"
   },
   {
    "duration": 24,
    "start_time": "2023-08-01T11:55:32.539Z"
   },
   {
    "duration": 17,
    "start_time": "2023-08-01T11:55:32.565Z"
   },
   {
    "duration": 39,
    "start_time": "2023-08-01T11:55:32.584Z"
   },
   {
    "duration": 106,
    "start_time": "2023-08-01T11:55:32.626Z"
   },
   {
    "duration": 205,
    "start_time": "2023-08-01T11:55:32.734Z"
   },
   {
    "duration": 1695,
    "start_time": "2023-08-02T07:36:03.974Z"
   },
   {
    "duration": 2,
    "start_time": "2023-08-02T07:36:05.671Z"
   },
   {
    "duration": 391,
    "start_time": "2023-08-02T07:36:05.675Z"
   },
   {
    "duration": 17,
    "start_time": "2023-08-02T07:36:06.068Z"
   },
   {
    "duration": 264,
    "start_time": "2023-08-02T07:36:06.088Z"
   },
   {
    "duration": 11,
    "start_time": "2023-08-02T07:36:06.354Z"
   },
   {
    "duration": 225,
    "start_time": "2023-08-02T07:36:06.367Z"
   },
   {
    "duration": 12,
    "start_time": "2023-08-02T07:36:06.594Z"
   },
   {
    "duration": 31,
    "start_time": "2023-08-02T07:36:06.607Z"
   },
   {
    "duration": 2922,
    "start_time": "2023-08-02T07:36:06.640Z"
   },
   {
    "duration": 2998,
    "start_time": "2023-08-02T07:36:09.564Z"
   },
   {
    "duration": 3946,
    "start_time": "2023-08-02T07:36:12.563Z"
   },
   {
    "duration": 3,
    "start_time": "2023-08-02T07:36:16.511Z"
   },
   {
    "duration": 32,
    "start_time": "2023-08-02T07:36:16.516Z"
   },
   {
    "duration": 19,
    "start_time": "2023-08-02T07:36:16.549Z"
   },
   {
    "duration": 13,
    "start_time": "2023-08-02T07:36:16.569Z"
   },
   {
    "duration": 16,
    "start_time": "2023-08-02T07:36:16.584Z"
   },
   {
    "duration": 105,
    "start_time": "2023-08-02T07:36:16.602Z"
   },
   {
    "duration": 111,
    "start_time": "2023-08-02T07:36:16.799Z"
   },
   {
    "duration": 2941,
    "start_time": "2023-08-02T07:36:44.149Z"
   },
   {
    "duration": 3113,
    "start_time": "2023-08-02T07:37:07.697Z"
   },
   {
    "duration": 2911,
    "start_time": "2023-08-02T07:37:22.816Z"
   },
   {
    "duration": 2770,
    "start_time": "2023-08-02T07:37:35.463Z"
   },
   {
    "duration": 3117,
    "start_time": "2023-08-02T07:37:55.626Z"
   },
   {
    "duration": 3075,
    "start_time": "2023-08-02T07:55:47.531Z"
   },
   {
    "duration": 4504,
    "start_time": "2023-08-02T07:56:02.626Z"
   },
   {
    "duration": 2627,
    "start_time": "2023-08-02T07:57:08.845Z"
   },
   {
    "duration": 4304,
    "start_time": "2023-08-02T07:59:35.912Z"
   },
   {
    "duration": 3,
    "start_time": "2023-08-02T10:09:36.256Z"
   },
   {
    "duration": 30,
    "start_time": "2023-08-02T10:09:38.029Z"
   },
   {
    "duration": 31,
    "start_time": "2023-08-02T10:09:50.614Z"
   },
   {
    "duration": 3,
    "start_time": "2023-08-02T10:17:36.262Z"
   },
   {
    "duration": 13,
    "start_time": "2023-08-02T10:17:39.451Z"
   },
   {
    "duration": 14,
    "start_time": "2023-08-02T10:18:49.463Z"
   },
   {
    "duration": 7,
    "start_time": "2023-08-02T10:18:54.111Z"
   },
   {
    "duration": 1600,
    "start_time": "2023-08-02T10:18:59.309Z"
   },
   {
    "duration": 3,
    "start_time": "2023-08-02T10:19:00.911Z"
   },
   {
    "duration": 296,
    "start_time": "2023-08-02T10:19:00.915Z"
   },
   {
    "duration": 14,
    "start_time": "2023-08-02T10:19:01.213Z"
   },
   {
    "duration": 272,
    "start_time": "2023-08-02T10:19:01.229Z"
   },
   {
    "duration": 14,
    "start_time": "2023-08-02T10:19:01.502Z"
   },
   {
    "duration": 290,
    "start_time": "2023-08-02T10:19:01.517Z"
   },
   {
    "duration": 13,
    "start_time": "2023-08-02T10:19:01.808Z"
   },
   {
    "duration": 77,
    "start_time": "2023-08-02T10:19:01.823Z"
   },
   {
    "duration": 3262,
    "start_time": "2023-08-02T10:19:01.901Z"
   },
   {
    "duration": 2995,
    "start_time": "2023-08-02T10:19:05.165Z"
   },
   {
    "duration": 3230,
    "start_time": "2023-08-02T10:19:08.162Z"
   },
   {
    "duration": 3,
    "start_time": "2023-08-02T10:19:11.399Z"
   },
   {
    "duration": 25,
    "start_time": "2023-08-02T10:19:11.405Z"
   },
   {
    "duration": 24,
    "start_time": "2023-08-02T10:19:11.432Z"
   },
   {
    "duration": 20,
    "start_time": "2023-08-02T10:19:11.458Z"
   },
   {
    "duration": 31,
    "start_time": "2023-08-02T10:19:11.480Z"
   },
   {
    "duration": 207,
    "start_time": "2023-08-02T10:19:11.513Z"
   },
   {
    "duration": 181,
    "start_time": "2023-08-02T10:19:11.722Z"
   },
   {
    "duration": 202,
    "start_time": "2023-08-02T10:19:11.905Z"
   },
   {
    "duration": 121,
    "start_time": "2023-08-02T10:19:12.109Z"
   },
   {
    "duration": 0,
    "start_time": "2023-08-02T10:19:12.232Z"
   },
   {
    "duration": 0,
    "start_time": "2023-08-02T10:19:12.233Z"
   },
   {
    "duration": 29,
    "start_time": "2023-08-02T10:19:49.055Z"
   },
   {
    "duration": 3,
    "start_time": "2023-08-02T10:19:51.324Z"
   },
   {
    "duration": 169,
    "start_time": "2023-08-02T10:19:53.197Z"
   },
   {
    "duration": 20,
    "start_time": "2023-08-02T10:34:40.133Z"
   },
   {
    "duration": 13,
    "start_time": "2023-08-02T10:39:52.054Z"
   },
   {
    "duration": 2209,
    "start_time": "2023-08-02T10:40:03.137Z"
   },
   {
    "duration": 3,
    "start_time": "2023-08-02T10:40:05.399Z"
   },
   {
    "duration": 243,
    "start_time": "2023-08-02T10:40:05.404Z"
   },
   {
    "duration": 14,
    "start_time": "2023-08-02T10:40:05.649Z"
   },
   {
    "duration": 125,
    "start_time": "2023-08-02T10:40:05.666Z"
   },
   {
    "duration": 17,
    "start_time": "2023-08-02T10:40:05.793Z"
   },
   {
    "duration": 137,
    "start_time": "2023-08-02T10:40:05.812Z"
   },
   {
    "duration": 17,
    "start_time": "2023-08-02T10:40:05.950Z"
   },
   {
    "duration": 10,
    "start_time": "2023-08-02T10:40:05.969Z"
   },
   {
    "duration": 3188,
    "start_time": "2023-08-02T10:40:05.981Z"
   },
   {
    "duration": 3023,
    "start_time": "2023-08-02T10:40:09.170Z"
   },
   {
    "duration": 3166,
    "start_time": "2023-08-02T10:40:12.195Z"
   },
   {
    "duration": 5,
    "start_time": "2023-08-02T10:40:15.362Z"
   },
   {
    "duration": 63,
    "start_time": "2023-08-02T10:40:15.369Z"
   },
   {
    "duration": 36,
    "start_time": "2023-08-02T10:40:15.434Z"
   },
   {
    "duration": 23,
    "start_time": "2023-08-02T10:40:15.472Z"
   },
   {
    "duration": 42,
    "start_time": "2023-08-02T10:40:15.496Z"
   },
   {
    "duration": 176,
    "start_time": "2023-08-02T10:40:15.540Z"
   },
   {
    "duration": 84,
    "start_time": "2023-08-02T10:40:15.718Z"
   },
   {
    "duration": 97,
    "start_time": "2023-08-02T10:40:15.804Z"
   },
   {
    "duration": 130,
    "start_time": "2023-08-02T10:40:15.904Z"
   },
   {
    "duration": 23,
    "start_time": "2023-08-02T10:40:16.036Z"
   },
   {
    "duration": 150,
    "start_time": "2023-08-02T10:40:16.061Z"
   },
   {
    "duration": 14,
    "start_time": "2023-08-02T10:45:22.010Z"
   },
   {
    "duration": 33,
    "start_time": "2023-08-02T10:45:35.516Z"
   },
   {
    "duration": 17,
    "start_time": "2023-08-02T10:57:15.054Z"
   },
   {
    "duration": 42,
    "start_time": "2023-08-02T10:59:14.016Z"
   },
   {
    "duration": 16,
    "start_time": "2023-08-02T11:00:07.619Z"
   },
   {
    "duration": 3,
    "start_time": "2023-08-02T11:00:34.446Z"
   },
   {
    "duration": 1366,
    "start_time": "2023-08-02T11:00:41.136Z"
   },
   {
    "duration": 3,
    "start_time": "2023-08-02T11:00:42.504Z"
   },
   {
    "duration": 144,
    "start_time": "2023-08-02T11:00:42.509Z"
   },
   {
    "duration": 13,
    "start_time": "2023-08-02T11:00:42.655Z"
   },
   {
    "duration": 149,
    "start_time": "2023-08-02T11:00:42.669Z"
   },
   {
    "duration": 13,
    "start_time": "2023-08-02T11:00:42.820Z"
   },
   {
    "duration": 150,
    "start_time": "2023-08-02T11:00:42.835Z"
   },
   {
    "duration": 19,
    "start_time": "2023-08-02T11:00:42.986Z"
   },
   {
    "duration": 4,
    "start_time": "2023-08-02T11:00:43.007Z"
   },
   {
    "duration": 3073,
    "start_time": "2023-08-02T11:00:43.014Z"
   },
   {
    "duration": 3094,
    "start_time": "2023-08-02T11:00:46.090Z"
   },
   {
    "duration": 3254,
    "start_time": "2023-08-02T11:00:49.186Z"
   },
   {
    "duration": 3,
    "start_time": "2023-08-02T11:00:52.442Z"
   },
   {
    "duration": 37,
    "start_time": "2023-08-02T11:00:52.447Z"
   },
   {
    "duration": 24,
    "start_time": "2023-08-02T11:00:52.486Z"
   },
   {
    "duration": 57,
    "start_time": "2023-08-02T11:00:52.511Z"
   },
   {
    "duration": 36,
    "start_time": "2023-08-02T11:00:52.570Z"
   },
   {
    "duration": 206,
    "start_time": "2023-08-02T11:00:52.609Z"
   },
   {
    "duration": 189,
    "start_time": "2023-08-02T11:00:52.818Z"
   },
   {
    "duration": 94,
    "start_time": "2023-08-02T11:00:53.010Z"
   },
   {
    "duration": 138,
    "start_time": "2023-08-02T11:00:53.105Z"
   },
   {
    "duration": 78,
    "start_time": "2023-08-02T11:00:53.245Z"
   },
   {
    "duration": 176,
    "start_time": "2023-08-02T11:00:53.325Z"
   },
   {
    "duration": 41,
    "start_time": "2023-08-02T11:14:25.409Z"
   },
   {
    "duration": 14,
    "start_time": "2023-08-02T11:15:12.998Z"
   },
   {
    "duration": 15,
    "start_time": "2023-08-02T11:15:21.435Z"
   },
   {
    "duration": 14,
    "start_time": "2023-08-02T11:16:01.100Z"
   },
   {
    "duration": 15,
    "start_time": "2023-08-02T11:16:04.495Z"
   },
   {
    "duration": 14,
    "start_time": "2023-08-02T11:45:25.411Z"
   },
   {
    "duration": 14,
    "start_time": "2023-08-02T11:48:56.923Z"
   },
   {
    "duration": 5544,
    "start_time": "2023-08-02T11:54:22.526Z"
   },
   {
    "duration": 7547,
    "start_time": "2023-08-02T11:55:03.779Z"
   },
   {
    "duration": 3,
    "start_time": "2023-08-02T11:55:18.166Z"
   },
   {
    "duration": 4067,
    "start_time": "2023-08-02T12:29:08.285Z"
   },
   {
    "duration": 13,
    "start_time": "2023-08-02T12:29:20.640Z"
   },
   {
    "duration": 20,
    "start_time": "2023-08-02T12:41:53.677Z"
   },
   {
    "duration": 1750,
    "start_time": "2023-08-02T12:42:19.117Z"
   },
   {
    "duration": 22,
    "start_time": "2023-08-02T12:42:29.122Z"
   },
   {
    "duration": 17,
    "start_time": "2023-08-02T12:43:04.120Z"
   },
   {
    "duration": 6,
    "start_time": "2023-08-02T12:55:51.147Z"
   },
   {
    "duration": 4,
    "start_time": "2023-08-02T12:56:08.851Z"
   },
   {
    "duration": 2193,
    "start_time": "2023-08-02T13:07:10.139Z"
   },
   {
    "duration": 8,
    "start_time": "2023-08-02T13:11:08.048Z"
   },
   {
    "duration": 6,
    "start_time": "2023-08-02T13:11:17.052Z"
   },
   {
    "duration": 7004,
    "start_time": "2023-08-02T13:14:28.466Z"
   },
   {
    "duration": 3236,
    "start_time": "2023-08-02T14:06:27.978Z"
   },
   {
    "duration": 2,
    "start_time": "2023-08-02T14:06:31.216Z"
   },
   {
    "duration": 179,
    "start_time": "2023-08-02T14:06:31.220Z"
   },
   {
    "duration": 15,
    "start_time": "2023-08-02T14:06:31.401Z"
   },
   {
    "duration": 163,
    "start_time": "2023-08-02T14:06:31.418Z"
   },
   {
    "duration": 17,
    "start_time": "2023-08-02T14:06:31.583Z"
   },
   {
    "duration": 168,
    "start_time": "2023-08-02T14:06:31.602Z"
   },
   {
    "duration": 22,
    "start_time": "2023-08-02T14:06:31.772Z"
   },
   {
    "duration": 11,
    "start_time": "2023-08-02T14:06:31.796Z"
   },
   {
    "duration": 4413,
    "start_time": "2023-08-02T14:06:31.810Z"
   },
   {
    "duration": 4350,
    "start_time": "2023-08-02T14:06:36.225Z"
   },
   {
    "duration": 4525,
    "start_time": "2023-08-02T14:06:40.577Z"
   },
   {
    "duration": 6,
    "start_time": "2023-08-02T14:06:45.104Z"
   },
   {
    "duration": 40,
    "start_time": "2023-08-02T14:06:45.112Z"
   },
   {
    "duration": 55,
    "start_time": "2023-08-02T14:06:45.155Z"
   },
   {
    "duration": 26,
    "start_time": "2023-08-02T14:06:45.212Z"
   },
   {
    "duration": 40,
    "start_time": "2023-08-02T14:06:45.240Z"
   },
   {
    "duration": 200,
    "start_time": "2023-08-02T14:06:45.288Z"
   },
   {
    "duration": 116,
    "start_time": "2023-08-02T14:06:45.491Z"
   },
   {
    "duration": 80,
    "start_time": "2023-08-02T14:06:45.612Z"
   },
   {
    "duration": 122,
    "start_time": "2023-08-02T14:06:45.694Z"
   },
   {
    "duration": 7,
    "start_time": "2023-08-02T14:06:45.817Z"
   },
   {
    "duration": 5514,
    "start_time": "2023-08-02T14:06:45.825Z"
   },
   {
    "duration": 9,
    "start_time": "2023-08-02T14:07:29.492Z"
   },
   {
    "duration": 36,
    "start_time": "2023-08-02T14:20:26.244Z"
   },
   {
    "duration": 2770,
    "start_time": "2023-08-02T14:20:36.955Z"
   },
   {
    "duration": 6,
    "start_time": "2023-08-02T14:20:39.727Z"
   },
   {
    "duration": 211,
    "start_time": "2023-08-02T14:20:39.734Z"
   },
   {
    "duration": 19,
    "start_time": "2023-08-02T14:20:39.947Z"
   },
   {
    "duration": 188,
    "start_time": "2023-08-02T14:20:39.969Z"
   },
   {
    "duration": 27,
    "start_time": "2023-08-02T14:20:40.158Z"
   },
   {
    "duration": 202,
    "start_time": "2023-08-02T14:20:40.187Z"
   },
   {
    "duration": 23,
    "start_time": "2023-08-02T14:20:40.391Z"
   },
   {
    "duration": 43,
    "start_time": "2023-08-02T14:20:40.424Z"
   },
   {
    "duration": 5849,
    "start_time": "2023-08-02T14:20:40.469Z"
   },
   {
    "duration": 4603,
    "start_time": "2023-08-02T14:20:46.322Z"
   },
   {
    "duration": 4827,
    "start_time": "2023-08-02T14:20:50.930Z"
   },
   {
    "duration": 6,
    "start_time": "2023-08-02T14:20:55.761Z"
   },
   {
    "duration": 55,
    "start_time": "2023-08-02T14:20:55.770Z"
   },
   {
    "duration": 33,
    "start_time": "2023-08-02T14:20:55.838Z"
   },
   {
    "duration": 25,
    "start_time": "2023-08-02T14:20:55.873Z"
   },
   {
    "duration": 141,
    "start_time": "2023-08-02T14:20:55.902Z"
   },
   {
    "duration": 85,
    "start_time": "2023-08-02T14:20:56.054Z"
   },
   {
    "duration": 161,
    "start_time": "2023-08-02T14:20:56.149Z"
   },
   {
    "duration": 51,
    "start_time": "2023-08-02T14:20:56.330Z"
   },
   {
    "duration": 54,
    "start_time": "2023-08-02T14:20:56.387Z"
   },
   {
    "duration": 9,
    "start_time": "2023-08-02T14:20:56.450Z"
   },
   {
    "duration": 64,
    "start_time": "2023-08-02T14:20:56.465Z"
   },
   {
    "duration": 201,
    "start_time": "2023-08-02T14:20:56.536Z"
   },
   {
    "duration": 6596,
    "start_time": "2023-08-02T14:21:12.379Z"
   },
   {
    "duration": 48,
    "start_time": "2023-08-03T08:01:19.355Z"
   },
   {
    "duration": 1636,
    "start_time": "2023-08-03T08:01:27.146Z"
   },
   {
    "duration": 2,
    "start_time": "2023-08-03T08:01:28.784Z"
   },
   {
    "duration": 519,
    "start_time": "2023-08-03T08:01:28.788Z"
   },
   {
    "duration": 14,
    "start_time": "2023-08-03T08:01:29.309Z"
   },
   {
    "duration": 557,
    "start_time": "2023-08-03T08:01:29.324Z"
   },
   {
    "duration": 15,
    "start_time": "2023-08-03T08:01:29.883Z"
   },
   {
    "duration": 528,
    "start_time": "2023-08-03T08:01:29.900Z"
   },
   {
    "duration": 14,
    "start_time": "2023-08-03T08:01:30.429Z"
   },
   {
    "duration": 32,
    "start_time": "2023-08-03T08:01:30.445Z"
   },
   {
    "duration": 3732,
    "start_time": "2023-08-03T08:01:30.480Z"
   },
   {
    "duration": 3350,
    "start_time": "2023-08-03T08:01:34.215Z"
   },
   {
    "duration": 3402,
    "start_time": "2023-08-03T08:01:37.566Z"
   },
   {
    "duration": 9,
    "start_time": "2023-08-03T08:01:40.969Z"
   },
   {
    "duration": 4,
    "start_time": "2023-08-03T08:01:40.980Z"
   },
   {
    "duration": 33,
    "start_time": "2023-08-03T08:01:40.985Z"
   },
   {
    "duration": 19,
    "start_time": "2023-08-03T08:01:41.019Z"
   },
   {
    "duration": 26,
    "start_time": "2023-08-03T08:01:41.040Z"
   },
   {
    "duration": 26,
    "start_time": "2023-08-03T08:01:41.068Z"
   },
   {
    "duration": 166,
    "start_time": "2023-08-03T08:01:41.098Z"
   },
   {
    "duration": 190,
    "start_time": "2023-08-03T08:01:41.271Z"
   },
   {
    "duration": 4,
    "start_time": "2023-08-03T08:01:41.467Z"
   },
   {
    "duration": 44,
    "start_time": "2023-08-03T08:01:41.559Z"
   },
   {
    "duration": 3,
    "start_time": "2023-08-03T08:01:41.605Z"
   },
   {
    "duration": 8,
    "start_time": "2023-08-03T08:01:41.610Z"
   },
   {
    "duration": 5934,
    "start_time": "2023-08-03T08:01:41.619Z"
   },
   {
    "duration": 1818,
    "start_time": "2023-08-03T08:02:24.241Z"
   },
   {
    "duration": 3,
    "start_time": "2023-08-03T08:02:26.061Z"
   },
   {
    "duration": 305,
    "start_time": "2023-08-03T08:02:26.066Z"
   },
   {
    "duration": 20,
    "start_time": "2023-08-03T08:02:26.373Z"
   },
   {
    "duration": 70,
    "start_time": "2023-08-03T08:02:26.396Z"
   },
   {
    "duration": 227,
    "start_time": "2023-08-03T08:02:26.468Z"
   },
   {
    "duration": 69,
    "start_time": "2023-08-03T08:02:26.697Z"
   },
   {
    "duration": 9,
    "start_time": "2023-08-03T08:02:26.768Z"
   },
   {
    "duration": 198,
    "start_time": "2023-08-03T08:02:26.779Z"
   },
   {
    "duration": 13,
    "start_time": "2023-08-03T08:02:26.979Z"
   },
   {
    "duration": 19,
    "start_time": "2023-08-03T08:02:26.994Z"
   },
   {
    "duration": 28,
    "start_time": "2023-08-03T08:02:27.015Z"
   },
   {
    "duration": 3343,
    "start_time": "2023-08-03T08:02:27.045Z"
   },
   {
    "duration": 3298,
    "start_time": "2023-08-03T08:02:30.390Z"
   },
   {
    "duration": 3373,
    "start_time": "2023-08-03T08:02:33.691Z"
   },
   {
    "duration": 11,
    "start_time": "2023-08-03T08:02:37.067Z"
   },
   {
    "duration": 30,
    "start_time": "2023-08-03T08:02:37.079Z"
   },
   {
    "duration": 23,
    "start_time": "2023-08-03T08:02:37.111Z"
   },
   {
    "duration": 17,
    "start_time": "2023-08-03T08:02:37.136Z"
   },
   {
    "duration": 18,
    "start_time": "2023-08-03T08:02:37.155Z"
   },
   {
    "duration": 16,
    "start_time": "2023-08-03T08:02:37.174Z"
   },
   {
    "duration": 167,
    "start_time": "2023-08-03T08:02:37.192Z"
   },
   {
    "duration": 104,
    "start_time": "2023-08-03T08:02:37.365Z"
   },
   {
    "duration": 89,
    "start_time": "2023-08-03T08:02:37.472Z"
   },
   {
    "duration": 123,
    "start_time": "2023-08-03T08:02:37.567Z"
   },
   {
    "duration": 3,
    "start_time": "2023-08-03T08:02:37.692Z"
   },
   {
    "duration": 17,
    "start_time": "2023-08-03T08:02:37.696Z"
   },
   {
    "duration": 4947,
    "start_time": "2023-08-03T08:02:37.715Z"
   },
   {
    "duration": 49,
    "start_time": "2023-08-03T08:03:15.109Z"
   },
   {
    "duration": 51,
    "start_time": "2023-08-03T08:03:34.057Z"
   },
   {
    "duration": 54,
    "start_time": "2023-08-03T08:03:45.227Z"
   },
   {
    "duration": 115,
    "start_time": "2023-08-03T08:05:32.124Z"
   },
   {
    "duration": 10,
    "start_time": "2023-08-03T08:07:00.101Z"
   },
   {
    "duration": 17,
    "start_time": "2023-08-03T08:07:07.321Z"
   },
   {
    "duration": 22,
    "start_time": "2023-08-03T08:07:15.515Z"
   },
   {
    "duration": 24,
    "start_time": "2023-08-03T08:07:26.328Z"
   },
   {
    "duration": 27,
    "start_time": "2023-08-03T08:08:13.537Z"
   },
   {
    "duration": 24,
    "start_time": "2023-08-03T08:08:21.998Z"
   },
   {
    "duration": 12,
    "start_time": "2023-08-03T08:09:20.671Z"
   },
   {
    "duration": 10,
    "start_time": "2023-08-03T08:09:25.966Z"
   },
   {
    "duration": 132,
    "start_time": "2023-08-03T08:09:34.829Z"
   },
   {
    "duration": 133,
    "start_time": "2023-08-03T08:09:37.327Z"
   },
   {
    "duration": 148,
    "start_time": "2023-08-03T08:09:52.852Z"
   },
   {
    "duration": 145,
    "start_time": "2023-08-03T08:10:01.050Z"
   },
   {
    "duration": 31,
    "start_time": "2023-08-03T08:12:26.485Z"
   },
   {
    "duration": 68,
    "start_time": "2023-08-03T08:13:01.431Z"
   },
   {
    "duration": 59,
    "start_time": "2023-08-03T08:13:14.320Z"
   },
   {
    "duration": 58,
    "start_time": "2023-08-03T08:13:25.713Z"
   },
   {
    "duration": 4,
    "start_time": "2023-08-03T08:15:14.877Z"
   },
   {
    "duration": 72,
    "start_time": "2023-08-03T08:18:01.906Z"
   },
   {
    "duration": 71,
    "start_time": "2023-08-03T08:18:12.577Z"
   },
   {
    "duration": 61,
    "start_time": "2023-08-03T08:18:48.350Z"
   },
   {
    "duration": 36,
    "start_time": "2023-08-03T09:03:17.051Z"
   },
   {
    "duration": 57,
    "start_time": "2023-08-03T09:03:36.254Z"
   },
   {
    "duration": 28,
    "start_time": "2023-08-03T09:04:19.343Z"
   },
   {
    "duration": 77,
    "start_time": "2023-08-03T09:04:21.305Z"
   },
   {
    "duration": 65,
    "start_time": "2023-08-03T09:04:25.670Z"
   },
   {
    "duration": 35,
    "start_time": "2023-08-03T09:04:37.003Z"
   },
   {
    "duration": 71,
    "start_time": "2023-08-03T09:04:55.296Z"
   },
   {
    "duration": 28,
    "start_time": "2023-08-03T09:04:57.712Z"
   },
   {
    "duration": 59,
    "start_time": "2023-08-03T09:04:59.013Z"
   },
   {
    "duration": 10,
    "start_time": "2023-08-03T09:07:03.488Z"
   },
   {
    "duration": 3,
    "start_time": "2023-08-03T09:07:07.684Z"
   },
   {
    "duration": 388,
    "start_time": "2023-08-03T09:07:10.941Z"
   },
   {
    "duration": 365,
    "start_time": "2023-08-03T09:08:01.484Z"
   },
   {
    "duration": 364,
    "start_time": "2023-08-03T09:08:09.209Z"
   },
   {
    "duration": 185,
    "start_time": "2023-08-03T09:11:48.786Z"
   },
   {
    "duration": 3,
    "start_time": "2023-08-03T09:11:53.710Z"
   },
   {
    "duration": 1452,
    "start_time": "2023-08-03T09:11:59.411Z"
   },
   {
    "duration": 3,
    "start_time": "2023-08-03T09:12:00.865Z"
   },
   {
    "duration": 180,
    "start_time": "2023-08-03T09:12:00.870Z"
   },
   {
    "duration": 20,
    "start_time": "2023-08-03T09:12:01.051Z"
   },
   {
    "duration": 40,
    "start_time": "2023-08-03T09:12:01.074Z"
   },
   {
    "duration": 99,
    "start_time": "2023-08-03T09:12:01.116Z"
   },
   {
    "duration": 96,
    "start_time": "2023-08-03T09:12:01.217Z"
   },
   {
    "duration": 79,
    "start_time": "2023-08-03T09:12:01.315Z"
   },
   {
    "duration": 95,
    "start_time": "2023-08-03T09:12:01.396Z"
   },
   {
    "duration": 145,
    "start_time": "2023-08-03T09:12:01.493Z"
   },
   {
    "duration": 23,
    "start_time": "2023-08-03T09:12:01.640Z"
   },
   {
    "duration": 26,
    "start_time": "2023-08-03T09:12:01.665Z"
   },
   {
    "duration": 62,
    "start_time": "2023-08-03T09:12:01.693Z"
   },
   {
    "duration": 65,
    "start_time": "2023-08-03T09:12:01.758Z"
   },
   {
    "duration": 41,
    "start_time": "2023-08-03T09:12:01.824Z"
   },
   {
    "duration": 69,
    "start_time": "2023-08-03T09:12:01.866Z"
   },
   {
    "duration": 170,
    "start_time": "2023-08-03T09:12:01.937Z"
   },
   {
    "duration": 14,
    "start_time": "2023-08-03T09:12:02.109Z"
   },
   {
    "duration": 58,
    "start_time": "2023-08-03T09:12:02.124Z"
   },
   {
    "duration": 80,
    "start_time": "2023-08-03T09:12:02.184Z"
   },
   {
    "duration": 107,
    "start_time": "2023-08-03T09:12:02.266Z"
   },
   {
    "duration": 60,
    "start_time": "2023-08-03T09:12:02.376Z"
   },
   {
    "duration": 85,
    "start_time": "2023-08-03T09:12:02.438Z"
   },
   {
    "duration": 29,
    "start_time": "2023-08-03T09:12:02.524Z"
   },
   {
    "duration": 47,
    "start_time": "2023-08-03T09:12:02.555Z"
   },
   {
    "duration": 4266,
    "start_time": "2023-08-03T09:12:02.604Z"
   },
   {
    "duration": 339,
    "start_time": "2023-08-03T09:12:06.873Z"
   },
   {
    "duration": 3277,
    "start_time": "2023-08-03T09:12:07.214Z"
   },
   {
    "duration": 348,
    "start_time": "2023-08-03T09:12:10.493Z"
   },
   {
    "duration": 3539,
    "start_time": "2023-08-03T09:12:10.843Z"
   },
   {
    "duration": 336,
    "start_time": "2023-08-03T09:12:14.384Z"
   },
   {
    "duration": 4,
    "start_time": "2023-08-03T09:12:14.722Z"
   },
   {
    "duration": 25,
    "start_time": "2023-08-03T09:12:14.728Z"
   },
   {
    "duration": 16,
    "start_time": "2023-08-03T09:12:14.758Z"
   },
   {
    "duration": 17,
    "start_time": "2023-08-03T09:12:14.776Z"
   },
   {
    "duration": 4,
    "start_time": "2023-08-03T09:12:14.795Z"
   },
   {
    "duration": 61,
    "start_time": "2023-08-03T09:12:14.800Z"
   },
   {
    "duration": 220,
    "start_time": "2023-08-03T09:12:14.863Z"
   },
   {
    "duration": 175,
    "start_time": "2023-08-03T09:12:15.085Z"
   },
   {
    "duration": 3,
    "start_time": "2023-08-03T09:12:15.262Z"
   },
   {
    "duration": 124,
    "start_time": "2023-08-03T09:12:15.270Z"
   },
   {
    "duration": 4,
    "start_time": "2023-08-03T09:12:15.395Z"
   },
   {
    "duration": 6,
    "start_time": "2023-08-03T09:12:15.401Z"
   },
   {
    "duration": 1774,
    "start_time": "2023-08-03T09:12:15.408Z"
   },
   {
    "duration": 5,
    "start_time": "2023-08-03T09:14:09.645Z"
   },
   {
    "duration": 25,
    "start_time": "2023-08-03T09:15:04.212Z"
   },
   {
    "duration": 13,
    "start_time": "2023-08-03T09:15:38.799Z"
   },
   {
    "duration": 15,
    "start_time": "2023-08-03T09:15:52.279Z"
   },
   {
    "duration": 12,
    "start_time": "2023-08-03T09:16:22.902Z"
   },
   {
    "duration": 15,
    "start_time": "2023-08-03T09:16:24.839Z"
   },
   {
    "duration": 15,
    "start_time": "2023-08-03T09:16:56.143Z"
   },
   {
    "duration": 17,
    "start_time": "2023-08-03T09:17:59.243Z"
   },
   {
    "duration": 26,
    "start_time": "2023-08-03T09:18:49.942Z"
   },
   {
    "duration": 15,
    "start_time": "2023-08-03T09:18:52.643Z"
   },
   {
    "duration": 4,
    "start_time": "2023-08-03T09:19:16.541Z"
   },
   {
    "duration": 13,
    "start_time": "2023-08-03T09:19:18.198Z"
   },
   {
    "duration": 16,
    "start_time": "2023-08-03T09:19:22.586Z"
   },
   {
    "duration": 13,
    "start_time": "2023-08-03T09:19:25.375Z"
   },
   {
    "duration": 23,
    "start_time": "2023-08-03T09:19:27.578Z"
   },
   {
    "duration": 13,
    "start_time": "2023-08-03T09:19:29.702Z"
   },
   {
    "duration": 1467,
    "start_time": "2023-08-03T09:24:16.391Z"
   },
   {
    "duration": 3,
    "start_time": "2023-08-03T09:24:17.860Z"
   },
   {
    "duration": 29,
    "start_time": "2023-08-03T09:24:17.865Z"
   },
   {
    "duration": 174,
    "start_time": "2023-08-03T09:24:17.896Z"
   },
   {
    "duration": 18,
    "start_time": "2023-08-03T09:24:18.073Z"
   },
   {
    "duration": 11,
    "start_time": "2023-08-03T09:24:18.093Z"
   },
   {
    "duration": 93,
    "start_time": "2023-08-03T09:24:18.105Z"
   },
   {
    "duration": 73,
    "start_time": "2023-08-03T09:24:18.200Z"
   },
   {
    "duration": 32,
    "start_time": "2023-08-03T09:24:18.275Z"
   },
   {
    "duration": 104,
    "start_time": "2023-08-03T09:24:18.309Z"
   },
   {
    "duration": 134,
    "start_time": "2023-08-03T09:24:18.414Z"
   },
   {
    "duration": 24,
    "start_time": "2023-08-03T09:24:18.551Z"
   },
   {
    "duration": 13,
    "start_time": "2023-08-03T09:24:18.578Z"
   },
   {
    "duration": 77,
    "start_time": "2023-08-03T09:24:18.595Z"
   },
   {
    "duration": 87,
    "start_time": "2023-08-03T09:24:18.674Z"
   },
   {
    "duration": 43,
    "start_time": "2023-08-03T09:24:18.763Z"
   },
   {
    "duration": 80,
    "start_time": "2023-08-03T09:24:18.808Z"
   },
   {
    "duration": 140,
    "start_time": "2023-08-03T09:24:18.890Z"
   },
   {
    "duration": 27,
    "start_time": "2023-08-03T09:24:19.032Z"
   },
   {
    "duration": 12,
    "start_time": "2023-08-03T09:24:19.061Z"
   },
   {
    "duration": 65,
    "start_time": "2023-08-03T09:24:19.075Z"
   },
   {
    "duration": 83,
    "start_time": "2023-08-03T09:24:19.142Z"
   },
   {
    "duration": 59,
    "start_time": "2023-08-03T09:24:19.227Z"
   },
   {
    "duration": 96,
    "start_time": "2023-08-03T09:24:19.288Z"
   },
   {
    "duration": 5,
    "start_time": "2023-08-03T09:24:19.386Z"
   },
   {
    "duration": 7,
    "start_time": "2023-08-03T09:24:19.393Z"
   },
   {
    "duration": 4757,
    "start_time": "2023-08-03T09:24:19.402Z"
   },
   {
    "duration": 632,
    "start_time": "2023-08-03T09:24:24.162Z"
   },
   {
    "duration": 5582,
    "start_time": "2023-08-03T09:24:24.796Z"
   },
   {
    "duration": 333,
    "start_time": "2023-08-03T09:24:30.380Z"
   },
   {
    "duration": 3628,
    "start_time": "2023-08-03T09:24:30.715Z"
   },
   {
    "duration": 343,
    "start_time": "2023-08-03T09:24:34.344Z"
   },
   {
    "duration": 4,
    "start_time": "2023-08-03T09:24:34.689Z"
   },
   {
    "duration": 20,
    "start_time": "2023-08-03T09:24:34.694Z"
   },
   {
    "duration": 15,
    "start_time": "2023-08-03T09:24:34.715Z"
   },
   {
    "duration": 37,
    "start_time": "2023-08-03T09:24:34.731Z"
   },
   {
    "duration": 5,
    "start_time": "2023-08-03T09:24:34.770Z"
   },
   {
    "duration": 85,
    "start_time": "2023-08-03T09:24:34.777Z"
   },
   {
    "duration": 206,
    "start_time": "2023-08-03T09:24:34.865Z"
   },
   {
    "duration": 98,
    "start_time": "2023-08-03T09:24:35.073Z"
   },
   {
    "duration": 125,
    "start_time": "2023-08-03T09:24:35.262Z"
   },
   {
    "duration": 3,
    "start_time": "2023-08-03T09:24:35.389Z"
   },
   {
    "duration": 11,
    "start_time": "2023-08-03T09:24:35.393Z"
   },
   {
    "duration": 1776,
    "start_time": "2023-08-03T09:24:35.406Z"
   },
   {
    "duration": 115,
    "start_time": "2023-08-03T09:54:49.102Z"
   },
   {
    "duration": 119,
    "start_time": "2023-08-03T09:54:53.108Z"
   },
   {
    "duration": 18,
    "start_time": "2023-08-03T09:55:02.074Z"
   },
   {
    "duration": 113,
    "start_time": "2023-08-03T09:57:38.110Z"
   },
   {
    "duration": 14,
    "start_time": "2023-08-03T09:57:46.928Z"
   },
   {
    "duration": 15,
    "start_time": "2023-08-03T09:58:11.881Z"
   },
   {
    "duration": 212,
    "start_time": "2023-08-03T10:01:26.069Z"
   },
   {
    "duration": 124,
    "start_time": "2023-08-03T10:01:42.819Z"
   },
   {
    "duration": 128,
    "start_time": "2023-08-03T10:02:19.315Z"
   },
   {
    "duration": 186,
    "start_time": "2023-08-03T10:02:26.452Z"
   },
   {
    "duration": 13,
    "start_time": "2023-08-03T10:02:39.786Z"
   },
   {
    "duration": 132,
    "start_time": "2023-08-03T10:11:07.368Z"
   },
   {
    "duration": 3,
    "start_time": "2023-08-03T10:13:03.999Z"
   },
   {
    "duration": 4654,
    "start_time": "2023-08-03T10:13:07.008Z"
   },
   {
    "duration": 1116,
    "start_time": "2023-08-04T06:28:52.917Z"
   },
   {
    "duration": 2,
    "start_time": "2023-08-04T06:28:54.035Z"
   },
   {
    "duration": 11,
    "start_time": "2023-08-04T06:28:54.039Z"
   },
   {
    "duration": 225,
    "start_time": "2023-08-04T06:28:54.052Z"
   },
   {
    "duration": 12,
    "start_time": "2023-08-04T06:28:54.279Z"
   },
   {
    "duration": 13,
    "start_time": "2023-08-04T06:28:54.292Z"
   },
   {
    "duration": 41,
    "start_time": "2023-08-04T06:28:54.306Z"
   },
   {
    "duration": 42,
    "start_time": "2023-08-04T06:28:54.349Z"
   },
   {
    "duration": 36,
    "start_time": "2023-08-04T06:28:54.393Z"
   },
   {
    "duration": 44,
    "start_time": "2023-08-04T06:28:54.431Z"
   },
   {
    "duration": 150,
    "start_time": "2023-08-04T06:28:54.476Z"
   },
   {
    "duration": 12,
    "start_time": "2023-08-04T06:28:54.627Z"
   },
   {
    "duration": 14,
    "start_time": "2023-08-04T06:28:54.640Z"
   },
   {
    "duration": 37,
    "start_time": "2023-08-04T06:28:54.656Z"
   },
   {
    "duration": 56,
    "start_time": "2023-08-04T06:28:54.695Z"
   },
   {
    "duration": 22,
    "start_time": "2023-08-04T06:28:54.752Z"
   },
   {
    "duration": 55,
    "start_time": "2023-08-04T06:28:54.776Z"
   },
   {
    "duration": 176,
    "start_time": "2023-08-04T06:28:54.832Z"
   },
   {
    "duration": 13,
    "start_time": "2023-08-04T06:28:55.010Z"
   },
   {
    "duration": 10,
    "start_time": "2023-08-04T06:28:55.024Z"
   },
   {
    "duration": 53,
    "start_time": "2023-08-04T06:28:55.036Z"
   },
   {
    "duration": 41,
    "start_time": "2023-08-04T06:28:55.091Z"
   },
   {
    "duration": 43,
    "start_time": "2023-08-04T06:28:55.134Z"
   },
   {
    "duration": 54,
    "start_time": "2023-08-04T06:28:55.179Z"
   },
   {
    "duration": 4,
    "start_time": "2023-08-04T06:28:55.234Z"
   },
   {
    "duration": 18,
    "start_time": "2023-08-04T06:28:55.239Z"
   },
   {
    "duration": 2894,
    "start_time": "2023-08-04T06:28:55.259Z"
   },
   {
    "duration": 297,
    "start_time": "2023-08-04T06:28:58.156Z"
   },
   {
    "duration": 2780,
    "start_time": "2023-08-04T06:28:58.454Z"
   },
   {
    "duration": 377,
    "start_time": "2023-08-04T06:29:01.235Z"
   },
   {
    "duration": 2832,
    "start_time": "2023-08-04T06:29:01.613Z"
   },
   {
    "duration": 288,
    "start_time": "2023-08-04T06:29:04.447Z"
   },
   {
    "duration": 3,
    "start_time": "2023-08-04T06:29:04.737Z"
   },
   {
    "duration": 26,
    "start_time": "2023-08-04T06:29:04.741Z"
   },
   {
    "duration": 12,
    "start_time": "2023-08-04T06:29:04.768Z"
   },
   {
    "duration": 14,
    "start_time": "2023-08-04T06:29:04.781Z"
   },
   {
    "duration": 3,
    "start_time": "2023-08-04T06:29:04.796Z"
   },
   {
    "duration": 32,
    "start_time": "2023-08-04T06:29:04.800Z"
   },
   {
    "duration": 188,
    "start_time": "2023-08-04T06:29:04.833Z"
   },
   {
    "duration": 115,
    "start_time": "2023-08-04T06:29:05.024Z"
   },
   {
    "duration": 86,
    "start_time": "2023-08-04T06:29:05.142Z"
   },
   {
    "duration": 102,
    "start_time": "2023-08-04T06:29:05.229Z"
   },
   {
    "duration": 8,
    "start_time": "2023-08-04T06:29:05.332Z"
   },
   {
    "duration": 9,
    "start_time": "2023-08-04T06:29:11.609Z"
   },
   {
    "duration": 105,
    "start_time": "2023-08-04T06:29:17.175Z"
   },
   {
    "duration": 14,
    "start_time": "2023-08-04T06:29:19.440Z"
   },
   {
    "duration": 5,
    "start_time": "2023-08-04T06:29:23.506Z"
   },
   {
    "duration": 3,
    "start_time": "2023-08-04T06:32:16.113Z"
   },
   {
    "duration": 3,
    "start_time": "2023-08-04T06:32:19.608Z"
   },
   {
    "duration": 3,
    "start_time": "2023-08-04T06:32:25.107Z"
   },
   {
    "duration": 8,
    "start_time": "2023-08-04T06:37:56.627Z"
   },
   {
    "duration": 3,
    "start_time": "2023-08-04T06:38:02.032Z"
   },
   {
    "duration": 4,
    "start_time": "2023-08-04T06:38:03.247Z"
   },
   {
    "duration": 6,
    "start_time": "2023-08-04T06:38:06.757Z"
   },
   {
    "duration": 11,
    "start_time": "2023-08-04T06:38:24.563Z"
   },
   {
    "duration": 3,
    "start_time": "2023-08-04T06:38:26.542Z"
   },
   {
    "duration": 4,
    "start_time": "2023-08-04T06:38:27.292Z"
   },
   {
    "duration": 4,
    "start_time": "2023-08-04T06:38:30.789Z"
   },
   {
    "duration": 5,
    "start_time": "2023-08-04T06:38:36.162Z"
   },
   {
    "duration": 5,
    "start_time": "2023-08-04T06:38:36.372Z"
   },
   {
    "duration": 8,
    "start_time": "2023-08-04T06:38:52.258Z"
   },
   {
    "duration": 3,
    "start_time": "2023-08-04T06:38:58.213Z"
   },
   {
    "duration": 5,
    "start_time": "2023-08-04T06:39:01.093Z"
   },
   {
    "duration": 4,
    "start_time": "2023-08-04T06:39:20.415Z"
   },
   {
    "duration": 5,
    "start_time": "2023-08-04T06:39:23.700Z"
   },
   {
    "duration": 2,
    "start_time": "2023-08-04T06:39:31.907Z"
   },
   {
    "duration": 4,
    "start_time": "2023-08-04T06:39:34.291Z"
   },
   {
    "duration": 2,
    "start_time": "2023-08-04T06:39:43.247Z"
   },
   {
    "duration": 4,
    "start_time": "2023-08-04T06:39:45.901Z"
   },
   {
    "duration": 3,
    "start_time": "2023-08-04T06:39:52.951Z"
   },
   {
    "duration": 4,
    "start_time": "2023-08-04T06:40:02.506Z"
   },
   {
    "duration": 6,
    "start_time": "2023-08-04T06:41:02.477Z"
   },
   {
    "duration": 7,
    "start_time": "2023-08-04T06:41:03.287Z"
   },
   {
    "duration": 7,
    "start_time": "2023-08-04T06:41:03.572Z"
   },
   {
    "duration": 6,
    "start_time": "2023-08-04T06:41:03.768Z"
   },
   {
    "duration": 6,
    "start_time": "2023-08-04T06:41:03.963Z"
   },
   {
    "duration": 7,
    "start_time": "2023-08-04T06:41:04.114Z"
   },
   {
    "duration": 7,
    "start_time": "2023-08-04T06:41:04.263Z"
   },
   {
    "duration": 7,
    "start_time": "2023-08-04T06:41:04.383Z"
   },
   {
    "duration": 7,
    "start_time": "2023-08-04T06:41:04.882Z"
   },
   {
    "duration": 6,
    "start_time": "2023-08-04T06:41:04.967Z"
   },
   {
    "duration": 7,
    "start_time": "2023-08-04T06:41:05.052Z"
   },
   {
    "duration": 7,
    "start_time": "2023-08-04T06:41:05.134Z"
   },
   {
    "duration": 6,
    "start_time": "2023-08-04T06:41:05.208Z"
   },
   {
    "duration": 6,
    "start_time": "2023-08-04T06:41:05.709Z"
   },
   {
    "duration": 6,
    "start_time": "2023-08-04T06:41:05.838Z"
   },
   {
    "duration": 6,
    "start_time": "2023-08-04T06:41:06.048Z"
   },
   {
    "duration": 6,
    "start_time": "2023-08-04T06:41:06.213Z"
   },
   {
    "duration": 6,
    "start_time": "2023-08-04T06:41:06.348Z"
   },
   {
    "duration": 6,
    "start_time": "2023-08-04T06:41:06.467Z"
   },
   {
    "duration": 6,
    "start_time": "2023-08-04T06:41:06.588Z"
   },
   {
    "duration": 7,
    "start_time": "2023-08-04T06:41:06.662Z"
   },
   {
    "duration": 8,
    "start_time": "2023-08-04T06:41:06.782Z"
   },
   {
    "duration": 7,
    "start_time": "2023-08-04T06:41:06.887Z"
   },
   {
    "duration": 7,
    "start_time": "2023-08-04T06:41:07.188Z"
   },
   {
    "duration": 7,
    "start_time": "2023-08-04T06:41:07.307Z"
   },
   {
    "duration": 7,
    "start_time": "2023-08-04T06:41:07.412Z"
   },
   {
    "duration": 6,
    "start_time": "2023-08-04T06:41:07.697Z"
   },
   {
    "duration": 7,
    "start_time": "2023-08-04T06:41:08.072Z"
   },
   {
    "duration": 6,
    "start_time": "2023-08-04T06:41:08.267Z"
   },
   {
    "duration": 6,
    "start_time": "2023-08-04T06:41:08.403Z"
   },
   {
    "duration": 7,
    "start_time": "2023-08-04T06:41:08.567Z"
   },
   {
    "duration": 7,
    "start_time": "2023-08-04T06:41:08.702Z"
   },
   {
    "duration": 6,
    "start_time": "2023-08-04T06:41:08.807Z"
   },
   {
    "duration": 6,
    "start_time": "2023-08-04T06:41:08.896Z"
   },
   {
    "duration": 7,
    "start_time": "2023-08-04T06:41:09.032Z"
   },
   {
    "duration": 6,
    "start_time": "2023-08-04T06:41:09.152Z"
   },
   {
    "duration": 6,
    "start_time": "2023-08-04T06:41:09.288Z"
   },
   {
    "duration": 7,
    "start_time": "2023-08-04T06:41:09.407Z"
   },
   {
    "duration": 7,
    "start_time": "2023-08-04T06:41:09.528Z"
   },
   {
    "duration": 7,
    "start_time": "2023-08-04T06:41:09.752Z"
   },
   {
    "duration": 7,
    "start_time": "2023-08-04T06:41:09.917Z"
   },
   {
    "duration": 6,
    "start_time": "2023-08-04T06:41:10.067Z"
   },
   {
    "duration": 7,
    "start_time": "2023-08-04T06:41:10.217Z"
   },
   {
    "duration": 6,
    "start_time": "2023-08-04T06:41:10.353Z"
   },
   {
    "duration": 6,
    "start_time": "2023-08-04T06:41:10.547Z"
   },
   {
    "duration": 6,
    "start_time": "2023-08-04T06:41:10.712Z"
   },
   {
    "duration": 6,
    "start_time": "2023-08-04T06:41:10.863Z"
   },
   {
    "duration": 7,
    "start_time": "2023-08-04T06:41:10.997Z"
   },
   {
    "duration": 7,
    "start_time": "2023-08-04T06:41:11.282Z"
   },
   {
    "duration": 6,
    "start_time": "2023-08-04T06:41:11.402Z"
   },
   {
    "duration": 6,
    "start_time": "2023-08-04T06:41:11.582Z"
   },
   {
    "duration": 7,
    "start_time": "2023-08-04T06:41:11.702Z"
   },
   {
    "duration": 7,
    "start_time": "2023-08-04T06:41:11.840Z"
   },
   {
    "duration": 7,
    "start_time": "2023-08-04T06:41:12.000Z"
   },
   {
    "duration": 6,
    "start_time": "2023-08-04T06:41:12.156Z"
   },
   {
    "duration": 7,
    "start_time": "2023-08-04T06:41:12.336Z"
   },
   {
    "duration": 6,
    "start_time": "2023-08-04T06:41:12.483Z"
   },
   {
    "duration": 7,
    "start_time": "2023-08-04T06:41:12.684Z"
   },
   {
    "duration": 7,
    "start_time": "2023-08-04T06:41:12.857Z"
   },
   {
    "duration": 7,
    "start_time": "2023-08-04T06:41:13.008Z"
   },
   {
    "duration": 6,
    "start_time": "2023-08-04T06:41:13.278Z"
   },
   {
    "duration": 7,
    "start_time": "2023-08-04T06:41:13.517Z"
   },
   {
    "duration": 6,
    "start_time": "2023-08-04T06:41:13.668Z"
   },
   {
    "duration": 7,
    "start_time": "2023-08-04T06:41:13.802Z"
   },
   {
    "duration": 6,
    "start_time": "2023-08-04T06:41:13.908Z"
   },
   {
    "duration": 6,
    "start_time": "2023-08-04T06:41:14.042Z"
   },
   {
    "duration": 6,
    "start_time": "2023-08-04T06:41:14.193Z"
   },
   {
    "duration": 7,
    "start_time": "2023-08-04T06:41:14.327Z"
   },
   {
    "duration": 6,
    "start_time": "2023-08-04T06:41:14.405Z"
   },
   {
    "duration": 7,
    "start_time": "2023-08-04T06:41:14.718Z"
   },
   {
    "duration": 7,
    "start_time": "2023-08-04T06:41:14.987Z"
   },
   {
    "duration": 7,
    "start_time": "2023-08-04T06:41:15.123Z"
   },
   {
    "duration": 7,
    "start_time": "2023-08-04T06:41:15.272Z"
   },
   {
    "duration": 7,
    "start_time": "2023-08-04T06:41:15.633Z"
   },
   {
    "duration": 6,
    "start_time": "2023-08-04T06:41:15.722Z"
   },
   {
    "duration": 7,
    "start_time": "2023-08-04T06:41:15.932Z"
   },
   {
    "duration": 8,
    "start_time": "2023-08-04T06:41:16.067Z"
   },
   {
    "duration": 7,
    "start_time": "2023-08-04T06:41:16.263Z"
   },
   {
    "duration": 7,
    "start_time": "2023-08-04T06:41:16.443Z"
   },
   {
    "duration": 8,
    "start_time": "2023-08-04T06:41:16.967Z"
   },
   {
    "duration": 8,
    "start_time": "2023-08-04T06:41:17.147Z"
   },
   {
    "duration": 7,
    "start_time": "2023-08-04T06:41:17.372Z"
   },
   {
    "duration": 8,
    "start_time": "2023-08-04T06:41:17.777Z"
   },
   {
    "duration": 8,
    "start_time": "2023-08-04T06:41:17.958Z"
   },
   {
    "duration": 7,
    "start_time": "2023-08-04T06:41:18.153Z"
   },
   {
    "duration": 7,
    "start_time": "2023-08-04T06:41:18.302Z"
   },
   {
    "duration": 6,
    "start_time": "2023-08-04T06:41:18.453Z"
   },
   {
    "duration": 7,
    "start_time": "2023-08-04T06:41:18.587Z"
   },
   {
    "duration": 6,
    "start_time": "2023-08-04T06:41:18.708Z"
   },
   {
    "duration": 6,
    "start_time": "2023-08-04T06:41:18.842Z"
   },
   {
    "duration": 7,
    "start_time": "2023-08-04T06:41:18.977Z"
   },
   {
    "duration": 6,
    "start_time": "2023-08-04T06:41:19.128Z"
   },
   {
    "duration": 7,
    "start_time": "2023-08-04T06:41:19.277Z"
   },
   {
    "duration": 7,
    "start_time": "2023-08-04T06:41:19.397Z"
   },
   {
    "duration": 8,
    "start_time": "2023-08-04T06:41:19.532Z"
   },
   {
    "duration": 8,
    "start_time": "2023-08-04T06:41:19.847Z"
   },
   {
    "duration": 8,
    "start_time": "2023-08-04T06:41:20.027Z"
   },
   {
    "duration": 8,
    "start_time": "2023-08-04T06:41:20.177Z"
   },
   {
    "duration": 7,
    "start_time": "2023-08-04T06:41:20.328Z"
   },
   {
    "duration": 7,
    "start_time": "2023-08-04T06:41:20.508Z"
   },
   {
    "duration": 9,
    "start_time": "2023-08-04T06:41:20.657Z"
   },
   {
    "duration": 9,
    "start_time": "2023-08-04T06:41:20.822Z"
   },
   {
    "duration": 7,
    "start_time": "2023-08-04T06:41:20.928Z"
   },
   {
    "duration": 7,
    "start_time": "2023-08-04T06:41:21.213Z"
   },
   {
    "duration": 10,
    "start_time": "2023-08-04T06:41:47.433Z"
   },
   {
    "duration": 10,
    "start_time": "2023-08-04T06:41:52.818Z"
   },
   {
    "duration": 11,
    "start_time": "2023-08-04T06:41:55.666Z"
   },
   {
    "duration": 10,
    "start_time": "2023-08-04T06:42:00.782Z"
   },
   {
    "duration": 12,
    "start_time": "2023-08-04T06:42:03.166Z"
   },
   {
    "duration": 22,
    "start_time": "2023-08-04T07:49:44.285Z"
   },
   {
    "duration": 1309,
    "start_time": "2023-08-04T08:37:27.634Z"
   },
   {
    "duration": 3,
    "start_time": "2023-08-04T08:37:28.944Z"
   },
   {
    "duration": 12,
    "start_time": "2023-08-04T08:37:28.949Z"
   },
   {
    "duration": 363,
    "start_time": "2023-08-04T08:37:28.962Z"
   },
   {
    "duration": 12,
    "start_time": "2023-08-04T08:37:29.326Z"
   },
   {
    "duration": 14,
    "start_time": "2023-08-04T08:37:29.340Z"
   },
   {
    "duration": 49,
    "start_time": "2023-08-04T08:37:29.355Z"
   },
   {
    "duration": 55,
    "start_time": "2023-08-04T08:37:29.406Z"
   },
   {
    "duration": 29,
    "start_time": "2023-08-04T08:37:29.463Z"
   },
   {
    "duration": 49,
    "start_time": "2023-08-04T08:37:29.494Z"
   },
   {
    "duration": 180,
    "start_time": "2023-08-04T08:37:29.545Z"
   },
   {
    "duration": 11,
    "start_time": "2023-08-04T08:37:29.726Z"
   },
   {
    "duration": 13,
    "start_time": "2023-08-04T08:37:29.738Z"
   },
   {
    "duration": 45,
    "start_time": "2023-08-04T08:37:29.752Z"
   },
   {
    "duration": 49,
    "start_time": "2023-08-04T08:37:29.798Z"
   },
   {
    "duration": 19,
    "start_time": "2023-08-04T08:37:29.848Z"
   },
   {
    "duration": 51,
    "start_time": "2023-08-04T08:37:29.869Z"
   },
   {
    "duration": 179,
    "start_time": "2023-08-04T08:37:29.922Z"
   },
   {
    "duration": 11,
    "start_time": "2023-08-04T08:37:30.102Z"
   },
   {
    "duration": 38,
    "start_time": "2023-08-04T08:37:30.114Z"
   },
   {
    "duration": 94,
    "start_time": "2023-08-04T08:37:30.154Z"
   },
   {
    "duration": 47,
    "start_time": "2023-08-04T08:37:30.249Z"
   },
   {
    "duration": 43,
    "start_time": "2023-08-04T08:37:30.297Z"
   },
   {
    "duration": 48,
    "start_time": "2023-08-04T08:37:30.342Z"
   },
   {
    "duration": 39,
    "start_time": "2023-08-04T08:37:30.392Z"
   },
   {
    "duration": 83,
    "start_time": "2023-08-04T08:37:30.433Z"
   },
   {
    "duration": 3089,
    "start_time": "2023-08-04T08:37:30.517Z"
   },
   {
    "duration": 340,
    "start_time": "2023-08-04T08:37:33.611Z"
   },
   {
    "duration": 2883,
    "start_time": "2023-08-04T08:37:33.953Z"
   },
   {
    "duration": 371,
    "start_time": "2023-08-04T08:37:36.838Z"
   },
   {
    "duration": 3019,
    "start_time": "2023-08-04T08:37:37.219Z"
   },
   {
    "duration": 284,
    "start_time": "2023-08-04T08:37:40.240Z"
   },
   {
    "duration": 3,
    "start_time": "2023-08-04T08:37:40.525Z"
   },
   {
    "duration": 13,
    "start_time": "2023-08-04T08:37:40.530Z"
   },
   {
    "duration": 11,
    "start_time": "2023-08-04T08:37:40.545Z"
   },
   {
    "duration": 13,
    "start_time": "2023-08-04T08:37:40.558Z"
   },
   {
    "duration": 16,
    "start_time": "2023-08-04T08:37:40.573Z"
   },
   {
    "duration": 4,
    "start_time": "2023-08-04T08:37:40.591Z"
   },
   {
    "duration": 38,
    "start_time": "2023-08-04T08:37:40.597Z"
   },
   {
    "duration": 89,
    "start_time": "2023-08-04T08:37:40.637Z"
   },
   {
    "duration": 213,
    "start_time": "2023-08-04T08:37:40.728Z"
   },
   {
    "duration": 87,
    "start_time": "2023-08-04T08:37:40.942Z"
   },
   {
    "duration": 16,
    "start_time": "2023-08-04T08:37:41.120Z"
   },
   {
    "duration": 32,
    "start_time": "2023-08-04T08:37:41.137Z"
   },
   {
    "duration": 123,
    "start_time": "2023-08-04T08:37:41.170Z"
   },
   {
    "duration": 3723,
    "start_time": "2023-08-04T08:39:40.686Z"
   },
   {
    "duration": 9,
    "start_time": "2023-08-04T08:39:51.499Z"
   },
   {
    "duration": 5,
    "start_time": "2023-08-04T08:39:58.871Z"
   },
   {
    "duration": 4,
    "start_time": "2023-08-04T08:40:07.210Z"
   },
   {
    "duration": 123,
    "start_time": "2023-08-04T08:41:39.912Z"
   },
   {
    "duration": 17,
    "start_time": "2023-08-04T08:41:54.152Z"
   },
   {
    "duration": 10,
    "start_time": "2023-08-04T08:41:59.733Z"
   },
   {
    "duration": 3,
    "start_time": "2023-08-04T08:46:40.326Z"
   },
   {
    "duration": 21,
    "start_time": "2023-08-04T08:46:40.331Z"
   },
   {
    "duration": 21,
    "start_time": "2023-08-04T08:46:40.354Z"
   },
   {
    "duration": 144,
    "start_time": "2023-08-04T08:46:40.377Z"
   },
   {
    "duration": 12,
    "start_time": "2023-08-04T08:46:40.522Z"
   },
   {
    "duration": 19,
    "start_time": "2023-08-04T08:46:40.535Z"
   },
   {
    "duration": 60,
    "start_time": "2023-08-04T08:46:40.555Z"
   },
   {
    "duration": 41,
    "start_time": "2023-08-04T08:46:40.616Z"
   },
   {
    "duration": 38,
    "start_time": "2023-08-04T08:46:40.660Z"
   },
   {
    "duration": 38,
    "start_time": "2023-08-04T08:46:40.700Z"
   },
   {
    "duration": 111,
    "start_time": "2023-08-04T08:46:40.739Z"
   },
   {
    "duration": 11,
    "start_time": "2023-08-04T08:46:40.851Z"
   },
   {
    "duration": 23,
    "start_time": "2023-08-04T08:46:40.864Z"
   },
   {
    "duration": 51,
    "start_time": "2023-08-04T08:46:40.888Z"
   },
   {
    "duration": 39,
    "start_time": "2023-08-04T08:46:40.941Z"
   },
   {
    "duration": 20,
    "start_time": "2023-08-04T08:46:40.981Z"
   },
   {
    "duration": 42,
    "start_time": "2023-08-04T08:46:41.003Z"
   },
   {
    "duration": 114,
    "start_time": "2023-08-04T08:46:41.047Z"
   },
   {
    "duration": 14,
    "start_time": "2023-08-04T08:46:41.162Z"
   },
   {
    "duration": 10,
    "start_time": "2023-08-04T08:46:41.178Z"
   },
   {
    "duration": 52,
    "start_time": "2023-08-04T08:46:41.189Z"
   },
   {
    "duration": 40,
    "start_time": "2023-08-04T08:46:41.242Z"
   },
   {
    "duration": 18,
    "start_time": "2023-08-04T08:46:41.284Z"
   },
   {
    "duration": 36,
    "start_time": "2023-08-04T08:46:41.319Z"
   },
   {
    "duration": 4,
    "start_time": "2023-08-04T08:46:41.357Z"
   },
   {
    "duration": 11,
    "start_time": "2023-08-04T08:46:41.362Z"
   },
   {
    "duration": 2773,
    "start_time": "2023-08-04T08:46:41.375Z"
   },
   {
    "duration": 297,
    "start_time": "2023-08-04T08:46:44.150Z"
   },
   {
    "duration": 2777,
    "start_time": "2023-08-04T08:46:44.449Z"
   },
   {
    "duration": 376,
    "start_time": "2023-08-04T08:46:47.228Z"
   },
   {
    "duration": 2935,
    "start_time": "2023-08-04T08:46:47.619Z"
   },
   {
    "duration": 288,
    "start_time": "2023-08-04T08:46:50.555Z"
   },
   {
    "duration": 2,
    "start_time": "2023-08-04T08:46:50.845Z"
   },
   {
    "duration": 13,
    "start_time": "2023-08-04T08:46:50.849Z"
   },
   {
    "duration": 24,
    "start_time": "2023-08-04T08:46:50.864Z"
   },
   {
    "duration": 27,
    "start_time": "2023-08-04T08:46:50.889Z"
   },
   {
    "duration": 13,
    "start_time": "2023-08-04T08:46:50.917Z"
   },
   {
    "duration": 19,
    "start_time": "2023-08-04T08:46:50.931Z"
   },
   {
    "duration": 172,
    "start_time": "2023-08-04T08:46:50.951Z"
   },
   {
    "duration": 199,
    "start_time": "2023-08-04T08:46:51.124Z"
   },
   {
    "duration": 100,
    "start_time": "2023-08-04T08:46:51.327Z"
   },
   {
    "duration": 8,
    "start_time": "2023-08-04T08:46:51.429Z"
   },
   {
    "duration": 7,
    "start_time": "2023-08-04T08:46:51.438Z"
   },
   {
    "duration": 3,
    "start_time": "2023-08-04T08:47:35.255Z"
   },
   {
    "duration": 10,
    "start_time": "2023-08-04T08:47:41.509Z"
   },
   {
    "duration": 3,
    "start_time": "2023-08-04T08:47:45.109Z"
   },
   {
    "duration": 4,
    "start_time": "2023-08-04T08:47:58.880Z"
   },
   {
    "duration": 5,
    "start_time": "2023-08-04T08:48:02.180Z"
   },
   {
    "duration": 6,
    "start_time": "2023-08-04T08:48:14.995Z"
   },
   {
    "duration": 6,
    "start_time": "2023-08-04T08:48:20.755Z"
   },
   {
    "duration": 5,
    "start_time": "2023-08-04T08:48:26.396Z"
   },
   {
    "duration": 6,
    "start_time": "2023-08-04T08:48:32.157Z"
   },
   {
    "duration": 5,
    "start_time": "2023-08-04T08:48:37.467Z"
   },
   {
    "duration": 3,
    "start_time": "2023-08-04T08:49:24.015Z"
   },
   {
    "duration": 5,
    "start_time": "2023-08-04T08:49:30.749Z"
   },
   {
    "duration": 4,
    "start_time": "2023-08-04T08:49:35.655Z"
   },
   {
    "duration": 6,
    "start_time": "2023-08-04T08:49:42.643Z"
   },
   {
    "duration": 4,
    "start_time": "2023-08-04T08:49:46.394Z"
   },
   {
    "duration": 4,
    "start_time": "2023-08-04T08:49:49.903Z"
   },
   {
    "duration": 4,
    "start_time": "2023-08-04T08:49:57.404Z"
   },
   {
    "duration": 5,
    "start_time": "2023-08-04T08:50:04.814Z"
   },
   {
    "duration": 881,
    "start_time": "2023-08-04T08:50:45.178Z"
   },
   {
    "duration": 8,
    "start_time": "2023-08-04T08:50:49.032Z"
   },
   {
    "duration": 13,
    "start_time": "2023-08-04T08:50:50.127Z"
   },
   {
    "duration": 2315,
    "start_time": "2023-08-04T09:00:17.970Z"
   },
   {
    "duration": 3,
    "start_time": "2023-08-04T09:00:20.286Z"
   },
   {
    "duration": 7,
    "start_time": "2023-08-04T09:00:20.291Z"
   },
   {
    "duration": 149,
    "start_time": "2023-08-04T09:00:20.300Z"
   },
   {
    "duration": 14,
    "start_time": "2023-08-04T09:00:20.451Z"
   },
   {
    "duration": 10,
    "start_time": "2023-08-04T09:00:20.467Z"
   },
   {
    "duration": 71,
    "start_time": "2023-08-04T09:00:20.479Z"
   },
   {
    "duration": 51,
    "start_time": "2023-08-04T09:00:20.552Z"
   },
   {
    "duration": 36,
    "start_time": "2023-08-04T09:00:20.605Z"
   },
   {
    "duration": 46,
    "start_time": "2023-08-04T09:00:20.644Z"
   },
   {
    "duration": 134,
    "start_time": "2023-08-04T09:00:20.692Z"
   },
   {
    "duration": 13,
    "start_time": "2023-08-04T09:00:20.827Z"
   },
   {
    "duration": 24,
    "start_time": "2023-08-04T09:00:20.841Z"
   },
   {
    "duration": 51,
    "start_time": "2023-08-04T09:00:20.866Z"
   },
   {
    "duration": 49,
    "start_time": "2023-08-04T09:00:20.918Z"
   },
   {
    "duration": 73,
    "start_time": "2023-08-04T09:00:20.969Z"
   },
   {
    "duration": 45,
    "start_time": "2023-08-04T09:00:21.043Z"
   },
   {
    "duration": 127,
    "start_time": "2023-08-04T09:00:21.089Z"
   },
   {
    "duration": 16,
    "start_time": "2023-08-04T09:00:21.217Z"
   },
   {
    "duration": 15,
    "start_time": "2023-08-04T09:00:21.234Z"
   },
   {
    "duration": 46,
    "start_time": "2023-08-04T09:00:21.250Z"
   },
   {
    "duration": 63,
    "start_time": "2023-08-04T09:00:21.298Z"
   },
   {
    "duration": 30,
    "start_time": "2023-08-04T09:00:21.362Z"
   },
   {
    "duration": 60,
    "start_time": "2023-08-04T09:00:21.393Z"
   },
   {
    "duration": 5,
    "start_time": "2023-08-04T09:00:21.454Z"
   },
   {
    "duration": 15,
    "start_time": "2023-08-04T09:00:21.460Z"
   },
   {
    "duration": 3758,
    "start_time": "2023-08-04T09:00:21.476Z"
   },
   {
    "duration": 316,
    "start_time": "2023-08-04T09:00:25.237Z"
   },
   {
    "duration": 2899,
    "start_time": "2023-08-04T09:00:25.555Z"
   },
   {
    "duration": 368,
    "start_time": "2023-08-04T09:00:28.456Z"
   },
   {
    "duration": 3124,
    "start_time": "2023-08-04T09:00:28.825Z"
   },
   {
    "duration": 282,
    "start_time": "2023-08-04T09:00:31.950Z"
   },
   {
    "duration": 3,
    "start_time": "2023-08-04T09:00:32.233Z"
   },
   {
    "duration": 26,
    "start_time": "2023-08-04T09:00:32.238Z"
   },
   {
    "duration": 23,
    "start_time": "2023-08-04T09:00:32.266Z"
   },
   {
    "duration": 33,
    "start_time": "2023-08-04T09:00:32.290Z"
   },
   {
    "duration": 6,
    "start_time": "2023-08-04T09:00:32.324Z"
   },
   {
    "duration": 30,
    "start_time": "2023-08-04T09:00:32.331Z"
   },
   {
    "duration": 175,
    "start_time": "2023-08-04T09:00:32.363Z"
   },
   {
    "duration": 208,
    "start_time": "2023-08-04T09:00:32.540Z"
   },
   {
    "duration": 78,
    "start_time": "2023-08-04T09:00:32.751Z"
   },
   {
    "duration": 115,
    "start_time": "2023-08-04T09:00:32.830Z"
   },
   {
    "duration": 13,
    "start_time": "2023-08-04T09:00:32.946Z"
   },
   {
    "duration": 118,
    "start_time": "2023-08-04T09:00:32.961Z"
   },
   {
    "duration": 3828,
    "start_time": "2023-08-04T09:01:03.857Z"
   },
   {
    "duration": 29,
    "start_time": "2023-08-04T09:01:13.156Z"
   },
   {
    "duration": 47,
    "start_time": "2023-08-04T09:31:59.432Z"
   },
   {
    "duration": 0,
    "start_time": "2023-08-04T09:31:59.481Z"
   },
   {
    "duration": 1081,
    "start_time": "2023-08-04T09:32:10.962Z"
   },
   {
    "duration": 3,
    "start_time": "2023-08-04T09:32:12.045Z"
   },
   {
    "duration": 7,
    "start_time": "2023-08-04T09:32:12.050Z"
   },
   {
    "duration": 145,
    "start_time": "2023-08-04T09:32:12.059Z"
   },
   {
    "duration": 20,
    "start_time": "2023-08-04T09:32:12.206Z"
   },
   {
    "duration": 10,
    "start_time": "2023-08-04T09:32:12.227Z"
   },
   {
    "duration": 41,
    "start_time": "2023-08-04T09:32:12.238Z"
   },
   {
    "duration": 68,
    "start_time": "2023-08-04T09:32:12.281Z"
   },
   {
    "duration": 21,
    "start_time": "2023-08-04T09:32:12.351Z"
   },
   {
    "duration": 62,
    "start_time": "2023-08-04T09:32:12.374Z"
   },
   {
    "duration": 108,
    "start_time": "2023-08-04T09:32:12.437Z"
   },
   {
    "duration": 12,
    "start_time": "2023-08-04T09:32:12.547Z"
   },
   {
    "duration": 9,
    "start_time": "2023-08-04T09:32:12.561Z"
   },
   {
    "duration": 59,
    "start_time": "2023-08-04T09:32:12.573Z"
   },
   {
    "duration": 44,
    "start_time": "2023-08-04T09:32:12.633Z"
   },
   {
    "duration": 41,
    "start_time": "2023-08-04T09:32:12.679Z"
   },
   {
    "duration": 40,
    "start_time": "2023-08-04T09:32:12.722Z"
   },
   {
    "duration": 111,
    "start_time": "2023-08-04T09:32:12.764Z"
   },
   {
    "duration": 12,
    "start_time": "2023-08-04T09:32:12.877Z"
   },
   {
    "duration": 9,
    "start_time": "2023-08-04T09:32:12.891Z"
   },
   {
    "duration": 54,
    "start_time": "2023-08-04T09:32:12.902Z"
   },
   {
    "duration": 41,
    "start_time": "2023-08-04T09:32:12.958Z"
   },
   {
    "duration": 32,
    "start_time": "2023-08-04T09:32:13.001Z"
   },
   {
    "duration": 46,
    "start_time": "2023-08-04T09:32:13.034Z"
   },
   {
    "duration": 4,
    "start_time": "2023-08-04T09:32:13.081Z"
   },
   {
    "duration": 11,
    "start_time": "2023-08-04T09:32:13.086Z"
   },
   {
    "duration": 2956,
    "start_time": "2023-08-04T09:32:13.098Z"
   },
   {
    "duration": 303,
    "start_time": "2023-08-04T09:32:16.055Z"
   },
   {
    "duration": 2893,
    "start_time": "2023-08-04T09:32:16.359Z"
   },
   {
    "duration": 385,
    "start_time": "2023-08-04T09:32:19.253Z"
   },
   {
    "duration": 3268,
    "start_time": "2023-08-04T09:32:19.639Z"
   },
   {
    "duration": 325,
    "start_time": "2023-08-04T09:32:22.909Z"
   },
   {
    "duration": 3,
    "start_time": "2023-08-04T09:32:23.237Z"
   },
   {
    "duration": 54,
    "start_time": "2023-08-04T09:32:23.242Z"
   },
   {
    "duration": 13,
    "start_time": "2023-08-04T09:32:23.298Z"
   },
   {
    "duration": 17,
    "start_time": "2023-08-04T09:32:23.313Z"
   },
   {
    "duration": 3,
    "start_time": "2023-08-04T09:32:23.332Z"
   },
   {
    "duration": 38,
    "start_time": "2023-08-04T09:32:23.337Z"
   },
   {
    "duration": 158,
    "start_time": "2023-08-04T09:32:23.377Z"
   },
   {
    "duration": 202,
    "start_time": "2023-08-04T09:32:23.536Z"
   },
   {
    "duration": 178,
    "start_time": "2023-08-04T09:32:23.742Z"
   },
   {
    "duration": 8,
    "start_time": "2023-08-04T09:32:23.922Z"
   },
   {
    "duration": 26,
    "start_time": "2023-08-04T09:32:23.932Z"
   },
   {
    "duration": 28,
    "start_time": "2023-08-04T09:32:23.960Z"
   },
   {
    "duration": 24,
    "start_time": "2023-08-04T09:32:23.990Z"
   },
   {
    "duration": 10,
    "start_time": "2023-08-04T09:32:53.383Z"
   },
   {
    "duration": 5,
    "start_time": "2023-08-04T09:32:58.627Z"
   },
   {
    "duration": 4,
    "start_time": "2023-08-04T09:33:03.082Z"
   },
   {
    "duration": 109,
    "start_time": "2023-08-04T09:33:18.562Z"
   },
   {
    "duration": 9,
    "start_time": "2023-08-04T09:33:45.967Z"
   },
   {
    "duration": 5,
    "start_time": "2023-08-04T09:33:53.197Z"
   },
   {
    "duration": 4,
    "start_time": "2023-08-04T09:33:54.338Z"
   },
   {
    "duration": 1350,
    "start_time": "2023-08-04T09:33:56.857Z"
   },
   {
    "duration": 3,
    "start_time": "2023-08-04T09:34:19.192Z"
   },
   {
    "duration": 5,
    "start_time": "2023-08-04T09:34:57.378Z"
   },
   {
    "duration": 4,
    "start_time": "2023-08-04T09:34:59.973Z"
   },
   {
    "duration": 1105,
    "start_time": "2023-08-04T09:35:01.548Z"
   },
   {
    "duration": 3936,
    "start_time": "2023-08-04T09:37:20.352Z"
   },
   {
    "duration": 4,
    "start_time": "2023-08-04T09:37:47.834Z"
   },
   {
    "duration": 5,
    "start_time": "2023-08-04T09:37:48.555Z"
   },
   {
    "duration": 1086,
    "start_time": "2023-08-04T09:37:49.319Z"
   },
   {
    "duration": 1098,
    "start_time": "2023-08-04T09:37:59.309Z"
   },
   {
    "duration": 1106,
    "start_time": "2023-08-04T09:38:04.307Z"
   },
   {
    "duration": 3,
    "start_time": "2023-08-04T09:38:56.859Z"
   },
   {
    "duration": 6,
    "start_time": "2023-08-04T09:39:19.660Z"
   },
   {
    "duration": 6,
    "start_time": "2023-08-04T09:39:22.107Z"
   },
   {
    "duration": 3899,
    "start_time": "2023-08-04T09:39:40.499Z"
   },
   {
    "duration": 3990,
    "start_time": "2023-08-04T09:39:52.364Z"
   },
   {
    "duration": 3691,
    "start_time": "2023-08-04T09:40:08.453Z"
   },
   {
    "duration": 3781,
    "start_time": "2023-08-04T09:40:26.299Z"
   },
   {
    "duration": 1142,
    "start_time": "2023-08-04T09:41:20.428Z"
   },
   {
    "duration": 3,
    "start_time": "2023-08-04T09:41:21.572Z"
   },
   {
    "duration": 28,
    "start_time": "2023-08-04T09:41:21.577Z"
   },
   {
    "duration": 155,
    "start_time": "2023-08-04T09:41:21.608Z"
   },
   {
    "duration": 13,
    "start_time": "2023-08-04T09:41:21.764Z"
   },
   {
    "duration": 39,
    "start_time": "2023-08-04T09:41:21.779Z"
   },
   {
    "duration": 50,
    "start_time": "2023-08-04T09:41:21.820Z"
   },
   {
    "duration": 42,
    "start_time": "2023-08-04T09:41:21.872Z"
   },
   {
    "duration": 38,
    "start_time": "2023-08-04T09:41:21.916Z"
   },
   {
    "duration": 54,
    "start_time": "2023-08-04T09:41:21.957Z"
   },
   {
    "duration": 136,
    "start_time": "2023-08-04T09:41:22.012Z"
   },
   {
    "duration": 12,
    "start_time": "2023-08-04T09:41:22.149Z"
   },
   {
    "duration": 31,
    "start_time": "2023-08-04T09:41:22.163Z"
   },
   {
    "duration": 63,
    "start_time": "2023-08-04T09:41:22.195Z"
   },
   {
    "duration": 45,
    "start_time": "2023-08-04T09:41:22.259Z"
   },
   {
    "duration": 33,
    "start_time": "2023-08-04T09:41:22.306Z"
   },
   {
    "duration": 38,
    "start_time": "2023-08-04T09:41:22.340Z"
   },
   {
    "duration": 126,
    "start_time": "2023-08-04T09:41:22.379Z"
   },
   {
    "duration": 14,
    "start_time": "2023-08-04T09:41:22.506Z"
   },
   {
    "duration": 15,
    "start_time": "2023-08-04T09:41:22.521Z"
   },
   {
    "duration": 55,
    "start_time": "2023-08-04T09:41:22.537Z"
   },
   {
    "duration": 45,
    "start_time": "2023-08-04T09:41:22.593Z"
   },
   {
    "duration": 52,
    "start_time": "2023-08-04T09:41:22.639Z"
   },
   {
    "duration": 63,
    "start_time": "2023-08-04T09:41:22.692Z"
   },
   {
    "duration": 4,
    "start_time": "2023-08-04T09:41:22.756Z"
   },
   {
    "duration": 35,
    "start_time": "2023-08-04T09:41:22.762Z"
   },
   {
    "duration": 3062,
    "start_time": "2023-08-04T09:41:22.798Z"
   },
   {
    "duration": 314,
    "start_time": "2023-08-04T09:41:25.862Z"
   },
   {
    "duration": 2759,
    "start_time": "2023-08-04T09:41:26.177Z"
   },
   {
    "duration": 384,
    "start_time": "2023-08-04T09:41:28.938Z"
   },
   {
    "duration": 3023,
    "start_time": "2023-08-04T09:41:29.323Z"
   },
   {
    "duration": 290,
    "start_time": "2023-08-04T09:41:32.347Z"
   },
   {
    "duration": 3,
    "start_time": "2023-08-04T09:41:32.639Z"
   },
   {
    "duration": 23,
    "start_time": "2023-08-04T09:41:32.643Z"
   },
   {
    "duration": 25,
    "start_time": "2023-08-04T09:41:32.667Z"
   },
   {
    "duration": 55,
    "start_time": "2023-08-04T09:41:32.693Z"
   },
   {
    "duration": 24,
    "start_time": "2023-08-04T09:41:32.749Z"
   },
   {
    "duration": 41,
    "start_time": "2023-08-04T09:41:32.774Z"
   },
   {
    "duration": 111,
    "start_time": "2023-08-04T09:41:32.816Z"
   },
   {
    "duration": 200,
    "start_time": "2023-08-04T09:41:32.928Z"
   },
   {
    "duration": 195,
    "start_time": "2023-08-04T09:41:33.130Z"
   },
   {
    "duration": 2,
    "start_time": "2023-08-04T09:41:33.327Z"
   },
   {
    "duration": 31,
    "start_time": "2023-08-04T09:41:33.330Z"
   },
   {
    "duration": 3758,
    "start_time": "2023-08-04T09:41:33.362Z"
   },
   {
    "duration": 3634,
    "start_time": "2023-08-04T09:42:49.065Z"
   },
   {
    "duration": 3769,
    "start_time": "2023-08-04T09:43:34.695Z"
   },
   {
    "duration": 1084,
    "start_time": "2023-08-04T09:43:52.255Z"
   },
   {
    "duration": 3,
    "start_time": "2023-08-04T09:43:53.340Z"
   },
   {
    "duration": 59,
    "start_time": "2023-08-04T09:43:53.344Z"
   },
   {
    "duration": 164,
    "start_time": "2023-08-04T09:43:53.405Z"
   },
   {
    "duration": 13,
    "start_time": "2023-08-04T09:43:53.571Z"
   },
   {
    "duration": 33,
    "start_time": "2023-08-04T09:43:53.585Z"
   },
   {
    "duration": 54,
    "start_time": "2023-08-04T09:43:53.620Z"
   },
   {
    "duration": 45,
    "start_time": "2023-08-04T09:43:53.676Z"
   },
   {
    "duration": 38,
    "start_time": "2023-08-04T09:43:53.723Z"
   },
   {
    "duration": 40,
    "start_time": "2023-08-04T09:43:53.763Z"
   },
   {
    "duration": 109,
    "start_time": "2023-08-04T09:43:53.805Z"
   },
   {
    "duration": 14,
    "start_time": "2023-08-04T09:43:53.916Z"
   },
   {
    "duration": 8,
    "start_time": "2023-08-04T09:43:53.931Z"
   },
   {
    "duration": 36,
    "start_time": "2023-08-04T09:43:53.942Z"
   },
   {
    "duration": 63,
    "start_time": "2023-08-04T09:43:53.979Z"
   },
   {
    "duration": 22,
    "start_time": "2023-08-04T09:43:54.043Z"
   },
   {
    "duration": 38,
    "start_time": "2023-08-04T09:43:54.067Z"
   },
   {
    "duration": 112,
    "start_time": "2023-08-04T09:43:54.120Z"
   },
   {
    "duration": 11,
    "start_time": "2023-08-04T09:43:54.233Z"
   },
   {
    "duration": 8,
    "start_time": "2023-08-04T09:43:54.246Z"
   },
   {
    "duration": 40,
    "start_time": "2023-08-04T09:43:54.255Z"
   },
   {
    "duration": 56,
    "start_time": "2023-08-04T09:43:54.296Z"
   },
   {
    "duration": 21,
    "start_time": "2023-08-04T09:43:54.354Z"
   },
   {
    "duration": 54,
    "start_time": "2023-08-04T09:43:54.376Z"
   },
   {
    "duration": 3,
    "start_time": "2023-08-04T09:43:54.432Z"
   },
   {
    "duration": 22,
    "start_time": "2023-08-04T09:43:54.437Z"
   },
   {
    "duration": 2900,
    "start_time": "2023-08-04T09:43:54.460Z"
   },
   {
    "duration": 323,
    "start_time": "2023-08-04T09:43:57.362Z"
   },
   {
    "duration": 2755,
    "start_time": "2023-08-04T09:43:57.686Z"
   },
   {
    "duration": 371,
    "start_time": "2023-08-04T09:44:00.443Z"
   },
   {
    "duration": 3102,
    "start_time": "2023-08-04T09:44:00.820Z"
   },
   {
    "duration": 298,
    "start_time": "2023-08-04T09:44:03.924Z"
   },
   {
    "duration": 3,
    "start_time": "2023-08-04T09:44:04.223Z"
   },
   {
    "duration": 17,
    "start_time": "2023-08-04T09:44:04.227Z"
   },
   {
    "duration": 10,
    "start_time": "2023-08-04T09:44:04.246Z"
   },
   {
    "duration": 16,
    "start_time": "2023-08-04T09:44:04.257Z"
   },
   {
    "duration": 3,
    "start_time": "2023-08-04T09:44:04.274Z"
   },
   {
    "duration": 43,
    "start_time": "2023-08-04T09:44:04.279Z"
   },
   {
    "duration": 103,
    "start_time": "2023-08-04T09:44:04.324Z"
   },
   {
    "duration": 210,
    "start_time": "2023-08-04T09:44:04.431Z"
   },
   {
    "duration": 174,
    "start_time": "2023-08-04T09:44:04.647Z"
   },
   {
    "duration": 7,
    "start_time": "2023-08-04T09:44:04.822Z"
   },
   {
    "duration": 9,
    "start_time": "2023-08-04T09:44:04.830Z"
   },
   {
    "duration": 3804,
    "start_time": "2023-08-04T09:44:04.841Z"
   },
   {
    "duration": 3794,
    "start_time": "2023-08-04T09:49:16.167Z"
   },
   {
    "duration": 3750,
    "start_time": "2023-08-04T09:49:23.638Z"
   },
   {
    "duration": 1706,
    "start_time": "2023-08-04T10:15:58.057Z"
   },
   {
    "duration": 3,
    "start_time": "2023-08-04T10:15:59.766Z"
   },
   {
    "duration": 10,
    "start_time": "2023-08-04T10:15:59.770Z"
   },
   {
    "duration": 543,
    "start_time": "2023-08-04T10:15:59.782Z"
   },
   {
    "duration": 15,
    "start_time": "2023-08-04T10:16:00.327Z"
   },
   {
    "duration": 26,
    "start_time": "2023-08-04T10:16:00.343Z"
   },
   {
    "duration": 76,
    "start_time": "2023-08-04T10:16:00.371Z"
   },
   {
    "duration": 63,
    "start_time": "2023-08-04T10:16:00.448Z"
   },
   {
    "duration": 54,
    "start_time": "2023-08-04T10:16:00.513Z"
   },
   {
    "duration": 60,
    "start_time": "2023-08-04T10:16:00.569Z"
   },
   {
    "duration": 634,
    "start_time": "2023-08-04T10:16:00.632Z"
   },
   {
    "duration": 16,
    "start_time": "2023-08-04T10:16:01.268Z"
   },
   {
    "duration": 87,
    "start_time": "2023-08-04T10:16:01.285Z"
   },
   {
    "duration": 113,
    "start_time": "2023-08-04T10:16:01.375Z"
   },
   {
    "duration": 125,
    "start_time": "2023-08-04T10:16:01.490Z"
   },
   {
    "duration": 114,
    "start_time": "2023-08-04T10:16:01.617Z"
   },
   {
    "duration": 156,
    "start_time": "2023-08-04T10:16:01.733Z"
   },
   {
    "duration": 617,
    "start_time": "2023-08-04T10:16:01.890Z"
   },
   {
    "duration": 14,
    "start_time": "2023-08-04T10:16:02.509Z"
   },
   {
    "duration": 31,
    "start_time": "2023-08-04T10:16:02.525Z"
   },
   {
    "duration": 53,
    "start_time": "2023-08-04T10:16:02.557Z"
   },
   {
    "duration": 75,
    "start_time": "2023-08-04T10:16:02.612Z"
   },
   {
    "duration": 27,
    "start_time": "2023-08-04T10:16:02.688Z"
   },
   {
    "duration": 75,
    "start_time": "2023-08-04T10:16:02.717Z"
   },
   {
    "duration": 5,
    "start_time": "2023-08-04T10:16:02.794Z"
   },
   {
    "duration": 45,
    "start_time": "2023-08-04T10:16:02.801Z"
   },
   {
    "duration": 3454,
    "start_time": "2023-08-04T10:16:02.848Z"
   },
   {
    "duration": 367,
    "start_time": "2023-08-04T10:16:06.303Z"
   },
   {
    "duration": 3900,
    "start_time": "2023-08-04T10:16:06.672Z"
   },
   {
    "duration": 597,
    "start_time": "2023-08-04T10:16:10.574Z"
   },
   {
    "duration": 3855,
    "start_time": "2023-08-04T10:16:11.173Z"
   },
   {
    "duration": 376,
    "start_time": "2023-08-04T10:16:15.030Z"
   },
   {
    "duration": 4,
    "start_time": "2023-08-04T10:16:15.409Z"
   },
   {
    "duration": 32,
    "start_time": "2023-08-04T10:16:15.415Z"
   },
   {
    "duration": 18,
    "start_time": "2023-08-04T10:16:15.449Z"
   },
   {
    "duration": 23,
    "start_time": "2023-08-04T10:16:15.469Z"
   },
   {
    "duration": 5,
    "start_time": "2023-08-04T10:16:15.494Z"
   },
   {
    "duration": 65,
    "start_time": "2023-08-04T10:16:15.502Z"
   },
   {
    "duration": 298,
    "start_time": "2023-08-04T10:16:15.569Z"
   },
   {
    "duration": 104,
    "start_time": "2023-08-04T10:16:15.870Z"
   },
   {
    "duration": 98,
    "start_time": "2023-08-04T10:16:15.979Z"
   },
   {
    "duration": 4,
    "start_time": "2023-08-04T10:16:16.168Z"
   },
   {
    "duration": 6,
    "start_time": "2023-08-04T10:16:16.174Z"
   },
   {
    "duration": 5144,
    "start_time": "2023-08-04T10:16:16.181Z"
   },
   {
    "duration": 154,
    "start_time": "2023-08-04T10:22:41.389Z"
   }
  ],
  "kernelspec": {
   "display_name": "Python 3 (ipykernel)",
   "language": "python",
   "name": "python3"
  },
  "language_info": {
   "codemirror_mode": {
    "name": "ipython",
    "version": 3
   },
   "file_extension": ".py",
   "mimetype": "text/x-python",
   "name": "python",
   "nbconvert_exporter": "python",
   "pygments_lexer": "ipython3",
   "version": "3.10.9"
  },
  "toc": {
   "base_numbering": 1,
   "nav_menu": {},
   "number_sections": true,
   "sideBar": true,
   "skip_h1_title": true,
   "title_cell": "Table of Contents",
   "title_sidebar": "Contents",
   "toc_cell": false,
   "toc_position": {},
   "toc_section_display": true,
   "toc_window_display": true
  },
  "varInspector": {
   "cols": {
    "lenName": 16,
    "lenType": 16,
    "lenVar": 40
   },
   "kernels_config": {
    "python": {
     "delete_cmd_postfix": "",
     "delete_cmd_prefix": "del ",
     "library": "var_list.py",
     "varRefreshCmd": "print(var_dic_list())"
    },
    "r": {
     "delete_cmd_postfix": ") ",
     "delete_cmd_prefix": "rm(",
     "library": "var_list.r",
     "varRefreshCmd": "cat(var_dic_list()) "
    }
   },
   "types_to_exclude": [
    "module",
    "function",
    "builtin_function_or_method",
    "instance",
    "_Feature"
   ],
   "window_display": false
  }
 },
 "nbformat": 4,
 "nbformat_minor": 2
}
