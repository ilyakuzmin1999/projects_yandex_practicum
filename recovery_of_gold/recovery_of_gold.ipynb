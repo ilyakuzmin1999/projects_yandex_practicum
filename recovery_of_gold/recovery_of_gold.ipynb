{
 "cells": [
  {
   "cell_type": "markdown",
   "metadata": {
    "toc": true
   },
   "source": [
    "<h1>Содержание<span class=\"tocSkip\"></span></h1>\n",
    "<div class=\"toc\"><ul class=\"toc-item\"><li><span><a href=\"#Подготовка-данных\" data-toc-modified-id=\"Подготовка-данных-1\"><span class=\"toc-item-num\">1&nbsp;&nbsp;</span>Подготовка данных</a></span><ul class=\"toc-item\"><li><span><a href=\"#Выгрузка-данных\" data-toc-modified-id=\"Выгрузка-данных-1.1\"><span class=\"toc-item-num\">1.1&nbsp;&nbsp;</span>Выгрузка данных</a></span></li><li><span><a href=\"#Предоработка-данных\" data-toc-modified-id=\"Предоработка-данных-1.2\"><span class=\"toc-item-num\">1.2&nbsp;&nbsp;</span>Предоработка данных</a></span></li></ul></li><li><span><a href=\"#Анализ-данных\" data-toc-modified-id=\"Анализ-данных-2\"><span class=\"toc-item-num\">2&nbsp;&nbsp;</span>Анализ данных</a></span></li><li><span><a href=\"#Модель\" data-toc-modified-id=\"Модель-3\"><span class=\"toc-item-num\">3&nbsp;&nbsp;</span>Модель</a></span><ul class=\"toc-item\"><li><span><a href=\"#Функция-расчета-метрики\" data-toc-modified-id=\"Функция-расчета-метрики-3.1\"><span class=\"toc-item-num\">3.1&nbsp;&nbsp;</span>Функция расчета метрики</a></span></li><li><span><a href=\"#Функция-обработки-выборок\" data-toc-modified-id=\"Функция-обработки-выборок-3.2\"><span class=\"toc-item-num\">3.2&nbsp;&nbsp;</span>Функция обработки выборок</a></span></li><li><span><a href=\"#Модель-градиентного-бустинга\" data-toc-modified-id=\"Модель-градиентного-бустинга-3.3\"><span class=\"toc-item-num\">3.3&nbsp;&nbsp;</span>Модель градиентного бустинга</a></span></li><li><span><a href=\"#Модель-линейной-регрессии\" data-toc-modified-id=\"Модель-линейной-регрессии-3.4\"><span class=\"toc-item-num\">3.4&nbsp;&nbsp;</span>Модель линейной регрессии</a></span></li><li><span><a href=\"#Модель-дерево-решений\" data-toc-modified-id=\"Модель-дерево-решений-3.5\"><span class=\"toc-item-num\">3.5&nbsp;&nbsp;</span>Модель дерево решений</a></span></li><li><span><a href=\"#Модель-случайного-леса\" data-toc-modified-id=\"Модель-случайного-леса-3.6\"><span class=\"toc-item-num\">3.6&nbsp;&nbsp;</span>Модель случайного леса</a></span></li><li><span><a href=\"#Выводы\" data-toc-modified-id=\"Выводы-3.7\"><span class=\"toc-item-num\">3.7&nbsp;&nbsp;</span>Выводы</a></span></li></ul></li><li><span><a href=\"#Проверка-на-тестовой-выборке\" data-toc-modified-id=\"Проверка-на-тестовой-выборке-4\"><span class=\"toc-item-num\">4&nbsp;&nbsp;</span>Проверка на тестовой выборке</a></span></li><li><span><a href=\"#Итоговый-вывод\" data-toc-modified-id=\"Итоговый-вывод-5\"><span class=\"toc-item-num\">5&nbsp;&nbsp;</span>Итоговый вывод</a></span></li><li><span><a href=\"#Чек-лист-готовности-проекта\" data-toc-modified-id=\"Чек-лист-готовности-проекта-6\"><span class=\"toc-item-num\">6&nbsp;&nbsp;</span>Чек-лист готовности проекта</a></span></li></ul></div>"
   ]
  },
  {
   "cell_type": "markdown",
   "metadata": {},
   "source": [
    "# Восстановление золота из руды"
   ]
  },
  {
   "cell_type": "markdown",
   "metadata": {},
   "source": [
    "Подготовьте прототип модели машинного обучения для «Цифры». Компания разрабатывает решения для эффективной работы промышленных предприятий.\n",
    "\n",
    "Модель должна предсказать коэффициент восстановления золота из золотосодержащей руды. Используйте данные с параметрами добычи и очистки. \n",
    "\n",
    "Модель поможет оптимизировать производство, чтобы не запускать предприятие с убыточными характеристиками.\n",
    "\n",
    "Необходимо:\n",
    "\n",
    "1. Подготовить данные;\n",
    "2. Провести исследовательский анализ данных;\n",
    "3. Построить и обучить модель.\n"
   ]
  },
  {
   "cell_type": "code",
   "execution_count": 1,
   "metadata": {},
   "outputs": [],
   "source": [
    "import pandas as pd\n",
    "import numpy as np\n",
    "import matplotlib.pyplot as plt\n",
    "import catboost as cb\n",
    "import seaborn as sns\n",
    "\n",
    "from sklearn.model_selection import (train_test_split,\n",
    "                                     GridSearchCV, \n",
    "                                     cross_val_score)\n",
    "from sklearn.metrics import make_scorer, mean_absolute_error\n",
    "from sklearn.linear_model import LinearRegression\n",
    "from sklearn.tree import DecisionTreeRegressor\n",
    "from sklearn.ensemble import RandomForestRegressor\n",
    "from sklearn.dummy import DummyRegressor\n",
    "from scipy import stats\n",
    "\n",
    "\n",
    "import warnings"
   ]
  },
  {
   "cell_type": "code",
   "execution_count": 2,
   "metadata": {},
   "outputs": [],
   "source": [
    "RANDOM_STATE = 12345"
   ]
  },
  {
   "cell_type": "code",
   "execution_count": 3,
   "metadata": {},
   "outputs": [],
   "source": [
    "warnings.filterwarnings(\"ignore\")"
   ]
  },
  {
   "cell_type": "markdown",
   "metadata": {},
   "source": [
    "## Подготовка данных"
   ]
  },
  {
   "cell_type": "markdown",
   "metadata": {},
   "source": [
    "### Выгрузка данных"
   ]
  },
  {
   "cell_type": "code",
   "execution_count": 4,
   "metadata": {},
   "outputs": [
    {
     "data": {
      "text/html": [
       "<div>\n",
       "<style scoped>\n",
       "    .dataframe tbody tr th:only-of-type {\n",
       "        vertical-align: middle;\n",
       "    }\n",
       "\n",
       "    .dataframe tbody tr th {\n",
       "        vertical-align: top;\n",
       "    }\n",
       "\n",
       "    .dataframe thead th {\n",
       "        text-align: right;\n",
       "    }\n",
       "</style>\n",
       "<table border=\"1\" class=\"dataframe\">\n",
       "  <thead>\n",
       "    <tr style=\"text-align: right;\">\n",
       "      <th></th>\n",
       "      <th>date</th>\n",
       "      <th>rougher.input.feed_au</th>\n",
       "      <th>rougher.input.feed_ag</th>\n",
       "      <th>rougher.input.feed_pb</th>\n",
       "      <th>rougher.input.feed_sol</th>\n",
       "      <th>rougher.input.feed_rate</th>\n",
       "      <th>rougher.input.feed_size</th>\n",
       "      <th>rougher.input.floatbank10_sulfate</th>\n",
       "      <th>rougher.input.floatbank10_xanthate</th>\n",
       "      <th>rougher.state.floatbank10_a_air</th>\n",
       "      <th>...</th>\n",
       "      <th>secondary_cleaner.output.tail_sol</th>\n",
       "      <th>final.output.concentrate_au</th>\n",
       "      <th>final.output.concentrate_ag</th>\n",
       "      <th>final.output.concentrate_pb</th>\n",
       "      <th>final.output.concentrate_sol</th>\n",
       "      <th>final.output.recovery</th>\n",
       "      <th>final.output.tail_au</th>\n",
       "      <th>final.output.tail_ag</th>\n",
       "      <th>final.output.tail_pb</th>\n",
       "      <th>final.output.tail_sol</th>\n",
       "    </tr>\n",
       "  </thead>\n",
       "  <tbody>\n",
       "    <tr>\n",
       "      <th>0</th>\n",
       "      <td>2016-01-15 00:00:00</td>\n",
       "      <td>6.486150</td>\n",
       "      <td>6.100378</td>\n",
       "      <td>2.284912</td>\n",
       "      <td>36.808594</td>\n",
       "      <td>523.546326</td>\n",
       "      <td>55.486599</td>\n",
       "      <td>11.986616</td>\n",
       "      <td>6.007990</td>\n",
       "      <td>999.706909</td>\n",
       "      <td>...</td>\n",
       "      <td>8.764648</td>\n",
       "      <td>42.192020</td>\n",
       "      <td>6.055403</td>\n",
       "      <td>9.889648</td>\n",
       "      <td>5.507324</td>\n",
       "      <td>70.541216</td>\n",
       "      <td>2.143149</td>\n",
       "      <td>10.411962</td>\n",
       "      <td>0.895447</td>\n",
       "      <td>16.904297</td>\n",
       "    </tr>\n",
       "    <tr>\n",
       "      <th>1</th>\n",
       "      <td>2016-01-15 01:00:00</td>\n",
       "      <td>6.478583</td>\n",
       "      <td>6.161113</td>\n",
       "      <td>2.266033</td>\n",
       "      <td>35.753385</td>\n",
       "      <td>525.290581</td>\n",
       "      <td>57.278666</td>\n",
       "      <td>11.971193</td>\n",
       "      <td>6.005766</td>\n",
       "      <td>1000.286398</td>\n",
       "      <td>...</td>\n",
       "      <td>9.001494</td>\n",
       "      <td>42.701629</td>\n",
       "      <td>6.029369</td>\n",
       "      <td>9.968944</td>\n",
       "      <td>5.257781</td>\n",
       "      <td>69.266198</td>\n",
       "      <td>2.224930</td>\n",
       "      <td>10.462676</td>\n",
       "      <td>0.927452</td>\n",
       "      <td>16.634514</td>\n",
       "    </tr>\n",
       "    <tr>\n",
       "      <th>2</th>\n",
       "      <td>2016-01-15 02:00:00</td>\n",
       "      <td>6.362222</td>\n",
       "      <td>6.116455</td>\n",
       "      <td>2.159622</td>\n",
       "      <td>35.971630</td>\n",
       "      <td>530.026610</td>\n",
       "      <td>57.510649</td>\n",
       "      <td>11.920603</td>\n",
       "      <td>6.197377</td>\n",
       "      <td>999.719565</td>\n",
       "      <td>...</td>\n",
       "      <td>8.842896</td>\n",
       "      <td>42.657501</td>\n",
       "      <td>6.055926</td>\n",
       "      <td>10.213995</td>\n",
       "      <td>5.383759</td>\n",
       "      <td>68.116445</td>\n",
       "      <td>2.257889</td>\n",
       "      <td>10.507046</td>\n",
       "      <td>0.953716</td>\n",
       "      <td>16.208849</td>\n",
       "    </tr>\n",
       "    <tr>\n",
       "      <th>3</th>\n",
       "      <td>2016-01-15 03:00:00</td>\n",
       "      <td>6.118189</td>\n",
       "      <td>6.043309</td>\n",
       "      <td>2.037807</td>\n",
       "      <td>36.862241</td>\n",
       "      <td>542.590390</td>\n",
       "      <td>57.792734</td>\n",
       "      <td>11.630094</td>\n",
       "      <td>6.203177</td>\n",
       "      <td>999.814770</td>\n",
       "      <td>...</td>\n",
       "      <td>9.122857</td>\n",
       "      <td>42.689819</td>\n",
       "      <td>6.047977</td>\n",
       "      <td>9.977019</td>\n",
       "      <td>4.858634</td>\n",
       "      <td>68.347543</td>\n",
       "      <td>2.146849</td>\n",
       "      <td>10.422762</td>\n",
       "      <td>0.883763</td>\n",
       "      <td>16.532835</td>\n",
       "    </tr>\n",
       "    <tr>\n",
       "      <th>4</th>\n",
       "      <td>2016-01-15 04:00:00</td>\n",
       "      <td>5.663707</td>\n",
       "      <td>6.060915</td>\n",
       "      <td>1.786875</td>\n",
       "      <td>34.347666</td>\n",
       "      <td>540.531893</td>\n",
       "      <td>56.047189</td>\n",
       "      <td>10.957755</td>\n",
       "      <td>6.198826</td>\n",
       "      <td>999.678690</td>\n",
       "      <td>...</td>\n",
       "      <td>8.871028</td>\n",
       "      <td>42.774141</td>\n",
       "      <td>6.148599</td>\n",
       "      <td>10.142511</td>\n",
       "      <td>4.939416</td>\n",
       "      <td>66.927016</td>\n",
       "      <td>2.055292</td>\n",
       "      <td>10.360302</td>\n",
       "      <td>0.792826</td>\n",
       "      <td>16.525686</td>\n",
       "    </tr>\n",
       "  </tbody>\n",
       "</table>\n",
       "<p>5 rows × 87 columns</p>\n",
       "</div>"
      ],
      "text/plain": [
       "                  date  rougher.input.feed_au  rougher.input.feed_ag  \\\n",
       "0  2016-01-15 00:00:00               6.486150               6.100378   \n",
       "1  2016-01-15 01:00:00               6.478583               6.161113   \n",
       "2  2016-01-15 02:00:00               6.362222               6.116455   \n",
       "3  2016-01-15 03:00:00               6.118189               6.043309   \n",
       "4  2016-01-15 04:00:00               5.663707               6.060915   \n",
       "\n",
       "   rougher.input.feed_pb  rougher.input.feed_sol  rougher.input.feed_rate  \\\n",
       "0               2.284912               36.808594               523.546326   \n",
       "1               2.266033               35.753385               525.290581   \n",
       "2               2.159622               35.971630               530.026610   \n",
       "3               2.037807               36.862241               542.590390   \n",
       "4               1.786875               34.347666               540.531893   \n",
       "\n",
       "   rougher.input.feed_size  rougher.input.floatbank10_sulfate  \\\n",
       "0                55.486599                          11.986616   \n",
       "1                57.278666                          11.971193   \n",
       "2                57.510649                          11.920603   \n",
       "3                57.792734                          11.630094   \n",
       "4                56.047189                          10.957755   \n",
       "\n",
       "   rougher.input.floatbank10_xanthate  rougher.state.floatbank10_a_air  ...  \\\n",
       "0                            6.007990                       999.706909  ...   \n",
       "1                            6.005766                      1000.286398  ...   \n",
       "2                            6.197377                       999.719565  ...   \n",
       "3                            6.203177                       999.814770  ...   \n",
       "4                            6.198826                       999.678690  ...   \n",
       "\n",
       "   secondary_cleaner.output.tail_sol  final.output.concentrate_au  \\\n",
       "0                           8.764648                    42.192020   \n",
       "1                           9.001494                    42.701629   \n",
       "2                           8.842896                    42.657501   \n",
       "3                           9.122857                    42.689819   \n",
       "4                           8.871028                    42.774141   \n",
       "\n",
       "   final.output.concentrate_ag  final.output.concentrate_pb  \\\n",
       "0                     6.055403                     9.889648   \n",
       "1                     6.029369                     9.968944   \n",
       "2                     6.055926                    10.213995   \n",
       "3                     6.047977                     9.977019   \n",
       "4                     6.148599                    10.142511   \n",
       "\n",
       "   final.output.concentrate_sol  final.output.recovery  final.output.tail_au  \\\n",
       "0                      5.507324              70.541216              2.143149   \n",
       "1                      5.257781              69.266198              2.224930   \n",
       "2                      5.383759              68.116445              2.257889   \n",
       "3                      4.858634              68.347543              2.146849   \n",
       "4                      4.939416              66.927016              2.055292   \n",
       "\n",
       "   final.output.tail_ag  final.output.tail_pb  final.output.tail_sol  \n",
       "0             10.411962              0.895447              16.904297  \n",
       "1             10.462676              0.927452              16.634514  \n",
       "2             10.507046              0.953716              16.208849  \n",
       "3             10.422762              0.883763              16.532835  \n",
       "4             10.360302              0.792826              16.525686  \n",
       "\n",
       "[5 rows x 87 columns]"
      ]
     },
     "execution_count": 4,
     "metadata": {},
     "output_type": "execute_result"
    }
   ],
   "source": [
    "df = pd.read_csv('/datasets/gold_industry_full.csv')\n",
    "df.head()"
   ]
  },
  {
   "cell_type": "code",
   "execution_count": 5,
   "metadata": {},
   "outputs": [
    {
     "name": "stdout",
     "output_type": "stream",
     "text": [
      "<class 'pandas.core.frame.DataFrame'>\n",
      "RangeIndex: 19439 entries, 0 to 19438\n",
      "Data columns (total 87 columns):\n",
      " #   Column                                              Non-Null Count  Dtype  \n",
      "---  ------                                              --------------  -----  \n",
      " 0   date                                                19439 non-null  object \n",
      " 1   rougher.input.feed_au                               19439 non-null  float64\n",
      " 2   rougher.input.feed_ag                               19439 non-null  float64\n",
      " 3   rougher.input.feed_pb                               19339 non-null  float64\n",
      " 4   rougher.input.feed_sol                              19340 non-null  float64\n",
      " 5   rougher.input.feed_rate                             19428 non-null  float64\n",
      " 6   rougher.input.feed_size                             19294 non-null  float64\n",
      " 7   rougher.input.floatbank10_sulfate                   19405 non-null  float64\n",
      " 8   rougher.input.floatbank10_xanthate                  19431 non-null  float64\n",
      " 9   rougher.state.floatbank10_a_air                     19438 non-null  float64\n",
      " 10  rougher.state.floatbank10_a_level                   19438 non-null  float64\n",
      " 11  rougher.state.floatbank10_b_air                     19438 non-null  float64\n",
      " 12  rougher.state.floatbank10_b_level                   19438 non-null  float64\n",
      " 13  rougher.state.floatbank10_c_air                     19438 non-null  float64\n",
      " 14  rougher.state.floatbank10_c_level                   19438 non-null  float64\n",
      " 15  rougher.state.floatbank10_d_air                     19439 non-null  float64\n",
      " 16  rougher.state.floatbank10_d_level                   19439 non-null  float64\n",
      " 17  rougher.state.floatbank10_e_air                     19003 non-null  float64\n",
      " 18  rougher.state.floatbank10_e_level                   19439 non-null  float64\n",
      " 19  rougher.state.floatbank10_f_air                     19439 non-null  float64\n",
      " 20  rougher.state.floatbank10_f_level                   19439 non-null  float64\n",
      " 21  rougher.input.floatbank11_sulfate                   19395 non-null  float64\n",
      " 22  rougher.input.floatbank11_xanthate                  18986 non-null  float64\n",
      " 23  rougher.calculation.sulfate_to_au_concentrate       19437 non-null  float64\n",
      " 24  rougher.calculation.floatbank10_sulfate_to_au_feed  19437 non-null  float64\n",
      " 25  rougher.calculation.floatbank11_sulfate_to_au_feed  19437 non-null  float64\n",
      " 26  rougher.calculation.au_pb_ratio                     19439 non-null  float64\n",
      " 27  rougher.output.concentrate_au                       19439 non-null  float64\n",
      " 28  rougher.output.concentrate_ag                       19439 non-null  float64\n",
      " 29  rougher.output.concentrate_pb                       19439 non-null  float64\n",
      " 30  rougher.output.concentrate_sol                      19416 non-null  float64\n",
      " 31  rougher.output.recovery                             19439 non-null  float64\n",
      " 32  rougher.output.tail_au                              19439 non-null  float64\n",
      " 33  rougher.output.tail_ag                              19438 non-null  float64\n",
      " 34  rougher.output.tail_pb                              19439 non-null  float64\n",
      " 35  rougher.output.tail_sol                             19439 non-null  float64\n",
      " 36  primary_cleaner.input.sulfate                       19415 non-null  float64\n",
      " 37  primary_cleaner.input.depressant                    19402 non-null  float64\n",
      " 38  primary_cleaner.input.feed_size                     19439 non-null  float64\n",
      " 39  primary_cleaner.input.xanthate                      19335 non-null  float64\n",
      " 40  primary_cleaner.state.floatbank8_a_air              19435 non-null  float64\n",
      " 41  primary_cleaner.state.floatbank8_a_level            19438 non-null  float64\n",
      " 42  primary_cleaner.state.floatbank8_b_air              19435 non-null  float64\n",
      " 43  primary_cleaner.state.floatbank8_b_level            19438 non-null  float64\n",
      " 44  primary_cleaner.state.floatbank8_c_air              19437 non-null  float64\n",
      " 45  primary_cleaner.state.floatbank8_c_level            19438 non-null  float64\n",
      " 46  primary_cleaner.state.floatbank8_d_air              19436 non-null  float64\n",
      " 47  primary_cleaner.state.floatbank8_d_level            19438 non-null  float64\n",
      " 48  primary_cleaner.output.concentrate_au               19439 non-null  float64\n",
      " 49  primary_cleaner.output.concentrate_ag               19439 non-null  float64\n",
      " 50  primary_cleaner.output.concentrate_pb               19323 non-null  float64\n",
      " 51  primary_cleaner.output.concentrate_sol              19069 non-null  float64\n",
      " 52  primary_cleaner.output.tail_au                      19439 non-null  float64\n",
      " 53  primary_cleaner.output.tail_ag                      19435 non-null  float64\n",
      " 54  primary_cleaner.output.tail_pb                      19418 non-null  float64\n",
      " 55  primary_cleaner.output.tail_sol                     19377 non-null  float64\n",
      " 56  secondary_cleaner.state.floatbank2_a_air            19219 non-null  float64\n",
      " 57  secondary_cleaner.state.floatbank2_a_level          19438 non-null  float64\n",
      " 58  secondary_cleaner.state.floatbank2_b_air            19416 non-null  float64\n",
      " 59  secondary_cleaner.state.floatbank2_b_level          19438 non-null  float64\n",
      " 60  secondary_cleaner.state.floatbank3_a_air            19426 non-null  float64\n",
      " 61  secondary_cleaner.state.floatbank3_a_level          19438 non-null  float64\n",
      " 62  secondary_cleaner.state.floatbank3_b_air            19438 non-null  float64\n",
      " 63  secondary_cleaner.state.floatbank3_b_level          19438 non-null  float64\n",
      " 64  secondary_cleaner.state.floatbank4_a_air            19433 non-null  float64\n",
      " 65  secondary_cleaner.state.floatbank4_a_level          19438 non-null  float64\n",
      " 66  secondary_cleaner.state.floatbank4_b_air            19438 non-null  float64\n",
      " 67  secondary_cleaner.state.floatbank4_b_level          19438 non-null  float64\n",
      " 68  secondary_cleaner.state.floatbank5_a_air            19438 non-null  float64\n",
      " 69  secondary_cleaner.state.floatbank5_a_level          19438 non-null  float64\n",
      " 70  secondary_cleaner.state.floatbank5_b_air            19438 non-null  float64\n",
      " 71  secondary_cleaner.state.floatbank5_b_level          19438 non-null  float64\n",
      " 72  secondary_cleaner.state.floatbank6_a_air            19437 non-null  float64\n",
      " 73  secondary_cleaner.state.floatbank6_a_level          19438 non-null  float64\n",
      " 74  secondary_cleaner.output.tail_au                    19439 non-null  float64\n",
      " 75  secondary_cleaner.output.tail_ag                    19437 non-null  float64\n",
      " 76  secondary_cleaner.output.tail_pb                    19427 non-null  float64\n",
      " 77  secondary_cleaner.output.tail_sol                   17691 non-null  float64\n",
      " 78  final.output.concentrate_au                         19439 non-null  float64\n",
      " 79  final.output.concentrate_ag                         19438 non-null  float64\n",
      " 80  final.output.concentrate_pb                         19438 non-null  float64\n",
      " 81  final.output.concentrate_sol                        19228 non-null  float64\n",
      " 82  final.output.recovery                               19439 non-null  float64\n",
      " 83  final.output.tail_au                                19439 non-null  float64\n",
      " 84  final.output.tail_ag                                19438 non-null  float64\n",
      " 85  final.output.tail_pb                                19338 non-null  float64\n",
      " 86  final.output.tail_sol                               19433 non-null  float64\n",
      "dtypes: float64(86), object(1)\n",
      "memory usage: 12.9+ MB\n"
     ]
    }
   ],
   "source": [
    "df.info()"
   ]
  },
  {
   "cell_type": "code",
   "execution_count": 6,
   "metadata": {},
   "outputs": [
    {
     "name": "stdout",
     "output_type": "stream",
     "text": [
      "<class 'pandas.core.frame.DataFrame'>\n",
      "RangeIndex: 14579 entries, 0 to 14578\n",
      "Data columns (total 87 columns):\n",
      " #   Column                                              Non-Null Count  Dtype  \n",
      "---  ------                                              --------------  -----  \n",
      " 0   date                                                14579 non-null  object \n",
      " 1   rougher.input.feed_au                               14579 non-null  float64\n",
      " 2   rougher.input.feed_ag                               14579 non-null  float64\n",
      " 3   rougher.input.feed_pb                               14507 non-null  float64\n",
      " 4   rougher.input.feed_sol                              14502 non-null  float64\n",
      " 5   rougher.input.feed_rate                             14572 non-null  float64\n",
      " 6   rougher.input.feed_size                             14478 non-null  float64\n",
      " 7   rougher.input.floatbank10_sulfate                   14548 non-null  float64\n",
      " 8   rougher.input.floatbank10_xanthate                  14572 non-null  float64\n",
      " 9   rougher.state.floatbank10_a_air                     14579 non-null  float64\n",
      " 10  rougher.state.floatbank10_a_level                   14579 non-null  float64\n",
      " 11  rougher.state.floatbank10_b_air                     14579 non-null  float64\n",
      " 12  rougher.state.floatbank10_b_level                   14579 non-null  float64\n",
      " 13  rougher.state.floatbank10_c_air                     14579 non-null  float64\n",
      " 14  rougher.state.floatbank10_c_level                   14579 non-null  float64\n",
      " 15  rougher.state.floatbank10_d_air                     14579 non-null  float64\n",
      " 16  rougher.state.floatbank10_d_level                   14579 non-null  float64\n",
      " 17  rougher.state.floatbank10_e_air                     14150 non-null  float64\n",
      " 18  rougher.state.floatbank10_e_level                   14579 non-null  float64\n",
      " 19  rougher.state.floatbank10_f_air                     14579 non-null  float64\n",
      " 20  rougher.state.floatbank10_f_level                   14579 non-null  float64\n",
      " 21  rougher.input.floatbank11_sulfate                   14543 non-null  float64\n",
      " 22  rougher.input.floatbank11_xanthate                  14172 non-null  float64\n",
      " 23  rougher.calculation.sulfate_to_au_concentrate       14578 non-null  float64\n",
      " 24  rougher.calculation.floatbank10_sulfate_to_au_feed  14578 non-null  float64\n",
      " 25  rougher.calculation.floatbank11_sulfate_to_au_feed  14578 non-null  float64\n",
      " 26  rougher.calculation.au_pb_ratio                     14579 non-null  float64\n",
      " 27  rougher.output.concentrate_au                       14579 non-null  float64\n",
      " 28  rougher.output.concentrate_ag                       14579 non-null  float64\n",
      " 29  rougher.output.concentrate_pb                       14579 non-null  float64\n",
      " 30  rougher.output.concentrate_sol                      14561 non-null  float64\n",
      " 31  rougher.output.recovery                             14579 non-null  float64\n",
      " 32  rougher.output.tail_au                              14579 non-null  float64\n",
      " 33  rougher.output.tail_ag                              14578 non-null  float64\n",
      " 34  rougher.output.tail_pb                              14579 non-null  float64\n",
      " 35  rougher.output.tail_sol                             14579 non-null  float64\n",
      " 36  primary_cleaner.input.sulfate                       14556 non-null  float64\n",
      " 37  primary_cleaner.input.depressant                    14551 non-null  float64\n",
      " 38  primary_cleaner.input.feed_size                     14579 non-null  float64\n",
      " 39  primary_cleaner.input.xanthate                      14518 non-null  float64\n",
      " 40  primary_cleaner.state.floatbank8_a_air              14576 non-null  float64\n",
      " 41  primary_cleaner.state.floatbank8_a_level            14579 non-null  float64\n",
      " 42  primary_cleaner.state.floatbank8_b_air              14576 non-null  float64\n",
      " 43  primary_cleaner.state.floatbank8_b_level            14579 non-null  float64\n",
      " 44  primary_cleaner.state.floatbank8_c_air              14579 non-null  float64\n",
      " 45  primary_cleaner.state.floatbank8_c_level            14579 non-null  float64\n",
      " 46  primary_cleaner.state.floatbank8_d_air              14578 non-null  float64\n",
      " 47  primary_cleaner.state.floatbank8_d_level            14579 non-null  float64\n",
      " 48  primary_cleaner.output.concentrate_au               14579 non-null  float64\n",
      " 49  primary_cleaner.output.concentrate_ag               14579 non-null  float64\n",
      " 50  primary_cleaner.output.concentrate_pb               14491 non-null  float64\n",
      " 51  primary_cleaner.output.concentrate_sol              14314 non-null  float64\n",
      " 52  primary_cleaner.output.tail_au                      14579 non-null  float64\n",
      " 53  primary_cleaner.output.tail_ag                      14575 non-null  float64\n",
      " 54  primary_cleaner.output.tail_pb                      14573 non-null  float64\n",
      " 55  primary_cleaner.output.tail_sol                     14534 non-null  float64\n",
      " 56  secondary_cleaner.state.floatbank2_a_air            14485 non-null  float64\n",
      " 57  secondary_cleaner.state.floatbank2_a_level          14579 non-null  float64\n",
      " 58  secondary_cleaner.state.floatbank2_b_air            14557 non-null  float64\n",
      " 59  secondary_cleaner.state.floatbank2_b_level          14579 non-null  float64\n",
      " 60  secondary_cleaner.state.floatbank3_a_air            14567 non-null  float64\n",
      " 61  secondary_cleaner.state.floatbank3_a_level          14579 non-null  float64\n",
      " 62  secondary_cleaner.state.floatbank3_b_air            14579 non-null  float64\n",
      " 63  secondary_cleaner.state.floatbank3_b_level          14579 non-null  float64\n",
      " 64  secondary_cleaner.state.floatbank4_a_air            14574 non-null  float64\n",
      " 65  secondary_cleaner.state.floatbank4_a_level          14579 non-null  float64\n",
      " 66  secondary_cleaner.state.floatbank4_b_air            14579 non-null  float64\n",
      " 67  secondary_cleaner.state.floatbank4_b_level          14579 non-null  float64\n",
      " 68  secondary_cleaner.state.floatbank5_a_air            14579 non-null  float64\n",
      " 69  secondary_cleaner.state.floatbank5_a_level          14579 non-null  float64\n",
      " 70  secondary_cleaner.state.floatbank5_b_air            14579 non-null  float64\n",
      " 71  secondary_cleaner.state.floatbank5_b_level          14579 non-null  float64\n",
      " 72  secondary_cleaner.state.floatbank6_a_air            14578 non-null  float64\n",
      " 73  secondary_cleaner.state.floatbank6_a_level          14579 non-null  float64\n",
      " 74  secondary_cleaner.output.tail_au                    14579 non-null  float64\n",
      " 75  secondary_cleaner.output.tail_ag                    14578 non-null  float64\n",
      " 76  secondary_cleaner.output.tail_pb                    14575 non-null  float64\n",
      " 77  secondary_cleaner.output.tail_sol                   13659 non-null  float64\n",
      " 78  final.output.concentrate_au                         14579 non-null  float64\n",
      " 79  final.output.concentrate_ag                         14578 non-null  float64\n",
      " 80  final.output.concentrate_pb                         14578 non-null  float64\n",
      " 81  final.output.concentrate_sol                        14387 non-null  float64\n",
      " 82  final.output.recovery                               14579 non-null  float64\n",
      " 83  final.output.tail_au                                14579 non-null  float64\n",
      " 84  final.output.tail_ag                                14578 non-null  float64\n",
      " 85  final.output.tail_pb                                14504 non-null  float64\n",
      " 86  final.output.tail_sol                               14574 non-null  float64\n",
      "dtypes: float64(86), object(1)\n",
      "memory usage: 9.7+ MB\n"
     ]
    }
   ],
   "source": [
    "df_train = pd.read_csv('/datasets/gold_industry_train.csv')\n",
    "df_train.info()"
   ]
  },
  {
   "cell_type": "code",
   "execution_count": 7,
   "metadata": {},
   "outputs": [
    {
     "name": "stdout",
     "output_type": "stream",
     "text": [
      "<class 'pandas.core.frame.DataFrame'>\n",
      "RangeIndex: 4860 entries, 0 to 4859\n",
      "Data columns (total 53 columns):\n",
      " #   Column                                      Non-Null Count  Dtype  \n",
      "---  ------                                      --------------  -----  \n",
      " 0   date                                        4860 non-null   object \n",
      " 1   rougher.input.feed_au                       4860 non-null   float64\n",
      " 2   rougher.input.feed_ag                       4860 non-null   float64\n",
      " 3   rougher.input.feed_pb                       4832 non-null   float64\n",
      " 4   rougher.input.feed_sol                      4838 non-null   float64\n",
      " 5   rougher.input.feed_rate                     4856 non-null   float64\n",
      " 6   rougher.input.feed_size                     4816 non-null   float64\n",
      " 7   rougher.input.floatbank10_sulfate           4857 non-null   float64\n",
      " 8   rougher.input.floatbank10_xanthate          4859 non-null   float64\n",
      " 9   rougher.state.floatbank10_a_air             4859 non-null   float64\n",
      " 10  rougher.state.floatbank10_a_level           4859 non-null   float64\n",
      " 11  rougher.state.floatbank10_b_air             4859 non-null   float64\n",
      " 12  rougher.state.floatbank10_b_level           4859 non-null   float64\n",
      " 13  rougher.state.floatbank10_c_air             4859 non-null   float64\n",
      " 14  rougher.state.floatbank10_c_level           4859 non-null   float64\n",
      " 15  rougher.state.floatbank10_d_air             4860 non-null   float64\n",
      " 16  rougher.state.floatbank10_d_level           4860 non-null   float64\n",
      " 17  rougher.state.floatbank10_e_air             4853 non-null   float64\n",
      " 18  rougher.state.floatbank10_e_level           4860 non-null   float64\n",
      " 19  rougher.state.floatbank10_f_air             4860 non-null   float64\n",
      " 20  rougher.state.floatbank10_f_level           4860 non-null   float64\n",
      " 21  rougher.input.floatbank11_sulfate           4852 non-null   float64\n",
      " 22  rougher.input.floatbank11_xanthate          4814 non-null   float64\n",
      " 23  primary_cleaner.input.sulfate               4859 non-null   float64\n",
      " 24  primary_cleaner.input.depressant            4851 non-null   float64\n",
      " 25  primary_cleaner.input.feed_size             4860 non-null   float64\n",
      " 26  primary_cleaner.input.xanthate              4817 non-null   float64\n",
      " 27  primary_cleaner.state.floatbank8_a_air      4859 non-null   float64\n",
      " 28  primary_cleaner.state.floatbank8_a_level    4859 non-null   float64\n",
      " 29  primary_cleaner.state.floatbank8_b_air      4859 non-null   float64\n",
      " 30  primary_cleaner.state.floatbank8_b_level    4859 non-null   float64\n",
      " 31  primary_cleaner.state.floatbank8_c_air      4858 non-null   float64\n",
      " 32  primary_cleaner.state.floatbank8_c_level    4859 non-null   float64\n",
      " 33  primary_cleaner.state.floatbank8_d_air      4858 non-null   float64\n",
      " 34  primary_cleaner.state.floatbank8_d_level    4859 non-null   float64\n",
      " 35  secondary_cleaner.state.floatbank2_a_air    4734 non-null   float64\n",
      " 36  secondary_cleaner.state.floatbank2_a_level  4859 non-null   float64\n",
      " 37  secondary_cleaner.state.floatbank2_b_air    4859 non-null   float64\n",
      " 38  secondary_cleaner.state.floatbank2_b_level  4859 non-null   float64\n",
      " 39  secondary_cleaner.state.floatbank3_a_air    4859 non-null   float64\n",
      " 40  secondary_cleaner.state.floatbank3_a_level  4859 non-null   float64\n",
      " 41  secondary_cleaner.state.floatbank3_b_air    4859 non-null   float64\n",
      " 42  secondary_cleaner.state.floatbank3_b_level  4859 non-null   float64\n",
      " 43  secondary_cleaner.state.floatbank4_a_air    4859 non-null   float64\n",
      " 44  secondary_cleaner.state.floatbank4_a_level  4859 non-null   float64\n",
      " 45  secondary_cleaner.state.floatbank4_b_air    4859 non-null   float64\n",
      " 46  secondary_cleaner.state.floatbank4_b_level  4859 non-null   float64\n",
      " 47  secondary_cleaner.state.floatbank5_a_air    4859 non-null   float64\n",
      " 48  secondary_cleaner.state.floatbank5_a_level  4859 non-null   float64\n",
      " 49  secondary_cleaner.state.floatbank5_b_air    4859 non-null   float64\n",
      " 50  secondary_cleaner.state.floatbank5_b_level  4859 non-null   float64\n",
      " 51  secondary_cleaner.state.floatbank6_a_air    4859 non-null   float64\n",
      " 52  secondary_cleaner.state.floatbank6_a_level  4859 non-null   float64\n",
      "dtypes: float64(52), object(1)\n",
      "memory usage: 2.0+ MB\n"
     ]
    }
   ],
   "source": [
    "df_test = pd.read_csv('/datasets/gold_industry_test.csv')\n",
    "df_test.info()"
   ]
  },
  {
   "cell_type": "code",
   "execution_count": 8,
   "metadata": {},
   "outputs": [
    {
     "name": "stdout",
     "output_type": "stream",
     "text": [
      "(19439, 87)\n",
      "(14579, 87)\n",
      "(4860, 53)\n"
     ]
    }
   ],
   "source": [
    "print(df.shape)\n",
    "print(df_train.shape)\n",
    "print(df_test.shape)"
   ]
  },
  {
   "cell_type": "markdown",
   "metadata": {},
   "source": [
    "Некоторых колонок нет в тестовом датафрейме, необходимо понять каких и почему."
   ]
  },
  {
   "cell_type": "code",
   "execution_count": 9,
   "metadata": {},
   "outputs": [
    {
     "data": {
      "text/html": [
       "<div>\n",
       "<style scoped>\n",
       "    .dataframe tbody tr th:only-of-type {\n",
       "        vertical-align: middle;\n",
       "    }\n",
       "\n",
       "    .dataframe tbody tr th {\n",
       "        vertical-align: top;\n",
       "    }\n",
       "\n",
       "    .dataframe thead th {\n",
       "        text-align: right;\n",
       "    }\n",
       "</style>\n",
       "<table border=\"1\" class=\"dataframe\">\n",
       "  <thead>\n",
       "    <tr style=\"text-align: right;\">\n",
       "      <th></th>\n",
       "      <th>0</th>\n",
       "    </tr>\n",
       "  </thead>\n",
       "  <tbody>\n",
       "    <tr>\n",
       "      <th>0</th>\n",
       "      <td>rougher.calculation.sulfate_to_au_concentrate</td>\n",
       "    </tr>\n",
       "    <tr>\n",
       "      <th>1</th>\n",
       "      <td>rougher.output.concentrate_ag</td>\n",
       "    </tr>\n",
       "    <tr>\n",
       "      <th>2</th>\n",
       "      <td>final.output.tail_au</td>\n",
       "    </tr>\n",
       "    <tr>\n",
       "      <th>3</th>\n",
       "      <td>final.output.tail_ag</td>\n",
       "    </tr>\n",
       "    <tr>\n",
       "      <th>4</th>\n",
       "      <td>rougher.calculation.floatbank10_sulfate_to_au_...</td>\n",
       "    </tr>\n",
       "    <tr>\n",
       "      <th>5</th>\n",
       "      <td>final.output.concentrate_ag</td>\n",
       "    </tr>\n",
       "    <tr>\n",
       "      <th>6</th>\n",
       "      <td>rougher.calculation.au_pb_ratio</td>\n",
       "    </tr>\n",
       "    <tr>\n",
       "      <th>7</th>\n",
       "      <td>rougher.output.tail_sol</td>\n",
       "    </tr>\n",
       "    <tr>\n",
       "      <th>8</th>\n",
       "      <td>primary_cleaner.output.tail_sol</td>\n",
       "    </tr>\n",
       "    <tr>\n",
       "      <th>9</th>\n",
       "      <td>primary_cleaner.output.tail_pb</td>\n",
       "    </tr>\n",
       "    <tr>\n",
       "      <th>10</th>\n",
       "      <td>final.output.tail_sol</td>\n",
       "    </tr>\n",
       "    <tr>\n",
       "      <th>11</th>\n",
       "      <td>rougher.output.recovery</td>\n",
       "    </tr>\n",
       "    <tr>\n",
       "      <th>12</th>\n",
       "      <td>rougher.calculation.floatbank11_sulfate_to_au_...</td>\n",
       "    </tr>\n",
       "    <tr>\n",
       "      <th>13</th>\n",
       "      <td>rougher.output.concentrate_au</td>\n",
       "    </tr>\n",
       "    <tr>\n",
       "      <th>14</th>\n",
       "      <td>primary_cleaner.output.concentrate_pb</td>\n",
       "    </tr>\n",
       "    <tr>\n",
       "      <th>15</th>\n",
       "      <td>primary_cleaner.output.concentrate_au</td>\n",
       "    </tr>\n",
       "    <tr>\n",
       "      <th>16</th>\n",
       "      <td>secondary_cleaner.output.tail_ag</td>\n",
       "    </tr>\n",
       "    <tr>\n",
       "      <th>17</th>\n",
       "      <td>final.output.concentrate_sol</td>\n",
       "    </tr>\n",
       "    <tr>\n",
       "      <th>18</th>\n",
       "      <td>secondary_cleaner.output.tail_sol</td>\n",
       "    </tr>\n",
       "    <tr>\n",
       "      <th>19</th>\n",
       "      <td>final.output.recovery</td>\n",
       "    </tr>\n",
       "    <tr>\n",
       "      <th>20</th>\n",
       "      <td>rougher.output.tail_au</td>\n",
       "    </tr>\n",
       "    <tr>\n",
       "      <th>21</th>\n",
       "      <td>rougher.output.tail_pb</td>\n",
       "    </tr>\n",
       "    <tr>\n",
       "      <th>22</th>\n",
       "      <td>final.output.concentrate_au</td>\n",
       "    </tr>\n",
       "    <tr>\n",
       "      <th>23</th>\n",
       "      <td>final.output.tail_pb</td>\n",
       "    </tr>\n",
       "    <tr>\n",
       "      <th>24</th>\n",
       "      <td>final.output.concentrate_pb</td>\n",
       "    </tr>\n",
       "    <tr>\n",
       "      <th>25</th>\n",
       "      <td>rougher.output.tail_ag</td>\n",
       "    </tr>\n",
       "    <tr>\n",
       "      <th>26</th>\n",
       "      <td>primary_cleaner.output.tail_ag</td>\n",
       "    </tr>\n",
       "    <tr>\n",
       "      <th>27</th>\n",
       "      <td>rougher.output.concentrate_sol</td>\n",
       "    </tr>\n",
       "    <tr>\n",
       "      <th>28</th>\n",
       "      <td>rougher.output.concentrate_pb</td>\n",
       "    </tr>\n",
       "    <tr>\n",
       "      <th>29</th>\n",
       "      <td>secondary_cleaner.output.tail_pb</td>\n",
       "    </tr>\n",
       "    <tr>\n",
       "      <th>30</th>\n",
       "      <td>primary_cleaner.output.tail_au</td>\n",
       "    </tr>\n",
       "    <tr>\n",
       "      <th>31</th>\n",
       "      <td>primary_cleaner.output.concentrate_ag</td>\n",
       "    </tr>\n",
       "    <tr>\n",
       "      <th>32</th>\n",
       "      <td>secondary_cleaner.output.tail_au</td>\n",
       "    </tr>\n",
       "    <tr>\n",
       "      <th>33</th>\n",
       "      <td>primary_cleaner.output.concentrate_sol</td>\n",
       "    </tr>\n",
       "  </tbody>\n",
       "</table>\n",
       "</div>"
      ],
      "text/plain": [
       "                                                    0\n",
       "0       rougher.calculation.sulfate_to_au_concentrate\n",
       "1                       rougher.output.concentrate_ag\n",
       "2                                final.output.tail_au\n",
       "3                                final.output.tail_ag\n",
       "4   rougher.calculation.floatbank10_sulfate_to_au_...\n",
       "5                         final.output.concentrate_ag\n",
       "6                     rougher.calculation.au_pb_ratio\n",
       "7                             rougher.output.tail_sol\n",
       "8                     primary_cleaner.output.tail_sol\n",
       "9                      primary_cleaner.output.tail_pb\n",
       "10                              final.output.tail_sol\n",
       "11                            rougher.output.recovery\n",
       "12  rougher.calculation.floatbank11_sulfate_to_au_...\n",
       "13                      rougher.output.concentrate_au\n",
       "14              primary_cleaner.output.concentrate_pb\n",
       "15              primary_cleaner.output.concentrate_au\n",
       "16                   secondary_cleaner.output.tail_ag\n",
       "17                       final.output.concentrate_sol\n",
       "18                  secondary_cleaner.output.tail_sol\n",
       "19                              final.output.recovery\n",
       "20                             rougher.output.tail_au\n",
       "21                             rougher.output.tail_pb\n",
       "22                        final.output.concentrate_au\n",
       "23                               final.output.tail_pb\n",
       "24                        final.output.concentrate_pb\n",
       "25                             rougher.output.tail_ag\n",
       "26                     primary_cleaner.output.tail_ag\n",
       "27                     rougher.output.concentrate_sol\n",
       "28                      rougher.output.concentrate_pb\n",
       "29                   secondary_cleaner.output.tail_pb\n",
       "30                     primary_cleaner.output.tail_au\n",
       "31              primary_cleaner.output.concentrate_ag\n",
       "32                   secondary_cleaner.output.tail_au\n",
       "33             primary_cleaner.output.concentrate_sol"
      ]
     },
     "execution_count": 9,
     "metadata": {},
     "output_type": "execute_result"
    }
   ],
   "source": [
    "non_test_cols = list(set(df_train) - set(df_test))\n",
    "pd.Series(non_test_cols).to_frame()"
   ]
  },
  {
   "cell_type": "markdown",
   "metadata": {},
   "source": [
    "Все признаки, отсутствующие в тестовой выборке относятся к выходным данным каждого этапа обработки, а также, к расчетным характеристикам после этапа обогащения. Это является следствием того, что эти параметры еще не рассчитаны."
   ]
  },
  {
   "cell_type": "markdown",
   "metadata": {},
   "source": [
    "### Предоработка данных"
   ]
  },
  {
   "cell_type": "markdown",
   "metadata": {},
   "source": [
    "Проверим, что эффективность обогащения рассчитана правильно. Вычислим её на обучающей выборке для признака rougher.output.recovery. Найдите MAE между вашими расчётами и значением признака. Опишите выводы."
   ]
  },
  {
   "cell_type": "code",
   "execution_count": 10,
   "metadata": {},
   "outputs": [],
   "source": [
    "def recovery(C, F, T):\n",
    "    result = (C * (F - T)) / (F * (C - T)) * 100\n",
    "    return result"
   ]
  },
  {
   "cell_type": "code",
   "execution_count": 11,
   "metadata": {},
   "outputs": [
    {
     "data": {
      "text/plain": [
       "9.83758577644259e-15"
      ]
     },
     "execution_count": 11,
     "metadata": {},
     "output_type": "execute_result"
    }
   ],
   "source": [
    "recovery = pd.Series(recovery(df_train['rougher.output.concentrate_au'], \n",
    "                             df_train['rougher.input.feed_au'], \n",
    "                             df_train['rougher.output.tail_au']))\n",
    "\n",
    "mean_absolute_error(df_train['rougher.output.recovery'], recovery)"
   ]
  },
  {
   "cell_type": "markdown",
   "metadata": {},
   "source": [
    "Отклоение получилось очень низким, следовательно эффективность обогащения рассчитана правильно "
   ]
  },
  {
   "cell_type": "code",
   "execution_count": 12,
   "metadata": {},
   "outputs": [
    {
     "data": {
      "text/plain": [
       "0"
      ]
     },
     "execution_count": 12,
     "metadata": {},
     "output_type": "execute_result"
    }
   ],
   "source": [
    "df.duplicated().sum()"
   ]
  },
  {
   "cell_type": "markdown",
   "metadata": {},
   "source": [
    "Явных дубликатов не обнаружено."
   ]
  },
  {
   "cell_type": "code",
   "execution_count": 13,
   "metadata": {},
   "outputs": [
    {
     "data": {
      "text/plain": [
       "date                        0\n",
       "rougher.input.feed_au       0\n",
       "rougher.input.feed_ag       0\n",
       "rougher.input.feed_pb     100\n",
       "rougher.input.feed_sol     99\n",
       "                         ... \n",
       "final.output.recovery       0\n",
       "final.output.tail_au        0\n",
       "final.output.tail_ag        1\n",
       "final.output.tail_pb      101\n",
       "final.output.tail_sol       6\n",
       "Length: 87, dtype: int64"
      ]
     },
     "execution_count": 13,
     "metadata": {},
     "output_type": "execute_result"
    }
   ],
   "source": [
    "df.isna().sum()"
   ]
  },
  {
   "cell_type": "code",
   "execution_count": 14,
   "metadata": {},
   "outputs": [
    {
     "data": {
      "text/plain": [
       "date                      0\n",
       "rougher.input.feed_au     0\n",
       "rougher.input.feed_ag     0\n",
       "rougher.input.feed_pb     0\n",
       "rougher.input.feed_sol    0\n",
       "                         ..\n",
       "final.output.recovery     0\n",
       "final.output.tail_au      0\n",
       "final.output.tail_ag      0\n",
       "final.output.tail_pb      0\n",
       "final.output.tail_sol     0\n",
       "Length: 87, dtype: int64"
      ]
     },
     "execution_count": 14,
     "metadata": {},
     "output_type": "execute_result"
    }
   ],
   "source": [
    "df = df.ffill()\n",
    "df_train = df_train.ffill()\n",
    "df_test = df_test.ffill()\n",
    "\n",
    "df.isna().sum()"
   ]
  },
  {
   "cell_type": "markdown",
   "metadata": {},
   "source": [
    "## Анализ данных"
   ]
  },
  {
   "cell_type": "code",
   "execution_count": 15,
   "metadata": {},
   "outputs": [],
   "source": [
    "def concentration(rougher_input, rougher_output, primary_cleaner, final_output, title: str):\n",
    "    plt.figure(figsize=(15,7))\n",
    "    rougher_input.hist(bins=21, alpha=0.5, color='red')\n",
    "    rougher_output.hist(bins=21, alpha=0.5, color='yellow')\n",
    "    primary_cleaner.hist(bins=21, alpha=0.5, color='green')\n",
    "    final_output.hist(bins=21, alpha=0.5, color='black')\n",
    "    plt.title(title)\n",
    "    plt.xlabel('Значение признака')\n",
    "    plt.ylabel('Количество')\n",
    "    plt.legend(['Концентрация до обогащения', \n",
    "            'Концентрация после обогащения', \n",
    "            'Концентрация после первой очистки', \n",
    "            'Концентрация финальная'])\n",
    "    plt.show()"
   ]
  },
  {
   "cell_type": "code",
   "execution_count": 16,
   "metadata": {},
   "outputs": [
    {
     "data": {
      "image/png": "[encoded data removed]",
      "text/plain": [
       "<Figure size 1080x504 with 1 Axes>"
      ]
     },
     "metadata": {
      "needs_background": "light"
     },
     "output_type": "display_data"
    }
   ],
   "source": [
    "concentration(df['rougher.input.feed_ag'], \n",
    "              df['rougher.output.concentrate_ag'], \n",
    "              df['primary_cleaner.output.concentrate_ag'], \n",
    "              df['final.output.concentrate_ag'],\n",
    "              'Серебро - Ag')"
   ]
  },
  {
   "cell_type": "markdown",
   "metadata": {},
   "source": [
    "Концентрация серебра сначала растет, затем снижается."
   ]
  },
  {
   "cell_type": "code",
   "execution_count": 17,
   "metadata": {},
   "outputs": [
    {
     "data": {
      "image/png": "[encoded data removed]",
      "text/plain": [
       "<Figure size 1080x504 with 1 Axes>"
      ]
     },
     "metadata": {
      "needs_background": "light"
     },
     "output_type": "display_data"
    }
   ],
   "source": [
    "concentration(df['rougher.input.feed_pb'], \n",
    "              df['rougher.output.concentrate_pb'], \n",
    "              df['primary_cleaner.output.concentrate_pb'], \n",
    "              df['final.output.concentrate_pb'],\n",
    "              'Свинец - Pb')"
   ]
  },
  {
   "cell_type": "markdown",
   "metadata": {},
   "source": [
    "Концентрация свинца увеличивается до определенного значания, затем не изменяется"
   ]
  },
  {
   "cell_type": "code",
   "execution_count": 18,
   "metadata": {},
   "outputs": [
    {
     "data": {
      "image/png": "[encoded data removed]",
      "text/plain": [
       "<Figure size 1080x504 with 1 Axes>"
      ]
     },
     "metadata": {
      "needs_background": "light"
     },
     "output_type": "display_data"
    }
   ],
   "source": [
    "concentration(df['rougher.input.feed_au'], \n",
    "              df['rougher.output.concentrate_au'], \n",
    "              df['primary_cleaner.output.concentrate_au'], \n",
    "              df['final.output.concentrate_au'],\n",
    "              'Золото - Au')"
   ]
  },
  {
   "cell_type": "markdown",
   "metadata": {},
   "source": [
    "Как и ожидалось концентрация золота повышается на каждом этапе."
   ]
  },
  {
   "cell_type": "code",
   "execution_count": 19,
   "metadata": {},
   "outputs": [
    {
     "data": {
      "image/png": "[encoded data removed]",
      "text/plain": [
       "<Figure size 1080x504 with 1 Axes>"
      ]
     },
     "metadata": {
      "needs_background": "light"
     },
     "output_type": "display_data"
    },
    {
     "data": {
      "image/png": "[encoded data removed]",
      "text/plain": [
       "<Figure size 1080x504 with 1 Axes>"
      ]
     },
     "metadata": {
      "needs_background": "light"
     },
     "output_type": "display_data"
    }
   ],
   "source": [
    "plt.figure(figsize=(15,7))\n",
    "sns.kdeplot(df_train['rougher.input.feed_size'], shade=True)\n",
    "sns.kdeplot(df_test['rougher.input.feed_size'], shade=True)\n",
    "plt.title('Размеры гранул сырья')\n",
    "plt.xlabel('Значение признака')\n",
    "plt.ylabel('Количество')\n",
    "plt.legend(['Тренировочная выборка', 'Тестовая выборка'])\n",
    "plt.show()\n",
    "\n",
    "\n",
    "plt.figure(figsize=(15,7))\n",
    "sns.boxplot(data=[df_train['rougher.input.feed_size'], df_test['rougher.input.feed_size']],orient='h')\n",
    "plt.grid()\n",
    "plt.xlabel('Значение признака')\n",
    "plt.title('Размеры гранул сырья')\n",
    "plt.legend(['0 - Тренировочная выборка', '1 - Тестовая выборка'])\n",
    "plt.show()"
   ]
  },
  {
   "cell_type": "markdown",
   "metadata": {},
   "source": [
    "Распределения у тренировочной и тестовой выборки схожи."
   ]
  },
  {
   "cell_type": "code",
   "execution_count": 20,
   "metadata": {},
   "outputs": [
    {
     "data": {
      "image/png": "[encoded data removed]",
      "text/plain": [
       "<Figure size 1080x504 with 1 Axes>"
      ]
     },
     "metadata": {
      "needs_background": "light"
     },
     "output_type": "display_data"
    },
    {
     "data": {
      "image/png": "[encoded data removed]",
      "text/plain": [
       "<Figure size 1080x504 with 1 Axes>"
      ]
     },
     "metadata": {
      "needs_background": "light"
     },
     "output_type": "display_data"
    }
   ],
   "source": [
    "rougher_input_sum = df[['rougher.input.feed_ag', \n",
    "                         'rougher.input.feed_pb', \n",
    "                         'rougher.input.feed_au']].sum(axis=1)\n",
    "\n",
    "rougher_output_sum = df[['rougher.output.concentrate_ag', \n",
    "                         'rougher.output.concentrate_pb', \n",
    "                         'rougher.output.concentrate_au']].sum(axis=1)\n",
    "\n",
    "primary_cleaner_sum = df[['primary_cleaner.output.concentrate_ag', \n",
    "                          'primary_cleaner.output.concentrate_pb', \n",
    "                          'primary_cleaner.output.concentrate_au']].sum(axis=1)\n",
    "\n",
    "\n",
    "final_output_sum = df[['final.output.concentrate_ag', \n",
    "                       'final.output.concentrate_pb', \n",
    "                       'final.output.concentrate_au']].sum(axis=1)\n",
    "\n",
    "\n",
    "concentration(rougher_input_sum, \n",
    "              rougher_output_sum, \n",
    "              primary_cleaner_sum , \n",
    "              final_output_sum,\n",
    "              'Суммарная концентрация металлов на разных стадиях')\n",
    "\n",
    "\n",
    "plt.figure(figsize=(15,7))\n",
    "sns.boxplot(data=[rougher_input_sum, rougher_output_sum, primary_cleaner_sum, final_output_sum],orient='h')\n",
    "plt.grid()\n",
    "plt.xlabel('Значение признака')\n",
    "plt.title('Суммарная концентрация')\n",
    "plt.legend(['0 - До обогащения', \n",
    "            '1 - После обогащения', \n",
    "            '2 - Первая очистка',\n",
    "            '3 - Финальный'])\n",
    "plt.show()"
   ]
  },
  {
   "cell_type": "markdown",
   "metadata": {},
   "source": [
    "Как и ожидалось концентрация металлов увеличивается с каждым этапом, при этом концентрация золота самая высокая."
   ]
  },
  {
   "cell_type": "markdown",
   "metadata": {},
   "source": [
    "Убрем выборосы из обучающего датафрейма"
   ]
  },
  {
   "cell_type": "code",
   "execution_count": 21,
   "metadata": {},
   "outputs": [
    {
     "data": {
      "text/plain": [
       "(14579, 87)"
      ]
     },
     "execution_count": 21,
     "metadata": {},
     "output_type": "execute_result"
    }
   ],
   "source": [
    "df_train.shape"
   ]
  },
  {
   "cell_type": "code",
   "execution_count": 22,
   "metadata": {},
   "outputs": [],
   "source": [
    "df_train = df_train.loc[rougher_input_sum > 10]\n",
    "df_train = df_train.loc[rougher_output_sum > 30]\n",
    "df_train = df_train.loc[primary_cleaner_sum > 40]\n",
    "df_train = df_train.loc[final_output_sum > 45]"
   ]
  },
  {
   "cell_type": "code",
   "execution_count": 23,
   "metadata": {},
   "outputs": [
    {
     "data": {
      "text/plain": [
       "(13106, 87)"
      ]
     },
     "execution_count": 23,
     "metadata": {},
     "output_type": "execute_result"
    }
   ],
   "source": [
    "df_train.shape"
   ]
  },
  {
   "cell_type": "markdown",
   "metadata": {},
   "source": [
    "## Модель"
   ]
  },
  {
   "cell_type": "markdown",
   "metadata": {},
   "source": [
    "### Функция расчета метрики"
   ]
  },
  {
   "cell_type": "code",
   "execution_count": 24,
   "metadata": {},
   "outputs": [],
   "source": [
    "def smape(target, predictions):\n",
    "    result = abs(target - predictions) / ((abs(target) + abs(predictions)) / 2) * 100\n",
    "    return result.mean()"
   ]
  },
  {
   "cell_type": "code",
   "execution_count": 25,
   "metadata": {},
   "outputs": [],
   "source": [
    "smape_scorer = make_scorer(smape, greater_is_better=False)"
   ]
  },
  {
   "cell_type": "code",
   "execution_count": 26,
   "metadata": {},
   "outputs": [],
   "source": [
    "def total_smape(smape_rougher, smape_final):\n",
    "    return (0.25 * smape_rougher + 0.75 * smape_final)"
   ]
  },
  {
   "cell_type": "markdown",
   "metadata": {},
   "source": [
    "### Функция обработки выборок"
   ]
  },
  {
   "cell_type": "markdown",
   "metadata": {},
   "source": [
    "Удалим из тренировочных данных признаки, которых нет в тестовой выборке. Обучать по ним модель некорректно, так как в реальной работе она не получит этих данных. Перед удалением признаков, сохраним целевые признаки в датафрейм target"
   ]
  },
  {
   "cell_type": "code",
   "execution_count": 27,
   "metadata": {},
   "outputs": [],
   "source": [
    "def data_reset(train):\n",
    "    \n",
    "    target_rougher = train['rougher.output.recovery']\n",
    "    target_final = train['final.output.recovery']\n",
    "\n",
    "    features = train.drop(non_test_cols, axis=1)\n",
    "    features_rougher = features.drop('date', axis=1)\n",
    "    features_final = features.drop('date', axis=1)\n",
    "    \n",
    "    return (features_rougher, features_final, target_rougher, target_final)"
   ]
  },
  {
   "cell_type": "code",
   "execution_count": 28,
   "metadata": {},
   "outputs": [],
   "source": [
    "features_rougher, features_final, target_rougher, target_final = data_reset(df_train)"
   ]
  },
  {
   "cell_type": "markdown",
   "metadata": {},
   "source": [
    "### Модель градиентного бустинга"
   ]
  },
  {
   "cell_type": "code",
   "execution_count": 31,
   "metadata": {},
   "outputs": [
    {
     "name": "stdout",
     "output_type": "stream",
     "text": [
      "Метрика SMAPE для предсказаний rougher:  5.644385450945181\n"
     ]
    }
   ],
   "source": [
    "cb_smape_rougher = abs(cb_scores.mean())\n",
    "print('Метрика SMAPE для предсказаний rougher: ', cb_smape_rougher)"
   ]
  },
  {
   "cell_type": "code",
   "execution_count": 32,
   "metadata": {},
   "outputs": [
    {
     "name": "stdout",
     "output_type": "stream",
     "text": [
      "[CV] START .....................................................................\n"
     ]
    },
    {
     "name": "stderr",
     "output_type": "stream",
     "text": [
      "[Parallel(n_jobs=-1)]: Using backend SequentialBackend with 1 concurrent workers.\n"
     ]
    },
    {
     "name": "stdout",
     "output_type": "stream",
     "text": [
      "0:\tlearn: 8.7925498\ttotal: 15.6ms\tremaining: 15.6s\n",
      "200:\tlearn: 6.5244743\ttotal: 3.37s\tremaining: 13.4s\n",
      "400:\tlearn: 5.9035041\ttotal: 6.68s\tremaining: 9.98s\n",
      "600:\tlearn: 5.5559875\ttotal: 10.1s\tremaining: 6.7s\n",
      "800:\tlearn: 5.3080339\ttotal: 13.4s\tremaining: 3.34s\n",
      "999:\tlearn: 5.1142208\ttotal: 16.7s\tremaining: 0us\n",
      "[CV] END ............................... score: (test=-9.700) total time=  18.5s\n",
      "[CV] START .....................................................................\n"
     ]
    },
    {
     "name": "stderr",
     "output_type": "stream",
     "text": [
      "[Parallel(n_jobs=-1)]: Done   1 out of   1 | elapsed:   18.5s remaining:    0.0s\n"
     ]
    },
    {
     "name": "stdout",
     "output_type": "stream",
     "text": [
      "0:\tlearn: 9.5493052\ttotal: 15.7ms\tremaining: 15.7s\n",
      "200:\tlearn: 7.2399483\ttotal: 3.26s\tremaining: 13s\n",
      "400:\tlearn: 6.6635843\ttotal: 6.5s\tremaining: 9.71s\n",
      "600:\tlearn: 6.3977228\ttotal: 9.8s\tremaining: 6.51s\n",
      "800:\tlearn: 6.1970731\ttotal: 12.9s\tremaining: 3.21s\n",
      "999:\tlearn: 6.0709512\ttotal: 15.9s\tremaining: 0us\n",
      "[CV] END ............................... score: (test=-6.942) total time=  17.9s\n",
      "[CV] START .....................................................................\n"
     ]
    },
    {
     "name": "stderr",
     "output_type": "stream",
     "text": [
      "[Parallel(n_jobs=-1)]: Done   2 out of   2 | elapsed:   36.4s remaining:    0.0s\n"
     ]
    },
    {
     "name": "stdout",
     "output_type": "stream",
     "text": [
      "0:\tlearn: 9.2625648\ttotal: 15.4ms\tremaining: 15.4s\n",
      "200:\tlearn: 7.0472448\ttotal: 3.33s\tremaining: 13.2s\n",
      "400:\tlearn: 6.5374844\ttotal: 6.61s\tremaining: 9.88s\n",
      "600:\tlearn: 6.2696487\ttotal: 9.73s\tremaining: 6.46s\n",
      "800:\tlearn: 6.0773377\ttotal: 12.9s\tremaining: 3.21s\n",
      "999:\tlearn: 5.9538835\ttotal: 16s\tremaining: 0us\n",
      "[CV] END ............................... score: (test=-8.582) total time=  17.8s\n",
      "[CV] START .....................................................................\n"
     ]
    },
    {
     "name": "stderr",
     "output_type": "stream",
     "text": [
      "[Parallel(n_jobs=-1)]: Done   3 out of   3 | elapsed:   54.2s remaining:    0.0s\n"
     ]
    },
    {
     "name": "stdout",
     "output_type": "stream",
     "text": [
      "0:\tlearn: 9.2565225\ttotal: 17.2ms\tremaining: 17.1s\n",
      "200:\tlearn: 6.9908579\ttotal: 3.4s\tremaining: 13.5s\n",
      "400:\tlearn: 6.4076777\ttotal: 6.72s\tremaining: 10s\n",
      "600:\tlearn: 6.0901335\ttotal: 9.84s\tremaining: 6.53s\n",
      "800:\tlearn: 5.8719631\ttotal: 13.1s\tremaining: 3.25s\n",
      "999:\tlearn: 5.7000188\ttotal: 16.2s\tremaining: 0us\n",
      "[CV] END ............................... score: (test=-7.876) total time=  17.9s\n",
      "[CV] START .....................................................................\n"
     ]
    },
    {
     "name": "stderr",
     "output_type": "stream",
     "text": [
      "[Parallel(n_jobs=-1)]: Done   4 out of   4 | elapsed:  1.2min remaining:    0.0s\n"
     ]
    },
    {
     "name": "stdout",
     "output_type": "stream",
     "text": [
      "0:\tlearn: 9.0949396\ttotal: 15.4ms\tremaining: 15.4s\n",
      "200:\tlearn: 7.1007574\ttotal: 3.37s\tremaining: 13.4s\n",
      "400:\tlearn: 6.5241395\ttotal: 6.65s\tremaining: 9.93s\n",
      "600:\tlearn: 6.2293951\ttotal: 9.72s\tremaining: 6.46s\n",
      "800:\tlearn: 6.0418216\ttotal: 12.9s\tremaining: 3.2s\n",
      "999:\tlearn: 5.8430321\ttotal: 16.4s\tremaining: 0us\n",
      "[CV] END ............................... score: (test=-8.607) total time=  18.6s\n"
     ]
    },
    {
     "name": "stderr",
     "output_type": "stream",
     "text": [
      "[Parallel(n_jobs=-1)]: Done   5 out of   5 | elapsed:  1.5min remaining:    0.0s\n",
      "[Parallel(n_jobs=-1)]: Done   5 out of   5 | elapsed:  1.5min finished\n"
     ]
    }
   ],
   "source": [
    "cb_final_rougher = cb.CatBoostRegressor(loss_function='MAPE', eval_metric='SMAPE', verbose=200)\n",
    "cb_final_scores = cross_val_score(cb_final_rougher, \n",
    "                                  features_final, \n",
    "                                  target_final, \n",
    "                                  cv=5, \n",
    "                                  scoring=smape_scorer, \n",
    "                                  n_jobs=-1, \n",
    "                                  verbose=10)"
   ]
  },
  {
   "cell_type": "code",
   "execution_count": 33,
   "metadata": {},
   "outputs": [
    {
     "name": "stdout",
     "output_type": "stream",
     "text": [
      "Метрика SMAPE для предсказаний final:  8.341404511834165\n"
     ]
    }
   ],
   "source": [
    "cb_smape_final = abs(cb_final_scores.mean())\n",
    "print('Метрика SMAPE для предсказаний final: ', cb_smape_final)"
   ]
  },
  {
   "cell_type": "code",
   "execution_count": 34,
   "metadata": {
    "scrolled": true
   },
   "outputs": [
    {
     "name": "stdout",
     "output_type": "stream",
     "text": [
      "Итоговое sMAPE CatBoost: 7.667149746611919\n"
     ]
    }
   ],
   "source": [
    "print('Итоговое sMAPE CatBoost:', total_smape(cb_smape_rougher, cb_smape_final))"
   ]
  },
  {
   "cell_type": "markdown",
   "metadata": {},
   "source": [
    "### Модель линейной регрессии"
   ]
  },
  {
   "cell_type": "code",
   "execution_count": 35,
   "metadata": {},
   "outputs": [
    {
     "name": "stdout",
     "output_type": "stream",
     "text": [
      "[CV] START .....................................................................\n"
     ]
    },
    {
     "name": "stderr",
     "output_type": "stream",
     "text": [
      "[Parallel(n_jobs=-1)]: Using backend SequentialBackend with 1 concurrent workers.\n"
     ]
    },
    {
     "name": "stdout",
     "output_type": "stream",
     "text": [
      "[CV] END ............................... score: (test=-9.660) total time=   0.4s\n",
      "[CV] START .....................................................................\n"
     ]
    },
    {
     "name": "stderr",
     "output_type": "stream",
     "text": [
      "[Parallel(n_jobs=-1)]: Done   1 out of   1 | elapsed:    0.4s remaining:    0.0s\n"
     ]
    },
    {
     "name": "stdout",
     "output_type": "stream",
     "text": [
      "[CV] END ............................... score: (test=-5.334) total time=   0.4s\n",
      "[CV] START .....................................................................\n"
     ]
    },
    {
     "name": "stderr",
     "output_type": "stream",
     "text": [
      "[Parallel(n_jobs=-1)]: Done   2 out of   2 | elapsed:    0.8s remaining:    0.0s\n"
     ]
    },
    {
     "name": "stdout",
     "output_type": "stream",
     "text": [
      "[CV] END ............................... score: (test=-6.768) total time=   0.5s\n",
      "[CV] START .....................................................................\n"
     ]
    },
    {
     "name": "stderr",
     "output_type": "stream",
     "text": [
      "[Parallel(n_jobs=-1)]: Done   3 out of   3 | elapsed:    1.3s remaining:    0.0s\n"
     ]
    },
    {
     "name": "stdout",
     "output_type": "stream",
     "text": [
      "[CV] END ............................... score: (test=-4.714) total time=   0.3s\n",
      "[CV] START .....................................................................\n",
      "[CV] END ............................... score: (test=-8.706) total time=   0.1s\n"
     ]
    },
    {
     "name": "stderr",
     "output_type": "stream",
     "text": [
      "[Parallel(n_jobs=-1)]: Done   4 out of   4 | elapsed:    1.6s remaining:    0.0s\n",
      "[Parallel(n_jobs=-1)]: Done   5 out of   5 | elapsed:    1.7s remaining:    0.0s\n",
      "[Parallel(n_jobs=-1)]: Done   5 out of   5 | elapsed:    1.7s finished\n"
     ]
    }
   ],
   "source": [
    "lr_rougher = LinearRegression()\n",
    "lr_scores = cross_val_score(lr_rougher, \n",
    "                            features_rougher, \n",
    "                            target_rougher, \n",
    "                            cv=5, \n",
    "                            scoring=smape_scorer, \n",
    "                            n_jobs=-1,\n",
    "                            verbose=10)"
   ]
  },
  {
   "cell_type": "code",
   "execution_count": 36,
   "metadata": {},
   "outputs": [
    {
     "name": "stdout",
     "output_type": "stream",
     "text": [
      "Метрика SMAPE для предсказаний rougher:  7.036204516302165\n"
     ]
    }
   ],
   "source": [
    "lr_smape_rougher = abs(lr_scores.mean())\n",
    "print('Метрика SMAPE для предсказаний rougher: ', lr_smape_rougher)"
   ]
  },
  {
   "cell_type": "code",
   "execution_count": 37,
   "metadata": {},
   "outputs": [
    {
     "name": "stdout",
     "output_type": "stream",
     "text": [
      "[CV] START .....................................................................\n"
     ]
    },
    {
     "name": "stderr",
     "output_type": "stream",
     "text": [
      "[Parallel(n_jobs=-1)]: Using backend SequentialBackend with 1 concurrent workers.\n"
     ]
    },
    {
     "name": "stdout",
     "output_type": "stream",
     "text": [
      "[CV] END .............................. score: (test=-10.951) total time=   0.2s\n",
      "[CV] START .....................................................................\n"
     ]
    },
    {
     "name": "stderr",
     "output_type": "stream",
     "text": [
      "[Parallel(n_jobs=-1)]: Done   1 out of   1 | elapsed:    0.2s remaining:    0.0s\n"
     ]
    },
    {
     "name": "stdout",
     "output_type": "stream",
     "text": [
      "[CV] END ............................... score: (test=-7.699) total time=   0.3s\n",
      "[CV] START .....................................................................\n"
     ]
    },
    {
     "name": "stderr",
     "output_type": "stream",
     "text": [
      "[Parallel(n_jobs=-1)]: Done   2 out of   2 | elapsed:    0.5s remaining:    0.0s\n"
     ]
    },
    {
     "name": "stdout",
     "output_type": "stream",
     "text": [
      "[CV] END ............................... score: (test=-8.767) total time=   0.4s\n",
      "[CV] START .....................................................................\n"
     ]
    },
    {
     "name": "stderr",
     "output_type": "stream",
     "text": [
      "[Parallel(n_jobs=-1)]: Done   3 out of   3 | elapsed:    0.9s remaining:    0.0s\n"
     ]
    },
    {
     "name": "stdout",
     "output_type": "stream",
     "text": [
      "[CV] END ............................... score: (test=-8.275) total time=   0.4s\n",
      "[CV] START .....................................................................\n"
     ]
    },
    {
     "name": "stderr",
     "output_type": "stream",
     "text": [
      "[Parallel(n_jobs=-1)]: Done   4 out of   4 | elapsed:    1.3s remaining:    0.0s\n"
     ]
    },
    {
     "name": "stdout",
     "output_type": "stream",
     "text": [
      "[CV] END .............................. score: (test=-10.978) total time=   0.8s\n"
     ]
    },
    {
     "name": "stderr",
     "output_type": "stream",
     "text": [
      "[Parallel(n_jobs=-1)]: Done   5 out of   5 | elapsed:    2.1s remaining:    0.0s\n",
      "[Parallel(n_jobs=-1)]: Done   5 out of   5 | elapsed:    2.1s finished\n"
     ]
    }
   ],
   "source": [
    "lr_final = LinearRegression()\n",
    "lr_final_scores = cross_val_score(lr_rougher, \n",
    "                                  features_final, \n",
    "                                  target_final, \n",
    "                                  cv=5, \n",
    "                                  scoring=smape_scorer, \n",
    "                                  n_jobs=-1, \n",
    "                                  verbose=10)"
   ]
  },
  {
   "cell_type": "code",
   "execution_count": 38,
   "metadata": {},
   "outputs": [
    {
     "name": "stdout",
     "output_type": "stream",
     "text": [
      "Метрика SMAPE для предсказаний final:  9.333974508439317\n"
     ]
    }
   ],
   "source": [
    "lr_smape_final = abs(lr_final_scores.mean())\n",
    "print('Метрика SMAPE для предсказаний final: ', lr_smape_final)"
   ]
  },
  {
   "cell_type": "code",
   "execution_count": 39,
   "metadata": {
    "scrolled": true
   },
   "outputs": [
    {
     "name": "stdout",
     "output_type": "stream",
     "text": [
      "Итоговое sMAPE Линейной регрессии: 8.759532010405028\n"
     ]
    }
   ],
   "source": [
    "print('Итоговое sMAPE Линейной регрессии:', total_smape(lr_smape_rougher, lr_smape_final))"
   ]
  },
  {
   "cell_type": "markdown",
   "metadata": {},
   "source": [
    "### Модель дерево решений"
   ]
  },
  {
   "cell_type": "code",
   "execution_count": 40,
   "metadata": {},
   "outputs": [
    {
     "name": "stdout",
     "output_type": "stream",
     "text": [
      "Fitting 3 folds for each of 24 candidates, totalling 72 fits\n",
      "[CV 1/3] END max_depth=7, max_features=sqrt, max_leaf_nodes=None, min_samples_leaf=4, splitter=random; total time=   0.0s\n",
      "[CV 2/3] END max_depth=7, max_features=sqrt, max_leaf_nodes=None, min_samples_leaf=4, splitter=random; total time=   0.0s\n",
      "[CV 3/3] END max_depth=7, max_features=sqrt, max_leaf_nodes=None, min_samples_leaf=4, splitter=random; total time=   0.0s\n",
      "[CV 1/3] END max_depth=7, max_features=sqrt, max_leaf_nodes=None, min_samples_leaf=6, splitter=random; total time=   0.0s\n",
      "[CV 2/3] END max_depth=7, max_features=sqrt, max_leaf_nodes=None, min_samples_leaf=6, splitter=random; total time=   0.0s\n",
      "[CV 3/3] END max_depth=7, max_features=sqrt, max_leaf_nodes=None, min_samples_leaf=6, splitter=random; total time=   0.0s\n",
      "[CV 1/3] END max_depth=7, max_features=sqrt, max_leaf_nodes=10, min_samples_leaf=4, splitter=random; total time=   0.0s\n",
      "[CV 2/3] END max_depth=7, max_features=sqrt, max_leaf_nodes=10, min_samples_leaf=4, splitter=random; total time=   0.0s\n",
      "[CV 3/3] END max_depth=7, max_features=sqrt, max_leaf_nodes=10, min_samples_leaf=4, splitter=random; total time=   0.0s\n",
      "[CV 1/3] END max_depth=7, max_features=sqrt, max_leaf_nodes=10, min_samples_leaf=6, splitter=random; total time=   0.0s\n",
      "[CV 2/3] END max_depth=7, max_features=sqrt, max_leaf_nodes=10, min_samples_leaf=6, splitter=random; total time=   0.0s\n",
      "[CV 3/3] END max_depth=7, max_features=sqrt, max_leaf_nodes=10, min_samples_leaf=6, splitter=random; total time=   0.0s\n",
      "[CV 1/3] END max_depth=7, max_features=sqrt, max_leaf_nodes=30, min_samples_leaf=4, splitter=random; total time=   0.0s\n",
      "[CV 2/3] END max_depth=7, max_features=sqrt, max_leaf_nodes=30, min_samples_leaf=4, splitter=random; total time=   0.0s\n",
      "[CV 3/3] END max_depth=7, max_features=sqrt, max_leaf_nodes=30, min_samples_leaf=4, splitter=random; total time=   0.0s\n",
      "[CV 1/3] END max_depth=7, max_features=sqrt, max_leaf_nodes=30, min_samples_leaf=6, splitter=random; total time=   0.0s\n",
      "[CV 2/3] END max_depth=7, max_features=sqrt, max_leaf_nodes=30, min_samples_leaf=6, splitter=random; total time=   0.0s\n",
      "[CV 3/3] END max_depth=7, max_features=sqrt, max_leaf_nodes=30, min_samples_leaf=6, splitter=random; total time=   0.0s\n",
      "[CV 1/3] END max_depth=7, max_features=None, max_leaf_nodes=None, min_samples_leaf=4, splitter=random; total time=   0.0s\n",
      "[CV 2/3] END max_depth=7, max_features=None, max_leaf_nodes=None, min_samples_leaf=4, splitter=random; total time=   0.0s\n",
      "[CV 3/3] END max_depth=7, max_features=None, max_leaf_nodes=None, min_samples_leaf=4, splitter=random; total time=   0.0s\n",
      "[CV 1/3] END max_depth=7, max_features=None, max_leaf_nodes=None, min_samples_leaf=6, splitter=random; total time=   0.0s\n",
      "[CV 2/3] END max_depth=7, max_features=None, max_leaf_nodes=None, min_samples_leaf=6, splitter=random; total time=   0.0s\n",
      "[CV 3/3] END max_depth=7, max_features=None, max_leaf_nodes=None, min_samples_leaf=6, splitter=random; total time=   0.0s\n",
      "[CV 1/3] END max_depth=7, max_features=None, max_leaf_nodes=10, min_samples_leaf=4, splitter=random; total time=   0.0s\n",
      "[CV 2/3] END max_depth=7, max_features=None, max_leaf_nodes=10, min_samples_leaf=4, splitter=random; total time=   0.0s\n",
      "[CV 3/3] END max_depth=7, max_features=None, max_leaf_nodes=10, min_samples_leaf=4, splitter=random; total time=   0.0s\n",
      "[CV 1/3] END max_depth=7, max_features=None, max_leaf_nodes=10, min_samples_leaf=6, splitter=random; total time=   0.0s\n",
      "[CV 2/3] END max_depth=7, max_features=None, max_leaf_nodes=10, min_samples_leaf=6, splitter=random; total time=   0.0s\n",
      "[CV 3/3] END max_depth=7, max_features=None, max_leaf_nodes=10, min_samples_leaf=6, splitter=random; total time=   0.0s\n",
      "[CV 1/3] END max_depth=7, max_features=None, max_leaf_nodes=30, min_samples_leaf=4, splitter=random; total time=   0.0s\n",
      "[CV 2/3] END max_depth=7, max_features=None, max_leaf_nodes=30, min_samples_leaf=4, splitter=random; total time=   0.0s\n",
      "[CV 3/3] END max_depth=7, max_features=None, max_leaf_nodes=30, min_samples_leaf=4, splitter=random; total time=   0.0s\n",
      "[CV 1/3] END max_depth=7, max_features=None, max_leaf_nodes=30, min_samples_leaf=6, splitter=random; total time=   0.0s\n",
      "[CV 2/3] END max_depth=7, max_features=None, max_leaf_nodes=30, min_samples_leaf=6, splitter=random; total time=   0.0s\n",
      "[CV 3/3] END max_depth=7, max_features=None, max_leaf_nodes=30, min_samples_leaf=6, splitter=random; total time=   0.0s\n",
      "[CV 1/3] END max_depth=9, max_features=sqrt, max_leaf_nodes=None, min_samples_leaf=4, splitter=random; total time=   0.0s\n",
      "[CV 2/3] END max_depth=9, max_features=sqrt, max_leaf_nodes=None, min_samples_leaf=4, splitter=random; total time=   0.0s\n",
      "[CV 3/3] END max_depth=9, max_features=sqrt, max_leaf_nodes=None, min_samples_leaf=4, splitter=random; total time=   0.0s\n",
      "[CV 1/3] END max_depth=9, max_features=sqrt, max_leaf_nodes=None, min_samples_leaf=6, splitter=random; total time=   0.0s\n",
      "[CV 2/3] END max_depth=9, max_features=sqrt, max_leaf_nodes=None, min_samples_leaf=6, splitter=random; total time=   0.0s\n",
      "[CV 3/3] END max_depth=9, max_features=sqrt, max_leaf_nodes=None, min_samples_leaf=6, splitter=random; total time=   0.0s\n",
      "[CV 1/3] END max_depth=9, max_features=sqrt, max_leaf_nodes=10, min_samples_leaf=4, splitter=random; total time=   0.0s\n",
      "[CV 2/3] END max_depth=9, max_features=sqrt, max_leaf_nodes=10, min_samples_leaf=4, splitter=random; total time=   0.0s\n",
      "[CV 3/3] END max_depth=9, max_features=sqrt, max_leaf_nodes=10, min_samples_leaf=4, splitter=random; total time=   0.0s\n",
      "[CV 1/3] END max_depth=9, max_features=sqrt, max_leaf_nodes=10, min_samples_leaf=6, splitter=random; total time=   0.0s\n",
      "[CV 2/3] END max_depth=9, max_features=sqrt, max_leaf_nodes=10, min_samples_leaf=6, splitter=random; total time=   0.0s\n",
      "[CV 3/3] END max_depth=9, max_features=sqrt, max_leaf_nodes=10, min_samples_leaf=6, splitter=random; total time=   0.0s\n",
      "[CV 1/3] END max_depth=9, max_features=sqrt, max_leaf_nodes=30, min_samples_leaf=4, splitter=random; total time=   0.0s\n",
      "[CV 2/3] END max_depth=9, max_features=sqrt, max_leaf_nodes=30, min_samples_leaf=4, splitter=random; total time=   0.0s\n",
      "[CV 3/3] END max_depth=9, max_features=sqrt, max_leaf_nodes=30, min_samples_leaf=4, splitter=random; total time=   0.0s\n",
      "[CV 1/3] END max_depth=9, max_features=sqrt, max_leaf_nodes=30, min_samples_leaf=6, splitter=random; total time=   0.0s\n",
      "[CV 2/3] END max_depth=9, max_features=sqrt, max_leaf_nodes=30, min_samples_leaf=6, splitter=random; total time=   0.0s\n",
      "[CV 3/3] END max_depth=9, max_features=sqrt, max_leaf_nodes=30, min_samples_leaf=6, splitter=random; total time=   0.0s\n",
      "[CV 1/3] END max_depth=9, max_features=None, max_leaf_nodes=None, min_samples_leaf=4, splitter=random; total time=   0.0s\n",
      "[CV 2/3] END max_depth=9, max_features=None, max_leaf_nodes=None, min_samples_leaf=4, splitter=random; total time=   0.0s\n",
      "[CV 3/3] END max_depth=9, max_features=None, max_leaf_nodes=None, min_samples_leaf=4, splitter=random; total time=   0.0s\n",
      "[CV 1/3] END max_depth=9, max_features=None, max_leaf_nodes=None, min_samples_leaf=6, splitter=random; total time=   0.0s\n",
      "[CV 2/3] END max_depth=9, max_features=None, max_leaf_nodes=None, min_samples_leaf=6, splitter=random; total time=   0.0s\n",
      "[CV 3/3] END max_depth=9, max_features=None, max_leaf_nodes=None, min_samples_leaf=6, splitter=random; total time=   0.0s\n",
      "[CV 1/3] END max_depth=9, max_features=None, max_leaf_nodes=10, min_samples_leaf=4, splitter=random; total time=   0.0s\n",
      "[CV 2/3] END max_depth=9, max_features=None, max_leaf_nodes=10, min_samples_leaf=4, splitter=random; total time=   0.0s\n",
      "[CV 3/3] END max_depth=9, max_features=None, max_leaf_nodes=10, min_samples_leaf=4, splitter=random; total time=   0.0s\n",
      "[CV 1/3] END max_depth=9, max_features=None, max_leaf_nodes=10, min_samples_leaf=6, splitter=random; total time=   0.0s\n",
      "[CV 2/3] END max_depth=9, max_features=None, max_leaf_nodes=10, min_samples_leaf=6, splitter=random; total time=   0.0s\n",
      "[CV 3/3] END max_depth=9, max_features=None, max_leaf_nodes=10, min_samples_leaf=6, splitter=random; total time=   0.0s\n",
      "[CV 1/3] END max_depth=9, max_features=None, max_leaf_nodes=30, min_samples_leaf=4, splitter=random; total time=   0.0s\n",
      "[CV 2/3] END max_depth=9, max_features=None, max_leaf_nodes=30, min_samples_leaf=4, splitter=random; total time=   0.0s\n",
      "[CV 3/3] END max_depth=9, max_features=None, max_leaf_nodes=30, min_samples_leaf=4, splitter=random; total time=   0.0s\n",
      "[CV 1/3] END max_depth=9, max_features=None, max_leaf_nodes=30, min_samples_leaf=6, splitter=random; total time=   0.0s\n",
      "[CV 2/3] END max_depth=9, max_features=None, max_leaf_nodes=30, min_samples_leaf=6, splitter=random; total time=   0.0s\n",
      "[CV 3/3] END max_depth=9, max_features=None, max_leaf_nodes=30, min_samples_leaf=6, splitter=random; total time=   0.0s\n"
     ]
    },
    {
     "data": {
      "text/plain": [
       "GridSearchCV(cv=3, estimator=DecisionTreeRegressor(random_state=12345),\n",
       "             n_jobs=-1,\n",
       "             param_grid={'max_depth': [7, 9], 'max_features': ['sqrt', None],\n",
       "                         'max_leaf_nodes': [None, 10, 30],\n",
       "                         'min_samples_leaf': [4, 6], 'splitter': ['random']},\n",
       "             scoring=make_scorer(smape, greater_is_better=False), verbose=3)"
      ]
     },
     "execution_count": 40,
     "metadata": {},
     "output_type": "execute_result"
    }
   ],
   "source": [
    "dtr_rougher = DecisionTreeRegressor(random_state=RANDOM_STATE)\n",
    "\n",
    "parameters = {\"splitter\":[\"random\"],\n",
    "              \"max_depth\" : [7,9],\n",
    "              \"min_samples_leaf\":[4,6],\n",
    "              \"max_features\":[\"sqrt\",None],\n",
    "              \"max_leaf_nodes\":[None,10,30]\n",
    "             }\n",
    "\n",
    "dtr_tuned = GridSearchCV(dtr_rougher,\n",
    "                         param_grid=parameters,\n",
    "                         scoring=smape_scorer,\n",
    "                         cv=3,verbose=3, \n",
    "                         n_jobs=-1)\n",
    "dtr_tuned.fit(features_rougher,target_rougher)"
   ]
  },
  {
   "cell_type": "markdown",
   "metadata": {},
   "source": [
    "Лучшие гиперпараметры"
   ]
  },
  {
   "cell_type": "code",
   "execution_count": 41,
   "metadata": {},
   "outputs": [
    {
     "data": {
      "text/plain": [
       "{'max_depth': 7,\n",
       " 'max_features': None,\n",
       " 'max_leaf_nodes': None,\n",
       " 'min_samples_leaf': 6,\n",
       " 'splitter': 'random'}"
      ]
     },
     "execution_count": 41,
     "metadata": {},
     "output_type": "execute_result"
    }
   ],
   "source": [
    "dtr_tuned.best_params_"
   ]
  },
  {
   "cell_type": "code",
   "execution_count": 42,
   "metadata": {},
   "outputs": [
    {
     "name": "stdout",
     "output_type": "stream",
     "text": [
      "Метрика SMAPE для предсказаний rougher:  7.535173595874691\n"
     ]
    }
   ],
   "source": [
    "dtr_smape_rougher = abs(dtr_tuned.cv_results_['mean_test_score'].mean())\n",
    "print('Метрика SMAPE для предсказаний rougher: ', dtr_smape_rougher)"
   ]
  },
  {
   "cell_type": "code",
   "execution_count": 43,
   "metadata": {},
   "outputs": [
    {
     "name": "stdout",
     "output_type": "stream",
     "text": [
      "Fitting 3 folds for each of 24 candidates, totalling 72 fits\n",
      "[CV 1/3] END max_depth=7, max_features=auto, max_leaf_nodes=None, min_samples_leaf=6, splitter=best; total time=   0.3s\n",
      "[CV 2/3] END max_depth=7, max_features=auto, max_leaf_nodes=None, min_samples_leaf=6, splitter=best; total time=   0.3s\n",
      "[CV 3/3] END max_depth=7, max_features=auto, max_leaf_nodes=None, min_samples_leaf=6, splitter=best; total time=   0.3s\n",
      "[CV 1/3] END max_depth=7, max_features=auto, max_leaf_nodes=None, min_samples_leaf=8, splitter=best; total time=   0.3s\n",
      "[CV 2/3] END max_depth=7, max_features=auto, max_leaf_nodes=None, min_samples_leaf=8, splitter=best; total time=   0.3s\n",
      "[CV 3/3] END max_depth=7, max_features=auto, max_leaf_nodes=None, min_samples_leaf=8, splitter=best; total time=   0.3s\n",
      "[CV 1/3] END max_depth=7, max_features=auto, max_leaf_nodes=10, min_samples_leaf=6, splitter=best; total time=   0.2s\n",
      "[CV 2/3] END max_depth=7, max_features=auto, max_leaf_nodes=10, min_samples_leaf=6, splitter=best; total time=   0.2s\n",
      "[CV 3/3] END max_depth=7, max_features=auto, max_leaf_nodes=10, min_samples_leaf=6, splitter=best; total time=   0.2s\n",
      "[CV 1/3] END max_depth=7, max_features=auto, max_leaf_nodes=10, min_samples_leaf=8, splitter=best; total time=   0.2s\n",
      "[CV 2/3] END max_depth=7, max_features=auto, max_leaf_nodes=10, min_samples_leaf=8, splitter=best; total time=   0.2s\n",
      "[CV 3/3] END max_depth=7, max_features=auto, max_leaf_nodes=10, min_samples_leaf=8, splitter=best; total time=   0.2s\n",
      "[CV 1/3] END max_depth=7, max_features=auto, max_leaf_nodes=30, min_samples_leaf=6, splitter=best; total time=   0.3s\n",
      "[CV 2/3] END max_depth=7, max_features=auto, max_leaf_nodes=30, min_samples_leaf=6, splitter=best; total time=   0.3s\n",
      "[CV 3/3] END max_depth=7, max_features=auto, max_leaf_nodes=30, min_samples_leaf=6, splitter=best; total time=   0.3s\n",
      "[CV 1/3] END max_depth=7, max_features=auto, max_leaf_nodes=30, min_samples_leaf=8, splitter=best; total time=   0.3s\n",
      "[CV 2/3] END max_depth=7, max_features=auto, max_leaf_nodes=30, min_samples_leaf=8, splitter=best; total time=   0.3s\n",
      "[CV 3/3] END max_depth=7, max_features=auto, max_leaf_nodes=30, min_samples_leaf=8, splitter=best; total time=   0.3s\n",
      "[CV 1/3] END max_depth=7, max_features=None, max_leaf_nodes=None, min_samples_leaf=6, splitter=best; total time=   0.3s\n",
      "[CV 2/3] END max_depth=7, max_features=None, max_leaf_nodes=None, min_samples_leaf=6, splitter=best; total time=   0.3s\n",
      "[CV 3/3] END max_depth=7, max_features=None, max_leaf_nodes=None, min_samples_leaf=6, splitter=best; total time=   0.3s\n",
      "[CV 1/3] END max_depth=7, max_features=None, max_leaf_nodes=None, min_samples_leaf=8, splitter=best; total time=   0.3s\n",
      "[CV 2/3] END max_depth=7, max_features=None, max_leaf_nodes=None, min_samples_leaf=8, splitter=best; total time=   0.3s\n",
      "[CV 3/3] END max_depth=7, max_features=None, max_leaf_nodes=None, min_samples_leaf=8, splitter=best; total time=   0.3s\n",
      "[CV 1/3] END max_depth=7, max_features=None, max_leaf_nodes=10, min_samples_leaf=6, splitter=best; total time=   0.2s\n",
      "[CV 2/3] END max_depth=7, max_features=None, max_leaf_nodes=10, min_samples_leaf=6, splitter=best; total time=   0.2s\n",
      "[CV 3/3] END max_depth=7, max_features=None, max_leaf_nodes=10, min_samples_leaf=6, splitter=best; total time=   0.2s\n",
      "[CV 1/3] END max_depth=7, max_features=None, max_leaf_nodes=10, min_samples_leaf=8, splitter=best; total time=   0.2s\n",
      "[CV 2/3] END max_depth=7, max_features=None, max_leaf_nodes=10, min_samples_leaf=8, splitter=best; total time=   0.2s\n",
      "[CV 3/3] END max_depth=7, max_features=None, max_leaf_nodes=10, min_samples_leaf=8, splitter=best; total time=   0.2s\n",
      "[CV 1/3] END max_depth=7, max_features=None, max_leaf_nodes=30, min_samples_leaf=6, splitter=best; total time=   0.3s\n",
      "[CV 2/3] END max_depth=7, max_features=None, max_leaf_nodes=30, min_samples_leaf=6, splitter=best; total time=   0.3s\n",
      "[CV 3/3] END max_depth=7, max_features=None, max_leaf_nodes=30, min_samples_leaf=6, splitter=best; total time=   0.3s\n",
      "[CV 1/3] END max_depth=7, max_features=None, max_leaf_nodes=30, min_samples_leaf=8, splitter=best; total time=   0.3s\n",
      "[CV 2/3] END max_depth=7, max_features=None, max_leaf_nodes=30, min_samples_leaf=8, splitter=best; total time=   0.3s\n",
      "[CV 3/3] END max_depth=7, max_features=None, max_leaf_nodes=30, min_samples_leaf=8, splitter=best; total time=   0.3s\n",
      "[CV 1/3] END max_depth=9, max_features=auto, max_leaf_nodes=None, min_samples_leaf=6, splitter=best; total time=   0.4s\n",
      "[CV 2/3] END max_depth=9, max_features=auto, max_leaf_nodes=None, min_samples_leaf=6, splitter=best; total time=   0.3s\n",
      "[CV 3/3] END max_depth=9, max_features=auto, max_leaf_nodes=None, min_samples_leaf=6, splitter=best; total time=   0.4s\n",
      "[CV 1/3] END max_depth=9, max_features=auto, max_leaf_nodes=None, min_samples_leaf=8, splitter=best; total time=   0.4s\n",
      "[CV 2/3] END max_depth=9, max_features=auto, max_leaf_nodes=None, min_samples_leaf=8, splitter=best; total time=   0.3s\n",
      "[CV 3/3] END max_depth=9, max_features=auto, max_leaf_nodes=None, min_samples_leaf=8, splitter=best; total time=   0.4s\n",
      "[CV 1/3] END max_depth=9, max_features=auto, max_leaf_nodes=10, min_samples_leaf=6, splitter=best; total time=   0.2s\n",
      "[CV 2/3] END max_depth=9, max_features=auto, max_leaf_nodes=10, min_samples_leaf=6, splitter=best; total time=   0.2s\n",
      "[CV 3/3] END max_depth=9, max_features=auto, max_leaf_nodes=10, min_samples_leaf=6, splitter=best; total time=   0.2s\n",
      "[CV 1/3] END max_depth=9, max_features=auto, max_leaf_nodes=10, min_samples_leaf=8, splitter=best; total time=   0.2s\n",
      "[CV 2/3] END max_depth=9, max_features=auto, max_leaf_nodes=10, min_samples_leaf=8, splitter=best; total time=   0.2s\n",
      "[CV 3/3] END max_depth=9, max_features=auto, max_leaf_nodes=10, min_samples_leaf=8, splitter=best; total time=   0.2s\n",
      "[CV 1/3] END max_depth=9, max_features=auto, max_leaf_nodes=30, min_samples_leaf=6, splitter=best; total time=   0.3s\n",
      "[CV 2/3] END max_depth=9, max_features=auto, max_leaf_nodes=30, min_samples_leaf=6, splitter=best; total time=   0.3s\n",
      "[CV 3/3] END max_depth=9, max_features=auto, max_leaf_nodes=30, min_samples_leaf=6, splitter=best; total time=   0.3s\n",
      "[CV 1/3] END max_depth=9, max_features=auto, max_leaf_nodes=30, min_samples_leaf=8, splitter=best; total time=   0.3s\n",
      "[CV 2/3] END max_depth=9, max_features=auto, max_leaf_nodes=30, min_samples_leaf=8, splitter=best; total time=   0.3s\n",
      "[CV 3/3] END max_depth=9, max_features=auto, max_leaf_nodes=30, min_samples_leaf=8, splitter=best; total time=   0.3s\n",
      "[CV 1/3] END max_depth=9, max_features=None, max_leaf_nodes=None, min_samples_leaf=6, splitter=best; total time=   0.4s\n",
      "[CV 2/3] END max_depth=9, max_features=None, max_leaf_nodes=None, min_samples_leaf=6, splitter=best; total time=   0.4s\n",
      "[CV 3/3] END max_depth=9, max_features=None, max_leaf_nodes=None, min_samples_leaf=6, splitter=best; total time=   0.4s\n",
      "[CV 1/3] END max_depth=9, max_features=None, max_leaf_nodes=None, min_samples_leaf=8, splitter=best; total time=   0.4s\n",
      "[CV 2/3] END max_depth=9, max_features=None, max_leaf_nodes=None, min_samples_leaf=8, splitter=best; total time=   0.4s\n",
      "[CV 3/3] END max_depth=9, max_features=None, max_leaf_nodes=None, min_samples_leaf=8, splitter=best; total time=   0.4s\n",
      "[CV 1/3] END max_depth=9, max_features=None, max_leaf_nodes=10, min_samples_leaf=6, splitter=best; total time=   0.2s\n",
      "[CV 2/3] END max_depth=9, max_features=None, max_leaf_nodes=10, min_samples_leaf=6, splitter=best; total time=   0.2s\n",
      "[CV 3/3] END max_depth=9, max_features=None, max_leaf_nodes=10, min_samples_leaf=6, splitter=best; total time=   0.2s\n",
      "[CV 1/3] END max_depth=9, max_features=None, max_leaf_nodes=10, min_samples_leaf=8, splitter=best; total time=   0.2s\n",
      "[CV 2/3] END max_depth=9, max_features=None, max_leaf_nodes=10, min_samples_leaf=8, splitter=best; total time=   0.2s\n",
      "[CV 3/3] END max_depth=9, max_features=None, max_leaf_nodes=10, min_samples_leaf=8, splitter=best; total time=   0.2s\n",
      "[CV 1/3] END max_depth=9, max_features=None, max_leaf_nodes=30, min_samples_leaf=6, splitter=best; total time=   0.3s\n",
      "[CV 2/3] END max_depth=9, max_features=None, max_leaf_nodes=30, min_samples_leaf=6, splitter=best; total time=   0.3s\n",
      "[CV 3/3] END max_depth=9, max_features=None, max_leaf_nodes=30, min_samples_leaf=6, splitter=best; total time=   0.3s\n",
      "[CV 1/3] END max_depth=9, max_features=None, max_leaf_nodes=30, min_samples_leaf=8, splitter=best; total time=   0.3s\n",
      "[CV 2/3] END max_depth=9, max_features=None, max_leaf_nodes=30, min_samples_leaf=8, splitter=best; total time=   0.2s\n",
      "[CV 3/3] END max_depth=9, max_features=None, max_leaf_nodes=30, min_samples_leaf=8, splitter=best; total time=   0.3s\n"
     ]
    },
    {
     "data": {
      "text/plain": [
       "GridSearchCV(cv=3, estimator=DecisionTreeRegressor(random_state=12345),\n",
       "             n_jobs=-1,\n",
       "             param_grid={'max_depth': [7, 9], 'max_features': ['auto', None],\n",
       "                         'max_leaf_nodes': [None, 10, 30],\n",
       "                         'min_samples_leaf': [6, 8], 'splitter': ['best']},\n",
       "             scoring=make_scorer(smape, greater_is_better=False), verbose=3)"
      ]
     },
     "execution_count": 43,
     "metadata": {},
     "output_type": "execute_result"
    }
   ],
   "source": [
    "dtr_final = DecisionTreeRegressor(random_state=RANDOM_STATE)\n",
    "\n",
    "\n",
    "parameters = {\"splitter\":[\"best\"],\n",
    "              \"max_depth\" : [7,9],\n",
    "              \"min_samples_leaf\":[6,8],\n",
    "              \"max_features\":[\"auto\",None],\n",
    "              \"max_leaf_nodes\":[None,10,30]\n",
    "             }\n",
    "\n",
    "dtr_final_tuned = GridSearchCV(dtr_final,\n",
    "                               param_grid=parameters,\n",
    "                               scoring=smape_scorer,\n",
    "                               cv=3,verbose=3, \n",
    "                               n_jobs=-1)\n",
    "dtr_final_tuned.fit(features_final,target_final)"
   ]
  },
  {
   "cell_type": "markdown",
   "metadata": {},
   "source": [
    "Лучшие гиперпараметры"
   ]
  },
  {
   "cell_type": "code",
   "execution_count": 44,
   "metadata": {},
   "outputs": [
    {
     "data": {
      "text/plain": [
       "{'max_depth': 7,\n",
       " 'max_features': 'auto',\n",
       " 'max_leaf_nodes': 10,\n",
       " 'min_samples_leaf': 6,\n",
       " 'splitter': 'best'}"
      ]
     },
     "execution_count": 44,
     "metadata": {},
     "output_type": "execute_result"
    }
   ],
   "source": [
    "dtr_final_tuned.best_params_"
   ]
  },
  {
   "cell_type": "code",
   "execution_count": 45,
   "metadata": {},
   "outputs": [
    {
     "name": "stdout",
     "output_type": "stream",
     "text": [
      "Метрика SMAPE для предсказаний final:  10.272682031836977\n"
     ]
    }
   ],
   "source": [
    "dtr_smape_final = abs(dtr_final_tuned.cv_results_['mean_test_score'].mean())\n",
    "print('Метрика SMAPE для предсказаний final: ', dtr_smape_final)"
   ]
  },
  {
   "cell_type": "code",
   "execution_count": 46,
   "metadata": {},
   "outputs": [
    {
     "name": "stdout",
     "output_type": "stream",
     "text": [
      "Итоговое sMAPE решающего дерева: 9.588304922846405\n"
     ]
    }
   ],
   "source": [
    "print('Итоговое sMAPE решающего дерева:', total_smape(dtr_smape_rougher, dtr_smape_final))"
   ]
  },
  {
   "cell_type": "markdown",
   "metadata": {},
   "source": [
    "### Модель случайного леса"
   ]
  },
  {
   "cell_type": "code",
   "execution_count": 47,
   "metadata": {},
   "outputs": [
    {
     "name": "stdout",
     "output_type": "stream",
     "text": [
      "Fitting 3 folds for each of 2 candidates, totalling 6 fits\n",
      "[CV 1/3; 1/2] START max_depth=3, n_estimators=100...............................\n",
      "[CV 1/3; 1/2] END .............max_depth=3, n_estimators=100; total time=   8.7s\n",
      "[CV 2/3; 1/2] START max_depth=3, n_estimators=100...............................\n",
      "[CV 2/3; 1/2] END .............max_depth=3, n_estimators=100; total time=   8.4s\n",
      "[CV 3/3; 1/2] START max_depth=3, n_estimators=100...............................\n",
      "[CV 3/3; 1/2] END .............max_depth=3, n_estimators=100; total time=   8.4s\n",
      "[CV 1/3; 2/2] START max_depth=5, n_estimators=100...............................\n",
      "[CV 1/3; 2/2] END .............max_depth=5, n_estimators=100; total time=  13.5s\n",
      "[CV 2/3; 2/2] START max_depth=5, n_estimators=100...............................\n",
      "[CV 2/3; 2/2] END .............max_depth=5, n_estimators=100; total time=  13.5s\n",
      "[CV 3/3; 2/2] START max_depth=5, n_estimators=100...............................\n",
      "[CV 3/3; 2/2] END .............max_depth=5, n_estimators=100; total time=  13.1s\n"
     ]
    },
    {
     "data": {
      "text/plain": [
       "GridSearchCV(cv=3, estimator=RandomForestRegressor(random_state=12345),\n",
       "             n_jobs=-1, param_grid={'max_depth': [3, 5], 'n_estimators': [100]},\n",
       "             scoring=make_scorer(smape, greater_is_better=False), verbose=10)"
      ]
     },
     "execution_count": 47,
     "metadata": {},
     "output_type": "execute_result"
    }
   ],
   "source": [
    "rfr_rougher = RandomForestRegressor(random_state=RANDOM_STATE)\n",
    "\n",
    "parameters = {'max_depth': [3, 5],  \n",
    "              'n_estimators': [100]}\n",
    "\n",
    "rfr_tuner = GridSearchCV(rfr_rougher,\n",
    "                         param_grid=parameters,\n",
    "                         scoring=smape_scorer,\n",
    "                         cv=3,\n",
    "                         verbose=10, \n",
    "                         n_jobs=-1)\n",
    "\n",
    "rfr_tuner.fit(features_rougher,target_rougher)"
   ]
  },
  {
   "cell_type": "markdown",
   "metadata": {},
   "source": [
    "Лучшие гиперпараметры"
   ]
  },
  {
   "cell_type": "code",
   "execution_count": 48,
   "metadata": {},
   "outputs": [
    {
     "data": {
      "text/plain": [
       "{'max_depth': 5, 'n_estimators': 100}"
      ]
     },
     "execution_count": 48,
     "metadata": {},
     "output_type": "execute_result"
    }
   ],
   "source": [
    "rfr_tuner.best_params_"
   ]
  },
  {
   "cell_type": "code",
   "execution_count": 49,
   "metadata": {},
   "outputs": [
    {
     "name": "stdout",
     "output_type": "stream",
     "text": [
      "Метрика SMAPE для предсказаний rougher:  6.390632709603167\n"
     ]
    }
   ],
   "source": [
    "rfr_smape_rougher = abs(rfr_tuner.cv_results_['mean_test_score'].mean())\n",
    "print('Метрика SMAPE для предсказаний rougher: ', rfr_smape_rougher)"
   ]
  },
  {
   "cell_type": "code",
   "execution_count": 50,
   "metadata": {},
   "outputs": [
    {
     "name": "stdout",
     "output_type": "stream",
     "text": [
      "Fitting 3 folds for each of 2 candidates, totalling 6 fits\n",
      "[CV 1/3; 1/2] START max_depth=3, n_estimators=150...............................\n",
      "[CV 1/3; 1/2] END .............max_depth=3, n_estimators=150; total time=  12.5s\n",
      "[CV 2/3; 1/2] START max_depth=3, n_estimators=150...............................\n",
      "[CV 2/3; 1/2] END .............max_depth=3, n_estimators=150; total time=  12.8s\n",
      "[CV 3/3; 1/2] START max_depth=3, n_estimators=150...............................\n",
      "[CV 3/3; 1/2] END .............max_depth=3, n_estimators=150; total time=  12.6s\n",
      "[CV 1/3; 2/2] START max_depth=5, n_estimators=150...............................\n",
      "[CV 1/3; 2/2] END .............max_depth=5, n_estimators=150; total time=  19.9s\n",
      "[CV 2/3; 2/2] START max_depth=5, n_estimators=150...............................\n",
      "[CV 2/3; 2/2] END .............max_depth=5, n_estimators=150; total time=  19.7s\n",
      "[CV 3/3; 2/2] START max_depth=5, n_estimators=150...............................\n",
      "[CV 3/3; 2/2] END .............max_depth=5, n_estimators=150; total time=  19.9s\n"
     ]
    },
    {
     "data": {
      "text/plain": [
       "GridSearchCV(cv=3, estimator=RandomForestRegressor(random_state=12345),\n",
       "             n_jobs=-1, param_grid={'max_depth': [3, 5], 'n_estimators': [150]},\n",
       "             scoring=make_scorer(smape, greater_is_better=False), verbose=10)"
      ]
     },
     "execution_count": 50,
     "metadata": {},
     "output_type": "execute_result"
    }
   ],
   "source": [
    "rfr_final_tuner = RandomForestRegressor(random_state=RANDOM_STATE)\n",
    "\n",
    "parameters = {'max_depth': [3, 5],  \n",
    "              'n_estimators': [150]\n",
    "             }\n",
    "\n",
    "rfr_final_tuner = GridSearchCV(rfr_final_tuner,\n",
    "                               param_grid=parameters,\n",
    "                               scoring=smape_scorer,\n",
    "                               cv=3,\n",
    "                               verbose=10, \n",
    "                               n_jobs=-1)\n",
    "\n",
    "rfr_final_tuner.fit(features_final,target_final)"
   ]
  },
  {
   "cell_type": "markdown",
   "metadata": {},
   "source": [
    "Лучшие гиперпараметры"
   ]
  },
  {
   "cell_type": "code",
   "execution_count": 51,
   "metadata": {},
   "outputs": [
    {
     "data": {
      "text/plain": [
       "{'max_depth': 5, 'n_estimators': 150}"
      ]
     },
     "execution_count": 51,
     "metadata": {},
     "output_type": "execute_result"
    }
   ],
   "source": [
    "rfr_final_tuner.best_params_"
   ]
  },
  {
   "cell_type": "code",
   "execution_count": 52,
   "metadata": {},
   "outputs": [
    {
     "name": "stdout",
     "output_type": "stream",
     "text": [
      "Метрика SMAPE для предсказаний final:  9.60340391994219\n"
     ]
    }
   ],
   "source": [
    "rfr_smape_final = abs(rfr_final_tuner.cv_results_['mean_test_score'].mean())\n",
    "print('Метрика SMAPE для предсказаний final: ', rfr_smape_final)"
   ]
  },
  {
   "cell_type": "code",
   "execution_count": 53,
   "metadata": {
    "scrolled": true
   },
   "outputs": [
    {
     "name": "stdout",
     "output_type": "stream",
     "text": [
      "Итоговое sMAPE случайного леса: 8.800211117357435\n"
     ]
    }
   ],
   "source": [
    "print('Итоговое sMAPE случайного леса:', total_smape(rfr_smape_rougher, rfr_smape_final))"
   ]
  },
  {
   "cell_type": "markdown",
   "metadata": {},
   "source": [
    "### Выводы"
   ]
  },
  {
   "cell_type": "markdown",
   "metadata": {},
   "source": [
    "По итогам проверки четырех моделей:\n",
    "\n",
    "- Итоговое sMAPE CatBoost: 7.67\n",
    "- Итоговое sMAPE линейной регрессии: 8.76\n",
    "- Итоговое sMAPE решающего дерева: 9.59\n",
    "- Итоговое sMAPE случайного леса: 8.80\n",
    "\n",
    "Для тестовой выборки будем использовать моедль градиентный бустинг"
   ]
  },
  {
   "cell_type": "markdown",
   "metadata": {},
   "source": [
    "## Проверка на тестовой выборке"
   ]
  },
  {
   "cell_type": "markdown",
   "metadata": {},
   "source": [
    "Для начало необходимо обрабоать признаки в тестовом датафрейме"
   ]
  },
  {
   "cell_type": "code",
   "execution_count": 54,
   "metadata": {},
   "outputs": [],
   "source": [
    "test_target = pd.merge(df_test, \n",
    "                       df[['date','rougher.output.recovery','final.output.recovery']], \n",
    "                       how='left', \n",
    "                       on='date')\n",
    "\n",
    "test_rougher_target = test_target['rougher.output.recovery']\n",
    "test_rougher_features = df_test.drop('date', axis=1)\n",
    "\n",
    "test_final_target = test_target['final.output.recovery']\n",
    "test_final_features = df_test.drop('date', axis=1)"
   ]
  },
  {
   "cell_type": "code",
   "execution_count": 56,
   "metadata": {},
   "outputs": [
    {
     "name": "stdout",
     "output_type": "stream",
     "text": [
      "0:\tlearn: 6.4422944\ttotal: 17.4ms\tremaining: 17.4s\n",
      "200:\tlearn: 3.7401970\ttotal: 3.63s\tremaining: 14.4s\n",
      "400:\tlearn: 3.2551485\ttotal: 6.9s\tremaining: 10.3s\n",
      "600:\tlearn: 2.9996697\ttotal: 10.2s\tremaining: 6.8s\n",
      "800:\tlearn: 2.8228618\ttotal: 13.8s\tremaining: 3.42s\n",
      "999:\tlearn: 2.6860290\ttotal: 17.1s\tremaining: 0us\n",
      "Метрика SMAPE для предсказаний: rougher 3.12828353602768\n",
      "0:\tlearn: 9.2270789\ttotal: 15.8ms\tremaining: 15.7s\n",
      "200:\tlearn: 7.1643731\ttotal: 3.36s\tremaining: 13.4s\n",
      "400:\tlearn: 6.6787623\ttotal: 6.8s\tremaining: 10.2s\n",
      "600:\tlearn: 6.3923817\ttotal: 10.2s\tremaining: 6.75s\n",
      "800:\tlearn: 6.1862113\ttotal: 13.4s\tremaining: 3.32s\n",
      "999:\tlearn: 6.0368634\ttotal: 16.7s\tremaining: 0us\n",
      "Метрика SMAPE для предсказаний: final 6.93779897836364\n",
      "Итоговое sMAPE случайного леса: 5.98542011777965\n"
     ]
    }
   ],
   "source": [
    "cb_rougher = cb.CatBoostRegressor(loss_function='MAPE', eval_metric='SMAPE', verbose=200)\n",
    "cb_rougher.fit(features_rougher, target_rougher)\n",
    "rougher_predictions = cb_rougher.predict(test_rougher_features)\n",
    "smape_rougher = smape(test_rougher_target, rougher_predictions)\n",
    "print('Метрика SMAPE для предсказаний: rougher', smape_rougher)\n",
    "\n",
    "\n",
    "cb_final = cb.CatBoostRegressor(loss_function='MAPE', eval_metric='SMAPE', verbose=200)\n",
    "cb_final.fit(features_final, target_final)\n",
    "final_predictions = cb_final.predict(test_final_features)\n",
    "smape_final = smape(test_final_target, final_predictions)\n",
    "print('Метрика SMAPE для предсказаний: final', smape_final)\n",
    "\n",
    "\n",
    "print('Итоговое sMAPE случайного леса:', total_smape(smape_rougher, smape_final))"
   ]
  },
  {
   "cell_type": "code",
   "execution_count": 57,
   "metadata": {},
   "outputs": [
    {
     "name": "stdout",
     "output_type": "stream",
     "text": [
      "Метрика SMAPE для dummy rougher:  6.0692948967250375\n",
      "Метрика SMAPE для dummy final:  9.23105321082591\n",
      "Итоговое sMAPE dummy: 8.440613632300693\n"
     ]
    }
   ],
   "source": [
    "dummy_model_rougher = DummyRegressor(strategy=\"mean\")\n",
    "dummy_model_rougher.fit(features_rougher, target_rougher)\n",
    "dummy_rougher_predictions = dummy_model_rougher.predict(test_rougher_features)\n",
    "dummy_smape_rougher = smape(test_rougher_target, dummy_rougher_predictions)\n",
    "print('Метрика SMAPE для dummy rougher: ', dummy_smape_rougher)\n",
    "\n",
    "\n",
    "dummy_model_final = DummyRegressor(strategy=\"mean\")\n",
    "dummy_model_final.fit(features_final, target_final)\n",
    "dummy_final_predictions = dummy_model_final.predict(test_final_features)\n",
    "dummy_smape_final = smape(test_final_target, dummy_final_predictions)\n",
    "print('Метрика SMAPE для dummy final: ', dummy_smape_final)\n",
    "\n",
    "\n",
    "print('Итоговое sMAPE dummy:', total_smape(dummy_smape_rougher, dummy_smape_final))"
   ]
  },
  {
   "cell_type": "markdown",
   "metadata": {},
   "source": [
    "Для нашей модели показатель итогового sMAPE получился лучше, чем для DummyRegressor"
   ]
  },
  {
   "cell_type": "markdown",
   "metadata": {},
   "source": [
    "Таким образом лучшией моделью является случайны лес с итоговой метрикой на тетстовой выборке 5.984"
   ]
  },
  {
   "cell_type": "markdown",
   "metadata": {},
   "source": [
    "## Итоговый вывод\n",
    "\n",
    "В ходе исследования нами были загружены, проверены и изучены предоставленные данные.\n",
    "\n",
    "Проверка корректности расчета эффективности обогащения показала, что всё расчитано верно.\n",
    "\n",
    "Признаки, отсутствующие в тестовой выборке относятся к выходным данным каждого этапа обработки, а также, к расчетным характеристикам после этапа обогащения. Это является следствием того, что эти параметры рассчитываются позднее.\n",
    "\n",
    "Была проведена предобработка данных и устранены пропуски методо ffill.\n",
    "\n",
    "В ходе исследования данных из построенных графиков видно, что концентрация золота четко увеличивается с каждым новым этапом обработки. Концентрация серебра на этапе обогащения увеличивается, после чего начинает снижаться. Концентрация свинца растет на этапе обогащения и первичной очистки, на этапе второй очистки остаётся без изменений.\n",
    "\n",
    "Убрали все выбросы в суммарной концентрации для обучающей выборки.\n",
    "\n",
    "Мы протестировали 4 модели и получены следующие результаты метрики sMAPE для них:\n",
    "\n",
    "- Итоговое sMAPE CatBoost: 7.67\n",
    "- Итоговое sMAPE линейной регрессии: 8.76\n",
    "- Итоговое sMAPE решающего дерева: 9.59\n",
    "- Итоговое sMAPE случайного леса: 8.80\n",
    "\n",
    "В финальном тестировании мы проверили модель  CatBoost на тестовом наборе данных. Проверяемая модель показала результат метрики sMAPE в 5.985. При этом оценка sMAPE константной модели составила 8.441, что говорит о вменяемости нашей модели."
   ]
  }
 ],
 "metadata": {
  "ExecuteTimeLog": [
   {
    "duration": 1769,
    "start_time": "2023-08-11T10:02:45.965Z"
   },
   {
    "duration": 3,
    "start_time": "2023-08-11T10:02:49.669Z"
   },
   {
    "duration": 1623,
    "start_time": "2023-08-11T10:06:38.757Z"
   },
   {
    "duration": 1229,
    "start_time": "2023-08-11T10:06:41.731Z"
   },
   {
    "duration": 391,
    "start_time": "2023-08-11T10:06:43.964Z"
   },
   {
    "duration": 430,
    "start_time": "2023-08-11T10:07:04.761Z"
   },
   {
    "duration": 20,
    "start_time": "2023-08-11T10:07:43.005Z"
   },
   {
    "duration": 336,
    "start_time": "2023-08-11T10:08:25.299Z"
   },
   {
    "duration": 341,
    "start_time": "2023-08-11T10:08:42.884Z"
   },
   {
    "duration": 17,
    "start_time": "2023-08-11T10:09:12.790Z"
   },
   {
    "duration": 19,
    "start_time": "2023-08-11T10:09:23.498Z"
   },
   {
    "duration": 105,
    "start_time": "2023-08-11T10:09:43.701Z"
   },
   {
    "duration": 17,
    "start_time": "2023-08-11T10:10:02.158Z"
   },
   {
    "duration": 82,
    "start_time": "2023-08-11T10:36:21.491Z"
   },
   {
    "duration": 97,
    "start_time": "2023-08-11T10:36:31.888Z"
   },
   {
    "duration": 325,
    "start_time": "2023-08-11T10:36:38.813Z"
   },
   {
    "duration": 4,
    "start_time": "2023-08-11T10:37:24.259Z"
   },
   {
    "duration": 9,
    "start_time": "2023-08-11T11:25:24.269Z"
   },
   {
    "duration": 51,
    "start_time": "2023-08-11T11:49:20.095Z"
   },
   {
    "duration": 1511,
    "start_time": "2023-08-11T11:49:26.923Z"
   },
   {
    "duration": 3,
    "start_time": "2023-08-11T11:49:28.436Z"
   },
   {
    "duration": 420,
    "start_time": "2023-08-11T11:49:28.441Z"
   },
   {
    "duration": 22,
    "start_time": "2023-08-11T11:49:28.862Z"
   },
   {
    "duration": 312,
    "start_time": "2023-08-11T11:49:28.886Z"
   },
   {
    "duration": 88,
    "start_time": "2023-08-11T11:49:29.200Z"
   },
   {
    "duration": 3,
    "start_time": "2023-08-11T11:49:29.290Z"
   },
   {
    "duration": 17,
    "start_time": "2023-08-11T11:49:29.295Z"
   },
   {
    "duration": 125,
    "start_time": "2023-08-11T11:49:29.314Z"
   },
   {
    "duration": 0,
    "start_time": "2023-08-11T11:49:29.441Z"
   },
   {
    "duration": 11,
    "start_time": "2023-08-11T11:50:50.672Z"
   },
   {
    "duration": 7,
    "start_time": "2023-08-11T11:51:45.040Z"
   },
   {
    "duration": 6,
    "start_time": "2023-08-11T11:52:14.367Z"
   },
   {
    "duration": 3,
    "start_time": "2023-08-11T12:39:05.531Z"
   },
   {
    "duration": 8,
    "start_time": "2023-08-11T12:39:06.934Z"
   },
   {
    "duration": 11,
    "start_time": "2023-08-11T13:05:08.324Z"
   },
   {
    "duration": 14,
    "start_time": "2023-08-11T13:05:24.717Z"
   },
   {
    "duration": 11,
    "start_time": "2023-08-11T13:05:41.805Z"
   },
   {
    "duration": 12,
    "start_time": "2023-08-11T13:25:55.422Z"
   },
   {
    "duration": 12,
    "start_time": "2023-08-11T13:26:36.507Z"
   },
   {
    "duration": 59265,
    "start_time": "2023-08-11T13:26:43.450Z"
   },
   {
    "duration": 466,
    "start_time": "2023-08-11T13:29:26.204Z"
   },
   {
    "duration": 945,
    "start_time": "2023-08-11T13:30:05.300Z"
   },
   {
    "duration": 545,
    "start_time": "2023-08-11T13:30:23.253Z"
   },
   {
    "duration": 93,
    "start_time": "2023-08-11T13:53:34.610Z"
   },
   {
    "duration": 419,
    "start_time": "2023-08-11T14:23:23.864Z"
   },
   {
    "duration": 49,
    "start_time": "2023-08-12T09:32:02.169Z"
   },
   {
    "duration": 1499,
    "start_time": "2023-08-12T09:32:11.922Z"
   },
   {
    "duration": 4,
    "start_time": "2023-08-12T09:32:13.425Z"
   },
   {
    "duration": 1320,
    "start_time": "2023-08-12T09:32:13.430Z"
   },
   {
    "duration": 15,
    "start_time": "2023-08-12T09:32:14.751Z"
   },
   {
    "duration": 974,
    "start_time": "2023-08-12T09:32:14.768Z"
   },
   {
    "duration": 166,
    "start_time": "2023-08-12T09:32:15.743Z"
   },
   {
    "duration": 5,
    "start_time": "2023-08-12T09:32:15.910Z"
   },
   {
    "duration": 25,
    "start_time": "2023-08-12T09:32:15.916Z"
   },
   {
    "duration": 10,
    "start_time": "2023-08-12T09:32:15.942Z"
   },
   {
    "duration": 15,
    "start_time": "2023-08-12T09:32:15.954Z"
   },
   {
    "duration": 122,
    "start_time": "2023-08-12T09:32:15.971Z"
   },
   {
    "duration": 31,
    "start_time": "2023-08-12T09:32:16.095Z"
   },
   {
    "duration": 18339,
    "start_time": "2023-08-12T09:32:16.127Z"
   },
   {
    "duration": 300,
    "start_time": "2023-08-12T09:32:34.468Z"
   },
   {
    "duration": 372,
    "start_time": "2023-08-12T09:32:34.770Z"
   },
   {
    "duration": 331,
    "start_time": "2023-08-12T09:33:09.758Z"
   },
   {
    "duration": 819,
    "start_time": "2023-08-12T09:47:21.154Z"
   },
   {
    "duration": 1134,
    "start_time": "2023-08-12T09:50:29.319Z"
   },
   {
    "duration": 153,
    "start_time": "2023-08-12T09:52:35.489Z"
   },
   {
    "duration": 606,
    "start_time": "2023-08-12T09:55:36.072Z"
   },
   {
    "duration": 521,
    "start_time": "2023-08-12T10:13:54.727Z"
   },
   {
    "duration": 357,
    "start_time": "2023-08-12T10:20:55.320Z"
   },
   {
    "duration": 7,
    "start_time": "2023-08-12T10:21:09.358Z"
   },
   {
    "duration": 346,
    "start_time": "2023-08-12T10:21:12.120Z"
   },
   {
    "duration": 339,
    "start_time": "2023-08-12T10:22:04.087Z"
   },
   {
    "duration": 284,
    "start_time": "2023-08-12T10:23:12.443Z"
   },
   {
    "duration": 490,
    "start_time": "2023-08-12T10:54:21.078Z"
   },
   {
    "duration": 620,
    "start_time": "2023-08-12T10:55:08.666Z"
   },
   {
    "duration": 596,
    "start_time": "2023-08-12T11:00:18.165Z"
   },
   {
    "duration": 2,
    "start_time": "2023-08-12T12:02:47.746Z"
   },
   {
    "duration": 4,
    "start_time": "2023-08-12T12:02:49.830Z"
   },
   {
    "duration": 3,
    "start_time": "2023-08-12T12:02:51.396Z"
   },
   {
    "duration": 1742,
    "start_time": "2023-08-14T08:44:48.060Z"
   },
   {
    "duration": 6,
    "start_time": "2023-08-14T08:44:49.804Z"
   },
   {
    "duration": 1295,
    "start_time": "2023-08-14T08:44:49.811Z"
   },
   {
    "duration": 19,
    "start_time": "2023-08-14T08:44:51.108Z"
   },
   {
    "duration": 867,
    "start_time": "2023-08-14T08:44:51.129Z"
   },
   {
    "duration": 155,
    "start_time": "2023-08-14T08:44:51.998Z"
   },
   {
    "duration": 3,
    "start_time": "2023-08-14T08:44:52.155Z"
   },
   {
    "duration": 26,
    "start_time": "2023-08-14T08:44:52.160Z"
   },
   {
    "duration": 45,
    "start_time": "2023-08-14T08:44:52.188Z"
   },
   {
    "duration": 37,
    "start_time": "2023-08-14T08:44:52.235Z"
   },
   {
    "duration": 114,
    "start_time": "2023-08-14T08:44:52.274Z"
   },
   {
    "duration": 19,
    "start_time": "2023-08-14T08:44:52.390Z"
   },
   {
    "duration": 65600,
    "start_time": "2023-08-14T08:44:52.411Z"
   },
   {
    "duration": 6,
    "start_time": "2023-08-14T08:45:58.014Z"
   },
   {
    "duration": 388,
    "start_time": "2023-08-14T08:45:58.023Z"
   },
   {
    "duration": 484,
    "start_time": "2023-08-14T08:45:58.413Z"
   },
   {
    "duration": 370,
    "start_time": "2023-08-14T08:45:58.898Z"
   },
   {
    "duration": 675,
    "start_time": "2023-08-14T08:45:59.270Z"
   },
   {
    "duration": 650,
    "start_time": "2023-08-14T08:45:59.948Z"
   },
   {
    "duration": 9,
    "start_time": "2023-08-14T08:46:00.600Z"
   },
   {
    "duration": 94,
    "start_time": "2023-08-14T08:46:00.611Z"
   },
   {
    "duration": 54,
    "start_time": "2023-08-14T08:46:00.707Z"
   },
   {
    "duration": 78,
    "start_time": "2023-08-14T08:46:00.763Z"
   },
   {
    "duration": 139,
    "start_time": "2023-08-14T09:19:15.582Z"
   },
   {
    "duration": 12,
    "start_time": "2023-08-14T09:19:25.661Z"
   },
   {
    "duration": 111556,
    "start_time": "2023-08-14T09:35:52.081Z"
   },
   {
    "duration": 108902,
    "start_time": "2023-08-14T09:38:17.772Z"
   },
   {
    "duration": 4,
    "start_time": "2023-08-14T09:41:56.972Z"
   },
   {
    "duration": 112530,
    "start_time": "2023-08-14T09:42:51.722Z"
   },
   {
    "duration": 4,
    "start_time": "2023-08-14T09:45:33.003Z"
   },
   {
    "duration": 4,
    "start_time": "2023-08-14T09:45:45.595Z"
   },
   {
    "duration": 1453,
    "start_time": "2023-08-14T09:47:14.161Z"
   },
   {
    "duration": 3,
    "start_time": "2023-08-14T09:47:37.261Z"
   },
   {
    "duration": 1399,
    "start_time": "2023-08-14T09:47:59.622Z"
   },
   {
    "duration": 4,
    "start_time": "2023-08-14T09:48:13.526Z"
   },
   {
    "duration": 4,
    "start_time": "2023-08-14T09:48:26.526Z"
   },
   {
    "duration": 14,
    "start_time": "2023-08-14T09:50:18.122Z"
   },
   {
    "duration": 3,
    "start_time": "2023-08-14T09:50:43.050Z"
   },
   {
    "duration": 1461,
    "start_time": "2023-08-14T09:50:47.708Z"
   },
   {
    "duration": 14,
    "start_time": "2023-08-14T09:51:09.596Z"
   },
   {
    "duration": 1464,
    "start_time": "2023-08-14T09:51:20.078Z"
   },
   {
    "duration": 1415,
    "start_time": "2023-08-14T09:51:48.053Z"
   },
   {
    "duration": 4,
    "start_time": "2023-08-14T09:52:14.997Z"
   },
   {
    "duration": 5,
    "start_time": "2023-08-14T09:52:43.006Z"
   },
   {
    "duration": 22945,
    "start_time": "2023-08-14T09:53:11.282Z"
   },
   {
    "duration": 4,
    "start_time": "2023-08-14T09:54:29.662Z"
   },
   {
    "duration": 5,
    "start_time": "2023-08-14T09:54:43.810Z"
   },
   {
    "duration": 3,
    "start_time": "2023-08-14T09:54:52.586Z"
   },
   {
    "duration": 96,
    "start_time": "2023-08-14T09:55:16.760Z"
   },
   {
    "duration": 100918,
    "start_time": "2023-08-14T09:57:03.258Z"
   },
   {
    "duration": 6,
    "start_time": "2023-08-14T09:59:20.522Z"
   },
   {
    "duration": 4,
    "start_time": "2023-08-14T09:59:32.283Z"
   },
   {
    "duration": 136462,
    "start_time": "2023-08-14T10:00:35.387Z"
   },
   {
    "duration": 4,
    "start_time": "2023-08-14T10:04:13.653Z"
   },
   {
    "duration": 4,
    "start_time": "2023-08-14T10:04:23.032Z"
   },
   {
    "duration": 4,
    "start_time": "2023-08-14T10:04:33.222Z"
   },
   {
    "duration": 109126,
    "start_time": "2023-08-14T10:07:51.987Z"
   },
   {
    "duration": 5,
    "start_time": "2023-08-14T10:09:45.260Z"
   },
   {
    "duration": 5,
    "start_time": "2023-08-14T10:09:51.309Z"
   },
   {
    "duration": 4,
    "start_time": "2023-08-14T10:10:00.621Z"
   },
   {
    "duration": 22,
    "start_time": "2023-08-14T10:23:31.660Z"
   },
   {
    "duration": 14066,
    "start_time": "2023-08-14T10:47:41.076Z"
   },
   {
    "duration": 36113,
    "start_time": "2023-08-14T10:48:27.079Z"
   },
   {
    "duration": 12,
    "start_time": "2023-08-14T10:52:50.790Z"
   },
   {
    "duration": 5,
    "start_time": "2023-08-14T10:52:55.465Z"
   },
   {
    "duration": 4,
    "start_time": "2023-08-14T10:53:10.258Z"
   },
   {
    "duration": 4,
    "start_time": "2023-08-14T10:53:37.436Z"
   },
   {
    "duration": 36643,
    "start_time": "2023-08-14T10:54:02.820Z"
   },
   {
    "duration": 13,
    "start_time": "2023-08-14T11:00:00.123Z"
   },
   {
    "duration": 10,
    "start_time": "2023-08-14T11:00:22.171Z"
   },
   {
    "duration": 3014,
    "start_time": "2023-08-14T14:38:38.972Z"
   },
   {
    "duration": 3,
    "start_time": "2023-08-14T14:38:41.988Z"
   },
   {
    "duration": 9,
    "start_time": "2023-08-14T14:38:41.993Z"
   },
   {
    "duration": 1200,
    "start_time": "2023-08-14T14:38:42.004Z"
   },
   {
    "duration": 19,
    "start_time": "2023-08-14T14:38:43.206Z"
   },
   {
    "duration": 893,
    "start_time": "2023-08-14T14:38:43.227Z"
   },
   {
    "duration": 165,
    "start_time": "2023-08-14T14:38:44.121Z"
   },
   {
    "duration": 3,
    "start_time": "2023-08-14T14:38:44.288Z"
   },
   {
    "duration": 29,
    "start_time": "2023-08-14T14:38:44.293Z"
   },
   {
    "duration": 21,
    "start_time": "2023-08-14T14:38:44.325Z"
   },
   {
    "duration": 29,
    "start_time": "2023-08-14T14:38:44.347Z"
   },
   {
    "duration": 113,
    "start_time": "2023-08-14T14:38:44.378Z"
   },
   {
    "duration": 11,
    "start_time": "2023-08-14T14:38:44.492Z"
   },
   {
    "duration": 40661,
    "start_time": "2023-08-14T14:38:44.505Z"
   },
   {
    "duration": 4,
    "start_time": "2023-08-14T14:39:25.168Z"
   },
   {
    "duration": 397,
    "start_time": "2023-08-14T14:39:25.174Z"
   },
   {
    "duration": 450,
    "start_time": "2023-08-14T14:39:25.573Z"
   },
   {
    "duration": 370,
    "start_time": "2023-08-14T14:39:26.025Z"
   },
   {
    "duration": 700,
    "start_time": "2023-08-14T14:39:26.397Z"
   },
   {
    "duration": 603,
    "start_time": "2023-08-14T14:39:27.098Z"
   },
   {
    "duration": 3,
    "start_time": "2023-08-14T14:39:27.703Z"
   },
   {
    "duration": 12,
    "start_time": "2023-08-14T14:39:27.708Z"
   },
   {
    "duration": 16,
    "start_time": "2023-08-14T14:39:27.722Z"
   },
   {
    "duration": 15,
    "start_time": "2023-08-14T14:39:27.740Z"
   },
   {
    "duration": 25,
    "start_time": "2023-08-14T14:39:27.757Z"
   },
   {
    "duration": 29,
    "start_time": "2023-08-14T14:39:27.784Z"
   },
   {
    "duration": 18,
    "start_time": "2023-08-14T14:40:06.573Z"
   },
   {
    "duration": 47,
    "start_time": "2023-08-15T10:42:29.663Z"
   },
   {
    "duration": 2074,
    "start_time": "2023-08-15T10:42:35.739Z"
   },
   {
    "duration": 3,
    "start_time": "2023-08-15T10:42:37.815Z"
   },
   {
    "duration": 56,
    "start_time": "2023-08-15T10:42:37.819Z"
   },
   {
    "duration": 1650,
    "start_time": "2023-08-15T10:42:37.877Z"
   },
   {
    "duration": 19,
    "start_time": "2023-08-15T10:42:39.530Z"
   },
   {
    "duration": 1226,
    "start_time": "2023-08-15T10:42:39.551Z"
   },
   {
    "duration": 410,
    "start_time": "2023-08-15T10:42:40.778Z"
   },
   {
    "duration": 3,
    "start_time": "2023-08-15T10:42:41.189Z"
   },
   {
    "duration": 9,
    "start_time": "2023-08-15T10:42:41.194Z"
   },
   {
    "duration": 127,
    "start_time": "2023-08-15T10:42:41.204Z"
   },
   {
    "duration": 0,
    "start_time": "2023-08-15T10:42:41.334Z"
   },
   {
    "duration": 0,
    "start_time": "2023-08-15T10:42:41.335Z"
   },
   {
    "duration": 0,
    "start_time": "2023-08-15T10:42:41.336Z"
   },
   {
    "duration": 0,
    "start_time": "2023-08-15T10:42:41.337Z"
   },
   {
    "duration": 0,
    "start_time": "2023-08-15T10:42:41.338Z"
   },
   {
    "duration": 0,
    "start_time": "2023-08-15T10:42:41.340Z"
   },
   {
    "duration": 0,
    "start_time": "2023-08-15T10:42:41.340Z"
   },
   {
    "duration": 0,
    "start_time": "2023-08-15T10:42:41.341Z"
   },
   {
    "duration": 1,
    "start_time": "2023-08-15T10:42:41.342Z"
   },
   {
    "duration": 0,
    "start_time": "2023-08-15T10:42:41.344Z"
   },
   {
    "duration": 0,
    "start_time": "2023-08-15T10:42:41.345Z"
   },
   {
    "duration": 0,
    "start_time": "2023-08-15T10:42:41.346Z"
   },
   {
    "duration": 0,
    "start_time": "2023-08-15T10:42:41.347Z"
   },
   {
    "duration": 0,
    "start_time": "2023-08-15T10:42:41.348Z"
   },
   {
    "duration": 0,
    "start_time": "2023-08-15T10:42:41.374Z"
   },
   {
    "duration": 0,
    "start_time": "2023-08-15T10:42:41.375Z"
   },
   {
    "duration": 0,
    "start_time": "2023-08-15T10:42:41.376Z"
   },
   {
    "duration": 0,
    "start_time": "2023-08-15T10:42:41.378Z"
   },
   {
    "duration": 0,
    "start_time": "2023-08-15T10:42:41.378Z"
   },
   {
    "duration": 0,
    "start_time": "2023-08-15T10:42:41.380Z"
   },
   {
    "duration": 0,
    "start_time": "2023-08-15T10:42:41.381Z"
   },
   {
    "duration": 0,
    "start_time": "2023-08-15T10:42:41.382Z"
   },
   {
    "duration": 0,
    "start_time": "2023-08-15T10:42:41.383Z"
   },
   {
    "duration": 0,
    "start_time": "2023-08-15T10:42:41.384Z"
   },
   {
    "duration": 0,
    "start_time": "2023-08-15T10:42:41.385Z"
   },
   {
    "duration": 0,
    "start_time": "2023-08-15T10:42:41.386Z"
   },
   {
    "duration": 0,
    "start_time": "2023-08-15T10:42:41.387Z"
   },
   {
    "duration": 0,
    "start_time": "2023-08-15T10:42:41.388Z"
   },
   {
    "duration": 0,
    "start_time": "2023-08-15T10:42:41.389Z"
   },
   {
    "duration": 0,
    "start_time": "2023-08-15T10:42:41.390Z"
   },
   {
    "duration": 0,
    "start_time": "2023-08-15T10:42:41.391Z"
   },
   {
    "duration": 0,
    "start_time": "2023-08-15T10:42:41.392Z"
   },
   {
    "duration": 0,
    "start_time": "2023-08-15T10:42:41.394Z"
   },
   {
    "duration": 0,
    "start_time": "2023-08-15T10:42:41.395Z"
   },
   {
    "duration": 0,
    "start_time": "2023-08-15T10:42:41.396Z"
   },
   {
    "duration": 0,
    "start_time": "2023-08-15T10:42:41.398Z"
   },
   {
    "duration": 0,
    "start_time": "2023-08-15T10:42:41.399Z"
   },
   {
    "duration": 0,
    "start_time": "2023-08-15T10:42:41.400Z"
   },
   {
    "duration": 0,
    "start_time": "2023-08-15T10:42:41.401Z"
   },
   {
    "duration": 0,
    "start_time": "2023-08-15T10:42:41.402Z"
   },
   {
    "duration": 0,
    "start_time": "2023-08-15T10:42:41.403Z"
   },
   {
    "duration": 0,
    "start_time": "2023-08-15T10:42:41.404Z"
   },
   {
    "duration": 0,
    "start_time": "2023-08-15T10:42:41.405Z"
   },
   {
    "duration": 0,
    "start_time": "2023-08-15T10:42:41.406Z"
   },
   {
    "duration": 4,
    "start_time": "2023-08-15T10:46:01.292Z"
   },
   {
    "duration": 16,
    "start_time": "2023-08-15T10:46:23.976Z"
   },
   {
    "duration": 4,
    "start_time": "2023-08-15T10:46:53.372Z"
   },
   {
    "duration": 14,
    "start_time": "2023-08-15T10:49:59.099Z"
   },
   {
    "duration": 22,
    "start_time": "2023-08-15T10:50:10.903Z"
   },
   {
    "duration": 4,
    "start_time": "2023-08-15T10:53:25.659Z"
   },
   {
    "duration": 8,
    "start_time": "2023-08-15T10:53:43.980Z"
   },
   {
    "duration": 12,
    "start_time": "2023-08-15T10:53:53.970Z"
   },
   {
    "duration": 7,
    "start_time": "2023-08-15T10:54:04.342Z"
   },
   {
    "duration": 5,
    "start_time": "2023-08-15T10:55:41.614Z"
   },
   {
    "duration": 8,
    "start_time": "2023-08-15T10:55:45.012Z"
   },
   {
    "duration": 9,
    "start_time": "2023-08-15T10:58:27.176Z"
   },
   {
    "duration": 64,
    "start_time": "2023-08-15T10:59:13.332Z"
   },
   {
    "duration": 381,
    "start_time": "2023-08-15T10:59:23.790Z"
   },
   {
    "duration": 9,
    "start_time": "2023-08-15T10:59:41.522Z"
   },
   {
    "duration": 32,
    "start_time": "2023-08-15T11:09:11.139Z"
   },
   {
    "duration": 5,
    "start_time": "2023-08-15T11:10:18.909Z"
   },
   {
    "duration": 1512,
    "start_time": "2023-08-15T11:10:29.468Z"
   },
   {
    "duration": 3,
    "start_time": "2023-08-15T11:10:30.982Z"
   },
   {
    "duration": 52,
    "start_time": "2023-08-15T11:10:30.987Z"
   },
   {
    "duration": 463,
    "start_time": "2023-08-15T11:10:31.042Z"
   },
   {
    "duration": 19,
    "start_time": "2023-08-15T11:10:31.508Z"
   },
   {
    "duration": 355,
    "start_time": "2023-08-15T11:10:31.529Z"
   },
   {
    "duration": 95,
    "start_time": "2023-08-15T11:10:31.886Z"
   },
   {
    "duration": 3,
    "start_time": "2023-08-15T11:10:31.982Z"
   },
   {
    "duration": 59,
    "start_time": "2023-08-15T11:10:31.987Z"
   },
   {
    "duration": 117,
    "start_time": "2023-08-15T11:10:32.048Z"
   },
   {
    "duration": 54,
    "start_time": "2023-08-15T11:10:32.167Z"
   },
   {
    "duration": 131,
    "start_time": "2023-08-15T11:10:32.223Z"
   },
   {
    "duration": 11,
    "start_time": "2023-08-15T11:10:32.356Z"
   },
   {
    "duration": 54,
    "start_time": "2023-08-15T11:10:32.368Z"
   },
   {
    "duration": 20,
    "start_time": "2023-08-15T11:10:32.424Z"
   },
   {
    "duration": 382,
    "start_time": "2023-08-15T11:10:32.446Z"
   },
   {
    "duration": 435,
    "start_time": "2023-08-15T11:10:32.830Z"
   },
   {
    "duration": 343,
    "start_time": "2023-08-15T11:10:33.267Z"
   },
   {
    "duration": 1100,
    "start_time": "2023-08-15T11:10:33.611Z"
   },
   {
    "duration": 1117,
    "start_time": "2023-08-15T11:10:34.712Z"
   },
   {
    "duration": 3,
    "start_time": "2023-08-15T11:10:35.830Z"
   },
   {
    "duration": 32,
    "start_time": "2023-08-15T11:10:35.835Z"
   },
   {
    "duration": 21,
    "start_time": "2023-08-15T11:10:35.869Z"
   },
   {
    "duration": 29,
    "start_time": "2023-08-15T11:10:35.891Z"
   },
   {
    "duration": 58,
    "start_time": "2023-08-15T11:10:35.921Z"
   },
   {
    "duration": 30,
    "start_time": "2023-08-15T11:10:35.981Z"
   },
   {
    "duration": 84473,
    "start_time": "2023-08-15T11:10:36.012Z"
   },
   {
    "duration": 4,
    "start_time": "2023-08-15T11:12:00.488Z"
   },
   {
    "duration": 83891,
    "start_time": "2023-08-15T11:12:00.493Z"
   },
   {
    "duration": 4,
    "start_time": "2023-08-15T11:13:24.386Z"
   },
   {
    "duration": 11,
    "start_time": "2023-08-15T11:13:24.391Z"
   },
   {
    "duration": 1278,
    "start_time": "2023-08-15T11:13:24.404Z"
   },
   {
    "duration": 89,
    "start_time": "2023-08-15T11:13:25.687Z"
   },
   {
    "duration": 1796,
    "start_time": "2023-08-15T11:13:25.778Z"
   },
   {
    "duration": 5,
    "start_time": "2023-08-15T11:13:27.577Z"
   },
   {
    "duration": 92,
    "start_time": "2023-08-15T11:13:27.585Z"
   },
   {
    "duration": 1184,
    "start_time": "2023-08-15T11:13:27.679Z"
   },
   {
    "duration": 11,
    "start_time": "2023-08-15T11:13:28.864Z"
   },
   {
    "duration": 4,
    "start_time": "2023-08-15T11:13:28.877Z"
   },
   {
    "duration": 21008,
    "start_time": "2023-08-15T11:13:28.883Z"
   },
   {
    "duration": 4,
    "start_time": "2023-08-15T11:13:49.892Z"
   },
   {
    "duration": 12,
    "start_time": "2023-08-15T11:13:49.898Z"
   },
   {
    "duration": 9,
    "start_time": "2023-08-15T11:13:49.912Z"
   },
   {
    "duration": 94225,
    "start_time": "2023-08-15T11:13:49.922Z"
   },
   {
    "duration": 4,
    "start_time": "2023-08-15T11:15:24.149Z"
   },
   {
    "duration": 22,
    "start_time": "2023-08-15T11:15:24.155Z"
   },
   {
    "duration": 126401,
    "start_time": "2023-08-15T11:15:24.179Z"
   },
   {
    "duration": 4,
    "start_time": "2023-08-15T11:17:30.581Z"
   },
   {
    "duration": 84,
    "start_time": "2023-08-15T11:17:30.586Z"
   },
   {
    "duration": 40,
    "start_time": "2023-08-15T11:17:30.672Z"
   },
   {
    "duration": 58,
    "start_time": "2023-08-15T11:17:30.714Z"
   },
   {
    "duration": 35659,
    "start_time": "2023-08-15T11:17:30.774Z"
   },
   {
    "duration": 10,
    "start_time": "2023-08-15T11:18:06.435Z"
   },
   {
    "duration": 10,
    "start_time": "2023-08-15T13:09:57.938Z"
   },
   {
    "duration": 4,
    "start_time": "2023-08-15T13:10:30.705Z"
   },
   {
    "duration": 4,
    "start_time": "2023-08-15T13:10:46.717Z"
   },
   {
    "duration": 9,
    "start_time": "2023-08-15T13:10:49.128Z"
   },
   {
    "duration": 4,
    "start_time": "2023-08-15T13:10:50.704Z"
   },
   {
    "duration": 1477,
    "start_time": "2023-08-15T13:11:23.416Z"
   },
   {
    "duration": 3,
    "start_time": "2023-08-15T13:11:24.895Z"
   },
   {
    "duration": 5,
    "start_time": "2023-08-15T13:11:24.899Z"
   },
   {
    "duration": 463,
    "start_time": "2023-08-15T13:11:24.906Z"
   },
   {
    "duration": 17,
    "start_time": "2023-08-15T13:11:25.375Z"
   },
   {
    "duration": 594,
    "start_time": "2023-08-15T13:11:25.394Z"
   },
   {
    "duration": 197,
    "start_time": "2023-08-15T13:11:25.990Z"
   },
   {
    "duration": 3,
    "start_time": "2023-08-15T13:11:26.188Z"
   },
   {
    "duration": 39,
    "start_time": "2023-08-15T13:11:26.192Z"
   },
   {
    "duration": 27,
    "start_time": "2023-08-15T13:11:26.233Z"
   },
   {
    "duration": 32,
    "start_time": "2023-08-15T13:11:26.275Z"
   },
   {
    "duration": 267,
    "start_time": "2023-08-15T13:11:26.308Z"
   },
   {
    "duration": 9,
    "start_time": "2023-08-15T13:11:26.577Z"
   },
   {
    "duration": 91,
    "start_time": "2023-08-15T13:11:26.588Z"
   },
   {
    "duration": 4,
    "start_time": "2023-08-15T13:11:26.680Z"
   },
   {
    "duration": 552,
    "start_time": "2023-08-15T13:11:26.686Z"
   },
   {
    "duration": 403,
    "start_time": "2023-08-15T13:11:27.240Z"
   },
   {
    "duration": 308,
    "start_time": "2023-08-15T13:11:27.645Z"
   },
   {
    "duration": 585,
    "start_time": "2023-08-15T13:11:27.955Z"
   },
   {
    "duration": 554,
    "start_time": "2023-08-15T13:11:28.542Z"
   },
   {
    "duration": 3,
    "start_time": "2023-08-15T13:11:29.098Z"
   },
   {
    "duration": 17,
    "start_time": "2023-08-15T13:11:29.103Z"
   },
   {
    "duration": 31,
    "start_time": "2023-08-15T13:11:29.121Z"
   },
   {
    "duration": 12,
    "start_time": "2023-08-15T13:11:29.154Z"
   },
   {
    "duration": 36,
    "start_time": "2023-08-15T13:11:29.168Z"
   },
   {
    "duration": 18,
    "start_time": "2023-08-15T13:11:29.206Z"
   },
   {
    "duration": 13,
    "start_time": "2023-08-15T13:11:29.225Z"
   },
   {
    "duration": 27,
    "start_time": "2023-08-15T13:11:29.241Z"
   },
   {
    "duration": 51,
    "start_time": "2023-08-15T13:11:29.269Z"
   },
   {
    "duration": 86326,
    "start_time": "2023-08-15T13:11:29.322Z"
   },
   {
    "duration": 3,
    "start_time": "2023-08-15T13:12:55.650Z"
   },
   {
    "duration": 5428,
    "start_time": "2023-08-15T13:12:55.655Z"
   },
   {
    "duration": 0,
    "start_time": "2023-08-15T13:13:01.085Z"
   },
   {
    "duration": 0,
    "start_time": "2023-08-15T13:13:01.086Z"
   },
   {
    "duration": 0,
    "start_time": "2023-08-15T13:13:01.087Z"
   },
   {
    "duration": 0,
    "start_time": "2023-08-15T13:13:01.088Z"
   },
   {
    "duration": 0,
    "start_time": "2023-08-15T13:13:01.089Z"
   },
   {
    "duration": 0,
    "start_time": "2023-08-15T13:13:01.090Z"
   },
   {
    "duration": 0,
    "start_time": "2023-08-15T13:13:01.091Z"
   },
   {
    "duration": 0,
    "start_time": "2023-08-15T13:13:01.092Z"
   },
   {
    "duration": 0,
    "start_time": "2023-08-15T13:13:01.093Z"
   },
   {
    "duration": 0,
    "start_time": "2023-08-15T13:13:01.093Z"
   },
   {
    "duration": 0,
    "start_time": "2023-08-15T13:13:01.094Z"
   },
   {
    "duration": 0,
    "start_time": "2023-08-15T13:13:01.096Z"
   },
   {
    "duration": 0,
    "start_time": "2023-08-15T13:13:01.096Z"
   },
   {
    "duration": 0,
    "start_time": "2023-08-15T13:13:01.097Z"
   },
   {
    "duration": 0,
    "start_time": "2023-08-15T13:13:01.098Z"
   },
   {
    "duration": 0,
    "start_time": "2023-08-15T13:13:01.100Z"
   },
   {
    "duration": 0,
    "start_time": "2023-08-15T13:13:01.100Z"
   },
   {
    "duration": 0,
    "start_time": "2023-08-15T13:13:01.102Z"
   },
   {
    "duration": 0,
    "start_time": "2023-08-15T13:13:01.104Z"
   },
   {
    "duration": 0,
    "start_time": "2023-08-15T13:13:01.105Z"
   },
   {
    "duration": 0,
    "start_time": "2023-08-15T13:13:01.105Z"
   },
   {
    "duration": 0,
    "start_time": "2023-08-15T13:13:01.106Z"
   },
   {
    "duration": 0,
    "start_time": "2023-08-15T13:13:01.108Z"
   },
   {
    "duration": 1,
    "start_time": "2023-08-15T13:13:01.108Z"
   },
   {
    "duration": 0,
    "start_time": "2023-08-15T13:13:01.109Z"
   },
   {
    "duration": 24,
    "start_time": "2023-08-15T13:13:04.510Z"
   },
   {
    "duration": 5,
    "start_time": "2023-08-15T13:13:06.273Z"
   },
   {
    "duration": 1550,
    "start_time": "2023-08-15T13:15:04.765Z"
   },
   {
    "duration": 3,
    "start_time": "2023-08-15T13:15:06.317Z"
   },
   {
    "duration": 26,
    "start_time": "2023-08-15T13:15:06.321Z"
   },
   {
    "duration": 480,
    "start_time": "2023-08-15T13:15:06.349Z"
   },
   {
    "duration": 19,
    "start_time": "2023-08-15T13:15:06.831Z"
   },
   {
    "duration": 363,
    "start_time": "2023-08-15T13:15:06.851Z"
   },
   {
    "duration": 90,
    "start_time": "2023-08-15T13:15:07.216Z"
   },
   {
    "duration": 3,
    "start_time": "2023-08-15T13:15:07.308Z"
   },
   {
    "duration": 32,
    "start_time": "2023-08-15T13:15:07.313Z"
   },
   {
    "duration": 17,
    "start_time": "2023-08-15T13:15:07.347Z"
   },
   {
    "duration": 39,
    "start_time": "2023-08-15T13:15:07.365Z"
   },
   {
    "duration": 115,
    "start_time": "2023-08-15T13:15:07.406Z"
   },
   {
    "duration": 10,
    "start_time": "2023-08-15T13:15:07.522Z"
   },
   {
    "duration": 52,
    "start_time": "2023-08-15T13:15:07.535Z"
   },
   {
    "duration": 18,
    "start_time": "2023-08-15T13:15:07.589Z"
   },
   {
    "duration": 402,
    "start_time": "2023-08-15T13:15:07.609Z"
   },
   {
    "duration": 446,
    "start_time": "2023-08-15T13:15:08.013Z"
   },
   {
    "duration": 393,
    "start_time": "2023-08-15T13:15:08.460Z"
   },
   {
    "duration": 739,
    "start_time": "2023-08-15T13:15:08.855Z"
   },
   {
    "duration": 632,
    "start_time": "2023-08-15T13:15:09.596Z"
   },
   {
    "duration": 5,
    "start_time": "2023-08-15T13:15:10.229Z"
   },
   {
    "duration": 40,
    "start_time": "2023-08-15T13:15:10.235Z"
   },
   {
    "duration": 6,
    "start_time": "2023-08-15T13:15:10.277Z"
   },
   {
    "duration": 33,
    "start_time": "2023-08-15T13:15:10.284Z"
   },
   {
    "duration": 18,
    "start_time": "2023-08-15T13:15:10.320Z"
   },
   {
    "duration": 12,
    "start_time": "2023-08-15T13:15:10.341Z"
   },
   {
    "duration": 27,
    "start_time": "2023-08-15T13:15:10.355Z"
   },
   {
    "duration": 114,
    "start_time": "2023-08-15T13:15:10.384Z"
   },
   {
    "duration": 22,
    "start_time": "2023-08-15T13:15:10.500Z"
   },
   {
    "duration": 91727,
    "start_time": "2023-08-15T13:15:10.524Z"
   },
   {
    "duration": 4,
    "start_time": "2023-08-15T13:16:42.253Z"
   },
   {
    "duration": 90668,
    "start_time": "2023-08-15T13:16:42.259Z"
   },
   {
    "duration": 3,
    "start_time": "2023-08-15T13:18:12.929Z"
   },
   {
    "duration": 11,
    "start_time": "2023-08-15T13:18:12.933Z"
   },
   {
    "duration": 1834,
    "start_time": "2023-08-15T13:18:12.945Z"
   },
   {
    "duration": 18,
    "start_time": "2023-08-15T13:18:14.783Z"
   },
   {
    "duration": 2183,
    "start_time": "2023-08-15T13:18:14.805Z"
   },
   {
    "duration": 6,
    "start_time": "2023-08-15T13:18:16.991Z"
   },
   {
    "duration": 76,
    "start_time": "2023-08-15T13:18:17.000Z"
   },
   {
    "duration": 1363,
    "start_time": "2023-08-15T13:18:17.078Z"
   },
   {
    "duration": 4,
    "start_time": "2023-08-15T13:18:18.444Z"
   },
   {
    "duration": 29,
    "start_time": "2023-08-15T13:18:18.449Z"
   },
   {
    "duration": 19957,
    "start_time": "2023-08-15T13:18:18.480Z"
   },
   {
    "duration": 4,
    "start_time": "2023-08-15T13:18:38.438Z"
   },
   {
    "duration": 24,
    "start_time": "2023-08-15T13:18:38.444Z"
   },
   {
    "duration": 18,
    "start_time": "2023-08-15T13:18:38.469Z"
   },
   {
    "duration": 86052,
    "start_time": "2023-08-15T13:18:38.488Z"
   },
   {
    "duration": 3,
    "start_time": "2023-08-15T13:20:04.542Z"
   },
   {
    "duration": 5,
    "start_time": "2023-08-15T13:20:04.547Z"
   },
   {
    "duration": 129985,
    "start_time": "2023-08-15T13:20:04.554Z"
   },
   {
    "duration": 6,
    "start_time": "2023-08-15T13:22:14.541Z"
   },
   {
    "duration": 15,
    "start_time": "2023-08-15T13:22:14.549Z"
   },
   {
    "duration": 16,
    "start_time": "2023-08-15T13:22:14.566Z"
   },
   {
    "duration": 17,
    "start_time": "2023-08-15T13:22:14.587Z"
   },
   {
    "duration": 31790,
    "start_time": "2023-08-15T13:22:14.606Z"
   },
   {
    "duration": 0,
    "start_time": "2023-08-15T13:22:46.398Z"
   },
   {
    "duration": 37460,
    "start_time": "2023-08-15T13:26:56.843Z"
   },
   {
    "duration": 9,
    "start_time": "2023-08-15T13:27:45.339Z"
   }
  ],
  "kernelspec": {
   "display_name": "Python 3 (ipykernel)",
   "language": "python",
   "name": "python3"
  },
  "language_info": {
   "codemirror_mode": {
    "name": "ipython",
    "version": 3
   },
   "file_extension": ".py",
   "mimetype": "text/x-python",
   "name": "python",
   "nbconvert_exporter": "python",
   "pygments_lexer": "ipython3",
   "version": "3.10.9"
  },
  "toc": {
   "base_numbering": 1,
   "nav_menu": {},
   "number_sections": true,
   "sideBar": true,
   "skip_h1_title": true,
   "title_cell": "Содержание",
   "title_sidebar": "Contents",
   "toc_cell": true,
   "toc_position": {},
   "toc_section_display": true,
   "toc_window_display": true
  }
 },
 "nbformat": 4,
 "nbformat_minor": 2
}
