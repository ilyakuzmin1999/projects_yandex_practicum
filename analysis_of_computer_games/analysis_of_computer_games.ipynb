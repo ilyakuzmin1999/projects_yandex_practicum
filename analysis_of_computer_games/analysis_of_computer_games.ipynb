{
 "cells": [
  {
   "cell_type": "markdown",
   "metadata": {},
   "source": [
    "# Описание проекта\n",
    "\n",
    "Интернет-магазин «Стримчик», который продаёт по всему миру компьютерные игры. Из открытых источников доступны исторические данные о продажах игр, оценки пользователей и экспертов, жанры и платформы (например, Xbox или PlayStation). Необходимо выявить определяющие успешность игры закономерности. Это позволит сделать ставку на потенциально популярный продукт и спланировать рекламные кампании.\n",
    "\n",
    "Данные представлены до 2016 года. Планируется кампанию на 2017-й.\n",
    "\n",
    "В наборе данных попадается аббревиатура ESRB (Entertainment Software Rating Board) — это ассоциация, определяющая возрастной рейтинг компьютерных игр. ESRB оценивает игровой контент и присваивает ему подходящую возрастную категорию, например, «Для взрослых», «Для детей младшего возраста» или «Для подростков».\n",
    "\n",
    "План исследований:\n",
    "\n",
    "1) выгрузка и изучение данных\n",
    "\n",
    "2) предоработка данных\n",
    "\n",
    "3) проести исследовательский анализ данных\n",
    "\n",
    "4) составить портрет пользователей по регионам\n",
    "\n",
    "5) проверить гипотезы"
   ]
  },
  {
   "cell_type": "markdown",
   "metadata": {},
   "source": [
    "## Выгрузка и знакомство с данными"
   ]
  },
  {
   "cell_type": "code",
   "execution_count": 1,
   "metadata": {},
   "outputs": [],
   "source": [
    "import pandas as pd\n",
    "import matplotlib.pyplot as plt\n",
    "import numpy as np\n",
    "import seaborn as sns\n",
    "from scipy import stats as st"
   ]
  },
  {
   "cell_type": "code",
   "execution_count": 2,
   "metadata": {},
   "outputs": [
    {
     "data": {
      "text/html": [
       "<div>\n",
       "<style scoped>\n",
       "    .dataframe tbody tr th:only-of-type {\n",
       "        vertical-align: middle;\n",
       "    }\n",
       "\n",
       "    .dataframe tbody tr th {\n",
       "        vertical-align: top;\n",
       "    }\n",
       "\n",
       "    .dataframe thead th {\n",
       "        text-align: right;\n",
       "    }\n",
       "</style>\n",
       "<table border=\"1\" class=\"dataframe\">\n",
       "  <thead>\n",
       "    <tr style=\"text-align: right;\">\n",
       "      <th></th>\n",
       "      <th>Name</th>\n",
       "      <th>Platform</th>\n",
       "      <th>Year_of_Release</th>\n",
       "      <th>Genre</th>\n",
       "      <th>NA_sales</th>\n",
       "      <th>EU_sales</th>\n",
       "      <th>JP_sales</th>\n",
       "      <th>Other_sales</th>\n",
       "      <th>Critic_Score</th>\n",
       "      <th>User_Score</th>\n",
       "      <th>Rating</th>\n",
       "    </tr>\n",
       "  </thead>\n",
       "  <tbody>\n",
       "    <tr>\n",
       "      <th>0</th>\n",
       "      <td>Wii Sports</td>\n",
       "      <td>Wii</td>\n",
       "      <td>2006.0</td>\n",
       "      <td>Sports</td>\n",
       "      <td>41.36</td>\n",
       "      <td>28.96</td>\n",
       "      <td>3.77</td>\n",
       "      <td>8.45</td>\n",
       "      <td>76.0</td>\n",
       "      <td>8</td>\n",
       "      <td>E</td>\n",
       "    </tr>\n",
       "    <tr>\n",
       "      <th>1</th>\n",
       "      <td>Super Mario Bros.</td>\n",
       "      <td>NES</td>\n",
       "      <td>1985.0</td>\n",
       "      <td>Platform</td>\n",
       "      <td>29.08</td>\n",
       "      <td>3.58</td>\n",
       "      <td>6.81</td>\n",
       "      <td>0.77</td>\n",
       "      <td>NaN</td>\n",
       "      <td>NaN</td>\n",
       "      <td>NaN</td>\n",
       "    </tr>\n",
       "    <tr>\n",
       "      <th>2</th>\n",
       "      <td>Mario Kart Wii</td>\n",
       "      <td>Wii</td>\n",
       "      <td>2008.0</td>\n",
       "      <td>Racing</td>\n",
       "      <td>15.68</td>\n",
       "      <td>12.76</td>\n",
       "      <td>3.79</td>\n",
       "      <td>3.29</td>\n",
       "      <td>82.0</td>\n",
       "      <td>8.3</td>\n",
       "      <td>E</td>\n",
       "    </tr>\n",
       "    <tr>\n",
       "      <th>3</th>\n",
       "      <td>Wii Sports Resort</td>\n",
       "      <td>Wii</td>\n",
       "      <td>2009.0</td>\n",
       "      <td>Sports</td>\n",
       "      <td>15.61</td>\n",
       "      <td>10.93</td>\n",
       "      <td>3.28</td>\n",
       "      <td>2.95</td>\n",
       "      <td>80.0</td>\n",
       "      <td>8</td>\n",
       "      <td>E</td>\n",
       "    </tr>\n",
       "    <tr>\n",
       "      <th>4</th>\n",
       "      <td>Pokemon Red/Pokemon Blue</td>\n",
       "      <td>GB</td>\n",
       "      <td>1996.0</td>\n",
       "      <td>Role-Playing</td>\n",
       "      <td>11.27</td>\n",
       "      <td>8.89</td>\n",
       "      <td>10.22</td>\n",
       "      <td>1.00</td>\n",
       "      <td>NaN</td>\n",
       "      <td>NaN</td>\n",
       "      <td>NaN</td>\n",
       "    </tr>\n",
       "    <tr>\n",
       "      <th>...</th>\n",
       "      <td>...</td>\n",
       "      <td>...</td>\n",
       "      <td>...</td>\n",
       "      <td>...</td>\n",
       "      <td>...</td>\n",
       "      <td>...</td>\n",
       "      <td>...</td>\n",
       "      <td>...</td>\n",
       "      <td>...</td>\n",
       "      <td>...</td>\n",
       "      <td>...</td>\n",
       "    </tr>\n",
       "    <tr>\n",
       "      <th>16710</th>\n",
       "      <td>Samurai Warriors: Sanada Maru</td>\n",
       "      <td>PS3</td>\n",
       "      <td>2016.0</td>\n",
       "      <td>Action</td>\n",
       "      <td>0.00</td>\n",
       "      <td>0.00</td>\n",
       "      <td>0.01</td>\n",
       "      <td>0.00</td>\n",
       "      <td>NaN</td>\n",
       "      <td>NaN</td>\n",
       "      <td>NaN</td>\n",
       "    </tr>\n",
       "    <tr>\n",
       "      <th>16711</th>\n",
       "      <td>LMA Manager 2007</td>\n",
       "      <td>X360</td>\n",
       "      <td>2006.0</td>\n",
       "      <td>Sports</td>\n",
       "      <td>0.00</td>\n",
       "      <td>0.01</td>\n",
       "      <td>0.00</td>\n",
       "      <td>0.00</td>\n",
       "      <td>NaN</td>\n",
       "      <td>NaN</td>\n",
       "      <td>NaN</td>\n",
       "    </tr>\n",
       "    <tr>\n",
       "      <th>16712</th>\n",
       "      <td>Haitaka no Psychedelica</td>\n",
       "      <td>PSV</td>\n",
       "      <td>2016.0</td>\n",
       "      <td>Adventure</td>\n",
       "      <td>0.00</td>\n",
       "      <td>0.00</td>\n",
       "      <td>0.01</td>\n",
       "      <td>0.00</td>\n",
       "      <td>NaN</td>\n",
       "      <td>NaN</td>\n",
       "      <td>NaN</td>\n",
       "    </tr>\n",
       "    <tr>\n",
       "      <th>16713</th>\n",
       "      <td>Spirits &amp; Spells</td>\n",
       "      <td>GBA</td>\n",
       "      <td>2003.0</td>\n",
       "      <td>Platform</td>\n",
       "      <td>0.01</td>\n",
       "      <td>0.00</td>\n",
       "      <td>0.00</td>\n",
       "      <td>0.00</td>\n",
       "      <td>NaN</td>\n",
       "      <td>NaN</td>\n",
       "      <td>NaN</td>\n",
       "    </tr>\n",
       "    <tr>\n",
       "      <th>16714</th>\n",
       "      <td>Winning Post 8 2016</td>\n",
       "      <td>PSV</td>\n",
       "      <td>2016.0</td>\n",
       "      <td>Simulation</td>\n",
       "      <td>0.00</td>\n",
       "      <td>0.00</td>\n",
       "      <td>0.01</td>\n",
       "      <td>0.00</td>\n",
       "      <td>NaN</td>\n",
       "      <td>NaN</td>\n",
       "      <td>NaN</td>\n",
       "    </tr>\n",
       "  </tbody>\n",
       "</table>\n",
       "<p>16715 rows × 11 columns</p>\n",
       "</div>"
      ],
      "text/plain": [
       "                                Name Platform  Year_of_Release         Genre  \\\n",
       "0                         Wii Sports      Wii           2006.0        Sports   \n",
       "1                  Super Mario Bros.      NES           1985.0      Platform   \n",
       "2                     Mario Kart Wii      Wii           2008.0        Racing   \n",
       "3                  Wii Sports Resort      Wii           2009.0        Sports   \n",
       "4           Pokemon Red/Pokemon Blue       GB           1996.0  Role-Playing   \n",
       "...                              ...      ...              ...           ...   \n",
       "16710  Samurai Warriors: Sanada Maru      PS3           2016.0        Action   \n",
       "16711               LMA Manager 2007     X360           2006.0        Sports   \n",
       "16712        Haitaka no Psychedelica      PSV           2016.0     Adventure   \n",
       "16713               Spirits & Spells      GBA           2003.0      Platform   \n",
       "16714            Winning Post 8 2016      PSV           2016.0    Simulation   \n",
       "\n",
       "       NA_sales  EU_sales  JP_sales  Other_sales  Critic_Score User_Score  \\\n",
       "0         41.36     28.96      3.77         8.45          76.0          8   \n",
       "1         29.08      3.58      6.81         0.77           NaN        NaN   \n",
       "2         15.68     12.76      3.79         3.29          82.0        8.3   \n",
       "3         15.61     10.93      3.28         2.95          80.0          8   \n",
       "4         11.27      8.89     10.22         1.00           NaN        NaN   \n",
       "...         ...       ...       ...          ...           ...        ...   \n",
       "16710      0.00      0.00      0.01         0.00           NaN        NaN   \n",
       "16711      0.00      0.01      0.00         0.00           NaN        NaN   \n",
       "16712      0.00      0.00      0.01         0.00           NaN        NaN   \n",
       "16713      0.01      0.00      0.00         0.00           NaN        NaN   \n",
       "16714      0.00      0.00      0.01         0.00           NaN        NaN   \n",
       "\n",
       "      Rating  \n",
       "0          E  \n",
       "1        NaN  \n",
       "2          E  \n",
       "3          E  \n",
       "4        NaN  \n",
       "...      ...  \n",
       "16710    NaN  \n",
       "16711    NaN  \n",
       "16712    NaN  \n",
       "16713    NaN  \n",
       "16714    NaN  \n",
       "\n",
       "[16715 rows x 11 columns]"
      ]
     },
     "execution_count": 2,
     "metadata": {},
     "output_type": "execute_result"
    }
   ],
   "source": [
    "try:\n",
    "    df = pd.read_csv('/datasets/games.csv')\n",
    "except:\n",
    "    df = pd.read_csv('https://code.s3.yandex.net/datasets/games.csv')\n",
    "df"
   ]
  },
  {
   "cell_type": "code",
   "execution_count": 3,
   "metadata": {},
   "outputs": [
    {
     "name": "stdout",
     "output_type": "stream",
     "text": [
      "<class 'pandas.core.frame.DataFrame'>\n",
      "RangeIndex: 16715 entries, 0 to 16714\n",
      "Data columns (total 11 columns):\n",
      " #   Column           Non-Null Count  Dtype  \n",
      "---  ------           --------------  -----  \n",
      " 0   Name             16713 non-null  object \n",
      " 1   Platform         16715 non-null  object \n",
      " 2   Year_of_Release  16446 non-null  float64\n",
      " 3   Genre            16713 non-null  object \n",
      " 4   NA_sales         16715 non-null  float64\n",
      " 5   EU_sales         16715 non-null  float64\n",
      " 6   JP_sales         16715 non-null  float64\n",
      " 7   Other_sales      16715 non-null  float64\n",
      " 8   Critic_Score     8137 non-null   float64\n",
      " 9   User_Score       10014 non-null  object \n",
      " 10  Rating           9949 non-null   object \n",
      "dtypes: float64(6), object(5)\n",
      "memory usage: 1.4+ MB\n"
     ]
    }
   ],
   "source": [
    "df.info()"
   ]
  },
  {
   "cell_type": "markdown",
   "metadata": {},
   "source": [
    "После первого знакомсва с данными, необходимо изменить типы данных:\n",
    "- тип данных в столбце Year_of_Release необходимо изменить с float на int\n",
    "- тип данных в столбце User_Score необходимо изменить с object на float\n",
    "\n",
    "Также необходимо удалить строки с пропусками в стобцах: Name, Year_of_Release, Genre. Т.к. они занимают малый процент и не имеет смысла без этих данных проводить исследование."
   ]
  },
  {
   "cell_type": "markdown",
   "metadata": {},
   "source": [
    "## Предоработка данных"
   ]
  },
  {
   "cell_type": "markdown",
   "metadata": {},
   "source": [
    "### Приведение название стобцов к нижнему регистру"
   ]
  },
  {
   "cell_type": "code",
   "execution_count": 4,
   "metadata": {},
   "outputs": [
    {
     "data": {
      "text/html": [
       "<div>\n",
       "<style scoped>\n",
       "    .dataframe tbody tr th:only-of-type {\n",
       "        vertical-align: middle;\n",
       "    }\n",
       "\n",
       "    .dataframe tbody tr th {\n",
       "        vertical-align: top;\n",
       "    }\n",
       "\n",
       "    .dataframe thead th {\n",
       "        text-align: right;\n",
       "    }\n",
       "</style>\n",
       "<table border=\"1\" class=\"dataframe\">\n",
       "  <thead>\n",
       "    <tr style=\"text-align: right;\">\n",
       "      <th></th>\n",
       "      <th>name</th>\n",
       "      <th>platform</th>\n",
       "      <th>year_of_release</th>\n",
       "      <th>genre</th>\n",
       "      <th>na_sales</th>\n",
       "      <th>eu_sales</th>\n",
       "      <th>jp_sales</th>\n",
       "      <th>other_sales</th>\n",
       "      <th>critic_score</th>\n",
       "      <th>user_score</th>\n",
       "      <th>rating</th>\n",
       "    </tr>\n",
       "  </thead>\n",
       "  <tbody>\n",
       "    <tr>\n",
       "      <th>0</th>\n",
       "      <td>Wii Sports</td>\n",
       "      <td>Wii</td>\n",
       "      <td>2006.0</td>\n",
       "      <td>Sports</td>\n",
       "      <td>41.36</td>\n",
       "      <td>28.96</td>\n",
       "      <td>3.77</td>\n",
       "      <td>8.45</td>\n",
       "      <td>76.0</td>\n",
       "      <td>8</td>\n",
       "      <td>E</td>\n",
       "    </tr>\n",
       "    <tr>\n",
       "      <th>1</th>\n",
       "      <td>Super Mario Bros.</td>\n",
       "      <td>NES</td>\n",
       "      <td>1985.0</td>\n",
       "      <td>Platform</td>\n",
       "      <td>29.08</td>\n",
       "      <td>3.58</td>\n",
       "      <td>6.81</td>\n",
       "      <td>0.77</td>\n",
       "      <td>NaN</td>\n",
       "      <td>NaN</td>\n",
       "      <td>NaN</td>\n",
       "    </tr>\n",
       "    <tr>\n",
       "      <th>2</th>\n",
       "      <td>Mario Kart Wii</td>\n",
       "      <td>Wii</td>\n",
       "      <td>2008.0</td>\n",
       "      <td>Racing</td>\n",
       "      <td>15.68</td>\n",
       "      <td>12.76</td>\n",
       "      <td>3.79</td>\n",
       "      <td>3.29</td>\n",
       "      <td>82.0</td>\n",
       "      <td>8.3</td>\n",
       "      <td>E</td>\n",
       "    </tr>\n",
       "    <tr>\n",
       "      <th>3</th>\n",
       "      <td>Wii Sports Resort</td>\n",
       "      <td>Wii</td>\n",
       "      <td>2009.0</td>\n",
       "      <td>Sports</td>\n",
       "      <td>15.61</td>\n",
       "      <td>10.93</td>\n",
       "      <td>3.28</td>\n",
       "      <td>2.95</td>\n",
       "      <td>80.0</td>\n",
       "      <td>8</td>\n",
       "      <td>E</td>\n",
       "    </tr>\n",
       "    <tr>\n",
       "      <th>4</th>\n",
       "      <td>Pokemon Red/Pokemon Blue</td>\n",
       "      <td>GB</td>\n",
       "      <td>1996.0</td>\n",
       "      <td>Role-Playing</td>\n",
       "      <td>11.27</td>\n",
       "      <td>8.89</td>\n",
       "      <td>10.22</td>\n",
       "      <td>1.00</td>\n",
       "      <td>NaN</td>\n",
       "      <td>NaN</td>\n",
       "      <td>NaN</td>\n",
       "    </tr>\n",
       "  </tbody>\n",
       "</table>\n",
       "</div>"
      ],
      "text/plain": [
       "                       name platform  year_of_release         genre  na_sales  \\\n",
       "0                Wii Sports      Wii           2006.0        Sports     41.36   \n",
       "1         Super Mario Bros.      NES           1985.0      Platform     29.08   \n",
       "2            Mario Kart Wii      Wii           2008.0        Racing     15.68   \n",
       "3         Wii Sports Resort      Wii           2009.0        Sports     15.61   \n",
       "4  Pokemon Red/Pokemon Blue       GB           1996.0  Role-Playing     11.27   \n",
       "\n",
       "   eu_sales  jp_sales  other_sales  critic_score user_score rating  \n",
       "0     28.96      3.77         8.45          76.0          8      E  \n",
       "1      3.58      6.81         0.77           NaN        NaN    NaN  \n",
       "2     12.76      3.79         3.29          82.0        8.3      E  \n",
       "3     10.93      3.28         2.95          80.0          8      E  \n",
       "4      8.89     10.22         1.00           NaN        NaN    NaN  "
      ]
     },
     "execution_count": 4,
     "metadata": {},
     "output_type": "execute_result"
    }
   ],
   "source": [
    "df.columns = df.columns.str.lower()\n",
    "df.head()"
   ]
  },
  {
   "cell_type": "markdown",
   "metadata": {},
   "source": [
    "### Работа с пропусками"
   ]
  },
  {
   "cell_type": "markdown",
   "metadata": {},
   "source": [
    "Пропуски в столбцах 'name', 'platform','genre' стоит удалит, т.к. их немного и это не повлияет на исследования."
   ]
  },
  {
   "cell_type": "code",
   "execution_count": 5,
   "metadata": {},
   "outputs": [
    {
     "data": {
      "text/html": [
       "<div>\n",
       "<style scoped>\n",
       "    .dataframe tbody tr th:only-of-type {\n",
       "        vertical-align: middle;\n",
       "    }\n",
       "\n",
       "    .dataframe tbody tr th {\n",
       "        vertical-align: top;\n",
       "    }\n",
       "\n",
       "    .dataframe thead th {\n",
       "        text-align: right;\n",
       "    }\n",
       "</style>\n",
       "<table border=\"1\" class=\"dataframe\">\n",
       "  <thead>\n",
       "    <tr style=\"text-align: right;\">\n",
       "      <th></th>\n",
       "      <th>name</th>\n",
       "      <th>platform</th>\n",
       "      <th>year_of_release</th>\n",
       "      <th>genre</th>\n",
       "      <th>na_sales</th>\n",
       "      <th>eu_sales</th>\n",
       "      <th>jp_sales</th>\n",
       "      <th>other_sales</th>\n",
       "      <th>critic_score</th>\n",
       "      <th>user_score</th>\n",
       "      <th>rating</th>\n",
       "    </tr>\n",
       "  </thead>\n",
       "  <tbody>\n",
       "    <tr>\n",
       "      <th>0</th>\n",
       "      <td>Wii Sports</td>\n",
       "      <td>Wii</td>\n",
       "      <td>2006.0</td>\n",
       "      <td>Sports</td>\n",
       "      <td>41.36</td>\n",
       "      <td>28.96</td>\n",
       "      <td>3.77</td>\n",
       "      <td>8.45</td>\n",
       "      <td>76.0</td>\n",
       "      <td>8</td>\n",
       "      <td>E</td>\n",
       "    </tr>\n",
       "    <tr>\n",
       "      <th>1</th>\n",
       "      <td>Super Mario Bros.</td>\n",
       "      <td>NES</td>\n",
       "      <td>1985.0</td>\n",
       "      <td>Platform</td>\n",
       "      <td>29.08</td>\n",
       "      <td>3.58</td>\n",
       "      <td>6.81</td>\n",
       "      <td>0.77</td>\n",
       "      <td>NaN</td>\n",
       "      <td>NaN</td>\n",
       "      <td>NaN</td>\n",
       "    </tr>\n",
       "    <tr>\n",
       "      <th>2</th>\n",
       "      <td>Mario Kart Wii</td>\n",
       "      <td>Wii</td>\n",
       "      <td>2008.0</td>\n",
       "      <td>Racing</td>\n",
       "      <td>15.68</td>\n",
       "      <td>12.76</td>\n",
       "      <td>3.79</td>\n",
       "      <td>3.29</td>\n",
       "      <td>82.0</td>\n",
       "      <td>8.3</td>\n",
       "      <td>E</td>\n",
       "    </tr>\n",
       "    <tr>\n",
       "      <th>3</th>\n",
       "      <td>Wii Sports Resort</td>\n",
       "      <td>Wii</td>\n",
       "      <td>2009.0</td>\n",
       "      <td>Sports</td>\n",
       "      <td>15.61</td>\n",
       "      <td>10.93</td>\n",
       "      <td>3.28</td>\n",
       "      <td>2.95</td>\n",
       "      <td>80.0</td>\n",
       "      <td>8</td>\n",
       "      <td>E</td>\n",
       "    </tr>\n",
       "    <tr>\n",
       "      <th>4</th>\n",
       "      <td>Pokemon Red/Pokemon Blue</td>\n",
       "      <td>GB</td>\n",
       "      <td>1996.0</td>\n",
       "      <td>Role-Playing</td>\n",
       "      <td>11.27</td>\n",
       "      <td>8.89</td>\n",
       "      <td>10.22</td>\n",
       "      <td>1.00</td>\n",
       "      <td>NaN</td>\n",
       "      <td>NaN</td>\n",
       "      <td>NaN</td>\n",
       "    </tr>\n",
       "    <tr>\n",
       "      <th>...</th>\n",
       "      <td>...</td>\n",
       "      <td>...</td>\n",
       "      <td>...</td>\n",
       "      <td>...</td>\n",
       "      <td>...</td>\n",
       "      <td>...</td>\n",
       "      <td>...</td>\n",
       "      <td>...</td>\n",
       "      <td>...</td>\n",
       "      <td>...</td>\n",
       "      <td>...</td>\n",
       "    </tr>\n",
       "    <tr>\n",
       "      <th>16439</th>\n",
       "      <td>Samurai Warriors: Sanada Maru</td>\n",
       "      <td>PS3</td>\n",
       "      <td>2016.0</td>\n",
       "      <td>Action</td>\n",
       "      <td>0.00</td>\n",
       "      <td>0.00</td>\n",
       "      <td>0.01</td>\n",
       "      <td>0.00</td>\n",
       "      <td>NaN</td>\n",
       "      <td>NaN</td>\n",
       "      <td>NaN</td>\n",
       "    </tr>\n",
       "    <tr>\n",
       "      <th>16440</th>\n",
       "      <td>LMA Manager 2007</td>\n",
       "      <td>X360</td>\n",
       "      <td>2006.0</td>\n",
       "      <td>Sports</td>\n",
       "      <td>0.00</td>\n",
       "      <td>0.01</td>\n",
       "      <td>0.00</td>\n",
       "      <td>0.00</td>\n",
       "      <td>NaN</td>\n",
       "      <td>NaN</td>\n",
       "      <td>NaN</td>\n",
       "    </tr>\n",
       "    <tr>\n",
       "      <th>16441</th>\n",
       "      <td>Haitaka no Psychedelica</td>\n",
       "      <td>PSV</td>\n",
       "      <td>2016.0</td>\n",
       "      <td>Adventure</td>\n",
       "      <td>0.00</td>\n",
       "      <td>0.00</td>\n",
       "      <td>0.01</td>\n",
       "      <td>0.00</td>\n",
       "      <td>NaN</td>\n",
       "      <td>NaN</td>\n",
       "      <td>NaN</td>\n",
       "    </tr>\n",
       "    <tr>\n",
       "      <th>16442</th>\n",
       "      <td>Spirits &amp; Spells</td>\n",
       "      <td>GBA</td>\n",
       "      <td>2003.0</td>\n",
       "      <td>Platform</td>\n",
       "      <td>0.01</td>\n",
       "      <td>0.00</td>\n",
       "      <td>0.00</td>\n",
       "      <td>0.00</td>\n",
       "      <td>NaN</td>\n",
       "      <td>NaN</td>\n",
       "      <td>NaN</td>\n",
       "    </tr>\n",
       "    <tr>\n",
       "      <th>16443</th>\n",
       "      <td>Winning Post 8 2016</td>\n",
       "      <td>PSV</td>\n",
       "      <td>2016.0</td>\n",
       "      <td>Simulation</td>\n",
       "      <td>0.00</td>\n",
       "      <td>0.00</td>\n",
       "      <td>0.01</td>\n",
       "      <td>0.00</td>\n",
       "      <td>NaN</td>\n",
       "      <td>NaN</td>\n",
       "      <td>NaN</td>\n",
       "    </tr>\n",
       "  </tbody>\n",
       "</table>\n",
       "<p>16444 rows × 11 columns</p>\n",
       "</div>"
      ],
      "text/plain": [
       "                                name platform  year_of_release         genre  \\\n",
       "0                         Wii Sports      Wii           2006.0        Sports   \n",
       "1                  Super Mario Bros.      NES           1985.0      Platform   \n",
       "2                     Mario Kart Wii      Wii           2008.0        Racing   \n",
       "3                  Wii Sports Resort      Wii           2009.0        Sports   \n",
       "4           Pokemon Red/Pokemon Blue       GB           1996.0  Role-Playing   \n",
       "...                              ...      ...              ...           ...   \n",
       "16439  Samurai Warriors: Sanada Maru      PS3           2016.0        Action   \n",
       "16440               LMA Manager 2007     X360           2006.0        Sports   \n",
       "16441        Haitaka no Psychedelica      PSV           2016.0     Adventure   \n",
       "16442               Spirits & Spells      GBA           2003.0      Platform   \n",
       "16443            Winning Post 8 2016      PSV           2016.0    Simulation   \n",
       "\n",
       "       na_sales  eu_sales  jp_sales  other_sales  critic_score user_score  \\\n",
       "0         41.36     28.96      3.77         8.45          76.0          8   \n",
       "1         29.08      3.58      6.81         0.77           NaN        NaN   \n",
       "2         15.68     12.76      3.79         3.29          82.0        8.3   \n",
       "3         15.61     10.93      3.28         2.95          80.0          8   \n",
       "4         11.27      8.89     10.22         1.00           NaN        NaN   \n",
       "...         ...       ...       ...          ...           ...        ...   \n",
       "16439      0.00      0.00      0.01         0.00           NaN        NaN   \n",
       "16440      0.00      0.01      0.00         0.00           NaN        NaN   \n",
       "16441      0.00      0.00      0.01         0.00           NaN        NaN   \n",
       "16442      0.01      0.00      0.00         0.00           NaN        NaN   \n",
       "16443      0.00      0.00      0.01         0.00           NaN        NaN   \n",
       "\n",
       "      rating  \n",
       "0          E  \n",
       "1        NaN  \n",
       "2          E  \n",
       "3          E  \n",
       "4        NaN  \n",
       "...      ...  \n",
       "16439    NaN  \n",
       "16440    NaN  \n",
       "16441    NaN  \n",
       "16442    NaN  \n",
       "16443    NaN  \n",
       "\n",
       "[16444 rows x 11 columns]"
      ]
     },
     "execution_count": 5,
     "metadata": {},
     "output_type": "execute_result"
    }
   ],
   "source": [
    "df = df.dropna(subset=['name', 'year_of_release', 'genre']).reset_index(drop=True)\n",
    "df"
   ]
  },
  {
   "cell_type": "markdown",
   "metadata": {},
   "source": [
    "Пропуски в других стобцах стоит оставить как есть, т.к. это показывает, что скорее всего игры не оценены или не имеют рейтинга."
   ]
  },
  {
   "cell_type": "markdown",
   "metadata": {},
   "source": [
    "### Преобразование данных к нужному типу"
   ]
  },
  {
   "cell_type": "code",
   "execution_count": 6,
   "metadata": {},
   "outputs": [],
   "source": [
    "df['year_of_release'] = df['year_of_release'].astype('int')"
   ]
  },
  {
   "cell_type": "code",
   "execution_count": 7,
   "metadata": {},
   "outputs": [
    {
     "data": {
      "text/plain": [
       "array(['8', nan, '8.3', '8.5', '6.6', '8.4', '8.6', '7.7', '6.3', '7.4',\n",
       "       '8.2', '9', '7.9', '8.1', '8.7', '7.1', '3.4', '5.3', '4.8', '3.2',\n",
       "       '8.9', '6.4', '7.8', '7.5', '2.6', '7.2', '9.2', '7', '7.3', '4.3',\n",
       "       '7.6', '5.7', '5', '9.1', '6.5', 'tbd', '8.8', '6.9', '9.4', '6.8',\n",
       "       '6.1', '6.7', '5.4', '4', '4.9', '4.5', '9.3', '6.2', '4.2', '6',\n",
       "       '3.7', '4.1', '5.8', '5.6', '5.5', '4.4', '4.6', '5.9', '3.9',\n",
       "       '3.1', '2.9', '5.2', '3.3', '4.7', '5.1', '3.5', '2.5', '1.9', '3',\n",
       "       '2.7', '2.2', '2', '9.5', '2.1', '3.6', '2.8', '1.8', '3.8', '0',\n",
       "       '1.6', '9.6', '2.4', '1.7', '1.1', '0.3', '1.5', '0.7', '1.2',\n",
       "       '2.3', '0.5', '1.3', '0.2', '0.6', '1.4', '0.9', '1', '9.7'],\n",
       "      dtype=object)"
      ]
     },
     "execution_count": 7,
     "metadata": {},
     "output_type": "execute_result"
    }
   ],
   "source": [
    "df['user_score'].unique()"
   ]
  },
  {
   "cell_type": "markdown",
   "metadata": {},
   "source": [
    "Встречается значение 'tbt' заменим его на NaN и приведем значения к типу float."
   ]
  },
  {
   "cell_type": "code",
   "execution_count": 8,
   "metadata": {},
   "outputs": [
    {
     "name": "stdout",
     "output_type": "stream",
     "text": [
      "<class 'pandas.core.frame.DataFrame'>\n",
      "RangeIndex: 16444 entries, 0 to 16443\n",
      "Data columns (total 11 columns):\n",
      " #   Column           Non-Null Count  Dtype  \n",
      "---  ------           --------------  -----  \n",
      " 0   name             16444 non-null  object \n",
      " 1   platform         16444 non-null  object \n",
      " 2   year_of_release  16444 non-null  int64  \n",
      " 3   genre            16444 non-null  object \n",
      " 4   na_sales         16444 non-null  float64\n",
      " 5   eu_sales         16444 non-null  float64\n",
      " 6   jp_sales         16444 non-null  float64\n",
      " 7   other_sales      16444 non-null  float64\n",
      " 8   critic_score     7983 non-null   float64\n",
      " 9   user_score       7463 non-null   float64\n",
      " 10  rating           9768 non-null   object \n",
      "dtypes: float64(6), int64(1), object(4)\n",
      "memory usage: 1.4+ MB\n"
     ]
    }
   ],
   "source": [
    "df['user_score'] = pd.to_numeric(df['user_score'], errors='coerce')\n",
    "df.info()"
   ]
  },
  {
   "cell_type": "code",
   "execution_count": 9,
   "metadata": {},
   "outputs": [
    {
     "data": {
      "text/plain": [
       "array(['E', nan, 'M', 'T', 'E10+', 'K-A', 'AO', 'EC', 'RP'], dtype=object)"
      ]
     },
     "execution_count": 9,
     "metadata": {},
     "output_type": "execute_result"
    }
   ],
   "source": [
    "df['rating'].unique()"
   ]
  },
  {
   "cell_type": "markdown",
   "metadata": {},
   "source": [
    "К-А и E10+ означают одно и тоже, поэтому всё заменим на E10+"
   ]
  },
  {
   "cell_type": "code",
   "execution_count": 10,
   "metadata": {},
   "outputs": [
    {
     "data": {
      "text/plain": [
       "E       3921\n",
       "T       2905\n",
       "M       1536\n",
       "E10+    1396\n",
       "EC         8\n",
       "AO         1\n",
       "RP         1\n",
       "Name: rating, dtype: int64"
      ]
     },
     "execution_count": 10,
     "metadata": {},
     "output_type": "execute_result"
    }
   ],
   "source": [
    "df['rating'] = df['rating'].replace('K-A', 'E10+')\n",
    "df['rating'].value_counts()"
   ]
  },
  {
   "cell_type": "markdown",
   "metadata": {},
   "source": [
    "### Расчет суммарных продаж"
   ]
  },
  {
   "cell_type": "code",
   "execution_count": 11,
   "metadata": {},
   "outputs": [
    {
     "data": {
      "text/html": [
       "<div>\n",
       "<style scoped>\n",
       "    .dataframe tbody tr th:only-of-type {\n",
       "        vertical-align: middle;\n",
       "    }\n",
       "\n",
       "    .dataframe tbody tr th {\n",
       "        vertical-align: top;\n",
       "    }\n",
       "\n",
       "    .dataframe thead th {\n",
       "        text-align: right;\n",
       "    }\n",
       "</style>\n",
       "<table border=\"1\" class=\"dataframe\">\n",
       "  <thead>\n",
       "    <tr style=\"text-align: right;\">\n",
       "      <th></th>\n",
       "      <th>name</th>\n",
       "      <th>platform</th>\n",
       "      <th>year_of_release</th>\n",
       "      <th>genre</th>\n",
       "      <th>na_sales</th>\n",
       "      <th>eu_sales</th>\n",
       "      <th>jp_sales</th>\n",
       "      <th>other_sales</th>\n",
       "      <th>critic_score</th>\n",
       "      <th>user_score</th>\n",
       "      <th>rating</th>\n",
       "      <th>sum_sales</th>\n",
       "    </tr>\n",
       "  </thead>\n",
       "  <tbody>\n",
       "    <tr>\n",
       "      <th>0</th>\n",
       "      <td>Wii Sports</td>\n",
       "      <td>Wii</td>\n",
       "      <td>2006</td>\n",
       "      <td>Sports</td>\n",
       "      <td>41.36</td>\n",
       "      <td>28.96</td>\n",
       "      <td>3.77</td>\n",
       "      <td>8.45</td>\n",
       "      <td>76.0</td>\n",
       "      <td>8.0</td>\n",
       "      <td>E</td>\n",
       "      <td>82.54</td>\n",
       "    </tr>\n",
       "    <tr>\n",
       "      <th>1</th>\n",
       "      <td>Super Mario Bros.</td>\n",
       "      <td>NES</td>\n",
       "      <td>1985</td>\n",
       "      <td>Platform</td>\n",
       "      <td>29.08</td>\n",
       "      <td>3.58</td>\n",
       "      <td>6.81</td>\n",
       "      <td>0.77</td>\n",
       "      <td>NaN</td>\n",
       "      <td>NaN</td>\n",
       "      <td>NaN</td>\n",
       "      <td>40.24</td>\n",
       "    </tr>\n",
       "    <tr>\n",
       "      <th>2</th>\n",
       "      <td>Mario Kart Wii</td>\n",
       "      <td>Wii</td>\n",
       "      <td>2008</td>\n",
       "      <td>Racing</td>\n",
       "      <td>15.68</td>\n",
       "      <td>12.76</td>\n",
       "      <td>3.79</td>\n",
       "      <td>3.29</td>\n",
       "      <td>82.0</td>\n",
       "      <td>8.3</td>\n",
       "      <td>E</td>\n",
       "      <td>35.52</td>\n",
       "    </tr>\n",
       "    <tr>\n",
       "      <th>3</th>\n",
       "      <td>Wii Sports Resort</td>\n",
       "      <td>Wii</td>\n",
       "      <td>2009</td>\n",
       "      <td>Sports</td>\n",
       "      <td>15.61</td>\n",
       "      <td>10.93</td>\n",
       "      <td>3.28</td>\n",
       "      <td>2.95</td>\n",
       "      <td>80.0</td>\n",
       "      <td>8.0</td>\n",
       "      <td>E</td>\n",
       "      <td>32.77</td>\n",
       "    </tr>\n",
       "    <tr>\n",
       "      <th>4</th>\n",
       "      <td>Pokemon Red/Pokemon Blue</td>\n",
       "      <td>GB</td>\n",
       "      <td>1996</td>\n",
       "      <td>Role-Playing</td>\n",
       "      <td>11.27</td>\n",
       "      <td>8.89</td>\n",
       "      <td>10.22</td>\n",
       "      <td>1.00</td>\n",
       "      <td>NaN</td>\n",
       "      <td>NaN</td>\n",
       "      <td>NaN</td>\n",
       "      <td>31.38</td>\n",
       "    </tr>\n",
       "  </tbody>\n",
       "</table>\n",
       "</div>"
      ],
      "text/plain": [
       "                       name platform  year_of_release         genre  na_sales  \\\n",
       "0                Wii Sports      Wii             2006        Sports     41.36   \n",
       "1         Super Mario Bros.      NES             1985      Platform     29.08   \n",
       "2            Mario Kart Wii      Wii             2008        Racing     15.68   \n",
       "3         Wii Sports Resort      Wii             2009        Sports     15.61   \n",
       "4  Pokemon Red/Pokemon Blue       GB             1996  Role-Playing     11.27   \n",
       "\n",
       "   eu_sales  jp_sales  other_sales  critic_score  user_score rating  sum_sales  \n",
       "0     28.96      3.77         8.45          76.0         8.0      E      82.54  \n",
       "1      3.58      6.81         0.77           NaN         NaN    NaN      40.24  \n",
       "2     12.76      3.79         3.29          82.0         8.3      E      35.52  \n",
       "3     10.93      3.28         2.95          80.0         8.0      E      32.77  \n",
       "4      8.89     10.22         1.00           NaN         NaN    NaN      31.38  "
      ]
     },
     "execution_count": 11,
     "metadata": {},
     "output_type": "execute_result"
    }
   ],
   "source": [
    "df['sum_sales'] =  df[['na_sales','eu_sales','jp_sales', 'other_sales']].sum(axis = 1)\n",
    "df.head(5)"
   ]
  },
  {
   "cell_type": "markdown",
   "metadata": {},
   "source": [
    "## Исследовательский анализ"
   ]
  },
  {
   "cell_type": "markdown",
   "metadata": {},
   "source": [
    "### Количество выпущенных игр по годам"
   ]
  },
  {
   "cell_type": "code",
   "execution_count": 12,
   "metadata": {},
   "outputs": [
    {
     "data": {
      "image/png": "[encoded data removed]",
      "text/plain": [
       "<Figure size 1080x216 with 1 Axes>"
      ]
     },
     "metadata": {
      "needs_background": "light"
     },
     "output_type": "display_data"
    }
   ],
   "source": [
    "df.groupby('year_of_release')['year_of_release'].count().plot(y='year_of_release', figsize = (15,3));\n",
    "plt.xlabel('Год');\n",
    "plt.ylabel('Количество игр, шт');\n",
    "plt.title('График выпуска игр по годам');"
   ]
  },
  {
   "cell_type": "markdown",
   "metadata": {},
   "source": [
    "Количесво выпускаемых игр увеличивалось с каждым годом примерно до 2007, потом наблюдается спад. Примерно с 2014 по 2016 года количесво игр в год примерно одинаково."
   ]
  },
  {
   "cell_type": "markdown",
   "metadata": {},
   "source": [
    "### Продажи по платформам"
   ]
  },
  {
   "cell_type": "code",
   "execution_count": 13,
   "metadata": {},
   "outputs": [
    {
     "data": {
      "text/html": [
       "<div>\n",
       "<style scoped>\n",
       "    .dataframe tbody tr th:only-of-type {\n",
       "        vertical-align: middle;\n",
       "    }\n",
       "\n",
       "    .dataframe tbody tr th {\n",
       "        vertical-align: top;\n",
       "    }\n",
       "\n",
       "    .dataframe thead th {\n",
       "        text-align: right;\n",
       "    }\n",
       "</style>\n",
       "<table border=\"1\" class=\"dataframe\">\n",
       "  <thead>\n",
       "    <tr style=\"text-align: right;\">\n",
       "      <th></th>\n",
       "      <th>min</th>\n",
       "      <th>max</th>\n",
       "    </tr>\n",
       "    <tr>\n",
       "      <th>platform</th>\n",
       "      <th></th>\n",
       "      <th></th>\n",
       "    </tr>\n",
       "  </thead>\n",
       "  <tbody>\n",
       "    <tr>\n",
       "      <th>2600</th>\n",
       "      <td>1980</td>\n",
       "      <td>1989</td>\n",
       "    </tr>\n",
       "    <tr>\n",
       "      <th>3DO</th>\n",
       "      <td>1994</td>\n",
       "      <td>1995</td>\n",
       "    </tr>\n",
       "    <tr>\n",
       "      <th>3DS</th>\n",
       "      <td>2011</td>\n",
       "      <td>2016</td>\n",
       "    </tr>\n",
       "    <tr>\n",
       "      <th>DC</th>\n",
       "      <td>1998</td>\n",
       "      <td>2008</td>\n",
       "    </tr>\n",
       "    <tr>\n",
       "      <th>DS</th>\n",
       "      <td>1985</td>\n",
       "      <td>2013</td>\n",
       "    </tr>\n",
       "    <tr>\n",
       "      <th>GB</th>\n",
       "      <td>1988</td>\n",
       "      <td>2001</td>\n",
       "    </tr>\n",
       "    <tr>\n",
       "      <th>GBA</th>\n",
       "      <td>2000</td>\n",
       "      <td>2007</td>\n",
       "    </tr>\n",
       "    <tr>\n",
       "      <th>GC</th>\n",
       "      <td>2001</td>\n",
       "      <td>2007</td>\n",
       "    </tr>\n",
       "    <tr>\n",
       "      <th>GEN</th>\n",
       "      <td>1990</td>\n",
       "      <td>1994</td>\n",
       "    </tr>\n",
       "    <tr>\n",
       "      <th>GG</th>\n",
       "      <td>1992</td>\n",
       "      <td>1992</td>\n",
       "    </tr>\n",
       "    <tr>\n",
       "      <th>N64</th>\n",
       "      <td>1996</td>\n",
       "      <td>2002</td>\n",
       "    </tr>\n",
       "    <tr>\n",
       "      <th>NES</th>\n",
       "      <td>1983</td>\n",
       "      <td>1994</td>\n",
       "    </tr>\n",
       "    <tr>\n",
       "      <th>NG</th>\n",
       "      <td>1993</td>\n",
       "      <td>1996</td>\n",
       "    </tr>\n",
       "    <tr>\n",
       "      <th>PC</th>\n",
       "      <td>1985</td>\n",
       "      <td>2016</td>\n",
       "    </tr>\n",
       "    <tr>\n",
       "      <th>PCFX</th>\n",
       "      <td>1996</td>\n",
       "      <td>1996</td>\n",
       "    </tr>\n",
       "    <tr>\n",
       "      <th>PS</th>\n",
       "      <td>1994</td>\n",
       "      <td>2003</td>\n",
       "    </tr>\n",
       "    <tr>\n",
       "      <th>PS2</th>\n",
       "      <td>2000</td>\n",
       "      <td>2011</td>\n",
       "    </tr>\n",
       "    <tr>\n",
       "      <th>PS3</th>\n",
       "      <td>2006</td>\n",
       "      <td>2016</td>\n",
       "    </tr>\n",
       "    <tr>\n",
       "      <th>PS4</th>\n",
       "      <td>2013</td>\n",
       "      <td>2016</td>\n",
       "    </tr>\n",
       "    <tr>\n",
       "      <th>PSP</th>\n",
       "      <td>2004</td>\n",
       "      <td>2015</td>\n",
       "    </tr>\n",
       "    <tr>\n",
       "      <th>PSV</th>\n",
       "      <td>2011</td>\n",
       "      <td>2016</td>\n",
       "    </tr>\n",
       "    <tr>\n",
       "      <th>SAT</th>\n",
       "      <td>1994</td>\n",
       "      <td>1999</td>\n",
       "    </tr>\n",
       "    <tr>\n",
       "      <th>SCD</th>\n",
       "      <td>1993</td>\n",
       "      <td>1994</td>\n",
       "    </tr>\n",
       "    <tr>\n",
       "      <th>SNES</th>\n",
       "      <td>1990</td>\n",
       "      <td>1999</td>\n",
       "    </tr>\n",
       "    <tr>\n",
       "      <th>TG16</th>\n",
       "      <td>1995</td>\n",
       "      <td>1995</td>\n",
       "    </tr>\n",
       "    <tr>\n",
       "      <th>WS</th>\n",
       "      <td>1999</td>\n",
       "      <td>2001</td>\n",
       "    </tr>\n",
       "    <tr>\n",
       "      <th>Wii</th>\n",
       "      <td>2006</td>\n",
       "      <td>2016</td>\n",
       "    </tr>\n",
       "    <tr>\n",
       "      <th>WiiU</th>\n",
       "      <td>2012</td>\n",
       "      <td>2016</td>\n",
       "    </tr>\n",
       "    <tr>\n",
       "      <th>X360</th>\n",
       "      <td>2005</td>\n",
       "      <td>2016</td>\n",
       "    </tr>\n",
       "    <tr>\n",
       "      <th>XB</th>\n",
       "      <td>2000</td>\n",
       "      <td>2008</td>\n",
       "    </tr>\n",
       "    <tr>\n",
       "      <th>XOne</th>\n",
       "      <td>2013</td>\n",
       "      <td>2016</td>\n",
       "    </tr>\n",
       "  </tbody>\n",
       "</table>\n",
       "</div>"
      ],
      "text/plain": [
       "           min   max\n",
       "platform            \n",
       "2600      1980  1989\n",
       "3DO       1994  1995\n",
       "3DS       2011  2016\n",
       "DC        1998  2008\n",
       "DS        1985  2013\n",
       "GB        1988  2001\n",
       "GBA       2000  2007\n",
       "GC        2001  2007\n",
       "GEN       1990  1994\n",
       "GG        1992  1992\n",
       "N64       1996  2002\n",
       "NES       1983  1994\n",
       "NG        1993  1996\n",
       "PC        1985  2016\n",
       "PCFX      1996  1996\n",
       "PS        1994  2003\n",
       "PS2       2000  2011\n",
       "PS3       2006  2016\n",
       "PS4       2013  2016\n",
       "PSP       2004  2015\n",
       "PSV       2011  2016\n",
       "SAT       1994  1999\n",
       "SCD       1993  1994\n",
       "SNES      1990  1999\n",
       "TG16      1995  1995\n",
       "WS        1999  2001\n",
       "Wii       2006  2016\n",
       "WiiU      2012  2016\n",
       "X360      2005  2016\n",
       "XB        2000  2008\n",
       "XOne      2013  2016"
      ]
     },
     "execution_count": 13,
     "metadata": {},
     "output_type": "execute_result"
    },
    {
     "data": {
      "image/png": "[encoded data removed]",
      "text/plain": [
       "<Figure size 720x360 with 1 Axes>"
      ]
     },
     "metadata": {
      "needs_background": "light"
     },
     "output_type": "display_data"
    }
   ],
   "source": [
    "df_year = df.groupby('platform')['year_of_release'].agg(['min', 'max'])\n",
    "df_year['max'].hist(figsize = (10,5));\n",
    "plt.xlabel('Год');\n",
    "plt.ylabel('Количество платформ на определнный период, шт');\n",
    "plt.title('Гистограмма распределения количества актуальных платформ по годам');\n",
    "df_year"
   ]
  },
  {
   "cell_type": "markdown",
   "metadata": {},
   "source": [
    "Из сводной таблицы видно, что не все платофрмы актуальны. Стоит проводить исследование для послених лет 2014-2016 года. В среднем игры на платформы выходят 5-10 десять лет, за исключением PC"
   ]
  },
  {
   "cell_type": "code",
   "execution_count": 14,
   "metadata": {
    "scrolled": false
   },
   "outputs": [
    {
     "data": {
      "text/html": [
       "<div>\n",
       "<style scoped>\n",
       "    .dataframe tbody tr th:only-of-type {\n",
       "        vertical-align: middle;\n",
       "    }\n",
       "\n",
       "    .dataframe tbody tr th {\n",
       "        vertical-align: top;\n",
       "    }\n",
       "\n",
       "    .dataframe thead th {\n",
       "        text-align: right;\n",
       "    }\n",
       "</style>\n",
       "<table border=\"1\" class=\"dataframe\">\n",
       "  <thead>\n",
       "    <tr style=\"text-align: right;\">\n",
       "      <th>platform</th>\n",
       "      <th>3DS</th>\n",
       "      <th>PC</th>\n",
       "      <th>PS3</th>\n",
       "      <th>PS4</th>\n",
       "      <th>PSP</th>\n",
       "      <th>PSV</th>\n",
       "      <th>Wii</th>\n",
       "      <th>WiiU</th>\n",
       "      <th>X360</th>\n",
       "      <th>XOne</th>\n",
       "    </tr>\n",
       "    <tr>\n",
       "      <th>year_of_release</th>\n",
       "      <th></th>\n",
       "      <th></th>\n",
       "      <th></th>\n",
       "      <th></th>\n",
       "      <th></th>\n",
       "      <th></th>\n",
       "      <th></th>\n",
       "      <th></th>\n",
       "      <th></th>\n",
       "      <th></th>\n",
       "    </tr>\n",
       "  </thead>\n",
       "  <tbody>\n",
       "    <tr>\n",
       "      <th>2014</th>\n",
       "      <td>43.76</td>\n",
       "      <td>13.28</td>\n",
       "      <td>47.76</td>\n",
       "      <td>100.00</td>\n",
       "      <td>0.24</td>\n",
       "      <td>11.90</td>\n",
       "      <td>3.75</td>\n",
       "      <td>22.03</td>\n",
       "      <td>34.74</td>\n",
       "      <td>54.07</td>\n",
       "    </tr>\n",
       "    <tr>\n",
       "      <th>2015</th>\n",
       "      <td>27.78</td>\n",
       "      <td>8.52</td>\n",
       "      <td>16.82</td>\n",
       "      <td>118.90</td>\n",
       "      <td>0.12</td>\n",
       "      <td>6.25</td>\n",
       "      <td>1.14</td>\n",
       "      <td>16.35</td>\n",
       "      <td>11.96</td>\n",
       "      <td>60.14</td>\n",
       "    </tr>\n",
       "    <tr>\n",
       "      <th>2016</th>\n",
       "      <td>15.14</td>\n",
       "      <td>5.25</td>\n",
       "      <td>3.60</td>\n",
       "      <td>69.25</td>\n",
       "      <td>NaN</td>\n",
       "      <td>4.25</td>\n",
       "      <td>0.18</td>\n",
       "      <td>4.60</td>\n",
       "      <td>1.52</td>\n",
       "      <td>26.15</td>\n",
       "    </tr>\n",
       "  </tbody>\n",
       "</table>\n",
       "</div>"
      ],
      "text/plain": [
       "platform           3DS     PC    PS3     PS4   PSP    PSV   Wii   WiiU   X360  \\\n",
       "year_of_release                                                                 \n",
       "2014             43.76  13.28  47.76  100.00  0.24  11.90  3.75  22.03  34.74   \n",
       "2015             27.78   8.52  16.82  118.90  0.12   6.25  1.14  16.35  11.96   \n",
       "2016             15.14   5.25   3.60   69.25   NaN   4.25  0.18   4.60   1.52   \n",
       "\n",
       "platform          XOne  \n",
       "year_of_release         \n",
       "2014             54.07  \n",
       "2015             60.14  \n",
       "2016             26.15  "
      ]
     },
     "execution_count": 14,
     "metadata": {},
     "output_type": "execute_result"
    },
    {
     "data": {
      "image/png": "[encoded data removed]",
      "text/plain": [
       "<Figure size 1080x360 with 1 Axes>"
      ]
     },
     "metadata": {
      "needs_background": "light"
     },
     "output_type": "display_data"
    }
   ],
   "source": [
    "df_actual = df.query(\"2014 <= year_of_release <= 2016\")\n",
    "df_actual_years = df_actual.pivot_table(\n",
    "    index='year_of_release',\n",
    "    columns = 'platform',\n",
    "    values='sum_sales',\n",
    "    aggfunc='sum'\n",
    ")\n",
    "df_actual_years.plot(grid=True, figsize=(15, 5));\n",
    "plt.xlabel('Год');\n",
    "plt.ylabel('Количество продаж платформы, млн. шт');\n",
    "plt.title('График продаж по платформам за 2013-2016 года');\n",
    "df_actual_years"
   ]
  },
  {
   "cell_type": "code",
   "execution_count": 15,
   "metadata": {},
   "outputs": [
    {
     "data": {
      "image/png": "[encoded data removed]",
      "text/plain": [
       "<Figure size 1152x1440 with 10 Axes>"
      ]
     },
     "metadata": {
      "needs_background": "light"
     },
     "output_type": "display_data"
    }
   ],
   "source": [
    "platforms_list = df_actual_years.columns.tolist()\n",
    "fig, axs = plt.subplots(5, 2, figsize=(16, 20))\n",
    "colors = ['blue', 'orange', 'green', 'red', 'purple', 'brown', 'pink', 'gray', 'olive', 'cyan']\n",
    "count = 0\n",
    "\n",
    "for row in range(5):\n",
    "    for col in range(2):        \n",
    "        df_actual_years[platforms_list[count]].plot(\n",
    "                grid=True, \n",
    "                ax=axs[row, col], \n",
    "                color=colors[count],\n",
    "                linewidth=3\n",
    "            )\n",
    "        axs[row, col].set_xlabel('Год')\n",
    "        axs[row, col].set_ylabel('Количество продаж платформы, млн. шт')\n",
    "        axs[row, col].set_title(platforms_list[count])\n",
    "        count += 1\n",
    "\n",
    "plt.tight_layout()"
   ]
  },
  {
   "cell_type": "code",
   "execution_count": 16,
   "metadata": {},
   "outputs": [
    {
     "data": {
      "text/html": [
       "<div>\n",
       "<style scoped>\n",
       "    .dataframe tbody tr th:only-of-type {\n",
       "        vertical-align: middle;\n",
       "    }\n",
       "\n",
       "    .dataframe tbody tr th {\n",
       "        vertical-align: top;\n",
       "    }\n",
       "\n",
       "    .dataframe thead th {\n",
       "        text-align: right;\n",
       "    }\n",
       "</style>\n",
       "<table border=\"1\" class=\"dataframe\">\n",
       "  <thead>\n",
       "    <tr style=\"text-align: right;\">\n",
       "      <th></th>\n",
       "      <th>sum_sales</th>\n",
       "    </tr>\n",
       "    <tr>\n",
       "      <th>platform</th>\n",
       "      <th></th>\n",
       "    </tr>\n",
       "  </thead>\n",
       "  <tbody>\n",
       "    <tr>\n",
       "      <th>PS4</th>\n",
       "      <td>288.15</td>\n",
       "    </tr>\n",
       "    <tr>\n",
       "      <th>XOne</th>\n",
       "      <td>140.36</td>\n",
       "    </tr>\n",
       "    <tr>\n",
       "      <th>3DS</th>\n",
       "      <td>86.68</td>\n",
       "    </tr>\n",
       "    <tr>\n",
       "      <th>PS3</th>\n",
       "      <td>68.18</td>\n",
       "    </tr>\n",
       "    <tr>\n",
       "      <th>X360</th>\n",
       "      <td>48.22</td>\n",
       "    </tr>\n",
       "    <tr>\n",
       "      <th>WiiU</th>\n",
       "      <td>42.98</td>\n",
       "    </tr>\n",
       "    <tr>\n",
       "      <th>PC</th>\n",
       "      <td>27.05</td>\n",
       "    </tr>\n",
       "    <tr>\n",
       "      <th>PSV</th>\n",
       "      <td>22.40</td>\n",
       "    </tr>\n",
       "    <tr>\n",
       "      <th>Wii</th>\n",
       "      <td>5.07</td>\n",
       "    </tr>\n",
       "    <tr>\n",
       "      <th>PSP</th>\n",
       "      <td>0.36</td>\n",
       "    </tr>\n",
       "  </tbody>\n",
       "</table>\n",
       "</div>"
      ],
      "text/plain": [
       "          sum_sales\n",
       "platform           \n",
       "PS4          288.15\n",
       "XOne         140.36\n",
       "3DS           86.68\n",
       "PS3           68.18\n",
       "X360          48.22\n",
       "WiiU          42.98\n",
       "PC            27.05\n",
       "PSV           22.40\n",
       "Wii            5.07\n",
       "PSP            0.36"
      ]
     },
     "execution_count": 16,
     "metadata": {},
     "output_type": "execute_result"
    }
   ],
   "source": [
    "df_actual.groupby('platform')['sum_sales'].sum().to_frame().sort_values(by='sum_sales', ascending=False)"
   ]
  },
  {
   "cell_type": "markdown",
   "metadata": {},
   "source": [
    "Продажи по всем платофрмам падают, но до 2015 года продажи PS4 и XboxOne растут. Самыми перспективными и продаваемыми платформами за 2013-2016 года, являются PS4 и XboxOne"
   ]
  },
  {
   "cell_type": "code",
   "execution_count": 17,
   "metadata": {},
   "outputs": [
    {
     "data": {
      "text/html": [
       "<div>\n",
       "<style scoped>\n",
       "    .dataframe tbody tr th:only-of-type {\n",
       "        vertical-align: middle;\n",
       "    }\n",
       "\n",
       "    .dataframe tbody tr th {\n",
       "        vertical-align: top;\n",
       "    }\n",
       "\n",
       "    .dataframe thead th {\n",
       "        text-align: right;\n",
       "    }\n",
       "</style>\n",
       "<table border=\"1\" class=\"dataframe\">\n",
       "  <thead>\n",
       "    <tr style=\"text-align: right;\">\n",
       "      <th></th>\n",
       "      <th>count</th>\n",
       "      <th>mean</th>\n",
       "      <th>std</th>\n",
       "      <th>min</th>\n",
       "      <th>25%</th>\n",
       "      <th>50%</th>\n",
       "      <th>75%</th>\n",
       "      <th>max</th>\n",
       "    </tr>\n",
       "    <tr>\n",
       "      <th>platform</th>\n",
       "      <th></th>\n",
       "      <th></th>\n",
       "      <th></th>\n",
       "      <th></th>\n",
       "      <th></th>\n",
       "      <th></th>\n",
       "      <th></th>\n",
       "      <th></th>\n",
       "    </tr>\n",
       "  </thead>\n",
       "  <tbody>\n",
       "    <tr>\n",
       "      <th>PS4</th>\n",
       "      <td>376.0</td>\n",
       "      <td>0.766356</td>\n",
       "      <td>1.614969</td>\n",
       "      <td>0.01</td>\n",
       "      <td>0.0575</td>\n",
       "      <td>0.185</td>\n",
       "      <td>0.6900</td>\n",
       "      <td>14.63</td>\n",
       "    </tr>\n",
       "    <tr>\n",
       "      <th>3DS</th>\n",
       "      <td>212.0</td>\n",
       "      <td>0.408868</td>\n",
       "      <td>1.188368</td>\n",
       "      <td>0.01</td>\n",
       "      <td>0.0300</td>\n",
       "      <td>0.090</td>\n",
       "      <td>0.2500</td>\n",
       "      <td>11.68</td>\n",
       "    </tr>\n",
       "    <tr>\n",
       "      <th>XOne</th>\n",
       "      <td>228.0</td>\n",
       "      <td>0.615614</td>\n",
       "      <td>1.046513</td>\n",
       "      <td>0.01</td>\n",
       "      <td>0.0500</td>\n",
       "      <td>0.205</td>\n",
       "      <td>0.6325</td>\n",
       "      <td>7.39</td>\n",
       "    </tr>\n",
       "    <tr>\n",
       "      <th>WiiU</th>\n",
       "      <td>73.0</td>\n",
       "      <td>0.588767</td>\n",
       "      <td>1.161467</td>\n",
       "      <td>0.01</td>\n",
       "      <td>0.0500</td>\n",
       "      <td>0.190</td>\n",
       "      <td>0.5700</td>\n",
       "      <td>7.09</td>\n",
       "    </tr>\n",
       "    <tr>\n",
       "      <th>PS3</th>\n",
       "      <td>219.0</td>\n",
       "      <td>0.311324</td>\n",
       "      <td>0.633059</td>\n",
       "      <td>0.01</td>\n",
       "      <td>0.0400</td>\n",
       "      <td>0.110</td>\n",
       "      <td>0.3250</td>\n",
       "      <td>5.27</td>\n",
       "    </tr>\n",
       "    <tr>\n",
       "      <th>X360</th>\n",
       "      <td>111.0</td>\n",
       "      <td>0.434414</td>\n",
       "      <td>0.628967</td>\n",
       "      <td>0.01</td>\n",
       "      <td>0.0700</td>\n",
       "      <td>0.180</td>\n",
       "      <td>0.5050</td>\n",
       "      <td>4.28</td>\n",
       "    </tr>\n",
       "    <tr>\n",
       "      <th>PC</th>\n",
       "      <td>151.0</td>\n",
       "      <td>0.179139</td>\n",
       "      <td>0.329359</td>\n",
       "      <td>0.01</td>\n",
       "      <td>0.0200</td>\n",
       "      <td>0.060</td>\n",
       "      <td>0.2000</td>\n",
       "      <td>3.05</td>\n",
       "    </tr>\n",
       "    <tr>\n",
       "      <th>Wii</th>\n",
       "      <td>11.0</td>\n",
       "      <td>0.460909</td>\n",
       "      <td>0.625451</td>\n",
       "      <td>0.01</td>\n",
       "      <td>0.0350</td>\n",
       "      <td>0.180</td>\n",
       "      <td>0.7550</td>\n",
       "      <td>2.01</td>\n",
       "    </tr>\n",
       "    <tr>\n",
       "      <th>PSV</th>\n",
       "      <td>295.0</td>\n",
       "      <td>0.075932</td>\n",
       "      <td>0.141591</td>\n",
       "      <td>0.01</td>\n",
       "      <td>0.0200</td>\n",
       "      <td>0.040</td>\n",
       "      <td>0.0900</td>\n",
       "      <td>1.96</td>\n",
       "    </tr>\n",
       "    <tr>\n",
       "      <th>PSP</th>\n",
       "      <td>13.0</td>\n",
       "      <td>0.027692</td>\n",
       "      <td>0.027735</td>\n",
       "      <td>0.01</td>\n",
       "      <td>0.0100</td>\n",
       "      <td>0.020</td>\n",
       "      <td>0.0200</td>\n",
       "      <td>0.09</td>\n",
       "    </tr>\n",
       "  </tbody>\n",
       "</table>\n",
       "</div>"
      ],
      "text/plain": [
       "          count      mean       std   min     25%    50%     75%    max\n",
       "platform                                                               \n",
       "PS4       376.0  0.766356  1.614969  0.01  0.0575  0.185  0.6900  14.63\n",
       "3DS       212.0  0.408868  1.188368  0.01  0.0300  0.090  0.2500  11.68\n",
       "XOne      228.0  0.615614  1.046513  0.01  0.0500  0.205  0.6325   7.39\n",
       "WiiU       73.0  0.588767  1.161467  0.01  0.0500  0.190  0.5700   7.09\n",
       "PS3       219.0  0.311324  0.633059  0.01  0.0400  0.110  0.3250   5.27\n",
       "X360      111.0  0.434414  0.628967  0.01  0.0700  0.180  0.5050   4.28\n",
       "PC        151.0  0.179139  0.329359  0.01  0.0200  0.060  0.2000   3.05\n",
       "Wii        11.0  0.460909  0.625451  0.01  0.0350  0.180  0.7550   2.01\n",
       "PSV       295.0  0.075932  0.141591  0.01  0.0200  0.040  0.0900   1.96\n",
       "PSP        13.0  0.027692  0.027735  0.01  0.0100  0.020  0.0200   0.09"
      ]
     },
     "execution_count": 17,
     "metadata": {},
     "output_type": "execute_result"
    },
    {
     "data": {
      "image/png": "[encoded data removed]",
      "text/plain": [
       "<Figure size 1080x576 with 1 Axes>"
      ]
     },
     "metadata": {
      "needs_background": "light"
     },
     "output_type": "display_data"
    },
    {
     "data": {
      "image/png": "[encoded data removed]",
      "text/plain": [
       "<Figure size 1080x576 with 1 Axes>"
      ]
     },
     "metadata": {
      "needs_background": "light"
     },
     "output_type": "display_data"
    }
   ],
   "source": [
    "plt.figure(figsize=(15,8));\n",
    "sns.boxplot(\n",
    "    data=df_actual,\n",
    "    x='platform', \n",
    "    y='sum_sales'\n",
    ").set(\n",
    "    xlabel='Платформа',\n",
    "    ylabel='Количество продаж игры на платформе, млн. шт',\n",
    "    title='Диаграмма размаха продаж игр по платформам за 2013-2016 года',\n",
    "    \n",
    ");\n",
    "\n",
    "\n",
    "plt.figure(figsize=(15,8));\n",
    "sns.boxplot(\n",
    "    data=df_actual,\n",
    "    x='platform', \n",
    "    y='sum_sales'\n",
    ").set(\n",
    "    xlabel='Платформа',\n",
    "    ylabel='Количество продаж игры на платформе, млн. шт',\n",
    "    title='Диаграмма размаха продаж игр по платформам за 2013-2016 года',\n",
    "    \n",
    ");\n",
    "plt.ylim(0, 2)\n",
    "df_actual.groupby('platform')['sum_sales'].describe().sort_values(by='max', ascending=False)"
   ]
  },
  {
   "cell_type": "markdown",
   "metadata": {},
   "source": [
    "Медианное значние по всем платформам не первышает 0.21 млн продаж игры. Можно говорить, что успешные продажи игры считать более 0.6 млн копий. Провалившимися продажми игры можно считать менее 0.03 млн. копий. Больше всего успешных продаж состоялось на PS4."
   ]
  },
  {
   "cell_type": "markdown",
   "metadata": {},
   "source": [
    "### Влияние оценки на продажи игр на PS4"
   ]
  },
  {
   "cell_type": "code",
   "execution_count": 18,
   "metadata": {},
   "outputs": [
    {
     "data": {
      "image/png": "[encoded data removed]",
      "text/plain": [
       "<Figure size 1080x360 with 1 Axes>"
      ]
     },
     "metadata": {
      "needs_background": "light"
     },
     "output_type": "display_data"
    }
   ],
   "source": [
    "df_actual.plot(x='user_score', y='sum_sales', kind='scatter', figsize=(15,5), c = 'g', s = 15)\n",
    "plt.ylim(0, 6);\n",
    "plt.ylabel('Количесво продаж игры, млн шт.');\n",
    "plt.xlabel('Оценка');\n",
    "plt.title('Диаграмма рассеивания - Оценка пользователей -Суммарные продажи');"
   ]
  },
  {
   "cell_type": "code",
   "execution_count": 19,
   "metadata": {},
   "outputs": [
    {
     "data": {
      "text/plain": [
       "-0.013070305002484585"
      ]
     },
     "execution_count": 19,
     "metadata": {},
     "output_type": "execute_result"
    }
   ],
   "source": [
    "df_actual['sum_sales'].corr(df_actual['user_score'])"
   ]
  },
  {
   "cell_type": "code",
   "execution_count": 20,
   "metadata": {},
   "outputs": [
    {
     "data": {
      "image/png": "[encoded data removed]",
      "text/plain": [
       "<Figure size 1080x360 with 1 Axes>"
      ]
     },
     "metadata": {
      "needs_background": "light"
     },
     "output_type": "display_data"
    }
   ],
   "source": [
    "df_actual.plot(x='critic_score', y='sum_sales', kind='scatter', figsize=(15,5), c = 'b', s = 15)\n",
    "plt.ylim(0, 6);\n",
    "plt.ylabel('Количесво продаж игры, млн шт.');\n",
    "plt.xlabel('Оценка');\n",
    "plt.title('Диаграмма рассеивания - Оценка критиков - Суммарные продажи');"
   ]
  },
  {
   "cell_type": "code",
   "execution_count": 21,
   "metadata": {},
   "outputs": [
    {
     "data": {
      "text/plain": [
       "0.328105086966363"
      ]
     },
     "execution_count": 21,
     "metadata": {},
     "output_type": "execute_result"
    }
   ],
   "source": [
    "df_actual['sum_sales'].corr(df_actual['critic_score'])"
   ]
  },
  {
   "cell_type": "markdown",
   "metadata": {},
   "source": [
    "Исходя данных графиков и полученного коэфициента корреляции можно сделать вывод:\n",
    "- оценка пользователей на количесво продаж почти не влияет, на это указывает коэфициент корреляции -0.013\n",
    "- оценка критиков влияет сильнее на продажи, коэфициент корреляции 0.328 (с увеличением оченки, продажи возрастают)"
   ]
  },
  {
   "cell_type": "markdown",
   "metadata": {},
   "source": [
    "### Продажи по жанрам"
   ]
  },
  {
   "cell_type": "code",
   "execution_count": 22,
   "metadata": {},
   "outputs": [
    {
     "data": {
      "image/png": "[encoded data removed]",
      "text/plain": [
       "<Figure size 648x648 with 1 Axes>"
      ]
     },
     "metadata": {},
     "output_type": "display_data"
    }
   ],
   "source": [
    "df_actual['genre'].value_counts(ascending = True).plot(kind='pie', autopct='%1.0f%%', figsize = (9,9));\n",
    "plt.title('Круговая диаграмма по жанрам');\n",
    "plt.ylabel('');"
   ]
  },
  {
   "cell_type": "markdown",
   "metadata": {},
   "source": [
    "Больше всего игр выпущенных в жанре:\n",
    "- Action - 37%\n",
    "- Role-Plaing - 13%\n",
    "- Adventure - 11%\n",
    "- Sport - 10%\n",
    "- Shooter - 8%"
   ]
  },
  {
   "cell_type": "code",
   "execution_count": 23,
   "metadata": {},
   "outputs": [
    {
     "data": {
      "text/html": [
       "<div>\n",
       "<style scoped>\n",
       "    .dataframe tbody tr th:only-of-type {\n",
       "        vertical-align: middle;\n",
       "    }\n",
       "\n",
       "    .dataframe tbody tr th {\n",
       "        vertical-align: top;\n",
       "    }\n",
       "\n",
       "    .dataframe thead th {\n",
       "        text-align: right;\n",
       "    }\n",
       "</style>\n",
       "<table border=\"1\" class=\"dataframe\">\n",
       "  <thead>\n",
       "    <tr style=\"text-align: right;\">\n",
       "      <th></th>\n",
       "      <th>sum_sales</th>\n",
       "    </tr>\n",
       "    <tr>\n",
       "      <th>genre</th>\n",
       "      <th></th>\n",
       "    </tr>\n",
       "  </thead>\n",
       "  <tbody>\n",
       "    <tr>\n",
       "      <th>Puzzle</th>\n",
       "      <td>2.21</td>\n",
       "    </tr>\n",
       "    <tr>\n",
       "      <th>Strategy</th>\n",
       "      <td>3.96</td>\n",
       "    </tr>\n",
       "    <tr>\n",
       "      <th>Simulation</th>\n",
       "      <td>13.13</td>\n",
       "    </tr>\n",
       "    <tr>\n",
       "      <th>Adventure</th>\n",
       "      <td>17.55</td>\n",
       "    </tr>\n",
       "    <tr>\n",
       "      <th>Platform</th>\n",
       "      <td>18.09</td>\n",
       "    </tr>\n",
       "    <tr>\n",
       "      <th>Racing</th>\n",
       "      <td>27.52</td>\n",
       "    </tr>\n",
       "    <tr>\n",
       "      <th>Fighting</th>\n",
       "      <td>28.22</td>\n",
       "    </tr>\n",
       "    <tr>\n",
       "      <th>Misc</th>\n",
       "      <td>37.55</td>\n",
       "    </tr>\n",
       "    <tr>\n",
       "      <th>Role-Playing</th>\n",
       "      <td>101.44</td>\n",
       "    </tr>\n",
       "    <tr>\n",
       "      <th>Sports</th>\n",
       "      <td>109.48</td>\n",
       "    </tr>\n",
       "    <tr>\n",
       "      <th>Shooter</th>\n",
       "      <td>170.94</td>\n",
       "    </tr>\n",
       "    <tr>\n",
       "      <th>Action</th>\n",
       "      <td>199.36</td>\n",
       "    </tr>\n",
       "  </tbody>\n",
       "</table>\n",
       "</div>"
      ],
      "text/plain": [
       "              sum_sales\n",
       "genre                  \n",
       "Puzzle             2.21\n",
       "Strategy           3.96\n",
       "Simulation        13.13\n",
       "Adventure         17.55\n",
       "Platform          18.09\n",
       "Racing            27.52\n",
       "Fighting          28.22\n",
       "Misc              37.55\n",
       "Role-Playing     101.44\n",
       "Sports           109.48\n",
       "Shooter          170.94\n",
       "Action           199.36"
      ]
     },
     "execution_count": 23,
     "metadata": {},
     "output_type": "execute_result"
    },
    {
     "data": {
      "image/png": "[encoded data removed]",
      "text/plain": [
       "<Figure size 720x432 with 1 Axes>"
      ]
     },
     "metadata": {
      "needs_background": "light"
     },
     "output_type": "display_data"
    }
   ],
   "source": [
    "df_actua_genre = df_actual.pivot_table(\n",
    "    index='genre', \n",
    "    values='sum_sales', \n",
    "    aggfunc='sum'\n",
    ").sort_values(by='sum_sales', ascending=True)\n",
    "df_actua_genre.plot(kind = 'barh', figsize = (10,6));\n",
    "plt.title('Количество продаж по жанрам');\n",
    "plt.xlabel('Подажи игр данного жанра, млн шт.');\n",
    "plt.ylabel('Жанры');\n",
    "df_actua_genre"
   ]
  },
  {
   "cell_type": "markdown",
   "metadata": {},
   "source": [
    "Самые продоваемы жанры по абсолютной величине:\n",
    "- Action - 199.36 млн\n",
    "- Shooter - 170.94 млн\n",
    "- Sports - 109.48 млн\n",
    "- Role-Playing - 101.44 млн\n",
    "\n",
    "Самый непопулярный жанр это Puzzle"
   ]
  },
  {
   "cell_type": "code",
   "execution_count": 40,
   "metadata": {},
   "outputs": [
    {
     "data": {
      "text/html": [
       "<div>\n",
       "<style scoped>\n",
       "    .dataframe tbody tr th:only-of-type {\n",
       "        vertical-align: middle;\n",
       "    }\n",
       "\n",
       "    .dataframe tbody tr th {\n",
       "        vertical-align: top;\n",
       "    }\n",
       "\n",
       "    .dataframe thead th {\n",
       "        text-align: right;\n",
       "    }\n",
       "</style>\n",
       "<table border=\"1\" class=\"dataframe\">\n",
       "  <thead>\n",
       "    <tr style=\"text-align: right;\">\n",
       "      <th></th>\n",
       "      <th>count</th>\n",
       "      <th>mean</th>\n",
       "      <th>std</th>\n",
       "      <th>min</th>\n",
       "      <th>25%</th>\n",
       "      <th>50%</th>\n",
       "      <th>75%</th>\n",
       "      <th>max</th>\n",
       "    </tr>\n",
       "    <tr>\n",
       "      <th>genre</th>\n",
       "      <th></th>\n",
       "      <th></th>\n",
       "      <th></th>\n",
       "      <th></th>\n",
       "      <th></th>\n",
       "      <th></th>\n",
       "      <th></th>\n",
       "      <th></th>\n",
       "    </tr>\n",
       "  </thead>\n",
       "  <tbody>\n",
       "    <tr>\n",
       "      <th>Shooter</th>\n",
       "      <td>128.0</td>\n",
       "      <td>1.335469</td>\n",
       "      <td>2.050567</td>\n",
       "      <td>0.01</td>\n",
       "      <td>0.1725</td>\n",
       "      <td>0.515</td>\n",
       "      <td>1.6175</td>\n",
       "      <td>14.63</td>\n",
       "    </tr>\n",
       "    <tr>\n",
       "      <th>Sports</th>\n",
       "      <td>161.0</td>\n",
       "      <td>0.680000</td>\n",
       "      <td>1.239736</td>\n",
       "      <td>0.01</td>\n",
       "      <td>0.0600</td>\n",
       "      <td>0.180</td>\n",
       "      <td>0.6400</td>\n",
       "      <td>8.58</td>\n",
       "    </tr>\n",
       "    <tr>\n",
       "      <th>Platform</th>\n",
       "      <td>38.0</td>\n",
       "      <td>0.476053</td>\n",
       "      <td>0.722561</td>\n",
       "      <td>0.01</td>\n",
       "      <td>0.0625</td>\n",
       "      <td>0.140</td>\n",
       "      <td>0.4675</td>\n",
       "      <td>3.21</td>\n",
       "    </tr>\n",
       "    <tr>\n",
       "      <th>Fighting</th>\n",
       "      <td>60.0</td>\n",
       "      <td>0.470333</td>\n",
       "      <td>1.188053</td>\n",
       "      <td>0.01</td>\n",
       "      <td>0.0600</td>\n",
       "      <td>0.125</td>\n",
       "      <td>0.3200</td>\n",
       "      <td>7.55</td>\n",
       "    </tr>\n",
       "    <tr>\n",
       "      <th>Role-Playing</th>\n",
       "      <td>221.0</td>\n",
       "      <td>0.459005</td>\n",
       "      <td>1.177284</td>\n",
       "      <td>0.01</td>\n",
       "      <td>0.0500</td>\n",
       "      <td>0.110</td>\n",
       "      <td>0.3600</td>\n",
       "      <td>11.68</td>\n",
       "    </tr>\n",
       "    <tr>\n",
       "      <th>Simulation</th>\n",
       "      <td>44.0</td>\n",
       "      <td>0.298409</td>\n",
       "      <td>0.646925</td>\n",
       "      <td>0.01</td>\n",
       "      <td>0.0200</td>\n",
       "      <td>0.100</td>\n",
       "      <td>0.3275</td>\n",
       "      <td>3.05</td>\n",
       "    </tr>\n",
       "    <tr>\n",
       "      <th>Action</th>\n",
       "      <td>619.0</td>\n",
       "      <td>0.322068</td>\n",
       "      <td>0.798181</td>\n",
       "      <td>0.01</td>\n",
       "      <td>0.0300</td>\n",
       "      <td>0.090</td>\n",
       "      <td>0.2800</td>\n",
       "      <td>12.62</td>\n",
       "    </tr>\n",
       "    <tr>\n",
       "      <th>Misc</th>\n",
       "      <td>113.0</td>\n",
       "      <td>0.332301</td>\n",
       "      <td>0.736999</td>\n",
       "      <td>0.01</td>\n",
       "      <td>0.0300</td>\n",
       "      <td>0.090</td>\n",
       "      <td>0.3200</td>\n",
       "      <td>5.27</td>\n",
       "    </tr>\n",
       "    <tr>\n",
       "      <th>Racing</th>\n",
       "      <td>69.0</td>\n",
       "      <td>0.398841</td>\n",
       "      <td>0.963716</td>\n",
       "      <td>0.01</td>\n",
       "      <td>0.0300</td>\n",
       "      <td>0.090</td>\n",
       "      <td>0.2500</td>\n",
       "      <td>7.09</td>\n",
       "    </tr>\n",
       "    <tr>\n",
       "      <th>Strategy</th>\n",
       "      <td>37.0</td>\n",
       "      <td>0.107027</td>\n",
       "      <td>0.118412</td>\n",
       "      <td>0.01</td>\n",
       "      <td>0.0300</td>\n",
       "      <td>0.060</td>\n",
       "      <td>0.1400</td>\n",
       "      <td>0.52</td>\n",
       "    </tr>\n",
       "    <tr>\n",
       "      <th>Puzzle</th>\n",
       "      <td>14.0</td>\n",
       "      <td>0.157857</td>\n",
       "      <td>0.320629</td>\n",
       "      <td>0.01</td>\n",
       "      <td>0.0200</td>\n",
       "      <td>0.045</td>\n",
       "      <td>0.1000</td>\n",
       "      <td>1.19</td>\n",
       "    </tr>\n",
       "    <tr>\n",
       "      <th>Adventure</th>\n",
       "      <td>185.0</td>\n",
       "      <td>0.094865</td>\n",
       "      <td>0.203147</td>\n",
       "      <td>0.01</td>\n",
       "      <td>0.0200</td>\n",
       "      <td>0.030</td>\n",
       "      <td>0.0800</td>\n",
       "      <td>1.66</td>\n",
       "    </tr>\n",
       "  </tbody>\n",
       "</table>\n",
       "</div>"
      ],
      "text/plain": [
       "              count      mean       std   min     25%    50%     75%    max\n",
       "genre                                                                      \n",
       "Shooter       128.0  1.335469  2.050567  0.01  0.1725  0.515  1.6175  14.63\n",
       "Sports        161.0  0.680000  1.239736  0.01  0.0600  0.180  0.6400   8.58\n",
       "Platform       38.0  0.476053  0.722561  0.01  0.0625  0.140  0.4675   3.21\n",
       "Fighting       60.0  0.470333  1.188053  0.01  0.0600  0.125  0.3200   7.55\n",
       "Role-Playing  221.0  0.459005  1.177284  0.01  0.0500  0.110  0.3600  11.68\n",
       "Simulation     44.0  0.298409  0.646925  0.01  0.0200  0.100  0.3275   3.05\n",
       "Action        619.0  0.322068  0.798181  0.01  0.0300  0.090  0.2800  12.62\n",
       "Misc          113.0  0.332301  0.736999  0.01  0.0300  0.090  0.3200   5.27\n",
       "Racing         69.0  0.398841  0.963716  0.01  0.0300  0.090  0.2500   7.09\n",
       "Strategy       37.0  0.107027  0.118412  0.01  0.0300  0.060  0.1400   0.52\n",
       "Puzzle         14.0  0.157857  0.320629  0.01  0.0200  0.045  0.1000   1.19\n",
       "Adventure     185.0  0.094865  0.203147  0.01  0.0200  0.030  0.0800   1.66"
      ]
     },
     "execution_count": 40,
     "metadata": {},
     "output_type": "execute_result"
    },
    {
     "data": {
      "image/png": "[encoded data removed]",
      "text/plain": [
       "<Figure size 1080x576 with 1 Axes>"
      ]
     },
     "metadata": {
      "needs_background": "light"
     },
     "output_type": "display_data"
    }
   ],
   "source": [
    "plt.figure(figsize=(15,8));\n",
    "sns.boxplot(\n",
    "    data=df_actual,\n",
    "    x='genre', \n",
    "    y='sum_sales'\n",
    ").set(\n",
    "    xlabel='Платформа',\n",
    "    ylabel='Количество продаж игры по жанрам, млн. шт',\n",
    "    title='Диаграмма размаха продаж игр по жанрам за 2013-2016 года',\n",
    "    \n",
    ");\n",
    "plt.ylim(0, 4)\n",
    "df_actual.groupby('genre')['sum_sales'].describe().sort_values(by='50%', ascending=False)"
   ]
  },
  {
   "cell_type": "markdown",
   "metadata": {},
   "source": [
    "В среднем самые продаваемые жанры:\n",
    "\n",
    "- Shooter\n",
    "- Platform\n",
    "- Sports\n",
    "- Fighting\n",
    "- Role-Playing"
   ]
  },
  {
   "cell_type": "markdown",
   "metadata": {},
   "source": [
    "## Портрет пользователя по регионам"
   ]
  },
  {
   "cell_type": "markdown",
   "metadata": {},
   "source": [
    "### Пользователи Северной Америки"
   ]
  },
  {
   "cell_type": "code",
   "execution_count": 25,
   "metadata": {},
   "outputs": [
    {
     "data": {
      "text/html": [
       "<div>\n",
       "<style scoped>\n",
       "    .dataframe tbody tr th:only-of-type {\n",
       "        vertical-align: middle;\n",
       "    }\n",
       "\n",
       "    .dataframe tbody tr th {\n",
       "        vertical-align: top;\n",
       "    }\n",
       "\n",
       "    .dataframe thead th {\n",
       "        text-align: right;\n",
       "    }\n",
       "</style>\n",
       "<table border=\"1\" class=\"dataframe\">\n",
       "  <thead>\n",
       "    <tr style=\"text-align: right;\">\n",
       "      <th></th>\n",
       "      <th>na_sales</th>\n",
       "    </tr>\n",
       "    <tr>\n",
       "      <th>platform</th>\n",
       "      <th></th>\n",
       "    </tr>\n",
       "  </thead>\n",
       "  <tbody>\n",
       "    <tr>\n",
       "      <th>PS4</th>\n",
       "      <td>98.61</td>\n",
       "    </tr>\n",
       "    <tr>\n",
       "      <th>XOne</th>\n",
       "      <td>81.27</td>\n",
       "    </tr>\n",
       "    <tr>\n",
       "      <th>X360</th>\n",
       "      <td>28.30</td>\n",
       "    </tr>\n",
       "    <tr>\n",
       "      <th>3DS</th>\n",
       "      <td>22.64</td>\n",
       "    </tr>\n",
       "    <tr>\n",
       "      <th>PS3</th>\n",
       "      <td>22.05</td>\n",
       "    </tr>\n",
       "  </tbody>\n",
       "</table>\n",
       "</div>"
      ],
      "text/plain": [
       "          na_sales\n",
       "platform          \n",
       "PS4          98.61\n",
       "XOne         81.27\n",
       "X360         28.30\n",
       "3DS          22.64\n",
       "PS3          22.05"
      ]
     },
     "execution_count": 25,
     "metadata": {},
     "output_type": "execute_result"
    },
    {
     "data": {
      "image/png": "[encoded data removed]",
      "text/plain": [
       "<Figure size 648x648 with 1 Axes>"
      ]
     },
     "metadata": {},
     "output_type": "display_data"
    }
   ],
   "source": [
    "df_actual_na_sales = df_actual.pivot_table(\n",
    "    index='platform',\n",
    "    values='na_sales',\n",
    "    aggfunc='sum'\n",
    ").sort_values(by='na_sales', ascending=False)\n",
    "df_actual_na_sales['na_sales'].plot(kind='pie', autopct='%1.0f%%', figsize = (9,9));\n",
    "plt.title('Круговая диаграмма продаж по платформам в Северной Америке');\n",
    "plt.ylabel('');\n",
    "df_actual_na_sales.head(5)"
   ]
  },
  {
   "cell_type": "markdown",
   "metadata": {},
   "source": [
    "Самые популярные платформы по продажам в Северной Америке это PS4 - 35% и XboxOne - 29%."
   ]
  },
  {
   "cell_type": "code",
   "execution_count": 26,
   "metadata": {},
   "outputs": [
    {
     "data": {
      "text/html": [
       "<div>\n",
       "<style scoped>\n",
       "    .dataframe tbody tr th:only-of-type {\n",
       "        vertical-align: middle;\n",
       "    }\n",
       "\n",
       "    .dataframe tbody tr th {\n",
       "        vertical-align: top;\n",
       "    }\n",
       "\n",
       "    .dataframe thead th {\n",
       "        text-align: right;\n",
       "    }\n",
       "</style>\n",
       "<table border=\"1\" class=\"dataframe\">\n",
       "  <thead>\n",
       "    <tr style=\"text-align: right;\">\n",
       "      <th></th>\n",
       "      <th>na_sales</th>\n",
       "    </tr>\n",
       "    <tr>\n",
       "      <th>genre</th>\n",
       "      <th></th>\n",
       "    </tr>\n",
       "  </thead>\n",
       "  <tbody>\n",
       "    <tr>\n",
       "      <th>Shooter</th>\n",
       "      <td>79.02</td>\n",
       "    </tr>\n",
       "    <tr>\n",
       "      <th>Action</th>\n",
       "      <td>72.53</td>\n",
       "    </tr>\n",
       "    <tr>\n",
       "      <th>Sports</th>\n",
       "      <td>46.13</td>\n",
       "    </tr>\n",
       "    <tr>\n",
       "      <th>Role-Playing</th>\n",
       "      <td>33.47</td>\n",
       "    </tr>\n",
       "    <tr>\n",
       "      <th>Misc</th>\n",
       "      <td>15.05</td>\n",
       "    </tr>\n",
       "  </tbody>\n",
       "</table>\n",
       "</div>"
      ],
      "text/plain": [
       "              na_sales\n",
       "genre                 \n",
       "Shooter          79.02\n",
       "Action           72.53\n",
       "Sports           46.13\n",
       "Role-Playing     33.47\n",
       "Misc             15.05"
      ]
     },
     "execution_count": 26,
     "metadata": {},
     "output_type": "execute_result"
    },
    {
     "data": {
      "image/png": "[encoded data removed]",
      "text/plain": [
       "<Figure size 648x648 with 1 Axes>"
      ]
     },
     "metadata": {},
     "output_type": "display_data"
    }
   ],
   "source": [
    "df_actual_na_sales = df_actual.pivot_table(\n",
    "    index='genre',\n",
    "    values='na_sales',\n",
    "    aggfunc='sum'\n",
    ").sort_values(by='na_sales', ascending=False)\n",
    "df_actual_na_sales['na_sales'].plot(kind='pie', autopct='%1.0f%%', figsize = (9,9));\n",
    "plt.title('Круговая диаграмма продаж по жанрам в Северной Америке');\n",
    "plt.ylabel('');\n",
    "df_actual_na_sales.head(5)"
   ]
  },
  {
   "cell_type": "markdown",
   "metadata": {},
   "source": [
    "Самые продаваемые жанры в Северной Америке это Action - 26% и Shooter - 28%"
   ]
  },
  {
   "cell_type": "code",
   "execution_count": 27,
   "metadata": {},
   "outputs": [
    {
     "data": {
      "image/png": "[encoded data removed]",
      "text/plain": [
       "<Figure size 720x432 with 1 Axes>"
      ]
     },
     "metadata": {
      "needs_background": "light"
     },
     "output_type": "display_data"
    }
   ],
   "source": [
    "df_actual_na_rating = df_actual.groupby('rating')['na_sales'].sum().to_frame().sort_values(by='na_sales', ascending=False)\n",
    "df_actual_na_rating.plot(kind = 'bar', figsize = (10,6));\n",
    "plt.title('Продажи в зависимоти от рейтинга игры в Северной Америке');\n",
    "plt.ylabel('Подажи игр данного рейтинга, млн шт.');\n",
    "plt.xlabel('Рейтинг');"
   ]
  },
  {
   "cell_type": "markdown",
   "metadata": {},
   "source": [
    "Больше всего продаж для игр с рейтингом М."
   ]
  },
  {
   "cell_type": "markdown",
   "metadata": {},
   "source": [
    "### Пользователи Европы."
   ]
  },
  {
   "cell_type": "code",
   "execution_count": 28,
   "metadata": {},
   "outputs": [
    {
     "data": {
      "text/html": [
       "<div>\n",
       "<style scoped>\n",
       "    .dataframe tbody tr th:only-of-type {\n",
       "        vertical-align: middle;\n",
       "    }\n",
       "\n",
       "    .dataframe tbody tr th {\n",
       "        vertical-align: top;\n",
       "    }\n",
       "\n",
       "    .dataframe thead th {\n",
       "        text-align: right;\n",
       "    }\n",
       "</style>\n",
       "<table border=\"1\" class=\"dataframe\">\n",
       "  <thead>\n",
       "    <tr style=\"text-align: right;\">\n",
       "      <th></th>\n",
       "      <th>eu_sales</th>\n",
       "    </tr>\n",
       "    <tr>\n",
       "      <th>platform</th>\n",
       "      <th></th>\n",
       "    </tr>\n",
       "  </thead>\n",
       "  <tbody>\n",
       "    <tr>\n",
       "      <th>PS4</th>\n",
       "      <td>130.04</td>\n",
       "    </tr>\n",
       "    <tr>\n",
       "      <th>XOne</th>\n",
       "      <td>46.25</td>\n",
       "    </tr>\n",
       "    <tr>\n",
       "      <th>PS3</th>\n",
       "      <td>25.54</td>\n",
       "    </tr>\n",
       "    <tr>\n",
       "      <th>PC</th>\n",
       "      <td>17.97</td>\n",
       "    </tr>\n",
       "    <tr>\n",
       "      <th>3DS</th>\n",
       "      <td>16.12</td>\n",
       "    </tr>\n",
       "  </tbody>\n",
       "</table>\n",
       "</div>"
      ],
      "text/plain": [
       "          eu_sales\n",
       "platform          \n",
       "PS4         130.04\n",
       "XOne         46.25\n",
       "PS3          25.54\n",
       "PC           17.97\n",
       "3DS          16.12"
      ]
     },
     "execution_count": 28,
     "metadata": {},
     "output_type": "execute_result"
    },
    {
     "data": {
      "image/png": "[encoded data removed]",
      "text/plain": [
       "<Figure size 648x648 with 1 Axes>"
      ]
     },
     "metadata": {},
     "output_type": "display_data"
    }
   ],
   "source": [
    "df_actual_na_sales = df_actual.pivot_table(\n",
    "    index='platform',\n",
    "    values='eu_sales',\n",
    "    aggfunc='sum'\n",
    ").sort_values(by='eu_sales', ascending=False)\n",
    "df_actual_na_sales['eu_sales'].plot(kind='pie', autopct='%1.0f%%', figsize = (9,9));\n",
    "plt.title('Круговая диаграмма продаж по платформам в Европе');\n",
    "plt.ylabel('');\n",
    "df_actual_na_sales.head(5)"
   ]
  },
  {
   "cell_type": "markdown",
   "metadata": {},
   "source": [
    "Самые популярные платформы по продажам в Европе это PS4 - 48% и XboxOne - 17%."
   ]
  },
  {
   "cell_type": "code",
   "execution_count": 29,
   "metadata": {},
   "outputs": [
    {
     "data": {
      "text/html": [
       "<div>\n",
       "<style scoped>\n",
       "    .dataframe tbody tr th:only-of-type {\n",
       "        vertical-align: middle;\n",
       "    }\n",
       "\n",
       "    .dataframe tbody tr th {\n",
       "        vertical-align: top;\n",
       "    }\n",
       "\n",
       "    .dataframe thead th {\n",
       "        text-align: right;\n",
       "    }\n",
       "</style>\n",
       "<table border=\"1\" class=\"dataframe\">\n",
       "  <thead>\n",
       "    <tr style=\"text-align: right;\">\n",
       "      <th></th>\n",
       "      <th>eu_sales</th>\n",
       "    </tr>\n",
       "    <tr>\n",
       "      <th>genre</th>\n",
       "      <th></th>\n",
       "    </tr>\n",
       "  </thead>\n",
       "  <tbody>\n",
       "    <tr>\n",
       "      <th>Action</th>\n",
       "      <td>74.68</td>\n",
       "    </tr>\n",
       "    <tr>\n",
       "      <th>Shooter</th>\n",
       "      <td>65.52</td>\n",
       "    </tr>\n",
       "    <tr>\n",
       "      <th>Sports</th>\n",
       "      <td>45.73</td>\n",
       "    </tr>\n",
       "    <tr>\n",
       "      <th>Role-Playing</th>\n",
       "      <td>28.17</td>\n",
       "    </tr>\n",
       "    <tr>\n",
       "      <th>Racing</th>\n",
       "      <td>14.13</td>\n",
       "    </tr>\n",
       "  </tbody>\n",
       "</table>\n",
       "</div>"
      ],
      "text/plain": [
       "              eu_sales\n",
       "genre                 \n",
       "Action           74.68\n",
       "Shooter          65.52\n",
       "Sports           45.73\n",
       "Role-Playing     28.17\n",
       "Racing           14.13"
      ]
     },
     "execution_count": 29,
     "metadata": {},
     "output_type": "execute_result"
    },
    {
     "data": {
      "image/png": "[encoded data removed]",
      "text/plain": [
       "<Figure size 648x648 with 1 Axes>"
      ]
     },
     "metadata": {},
     "output_type": "display_data"
    }
   ],
   "source": [
    "df_actual_na_sales = df_actual.pivot_table(\n",
    "    index='genre',\n",
    "    values='eu_sales',\n",
    "    aggfunc='sum'\n",
    ").sort_values(by='eu_sales', ascending=False)\n",
    "df_actual_na_sales['eu_sales'].plot(kind='pie', autopct='%1.0f%%', figsize = (9,9));\n",
    "plt.title('Круговая диаграмма продаж по жанрам в Европе');\n",
    "plt.ylabel('');\n",
    "df_actual_na_sales.head(5)"
   ]
  },
  {
   "cell_type": "markdown",
   "metadata": {},
   "source": [
    "Самые продаваемые жанры в Европе это Action - 28% и Shooter - 24%"
   ]
  },
  {
   "cell_type": "code",
   "execution_count": 30,
   "metadata": {},
   "outputs": [
    {
     "data": {
      "image/png": "[encoded data removed]",
      "text/plain": [
       "<Figure size 720x432 with 1 Axes>"
      ]
     },
     "metadata": {
      "needs_background": "light"
     },
     "output_type": "display_data"
    }
   ],
   "source": [
    "df_actual_eu_rating = df_actual.groupby('rating')['eu_sales'].sum().to_frame().sort_values(by='eu_sales', ascending=False)\n",
    "df_actual_eu_rating.plot(kind = 'bar', figsize = (10,6));\n",
    "plt.title('Продажи в зависимоти от рейтинга игры в Европе');\n",
    "plt.ylabel('Подажи игр данного рейтинга, млн шт.');\n",
    "plt.xlabel('Рейтинг');"
   ]
  },
  {
   "cell_type": "markdown",
   "metadata": {},
   "source": [
    "Больше всего продаж для игр с рейтингом М."
   ]
  },
  {
   "cell_type": "markdown",
   "metadata": {},
   "source": [
    "### Пользователи Японии."
   ]
  },
  {
   "cell_type": "code",
   "execution_count": 31,
   "metadata": {},
   "outputs": [
    {
     "data": {
      "text/html": [
       "<div>\n",
       "<style scoped>\n",
       "    .dataframe tbody tr th:only-of-type {\n",
       "        vertical-align: middle;\n",
       "    }\n",
       "\n",
       "    .dataframe tbody tr th {\n",
       "        vertical-align: top;\n",
       "    }\n",
       "\n",
       "    .dataframe thead th {\n",
       "        text-align: right;\n",
       "    }\n",
       "</style>\n",
       "<table border=\"1\" class=\"dataframe\">\n",
       "  <thead>\n",
       "    <tr style=\"text-align: right;\">\n",
       "      <th></th>\n",
       "      <th>jp_sales</th>\n",
       "    </tr>\n",
       "    <tr>\n",
       "      <th>platform</th>\n",
       "      <th></th>\n",
       "    </tr>\n",
       "  </thead>\n",
       "  <tbody>\n",
       "    <tr>\n",
       "      <th>3DS</th>\n",
       "      <td>44.24</td>\n",
       "    </tr>\n",
       "    <tr>\n",
       "      <th>PS4</th>\n",
       "      <td>15.02</td>\n",
       "    </tr>\n",
       "    <tr>\n",
       "      <th>PSV</th>\n",
       "      <td>14.54</td>\n",
       "    </tr>\n",
       "    <tr>\n",
       "      <th>PS3</th>\n",
       "      <td>11.22</td>\n",
       "    </tr>\n",
       "    <tr>\n",
       "      <th>WiiU</th>\n",
       "      <td>7.31</td>\n",
       "    </tr>\n",
       "  </tbody>\n",
       "</table>\n",
       "</div>"
      ],
      "text/plain": [
       "          jp_sales\n",
       "platform          \n",
       "3DS          44.24\n",
       "PS4          15.02\n",
       "PSV          14.54\n",
       "PS3          11.22\n",
       "WiiU          7.31"
      ]
     },
     "execution_count": 31,
     "metadata": {},
     "output_type": "execute_result"
    },
    {
     "data": {
      "image/png": "[encoded data removed]",
      "text/plain": [
       "<Figure size 648x648 with 1 Axes>"
      ]
     },
     "metadata": {},
     "output_type": "display_data"
    }
   ],
   "source": [
    "df_actual_na_sales = df_actual.pivot_table(\n",
    "    index='platform',\n",
    "    values='jp_sales',\n",
    "    aggfunc='sum'\n",
    ").sort_values(by='jp_sales', ascending=False)\n",
    "df_actual_na_sales['jp_sales'].plot(kind='pie', autopct='%1.0f%%', figsize = (9,9));\n",
    "plt.title('Круговая диаграмма продаж по платформам в Японии');\n",
    "plt.ylabel('');\n",
    "df_actual_na_sales.head(5)"
   ]
  },
  {
   "cell_type": "markdown",
   "metadata": {},
   "source": [
    "Самые популярные платформы по продажам в Японии это Nintendo 3DS - 48% и PS4 - 17%."
   ]
  },
  {
   "cell_type": "code",
   "execution_count": 32,
   "metadata": {},
   "outputs": [
    {
     "data": {
      "text/html": [
       "<div>\n",
       "<style scoped>\n",
       "    .dataframe tbody tr th:only-of-type {\n",
       "        vertical-align: middle;\n",
       "    }\n",
       "\n",
       "    .dataframe tbody tr th {\n",
       "        vertical-align: top;\n",
       "    }\n",
       "\n",
       "    .dataframe thead th {\n",
       "        text-align: right;\n",
       "    }\n",
       "</style>\n",
       "<table border=\"1\" class=\"dataframe\">\n",
       "  <thead>\n",
       "    <tr style=\"text-align: right;\">\n",
       "      <th></th>\n",
       "      <th>jp_sales</th>\n",
       "    </tr>\n",
       "    <tr>\n",
       "      <th>genre</th>\n",
       "      <th></th>\n",
       "    </tr>\n",
       "  </thead>\n",
       "  <tbody>\n",
       "    <tr>\n",
       "      <th>Role-Playing</th>\n",
       "      <td>31.16</td>\n",
       "    </tr>\n",
       "    <tr>\n",
       "      <th>Action</th>\n",
       "      <td>29.58</td>\n",
       "    </tr>\n",
       "    <tr>\n",
       "      <th>Fighting</th>\n",
       "      <td>6.37</td>\n",
       "    </tr>\n",
       "    <tr>\n",
       "      <th>Misc</th>\n",
       "      <td>5.61</td>\n",
       "    </tr>\n",
       "    <tr>\n",
       "      <th>Shooter</th>\n",
       "      <td>4.87</td>\n",
       "    </tr>\n",
       "  </tbody>\n",
       "</table>\n",
       "</div>"
      ],
      "text/plain": [
       "              jp_sales\n",
       "genre                 \n",
       "Role-Playing     31.16\n",
       "Action           29.58\n",
       "Fighting          6.37\n",
       "Misc              5.61\n",
       "Shooter           4.87"
      ]
     },
     "execution_count": 32,
     "metadata": {},
     "output_type": "execute_result"
    },
    {
     "data": {
      "image/png": "[encoded data removed]",
      "text/plain": [
       "<Figure size 648x648 with 1 Axes>"
      ]
     },
     "metadata": {},
     "output_type": "display_data"
    }
   ],
   "source": [
    "df_actual_na_sales = df_actual.pivot_table(\n",
    "    index='genre',\n",
    "    values='jp_sales',\n",
    "    aggfunc='sum'\n",
    ").sort_values(by='jp_sales', ascending=False)\n",
    "df_actual_na_sales['jp_sales'].plot(kind='pie', autopct='%1.0f%%', figsize = (9,9));\n",
    "plt.title('Круговая диаграмма продаж по жанрам в Европе');\n",
    "plt.ylabel('');\n",
    "df_actual_na_sales.head(5)"
   ]
  },
  {
   "cell_type": "markdown",
   "metadata": {},
   "source": [
    "Самые продаваемые жанры в Японии это Action - 32% и Role-Playng - 24%"
   ]
  },
  {
   "cell_type": "code",
   "execution_count": 33,
   "metadata": {},
   "outputs": [
    {
     "data": {
      "image/png": "[encoded data removed]",
      "text/plain": [
       "<Figure size 720x432 with 1 Axes>"
      ]
     },
     "metadata": {
      "needs_background": "light"
     },
     "output_type": "display_data"
    }
   ],
   "source": [
    "df_actual_jp_rating = df_actual.groupby('rating')['jp_sales'].sum().to_frame().sort_values(by='jp_sales', ascending=False)\n",
    "df_actual_jp_rating.plot(kind = 'bar', figsize = (10,6));\n",
    "plt.title('Продажи в зависимоти от рейтинга игры в Японии');\n",
    "plt.ylabel('Подажи игр данного рейтинга, млн шт.');\n",
    "plt.xlabel('Рейтинг');"
   ]
  },
  {
   "cell_type": "markdown",
   "metadata": {},
   "source": [
    "Больше всего продаж для игр с рейтингом Т."
   ]
  },
  {
   "cell_type": "markdown",
   "metadata": {},
   "source": [
    "Выводы: \n",
    "- в Европе и Америке самые популярные платформы это PS4 и XboxOne, а в Японии Nintendo 3DS и PS. Это связано с тем, что в Японии создавались данные приставки, а в Америке создан XboxOne\n",
    "- самые популярные жанры в Амирике и Европе это Action и Shooter, а в Японии Action и Role-Playng, возможно это связанно с культурой\n",
    "- рейтинг в Америке и Европе в основном М, а в Японии Т."
   ]
  },
  {
   "cell_type": "markdown",
   "metadata": {},
   "source": [
    "## Проверка гипотез"
   ]
  },
  {
   "cell_type": "markdown",
   "metadata": {},
   "source": [
    "### Средние пользовательские рейтинги платформ Xbox One и PC одинаковые"
   ]
  },
  {
   "cell_type": "markdown",
   "metadata": {},
   "source": [
    "Н0: Средние пользовательские рейтинги платформ Xbox One и PC равны\n",
    "\n",
    "Н1:  Средние пользовательские рейтинги платформ Xbox One и PC разные"
   ]
  },
  {
   "cell_type": "code",
   "execution_count": 34,
   "metadata": {},
   "outputs": [
    {
     "name": "stdout",
     "output_type": "stream",
     "text": [
      "p-value: 0.10450507919348415\n",
      "Не получилось отвергнуть нулевую гипотезу.\n"
     ]
    }
   ],
   "source": [
    "xbox_one = df_actual[df_actual['platform'] == 'XOne']['user_score'].dropna()\n",
    "pc = df_actual[df_actual['platform'] == 'PC']['user_score'].dropna()\n",
    "\n",
    "alpha = 0.05\n",
    "\n",
    "results = st.ttest_ind(xbox_one, pc)\n",
    "print(f'p-value: {results.pvalue}')\n",
    "\n",
    "if results.pvalue < alpha:\n",
    "    print('Отвергаем нулевую гипотезу.')\n",
    "else:\n",
    "    print('Не получилось отвергнуть нулевую гипотезу.')"
   ]
  },
  {
   "cell_type": "markdown",
   "metadata": {},
   "source": [
    "Вывод: Значение p-value равно примерно 10%. Таким образом, не получилось опровергнуть Нулевую гипотезу. То есть, с вероятностью в 10% можно получить различность рейтингов двух платформ"
   ]
  },
  {
   "cell_type": "markdown",
   "metadata": {},
   "source": [
    "### Средние пользовательские рейтинги жанров Action и Sports разные"
   ]
  },
  {
   "cell_type": "markdown",
   "metadata": {},
   "source": [
    "Н0: Средние пользовательские рейтинги жанров Action и Sports равны\n",
    "\n",
    "Н1: Средние пользовательские рейтинги жанров Action и Sports разные"
   ]
  },
  {
   "cell_type": "code",
   "execution_count": 35,
   "metadata": {},
   "outputs": [
    {
     "name": "stdout",
     "output_type": "stream",
     "text": [
      "p-value: 2.8711147985105864e-19\n",
      "Отвергаем нулевую гипотезу.\n"
     ]
    }
   ],
   "source": [
    "action = df_actual[df_actual['genre'] == 'Action']['user_score'].dropna()\n",
    "sports = df_actual[df_actual['genre'] == 'Sports']['user_score'].dropna()\n",
    "\n",
    "alpha = 0.05\n",
    "\n",
    "results = st.ttest_ind(action, sports)\n",
    "print(f'p-value: {results.pvalue}')\n",
    "\n",
    "if results.pvalue < alpha:\n",
    "    print('Отвергаем нулевую гипотезу.')\n",
    "else:\n",
    "    print('Не получилось отвергнуть нулевую гипотезу.')"
   ]
  },
  {
   "cell_type": "markdown",
   "metadata": {},
   "source": [
    "Вывод: Получив p-value, мы отвергли Нулевую гипотезу. Таким образом, у нас практически нет вероятности получить одинакове средние рейнтинги по двум жанрам."
   ]
  },
  {
   "cell_type": "markdown",
   "metadata": {},
   "source": [
    "## Общий вывод"
   ]
  },
  {
   "cell_type": "markdown",
   "metadata": {},
   "source": [
    "- Количесво выпускаемых игр увеличивалось с каждым годом примерно до 2007, потом наблюдается спад. Примерно с 2014 по 2016 года количесво игр в год примерно одинаково\n",
    "- Не все платофрмы актуальны. Стоит проводить исследование для послених лет 2014-2016 года. В среднем игры на платформы выходят 5-10 десять лет, за исключением PC\n",
    "- Продажи по всем платофрмам падают, но до 2015 года продажи PS4 и XboxOne растут. Самыми перспективными и продаваемыми платформами за 2013-2016 года, являются PS4 и XboxOne\n",
    "- Медианное значние по всем платформам не первышает 0.21 млн продаж игры. Можно говорить, что успешные продажи игры считать более 0.6 млн копий. Провалившимися продажми игры можно считать менее 0.03 млн. копий. Больше всего успешных продаж состоялось на PS4\n",
    "- Исходя из графиков и полученного коэфициента корреляции можно сделать вывод:\n",
    "\n",
    "    - оценка пользователей на количесво продаж почти не влияет, на это указывает коэфициент корреляции -0.013\n",
    "    - оценка критиков влияет сильнее на продажи, коэфициент корреляции 0.328 (с увеличением оченки, продажи возрастают)\n",
    "    \n",
    "- Самые продоваемы жанры по абсолютной величине:\n",
    "\n",
    "    - Action - 199.36 млн\n",
    "    - Shooter - 170.94 млн\n",
    "    - Sports - 109.48 млн\n",
    "    - Role-Playing - 101.44 млн\n",
    "\n",
    "На данные по абслютной виличине не стоит ориентироваться, т.к. на суммарные продажи повлияло количесво игр в жанре.\n",
    "\n",
    "В среднем самые продаваемые жанры:\n",
    "\n",
    "- Shooter\n",
    "- Platform\n",
    "- Sports\n",
    "- Fighting\n",
    "- Role-Playing\n",
    "\n",
    "Портрет пользователя по регионам:\n",
    "\n",
    "1) Самые популярные платформы по продажам в Северной Америке это PS4 - 35% и XboxOne - 29%. Самые продаваемые жанры в Северной Америке это Action - 26% и Shooter - 28%. Больше всего продаж для игр с рейтингом М.\n",
    "\n",
    "2) Самые популярные платформы по продажам в Европе это PS4 - 48% и XboxOne - 17%. Самые продаваемые жанры в Европе это Action - 28% и Shooter - 24%. Больше всего продаж для игр с рейтингом М.\n",
    "\n",
    "3) Самые популярные платформы по продажам в Японии это Nintendo 3DS - 48% и PS4 - 17%. Самые продаваемые жанры в Японии это Action - 32% и Role-Playng - 24%. Больше всего продаж для игр с рейтингом Т."
   ]
  }
 ],
 "metadata": {
  "ExecuteTimeLog": [
   {
    "duration": 85,
    "start_time": "2023-06-18T12:34:25.048Z"
   },
   {
    "duration": 459,
    "start_time": "2023-06-18T12:34:44.867Z"
   },
   {
    "duration": 247,
    "start_time": "2023-06-18T12:34:46.499Z"
   },
   {
    "duration": 120,
    "start_time": "2023-06-18T12:35:07.976Z"
   },
   {
    "duration": 856,
    "start_time": "2023-06-19T07:13:58.615Z"
   },
   {
    "duration": 242,
    "start_time": "2023-06-19T07:14:01.550Z"
   },
   {
    "duration": 13,
    "start_time": "2023-06-19T08:50:00.347Z"
   },
   {
    "duration": 13,
    "start_time": "2023-06-19T09:06:56.715Z"
   },
   {
    "duration": 19,
    "start_time": "2023-06-19T09:06:59.499Z"
   },
   {
    "duration": 656,
    "start_time": "2023-06-19T09:10:15.391Z"
   },
   {
    "duration": 82,
    "start_time": "2023-06-19T09:10:16.049Z"
   },
   {
    "duration": 17,
    "start_time": "2023-06-19T09:10:16.133Z"
   },
   {
    "duration": 8,
    "start_time": "2023-06-19T09:10:16.151Z"
   },
   {
    "duration": 18,
    "start_time": "2023-06-19T09:10:24.010Z"
   },
   {
    "duration": 11,
    "start_time": "2023-06-19T09:10:33.091Z"
   },
   {
    "duration": 130,
    "start_time": "2023-06-19T09:18:32.395Z"
   },
   {
    "duration": 638,
    "start_time": "2023-06-19T09:18:48.937Z"
   },
   {
    "duration": 95,
    "start_time": "2023-06-19T09:18:49.577Z"
   },
   {
    "duration": 13,
    "start_time": "2023-06-19T09:18:49.674Z"
   },
   {
    "duration": 46,
    "start_time": "2023-06-19T09:18:49.689Z"
   },
   {
    "duration": 106,
    "start_time": "2023-06-19T09:18:49.737Z"
   },
   {
    "duration": 19,
    "start_time": "2023-06-19T09:25:47.951Z"
   },
   {
    "duration": 18,
    "start_time": "2023-06-19T09:25:49.846Z"
   },
   {
    "duration": 19,
    "start_time": "2023-06-19T09:25:50.314Z"
   },
   {
    "duration": 20,
    "start_time": "2023-06-19T09:25:58.921Z"
   },
   {
    "duration": 75,
    "start_time": "2023-06-19T09:27:00.073Z"
   },
   {
    "duration": 606,
    "start_time": "2023-06-19T09:27:13.626Z"
   },
   {
    "duration": 69,
    "start_time": "2023-06-19T09:27:14.234Z"
   },
   {
    "duration": 17,
    "start_time": "2023-06-19T09:27:14.305Z"
   },
   {
    "duration": 28,
    "start_time": "2023-06-19T09:27:14.324Z"
   },
   {
    "duration": 26,
    "start_time": "2023-06-19T09:27:14.354Z"
   },
   {
    "duration": 14,
    "start_time": "2023-06-19T09:27:27.438Z"
   },
   {
    "duration": 12,
    "start_time": "2023-06-19T09:27:38.873Z"
   },
   {
    "duration": 91,
    "start_time": "2023-06-19T09:30:01.487Z"
   },
   {
    "duration": 18,
    "start_time": "2023-06-19T09:43:44.954Z"
   },
   {
    "duration": 799,
    "start_time": "2023-06-19T09:45:38.336Z"
   },
   {
    "duration": 12,
    "start_time": "2023-06-19T09:55:38.426Z"
   },
   {
    "duration": 20,
    "start_time": "2023-06-19T09:56:04.601Z"
   },
   {
    "duration": 706,
    "start_time": "2023-06-19T09:56:23.422Z"
   },
   {
    "duration": 69,
    "start_time": "2023-06-19T09:56:24.130Z"
   },
   {
    "duration": 21,
    "start_time": "2023-06-19T09:56:24.202Z"
   },
   {
    "duration": 31,
    "start_time": "2023-06-19T09:56:24.225Z"
   },
   {
    "duration": 99,
    "start_time": "2023-06-19T09:56:24.258Z"
   },
   {
    "duration": 631,
    "start_time": "2023-06-19T12:32:26.200Z"
   },
   {
    "duration": 67,
    "start_time": "2023-06-19T12:32:26.833Z"
   },
   {
    "duration": 32,
    "start_time": "2023-06-19T12:32:26.901Z"
   },
   {
    "duration": 1816,
    "start_time": "2023-06-19T12:32:26.935Z"
   },
   {
    "duration": 0,
    "start_time": "2023-06-19T12:32:28.753Z"
   },
   {
    "duration": 0,
    "start_time": "2023-06-19T12:32:28.754Z"
   },
   {
    "duration": 2280,
    "start_time": "2023-06-19T12:33:27.294Z"
   },
   {
    "duration": 643,
    "start_time": "2023-06-19T12:33:34.423Z"
   },
   {
    "duration": 78,
    "start_time": "2023-06-19T12:33:35.068Z"
   },
   {
    "duration": 12,
    "start_time": "2023-06-19T12:33:35.148Z"
   },
   {
    "duration": 19,
    "start_time": "2023-06-19T12:33:35.162Z"
   },
   {
    "duration": 23,
    "start_time": "2023-06-19T12:33:35.183Z"
   },
   {
    "duration": 89,
    "start_time": "2023-06-19T12:36:04.898Z"
   },
   {
    "duration": 5,
    "start_time": "2023-06-19T12:38:29.356Z"
   },
   {
    "duration": 4,
    "start_time": "2023-06-19T12:38:35.688Z"
   },
   {
    "duration": 5,
    "start_time": "2023-06-19T12:38:37.653Z"
   },
   {
    "duration": 6,
    "start_time": "2023-06-19T12:38:39.417Z"
   },
   {
    "duration": 5,
    "start_time": "2023-06-19T12:38:41.168Z"
   },
   {
    "duration": 4,
    "start_time": "2023-06-19T12:40:58.958Z"
   },
   {
    "duration": 9,
    "start_time": "2023-06-19T12:42:22.027Z"
   },
   {
    "duration": 15,
    "start_time": "2023-06-19T12:42:35.135Z"
   },
   {
    "duration": 13,
    "start_time": "2023-06-19T12:42:56.701Z"
   },
   {
    "duration": 14,
    "start_time": "2023-06-19T12:43:28.117Z"
   },
   {
    "duration": 20,
    "start_time": "2023-06-19T12:43:45.033Z"
   },
   {
    "duration": 5,
    "start_time": "2023-06-19T12:44:31.469Z"
   },
   {
    "duration": 19,
    "start_time": "2023-06-19T12:48:12.016Z"
   },
   {
    "duration": 651,
    "start_time": "2023-06-19T12:48:24.820Z"
   },
   {
    "duration": 83,
    "start_time": "2023-06-19T12:48:25.472Z"
   },
   {
    "duration": 14,
    "start_time": "2023-06-19T12:48:25.556Z"
   },
   {
    "duration": 32,
    "start_time": "2023-06-19T12:48:25.571Z"
   },
   {
    "duration": 128,
    "start_time": "2023-06-19T12:48:25.605Z"
   },
   {
    "duration": 0,
    "start_time": "2023-06-19T12:48:25.735Z"
   },
   {
    "duration": 0,
    "start_time": "2023-06-19T12:48:25.736Z"
   },
   {
    "duration": 0,
    "start_time": "2023-06-19T12:48:25.738Z"
   },
   {
    "duration": 6,
    "start_time": "2023-06-19T12:48:31.738Z"
   },
   {
    "duration": 23,
    "start_time": "2023-06-19T12:48:33.918Z"
   },
   {
    "duration": 5,
    "start_time": "2023-06-19T12:48:37.917Z"
   },
   {
    "duration": 8,
    "start_time": "2023-06-19T12:49:24.458Z"
   },
   {
    "duration": 8,
    "start_time": "2023-06-19T13:03:55.116Z"
   },
   {
    "duration": 33,
    "start_time": "2023-06-19T13:04:00.516Z"
   },
   {
    "duration": 15,
    "start_time": "2023-06-19T13:05:21.185Z"
   },
   {
    "duration": 682,
    "start_time": "2023-06-19T13:05:28.762Z"
   },
   {
    "duration": 85,
    "start_time": "2023-06-19T13:05:29.446Z"
   },
   {
    "duration": 19,
    "start_time": "2023-06-19T13:05:29.532Z"
   },
   {
    "duration": 82,
    "start_time": "2023-06-19T13:05:29.553Z"
   },
   {
    "duration": 110,
    "start_time": "2023-06-19T13:05:29.637Z"
   },
   {
    "duration": 0,
    "start_time": "2023-06-19T13:05:29.749Z"
   },
   {
    "duration": 0,
    "start_time": "2023-06-19T13:05:29.751Z"
   },
   {
    "duration": 0,
    "start_time": "2023-06-19T13:05:29.752Z"
   },
   {
    "duration": 0,
    "start_time": "2023-06-19T13:05:29.753Z"
   },
   {
    "duration": 0,
    "start_time": "2023-06-19T13:05:29.754Z"
   },
   {
    "duration": 20,
    "start_time": "2023-06-19T13:06:05.870Z"
   },
   {
    "duration": 18,
    "start_time": "2023-06-19T13:06:37.538Z"
   },
   {
    "duration": 13,
    "start_time": "2023-06-19T13:06:47.957Z"
   },
   {
    "duration": 8,
    "start_time": "2023-06-19T13:06:56.315Z"
   },
   {
    "duration": 7,
    "start_time": "2023-06-19T13:07:31.675Z"
   },
   {
    "duration": 8,
    "start_time": "2023-06-19T13:07:40.028Z"
   },
   {
    "duration": 8,
    "start_time": "2023-06-19T13:07:48.028Z"
   },
   {
    "duration": 7,
    "start_time": "2023-06-19T13:07:49.840Z"
   },
   {
    "duration": 8,
    "start_time": "2023-06-19T13:07:50.064Z"
   },
   {
    "duration": 7,
    "start_time": "2023-06-19T13:07:50.283Z"
   },
   {
    "duration": 7,
    "start_time": "2023-06-19T13:08:03.319Z"
   },
   {
    "duration": 648,
    "start_time": "2023-06-19T13:08:10.094Z"
   },
   {
    "duration": 78,
    "start_time": "2023-06-19T13:08:10.744Z"
   },
   {
    "duration": 13,
    "start_time": "2023-06-19T13:08:10.824Z"
   },
   {
    "duration": 12,
    "start_time": "2023-06-19T13:08:10.839Z"
   },
   {
    "duration": 112,
    "start_time": "2023-06-19T13:08:10.852Z"
   },
   {
    "duration": 0,
    "start_time": "2023-06-19T13:08:10.966Z"
   },
   {
    "duration": 0,
    "start_time": "2023-06-19T13:08:10.967Z"
   },
   {
    "duration": 0,
    "start_time": "2023-06-19T13:08:10.968Z"
   },
   {
    "duration": 0,
    "start_time": "2023-06-19T13:08:10.969Z"
   },
   {
    "duration": 0,
    "start_time": "2023-06-19T13:08:10.970Z"
   },
   {
    "duration": 9,
    "start_time": "2023-06-19T13:08:27.090Z"
   },
   {
    "duration": 9,
    "start_time": "2023-06-19T13:08:51.540Z"
   },
   {
    "duration": 12,
    "start_time": "2023-06-19T13:08:53.316Z"
   },
   {
    "duration": 16,
    "start_time": "2023-06-19T13:09:04.581Z"
   },
   {
    "duration": 13,
    "start_time": "2023-06-19T13:09:10.131Z"
   },
   {
    "duration": 19,
    "start_time": "2023-06-19T13:09:17.891Z"
   },
   {
    "duration": 24,
    "start_time": "2023-06-19T13:09:24.899Z"
   },
   {
    "duration": 36,
    "start_time": "2023-06-19T13:10:15.879Z"
   },
   {
    "duration": 10,
    "start_time": "2023-06-19T13:10:22.115Z"
   },
   {
    "duration": 9,
    "start_time": "2023-06-19T13:10:27.882Z"
   },
   {
    "duration": 10,
    "start_time": "2023-06-19T13:10:30.399Z"
   },
   {
    "duration": 30,
    "start_time": "2023-06-19T13:11:45.899Z"
   },
   {
    "duration": 30,
    "start_time": "2023-06-19T13:12:02.669Z"
   },
   {
    "duration": 18,
    "start_time": "2023-06-19T13:12:09.281Z"
   },
   {
    "duration": 617,
    "start_time": "2023-06-19T13:12:25.442Z"
   },
   {
    "duration": 72,
    "start_time": "2023-06-19T13:12:26.061Z"
   },
   {
    "duration": 12,
    "start_time": "2023-06-19T13:12:26.135Z"
   },
   {
    "duration": 11,
    "start_time": "2023-06-19T13:12:26.148Z"
   },
   {
    "duration": 55,
    "start_time": "2023-06-19T13:12:26.161Z"
   },
   {
    "duration": 14,
    "start_time": "2023-06-19T13:12:26.218Z"
   },
   {
    "duration": 22,
    "start_time": "2023-06-19T13:12:26.235Z"
   },
   {
    "duration": 50,
    "start_time": "2023-06-19T13:12:26.260Z"
   },
   {
    "duration": 38,
    "start_time": "2023-06-19T13:12:26.318Z"
   },
   {
    "duration": 32,
    "start_time": "2023-06-19T13:12:26.358Z"
   },
   {
    "duration": 641,
    "start_time": "2023-06-19T13:13:23.397Z"
   },
   {
    "duration": 70,
    "start_time": "2023-06-19T13:13:24.040Z"
   },
   {
    "duration": 14,
    "start_time": "2023-06-19T13:13:24.112Z"
   },
   {
    "duration": 19,
    "start_time": "2023-06-19T13:13:24.128Z"
   },
   {
    "duration": 38,
    "start_time": "2023-06-19T13:13:24.149Z"
   },
   {
    "duration": 79,
    "start_time": "2023-06-19T13:13:24.188Z"
   },
   {
    "duration": 0,
    "start_time": "2023-06-19T13:13:24.269Z"
   },
   {
    "duration": 0,
    "start_time": "2023-06-19T13:13:24.269Z"
   },
   {
    "duration": 0,
    "start_time": "2023-06-19T13:13:24.271Z"
   },
   {
    "duration": 0,
    "start_time": "2023-06-19T13:13:24.271Z"
   },
   {
    "duration": 23,
    "start_time": "2023-06-19T13:13:30.414Z"
   },
   {
    "duration": 651,
    "start_time": "2023-06-19T13:13:35.572Z"
   },
   {
    "duration": 83,
    "start_time": "2023-06-19T13:13:36.225Z"
   },
   {
    "duration": 17,
    "start_time": "2023-06-19T13:13:36.310Z"
   },
   {
    "duration": 20,
    "start_time": "2023-06-19T13:13:36.329Z"
   },
   {
    "duration": 32,
    "start_time": "2023-06-19T13:13:36.351Z"
   },
   {
    "duration": 17,
    "start_time": "2023-06-19T13:13:36.384Z"
   },
   {
    "duration": 27,
    "start_time": "2023-06-19T13:13:36.402Z"
   },
   {
    "duration": 23,
    "start_time": "2023-06-19T13:13:36.430Z"
   },
   {
    "duration": 4,
    "start_time": "2023-06-19T13:13:36.455Z"
   },
   {
    "duration": 16,
    "start_time": "2023-06-19T13:13:36.460Z"
   },
   {
    "duration": 23,
    "start_time": "2023-06-19T13:14:01.728Z"
   },
   {
    "duration": 674,
    "start_time": "2023-06-19T13:14:12.880Z"
   },
   {
    "duration": 74,
    "start_time": "2023-06-19T13:14:13.556Z"
   },
   {
    "duration": 12,
    "start_time": "2023-06-19T13:14:13.631Z"
   },
   {
    "duration": 23,
    "start_time": "2023-06-19T13:14:13.644Z"
   },
   {
    "duration": 33,
    "start_time": "2023-06-19T13:14:13.669Z"
   },
   {
    "duration": 16,
    "start_time": "2023-06-19T13:14:13.704Z"
   },
   {
    "duration": 13,
    "start_time": "2023-06-19T13:14:13.721Z"
   },
   {
    "duration": 27,
    "start_time": "2023-06-19T13:14:13.735Z"
   },
   {
    "duration": 12,
    "start_time": "2023-06-19T13:14:13.764Z"
   },
   {
    "duration": 17,
    "start_time": "2023-06-19T13:14:13.777Z"
   },
   {
    "duration": 628,
    "start_time": "2023-06-19T13:17:26.529Z"
   },
   {
    "duration": 76,
    "start_time": "2023-06-19T13:17:27.159Z"
   },
   {
    "duration": 13,
    "start_time": "2023-06-19T13:17:27.236Z"
   },
   {
    "duration": 31,
    "start_time": "2023-06-19T13:17:27.250Z"
   },
   {
    "duration": 29,
    "start_time": "2023-06-19T13:17:27.282Z"
   },
   {
    "duration": 105,
    "start_time": "2023-06-19T13:17:27.312Z"
   },
   {
    "duration": 0,
    "start_time": "2023-06-19T13:17:27.418Z"
   },
   {
    "duration": 0,
    "start_time": "2023-06-19T13:17:27.420Z"
   },
   {
    "duration": 0,
    "start_time": "2023-06-19T13:17:27.420Z"
   },
   {
    "duration": 0,
    "start_time": "2023-06-19T13:17:27.422Z"
   },
   {
    "duration": 8,
    "start_time": "2023-06-19T13:17:35.152Z"
   },
   {
    "duration": 707,
    "start_time": "2023-06-19T13:17:46.036Z"
   },
   {
    "duration": 79,
    "start_time": "2023-06-19T13:17:46.745Z"
   },
   {
    "duration": 12,
    "start_time": "2023-06-19T13:17:46.825Z"
   },
   {
    "duration": 24,
    "start_time": "2023-06-19T13:17:46.838Z"
   },
   {
    "duration": 23,
    "start_time": "2023-06-19T13:17:46.864Z"
   },
   {
    "duration": 136,
    "start_time": "2023-06-19T13:17:46.889Z"
   },
   {
    "duration": 0,
    "start_time": "2023-06-19T13:17:47.026Z"
   },
   {
    "duration": 0,
    "start_time": "2023-06-19T13:17:47.027Z"
   },
   {
    "duration": 0,
    "start_time": "2023-06-19T13:17:47.028Z"
   },
   {
    "duration": 0,
    "start_time": "2023-06-19T13:17:47.029Z"
   },
   {
    "duration": 10,
    "start_time": "2023-06-19T13:18:17.648Z"
   },
   {
    "duration": 10,
    "start_time": "2023-06-19T13:18:21.814Z"
   },
   {
    "duration": 8,
    "start_time": "2023-06-19T13:18:23.026Z"
   },
   {
    "duration": 7,
    "start_time": "2023-06-19T13:18:23.383Z"
   },
   {
    "duration": 7,
    "start_time": "2023-06-19T13:18:23.583Z"
   },
   {
    "duration": 7,
    "start_time": "2023-06-19T13:18:23.731Z"
   },
   {
    "duration": 586,
    "start_time": "2023-06-19T13:18:27.763Z"
   },
   {
    "duration": 74,
    "start_time": "2023-06-19T13:18:28.351Z"
   },
   {
    "duration": 15,
    "start_time": "2023-06-19T13:18:28.427Z"
   },
   {
    "duration": 13,
    "start_time": "2023-06-19T13:18:28.443Z"
   },
   {
    "duration": 42,
    "start_time": "2023-06-19T13:18:28.458Z"
   },
   {
    "duration": 9,
    "start_time": "2023-06-19T13:18:28.502Z"
   },
   {
    "duration": 18,
    "start_time": "2023-06-19T13:18:28.512Z"
   },
   {
    "duration": 20,
    "start_time": "2023-06-19T13:18:28.532Z"
   },
   {
    "duration": 4,
    "start_time": "2023-06-19T13:18:28.554Z"
   },
   {
    "duration": 8,
    "start_time": "2023-06-19T13:18:28.560Z"
   },
   {
    "duration": 70,
    "start_time": "2023-06-19T13:23:42.796Z"
   },
   {
    "duration": 14,
    "start_time": "2023-06-19T13:23:51.168Z"
   },
   {
    "duration": 16,
    "start_time": "2023-06-19T13:25:43.758Z"
   },
   {
    "duration": 207,
    "start_time": "2023-06-19T13:30:45.300Z"
   },
   {
    "duration": 204,
    "start_time": "2023-06-19T13:30:56.694Z"
   },
   {
    "duration": 138,
    "start_time": "2023-06-19T13:31:07.493Z"
   },
   {
    "duration": 209,
    "start_time": "2023-06-19T13:49:49.163Z"
   },
   {
    "duration": 154,
    "start_time": "2023-06-19T13:50:42.758Z"
   },
   {
    "duration": 145,
    "start_time": "2023-06-19T13:51:54.737Z"
   },
   {
    "duration": 156,
    "start_time": "2023-06-19T13:52:04.999Z"
   },
   {
    "duration": 148,
    "start_time": "2023-06-19T13:52:25.311Z"
   },
   {
    "duration": 130,
    "start_time": "2023-06-19T13:52:32.811Z"
   },
   {
    "duration": 244,
    "start_time": "2023-06-19T13:54:13.525Z"
   },
   {
    "duration": 140,
    "start_time": "2023-06-19T13:57:45.324Z"
   },
   {
    "duration": 119,
    "start_time": "2023-06-19T13:57:54.943Z"
   },
   {
    "duration": 274,
    "start_time": "2023-06-19T14:01:16.855Z"
   },
   {
    "duration": 191,
    "start_time": "2023-06-19T14:01:25.138Z"
   },
   {
    "duration": 224,
    "start_time": "2023-06-19T14:02:21.624Z"
   },
   {
    "duration": 220,
    "start_time": "2023-06-19T14:02:28.117Z"
   },
   {
    "duration": 131,
    "start_time": "2023-06-19T14:03:50.013Z"
   },
   {
    "duration": 122,
    "start_time": "2023-06-19T14:04:31.158Z"
   },
   {
    "duration": 135,
    "start_time": "2023-06-19T14:10:56.512Z"
   },
   {
    "duration": 4,
    "start_time": "2023-06-19T14:27:44.221Z"
   },
   {
    "duration": 6,
    "start_time": "2023-06-19T14:28:02.178Z"
   },
   {
    "duration": 9,
    "start_time": "2023-06-19T14:28:49.976Z"
   },
   {
    "duration": 14,
    "start_time": "2023-06-19T14:29:02.242Z"
   },
   {
    "duration": 11,
    "start_time": "2023-06-19T14:29:29.124Z"
   },
   {
    "duration": 10,
    "start_time": "2023-06-19T14:29:34.750Z"
   },
   {
    "duration": 11,
    "start_time": "2023-06-19T14:37:46.873Z"
   },
   {
    "duration": 13,
    "start_time": "2023-06-19T14:37:55.555Z"
   },
   {
    "duration": 20,
    "start_time": "2023-06-19T14:38:42.100Z"
   },
   {
    "duration": 7,
    "start_time": "2023-06-19T14:43:33.375Z"
   },
   {
    "duration": 8,
    "start_time": "2023-06-19T14:43:36.287Z"
   },
   {
    "duration": 27,
    "start_time": "2023-06-19T14:43:43.192Z"
   },
   {
    "duration": 14,
    "start_time": "2023-06-19T14:44:10.711Z"
   },
   {
    "duration": 11,
    "start_time": "2023-06-19T14:44:33.636Z"
   },
   {
    "duration": 19,
    "start_time": "2023-06-19T14:44:40.606Z"
   },
   {
    "duration": 23,
    "start_time": "2023-06-19T14:45:14.090Z"
   },
   {
    "duration": 20,
    "start_time": "2023-06-19T14:45:20.447Z"
   },
   {
    "duration": 12,
    "start_time": "2023-06-19T14:45:43.159Z"
   },
   {
    "duration": 556,
    "start_time": "2023-06-19T14:51:15.010Z"
   },
   {
    "duration": 422,
    "start_time": "2023-06-19T14:51:24.186Z"
   },
   {
    "duration": 130,
    "start_time": "2023-06-19T14:51:32.913Z"
   },
   {
    "duration": 18,
    "start_time": "2023-06-19T14:54:21.215Z"
   },
   {
    "duration": 11,
    "start_time": "2023-06-19T14:54:35.627Z"
   },
   {
    "duration": 7,
    "start_time": "2023-06-19T14:55:04.459Z"
   },
   {
    "duration": 10,
    "start_time": "2023-06-19T14:55:07.377Z"
   },
   {
    "duration": 11,
    "start_time": "2023-06-19T14:55:13.001Z"
   },
   {
    "duration": 9,
    "start_time": "2023-06-19T14:55:20.071Z"
   },
   {
    "duration": 12,
    "start_time": "2023-06-19T14:55:24.291Z"
   },
   {
    "duration": 279,
    "start_time": "2023-06-19T15:23:19.909Z"
   },
   {
    "duration": 297,
    "start_time": "2023-06-19T15:23:49.495Z"
   },
   {
    "duration": 331,
    "start_time": "2023-06-19T15:37:14.286Z"
   },
   {
    "duration": 51,
    "start_time": "2023-06-19T15:38:31.014Z"
   },
   {
    "duration": 11,
    "start_time": "2023-06-19T15:38:55.453Z"
   },
   {
    "duration": 51,
    "start_time": "2023-06-19T15:44:43.920Z"
   },
   {
    "duration": 45,
    "start_time": "2023-06-20T07:33:45.833Z"
   },
   {
    "duration": 753,
    "start_time": "2023-06-20T07:33:50.420Z"
   },
   {
    "duration": 197,
    "start_time": "2023-06-20T07:33:51.175Z"
   },
   {
    "duration": 14,
    "start_time": "2023-06-20T07:33:51.374Z"
   },
   {
    "duration": 15,
    "start_time": "2023-06-20T07:33:51.390Z"
   },
   {
    "duration": 26,
    "start_time": "2023-06-20T07:33:51.407Z"
   },
   {
    "duration": 21,
    "start_time": "2023-06-20T07:33:51.435Z"
   },
   {
    "duration": 5,
    "start_time": "2023-06-20T07:33:51.457Z"
   },
   {
    "duration": 18,
    "start_time": "2023-06-20T07:33:51.463Z"
   },
   {
    "duration": 4,
    "start_time": "2023-06-20T07:33:51.483Z"
   },
   {
    "duration": 8,
    "start_time": "2023-06-20T07:33:51.489Z"
   },
   {
    "duration": 18,
    "start_time": "2023-06-20T07:33:51.498Z"
   },
   {
    "duration": 176,
    "start_time": "2023-06-20T07:33:51.518Z"
   },
   {
    "duration": 60,
    "start_time": "2023-06-20T07:33:51.696Z"
   },
   {
    "duration": 325,
    "start_time": "2023-06-20T07:33:51.758Z"
   },
   {
    "duration": 280,
    "start_time": "2023-06-20T07:43:56.820Z"
   },
   {
    "duration": 308,
    "start_time": "2023-06-20T07:44:13.496Z"
   },
   {
    "duration": 35,
    "start_time": "2023-06-20T08:08:34.139Z"
   },
   {
    "duration": 20,
    "start_time": "2023-06-20T08:08:53.738Z"
   },
   {
    "duration": 332,
    "start_time": "2023-06-20T08:12:12.902Z"
   },
   {
    "duration": 296,
    "start_time": "2023-06-20T08:12:32.381Z"
   },
   {
    "duration": 275,
    "start_time": "2023-06-20T08:12:43.207Z"
   },
   {
    "duration": 270,
    "start_time": "2023-06-20T08:13:33.387Z"
   },
   {
    "duration": 7,
    "start_time": "2023-06-20T08:21:43.200Z"
   },
   {
    "duration": 9,
    "start_time": "2023-06-20T08:21:52.035Z"
   },
   {
    "duration": 74,
    "start_time": "2023-06-20T08:22:17.280Z"
   },
   {
    "duration": 9,
    "start_time": "2023-06-20T08:22:32.206Z"
   },
   {
    "duration": 12,
    "start_time": "2023-06-20T08:22:57.488Z"
   },
   {
    "duration": 9,
    "start_time": "2023-06-20T08:23:16.202Z"
   },
   {
    "duration": 10,
    "start_time": "2023-06-20T08:23:20.647Z"
   },
   {
    "duration": 10,
    "start_time": "2023-06-20T08:24:17.700Z"
   },
   {
    "duration": 9,
    "start_time": "2023-06-20T08:24:24.423Z"
   },
   {
    "duration": 284,
    "start_time": "2023-06-20T08:30:03.189Z"
   },
   {
    "duration": 173,
    "start_time": "2023-06-20T09:12:42.703Z"
   },
   {
    "duration": 296,
    "start_time": "2023-06-20T09:12:50.721Z"
   },
   {
    "duration": 268,
    "start_time": "2023-06-20T09:13:49.703Z"
   },
   {
    "duration": 418,
    "start_time": "2023-06-20T09:14:07.489Z"
   },
   {
    "duration": 278,
    "start_time": "2023-06-20T09:15:30.051Z"
   },
   {
    "duration": 241,
    "start_time": "2023-06-20T09:15:44.791Z"
   },
   {
    "duration": 234,
    "start_time": "2023-06-20T09:15:52.362Z"
   },
   {
    "duration": 278,
    "start_time": "2023-06-20T09:16:02.395Z"
   },
   {
    "duration": 227,
    "start_time": "2023-06-20T09:16:44.602Z"
   },
   {
    "duration": 417,
    "start_time": "2023-06-20T09:17:39.382Z"
   },
   {
    "duration": 261,
    "start_time": "2023-06-20T09:20:49.617Z"
   },
   {
    "duration": 269,
    "start_time": "2023-06-20T09:21:26.941Z"
   },
   {
    "duration": 244,
    "start_time": "2023-06-20T09:21:55.174Z"
   },
   {
    "duration": 249,
    "start_time": "2023-06-20T09:22:08.576Z"
   },
   {
    "duration": 350,
    "start_time": "2023-06-20T09:28:43.338Z"
   },
   {
    "duration": 363,
    "start_time": "2023-06-20T09:31:58.102Z"
   },
   {
    "duration": 304,
    "start_time": "2023-06-20T09:32:15.924Z"
   },
   {
    "duration": 343,
    "start_time": "2023-06-20T09:32:27.262Z"
   },
   {
    "duration": 282,
    "start_time": "2023-06-20T09:32:41.454Z"
   },
   {
    "duration": 296,
    "start_time": "2023-06-20T09:33:14.141Z"
   },
   {
    "duration": 1799,
    "start_time": "2023-06-20T10:06:54.139Z"
   },
   {
    "duration": 215,
    "start_time": "2023-06-20T10:07:09.254Z"
   },
   {
    "duration": 201,
    "start_time": "2023-06-20T10:07:44.883Z"
   },
   {
    "duration": 127,
    "start_time": "2023-06-20T10:08:08.925Z"
   },
   {
    "duration": 155,
    "start_time": "2023-06-20T10:08:39.224Z"
   },
   {
    "duration": 198,
    "start_time": "2023-06-20T10:09:28.702Z"
   },
   {
    "duration": 188,
    "start_time": "2023-06-20T10:09:45.482Z"
   },
   {
    "duration": 190,
    "start_time": "2023-06-20T10:09:49.891Z"
   },
   {
    "duration": 7,
    "start_time": "2023-06-20T10:10:02.367Z"
   },
   {
    "duration": 8,
    "start_time": "2023-06-20T10:10:15.351Z"
   },
   {
    "duration": 174,
    "start_time": "2023-06-20T10:10:43.090Z"
   },
   {
    "duration": 166,
    "start_time": "2023-06-20T10:10:52.012Z"
   },
   {
    "duration": 169,
    "start_time": "2023-06-20T10:11:11.068Z"
   },
   {
    "duration": 193,
    "start_time": "2023-06-20T10:12:35.433Z"
   },
   {
    "duration": 169,
    "start_time": "2023-06-20T10:12:49.643Z"
   },
   {
    "duration": 243,
    "start_time": "2023-06-20T10:13:03.747Z"
   },
   {
    "duration": 162,
    "start_time": "2023-06-20T10:13:09.278Z"
   },
   {
    "duration": 151,
    "start_time": "2023-06-20T10:13:15.043Z"
   },
   {
    "duration": 152,
    "start_time": "2023-06-20T10:13:22.607Z"
   },
   {
    "duration": 148,
    "start_time": "2023-06-20T10:13:26.000Z"
   },
   {
    "duration": 153,
    "start_time": "2023-06-20T10:13:29.994Z"
   },
   {
    "duration": 155,
    "start_time": "2023-06-20T10:13:38.390Z"
   },
   {
    "duration": 144,
    "start_time": "2023-06-20T10:13:52.504Z"
   },
   {
    "duration": 176,
    "start_time": "2023-06-20T10:24:48.590Z"
   },
   {
    "duration": 180,
    "start_time": "2023-06-20T10:25:18.270Z"
   },
   {
    "duration": 163,
    "start_time": "2023-06-20T10:25:42.451Z"
   },
   {
    "duration": 186,
    "start_time": "2023-06-20T10:25:44.328Z"
   },
   {
    "duration": 534,
    "start_time": "2023-06-20T10:36:49.012Z"
   },
   {
    "duration": 469,
    "start_time": "2023-06-20T10:39:16.807Z"
   },
   {
    "duration": 91,
    "start_time": "2023-06-20T10:39:39.312Z"
   },
   {
    "duration": 379,
    "start_time": "2023-06-20T10:41:48.034Z"
   },
   {
    "duration": 452,
    "start_time": "2023-06-20T10:42:08.886Z"
   },
   {
    "duration": 384,
    "start_time": "2023-06-20T10:42:55.389Z"
   },
   {
    "duration": 373,
    "start_time": "2023-06-20T10:43:02.569Z"
   },
   {
    "duration": 96,
    "start_time": "2023-06-20T10:45:33.204Z"
   },
   {
    "duration": 454,
    "start_time": "2023-06-20T10:45:41.797Z"
   },
   {
    "duration": 70,
    "start_time": "2023-06-20T10:53:51.599Z"
   },
   {
    "duration": 631,
    "start_time": "2023-06-20T10:54:05.382Z"
   },
   {
    "duration": 292,
    "start_time": "2023-06-20T10:55:37.504Z"
   },
   {
    "duration": 266,
    "start_time": "2023-06-20T10:55:43.418Z"
   },
   {
    "duration": 249,
    "start_time": "2023-06-20T10:55:54.691Z"
   },
   {
    "duration": 275,
    "start_time": "2023-06-20T10:56:02.593Z"
   },
   {
    "duration": 264,
    "start_time": "2023-06-20T10:56:03.593Z"
   },
   {
    "duration": 378,
    "start_time": "2023-06-20T10:56:38.311Z"
   },
   {
    "duration": 367,
    "start_time": "2023-06-20T10:57:00.731Z"
   },
   {
    "duration": 257,
    "start_time": "2023-06-20T10:57:06.977Z"
   },
   {
    "duration": 303,
    "start_time": "2023-06-20T10:57:15.568Z"
   },
   {
    "duration": 305,
    "start_time": "2023-06-20T10:57:36.737Z"
   },
   {
    "duration": 388,
    "start_time": "2023-06-20T10:57:41.546Z"
   },
   {
    "duration": 337,
    "start_time": "2023-06-20T10:58:00.147Z"
   },
   {
    "duration": 311,
    "start_time": "2023-06-20T10:58:09.800Z"
   },
   {
    "duration": 307,
    "start_time": "2023-06-20T10:59:01.492Z"
   },
   {
    "duration": 345,
    "start_time": "2023-06-20T10:59:13.282Z"
   },
   {
    "duration": 332,
    "start_time": "2023-06-20T10:59:28.873Z"
   },
   {
    "duration": 595,
    "start_time": "2023-06-20T10:59:48.676Z"
   },
   {
    "duration": 407,
    "start_time": "2023-06-20T11:00:02.841Z"
   },
   {
    "duration": 325,
    "start_time": "2023-06-20T11:00:11.484Z"
   },
   {
    "duration": 508,
    "start_time": "2023-06-20T11:00:53.098Z"
   },
   {
    "duration": 722,
    "start_time": "2023-06-20T11:01:05.624Z"
   },
   {
    "duration": 539,
    "start_time": "2023-06-20T11:01:19.667Z"
   },
   {
    "duration": 580,
    "start_time": "2023-06-20T11:01:55.997Z"
   },
   {
    "duration": 555,
    "start_time": "2023-06-20T11:02:43.335Z"
   },
   {
    "duration": 568,
    "start_time": "2023-06-20T11:02:51.864Z"
   },
   {
    "duration": 581,
    "start_time": "2023-06-20T11:03:28.094Z"
   },
   {
    "duration": 664,
    "start_time": "2023-06-20T11:03:43.559Z"
   },
   {
    "duration": 617,
    "start_time": "2023-06-20T11:04:17.999Z"
   },
   {
    "duration": 295,
    "start_time": "2023-06-20T11:13:26.945Z"
   },
   {
    "duration": 159,
    "start_time": "2023-06-20T11:13:34.127Z"
   },
   {
    "duration": 294,
    "start_time": "2023-06-20T11:13:39.004Z"
   },
   {
    "duration": 175,
    "start_time": "2023-06-20T11:15:11.026Z"
   },
   {
    "duration": 196,
    "start_time": "2023-06-20T11:16:08.103Z"
   },
   {
    "duration": 163,
    "start_time": "2023-06-20T11:19:00.171Z"
   },
   {
    "duration": 209,
    "start_time": "2023-06-20T11:19:17.419Z"
   },
   {
    "duration": 212,
    "start_time": "2023-06-20T11:19:24.014Z"
   },
   {
    "duration": 198,
    "start_time": "2023-06-20T11:19:31.210Z"
   },
   {
    "duration": 176,
    "start_time": "2023-06-20T11:20:50.901Z"
   },
   {
    "duration": 187,
    "start_time": "2023-06-20T11:21:12.400Z"
   },
   {
    "duration": 167,
    "start_time": "2023-06-20T11:21:24.649Z"
   },
   {
    "duration": 542,
    "start_time": "2023-06-20T11:21:27.517Z"
   },
   {
    "duration": 581,
    "start_time": "2023-06-20T11:25:03.602Z"
   },
   {
    "duration": 545,
    "start_time": "2023-06-20T11:25:13.769Z"
   },
   {
    "duration": 535,
    "start_time": "2023-06-20T11:25:23.996Z"
   },
   {
    "duration": 205,
    "start_time": "2023-06-20T11:25:33.136Z"
   },
   {
    "duration": 315,
    "start_time": "2023-06-20T11:25:39.366Z"
   },
   {
    "duration": 1140,
    "start_time": "2023-06-20T11:26:00.513Z"
   },
   {
    "duration": 71,
    "start_time": "2023-06-20T11:26:01.667Z"
   },
   {
    "duration": 14,
    "start_time": "2023-06-20T11:26:01.739Z"
   },
   {
    "duration": 38,
    "start_time": "2023-06-20T11:26:01.758Z"
   },
   {
    "duration": 33,
    "start_time": "2023-06-20T11:26:01.798Z"
   },
   {
    "duration": 4,
    "start_time": "2023-06-20T11:26:01.832Z"
   },
   {
    "duration": 6,
    "start_time": "2023-06-20T11:26:01.838Z"
   },
   {
    "duration": 33,
    "start_time": "2023-06-20T11:26:01.846Z"
   },
   {
    "duration": 14,
    "start_time": "2023-06-20T11:26:01.880Z"
   },
   {
    "duration": 42,
    "start_time": "2023-06-20T11:26:01.895Z"
   },
   {
    "duration": 42,
    "start_time": "2023-06-20T11:26:01.938Z"
   },
   {
    "duration": 170,
    "start_time": "2023-06-20T11:26:01.981Z"
   },
   {
    "duration": 29,
    "start_time": "2023-06-20T11:26:02.153Z"
   },
   {
    "duration": 338,
    "start_time": "2023-06-20T11:26:02.184Z"
   },
   {
    "duration": 11,
    "start_time": "2023-06-20T11:26:02.524Z"
   },
   {
    "duration": 600,
    "start_time": "2023-06-20T11:26:02.536Z"
   },
   {
    "duration": 170,
    "start_time": "2023-06-20T11:26:03.137Z"
   },
   {
    "duration": 6,
    "start_time": "2023-06-20T11:26:03.309Z"
   },
   {
    "duration": 179,
    "start_time": "2023-06-20T11:26:03.316Z"
   },
   {
    "duration": 7,
    "start_time": "2023-06-20T11:26:03.496Z"
   },
   {
    "duration": 241,
    "start_time": "2023-06-20T11:26:03.504Z"
   },
   {
    "duration": 372,
    "start_time": "2023-06-20T11:26:17.225Z"
   },
   {
    "duration": 223,
    "start_time": "2023-06-20T11:26:19.722Z"
   },
   {
    "duration": 412,
    "start_time": "2023-06-20T11:26:28.405Z"
   },
   {
    "duration": 9,
    "start_time": "2023-06-20T11:28:05.487Z"
   },
   {
    "duration": 14,
    "start_time": "2023-06-20T11:28:23.332Z"
   },
   {
    "duration": 16,
    "start_time": "2023-06-20T11:29:18.610Z"
   },
   {
    "duration": 179,
    "start_time": "2023-06-20T11:31:35.303Z"
   },
   {
    "duration": 246,
    "start_time": "2023-06-20T11:40:15.957Z"
   },
   {
    "duration": 227,
    "start_time": "2023-06-20T11:40:59.255Z"
   },
   {
    "duration": 214,
    "start_time": "2023-06-20T11:41:05.018Z"
   },
   {
    "duration": 237,
    "start_time": "2023-06-20T11:41:16.158Z"
   },
   {
    "duration": 206,
    "start_time": "2023-06-20T11:42:11.742Z"
   },
   {
    "duration": 258,
    "start_time": "2023-06-20T11:42:17.351Z"
   },
   {
    "duration": 586,
    "start_time": "2023-06-20T11:42:24.233Z"
   },
   {
    "duration": 234,
    "start_time": "2023-06-20T11:44:53.696Z"
   },
   {
    "duration": 223,
    "start_time": "2023-06-20T11:46:09.521Z"
   },
   {
    "duration": 215,
    "start_time": "2023-06-20T11:46:20.603Z"
   },
   {
    "duration": 200,
    "start_time": "2023-06-20T11:46:30.706Z"
   },
   {
    "duration": 223,
    "start_time": "2023-06-20T11:46:40.550Z"
   },
   {
    "duration": 214,
    "start_time": "2023-06-20T11:47:01.045Z"
   },
   {
    "duration": 207,
    "start_time": "2023-06-20T11:47:13.093Z"
   },
   {
    "duration": 207,
    "start_time": "2023-06-20T11:47:21.806Z"
   },
   {
    "duration": 302,
    "start_time": "2023-06-20T12:05:20.564Z"
   },
   {
    "duration": 3074,
    "start_time": "2023-06-20T12:05:35.488Z"
   },
   {
    "duration": 80,
    "start_time": "2023-06-20T12:06:13.313Z"
   },
   {
    "duration": 19,
    "start_time": "2023-06-20T12:09:55.995Z"
   },
   {
    "duration": 39,
    "start_time": "2023-06-20T12:10:02.106Z"
   },
   {
    "duration": 38,
    "start_time": "2023-06-20T12:10:37.636Z"
   },
   {
    "duration": 20,
    "start_time": "2023-06-20T12:10:57.494Z"
   },
   {
    "duration": 163,
    "start_time": "2023-06-20T12:12:01.662Z"
   },
   {
    "duration": 114,
    "start_time": "2023-06-20T12:12:09.353Z"
   },
   {
    "duration": 16,
    "start_time": "2023-06-20T12:12:16.395Z"
   },
   {
    "duration": 23,
    "start_time": "2023-06-20T12:12:33.956Z"
   },
   {
    "duration": 121,
    "start_time": "2023-06-20T12:13:16.414Z"
   },
   {
    "duration": 17,
    "start_time": "2023-06-20T12:13:19.728Z"
   },
   {
    "duration": 28,
    "start_time": "2023-06-20T12:14:12.140Z"
   },
   {
    "duration": 141,
    "start_time": "2023-06-20T12:15:17.913Z"
   },
   {
    "duration": 22,
    "start_time": "2023-06-20T12:15:35.856Z"
   },
   {
    "duration": 152,
    "start_time": "2023-06-20T12:15:40.005Z"
   },
   {
    "duration": 140,
    "start_time": "2023-06-20T12:15:54.391Z"
   },
   {
    "duration": 276,
    "start_time": "2023-06-20T12:16:52.231Z"
   },
   {
    "duration": 139,
    "start_time": "2023-06-20T12:17:06.992Z"
   },
   {
    "duration": 148,
    "start_time": "2023-06-20T12:17:11.790Z"
   },
   {
    "duration": 288,
    "start_time": "2023-06-20T12:17:55.518Z"
   },
   {
    "duration": 267,
    "start_time": "2023-06-20T12:18:02.126Z"
   },
   {
    "duration": 332,
    "start_time": "2023-06-20T12:18:14.134Z"
   },
   {
    "duration": 188,
    "start_time": "2023-06-20T12:18:30.240Z"
   },
   {
    "duration": 365,
    "start_time": "2023-06-20T12:18:36.443Z"
   },
   {
    "duration": 156,
    "start_time": "2023-06-20T12:19:55.474Z"
   },
   {
    "duration": 159,
    "start_time": "2023-06-20T12:20:56.190Z"
   },
   {
    "duration": 173,
    "start_time": "2023-06-20T12:21:39.606Z"
   },
   {
    "duration": 177,
    "start_time": "2023-06-20T12:22:26.829Z"
   },
   {
    "duration": 212,
    "start_time": "2023-06-20T12:25:57.695Z"
   },
   {
    "duration": 329,
    "start_time": "2023-06-20T12:26:06.219Z"
   },
   {
    "duration": 171,
    "start_time": "2023-06-20T12:32:28.634Z"
   },
   {
    "duration": 198,
    "start_time": "2023-06-20T12:33:07.985Z"
   },
   {
    "duration": 199,
    "start_time": "2023-06-20T12:33:50.842Z"
   },
   {
    "duration": 222,
    "start_time": "2023-06-20T12:36:58.602Z"
   },
   {
    "duration": 223,
    "start_time": "2023-06-20T12:42:41.493Z"
   },
   {
    "duration": 174,
    "start_time": "2023-06-20T12:58:21.250Z"
   },
   {
    "duration": 167,
    "start_time": "2023-06-20T13:00:09.332Z"
   },
   {
    "duration": 191,
    "start_time": "2023-06-20T13:00:26.482Z"
   },
   {
    "duration": 165,
    "start_time": "2023-06-20T13:03:44.422Z"
   },
   {
    "duration": 137,
    "start_time": "2023-06-20T13:04:03.293Z"
   },
   {
    "duration": 19,
    "start_time": "2023-06-20T13:05:22.282Z"
   },
   {
    "duration": 36,
    "start_time": "2023-06-20T13:05:31.849Z"
   },
   {
    "duration": 19,
    "start_time": "2023-06-20T13:05:48.500Z"
   },
   {
    "duration": 264,
    "start_time": "2023-06-20T13:06:16.428Z"
   },
   {
    "duration": 173,
    "start_time": "2023-06-20T13:06:29.439Z"
   },
   {
    "duration": 11,
    "start_time": "2023-06-20T13:07:45.117Z"
   },
   {
    "duration": 11,
    "start_time": "2023-06-20T13:07:53.824Z"
   },
   {
    "duration": 15,
    "start_time": "2023-06-20T13:08:01.396Z"
   },
   {
    "duration": 196,
    "start_time": "2023-06-20T13:08:17.723Z"
   },
   {
    "duration": 271,
    "start_time": "2023-06-20T13:08:25.430Z"
   },
   {
    "duration": 159,
    "start_time": "2023-06-20T13:08:38.115Z"
   },
   {
    "duration": 165,
    "start_time": "2023-06-20T13:08:48.627Z"
   },
   {
    "duration": 191,
    "start_time": "2023-06-20T13:08:53.244Z"
   },
   {
    "duration": 233,
    "start_time": "2023-06-20T13:09:55.071Z"
   },
   {
    "duration": 151,
    "start_time": "2023-06-20T13:10:19.795Z"
   },
   {
    "duration": 172,
    "start_time": "2023-06-20T13:10:52.013Z"
   },
   {
    "duration": 219,
    "start_time": "2023-06-20T13:11:30.011Z"
   },
   {
    "duration": 99,
    "start_time": "2023-06-20T13:12:03.313Z"
   },
   {
    "duration": 1428,
    "start_time": "2023-06-20T13:12:12.302Z"
   },
   {
    "duration": 115,
    "start_time": "2023-06-20T13:12:13.733Z"
   },
   {
    "duration": 35,
    "start_time": "2023-06-20T13:12:13.850Z"
   },
   {
    "duration": 22,
    "start_time": "2023-06-20T13:12:13.894Z"
   },
   {
    "duration": 38,
    "start_time": "2023-06-20T13:12:13.918Z"
   },
   {
    "duration": 7,
    "start_time": "2023-06-20T13:12:13.964Z"
   },
   {
    "duration": 7,
    "start_time": "2023-06-20T13:12:13.975Z"
   },
   {
    "duration": 31,
    "start_time": "2023-06-20T13:12:13.983Z"
   },
   {
    "duration": 8,
    "start_time": "2023-06-20T13:12:14.019Z"
   },
   {
    "duration": 14,
    "start_time": "2023-06-20T13:12:14.029Z"
   },
   {
    "duration": 37,
    "start_time": "2023-06-20T13:12:14.045Z"
   },
   {
    "duration": 263,
    "start_time": "2023-06-20T13:12:14.084Z"
   },
   {
    "duration": 49,
    "start_time": "2023-06-20T13:12:14.349Z"
   },
   {
    "duration": 630,
    "start_time": "2023-06-20T13:12:14.401Z"
   },
   {
    "duration": 33,
    "start_time": "2023-06-20T13:12:15.033Z"
   },
   {
    "duration": 756,
    "start_time": "2023-06-20T13:12:15.068Z"
   },
   {
    "duration": 192,
    "start_time": "2023-06-20T13:12:15.826Z"
   },
   {
    "duration": 7,
    "start_time": "2023-06-20T13:12:16.020Z"
   },
   {
    "duration": 285,
    "start_time": "2023-06-20T13:12:16.029Z"
   },
   {
    "duration": 8,
    "start_time": "2023-06-20T13:12:16.317Z"
   },
   {
    "duration": 339,
    "start_time": "2023-06-20T13:12:16.328Z"
   },
   {
    "duration": 389,
    "start_time": "2023-06-20T13:12:16.670Z"
   },
   {
    "duration": 205,
    "start_time": "2023-06-20T13:12:17.061Z"
   },
   {
    "duration": 259,
    "start_time": "2023-06-20T13:12:17.268Z"
   },
   {
    "duration": 205,
    "start_time": "2023-06-20T13:12:17.529Z"
   },
   {
    "duration": 224,
    "start_time": "2023-06-20T13:12:17.737Z"
   },
   {
    "duration": 282,
    "start_time": "2023-06-20T13:12:17.963Z"
   },
   {
    "duration": 203,
    "start_time": "2023-06-20T13:12:18.247Z"
   },
   {
    "duration": 231,
    "start_time": "2023-06-20T13:12:18.452Z"
   },
   {
    "duration": 247,
    "start_time": "2023-06-20T13:12:18.687Z"
   },
   {
    "duration": 214,
    "start_time": "2023-06-20T13:12:18.936Z"
   },
   {
    "duration": 112,
    "start_time": "2023-06-20T14:36:08.480Z"
   },
   {
    "duration": 62,
    "start_time": "2023-06-20T14:36:36.783Z"
   },
   {
    "duration": 16,
    "start_time": "2023-06-20T14:36:39.674Z"
   },
   {
    "duration": 6,
    "start_time": "2023-06-20T14:36:43.472Z"
   },
   {
    "duration": 88,
    "start_time": "2023-06-20T14:36:51.110Z"
   },
   {
    "duration": 14,
    "start_time": "2023-06-20T14:36:56.038Z"
   },
   {
    "duration": 1162,
    "start_time": "2023-06-20T14:37:03.899Z"
   },
   {
    "duration": 218,
    "start_time": "2023-06-20T14:37:05.066Z"
   },
   {
    "duration": 14,
    "start_time": "2023-06-20T14:37:05.287Z"
   },
   {
    "duration": 32,
    "start_time": "2023-06-20T14:37:05.303Z"
   },
   {
    "duration": 56,
    "start_time": "2023-06-20T14:37:05.337Z"
   },
   {
    "duration": 4,
    "start_time": "2023-06-20T14:37:05.394Z"
   },
   {
    "duration": 7,
    "start_time": "2023-06-20T14:37:05.400Z"
   },
   {
    "duration": 17,
    "start_time": "2023-06-20T14:37:05.409Z"
   },
   {
    "duration": 4,
    "start_time": "2023-06-20T14:37:05.428Z"
   },
   {
    "duration": 38,
    "start_time": "2023-06-20T14:37:05.435Z"
   },
   {
    "duration": 17,
    "start_time": "2023-06-20T14:37:05.476Z"
   },
   {
    "duration": 167,
    "start_time": "2023-06-20T14:37:05.495Z"
   },
   {
    "duration": 30,
    "start_time": "2023-06-20T14:37:05.666Z"
   },
   {
    "duration": 315,
    "start_time": "2023-06-20T14:37:05.698Z"
   },
   {
    "duration": 9,
    "start_time": "2023-06-20T14:37:06.014Z"
   },
   {
    "duration": 648,
    "start_time": "2023-06-20T14:37:06.025Z"
   },
   {
    "duration": 165,
    "start_time": "2023-06-20T14:37:06.676Z"
   },
   {
    "duration": 23,
    "start_time": "2023-06-20T14:37:06.843Z"
   },
   {
    "duration": 168,
    "start_time": "2023-06-20T14:37:06.867Z"
   },
   {
    "duration": 5,
    "start_time": "2023-06-20T14:37:07.037Z"
   },
   {
    "duration": 191,
    "start_time": "2023-06-20T14:37:07.043Z"
   },
   {
    "duration": 375,
    "start_time": "2023-06-20T14:37:07.236Z"
   },
   {
    "duration": 212,
    "start_time": "2023-06-20T14:37:07.612Z"
   },
   {
    "duration": 292,
    "start_time": "2023-06-20T14:37:07.826Z"
   },
   {
    "duration": 203,
    "start_time": "2023-06-20T14:37:08.120Z"
   },
   {
    "duration": 197,
    "start_time": "2023-06-20T14:37:08.325Z"
   },
   {
    "duration": 206,
    "start_time": "2023-06-20T14:37:08.523Z"
   },
   {
    "duration": 161,
    "start_time": "2023-06-20T14:37:08.732Z"
   },
   {
    "duration": 176,
    "start_time": "2023-06-20T14:37:08.894Z"
   },
   {
    "duration": 198,
    "start_time": "2023-06-20T14:37:09.074Z"
   },
   {
    "duration": 150,
    "start_time": "2023-06-20T14:37:09.276Z"
   },
   {
    "duration": 118,
    "start_time": "2023-06-20T14:37:09.428Z"
   },
   {
    "duration": 0,
    "start_time": "2023-06-20T14:37:09.548Z"
   },
   {
    "duration": 0,
    "start_time": "2023-06-20T14:37:09.553Z"
   },
   {
    "duration": 10,
    "start_time": "2023-06-20T14:37:26.738Z"
   },
   {
    "duration": 9,
    "start_time": "2023-06-20T14:37:30.027Z"
   },
   {
    "duration": 6,
    "start_time": "2023-06-20T14:38:10.992Z"
   },
   {
    "duration": 7,
    "start_time": "2023-06-20T14:38:12.417Z"
   },
   {
    "duration": 6,
    "start_time": "2023-06-20T14:38:12.692Z"
   },
   {
    "duration": 7,
    "start_time": "2023-06-20T14:38:12.907Z"
   },
   {
    "duration": 8,
    "start_time": "2023-06-20T14:38:13.077Z"
   },
   {
    "duration": 1138,
    "start_time": "2023-06-20T14:38:20.819Z"
   },
   {
    "duration": 77,
    "start_time": "2023-06-20T14:38:21.961Z"
   },
   {
    "duration": 13,
    "start_time": "2023-06-20T14:38:22.039Z"
   },
   {
    "duration": 26,
    "start_time": "2023-06-20T14:38:22.054Z"
   },
   {
    "duration": 36,
    "start_time": "2023-06-20T14:38:22.083Z"
   },
   {
    "duration": 3,
    "start_time": "2023-06-20T14:38:22.120Z"
   },
   {
    "duration": 9,
    "start_time": "2023-06-20T14:38:22.125Z"
   },
   {
    "duration": 46,
    "start_time": "2023-06-20T14:38:22.135Z"
   },
   {
    "duration": 5,
    "start_time": "2023-06-20T14:38:22.182Z"
   },
   {
    "duration": 33,
    "start_time": "2023-06-20T14:38:22.188Z"
   },
   {
    "duration": 33,
    "start_time": "2023-06-20T14:38:22.222Z"
   },
   {
    "duration": 156,
    "start_time": "2023-06-20T14:38:22.262Z"
   },
   {
    "duration": 37,
    "start_time": "2023-06-20T14:38:22.420Z"
   },
   {
    "duration": 323,
    "start_time": "2023-06-20T14:38:22.463Z"
   },
   {
    "duration": 10,
    "start_time": "2023-06-20T14:38:22.789Z"
   },
   {
    "duration": 591,
    "start_time": "2023-06-20T14:38:22.801Z"
   },
   {
    "duration": 156,
    "start_time": "2023-06-20T14:38:23.393Z"
   },
   {
    "duration": 7,
    "start_time": "2023-06-20T14:38:23.556Z"
   },
   {
    "duration": 201,
    "start_time": "2023-06-20T14:38:23.564Z"
   },
   {
    "duration": 6,
    "start_time": "2023-06-20T14:38:23.769Z"
   },
   {
    "duration": 290,
    "start_time": "2023-06-20T14:38:23.779Z"
   },
   {
    "duration": 235,
    "start_time": "2023-06-20T14:38:24.075Z"
   },
   {
    "duration": 208,
    "start_time": "2023-06-20T14:38:24.311Z"
   },
   {
    "duration": 222,
    "start_time": "2023-06-20T14:38:24.521Z"
   },
   {
    "duration": 177,
    "start_time": "2023-06-20T14:38:24.745Z"
   },
   {
    "duration": 196,
    "start_time": "2023-06-20T14:38:24.924Z"
   },
   {
    "duration": 199,
    "start_time": "2023-06-20T14:38:25.122Z"
   },
   {
    "duration": 158,
    "start_time": "2023-06-20T14:38:25.322Z"
   },
   {
    "duration": 168,
    "start_time": "2023-06-20T14:38:25.484Z"
   },
   {
    "duration": 214,
    "start_time": "2023-06-20T14:38:25.653Z"
   },
   {
    "duration": 167,
    "start_time": "2023-06-20T14:38:25.871Z"
   },
   {
    "duration": 6,
    "start_time": "2023-06-20T14:38:26.040Z"
   },
   {
    "duration": 94,
    "start_time": "2023-06-20T14:38:26.057Z"
   },
   {
    "duration": 0,
    "start_time": "2023-06-20T14:38:26.155Z"
   },
   {
    "duration": 7,
    "start_time": "2023-06-20T14:43:42.143Z"
   },
   {
    "duration": 6,
    "start_time": "2023-06-20T14:43:43.829Z"
   },
   {
    "duration": 10,
    "start_time": "2023-06-20T14:43:44.052Z"
   },
   {
    "duration": 10,
    "start_time": "2023-06-20T14:43:44.281Z"
   },
   {
    "duration": 1149,
    "start_time": "2023-06-20T14:43:51.677Z"
   },
   {
    "duration": 83,
    "start_time": "2023-06-20T14:43:52.828Z"
   },
   {
    "duration": 12,
    "start_time": "2023-06-20T14:43:52.913Z"
   },
   {
    "duration": 14,
    "start_time": "2023-06-20T14:43:52.926Z"
   },
   {
    "duration": 37,
    "start_time": "2023-06-20T14:43:52.957Z"
   },
   {
    "duration": 4,
    "start_time": "2023-06-20T14:43:52.998Z"
   },
   {
    "duration": 6,
    "start_time": "2023-06-20T14:43:53.003Z"
   },
   {
    "duration": 39,
    "start_time": "2023-06-20T14:43:53.010Z"
   },
   {
    "duration": 17,
    "start_time": "2023-06-20T14:43:53.050Z"
   },
   {
    "duration": 15,
    "start_time": "2023-06-20T14:43:53.071Z"
   },
   {
    "duration": 17,
    "start_time": "2023-06-20T14:43:53.091Z"
   },
   {
    "duration": 185,
    "start_time": "2023-06-20T14:43:53.109Z"
   },
   {
    "duration": 20,
    "start_time": "2023-06-20T14:43:53.298Z"
   },
   {
    "duration": 329,
    "start_time": "2023-06-20T14:43:53.320Z"
   },
   {
    "duration": 23,
    "start_time": "2023-06-20T14:43:53.653Z"
   },
   {
    "duration": 574,
    "start_time": "2023-06-20T14:43:53.679Z"
   },
   {
    "duration": 167,
    "start_time": "2023-06-20T14:43:54.258Z"
   },
   {
    "duration": 5,
    "start_time": "2023-06-20T14:43:54.426Z"
   },
   {
    "duration": 186,
    "start_time": "2023-06-20T14:43:54.433Z"
   },
   {
    "duration": 6,
    "start_time": "2023-06-20T14:43:54.620Z"
   },
   {
    "duration": 195,
    "start_time": "2023-06-20T14:43:54.628Z"
   },
   {
    "duration": 300,
    "start_time": "2023-06-20T14:43:54.825Z"
   },
   {
    "duration": 181,
    "start_time": "2023-06-20T14:43:55.127Z"
   },
   {
    "duration": 217,
    "start_time": "2023-06-20T14:43:55.310Z"
   },
   {
    "duration": 172,
    "start_time": "2023-06-20T14:43:55.528Z"
   },
   {
    "duration": 192,
    "start_time": "2023-06-20T14:43:55.702Z"
   },
   {
    "duration": 204,
    "start_time": "2023-06-20T14:43:55.896Z"
   },
   {
    "duration": 142,
    "start_time": "2023-06-20T14:43:56.102Z"
   },
   {
    "duration": 187,
    "start_time": "2023-06-20T14:43:56.246Z"
   },
   {
    "duration": 233,
    "start_time": "2023-06-20T14:43:56.435Z"
   },
   {
    "duration": 169,
    "start_time": "2023-06-20T14:43:56.671Z"
   },
   {
    "duration": 21,
    "start_time": "2023-06-20T14:43:56.842Z"
   },
   {
    "duration": 112,
    "start_time": "2023-06-20T14:43:56.864Z"
   },
   {
    "duration": 9,
    "start_time": "2023-06-20T14:47:32.331Z"
   },
   {
    "duration": 11,
    "start_time": "2023-06-20T14:47:45.002Z"
   },
   {
    "duration": 7,
    "start_time": "2023-06-20T14:47:48.342Z"
   },
   {
    "duration": 90,
    "start_time": "2023-06-20T14:48:28.062Z"
   },
   {
    "duration": 13,
    "start_time": "2023-06-20T14:50:31.849Z"
   },
   {
    "duration": 1292,
    "start_time": "2023-06-20T15:31:28.166Z"
   },
   {
    "duration": 119,
    "start_time": "2023-06-20T15:31:29.467Z"
   },
   {
    "duration": 30,
    "start_time": "2023-06-20T15:31:29.592Z"
   },
   {
    "duration": 15,
    "start_time": "2023-06-20T15:31:29.623Z"
   },
   {
    "duration": 53,
    "start_time": "2023-06-20T15:31:29.640Z"
   },
   {
    "duration": 8,
    "start_time": "2023-06-20T15:31:29.695Z"
   },
   {
    "duration": 13,
    "start_time": "2023-06-20T15:31:29.706Z"
   },
   {
    "duration": 18,
    "start_time": "2023-06-20T15:31:29.721Z"
   },
   {
    "duration": 5,
    "start_time": "2023-06-20T15:31:29.740Z"
   },
   {
    "duration": 19,
    "start_time": "2023-06-20T15:31:29.748Z"
   },
   {
    "duration": 30,
    "start_time": "2023-06-20T15:31:29.769Z"
   },
   {
    "duration": 219,
    "start_time": "2023-06-20T15:31:29.801Z"
   },
   {
    "duration": 20,
    "start_time": "2023-06-20T15:31:30.023Z"
   },
   {
    "duration": 393,
    "start_time": "2023-06-20T15:31:30.046Z"
   },
   {
    "duration": 32,
    "start_time": "2023-06-20T15:31:30.441Z"
   },
   {
    "duration": 689,
    "start_time": "2023-06-20T15:31:30.480Z"
   },
   {
    "duration": 171,
    "start_time": "2023-06-20T15:31:31.170Z"
   },
   {
    "duration": 5,
    "start_time": "2023-06-20T15:31:31.343Z"
   },
   {
    "duration": 220,
    "start_time": "2023-06-20T15:31:31.357Z"
   },
   {
    "duration": 19,
    "start_time": "2023-06-20T15:31:31.586Z"
   },
   {
    "duration": 213,
    "start_time": "2023-06-20T15:31:31.611Z"
   },
   {
    "duration": 338,
    "start_time": "2023-06-20T15:31:31.826Z"
   },
   {
    "duration": 218,
    "start_time": "2023-06-20T15:31:32.173Z"
   },
   {
    "duration": 243,
    "start_time": "2023-06-20T15:31:32.393Z"
   },
   {
    "duration": 193,
    "start_time": "2023-06-20T15:31:32.638Z"
   },
   {
    "duration": 189,
    "start_time": "2023-06-20T15:31:32.832Z"
   },
   {
    "duration": 225,
    "start_time": "2023-06-20T15:31:33.023Z"
   },
   {
    "duration": 174,
    "start_time": "2023-06-20T15:31:33.249Z"
   },
   {
    "duration": 194,
    "start_time": "2023-06-20T15:31:33.425Z"
   },
   {
    "duration": 220,
    "start_time": "2023-06-20T15:31:33.621Z"
   },
   {
    "duration": 180,
    "start_time": "2023-06-20T15:31:33.843Z"
   },
   {
    "duration": 7,
    "start_time": "2023-06-20T15:31:34.025Z"
   },
   {
    "duration": 19,
    "start_time": "2023-06-20T15:31:34.034Z"
   },
   {
    "duration": 120,
    "start_time": "2023-06-21T10:24:44.682Z"
   },
   {
    "duration": 2092,
    "start_time": "2023-06-21T10:24:53.668Z"
   },
   {
    "duration": 390,
    "start_time": "2023-06-21T10:24:55.762Z"
   },
   {
    "duration": 23,
    "start_time": "2023-06-21T10:24:56.154Z"
   },
   {
    "duration": 169,
    "start_time": "2023-06-21T10:24:56.179Z"
   },
   {
    "duration": 133,
    "start_time": "2023-06-21T10:24:56.351Z"
   },
   {
    "duration": 22,
    "start_time": "2023-06-21T10:24:56.487Z"
   },
   {
    "duration": 89,
    "start_time": "2023-06-21T10:24:56.513Z"
   },
   {
    "duration": 141,
    "start_time": "2023-06-21T10:24:56.604Z"
   },
   {
    "duration": 98,
    "start_time": "2023-06-21T10:24:56.747Z"
   },
   {
    "duration": 130,
    "start_time": "2023-06-21T10:24:56.847Z"
   },
   {
    "duration": 182,
    "start_time": "2023-06-21T10:24:56.979Z"
   },
   {
    "duration": 705,
    "start_time": "2023-06-21T10:24:57.163Z"
   },
   {
    "duration": 134,
    "start_time": "2023-06-21T10:24:57.871Z"
   },
   {
    "duration": 1020,
    "start_time": "2023-06-21T10:24:58.013Z"
   },
   {
    "duration": 54,
    "start_time": "2023-06-21T10:24:59.035Z"
   },
   {
    "duration": 1303,
    "start_time": "2023-06-21T10:24:59.098Z"
   },
   {
    "duration": 284,
    "start_time": "2023-06-21T10:25:00.405Z"
   },
   {
    "duration": 6,
    "start_time": "2023-06-21T10:25:00.691Z"
   },
   {
    "duration": 472,
    "start_time": "2023-06-21T10:25:00.699Z"
   },
   {
    "duration": 15,
    "start_time": "2023-06-21T10:25:01.175Z"
   },
   {
    "duration": 468,
    "start_time": "2023-06-21T10:25:01.193Z"
   },
   {
    "duration": 305,
    "start_time": "2023-06-21T10:25:01.667Z"
   },
   {
    "duration": 241,
    "start_time": "2023-06-21T10:25:01.978Z"
   },
   {
    "duration": 291,
    "start_time": "2023-06-21T10:25:02.225Z"
   },
   {
    "duration": 287,
    "start_time": "2023-06-21T10:25:02.523Z"
   },
   {
    "duration": 359,
    "start_time": "2023-06-21T10:25:02.820Z"
   },
   {
    "duration": 330,
    "start_time": "2023-06-21T10:25:03.184Z"
   },
   {
    "duration": 225,
    "start_time": "2023-06-21T10:25:03.521Z"
   },
   {
    "duration": 251,
    "start_time": "2023-06-21T10:25:03.749Z"
   },
   {
    "duration": 327,
    "start_time": "2023-06-21T10:25:04.006Z"
   },
   {
    "duration": 261,
    "start_time": "2023-06-21T10:25:04.339Z"
   },
   {
    "duration": 40,
    "start_time": "2023-06-21T10:25:04.607Z"
   },
   {
    "duration": 87,
    "start_time": "2023-06-21T10:25:04.651Z"
   },
   {
    "duration": 741,
    "start_time": "2023-06-21T10:25:15.209Z"
   },
   {
    "duration": 173,
    "start_time": "2023-06-21T10:49:28.191Z"
   },
   {
    "duration": 157,
    "start_time": "2023-06-21T10:49:33.390Z"
   },
   {
    "duration": 147,
    "start_time": "2023-06-21T10:49:41.891Z"
   },
   {
    "duration": 168,
    "start_time": "2023-06-21T10:49:52.743Z"
   },
   {
    "duration": 179,
    "start_time": "2023-06-21T10:49:57.643Z"
   },
   {
    "duration": 212,
    "start_time": "2023-06-21T10:50:47.870Z"
   },
   {
    "duration": 202,
    "start_time": "2023-06-21T10:50:56.067Z"
   },
   {
    "duration": 195,
    "start_time": "2023-06-21T10:51:02.955Z"
   },
   {
    "duration": 257,
    "start_time": "2023-06-21T10:53:55.304Z"
   },
   {
    "duration": 242,
    "start_time": "2023-06-21T10:54:08.967Z"
   },
   {
    "duration": 4466,
    "start_time": "2023-06-21T11:28:25.820Z"
   },
   {
    "duration": 1983,
    "start_time": "2023-06-21T11:31:12.830Z"
   },
   {
    "duration": 2250,
    "start_time": "2023-06-21T12:07:04.973Z"
   },
   {
    "duration": 3107,
    "start_time": "2023-06-21T13:21:47.410Z"
   },
   {
    "duration": 8590,
    "start_time": "2023-06-21T13:22:39.491Z"
   },
   {
    "duration": 2438,
    "start_time": "2023-06-21T13:22:54.347Z"
   },
   {
    "duration": 3989,
    "start_time": "2023-06-21T13:23:46.342Z"
   },
   {
    "duration": 3201,
    "start_time": "2023-06-21T13:25:36.251Z"
   },
   {
    "duration": 3686,
    "start_time": "2023-06-21T13:27:58.266Z"
   },
   {
    "duration": 3647,
    "start_time": "2023-06-21T13:28:46.110Z"
   },
   {
    "duration": 4103,
    "start_time": "2023-06-21T13:30:44.302Z"
   },
   {
    "duration": 1640,
    "start_time": "2023-06-21T13:35:15.145Z"
   },
   {
    "duration": 2159,
    "start_time": "2023-06-21T13:35:38.474Z"
   },
   {
    "duration": 2850,
    "start_time": "2023-06-21T13:35:51.929Z"
   },
   {
    "duration": 2374,
    "start_time": "2023-06-21T13:38:00.215Z"
   },
   {
    "duration": 2247,
    "start_time": "2023-06-21T13:39:09.003Z"
   },
   {
    "duration": 2577,
    "start_time": "2023-06-21T13:43:12.830Z"
   },
   {
    "duration": 4279,
    "start_time": "2023-06-21T13:43:54.316Z"
   },
   {
    "duration": 2538,
    "start_time": "2023-06-21T13:44:13.815Z"
   },
   {
    "duration": 2295,
    "start_time": "2023-06-21T13:51:13.133Z"
   },
   {
    "duration": 2316,
    "start_time": "2023-06-21T14:04:55.613Z"
   },
   {
    "duration": 2171,
    "start_time": "2023-06-21T14:07:11.616Z"
   },
   {
    "duration": 2452,
    "start_time": "2023-06-21T14:11:12.878Z"
   },
   {
    "duration": 249,
    "start_time": "2023-06-21T14:14:50.095Z"
   },
   {
    "duration": 297,
    "start_time": "2023-06-21T14:19:35.912Z"
   },
   {
    "duration": 396,
    "start_time": "2023-06-21T14:21:16.125Z"
   },
   {
    "duration": 385,
    "start_time": "2023-06-21T14:21:33.146Z"
   },
   {
    "duration": 1777,
    "start_time": "2023-06-21T14:22:46.078Z"
   },
   {
    "duration": 277,
    "start_time": "2023-06-21T14:22:47.864Z"
   },
   {
    "duration": 25,
    "start_time": "2023-06-21T14:22:48.143Z"
   },
   {
    "duration": 185,
    "start_time": "2023-06-21T14:22:48.180Z"
   },
   {
    "duration": 160,
    "start_time": "2023-06-21T14:22:48.369Z"
   },
   {
    "duration": 20,
    "start_time": "2023-06-21T14:22:48.531Z"
   },
   {
    "duration": 112,
    "start_time": "2023-06-21T14:22:48.553Z"
   },
   {
    "duration": 148,
    "start_time": "2023-06-21T14:22:48.667Z"
   },
   {
    "duration": 40,
    "start_time": "2023-06-21T14:22:48.818Z"
   },
   {
    "duration": 101,
    "start_time": "2023-06-21T14:22:48.860Z"
   },
   {
    "duration": 92,
    "start_time": "2023-06-21T14:22:48.969Z"
   },
   {
    "duration": 419,
    "start_time": "2023-06-21T14:22:49.064Z"
   },
   {
    "duration": 276,
    "start_time": "2023-06-21T14:22:49.495Z"
   },
   {
    "duration": 460,
    "start_time": "2023-06-21T14:22:49.776Z"
   },
   {
    "duration": 4461,
    "start_time": "2023-06-21T14:22:50.238Z"
   },
   {
    "duration": 20,
    "start_time": "2023-06-21T14:22:54.709Z"
   },
   {
    "duration": 1140,
    "start_time": "2023-06-21T14:22:54.731Z"
   },
   {
    "duration": 264,
    "start_time": "2023-06-21T14:22:55.885Z"
   },
   {
    "duration": 7,
    "start_time": "2023-06-21T14:22:56.151Z"
   },
   {
    "duration": 338,
    "start_time": "2023-06-21T14:22:56.160Z"
   },
   {
    "duration": 11,
    "start_time": "2023-06-21T14:22:56.500Z"
   },
   {
    "duration": 366,
    "start_time": "2023-06-21T14:22:56.513Z"
   },
   {
    "duration": 329,
    "start_time": "2023-06-21T14:22:56.885Z"
   },
   {
    "duration": 359,
    "start_time": "2023-06-21T14:22:57.224Z"
   },
   {
    "duration": 281,
    "start_time": "2023-06-21T14:22:57.585Z"
   },
   {
    "duration": 338,
    "start_time": "2023-06-21T14:22:57.868Z"
   },
   {
    "duration": 284,
    "start_time": "2023-06-21T14:22:58.215Z"
   },
   {
    "duration": 426,
    "start_time": "2023-06-21T14:22:58.509Z"
   },
   {
    "duration": 321,
    "start_time": "2023-06-21T14:22:58.938Z"
   },
   {
    "duration": 292,
    "start_time": "2023-06-21T14:22:59.270Z"
   },
   {
    "duration": 281,
    "start_time": "2023-06-21T14:22:59.571Z"
   },
   {
    "duration": 333,
    "start_time": "2023-06-21T14:22:59.854Z"
   },
   {
    "duration": 249,
    "start_time": "2023-06-21T14:23:00.194Z"
   },
   {
    "duration": 41,
    "start_time": "2023-06-21T14:23:00.451Z"
   },
   {
    "duration": 289,
    "start_time": "2023-06-21T14:23:00.500Z"
   },
   {
    "duration": 370,
    "start_time": "2023-06-21T14:23:24.815Z"
   },
   {
    "duration": 339,
    "start_time": "2023-06-21T14:23:47.871Z"
   },
   {
    "duration": 350,
    "start_time": "2023-06-21T14:23:54.919Z"
   },
   {
    "duration": 318,
    "start_time": "2023-06-21T14:24:25.930Z"
   },
   {
    "duration": 356,
    "start_time": "2023-06-21T14:24:56.918Z"
   },
   {
    "duration": 434,
    "start_time": "2023-06-21T14:25:19.415Z"
   },
   {
    "duration": 340,
    "start_time": "2023-06-21T14:29:24.749Z"
   },
   {
    "duration": 399,
    "start_time": "2023-06-21T14:29:37.351Z"
   },
   {
    "duration": 1545,
    "start_time": "2023-06-21T14:31:53.816Z"
   },
   {
    "duration": 149,
    "start_time": "2023-06-21T14:31:55.368Z"
   },
   {
    "duration": 19,
    "start_time": "2023-06-21T14:31:55.521Z"
   },
   {
    "duration": 96,
    "start_time": "2023-06-21T14:31:55.542Z"
   },
   {
    "duration": 104,
    "start_time": "2023-06-21T14:31:55.642Z"
   },
   {
    "duration": 95,
    "start_time": "2023-06-21T14:31:55.748Z"
   },
   {
    "duration": 96,
    "start_time": "2023-06-21T14:31:55.845Z"
   },
   {
    "duration": 119,
    "start_time": "2023-06-21T14:31:55.943Z"
   },
   {
    "duration": 82,
    "start_time": "2023-06-21T14:31:56.068Z"
   },
   {
    "duration": 91,
    "start_time": "2023-06-21T14:31:56.152Z"
   },
   {
    "duration": 204,
    "start_time": "2023-06-21T14:31:56.245Z"
   },
   {
    "duration": 373,
    "start_time": "2023-06-21T14:31:56.451Z"
   },
   {
    "duration": 283,
    "start_time": "2023-06-21T14:31:56.826Z"
   },
   {
    "duration": 672,
    "start_time": "2023-06-21T14:31:57.113Z"
   },
   {
    "duration": 4055,
    "start_time": "2023-06-21T14:31:57.788Z"
   },
   {
    "duration": 21,
    "start_time": "2023-06-21T14:32:01.845Z"
   },
   {
    "duration": 1073,
    "start_time": "2023-06-21T14:32:01.870Z"
   },
   {
    "duration": 238,
    "start_time": "2023-06-21T14:32:02.945Z"
   },
   {
    "duration": 6,
    "start_time": "2023-06-21T14:32:03.190Z"
   },
   {
    "duration": 369,
    "start_time": "2023-06-21T14:32:03.203Z"
   },
   {
    "duration": 17,
    "start_time": "2023-06-21T14:32:03.573Z"
   },
   {
    "duration": 333,
    "start_time": "2023-06-21T14:32:03.596Z"
   },
   {
    "duration": 303,
    "start_time": "2023-06-21T14:32:03.931Z"
   },
   {
    "duration": 310,
    "start_time": "2023-06-21T14:32:04.236Z"
   },
   {
    "duration": 263,
    "start_time": "2023-06-21T14:32:04.548Z"
   },
   {
    "duration": 311,
    "start_time": "2023-06-21T14:32:04.821Z"
   },
   {
    "duration": 247,
    "start_time": "2023-06-21T14:32:05.134Z"
   },
   {
    "duration": 414,
    "start_time": "2023-06-21T14:32:05.384Z"
   },
   {
    "duration": 277,
    "start_time": "2023-06-21T14:32:05.802Z"
   },
   {
    "duration": 208,
    "start_time": "2023-06-21T14:32:06.083Z"
   },
   {
    "duration": 220,
    "start_time": "2023-06-21T14:32:06.297Z"
   },
   {
    "duration": 283,
    "start_time": "2023-06-21T14:32:06.520Z"
   },
   {
    "duration": 241,
    "start_time": "2023-06-21T14:32:06.807Z"
   },
   {
    "duration": 17,
    "start_time": "2023-06-21T14:32:07.050Z"
   },
   {
    "duration": 75,
    "start_time": "2023-06-21T14:32:07.071Z"
   },
   {
    "duration": 324,
    "start_time": "2023-06-21T14:32:35.253Z"
   },
   {
    "duration": 605,
    "start_time": "2023-06-21T14:38:00.786Z"
   },
   {
    "duration": 600,
    "start_time": "2023-06-21T14:38:43.431Z"
   },
   {
    "duration": 784,
    "start_time": "2023-06-21T14:39:16.433Z"
   },
   {
    "duration": 510,
    "start_time": "2023-06-21T14:41:23.178Z"
   }
  ],
  "kernelspec": {
   "display_name": "Python 3 (ipykernel)",
   "language": "python",
   "name": "python3"
  },
  "language_info": {
   "codemirror_mode": {
    "name": "ipython",
    "version": 3
   },
   "file_extension": ".py",
   "mimetype": "text/x-python",
   "name": "python",
   "nbconvert_exporter": "python",
   "pygments_lexer": "ipython3",
   "version": "3.10.9"
  },
  "toc": {
   "base_numbering": 1,
   "nav_menu": {},
   "number_sections": true,
   "sideBar": true,
   "skip_h1_title": true,
   "title_cell": "Table of Contents",
   "title_sidebar": "Contents",
   "toc_cell": false,
   "toc_position": {
    "height": "calc(100% - 180px)",
    "left": "10px",
    "top": "150px",
    "width": "328.347px"
   },
   "toc_section_display": true,
   "toc_window_display": false
  }
 },
 "nbformat": 4,
 "nbformat_minor": 2
}
