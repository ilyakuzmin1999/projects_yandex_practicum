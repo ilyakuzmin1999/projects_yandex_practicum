{
 "cells": [
  {
   "cell_type": "markdown",
   "metadata": {},
   "source": [
    "# Определение стоимости автомобилей"
   ]
  },
  {
   "cell_type": "markdown",
   "metadata": {},
   "source": [
    "Сервис по продаже автомобилей с пробегом «Не бит, не крашен» разрабатывает приложение для привлечения новых клиентов. В нём можно быстро узнать рыночную стоимость своего автомобиля. В вашем распоряжении исторические данные: технические характеристики, комплектации и цены автомобилей. Вам нужно построить модель для определения стоимости. \n",
    "\n",
    "Заказчику важны:\n",
    "\n",
    "- качество предсказания;\n",
    "- скорость предсказания;\n",
    "- время обучения."
   ]
  },
  {
   "cell_type": "code",
   "execution_count": 1,
   "metadata": {},
   "outputs": [],
   "source": [
    "import pandas as pd\n",
    "import numpy as np\n",
    "import matplotlib.pyplot as plt\n",
    "import seaborn as sns\n",
    "\n",
    "from sklearn.model_selection import train_test_split, GridSearchCV    \n",
    "from sklearn.metrics import mean_squared_error\n",
    "from sklearn.preprocessing import OrdinalEncoder\n",
    "\n",
    "from sklearn.tree import DecisionTreeRegressor\n",
    "from sklearn.dummy import DummyRegressor\n",
    "import lightgbm as lgb\n",
    "from catboost import CatBoostRegressor, Pool\n",
    "\n",
    "import warnings"
   ]
  },
  {
   "cell_type": "code",
   "execution_count": 2,
   "metadata": {},
   "outputs": [],
   "source": [
    "RANDOM_STATE = 12345"
   ]
  },
  {
   "cell_type": "code",
   "execution_count": 3,
   "metadata": {},
   "outputs": [],
   "source": [
    "warnings.filterwarnings(\"ignore\")"
   ]
  },
  {
   "cell_type": "markdown",
   "metadata": {},
   "source": [
    "## Подготовка данных"
   ]
  },
  {
   "cell_type": "markdown",
   "metadata": {},
   "source": [
    "### Предоработка данных"
   ]
  },
  {
   "cell_type": "code",
   "execution_count": 4,
   "metadata": {},
   "outputs": [
    {
     "data": {
      "text/html": [
       "<div>\n",
       "<style scoped>\n",
       "    .dataframe tbody tr th:only-of-type {\n",
       "        vertical-align: middle;\n",
       "    }\n",
       "\n",
       "    .dataframe tbody tr th {\n",
       "        vertical-align: top;\n",
       "    }\n",
       "\n",
       "    .dataframe thead th {\n",
       "        text-align: right;\n",
       "    }\n",
       "</style>\n",
       "<table border=\"1\" class=\"dataframe\">\n",
       "  <thead>\n",
       "    <tr style=\"text-align: right;\">\n",
       "      <th></th>\n",
       "      <th>DateCrawled</th>\n",
       "      <th>Price</th>\n",
       "      <th>VehicleType</th>\n",
       "      <th>RegistrationYear</th>\n",
       "      <th>Gearbox</th>\n",
       "      <th>Power</th>\n",
       "      <th>Model</th>\n",
       "      <th>Kilometer</th>\n",
       "      <th>RegistrationMonth</th>\n",
       "      <th>FuelType</th>\n",
       "      <th>Brand</th>\n",
       "      <th>Repaired</th>\n",
       "      <th>DateCreated</th>\n",
       "      <th>NumberOfPictures</th>\n",
       "      <th>PostalCode</th>\n",
       "      <th>LastSeen</th>\n",
       "    </tr>\n",
       "  </thead>\n",
       "  <tbody>\n",
       "    <tr>\n",
       "      <th>0</th>\n",
       "      <td>2016-03-24 11:52:17</td>\n",
       "      <td>480</td>\n",
       "      <td>NaN</td>\n",
       "      <td>1993</td>\n",
       "      <td>manual</td>\n",
       "      <td>0</td>\n",
       "      <td>golf</td>\n",
       "      <td>150000</td>\n",
       "      <td>0</td>\n",
       "      <td>petrol</td>\n",
       "      <td>volkswagen</td>\n",
       "      <td>NaN</td>\n",
       "      <td>2016-03-24 00:00:00</td>\n",
       "      <td>0</td>\n",
       "      <td>70435</td>\n",
       "      <td>2016-04-07 03:16:57</td>\n",
       "    </tr>\n",
       "    <tr>\n",
       "      <th>1</th>\n",
       "      <td>2016-03-24 10:58:45</td>\n",
       "      <td>18300</td>\n",
       "      <td>coupe</td>\n",
       "      <td>2011</td>\n",
       "      <td>manual</td>\n",
       "      <td>190</td>\n",
       "      <td>NaN</td>\n",
       "      <td>125000</td>\n",
       "      <td>5</td>\n",
       "      <td>gasoline</td>\n",
       "      <td>audi</td>\n",
       "      <td>yes</td>\n",
       "      <td>2016-03-24 00:00:00</td>\n",
       "      <td>0</td>\n",
       "      <td>66954</td>\n",
       "      <td>2016-04-07 01:46:50</td>\n",
       "    </tr>\n",
       "    <tr>\n",
       "      <th>2</th>\n",
       "      <td>2016-03-14 12:52:21</td>\n",
       "      <td>9800</td>\n",
       "      <td>suv</td>\n",
       "      <td>2004</td>\n",
       "      <td>auto</td>\n",
       "      <td>163</td>\n",
       "      <td>grand</td>\n",
       "      <td>125000</td>\n",
       "      <td>8</td>\n",
       "      <td>gasoline</td>\n",
       "      <td>jeep</td>\n",
       "      <td>NaN</td>\n",
       "      <td>2016-03-14 00:00:00</td>\n",
       "      <td>0</td>\n",
       "      <td>90480</td>\n",
       "      <td>2016-04-05 12:47:46</td>\n",
       "    </tr>\n",
       "    <tr>\n",
       "      <th>3</th>\n",
       "      <td>2016-03-17 16:54:04</td>\n",
       "      <td>1500</td>\n",
       "      <td>small</td>\n",
       "      <td>2001</td>\n",
       "      <td>manual</td>\n",
       "      <td>75</td>\n",
       "      <td>golf</td>\n",
       "      <td>150000</td>\n",
       "      <td>6</td>\n",
       "      <td>petrol</td>\n",
       "      <td>volkswagen</td>\n",
       "      <td>no</td>\n",
       "      <td>2016-03-17 00:00:00</td>\n",
       "      <td>0</td>\n",
       "      <td>91074</td>\n",
       "      <td>2016-03-17 17:40:17</td>\n",
       "    </tr>\n",
       "    <tr>\n",
       "      <th>4</th>\n",
       "      <td>2016-03-31 17:25:20</td>\n",
       "      <td>3600</td>\n",
       "      <td>small</td>\n",
       "      <td>2008</td>\n",
       "      <td>manual</td>\n",
       "      <td>69</td>\n",
       "      <td>fabia</td>\n",
       "      <td>90000</td>\n",
       "      <td>7</td>\n",
       "      <td>gasoline</td>\n",
       "      <td>skoda</td>\n",
       "      <td>no</td>\n",
       "      <td>2016-03-31 00:00:00</td>\n",
       "      <td>0</td>\n",
       "      <td>60437</td>\n",
       "      <td>2016-04-06 10:17:21</td>\n",
       "    </tr>\n",
       "  </tbody>\n",
       "</table>\n",
       "</div>"
      ],
      "text/plain": [
       "           DateCrawled  Price VehicleType  RegistrationYear Gearbox  Power  \\\n",
       "0  2016-03-24 11:52:17    480         NaN              1993  manual      0   \n",
       "1  2016-03-24 10:58:45  18300       coupe              2011  manual    190   \n",
       "2  2016-03-14 12:52:21   9800         suv              2004    auto    163   \n",
       "3  2016-03-17 16:54:04   1500       small              2001  manual     75   \n",
       "4  2016-03-31 17:25:20   3600       small              2008  manual     69   \n",
       "\n",
       "   Model  Kilometer  RegistrationMonth  FuelType       Brand Repaired  \\\n",
       "0   golf     150000                  0    petrol  volkswagen      NaN   \n",
       "1    NaN     125000                  5  gasoline        audi      yes   \n",
       "2  grand     125000                  8  gasoline        jeep      NaN   \n",
       "3   golf     150000                  6    petrol  volkswagen       no   \n",
       "4  fabia      90000                  7  gasoline       skoda       no   \n",
       "\n",
       "           DateCreated  NumberOfPictures  PostalCode             LastSeen  \n",
       "0  2016-03-24 00:00:00                 0       70435  2016-04-07 03:16:57  \n",
       "1  2016-03-24 00:00:00                 0       66954  2016-04-07 01:46:50  \n",
       "2  2016-03-14 00:00:00                 0       90480  2016-04-05 12:47:46  \n",
       "3  2016-03-17 00:00:00                 0       91074  2016-03-17 17:40:17  \n",
       "4  2016-03-31 00:00:00                 0       60437  2016-04-06 10:17:21  "
      ]
     },
     "execution_count": 4,
     "metadata": {},
     "output_type": "execute_result"
    }
   ],
   "source": [
    "try:\n",
    "    df = pd.read_csv('/datasets/autos.csv')\n",
    "except:\n",
    "    df = pd.read_csv('https://code.s3.yandex.net/datasets/autos.csv')\n",
    "df.head()"
   ]
  },
  {
   "cell_type": "code",
   "execution_count": 5,
   "metadata": {},
   "outputs": [
    {
     "name": "stdout",
     "output_type": "stream",
     "text": [
      "<class 'pandas.core.frame.DataFrame'>\n",
      "RangeIndex: 354369 entries, 0 to 354368\n",
      "Data columns (total 16 columns):\n",
      " #   Column             Non-Null Count   Dtype \n",
      "---  ------             --------------   ----- \n",
      " 0   DateCrawled        354369 non-null  object\n",
      " 1   Price              354369 non-null  int64 \n",
      " 2   VehicleType        316879 non-null  object\n",
      " 3   RegistrationYear   354369 non-null  int64 \n",
      " 4   Gearbox            334536 non-null  object\n",
      " 5   Power              354369 non-null  int64 \n",
      " 6   Model              334664 non-null  object\n",
      " 7   Kilometer          354369 non-null  int64 \n",
      " 8   RegistrationMonth  354369 non-null  int64 \n",
      " 9   FuelType           321474 non-null  object\n",
      " 10  Brand              354369 non-null  object\n",
      " 11  Repaired           283215 non-null  object\n",
      " 12  DateCreated        354369 non-null  object\n",
      " 13  NumberOfPictures   354369 non-null  int64 \n",
      " 14  PostalCode         354369 non-null  int64 \n",
      " 15  LastSeen           354369 non-null  object\n",
      "dtypes: int64(7), object(9)\n",
      "memory usage: 43.3+ MB\n"
     ]
    }
   ],
   "source": [
    "df.info()"
   ]
  },
  {
   "cell_type": "markdown",
   "metadata": {},
   "source": [
    "Для начала проверим явные дубликаты и если они есть уберем их из датасета"
   ]
  },
  {
   "cell_type": "code",
   "execution_count": 6,
   "metadata": {},
   "outputs": [
    {
     "data": {
      "text/plain": [
       "4"
      ]
     },
     "execution_count": 6,
     "metadata": {},
     "output_type": "execute_result"
    }
   ],
   "source": [
    "df.duplicated().sum()"
   ]
  },
  {
   "cell_type": "code",
   "execution_count": 7,
   "metadata": {},
   "outputs": [],
   "source": [
    "df = df.drop_duplicates().reset_index(drop=True)"
   ]
  },
  {
   "cell_type": "markdown",
   "metadata": {},
   "source": [
    "Избавимся от колонок, которые не влияют на ценообразование автомобиля"
   ]
  },
  {
   "cell_type": "code",
   "execution_count": 8,
   "metadata": {},
   "outputs": [
    {
     "data": {
      "image/png": "[encoded data removed]",
      "text/plain": [
       "<Figure size 1080x360 with 1 Axes>"
      ]
     },
     "metadata": {
      "needs_background": "light"
     },
     "output_type": "display_data"
    }
   ],
   "source": [
    "df.plot(x='RegistrationMonth', y='Price', kind='scatter', figsize=(15,5), c = 'b');\n",
    "plt.ylabel('Цена автомобиля');\n",
    "plt.xlabel('Месяц регистрации');\n",
    "plt.title('Диаграмма рассеивания - Цена автомобиля - Месяц регистрации');"
   ]
  },
  {
   "cell_type": "code",
   "execution_count": 9,
   "metadata": {},
   "outputs": [],
   "source": [
    "df = df.drop(['DateCrawled', 'DateCreated', 'NumberOfPictures', 'PostalCode', 'LastSeen', 'RegistrationMonth'], axis=1)"
   ]
  },
  {
   "cell_type": "code",
   "execution_count": 10,
   "metadata": {},
   "outputs": [
    {
     "data": {
      "text/plain": [
       "Price                   0\n",
       "VehicleType         37490\n",
       "RegistrationYear        0\n",
       "Gearbox             19833\n",
       "Power                   0\n",
       "Model               19705\n",
       "Kilometer               0\n",
       "FuelType            32895\n",
       "Brand                   0\n",
       "Repaired            71154\n",
       "dtype: int64"
      ]
     },
     "execution_count": 10,
     "metadata": {},
     "output_type": "execute_result"
    }
   ],
   "source": [
    "df.isna().sum()"
   ]
  },
  {
   "cell_type": "markdown",
   "metadata": {},
   "source": [
    "Найдено большое количесво пропусков, просто удалить их не получится.\n",
    "\n",
    "В столбце 'Repaired' много пропусков можно предположить, что машина не была в ремонте.\n",
    "\n",
    "Остальные столбцы заполним модами, т.к. это категориальные переменные."
   ]
  },
  {
   "cell_type": "code",
   "execution_count": 11,
   "metadata": {},
   "outputs": [],
   "source": [
    "df['Repaired'] = df['Repaired'].fillna('no')"
   ]
  },
  {
   "cell_type": "code",
   "execution_count": 12,
   "metadata": {},
   "outputs": [],
   "source": [
    "df[\"VehicleType\"] = df[\"VehicleType\"].fillna(df[\"VehicleType\"].mode().values[0])\n",
    "df[\"Gearbox\"] = df[\"Gearbox\"].fillna(df[\"Gearbox\"].mode().values[0])\n",
    "df[\"Model\"] = df[\"Model\"].fillna(df[\"Model\"].mode().values[0])\n",
    "df[\"FuelType\"] = df[\"FuelType\"].fillna(df[\"FuelType\"].mode().values[0])"
   ]
  },
  {
   "cell_type": "code",
   "execution_count": 13,
   "metadata": {},
   "outputs": [
    {
     "data": {
      "text/plain": [
       "Price               0\n",
       "VehicleType         0\n",
       "RegistrationYear    0\n",
       "Gearbox             0\n",
       "Power               0\n",
       "Model               0\n",
       "Kilometer           0\n",
       "FuelType            0\n",
       "Brand               0\n",
       "Repaired            0\n",
       "dtype: int64"
      ]
     },
     "execution_count": 13,
     "metadata": {},
     "output_type": "execute_result"
    }
   ],
   "source": [
    "df.isna().sum()"
   ]
  },
  {
   "cell_type": "markdown",
   "metadata": {},
   "source": [
    "Теперь необходимо избавиться от выбросов"
   ]
  },
  {
   "cell_type": "code",
   "execution_count": 14,
   "metadata": {},
   "outputs": [
    {
     "data": {
      "text/plain": [
       "(354365, 10)"
      ]
     },
     "execution_count": 14,
     "metadata": {},
     "output_type": "execute_result"
    }
   ],
   "source": [
    "df.shape"
   ]
  },
  {
   "cell_type": "code",
   "execution_count": 15,
   "metadata": {},
   "outputs": [
    {
     "data": {
      "text/html": [
       "<div>\n",
       "<style scoped>\n",
       "    .dataframe tbody tr th:only-of-type {\n",
       "        vertical-align: middle;\n",
       "    }\n",
       "\n",
       "    .dataframe tbody tr th {\n",
       "        vertical-align: top;\n",
       "    }\n",
       "\n",
       "    .dataframe thead th {\n",
       "        text-align: right;\n",
       "    }\n",
       "</style>\n",
       "<table border=\"1\" class=\"dataframe\">\n",
       "  <thead>\n",
       "    <tr style=\"text-align: right;\">\n",
       "      <th></th>\n",
       "      <th>Price</th>\n",
       "      <th>RegistrationYear</th>\n",
       "      <th>Power</th>\n",
       "      <th>Kilometer</th>\n",
       "    </tr>\n",
       "  </thead>\n",
       "  <tbody>\n",
       "    <tr>\n",
       "      <th>count</th>\n",
       "      <td>354365.000000</td>\n",
       "      <td>354365.000000</td>\n",
       "      <td>354365.000000</td>\n",
       "      <td>354365.000000</td>\n",
       "    </tr>\n",
       "    <tr>\n",
       "      <th>mean</th>\n",
       "      <td>4416.679830</td>\n",
       "      <td>2004.234481</td>\n",
       "      <td>110.093816</td>\n",
       "      <td>128211.363989</td>\n",
       "    </tr>\n",
       "    <tr>\n",
       "      <th>std</th>\n",
       "      <td>4514.176349</td>\n",
       "      <td>90.228466</td>\n",
       "      <td>189.851330</td>\n",
       "      <td>37905.083858</td>\n",
       "    </tr>\n",
       "    <tr>\n",
       "      <th>min</th>\n",
       "      <td>0.000000</td>\n",
       "      <td>1000.000000</td>\n",
       "      <td>0.000000</td>\n",
       "      <td>5000.000000</td>\n",
       "    </tr>\n",
       "    <tr>\n",
       "      <th>25%</th>\n",
       "      <td>1050.000000</td>\n",
       "      <td>1999.000000</td>\n",
       "      <td>69.000000</td>\n",
       "      <td>125000.000000</td>\n",
       "    </tr>\n",
       "    <tr>\n",
       "      <th>50%</th>\n",
       "      <td>2700.000000</td>\n",
       "      <td>2003.000000</td>\n",
       "      <td>105.000000</td>\n",
       "      <td>150000.000000</td>\n",
       "    </tr>\n",
       "    <tr>\n",
       "      <th>75%</th>\n",
       "      <td>6400.000000</td>\n",
       "      <td>2008.000000</td>\n",
       "      <td>143.000000</td>\n",
       "      <td>150000.000000</td>\n",
       "    </tr>\n",
       "    <tr>\n",
       "      <th>max</th>\n",
       "      <td>20000.000000</td>\n",
       "      <td>9999.000000</td>\n",
       "      <td>20000.000000</td>\n",
       "      <td>150000.000000</td>\n",
       "    </tr>\n",
       "  </tbody>\n",
       "</table>\n",
       "</div>"
      ],
      "text/plain": [
       "               Price  RegistrationYear          Power      Kilometer\n",
       "count  354365.000000     354365.000000  354365.000000  354365.000000\n",
       "mean     4416.679830       2004.234481     110.093816  128211.363989\n",
       "std      4514.176349         90.228466     189.851330   37905.083858\n",
       "min         0.000000       1000.000000       0.000000    5000.000000\n",
       "25%      1050.000000       1999.000000      69.000000  125000.000000\n",
       "50%      2700.000000       2003.000000     105.000000  150000.000000\n",
       "75%      6400.000000       2008.000000     143.000000  150000.000000\n",
       "max     20000.000000       9999.000000   20000.000000  150000.000000"
      ]
     },
     "execution_count": 15,
     "metadata": {},
     "output_type": "execute_result"
    }
   ],
   "source": [
    "df.describe()"
   ]
  },
  {
   "cell_type": "code",
   "execution_count": 16,
   "metadata": {},
   "outputs": [],
   "source": [
    "def bxplt(column, minlim, maxlim, name):\n",
    "    plt.figure(figsize=(15,5))\n",
    "    sns.boxplot(data=df[column], orient='h')\n",
    "    plt.grid()\n",
    "    plt.ylabel(column)\n",
    "    plt.xlabel(name)\n",
    "    plt.title(f'Диаграмма размаха признака: {column}')\n",
    "    plt.xlim(minlim, maxlim)\n",
    "    plt.show();"
   ]
  },
  {
   "cell_type": "code",
   "execution_count": 17,
   "metadata": {},
   "outputs": [
    {
     "data": {
      "image/png": "[encoded data removed]",
      "text/plain": [
       "<Figure size 1080x360 with 1 Axes>"
      ]
     },
     "metadata": {
      "needs_background": "light"
     },
     "output_type": "display_data"
    },
    {
     "data": {
      "image/png": "[encoded data removed]",
      "text/plain": [
       "<Figure size 1080x360 with 1 Axes>"
      ]
     },
     "metadata": {
      "needs_background": "light"
     },
     "output_type": "display_data"
    },
    {
     "data": {
      "image/png": "[encoded data removed]",
      "text/plain": [
       "<Figure size 1080x360 with 1 Axes>"
      ]
     },
     "metadata": {
      "needs_background": "light"
     },
     "output_type": "display_data"
    }
   ],
   "source": [
    "bxplt('Price', -10,25000, 'цена, евро')\n",
    "bxplt('RegistrationYear', 1930, 2100, 'год')\n",
    "bxplt('Power', -10, 2000, 'мощность, л.с.')"
   ]
  },
  {
   "cell_type": "code",
   "execution_count": 18,
   "metadata": {},
   "outputs": [],
   "source": [
    "df = df.loc[(df['Price'] < 16000) & (df['RegistrationYear'] > 5)]"
   ]
  },
  {
   "cell_type": "code",
   "execution_count": 19,
   "metadata": {},
   "outputs": [],
   "source": [
    "df = df.loc[(df['RegistrationYear'] < 2017) & (df['RegistrationYear'] > 1970)]"
   ]
  },
  {
   "cell_type": "code",
   "execution_count": 20,
   "metadata": {
    "scrolled": true
   },
   "outputs": [
    {
     "data": {
      "text/html": [
       "<div>\n",
       "<style scoped>\n",
       "    .dataframe tbody tr th:only-of-type {\n",
       "        vertical-align: middle;\n",
       "    }\n",
       "\n",
       "    .dataframe tbody tr th {\n",
       "        vertical-align: top;\n",
       "    }\n",
       "\n",
       "    .dataframe thead th {\n",
       "        text-align: right;\n",
       "    }\n",
       "</style>\n",
       "<table border=\"1\" class=\"dataframe\">\n",
       "  <thead>\n",
       "    <tr style=\"text-align: right;\">\n",
       "      <th></th>\n",
       "      <th>Price</th>\n",
       "      <th>RegistrationYear</th>\n",
       "      <th>Power</th>\n",
       "      <th>Kilometer</th>\n",
       "    </tr>\n",
       "  </thead>\n",
       "  <tbody>\n",
       "    <tr>\n",
       "      <th>count</th>\n",
       "      <td>291047.000000</td>\n",
       "      <td>291047.000000</td>\n",
       "      <td>291047.000000</td>\n",
       "      <td>291047.000000</td>\n",
       "    </tr>\n",
       "    <tr>\n",
       "      <th>mean</th>\n",
       "      <td>4244.738207</td>\n",
       "      <td>2002.620577</td>\n",
       "      <td>118.275248</td>\n",
       "      <td>129969.626899</td>\n",
       "    </tr>\n",
       "    <tr>\n",
       "      <th>std</th>\n",
       "      <td>3892.972158</td>\n",
       "      <td>6.110856</td>\n",
       "      <td>52.506131</td>\n",
       "      <td>35456.270086</td>\n",
       "    </tr>\n",
       "    <tr>\n",
       "      <th>min</th>\n",
       "      <td>0.000000</td>\n",
       "      <td>1971.000000</td>\n",
       "      <td>6.000000</td>\n",
       "      <td>5000.000000</td>\n",
       "    </tr>\n",
       "    <tr>\n",
       "      <th>25%</th>\n",
       "      <td>1200.000000</td>\n",
       "      <td>1999.000000</td>\n",
       "      <td>75.000000</td>\n",
       "      <td>125000.000000</td>\n",
       "    </tr>\n",
       "    <tr>\n",
       "      <th>50%</th>\n",
       "      <td>2900.000000</td>\n",
       "      <td>2003.000000</td>\n",
       "      <td>109.000000</td>\n",
       "      <td>150000.000000</td>\n",
       "    </tr>\n",
       "    <tr>\n",
       "      <th>75%</th>\n",
       "      <td>6300.000000</td>\n",
       "      <td>2007.000000</td>\n",
       "      <td>144.000000</td>\n",
       "      <td>150000.000000</td>\n",
       "    </tr>\n",
       "    <tr>\n",
       "      <th>max</th>\n",
       "      <td>15999.000000</td>\n",
       "      <td>2016.000000</td>\n",
       "      <td>999.000000</td>\n",
       "      <td>150000.000000</td>\n",
       "    </tr>\n",
       "  </tbody>\n",
       "</table>\n",
       "</div>"
      ],
      "text/plain": [
       "               Price  RegistrationYear          Power      Kilometer\n",
       "count  291047.000000     291047.000000  291047.000000  291047.000000\n",
       "mean     4244.738207       2002.620577     118.275248  129969.626899\n",
       "std      3892.972158          6.110856      52.506131   35456.270086\n",
       "min         0.000000       1971.000000       6.000000    5000.000000\n",
       "25%      1200.000000       1999.000000      75.000000  125000.000000\n",
       "50%      2900.000000       2003.000000     109.000000  150000.000000\n",
       "75%      6300.000000       2007.000000     144.000000  150000.000000\n",
       "max     15999.000000       2016.000000     999.000000  150000.000000"
      ]
     },
     "execution_count": 20,
     "metadata": {},
     "output_type": "execute_result"
    }
   ],
   "source": [
    "df = df.loc[(df['Power'] < 1000) & (df['Power'] > 5)]\n",
    "df.describe()"
   ]
  },
  {
   "cell_type": "code",
   "execution_count": 21,
   "metadata": {},
   "outputs": [
    {
     "data": {
      "text/plain": [
       "(291047, 10)"
      ]
     },
     "execution_count": 21,
     "metadata": {},
     "output_type": "execute_result"
    }
   ],
   "source": [
    "df.shape"
   ]
  },
  {
   "cell_type": "markdown",
   "metadata": {},
   "source": [
    "Убрали все выбросы."
   ]
  },
  {
   "cell_type": "code",
   "execution_count": 22,
   "metadata": {},
   "outputs": [
    {
     "data": {
      "text/plain": [
       "48684"
      ]
     },
     "execution_count": 22,
     "metadata": {},
     "output_type": "execute_result"
    }
   ],
   "source": [
    "df.duplicated().sum()"
   ]
  },
  {
   "cell_type": "code",
   "execution_count": 23,
   "metadata": {},
   "outputs": [
    {
     "data": {
      "text/plain": [
       "(242363, 10)"
      ]
     },
     "execution_count": 23,
     "metadata": {},
     "output_type": "execute_result"
    }
   ],
   "source": [
    "df = df.drop_duplicates().reset_index(drop=True)\n",
    "df.shape"
   ]
  },
  {
   "cell_type": "markdown",
   "metadata": {},
   "source": [
    "### Разбиение данных"
   ]
  },
  {
   "cell_type": "markdown",
   "metadata": {},
   "source": [
    "Будем использовать кросс-валидацию, поэтому валидационная выборка не нужна"
   ]
  },
  {
   "cell_type": "code",
   "execution_count": 24,
   "metadata": {},
   "outputs": [],
   "source": [
    "cat_features = ['VehicleType', 'Gearbox', 'Model', 'FuelType', 'Brand', 'Repaired']\n",
    "\n",
    "features = df.drop(['Price'], axis=1)\n",
    "target = df['Price']\n",
    "\n",
    "features_train, features_test, target_train, target_test = train_test_split(\n",
    "    features, target, test_size=.25, random_state=RANDOM_STATE)"
   ]
  },
  {
   "cell_type": "markdown",
   "metadata": {},
   "source": [
    "## Обучение моделей"
   ]
  },
  {
   "cell_type": "markdown",
   "metadata": {},
   "source": [
    "### CatBoost"
   ]
  },
  {
   "cell_type": "code",
   "execution_count": 25,
   "metadata": {},
   "outputs": [],
   "source": [
    "train_pool = Pool(data=features_train,\n",
    "                  label=target_train,\n",
    "                  cat_features=cat_features\n",
    "                 )\n",
    "\n",
    "catboost = CatBoostRegressor(loss_function='RMSE', verbose=20, random_state=RANDOM_STATE)\n",
    "\n",
    "parameters_cat = {'depth':[5,10], \n",
    "                  'learning_rate':np.arange(0.1,1,0.2),\n",
    "                  'iterations': range(20, 60, 20)}"
   ]
  },
  {
   "cell_type": "code",
   "execution_count": 26,
   "metadata": {},
   "outputs": [
    {
     "name": "stdout",
     "output_type": "stream",
     "text": [
      "0:\tlearn: 5413.9260442\ttest: 5404.3632884\tbest: 5404.3632884 (0)\ttotal: 113ms\tremaining: 2.14s\n",
      "19:\tlearn: 2177.6299002\ttest: 2170.2006131\tbest: 2170.2006131 (19)\ttotal: 994ms\tremaining: 0us\n",
      "\n",
      "bestTest = 2170.200613\n",
      "bestIteration = 19\n",
      "\n",
      "0:\tloss: 2170.2006131\tbest: 2170.2006131 (0)\ttotal: 1.98s\tremaining: 37.5s\n",
      "0:\tlearn: 4501.5809254\ttest: 4496.0957113\tbest: 4496.0957113 (0)\ttotal: 53.6ms\tremaining: 1.02s\n",
      "19:\tlearn: 1798.2040272\ttest: 1790.1918626\tbest: 1790.1918626 (19)\ttotal: 917ms\tremaining: 0us\n",
      "\n",
      "bestTest = 1790.191863\n",
      "bestIteration = 19\n",
      "\n",
      "1:\tloss: 1790.1918626\tbest: 1790.1918626 (1)\ttotal: 2.92s\tremaining: 26.3s\n",
      "0:\tlearn: 3671.3144899\ttest: 3670.3285374\tbest: 3670.3285374 (0)\ttotal: 53.3ms\tremaining: 1.01s\n",
      "19:\tlearn: 1757.7935848\ttest: 1754.5967831\tbest: 1754.5967831 (19)\ttotal: 907ms\tremaining: 0us\n",
      "\n",
      "bestTest = 1754.596783\n",
      "bestIteration = 19\n",
      "\n",
      "2:\tloss: 1754.5967831\tbest: 1754.5967831 (2)\ttotal: 3.85s\tremaining: 21.8s\n",
      "0:\tlearn: 2992.2486265\ttest: 2996.0717956\tbest: 2996.0717956 (0)\ttotal: 52.1ms\tremaining: 991ms\n",
      "19:\tlearn: 1725.0653619\ttest: 1730.8006800\tbest: 1730.8006800 (19)\ttotal: 886ms\tremaining: 0us\n",
      "\n",
      "bestTest = 1730.80068\n",
      "bestIteration = 19\n",
      "\n",
      "3:\tloss: 1730.8006800\tbest: 1730.8006800 (3)\ttotal: 4.76s\tremaining: 19s\n",
      "0:\tlearn: 2586.3557576\ttest: 2594.2784238\tbest: 2594.2784238 (0)\ttotal: 53.4ms\tremaining: 1.01s\n",
      "19:\tlearn: 1732.4793838\ttest: 1737.2429903\tbest: 1737.2429903 (19)\ttotal: 912ms\tremaining: 0us\n",
      "\n",
      "bestTest = 1737.24299\n",
      "bestIteration = 19\n",
      "\n",
      "4:\tloss: 1737.2429903\tbest: 1730.8006800 (3)\ttotal: 5.7s\tremaining: 17.1s\n",
      "0:\tlearn: 5413.9260442\ttest: 5404.3632884\tbest: 5404.3632884 (0)\ttotal: 62.9ms\tremaining: 2.45s\n",
      "20:\tlearn: 2141.2361086\ttest: 2133.3122007\tbest: 2133.3122007 (20)\ttotal: 1.02s\tremaining: 921ms\n",
      "39:\tlearn: 1858.6496913\ttest: 1850.2356566\tbest: 1850.2356566 (39)\ttotal: 1.85s\tremaining: 0us\n",
      "\n",
      "bestTest = 1850.235657\n",
      "bestIteration = 39\n",
      "\n",
      "5:\tloss: 1850.2356566\tbest: 1730.8006800 (3)\ttotal: 7.58s\tremaining: 17.7s\n",
      "0:\tlearn: 4501.5809254\ttest: 4496.0957113\tbest: 4496.0957113 (0)\ttotal: 54ms\tremaining: 2.11s\n",
      "20:\tlearn: 1793.0976253\ttest: 1785.2113782\tbest: 1785.2113782 (20)\ttotal: 953ms\tremaining: 862ms\n",
      "39:\tlearn: 1717.4753238\ttest: 1715.2258180\tbest: 1715.2258180 (39)\ttotal: 1.78s\tremaining: 0us\n",
      "\n",
      "bestTest = 1715.225818\n",
      "bestIteration = 39\n",
      "\n",
      "6:\tloss: 1715.2258180\tbest: 1715.2258180 (6)\ttotal: 9.38s\tremaining: 17.4s\n",
      "0:\tlearn: 3671.3144899\ttest: 3670.3285374\tbest: 3670.3285374 (0)\ttotal: 52.7ms\tremaining: 2.05s\n",
      "20:\tlearn: 1752.0013679\ttest: 1748.3204739\tbest: 1748.3204739 (20)\ttotal: 968ms\tremaining: 876ms\n",
      "39:\tlearn: 1683.3146852\ttest: 1691.1539260\tbest: 1691.1539260 (39)\ttotal: 1.79s\tremaining: 0us\n",
      "\n",
      "bestTest = 1691.153926\n",
      "bestIteration = 39\n",
      "\n",
      "7:\tloss: 1691.1539260\tbest: 1691.1539260 (7)\ttotal: 11.2s\tremaining: 16.8s\n",
      "0:\tlearn: 2992.2486265\ttest: 2996.0717956\tbest: 2996.0717956 (0)\ttotal: 59.8ms\tremaining: 2.33s\n",
      "20:\tlearn: 1721.1567540\ttest: 1727.8346919\tbest: 1727.8346919 (20)\ttotal: 985ms\tremaining: 892ms\n",
      "39:\tlearn: 1666.2234059\ttest: 1683.3783410\tbest: 1683.3783410 (39)\ttotal: 1.81s\tremaining: 0us\n",
      "\n",
      "bestTest = 1683.378341\n",
      "bestIteration = 39\n",
      "\n",
      "8:\tloss: 1683.3783410\tbest: 1683.3783410 (8)\ttotal: 13s\tremaining: 15.9s\n",
      "0:\tlearn: 2586.3557576\ttest: 2594.2784238\tbest: 2594.2784238 (0)\ttotal: 55.7ms\tremaining: 2.17s\n",
      "20:\tlearn: 1728.0137209\ttest: 1734.4092051\tbest: 1734.4092051 (20)\ttotal: 956ms\tremaining: 865ms\n",
      "39:\tlearn: 1660.3903129\ttest: 1677.9603213\tbest: 1677.9603213 (39)\ttotal: 1.79s\tremaining: 0us\n",
      "\n",
      "bestTest = 1677.960321\n",
      "bestIteration = 39\n",
      "\n",
      "9:\tloss: 1677.9603213\tbest: 1677.9603213 (9)\ttotal: 14.8s\tremaining: 14.8s\n",
      "0:\tlearn: 5389.5773995\ttest: 5379.5679246\tbest: 5379.5679246 (0)\ttotal: 92.7ms\tremaining: 1.76s\n",
      "19:\tlearn: 1995.6554652\ttest: 1993.6699475\tbest: 1993.6699475 (19)\ttotal: 1.72s\tremaining: 0us\n",
      "\n",
      "bestTest = 1993.669947\n",
      "bestIteration = 19\n",
      "\n",
      "10:\tloss: 1993.6699475\tbest: 1677.9603213 (9)\ttotal: 16.6s\tremaining: 13.6s\n",
      "0:\tlearn: 4422.0271251\ttest: 4414.8982936\tbest: 4414.8982936 (0)\ttotal: 92.1ms\tremaining: 1.75s\n",
      "19:\tlearn: 1640.1213151\ttest: 1662.7221940\tbest: 1662.7221940 (19)\ttotal: 1.66s\tremaining: 0us\n",
      "\n",
      "bestTest = 1662.722194\n",
      "bestIteration = 19\n",
      "\n",
      "11:\tloss: 1662.7221940\tbest: 1662.7221940 (11)\ttotal: 18.3s\tremaining: 12.2s\n",
      "0:\tlearn: 3525.2584356\ttest: 3520.8573927\tbest: 3520.8573927 (0)\ttotal: 87.8ms\tremaining: 1.67s\n",
      "19:\tlearn: 1597.2898391\ttest: 1642.1153216\tbest: 1642.1153216 (19)\ttotal: 1.63s\tremaining: 0us\n",
      "\n",
      "bestTest = 1642.115322\n",
      "bestIteration = 19\n",
      "\n",
      "12:\tloss: 1642.1153216\tbest: 1642.1153216 (12)\ttotal: 19.9s\tremaining: 10.7s\n",
      "0:\tlearn: 2768.9190635\ttest: 2766.7814116\tbest: 2766.7814116 (0)\ttotal: 93ms\tremaining: 1.77s\n",
      "19:\tlearn: 1578.8873290\ttest: 1647.0621209\tbest: 1647.0621209 (19)\ttotal: 1.69s\tremaining: 0us\n",
      "\n",
      "bestTest = 1647.062121\n",
      "bestIteration = 19\n",
      "\n",
      "13:\tloss: 1647.0621209\tbest: 1642.1153216 (12)\ttotal: 21.6s\tremaining: 9.28s\n",
      "0:\tlearn: 2296.2406500\ttest: 2295.0500520\tbest: 2295.0500520 (0)\ttotal: 90ms\tremaining: 1.71s\n",
      "19:\tlearn: 1581.1487827\ttest: 1656.6509327\tbest: 1656.6509327 (19)\ttotal: 1.68s\tremaining: 0us\n",
      "\n",
      "bestTest = 1656.650933\n",
      "bestIteration = 19\n",
      "\n",
      "14:\tloss: 1656.6509327\tbest: 1642.1153216 (12)\ttotal: 23.3s\tremaining: 7.78s\n",
      "0:\tlearn: 5389.5773995\ttest: 5379.5679246\tbest: 5379.5679246 (0)\ttotal: 94ms\tremaining: 3.67s\n",
      "20:\tlearn: 1953.0894250\ttest: 1951.3303990\tbest: 1951.3303990 (20)\ttotal: 1.73s\tremaining: 1.56s\n",
      "39:\tlearn: 1686.5026147\ttest: 1701.4824715\tbest: 1701.4824715 (39)\ttotal: 3.29s\tremaining: 0us\n",
      "\n",
      "bestTest = 1701.482471\n",
      "bestIteration = 39\n",
      "\n",
      "15:\tloss: 1701.4824715\tbest: 1642.1153216 (12)\ttotal: 26.7s\tremaining: 6.66s\n",
      "0:\tlearn: 4422.0271251\ttest: 4414.8982936\tbest: 4414.8982936 (0)\ttotal: 91.4ms\tremaining: 3.57s\n",
      "20:\tlearn: 1634.6221558\ttest: 1657.9980597\tbest: 1657.9980597 (20)\ttotal: 1.69s\tremaining: 1.53s\n",
      "39:\tlearn: 1559.5937623\ttest: 1611.0669498\tbest: 1611.0669498 (39)\ttotal: 3.17s\tremaining: 0us\n",
      "\n",
      "bestTest = 1611.06695\n",
      "bestIteration = 39\n",
      "\n",
      "16:\tloss: 1611.0669498\tbest: 1611.0669498 (16)\ttotal: 29.9s\tremaining: 5.27s\n",
      "0:\tlearn: 3525.2584356\ttest: 3520.8573927\tbest: 3520.8573927 (0)\ttotal: 89.9ms\tremaining: 3.5s\n",
      "20:\tlearn: 1593.3400330\ttest: 1640.2763100\tbest: 1640.2763100 (20)\ttotal: 1.75s\tremaining: 1.58s\n",
      "39:\tlearn: 1516.6669939\ttest: 1602.0218347\tbest: 1602.0218347 (39)\ttotal: 3.25s\tremaining: 0us\n",
      "\n",
      "bestTest = 1602.021835\n",
      "bestIteration = 39\n",
      "\n",
      "17:\tloss: 1602.0218347\tbest: 1602.0218347 (17)\ttotal: 33.1s\tremaining: 3.68s\n",
      "0:\tlearn: 2768.9190635\ttest: 2766.7814116\tbest: 2766.7814116 (0)\ttotal: 88ms\tremaining: 3.43s\n",
      "20:\tlearn: 1572.3764598\ttest: 1643.7735472\tbest: 1643.7735472 (20)\ttotal: 1.67s\tremaining: 1.51s\n",
      "39:\tlearn: 1492.5456921\ttest: 1605.8137007\tbest: 1605.8137007 (39)\ttotal: 3.18s\tremaining: 0us\n",
      "\n",
      "bestTest = 1605.813701\n",
      "bestIteration = 39\n",
      "\n",
      "18:\tloss: 1605.8137007\tbest: 1602.0218347 (17)\ttotal: 36.4s\tremaining: 1.91s\n",
      "0:\tlearn: 2296.2406500\ttest: 2295.0500520\tbest: 2295.0500520 (0)\ttotal: 125ms\tremaining: 4.89s\n",
      "20:\tlearn: 1570.2276970\ttest: 1655.2019150\tbest: 1655.2019150 (20)\ttotal: 1.82s\tremaining: 1.64s\n",
      "39:\tlearn: 1476.3797127\ttest: 1620.0841229\tbest: 1620.0841229 (39)\ttotal: 3.3s\tremaining: 0us\n",
      "\n",
      "bestTest = 1620.084123\n",
      "bestIteration = 39\n",
      "\n",
      "19:\tloss: 1620.0841229\tbest: 1602.0218347 (17)\ttotal: 39.7s\tremaining: 0us\n",
      "Estimating final quality...\n",
      "Training on fold [0/3]\n",
      "0:\tlearn: 3517.1282974\ttest: 3529.4537342\tbest: 3529.4537342 (0)\ttotal: 83.8ms\tremaining: 3.27s\n",
      "20:\tlearn: 1581.5391358\ttest: 1655.5124285\tbest: 1655.5124285 (20)\ttotal: 1.51s\tremaining: 1.37s\n",
      "39:\tlearn: 1514.9381713\ttest: 1623.0574915\tbest: 1623.0574915 (39)\ttotal: 2.82s\tremaining: 0us\n",
      "\n",
      "bestTest = 1623.057491\n",
      "bestIteration = 39\n",
      "\n",
      "Training on fold [1/3]\n",
      "0:\tlearn: 3525.2118495\ttest: 3520.7267553\tbest: 3520.7267553 (0)\ttotal: 76.7ms\tremaining: 2.99s\n",
      "20:\tlearn: 1601.8481209\ttest: 1639.5525195\tbest: 1639.5525195 (20)\ttotal: 1.47s\tremaining: 1.33s\n",
      "39:\tlearn: 1522.0906110\ttest: 1602.2161777\tbest: 1602.2161777 (39)\ttotal: 2.76s\tremaining: 0us\n",
      "\n",
      "bestTest = 1602.216178\n",
      "bestIteration = 39\n",
      "\n",
      "Training on fold [2/3]\n",
      "0:\tlearn: 3524.2850081\ttest: 3521.8110240\tbest: 3521.8110240 (0)\ttotal: 80.6ms\tremaining: 3.14s\n",
      "20:\tlearn: 1593.3887713\ttest: 1643.4280861\tbest: 1643.4280861 (20)\ttotal: 1.57s\tremaining: 1.42s\n",
      "39:\tlearn: 1521.2778058\ttest: 1610.9953101\tbest: 1610.9953101 (39)\ttotal: 2.88s\tremaining: 0us\n",
      "\n",
      "bestTest = 1610.99531\n",
      "bestIteration = 39\n",
      "\n"
     ]
    }
   ],
   "source": [
    "catboost_grid = catboost.grid_search(parameters_cat, train_pool,\n",
    "            cv=3,\n",
    "            verbose=True,\n",
    "            plot=False)"
   ]
  },
  {
   "cell_type": "code",
   "execution_count": 27,
   "metadata": {},
   "outputs": [
    {
     "name": "stdout",
     "output_type": "stream",
     "text": [
      "RMSE catboost: 1612.0896597832495\n"
     ]
    }
   ],
   "source": [
    "catboost_rmse = min(catboost_grid['cv_results']['test-RMSE-mean'])\n",
    "print('RMSE catboost:', catboost_rmse)"
   ]
  },
  {
   "cell_type": "code",
   "execution_count": 28,
   "metadata": {},
   "outputs": [],
   "source": [
    "model_cb = CatBoostRegressor(loss_function='RMSE', \n",
    "                             verbose=20, \n",
    "                             random_state=RANDOM_STATE,\n",
    "                             **catboost_grid['params']\n",
    "                            )"
   ]
  },
  {
   "cell_type": "code",
   "execution_count": 29,
   "metadata": {},
   "outputs": [
    {
     "name": "stdout",
     "output_type": "stream",
     "text": [
      "0:\tlearn: 2754.3576514\ttotal: 114ms\tremaining: 4.46s\n",
      "20:\tlearn: 1592.7392104\ttotal: 1.95s\tremaining: 1.77s\n",
      "39:\tlearn: 1522.6792795\ttotal: 3.83s\tremaining: 0us\n",
      "CPU times: user 3.95 s, sys: 31.5 ms, total: 3.98 s\n",
      "Wall time: 4.63 s\n"
     ]
    },
    {
     "data": {
      "text/plain": [
       "<catboost.core.CatBoostRegressor at 0x7f2973bf6880>"
      ]
     },
     "execution_count": 29,
     "metadata": {},
     "output_type": "execute_result"
    }
   ],
   "source": [
    "%%time\n",
    "model_cb.fit(train_pool)"
   ]
  },
  {
   "cell_type": "code",
   "execution_count": 30,
   "metadata": {},
   "outputs": [
    {
     "name": "stdout",
     "output_type": "stream",
     "text": [
      "CPU times: user 244 ms, sys: 7.98 ms, total: 252 ms\n",
      "Wall time: 255 ms\n"
     ]
    }
   ],
   "source": [
    "%%time\n",
    "predict_train = model_cb.predict(features_train)"
   ]
  },
  {
   "cell_type": "markdown",
   "metadata": {},
   "source": [
    "###  LightGBM"
   ]
  },
  {
   "cell_type": "code",
   "execution_count": 31,
   "metadata": {},
   "outputs": [],
   "source": [
    "for col in features.select_dtypes(include=['object']):\n",
    "  features[col] = features[col].astype('category')"
   ]
  },
  {
   "cell_type": "code",
   "execution_count": 32,
   "metadata": {},
   "outputs": [],
   "source": [
    "features_train_lgb, features_test_lgb, target_train_lgb, target_test_lgb = train_test_split(\n",
    "    features, target, test_size=.25, random_state=RANDOM_STATE)"
   ]
  },
  {
   "cell_type": "code",
   "execution_count": 33,
   "metadata": {},
   "outputs": [],
   "source": [
    "params = {\n",
    "    'objective': 'regression',\n",
    "    'boosting_type': 'gbdt',\n",
    "    'metric': 'rmse',\n",
    "    'n_estimators': 100,\n",
    "    'random_state': RANDOM_STATE,\n",
    "    'categorical_feature': cat_features\n",
    "}\n",
    "lgbm_regressor = lgb.LGBMRegressor(**params)"
   ]
  },
  {
   "cell_type": "code",
   "execution_count": 34,
   "metadata": {},
   "outputs": [
    {
     "name": "stdout",
     "output_type": "stream",
     "text": [
      "[LightGBM] [Warning] categorical_feature is set=VehicleType,Gearbox,Model,FuelType,Brand,Repaired, categorical_column=0,2,4,6,7,8 will be ignored. Current value: categorical_feature=VehicleType,Gearbox,Model,FuelType,Brand,Repaired\n",
      "[LightGBM] [Warning] Auto-choosing row-wise multi-threading, the overhead of testing was 0.004333 seconds.\n",
      "You can set `force_row_wise=true` to remove the overhead.\n",
      "And if memory is not enough, you can set `force_col_wise=true`.\n",
      "[LightGBM] [Info] Total Bins 615\n",
      "[LightGBM] [Info] Number of data points in the train set: 145417, number of used features: 9\n",
      "[LightGBM] [Warning] categorical_feature is set=VehicleType,Gearbox,Model,FuelType,Brand,Repaired, categorical_column=0,2,4,6,7,8 will be ignored. Current value: categorical_feature=VehicleType,Gearbox,Model,FuelType,Brand,Repaired\n",
      "[LightGBM] [Warning] Auto-choosing row-wise multi-threading, the overhead of testing was 0.003626 seconds.\n",
      "You can set `force_row_wise=true` to remove the overhead.\n",
      "And if memory is not enough, you can set `force_col_wise=true`.\n",
      "[LightGBM] [Info] Total Bins 615\n",
      "[LightGBM] [Info] Number of data points in the train set: 145417, number of used features: 9\n",
      "[LightGBM] [Warning] categorical_feature is set=VehicleType,Gearbox,Model,FuelType,Brand,Repaired, categorical_column=0,2,4,6,7,8 will be ignored. Current value: categorical_feature=VehicleType,Gearbox,Model,FuelType,Brand,Repaired\n",
      "[LightGBM] [Warning] Auto-choosing row-wise multi-threading, the overhead of testing was 0.004117 seconds.\n",
      "You can set `force_row_wise=true` to remove the overhead.\n",
      "And if memory is not enough, you can set `force_col_wise=true`.\n",
      "[LightGBM] [Info] Total Bins 615\n",
      "[LightGBM] [Info] Number of data points in the train set: 145418, number of used features: 9\n",
      "[LightGBM] [Warning] categorical_feature is set=VehicleType,Gearbox,Model,FuelType,Brand,Repaired, categorical_column=0,2,4,6,7,8 will be ignored. Current value: categorical_feature=VehicleType,Gearbox,Model,FuelType,Brand,Repaired\n",
      "[LightGBM] [Warning] Auto-choosing row-wise multi-threading, the overhead of testing was 0.174149 seconds.\n",
      "You can set `force_row_wise=true` to remove the overhead.\n",
      "And if memory is not enough, you can set `force_col_wise=true`.\n",
      "[LightGBM] [Info] Total Bins 615\n",
      "[LightGBM] [Info] Number of data points in the train set: 145418, number of used features: 9\n",
      "[LightGBM] [Warning] categorical_feature is set=VehicleType,Gearbox,Model,FuelType,Brand,Repaired, categorical_column=0,2,4,6,7,8 will be ignored. Current value: categorical_feature=VehicleType,Gearbox,Model,FuelType,Brand,Repaired\n",
      "[LightGBM] [Warning] Auto-choosing row-wise multi-threading, the overhead of testing was 0.006841 seconds.\n",
      "You can set `force_row_wise=true` to remove the overhead.\n",
      "And if memory is not enough, you can set `force_col_wise=true`.\n",
      "[LightGBM] [Info] Total Bins 615\n",
      "[LightGBM] [Info] Number of data points in the train set: 145418, number of used features: 9\n",
      "[LightGBM] [Info] Start training from score 4372.187413\n",
      "[LightGBM] [Info] Start training from score 4370.538967\n",
      "[LightGBM] [Info] Start training from score 4373.118919\n",
      "[LightGBM] [Info] Start training from score 4372.820256\n",
      "[LightGBM] [Info] Start training from score 4372.915286\n",
      "[10]\tcv_agg's rmse: 2289.79 + 5.87495\n",
      "[20]\tcv_agg's rmse: 1822.07 + 7.16324\n",
      "[30]\tcv_agg's rmse: 1684.99 + 10.0055\n",
      "[40]\tcv_agg's rmse: 1635.54 + 10.978\n",
      "[50]\tcv_agg's rmse: 1613.2 + 11.7018\n",
      "[60]\tcv_agg's rmse: 1600.66 + 12.228\n",
      "[70]\tcv_agg's rmse: 1591.58 + 12.2965\n",
      "[80]\tcv_agg's rmse: 1585.14 + 12.5347\n",
      "[90]\tcv_agg's rmse: 1580.04 + 12.6126\n",
      "[100]\tcv_agg's rmse: 1575.95 + 12.8171\n"
     ]
    }
   ],
   "source": [
    "cv_results = lgb.cv(\n",
    "    params, \n",
    "    lgb.Dataset(features_train_lgb, label=target_train_lgb), \n",
    "    num_boost_round=1000, \n",
    "    nfold=5, \n",
    "    early_stopping_rounds=50, \n",
    "    verbose_eval=10, \n",
    "    seed=42\n",
    ")"
   ]
  },
  {
   "cell_type": "code",
   "execution_count": 35,
   "metadata": {},
   "outputs": [
    {
     "name": "stdout",
     "output_type": "stream",
     "text": [
      "RMSE lgbm: 1575.9524574925767\n"
     ]
    }
   ],
   "source": [
    "print('RMSE lgbm:', min(cv_results['rmse-mean']))"
   ]
  },
  {
   "cell_type": "code",
   "execution_count": 36,
   "metadata": {},
   "outputs": [],
   "source": [
    "model_lgb = lgb.LGBMRegressor(**params)"
   ]
  },
  {
   "cell_type": "code",
   "execution_count": 37,
   "metadata": {},
   "outputs": [
    {
     "name": "stdout",
     "output_type": "stream",
     "text": [
      "CPU times: user 32.7 s, sys: 144 ms, total: 32.9 s\n",
      "Wall time: 33.3 s\n"
     ]
    },
    {
     "data": {
      "text/plain": [
       "LGBMRegressor(categorical_feature=['VehicleType', 'Gearbox', 'Model',\n",
       "                                   'FuelType', 'Brand', 'Repaired'],\n",
       "              metric='rmse', objective='regression', random_state=12345)"
      ]
     },
     "execution_count": 37,
     "metadata": {},
     "output_type": "execute_result"
    }
   ],
   "source": [
    "%%time\n",
    "model_lgb.fit(features_train_lgb, target_train_lgb)"
   ]
  },
  {
   "cell_type": "code",
   "execution_count": 38,
   "metadata": {},
   "outputs": [
    {
     "name": "stdout",
     "output_type": "stream",
     "text": [
      "CPU times: user 2.21 s, sys: 0 ns, total: 2.21 s\n",
      "Wall time: 2.2 s\n"
     ]
    },
    {
     "data": {
      "text/plain": [
       "array([1363.34742861, 1251.2818344 , 2541.08294692, ...,  950.99242057,\n",
       "       1384.13606826, 8315.65384781])"
      ]
     },
     "execution_count": 38,
     "metadata": {},
     "output_type": "execute_result"
    }
   ],
   "source": [
    "%%time\n",
    "model_lgb.predict(features_train_lgb)"
   ]
  },
  {
   "cell_type": "markdown",
   "metadata": {},
   "source": [
    "### DecisionTreeRegressor"
   ]
  },
  {
   "cell_type": "code",
   "execution_count": 39,
   "metadata": {},
   "outputs": [],
   "source": [
    "features_train_encoder = features_train.copy()\n",
    "features_test_encoder = features_test.copy()"
   ]
  },
  {
   "cell_type": "code",
   "execution_count": null,
   "metadata": {},
   "outputs": [],
   "source": [
    "encoder = OrdinalEncoder()"
   ]
  },
  {
   "cell_type": "code",
   "execution_count": 40,
   "metadata": {},
   "outputs": [
    {
     "data": {
      "text/html": [
       "<div>\n",
       "<style scoped>\n",
       "    .dataframe tbody tr th:only-of-type {\n",
       "        vertical-align: middle;\n",
       "    }\n",
       "\n",
       "    .dataframe tbody tr th {\n",
       "        vertical-align: top;\n",
       "    }\n",
       "\n",
       "    .dataframe thead th {\n",
       "        text-align: right;\n",
       "    }\n",
       "</style>\n",
       "<table border=\"1\" class=\"dataframe\">\n",
       "  <thead>\n",
       "    <tr style=\"text-align: right;\">\n",
       "      <th></th>\n",
       "      <th>VehicleType</th>\n",
       "      <th>RegistrationYear</th>\n",
       "      <th>Gearbox</th>\n",
       "      <th>Power</th>\n",
       "      <th>Model</th>\n",
       "      <th>Kilometer</th>\n",
       "      <th>FuelType</th>\n",
       "      <th>Brand</th>\n",
       "      <th>Repaired</th>\n",
       "    </tr>\n",
       "  </thead>\n",
       "  <tbody>\n",
       "    <tr>\n",
       "      <th>132866</th>\n",
       "      <td>5.0</td>\n",
       "      <td>2002</td>\n",
       "      <td>1.0</td>\n",
       "      <td>75</td>\n",
       "      <td>75.0</td>\n",
       "      <td>150000</td>\n",
       "      <td>6.0</td>\n",
       "      <td>27.0</td>\n",
       "      <td>0.0</td>\n",
       "    </tr>\n",
       "    <tr>\n",
       "      <th>82045</th>\n",
       "      <td>7.0</td>\n",
       "      <td>2000</td>\n",
       "      <td>1.0</td>\n",
       "      <td>125</td>\n",
       "      <td>139.0</td>\n",
       "      <td>150000</td>\n",
       "      <td>6.0</td>\n",
       "      <td>34.0</td>\n",
       "      <td>0.0</td>\n",
       "    </tr>\n",
       "    <tr>\n",
       "      <th>123611</th>\n",
       "      <td>2.0</td>\n",
       "      <td>2000</td>\n",
       "      <td>1.0</td>\n",
       "      <td>169</td>\n",
       "      <td>75.0</td>\n",
       "      <td>150000</td>\n",
       "      <td>6.0</td>\n",
       "      <td>27.0</td>\n",
       "      <td>0.0</td>\n",
       "    </tr>\n",
       "    <tr>\n",
       "      <th>1939</th>\n",
       "      <td>3.0</td>\n",
       "      <td>2011</td>\n",
       "      <td>1.0</td>\n",
       "      <td>122</td>\n",
       "      <td>199.0</td>\n",
       "      <td>125000</td>\n",
       "      <td>6.0</td>\n",
       "      <td>38.0</td>\n",
       "      <td>0.0</td>\n",
       "    </tr>\n",
       "    <tr>\n",
       "      <th>71905</th>\n",
       "      <td>5.0</td>\n",
       "      <td>2005</td>\n",
       "      <td>1.0</td>\n",
       "      <td>131</td>\n",
       "      <td>173.0</td>\n",
       "      <td>150000</td>\n",
       "      <td>2.0</td>\n",
       "      <td>38.0</td>\n",
       "      <td>0.0</td>\n",
       "    </tr>\n",
       "  </tbody>\n",
       "</table>\n",
       "</div>"
      ],
      "text/plain": [
       "        VehicleType  RegistrationYear  Gearbox  Power  Model  Kilometer  \\\n",
       "132866          5.0              2002      1.0     75   75.0     150000   \n",
       "82045           7.0              2000      1.0    125  139.0     150000   \n",
       "123611          2.0              2000      1.0    169   75.0     150000   \n",
       "1939            3.0              2011      1.0    122  199.0     125000   \n",
       "71905           5.0              2005      1.0    131  173.0     150000   \n",
       "\n",
       "        FuelType  Brand  Repaired  \n",
       "132866       6.0   27.0       0.0  \n",
       "82045        6.0   34.0       0.0  \n",
       "123611       6.0   27.0       0.0  \n",
       "1939         6.0   38.0       0.0  \n",
       "71905        2.0   38.0       0.0  "
      ]
     },
     "execution_count": 40,
     "metadata": {},
     "output_type": "execute_result"
    }
   ],
   "source": [
    "encoder.fit(features_train_encoder[cat_features])\n",
    "features_train_encoder[cat_features] = encoder.transform(features_train_encoder[cat_features])\n",
    "features_test_encoder[cat_features] = encoder.transform(features_test_encoder[cat_features])\n",
    "features_train_encoder.head()"
   ]
  },
  {
   "cell_type": "code",
   "execution_count": 41,
   "metadata": {},
   "outputs": [],
   "source": [
    "dtr_model = DecisionTreeRegressor(random_state=RANDOM_STATE)\n",
    "\n",
    "parameters = {\"splitter\":[\"random\"],\n",
    "              \"max_depth\" : [7,9],\n",
    "              \"min_samples_leaf\":[4,6],\n",
    "              \"max_features\":[\"sqrt\",None],\n",
    "              \"max_leaf_nodes\":[None,10,30]\n",
    "             }"
   ]
  },
  {
   "cell_type": "code",
   "execution_count": 42,
   "metadata": {},
   "outputs": [
    {
     "name": "stdout",
     "output_type": "stream",
     "text": [
      "Fitting 3 folds for each of 24 candidates, totalling 72 fits\n",
      "[CV 1/3] END max_depth=7, max_features=sqrt, max_leaf_nodes=None, min_samples_leaf=4, splitter=random; total time=   0.1s\n",
      "[CV 2/3] END max_depth=7, max_features=sqrt, max_leaf_nodes=None, min_samples_leaf=4, splitter=random; total time=   0.1s\n",
      "[CV 3/3] END max_depth=7, max_features=sqrt, max_leaf_nodes=None, min_samples_leaf=4, splitter=random; total time=   0.0s\n",
      "[CV 1/3] END max_depth=7, max_features=sqrt, max_leaf_nodes=None, min_samples_leaf=6, splitter=random; total time=   0.1s\n",
      "[CV 2/3] END max_depth=7, max_features=sqrt, max_leaf_nodes=None, min_samples_leaf=6, splitter=random; total time=   0.1s\n",
      "[CV 3/3] END max_depth=7, max_features=sqrt, max_leaf_nodes=None, min_samples_leaf=6, splitter=random; total time=   0.1s\n",
      "[CV 1/3] END max_depth=7, max_features=sqrt, max_leaf_nodes=10, min_samples_leaf=4, splitter=random; total time=   0.0s\n",
      "[CV 2/3] END max_depth=7, max_features=sqrt, max_leaf_nodes=10, min_samples_leaf=4, splitter=random; total time=   0.0s\n",
      "[CV 3/3] END max_depth=7, max_features=sqrt, max_leaf_nodes=10, min_samples_leaf=4, splitter=random; total time=   0.0s\n",
      "[CV 1/3] END max_depth=7, max_features=sqrt, max_leaf_nodes=10, min_samples_leaf=6, splitter=random; total time=   0.0s\n",
      "[CV 2/3] END max_depth=7, max_features=sqrt, max_leaf_nodes=10, min_samples_leaf=6, splitter=random; total time=   0.0s\n",
      "[CV 3/3] END max_depth=7, max_features=sqrt, max_leaf_nodes=10, min_samples_leaf=6, splitter=random; total time=   0.0s\n",
      "[CV 1/3] END max_depth=7, max_features=sqrt, max_leaf_nodes=30, min_samples_leaf=4, splitter=random; total time=   0.0s\n",
      "[CV 2/3] END max_depth=7, max_features=sqrt, max_leaf_nodes=30, min_samples_leaf=4, splitter=random; total time=   0.0s\n",
      "[CV 3/3] END max_depth=7, max_features=sqrt, max_leaf_nodes=30, min_samples_leaf=4, splitter=random; total time=   0.1s\n",
      "[CV 1/3] END max_depth=7, max_features=sqrt, max_leaf_nodes=30, min_samples_leaf=6, splitter=random; total time=   0.0s\n",
      "[CV 2/3] END max_depth=7, max_features=sqrt, max_leaf_nodes=30, min_samples_leaf=6, splitter=random; total time=   0.0s\n",
      "[CV 3/3] END max_depth=7, max_features=sqrt, max_leaf_nodes=30, min_samples_leaf=6, splitter=random; total time=   0.0s\n",
      "[CV 1/3] END max_depth=7, max_features=None, max_leaf_nodes=None, min_samples_leaf=4, splitter=random; total time=   0.1s\n",
      "[CV 2/3] END max_depth=7, max_features=None, max_leaf_nodes=None, min_samples_leaf=4, splitter=random; total time=   0.1s\n",
      "[CV 3/3] END max_depth=7, max_features=None, max_leaf_nodes=None, min_samples_leaf=4, splitter=random; total time=   0.1s\n",
      "[CV 1/3] END max_depth=7, max_features=None, max_leaf_nodes=None, min_samples_leaf=6, splitter=random; total time=   0.1s\n",
      "[CV 2/3] END max_depth=7, max_features=None, max_leaf_nodes=None, min_samples_leaf=6, splitter=random; total time=   0.1s\n",
      "[CV 3/3] END max_depth=7, max_features=None, max_leaf_nodes=None, min_samples_leaf=6, splitter=random; total time=   0.1s\n",
      "[CV 1/3] END max_depth=7, max_features=None, max_leaf_nodes=10, min_samples_leaf=4, splitter=random; total time=   0.1s\n",
      "[CV 2/3] END max_depth=7, max_features=None, max_leaf_nodes=10, min_samples_leaf=4, splitter=random; total time=   0.1s\n",
      "[CV 3/3] END max_depth=7, max_features=None, max_leaf_nodes=10, min_samples_leaf=4, splitter=random; total time=   0.1s\n",
      "[CV 1/3] END max_depth=7, max_features=None, max_leaf_nodes=10, min_samples_leaf=6, splitter=random; total time=   0.1s\n",
      "[CV 2/3] END max_depth=7, max_features=None, max_leaf_nodes=10, min_samples_leaf=6, splitter=random; total time=   0.1s\n",
      "[CV 3/3] END max_depth=7, max_features=None, max_leaf_nodes=10, min_samples_leaf=6, splitter=random; total time=   0.1s\n",
      "[CV 1/3] END max_depth=7, max_features=None, max_leaf_nodes=30, min_samples_leaf=4, splitter=random; total time=   0.1s\n",
      "[CV 2/3] END max_depth=7, max_features=None, max_leaf_nodes=30, min_samples_leaf=4, splitter=random; total time=   0.1s\n",
      "[CV 3/3] END max_depth=7, max_features=None, max_leaf_nodes=30, min_samples_leaf=4, splitter=random; total time=   0.1s\n",
      "[CV 1/3] END max_depth=7, max_features=None, max_leaf_nodes=30, min_samples_leaf=6, splitter=random; total time=   0.1s\n",
      "[CV 2/3] END max_depth=7, max_features=None, max_leaf_nodes=30, min_samples_leaf=6, splitter=random; total time=   0.1s\n",
      "[CV 3/3] END max_depth=7, max_features=None, max_leaf_nodes=30, min_samples_leaf=6, splitter=random; total time=   0.1s\n",
      "[CV 1/3] END max_depth=9, max_features=sqrt, max_leaf_nodes=None, min_samples_leaf=4, splitter=random; total time=   0.1s\n",
      "[CV 2/3] END max_depth=9, max_features=sqrt, max_leaf_nodes=None, min_samples_leaf=4, splitter=random; total time=   0.1s\n",
      "[CV 3/3] END max_depth=9, max_features=sqrt, max_leaf_nodes=None, min_samples_leaf=4, splitter=random; total time=   0.0s\n",
      "[CV 1/3] END max_depth=9, max_features=sqrt, max_leaf_nodes=None, min_samples_leaf=6, splitter=random; total time=   0.1s\n",
      "[CV 2/3] END max_depth=9, max_features=sqrt, max_leaf_nodes=None, min_samples_leaf=6, splitter=random; total time=   0.1s\n",
      "[CV 3/3] END max_depth=9, max_features=sqrt, max_leaf_nodes=None, min_samples_leaf=6, splitter=random; total time=   0.0s\n",
      "[CV 1/3] END max_depth=9, max_features=sqrt, max_leaf_nodes=10, min_samples_leaf=4, splitter=random; total time=   0.0s\n",
      "[CV 2/3] END max_depth=9, max_features=sqrt, max_leaf_nodes=10, min_samples_leaf=4, splitter=random; total time=   0.0s\n",
      "[CV 3/3] END max_depth=9, max_features=sqrt, max_leaf_nodes=10, min_samples_leaf=4, splitter=random; total time=   0.0s\n",
      "[CV 1/3] END max_depth=9, max_features=sqrt, max_leaf_nodes=10, min_samples_leaf=6, splitter=random; total time=   0.0s\n",
      "[CV 2/3] END max_depth=9, max_features=sqrt, max_leaf_nodes=10, min_samples_leaf=6, splitter=random; total time=   0.0s\n",
      "[CV 3/3] END max_depth=9, max_features=sqrt, max_leaf_nodes=10, min_samples_leaf=6, splitter=random; total time=   0.0s\n",
      "[CV 1/3] END max_depth=9, max_features=sqrt, max_leaf_nodes=30, min_samples_leaf=4, splitter=random; total time=   0.0s\n",
      "[CV 2/3] END max_depth=9, max_features=sqrt, max_leaf_nodes=30, min_samples_leaf=4, splitter=random; total time=   0.0s\n",
      "[CV 3/3] END max_depth=9, max_features=sqrt, max_leaf_nodes=30, min_samples_leaf=4, splitter=random; total time=   0.0s\n",
      "[CV 1/3] END max_depth=9, max_features=sqrt, max_leaf_nodes=30, min_samples_leaf=6, splitter=random; total time=   0.0s\n",
      "[CV 2/3] END max_depth=9, max_features=sqrt, max_leaf_nodes=30, min_samples_leaf=6, splitter=random; total time=   0.0s\n",
      "[CV 3/3] END max_depth=9, max_features=sqrt, max_leaf_nodes=30, min_samples_leaf=6, splitter=random; total time=   0.0s\n",
      "[CV 1/3] END max_depth=9, max_features=None, max_leaf_nodes=None, min_samples_leaf=4, splitter=random; total time=   0.1s\n",
      "[CV 2/3] END max_depth=9, max_features=None, max_leaf_nodes=None, min_samples_leaf=4, splitter=random; total time=   0.1s\n",
      "[CV 3/3] END max_depth=9, max_features=None, max_leaf_nodes=None, min_samples_leaf=4, splitter=random; total time=   0.1s\n",
      "[CV 1/3] END max_depth=9, max_features=None, max_leaf_nodes=None, min_samples_leaf=6, splitter=random; total time=   0.1s\n",
      "[CV 2/3] END max_depth=9, max_features=None, max_leaf_nodes=None, min_samples_leaf=6, splitter=random; total time=   0.1s\n",
      "[CV 3/3] END max_depth=9, max_features=None, max_leaf_nodes=None, min_samples_leaf=6, splitter=random; total time=   0.1s\n",
      "[CV 1/3] END max_depth=9, max_features=None, max_leaf_nodes=10, min_samples_leaf=4, splitter=random; total time=   0.1s\n",
      "[CV 2/3] END max_depth=9, max_features=None, max_leaf_nodes=10, min_samples_leaf=4, splitter=random; total time=   0.1s\n",
      "[CV 3/3] END max_depth=9, max_features=None, max_leaf_nodes=10, min_samples_leaf=4, splitter=random; total time=   0.1s\n",
      "[CV 1/3] END max_depth=9, max_features=None, max_leaf_nodes=10, min_samples_leaf=6, splitter=random; total time=   0.1s\n",
      "[CV 2/3] END max_depth=9, max_features=None, max_leaf_nodes=10, min_samples_leaf=6, splitter=random; total time=   0.1s\n",
      "[CV 3/3] END max_depth=9, max_features=None, max_leaf_nodes=10, min_samples_leaf=6, splitter=random; total time=   0.1s\n",
      "[CV 1/3] END max_depth=9, max_features=None, max_leaf_nodes=30, min_samples_leaf=4, splitter=random; total time=   0.1s\n",
      "[CV 2/3] END max_depth=9, max_features=None, max_leaf_nodes=30, min_samples_leaf=4, splitter=random; total time=   0.1s\n",
      "[CV 3/3] END max_depth=9, max_features=None, max_leaf_nodes=30, min_samples_leaf=4, splitter=random; total time=   0.1s\n",
      "[CV 1/3] END max_depth=9, max_features=None, max_leaf_nodes=30, min_samples_leaf=6, splitter=random; total time=   0.1s\n",
      "[CV 2/3] END max_depth=9, max_features=None, max_leaf_nodes=30, min_samples_leaf=6, splitter=random; total time=   0.1s\n",
      "[CV 3/3] END max_depth=9, max_features=None, max_leaf_nodes=30, min_samples_leaf=6, splitter=random; total time=   0.1s\n"
     ]
    },
    {
     "data": {
      "text/plain": [
       "GridSearchCV(cv=3, estimator=DecisionTreeRegressor(random_state=12345),\n",
       "             n_jobs=-1,\n",
       "             param_grid={'max_depth': [7, 9], 'max_features': ['sqrt', None],\n",
       "                         'max_leaf_nodes': [None, 10, 30],\n",
       "                         'min_samples_leaf': [4, 6], 'splitter': ['random']},\n",
       "             scoring='neg_root_mean_squared_error', verbose=3)"
      ]
     },
     "execution_count": 42,
     "metadata": {},
     "output_type": "execute_result"
    }
   ],
   "source": [
    "dtr_tuned = GridSearchCV(dtr_model,\n",
    "                         param_grid=parameters,\n",
    "                         scoring='neg_root_mean_squared_error',\n",
    "                         cv=3,verbose=3, \n",
    "                         n_jobs=-1)\n",
    "\n",
    "dtr_tuned.fit(features_train_encoder, target_train)"
   ]
  },
  {
   "cell_type": "code",
   "execution_count": 43,
   "metadata": {},
   "outputs": [
    {
     "data": {
      "text/plain": [
       "{'max_depth': 9,\n",
       " 'max_features': None,\n",
       " 'max_leaf_nodes': None,\n",
       " 'min_samples_leaf': 4,\n",
       " 'splitter': 'random'}"
      ]
     },
     "execution_count": 43,
     "metadata": {},
     "output_type": "execute_result"
    }
   ],
   "source": [
    "dtr_tuned.best_params_"
   ]
  },
  {
   "cell_type": "code",
   "execution_count": 44,
   "metadata": {},
   "outputs": [
    {
     "name": "stdout",
     "output_type": "stream",
     "text": [
      "RMSE dtr: 2926.59792302078\n"
     ]
    }
   ],
   "source": [
    "print('RMSE dtr:', abs(dtr_tuned.cv_results_['mean_test_score'].mean()))"
   ]
  },
  {
   "cell_type": "code",
   "execution_count": 45,
   "metadata": {},
   "outputs": [],
   "source": [
    "model_dt = DecisionTreeRegressor(random_state=RANDOM_STATE, **dtr_tuned.best_params_)"
   ]
  },
  {
   "cell_type": "code",
   "execution_count": 46,
   "metadata": {},
   "outputs": [
    {
     "name": "stdout",
     "output_type": "stream",
     "text": [
      "CPU times: user 121 ms, sys: 119 µs, total: 121 ms\n",
      "Wall time: 120 ms\n"
     ]
    },
    {
     "data": {
      "text/plain": [
       "DecisionTreeRegressor(max_depth=9, min_samples_leaf=4, random_state=12345,\n",
       "                      splitter='random')"
      ]
     },
     "execution_count": 46,
     "metadata": {},
     "output_type": "execute_result"
    }
   ],
   "source": [
    "%%time\n",
    "model_dt.fit(features_train_encoder, target_train)"
   ]
  },
  {
   "cell_type": "code",
   "execution_count": 47,
   "metadata": {},
   "outputs": [
    {
     "name": "stdout",
     "output_type": "stream",
     "text": [
      "CPU times: user 22.4 ms, sys: 66 µs, total: 22.5 ms\n",
      "Wall time: 20.5 ms\n"
     ]
    },
    {
     "data": {
      "text/plain": [
       "array([2457.9419985 , 2298.29755234, 2298.29755234, ..., 1168.88013319,\n",
       "       1479.32115385, 9030.36450584])"
      ]
     },
     "execution_count": 47,
     "metadata": {},
     "output_type": "execute_result"
    }
   ],
   "source": [
    "%%time\n",
    "model_dt.predict(features_train_encoder)"
   ]
  },
  {
   "cell_type": "markdown",
   "metadata": {},
   "source": [
    "## Анализ моделей"
   ]
  },
  {
   "cell_type": "markdown",
   "metadata": {},
   "source": [
    "Наилучший показатель по времени дала модель DecisionTreeRegressor, но с самой плохой метрикой, поэтому для оптимальной метрики и времени обучения выберем CatBoost и проверим на тестовой выборке"
   ]
  },
  {
   "cell_type": "code",
   "execution_count": 48,
   "metadata": {},
   "outputs": [
    {
     "data": {
      "text/html": [
       "<div>\n",
       "<style scoped>\n",
       "    .dataframe tbody tr th:only-of-type {\n",
       "        vertical-align: middle;\n",
       "    }\n",
       "\n",
       "    .dataframe tbody tr th {\n",
       "        vertical-align: top;\n",
       "    }\n",
       "\n",
       "    .dataframe thead th {\n",
       "        text-align: right;\n",
       "    }\n",
       "</style>\n",
       "<table border=\"1\" class=\"dataframe\">\n",
       "  <thead>\n",
       "    <tr style=\"text-align: right;\">\n",
       "      <th></th>\n",
       "      <th>Время обучения</th>\n",
       "      <th>Время предсказания</th>\n",
       "      <th>RMSE</th>\n",
       "    </tr>\n",
       "  </thead>\n",
       "  <tbody>\n",
       "    <tr>\n",
       "      <th>CatBoost</th>\n",
       "      <td>4.79 s</td>\n",
       "      <td>243 ms</td>\n",
       "      <td>1612.09</td>\n",
       "    </tr>\n",
       "    <tr>\n",
       "      <th>LightGBM</th>\n",
       "      <td>4.96 s</td>\n",
       "      <td>2.02 s</td>\n",
       "      <td>1575.90</td>\n",
       "    </tr>\n",
       "    <tr>\n",
       "      <th>DecisionTreeRegressor</th>\n",
       "      <td>118 ms</td>\n",
       "      <td>21.2 ms</td>\n",
       "      <td>2926.50</td>\n",
       "    </tr>\n",
       "  </tbody>\n",
       "</table>\n",
       "</div>"
      ],
      "text/plain": [
       "                      Время обучения Время предсказания     RMSE\n",
       "CatBoost                      4.79 s             243 ms  1612.09\n",
       "LightGBM                      4.96 s             2.02 s  1575.90\n",
       "DecisionTreeRegressor         118 ms            21.2 ms  2926.50"
      ]
     },
     "execution_count": 48,
     "metadata": {},
     "output_type": "execute_result"
    }
   ],
   "source": [
    "data = {'Время обучения': ['4.79 s', '4.96 s', '118 ms'],\n",
    "        'Время предсказания': ['243 ms', '2.02 s', '21.2 ms'],\n",
    "        'RMSE': [1612.09, 1575.9, 2926.5]}\n",
    "\n",
    "pd.DataFrame(data, index=['CatBoost', 'LightGBM', 'DecisionTreeRegressor'])"
   ]
  },
  {
   "cell_type": "code",
   "execution_count": 49,
   "metadata": {},
   "outputs": [
    {
     "data": {
      "text/plain": [
       "{'depth': 10, 'iterations': 40, 'learning_rate': 0.5000000000000001}"
      ]
     },
     "execution_count": 49,
     "metadata": {},
     "output_type": "execute_result"
    }
   ],
   "source": [
    "catboost_grid['params']"
   ]
  },
  {
   "cell_type": "code",
   "execution_count": 50,
   "metadata": {},
   "outputs": [],
   "source": [
    "test_pool = Pool(data=features_test,\n",
    "                  label=target_test,\n",
    "                  cat_features=cat_features\n",
    "                 )"
   ]
  },
  {
   "cell_type": "code",
   "execution_count": 51,
   "metadata": {
    "scrolled": true
   },
   "outputs": [
    {
     "name": "stdout",
     "output_type": "stream",
     "text": [
      "0:\tlearn: 2732.5874475\ttest: 2741.1108034\tbest: 2741.1108034 (0)\ttotal: 149ms\tremaining: 5.82s\n",
      "1:\tlearn: 2222.0085880\ttest: 2229.2682360\tbest: 2229.2682360 (1)\ttotal: 257ms\tremaining: 4.89s\n",
      "2:\tlearn: 1971.4695402\ttest: 1977.2122365\tbest: 1977.2122365 (2)\ttotal: 377ms\tremaining: 4.65s\n",
      "3:\tlearn: 1839.5720020\ttest: 1847.7431581\tbest: 1847.7431581 (3)\ttotal: 488ms\tremaining: 4.39s\n",
      "4:\tlearn: 1771.7117834\ttest: 1779.6869492\tbest: 1779.6869492 (4)\ttotal: 596ms\tremaining: 4.17s\n",
      "5:\tlearn: 1744.1607598\ttest: 1753.8335070\tbest: 1753.8335070 (5)\ttotal: 687ms\tremaining: 3.89s\n",
      "6:\tlearn: 1720.9357987\ttest: 1733.1951831\tbest: 1733.1951831 (6)\ttotal: 780ms\tremaining: 3.68s\n",
      "7:\tlearn: 1703.5515332\ttest: 1717.7557591\tbest: 1717.7557591 (7)\ttotal: 874ms\tremaining: 3.5s\n",
      "8:\tlearn: 1688.3240280\ttest: 1704.4015469\tbest: 1704.4015469 (8)\ttotal: 965ms\tremaining: 3.33s\n",
      "9:\tlearn: 1673.3164143\ttest: 1691.7523606\tbest: 1691.7523606 (9)\ttotal: 1.06s\tremaining: 3.17s\n",
      "10:\tlearn: 1663.8222843\ttest: 1683.9682940\tbest: 1683.9682940 (10)\ttotal: 1.16s\tremaining: 3.07s\n",
      "11:\tlearn: 1655.8273750\ttest: 1677.7880241\tbest: 1677.7880241 (11)\ttotal: 1.26s\tremaining: 2.93s\n",
      "12:\tlearn: 1646.1118189\ttest: 1670.2915212\tbest: 1670.2915212 (12)\ttotal: 1.35s\tremaining: 2.81s\n",
      "13:\tlearn: 1635.8471460\ttest: 1664.2512850\tbest: 1664.2512850 (13)\ttotal: 1.45s\tremaining: 2.69s\n",
      "14:\tlearn: 1628.0036058\ttest: 1658.5764849\tbest: 1658.5764849 (14)\ttotal: 1.54s\tremaining: 2.57s\n",
      "15:\tlearn: 1621.4905048\ttest: 1655.9587121\tbest: 1655.9587121 (15)\ttotal: 1.63s\tremaining: 2.45s\n",
      "16:\tlearn: 1614.6184020\ttest: 1651.9593262\tbest: 1651.9593262 (16)\ttotal: 1.73s\tremaining: 2.35s\n",
      "17:\tlearn: 1608.5769966\ttest: 1647.1635960\tbest: 1647.1635960 (17)\ttotal: 1.85s\tremaining: 2.26s\n",
      "18:\tlearn: 1604.9852768\ttest: 1644.0666028\tbest: 1644.0666028 (18)\ttotal: 1.94s\tremaining: 2.15s\n",
      "19:\tlearn: 1599.7598923\ttest: 1640.7661961\tbest: 1640.7661961 (19)\ttotal: 2.04s\tremaining: 2.04s\n",
      "20:\tlearn: 1594.7074215\ttest: 1636.5226806\tbest: 1636.5226806 (20)\ttotal: 2.14s\tremaining: 1.93s\n",
      "21:\tlearn: 1589.3541095\ttest: 1632.3817028\tbest: 1632.3817028 (21)\ttotal: 2.23s\tremaining: 1.83s\n",
      "22:\tlearn: 1582.0882495\ttest: 1628.0182217\tbest: 1628.0182217 (22)\ttotal: 2.33s\tremaining: 1.72s\n",
      "23:\tlearn: 1577.5716416\ttest: 1626.0551620\tbest: 1626.0551620 (23)\ttotal: 2.43s\tremaining: 1.62s\n",
      "24:\tlearn: 1575.1584434\ttest: 1625.6908880\tbest: 1625.6908880 (24)\ttotal: 2.53s\tremaining: 1.52s\n",
      "25:\tlearn: 1572.9789618\ttest: 1624.5462813\tbest: 1624.5462813 (25)\ttotal: 2.62s\tremaining: 1.41s\n",
      "26:\tlearn: 1567.2125673\ttest: 1620.1123852\tbest: 1620.1123852 (26)\ttotal: 2.72s\tremaining: 1.31s\n",
      "27:\tlearn: 1563.9165652\ttest: 1618.9706746\tbest: 1618.9706746 (27)\ttotal: 2.81s\tremaining: 1.2s\n",
      "28:\tlearn: 1560.6555306\ttest: 1618.1742316\tbest: 1618.1742316 (28)\ttotal: 2.91s\tremaining: 1.1s\n",
      "29:\tlearn: 1557.4492031\ttest: 1615.1099274\tbest: 1615.1099274 (29)\ttotal: 3s\tremaining: 1s\n",
      "30:\tlearn: 1553.6837356\ttest: 1613.9282331\tbest: 1613.9282331 (30)\ttotal: 3.1s\tremaining: 899ms\n",
      "31:\tlearn: 1549.4824218\ttest: 1612.6180577\tbest: 1612.6180577 (31)\ttotal: 3.19s\tremaining: 798ms\n",
      "32:\tlearn: 1545.3334879\ttest: 1610.6841517\tbest: 1610.6841517 (32)\ttotal: 3.28s\tremaining: 697ms\n",
      "33:\tlearn: 1542.7681228\ttest: 1608.8189944\tbest: 1608.8189944 (33)\ttotal: 3.38s\tremaining: 596ms\n",
      "34:\tlearn: 1540.9230758\ttest: 1607.9252980\tbest: 1607.9252980 (34)\ttotal: 3.46s\tremaining: 495ms\n",
      "35:\tlearn: 1534.6993202\ttest: 1602.8730995\tbest: 1602.8730995 (35)\ttotal: 3.55s\tremaining: 395ms\n",
      "36:\tlearn: 1529.8455426\ttest: 1598.8804254\tbest: 1598.8804254 (36)\ttotal: 3.64s\tremaining: 296ms\n",
      "37:\tlearn: 1527.5264625\ttest: 1597.4824878\tbest: 1597.4824878 (37)\ttotal: 3.74s\tremaining: 197ms\n",
      "38:\tlearn: 1524.8475455\ttest: 1596.1076769\tbest: 1596.1076769 (38)\ttotal: 3.83s\tremaining: 98.2ms\n",
      "39:\tlearn: 1522.1223871\ttest: 1594.9101359\tbest: 1594.9101359 (39)\ttotal: 3.93s\tremaining: 0us\n",
      "\n",
      "bestTest = 1594.910136\n",
      "bestIteration = 39\n",
      "\n"
     ]
    },
    {
     "data": {
      "text/plain": [
       "<catboost.core.CatBoostRegressor at 0x7f2973c49ee0>"
      ]
     },
     "execution_count": 51,
     "metadata": {},
     "output_type": "execute_result"
    }
   ],
   "source": [
    "cb_model = CatBoostRegressor(loss_function='RMSE', **catboost_grid['params'])\n",
    "cb_model.fit(train_pool, eval_set=test_pool)"
   ]
  },
  {
   "cell_type": "code",
   "execution_count": 52,
   "metadata": {},
   "outputs": [
    {
     "name": "stdout",
     "output_type": "stream",
     "text": [
      "RMSE CatBoost: 1594.910135913084\n"
     ]
    }
   ],
   "source": [
    "print('RMSE CatBoost:', cb_model.best_score_['validation']['RMSE'])"
   ]
  },
  {
   "cell_type": "code",
   "execution_count": 53,
   "metadata": {},
   "outputs": [
    {
     "name": "stdout",
     "output_type": "stream",
     "text": [
      "Метрика RMSE для dummy:  3946.3161461978098\n"
     ]
    }
   ],
   "source": [
    "dummy_model = DummyRegressor()\n",
    "dummy_model.fit(features_train_encoder, target_train)\n",
    "dummy_predictions = dummy_model.predict(features_test_encoder)\n",
    "mse = mean_squared_error(target_test, dummy_predictions)\n",
    "print('Метрика RMSE для dummy: ', mse ** 0.5)"
   ]
  },
  {
   "cell_type": "markdown",
   "metadata": {},
   "source": [
    "Выбранная модель почти в 2 раза лучше константной"
   ]
  },
  {
   "cell_type": "markdown",
   "metadata": {},
   "source": [
    "## Вывод"
   ]
  },
  {
   "cell_type": "markdown",
   "metadata": {},
   "source": [
    "В ходе проекта:\n",
    "\n",
    "- была проведена обработка даннных (устранены выбросы, удалены дубликаты и тд)\n",
    "- была выбранная лучшая модель по соотношению скорости и метрики, это CatBoost\n",
    "- для проверки модели дерева решений, было применено порядковое кодироване\n",
    "- финальный результат проверили на адекватность, сравнив с константной моделью"
   ]
  }
 ],
 "metadata": {
  "ExecuteTimeLog": [
   {
    "duration": 1793,
    "start_time": "2023-09-14T07:55:22.178Z"
   },
   {
    "duration": 25,
    "start_time": "2023-09-14T08:13:50.699Z"
   },
   {
    "duration": 2,
    "start_time": "2023-09-14T08:13:51.947Z"
   },
   {
    "duration": 3,
    "start_time": "2023-09-14T08:13:53.353Z"
   },
   {
    "duration": 1227,
    "start_time": "2023-09-14T08:16:43.585Z"
   },
   {
    "duration": 1046,
    "start_time": "2023-09-14T08:16:51.839Z"
   },
   {
    "duration": 156,
    "start_time": "2023-09-14T08:17:16.266Z"
   },
   {
    "duration": 496,
    "start_time": "2023-09-14T08:21:14.148Z"
   },
   {
    "duration": 145,
    "start_time": "2023-09-14T08:21:39.688Z"
   },
   {
    "duration": 35,
    "start_time": "2023-09-14T10:02:36.235Z"
   },
   {
    "duration": 29,
    "start_time": "2023-09-14T10:02:49.048Z"
   },
   {
    "duration": 242,
    "start_time": "2023-09-14T10:02:52.083Z"
   },
   {
    "duration": 1606,
    "start_time": "2023-09-14T10:24:13.229Z"
   },
   {
    "duration": 3,
    "start_time": "2023-09-14T10:24:14.837Z"
   },
   {
    "duration": 32,
    "start_time": "2023-09-14T10:24:14.842Z"
   },
   {
    "duration": 1029,
    "start_time": "2023-09-14T10:24:14.876Z"
   },
   {
    "duration": 164,
    "start_time": "2023-09-14T10:24:15.910Z"
   },
   {
    "duration": 41,
    "start_time": "2023-09-14T10:24:16.076Z"
   },
   {
    "duration": 259,
    "start_time": "2023-09-14T10:24:16.119Z"
   },
   {
    "duration": 324,
    "start_time": "2023-09-14T10:24:16.380Z"
   },
   {
    "duration": 105,
    "start_time": "2023-09-14T10:24:16.708Z"
   },
   {
    "duration": 132,
    "start_time": "2023-09-14T10:24:16.815Z"
   },
   {
    "duration": 218,
    "start_time": "2023-09-14T10:25:31.595Z"
   },
   {
    "duration": 1802,
    "start_time": "2023-09-14T10:25:39.252Z"
   },
   {
    "duration": 4,
    "start_time": "2023-09-14T10:25:41.056Z"
   },
   {
    "duration": 11,
    "start_time": "2023-09-14T10:25:41.064Z"
   },
   {
    "duration": 986,
    "start_time": "2023-09-14T10:25:41.078Z"
   },
   {
    "duration": 183,
    "start_time": "2023-09-14T10:25:42.065Z"
   },
   {
    "duration": 626,
    "start_time": "2023-09-14T10:25:42.250Z"
   },
   {
    "duration": 709,
    "start_time": "2023-09-14T10:25:42.878Z"
   },
   {
    "duration": 37,
    "start_time": "2023-09-14T10:25:43.589Z"
   },
   {
    "duration": 113,
    "start_time": "2023-09-14T10:25:43.628Z"
   },
   {
    "duration": 135,
    "start_time": "2023-09-14T10:25:43.743Z"
   },
   {
    "duration": 261,
    "start_time": "2023-09-14T10:25:48.196Z"
   },
   {
    "duration": 19,
    "start_time": "2023-09-14T10:25:53.557Z"
   },
   {
    "duration": 1778,
    "start_time": "2023-09-14T10:25:59.975Z"
   },
   {
    "duration": 2,
    "start_time": "2023-09-14T10:26:01.756Z"
   },
   {
    "duration": 52,
    "start_time": "2023-09-14T10:26:01.760Z"
   },
   {
    "duration": 1215,
    "start_time": "2023-09-14T10:26:01.814Z"
   },
   {
    "duration": 236,
    "start_time": "2023-09-14T10:26:03.034Z"
   },
   {
    "duration": 602,
    "start_time": "2023-09-14T10:26:03.273Z"
   },
   {
    "duration": 638,
    "start_time": "2023-09-14T10:26:03.877Z"
   },
   {
    "duration": 35,
    "start_time": "2023-09-14T10:26:04.517Z"
   },
   {
    "duration": 148,
    "start_time": "2023-09-14T10:26:04.554Z"
   },
   {
    "duration": 144,
    "start_time": "2023-09-14T10:26:04.704Z"
   },
   {
    "duration": 40,
    "start_time": "2023-09-14T10:27:24.752Z"
   },
   {
    "duration": 150,
    "start_time": "2023-09-14T10:28:13.251Z"
   },
   {
    "duration": 22,
    "start_time": "2023-09-14T10:30:53.287Z"
   },
   {
    "duration": 12,
    "start_time": "2023-09-14T10:30:59.235Z"
   },
   {
    "duration": 167,
    "start_time": "2023-09-14T10:45:29.687Z"
   },
   {
    "duration": 108,
    "start_time": "2023-09-14T10:45:46.861Z"
   },
   {
    "duration": 216,
    "start_time": "2023-09-14T11:16:50.540Z"
   },
   {
    "duration": 29,
    "start_time": "2023-09-14T11:17:16.310Z"
   },
   {
    "duration": 116,
    "start_time": "2023-09-14T11:17:18.495Z"
   },
   {
    "duration": 754,
    "start_time": "2023-09-14T11:21:25.983Z"
   },
   {
    "duration": 150,
    "start_time": "2023-09-14T11:29:03.285Z"
   },
   {
    "duration": 734,
    "start_time": "2023-09-14T11:30:17.308Z"
   },
   {
    "duration": 2173,
    "start_time": "2023-09-14T11:34:20.084Z"
   },
   {
    "duration": 5216,
    "start_time": "2023-09-14T11:35:01.901Z"
   },
   {
    "duration": 449,
    "start_time": "2023-09-14T11:35:37.316Z"
   },
   {
    "duration": 85,
    "start_time": "2023-09-14T11:36:24.825Z"
   },
   {
    "duration": 676,
    "start_time": "2023-09-14T11:38:28.916Z"
   },
   {
    "duration": 72,
    "start_time": "2023-09-14T11:39:28.769Z"
   },
   {
    "duration": 13,
    "start_time": "2023-09-14T11:46:11.507Z"
   },
   {
    "duration": 4,
    "start_time": "2023-09-14T11:46:14.265Z"
   },
   {
    "duration": 12,
    "start_time": "2023-09-14T11:47:25.087Z"
   },
   {
    "duration": 113,
    "start_time": "2023-09-14T11:47:37.098Z"
   },
   {
    "duration": 161,
    "start_time": "2023-09-14T11:47:44.817Z"
   },
   {
    "duration": 94,
    "start_time": "2023-09-14T11:47:58.916Z"
   },
   {
    "duration": 63,
    "start_time": "2023-09-14T11:48:02.938Z"
   },
   {
    "duration": 4,
    "start_time": "2023-09-14T11:48:31.625Z"
   },
   {
    "duration": 5,
    "start_time": "2023-09-14T11:50:56.968Z"
   },
   {
    "duration": 532,
    "start_time": "2023-09-14T11:51:53.700Z"
   },
   {
    "duration": 319,
    "start_time": "2023-09-14T12:00:02.401Z"
   },
   {
    "duration": 659,
    "start_time": "2023-09-14T12:00:11.095Z"
   },
   {
    "duration": 1251,
    "start_time": "2023-09-14T12:00:26.675Z"
   },
   {
    "duration": 679,
    "start_time": "2023-09-14T12:00:52.504Z"
   },
   {
    "duration": 566,
    "start_time": "2023-09-14T12:03:35.871Z"
   },
   {
    "duration": 1021,
    "start_time": "2023-09-14T12:03:45.083Z"
   },
   {
    "duration": 88,
    "start_time": "2023-09-14T12:03:58.545Z"
   },
   {
    "duration": 1064,
    "start_time": "2023-09-14T12:04:05.373Z"
   },
   {
    "duration": 334,
    "start_time": "2023-09-14T12:07:47.003Z"
   },
   {
    "duration": 972,
    "start_time": "2023-09-14T12:08:33.256Z"
   },
   {
    "duration": 820,
    "start_time": "2023-09-14T12:08:51.459Z"
   },
   {
    "duration": 535,
    "start_time": "2023-09-14T12:09:22.522Z"
   },
   {
    "duration": 1042,
    "start_time": "2023-09-14T12:09:31.934Z"
   },
   {
    "duration": 804,
    "start_time": "2023-09-14T12:10:35.134Z"
   },
   {
    "duration": 3,
    "start_time": "2023-09-14T12:15:11.591Z"
   },
   {
    "duration": 15,
    "start_time": "2023-09-14T12:15:43.461Z"
   },
   {
    "duration": 4,
    "start_time": "2023-09-14T12:16:25.621Z"
   },
   {
    "duration": 15,
    "start_time": "2023-09-14T12:16:27.604Z"
   },
   {
    "duration": 4,
    "start_time": "2023-09-14T12:16:37.816Z"
   },
   {
    "duration": 1507,
    "start_time": "2023-09-14T12:16:39.398Z"
   },
   {
    "duration": 88,
    "start_time": "2023-09-14T12:16:52.590Z"
   },
   {
    "duration": 3,
    "start_time": "2023-09-14T12:16:58.483Z"
   },
   {
    "duration": 81,
    "start_time": "2023-09-14T12:17:00.280Z"
   },
   {
    "duration": 3,
    "start_time": "2023-09-14T12:17:09.411Z"
   },
   {
    "duration": 75,
    "start_time": "2023-09-14T12:17:10.782Z"
   },
   {
    "duration": 9,
    "start_time": "2023-09-14T12:22:59.909Z"
   },
   {
    "duration": 131,
    "start_time": "2023-09-14T12:23:02.220Z"
   },
   {
    "duration": 4,
    "start_time": "2023-09-14T12:23:06.085Z"
   },
   {
    "duration": 286,
    "start_time": "2023-09-14T12:23:07.919Z"
   },
   {
    "duration": 3,
    "start_time": "2023-09-14T12:23:14.785Z"
   },
   {
    "duration": 153,
    "start_time": "2023-09-14T12:23:16.139Z"
   },
   {
    "duration": 151,
    "start_time": "2023-09-14T12:23:26.665Z"
   },
   {
    "duration": 4,
    "start_time": "2023-09-14T12:24:39.722Z"
   },
   {
    "duration": 168,
    "start_time": "2023-09-14T12:24:41.096Z"
   },
   {
    "duration": 181,
    "start_time": "2023-09-14T12:24:43.955Z"
   },
   {
    "duration": 4,
    "start_time": "2023-09-14T12:24:51.418Z"
   },
   {
    "duration": 161,
    "start_time": "2023-09-14T12:24:52.927Z"
   },
   {
    "duration": 4,
    "start_time": "2023-09-14T12:25:34.575Z"
   },
   {
    "duration": 162,
    "start_time": "2023-09-14T12:25:36.035Z"
   },
   {
    "duration": 4,
    "start_time": "2023-09-14T12:25:45.464Z"
   },
   {
    "duration": 506,
    "start_time": "2023-09-14T12:25:59.282Z"
   },
   {
    "duration": 3,
    "start_time": "2023-09-14T12:26:38.532Z"
   },
   {
    "duration": 168,
    "start_time": "2023-09-14T12:26:40.043Z"
   },
   {
    "duration": 637,
    "start_time": "2023-09-14T12:27:17.356Z"
   },
   {
    "duration": 4,
    "start_time": "2023-09-14T12:27:35.979Z"
   },
   {
    "duration": 742,
    "start_time": "2023-09-14T12:27:50.055Z"
   },
   {
    "duration": 613,
    "start_time": "2023-09-14T12:27:55.952Z"
   },
   {
    "duration": 1603,
    "start_time": "2023-09-14T12:28:12.261Z"
   },
   {
    "duration": 2,
    "start_time": "2023-09-14T12:28:13.866Z"
   },
   {
    "duration": 4,
    "start_time": "2023-09-14T12:28:13.870Z"
   },
   {
    "duration": 955,
    "start_time": "2023-09-14T12:28:13.876Z"
   },
   {
    "duration": 158,
    "start_time": "2023-09-14T12:28:14.833Z"
   },
   {
    "duration": 563,
    "start_time": "2023-09-14T12:28:14.993Z"
   },
   {
    "duration": 594,
    "start_time": "2023-09-14T12:28:15.559Z"
   },
   {
    "duration": 32,
    "start_time": "2023-09-14T12:28:16.155Z"
   },
   {
    "duration": 109,
    "start_time": "2023-09-14T12:28:16.188Z"
   },
   {
    "duration": 28,
    "start_time": "2023-09-14T12:28:16.299Z"
   },
   {
    "duration": 175,
    "start_time": "2023-09-14T12:28:16.329Z"
   },
   {
    "duration": 112,
    "start_time": "2023-09-14T12:28:16.506Z"
   },
   {
    "duration": 4,
    "start_time": "2023-09-14T12:28:16.619Z"
   },
   {
    "duration": 92,
    "start_time": "2023-09-14T12:28:16.626Z"
   },
   {
    "duration": 8,
    "start_time": "2023-09-14T12:28:16.720Z"
   },
   {
    "duration": 4,
    "start_time": "2023-09-14T12:28:16.730Z"
   },
   {
    "duration": 645,
    "start_time": "2023-09-14T12:28:16.736Z"
   },
   {
    "duration": 405,
    "start_time": "2023-09-14T12:29:00.655Z"
   },
   {
    "duration": 1539,
    "start_time": "2023-09-14T12:29:20.316Z"
   },
   {
    "duration": 3,
    "start_time": "2023-09-14T12:29:21.857Z"
   },
   {
    "duration": 8,
    "start_time": "2023-09-14T12:29:21.861Z"
   },
   {
    "duration": 1015,
    "start_time": "2023-09-14T12:29:21.870Z"
   },
   {
    "duration": 160,
    "start_time": "2023-09-14T12:29:22.888Z"
   },
   {
    "duration": 502,
    "start_time": "2023-09-14T12:29:23.051Z"
   },
   {
    "duration": 618,
    "start_time": "2023-09-14T12:29:23.555Z"
   },
   {
    "duration": 41,
    "start_time": "2023-09-14T12:29:24.175Z"
   },
   {
    "duration": 110,
    "start_time": "2023-09-14T12:29:24.217Z"
   },
   {
    "duration": 24,
    "start_time": "2023-09-14T12:29:24.329Z"
   },
   {
    "duration": 177,
    "start_time": "2023-09-14T12:29:24.355Z"
   },
   {
    "duration": 102,
    "start_time": "2023-09-14T12:29:24.533Z"
   },
   {
    "duration": 4,
    "start_time": "2023-09-14T12:29:24.636Z"
   },
   {
    "duration": 97,
    "start_time": "2023-09-14T12:29:24.642Z"
   },
   {
    "duration": 9,
    "start_time": "2023-09-14T12:29:24.740Z"
   },
   {
    "duration": 8,
    "start_time": "2023-09-14T12:29:24.750Z"
   },
   {
    "duration": 475,
    "start_time": "2023-09-14T12:29:24.759Z"
   },
   {
    "duration": 4,
    "start_time": "2023-09-14T12:30:26.782Z"
   },
   {
    "duration": 117,
    "start_time": "2023-09-14T12:30:27.989Z"
   },
   {
    "duration": 461,
    "start_time": "2023-09-14T12:30:57.061Z"
   },
   {
    "duration": 423,
    "start_time": "2023-09-14T12:31:35.425Z"
   },
   {
    "duration": 437,
    "start_time": "2023-09-14T12:31:52.915Z"
   },
   {
    "duration": 416,
    "start_time": "2023-09-14T12:31:55.515Z"
   },
   {
    "duration": 526,
    "start_time": "2023-09-14T12:37:28.080Z"
   },
   {
    "duration": 475,
    "start_time": "2023-09-14T12:37:34.917Z"
   },
   {
    "duration": 12,
    "start_time": "2023-09-14T12:38:11.296Z"
   },
   {
    "duration": 9,
    "start_time": "2023-09-14T12:38:32.115Z"
   },
   {
    "duration": 3,
    "start_time": "2023-09-14T12:43:46.698Z"
   },
   {
    "duration": 5,
    "start_time": "2023-09-14T12:44:43.324Z"
   },
   {
    "duration": 8,
    "start_time": "2023-09-14T12:45:40.212Z"
   },
   {
    "duration": 18,
    "start_time": "2023-09-14T12:45:52.475Z"
   },
   {
    "duration": 28,
    "start_time": "2023-09-14T12:46:06.916Z"
   },
   {
    "duration": 1533,
    "start_time": "2023-09-14T12:46:35.824Z"
   },
   {
    "duration": 3,
    "start_time": "2023-09-14T12:46:37.359Z"
   },
   {
    "duration": 23,
    "start_time": "2023-09-14T12:46:37.363Z"
   },
   {
    "duration": 958,
    "start_time": "2023-09-14T12:46:37.388Z"
   },
   {
    "duration": 168,
    "start_time": "2023-09-14T12:46:38.348Z"
   },
   {
    "duration": 511,
    "start_time": "2023-09-14T12:46:38.518Z"
   },
   {
    "duration": 604,
    "start_time": "2023-09-14T12:46:39.033Z"
   },
   {
    "duration": 35,
    "start_time": "2023-09-14T12:46:39.639Z"
   },
   {
    "duration": 112,
    "start_time": "2023-09-14T12:46:39.676Z"
   },
   {
    "duration": 30,
    "start_time": "2023-09-14T12:46:39.791Z"
   },
   {
    "duration": 171,
    "start_time": "2023-09-14T12:46:39.823Z"
   },
   {
    "duration": 104,
    "start_time": "2023-09-14T12:46:39.996Z"
   },
   {
    "duration": 12,
    "start_time": "2023-09-14T12:46:40.101Z"
   },
   {
    "duration": 100,
    "start_time": "2023-09-14T12:46:40.115Z"
   },
   {
    "duration": 8,
    "start_time": "2023-09-14T12:46:40.217Z"
   },
   {
    "duration": 3,
    "start_time": "2023-09-14T12:46:40.227Z"
   },
   {
    "duration": 474,
    "start_time": "2023-09-14T12:46:40.232Z"
   },
   {
    "duration": 142,
    "start_time": "2023-09-14T12:46:40.708Z"
   },
   {
    "duration": 4,
    "start_time": "2023-09-14T12:47:00.353Z"
   },
   {
    "duration": 1629,
    "start_time": "2023-09-14T12:49:38.988Z"
   },
   {
    "duration": 3,
    "start_time": "2023-09-14T12:49:40.620Z"
   },
   {
    "duration": 8,
    "start_time": "2023-09-14T12:49:40.625Z"
   },
   {
    "duration": 1000,
    "start_time": "2023-09-14T12:49:40.635Z"
   },
   {
    "duration": 160,
    "start_time": "2023-09-14T12:49:41.637Z"
   },
   {
    "duration": 539,
    "start_time": "2023-09-14T12:49:41.798Z"
   },
   {
    "duration": 672,
    "start_time": "2023-09-14T12:49:42.339Z"
   },
   {
    "duration": 35,
    "start_time": "2023-09-14T12:49:43.012Z"
   },
   {
    "duration": 115,
    "start_time": "2023-09-14T12:49:43.048Z"
   },
   {
    "duration": 43,
    "start_time": "2023-09-14T12:49:43.164Z"
   },
   {
    "duration": 238,
    "start_time": "2023-09-14T12:49:43.209Z"
   },
   {
    "duration": 108,
    "start_time": "2023-09-14T12:49:43.448Z"
   },
   {
    "duration": 4,
    "start_time": "2023-09-14T12:49:43.557Z"
   },
   {
    "duration": 98,
    "start_time": "2023-09-14T12:49:43.563Z"
   },
   {
    "duration": 9,
    "start_time": "2023-09-14T12:49:43.662Z"
   },
   {
    "duration": 6,
    "start_time": "2023-09-14T12:49:43.673Z"
   },
   {
    "duration": 462,
    "start_time": "2023-09-14T12:49:43.681Z"
   },
   {
    "duration": 153,
    "start_time": "2023-09-14T12:49:44.145Z"
   },
   {
    "duration": 10,
    "start_time": "2023-09-14T12:49:44.300Z"
   },
   {
    "duration": 94,
    "start_time": "2023-09-14T12:51:53.601Z"
   },
   {
    "duration": 50,
    "start_time": "2023-09-15T11:32:15.525Z"
   },
   {
    "duration": 1789,
    "start_time": "2023-09-15T11:32:23.517Z"
   },
   {
    "duration": 3,
    "start_time": "2023-09-15T11:32:25.309Z"
   },
   {
    "duration": 67,
    "start_time": "2023-09-15T11:32:25.314Z"
   },
   {
    "duration": 2395,
    "start_time": "2023-09-15T11:32:25.384Z"
   },
   {
    "duration": 158,
    "start_time": "2023-09-15T11:32:27.782Z"
   },
   {
    "duration": 538,
    "start_time": "2023-09-15T11:32:27.942Z"
   },
   {
    "duration": 632,
    "start_time": "2023-09-15T11:32:28.481Z"
   },
   {
    "duration": 38,
    "start_time": "2023-09-15T11:32:29.115Z"
   },
   {
    "duration": 145,
    "start_time": "2023-09-15T11:32:29.155Z"
   },
   {
    "duration": 24,
    "start_time": "2023-09-15T11:32:29.303Z"
   },
   {
    "duration": 192,
    "start_time": "2023-09-15T11:32:29.329Z"
   },
   {
    "duration": 111,
    "start_time": "2023-09-15T11:32:29.523Z"
   },
   {
    "duration": 47,
    "start_time": "2023-09-15T11:32:29.636Z"
   },
   {
    "duration": 146,
    "start_time": "2023-09-15T11:32:29.685Z"
   },
   {
    "duration": 9,
    "start_time": "2023-09-15T11:32:29.833Z"
   },
   {
    "duration": 34,
    "start_time": "2023-09-15T11:32:29.844Z"
   },
   {
    "duration": 463,
    "start_time": "2023-09-15T11:32:29.880Z"
   },
   {
    "duration": 156,
    "start_time": "2023-09-15T11:32:30.345Z"
   },
   {
    "duration": 4,
    "start_time": "2023-09-15T11:32:30.503Z"
   },
   {
    "duration": 215,
    "start_time": "2023-09-15T11:32:30.509Z"
   },
   {
    "duration": 58,
    "start_time": "2023-09-15T11:34:07.105Z"
   },
   {
    "duration": 61,
    "start_time": "2023-09-15T11:39:33.527Z"
   },
   {
    "duration": 57,
    "start_time": "2023-09-15T11:39:39.443Z"
   },
   {
    "duration": 91,
    "start_time": "2023-09-15T11:41:58.103Z"
   },
   {
    "duration": 11,
    "start_time": "2023-09-15T11:48:53.393Z"
   },
   {
    "duration": 3,
    "start_time": "2023-09-15T11:49:55.562Z"
   },
   {
    "duration": 247,
    "start_time": "2023-09-15T11:50:00.748Z"
   },
   {
    "duration": 49,
    "start_time": "2023-09-15T11:51:41.294Z"
   },
   {
    "duration": 20686,
    "start_time": "2023-09-15T11:52:29.502Z"
   },
   {
    "duration": 346,
    "start_time": "2023-09-15T11:53:22.997Z"
   },
   {
    "duration": 669140,
    "start_time": "2023-09-15T11:53:25.550Z"
   },
   {
    "duration": 1742,
    "start_time": "2023-09-15T12:05:30.134Z"
   },
   {
    "duration": 4,
    "start_time": "2023-09-15T12:05:31.878Z"
   },
   {
    "duration": 103,
    "start_time": "2023-09-15T12:05:31.884Z"
   },
   {
    "duration": 1100,
    "start_time": "2023-09-15T12:05:31.989Z"
   },
   {
    "duration": 203,
    "start_time": "2023-09-15T12:05:33.091Z"
   },
   {
    "duration": 553,
    "start_time": "2023-09-15T12:05:33.296Z"
   },
   {
    "duration": 707,
    "start_time": "2023-09-15T12:05:33.850Z"
   },
   {
    "duration": 43,
    "start_time": "2023-09-15T12:05:34.558Z"
   },
   {
    "duration": 120,
    "start_time": "2023-09-15T12:05:34.604Z"
   },
   {
    "duration": 23,
    "start_time": "2023-09-15T12:05:34.725Z"
   },
   {
    "duration": 189,
    "start_time": "2023-09-15T12:05:34.750Z"
   },
   {
    "duration": 114,
    "start_time": "2023-09-15T12:05:34.940Z"
   },
   {
    "duration": 5,
    "start_time": "2023-09-15T12:05:35.055Z"
   },
   {
    "duration": 112,
    "start_time": "2023-09-15T12:05:35.063Z"
   },
   {
    "duration": 15,
    "start_time": "2023-09-15T12:05:35.177Z"
   },
   {
    "duration": 24,
    "start_time": "2023-09-15T12:05:35.194Z"
   },
   {
    "duration": 472,
    "start_time": "2023-09-15T12:05:35.219Z"
   },
   {
    "duration": 161,
    "start_time": "2023-09-15T12:05:35.693Z"
   },
   {
    "duration": 4,
    "start_time": "2023-09-15T12:05:35.856Z"
   },
   {
    "duration": 115,
    "start_time": "2023-09-15T12:05:35.862Z"
   },
   {
    "duration": 260,
    "start_time": "2023-09-15T12:05:35.978Z"
   },
   {
    "duration": 58184,
    "start_time": "2023-09-15T12:05:36.240Z"
   },
   {
    "duration": 205,
    "start_time": "2023-09-15T12:07:15.967Z"
   },
   {
    "duration": 160,
    "start_time": "2023-09-15T13:02:09.848Z"
   },
   {
    "duration": 13,
    "start_time": "2023-09-15T13:02:33.019Z"
   },
   {
    "duration": 12,
    "start_time": "2023-09-15T13:04:18.691Z"
   },
   {
    "duration": 3,
    "start_time": "2023-09-15T13:04:23.944Z"
   },
   {
    "duration": 252023,
    "start_time": "2023-09-15T13:04:41.454Z"
   },
   {
    "duration": 1708,
    "start_time": "2023-09-15T13:16:10.097Z"
   },
   {
    "duration": 3,
    "start_time": "2023-09-15T13:16:11.807Z"
   },
   {
    "duration": 6,
    "start_time": "2023-09-15T13:16:11.811Z"
   },
   {
    "duration": 1655,
    "start_time": "2023-09-15T13:16:11.818Z"
   },
   {
    "duration": 156,
    "start_time": "2023-09-15T13:16:13.476Z"
   },
   {
    "duration": 525,
    "start_time": "2023-09-15T13:16:13.634Z"
   },
   {
    "duration": 634,
    "start_time": "2023-09-15T13:16:14.161Z"
   },
   {
    "duration": 40,
    "start_time": "2023-09-15T13:16:14.797Z"
   },
   {
    "duration": 166,
    "start_time": "2023-09-15T13:16:14.839Z"
   },
   {
    "duration": 86,
    "start_time": "2023-09-15T13:16:15.007Z"
   },
   {
    "duration": 235,
    "start_time": "2023-09-15T13:16:15.095Z"
   },
   {
    "duration": 103,
    "start_time": "2023-09-15T13:16:15.332Z"
   },
   {
    "duration": 43,
    "start_time": "2023-09-15T13:16:15.437Z"
   },
   {
    "duration": 107,
    "start_time": "2023-09-15T13:16:15.483Z"
   },
   {
    "duration": 8,
    "start_time": "2023-09-15T13:16:15.592Z"
   },
   {
    "duration": 44,
    "start_time": "2023-09-15T13:16:15.602Z"
   },
   {
    "duration": 459,
    "start_time": "2023-09-15T13:16:15.648Z"
   },
   {
    "duration": 161,
    "start_time": "2023-09-15T13:16:16.109Z"
   },
   {
    "duration": 10,
    "start_time": "2023-09-15T13:16:16.272Z"
   },
   {
    "duration": 83,
    "start_time": "2023-09-15T13:16:16.285Z"
   },
   {
    "duration": 13,
    "start_time": "2023-09-15T13:16:16.370Z"
   },
   {
    "duration": 2514,
    "start_time": "2023-09-15T13:20:11.593Z"
   },
   {
    "duration": 2,
    "start_time": "2023-09-15T13:20:14.109Z"
   },
   {
    "duration": 68,
    "start_time": "2023-09-15T13:20:14.113Z"
   },
   {
    "duration": 1677,
    "start_time": "2023-09-15T13:20:14.184Z"
   },
   {
    "duration": 160,
    "start_time": "2023-09-15T13:20:15.863Z"
   },
   {
    "duration": 575,
    "start_time": "2023-09-15T13:20:16.024Z"
   },
   {
    "duration": 662,
    "start_time": "2023-09-15T13:20:16.600Z"
   },
   {
    "duration": 38,
    "start_time": "2023-09-15T13:20:17.265Z"
   },
   {
    "duration": 93,
    "start_time": "2023-09-15T13:20:17.305Z"
   },
   {
    "duration": 23,
    "start_time": "2023-09-15T13:20:17.400Z"
   },
   {
    "duration": 171,
    "start_time": "2023-09-15T13:20:17.424Z"
   },
   {
    "duration": 101,
    "start_time": "2023-09-15T13:20:17.597Z"
   },
   {
    "duration": 4,
    "start_time": "2023-09-15T13:20:17.699Z"
   },
   {
    "duration": 94,
    "start_time": "2023-09-15T13:20:17.704Z"
   },
   {
    "duration": 7,
    "start_time": "2023-09-15T13:20:17.800Z"
   },
   {
    "duration": 34,
    "start_time": "2023-09-15T13:20:17.809Z"
   },
   {
    "duration": 429,
    "start_time": "2023-09-15T13:20:17.844Z"
   },
   {
    "duration": 137,
    "start_time": "2023-09-15T13:20:18.274Z"
   },
   {
    "duration": 4,
    "start_time": "2023-09-15T13:20:18.413Z"
   },
   {
    "duration": 92,
    "start_time": "2023-09-15T13:20:18.418Z"
   },
   {
    "duration": 258171,
    "start_time": "2023-09-15T13:20:18.512Z"
   },
   {
    "duration": 4,
    "start_time": "2023-09-15T13:26:23.986Z"
   },
   {
    "duration": 6405,
    "start_time": "2023-09-15T15:15:44.765Z"
   },
   {
    "duration": 130276,
    "start_time": "2023-09-15T15:16:47.090Z"
   },
   {
    "duration": 134,
    "start_time": "2023-09-15T15:35:32.786Z"
   },
   {
    "duration": 4,
    "start_time": "2023-09-15T15:35:42.575Z"
   },
   {
    "duration": 99,
    "start_time": "2023-09-15T15:35:47.900Z"
   },
   {
    "duration": 249,
    "start_time": "2023-09-15T15:35:54.880Z"
   },
   {
    "duration": 17318,
    "start_time": "2023-09-15T15:35:56.991Z"
   },
   {
    "duration": 229,
    "start_time": "2023-09-15T15:36:14.311Z"
   },
   {
    "duration": 252,
    "start_time": "2023-09-15T15:36:16.447Z"
   },
   {
    "duration": 10863,
    "start_time": "2023-09-15T15:36:18.224Z"
   },
   {
    "duration": 2118,
    "start_time": "2023-09-15T16:40:18.807Z"
   },
   {
    "duration": 57,
    "start_time": "2023-09-15T16:40:20.927Z"
   },
   {
    "duration": 7,
    "start_time": "2023-09-15T16:40:20.985Z"
   },
   {
    "duration": 1197,
    "start_time": "2023-09-15T16:40:20.994Z"
   },
   {
    "duration": 176,
    "start_time": "2023-09-15T16:40:22.193Z"
   },
   {
    "duration": 545,
    "start_time": "2023-09-15T16:40:22.371Z"
   },
   {
    "duration": 639,
    "start_time": "2023-09-15T16:40:22.918Z"
   },
   {
    "duration": 41,
    "start_time": "2023-09-15T16:40:23.559Z"
   },
   {
    "duration": 110,
    "start_time": "2023-09-15T16:40:23.602Z"
   },
   {
    "duration": 24,
    "start_time": "2023-09-15T16:40:23.714Z"
   },
   {
    "duration": 168,
    "start_time": "2023-09-15T16:40:23.740Z"
   },
   {
    "duration": 105,
    "start_time": "2023-09-15T16:40:23.910Z"
   },
   {
    "duration": 14,
    "start_time": "2023-09-15T16:40:24.017Z"
   },
   {
    "duration": 93,
    "start_time": "2023-09-15T16:40:24.035Z"
   },
   {
    "duration": 10,
    "start_time": "2023-09-15T16:40:24.130Z"
   },
   {
    "duration": 8,
    "start_time": "2023-09-15T16:40:24.142Z"
   },
   {
    "duration": 445,
    "start_time": "2023-09-15T16:40:24.151Z"
   },
   {
    "duration": 151,
    "start_time": "2023-09-15T16:40:24.597Z"
   },
   {
    "duration": 4,
    "start_time": "2023-09-15T16:40:24.750Z"
   },
   {
    "duration": 88,
    "start_time": "2023-09-15T16:40:24.755Z"
   },
   {
    "duration": 245,
    "start_time": "2023-09-15T16:40:24.845Z"
   },
   {
    "duration": 3519121,
    "start_time": "2023-09-15T16:40:25.092Z"
   },
   {
    "duration": 114,
    "start_time": "2023-09-15T17:39:04.215Z"
   },
   {
    "duration": 10,
    "start_time": "2023-09-15T18:17:47.075Z"
   },
   {
    "duration": 11,
    "start_time": "2023-09-15T18:23:05.066Z"
   },
   {
    "duration": 11,
    "start_time": "2023-09-15T18:23:08.146Z"
   },
   {
    "duration": 10,
    "start_time": "2023-09-15T18:23:38.038Z"
   },
   {
    "duration": 10,
    "start_time": "2023-09-15T18:23:48.585Z"
   },
   {
    "duration": 4,
    "start_time": "2023-09-15T18:23:55.748Z"
   },
   {
    "duration": 44,
    "start_time": "2023-09-16T09:42:29.212Z"
   },
   {
    "duration": 1599,
    "start_time": "2023-09-16T09:42:34.640Z"
   },
   {
    "duration": 3,
    "start_time": "2023-09-16T09:42:36.241Z"
   },
   {
    "duration": 16,
    "start_time": "2023-09-16T09:42:36.245Z"
   },
   {
    "duration": 1755,
    "start_time": "2023-09-16T09:42:36.263Z"
   },
   {
    "duration": 137,
    "start_time": "2023-09-16T09:42:38.020Z"
   },
   {
    "duration": 459,
    "start_time": "2023-09-16T09:42:38.159Z"
   },
   {
    "duration": 554,
    "start_time": "2023-09-16T09:42:38.620Z"
   },
   {
    "duration": 36,
    "start_time": "2023-09-16T09:42:39.175Z"
   },
   {
    "duration": 100,
    "start_time": "2023-09-16T09:42:39.213Z"
   },
   {
    "duration": 20,
    "start_time": "2023-09-16T09:42:39.315Z"
   },
   {
    "duration": 148,
    "start_time": "2023-09-16T09:42:39.337Z"
   },
   {
    "duration": 84,
    "start_time": "2023-09-16T09:42:39.487Z"
   },
   {
    "duration": 7,
    "start_time": "2023-09-16T09:42:39.573Z"
   },
   {
    "duration": 87,
    "start_time": "2023-09-16T09:42:39.583Z"
   },
   {
    "duration": 7,
    "start_time": "2023-09-16T09:42:39.671Z"
   },
   {
    "duration": 9,
    "start_time": "2023-09-16T09:42:39.679Z"
   },
   {
    "duration": 360,
    "start_time": "2023-09-16T09:42:39.689Z"
   },
   {
    "duration": 130,
    "start_time": "2023-09-16T09:42:40.050Z"
   },
   {
    "duration": 4,
    "start_time": "2023-09-16T09:42:40.181Z"
   },
   {
    "duration": 81,
    "start_time": "2023-09-16T09:42:40.186Z"
   },
   {
    "duration": 195,
    "start_time": "2023-09-16T09:42:40.269Z"
   },
   {
    "duration": 67,
    "start_time": "2023-09-16T09:42:40.466Z"
   },
   {
    "duration": 53627,
    "start_time": "2023-09-16T09:42:50.898Z"
   },
   {
    "duration": 4,
    "start_time": "2023-09-16T09:44:05.368Z"
   },
   {
    "duration": 4,
    "start_time": "2023-09-16T09:45:06.524Z"
   },
   {
    "duration": 101,
    "start_time": "2023-09-16T09:52:00.610Z"
   },
   {
    "duration": 4,
    "start_time": "2023-09-16T09:52:07.244Z"
   },
   {
    "duration": 7,
    "start_time": "2023-09-16T09:52:22.090Z"
   },
   {
    "duration": 9,
    "start_time": "2023-09-16T10:02:36.462Z"
   },
   {
    "duration": 4,
    "start_time": "2023-09-16T10:02:41.980Z"
   },
   {
    "duration": 8,
    "start_time": "2023-09-16T10:02:43.628Z"
   },
   {
    "duration": 3,
    "start_time": "2023-09-16T10:02:59.660Z"
   },
   {
    "duration": 9,
    "start_time": "2023-09-16T10:03:11.387Z"
   },
   {
    "duration": 6,
    "start_time": "2023-09-16T10:03:22.785Z"
   },
   {
    "duration": 6,
    "start_time": "2023-09-16T10:07:08.635Z"
   },
   {
    "duration": 5,
    "start_time": "2023-09-16T10:07:27.703Z"
   },
   {
    "duration": 5,
    "start_time": "2023-09-16T10:08:24.335Z"
   },
   {
    "duration": 4,
    "start_time": "2023-09-16T10:13:35.925Z"
   },
   {
    "duration": 11,
    "start_time": "2023-09-16T10:13:45.339Z"
   },
   {
    "duration": 4,
    "start_time": "2023-09-16T10:13:56.875Z"
   },
   {
    "duration": 5,
    "start_time": "2023-09-16T10:14:55.647Z"
   },
   {
    "duration": 5,
    "start_time": "2023-09-16T10:15:04.180Z"
   },
   {
    "duration": 5,
    "start_time": "2023-09-16T10:20:58.088Z"
   },
   {
    "duration": 4,
    "start_time": "2023-09-16T10:21:05.168Z"
   },
   {
    "duration": 7,
    "start_time": "2023-09-16T10:21:36.105Z"
   },
   {
    "duration": 4,
    "start_time": "2023-09-16T11:20:07.841Z"
   },
   {
    "duration": 217,
    "start_time": "2023-09-16T11:34:52.322Z"
   },
   {
    "duration": 67795,
    "start_time": "2023-09-16T11:34:53.995Z"
   },
   {
    "duration": 4,
    "start_time": "2023-09-16T11:36:04.933Z"
   },
   {
    "duration": 5,
    "start_time": "2023-09-16T11:36:08.396Z"
   },
   {
    "duration": 14,
    "start_time": "2023-09-16T11:36:21.461Z"
   },
   {
    "duration": 6,
    "start_time": "2023-09-16T11:46:57.839Z"
   },
   {
    "duration": 1745,
    "start_time": "2023-09-18T08:35:14.017Z"
   },
   {
    "duration": 3,
    "start_time": "2023-09-18T08:35:15.764Z"
   },
   {
    "duration": 56,
    "start_time": "2023-09-18T08:35:15.768Z"
   },
   {
    "duration": 1282,
    "start_time": "2023-09-18T08:35:15.826Z"
   },
   {
    "duration": 182,
    "start_time": "2023-09-18T08:35:17.110Z"
   },
   {
    "duration": 479,
    "start_time": "2023-09-18T08:35:17.294Z"
   },
   {
    "duration": 567,
    "start_time": "2023-09-18T08:35:17.774Z"
   },
   {
    "duration": 42,
    "start_time": "2023-09-18T08:35:18.342Z"
   },
   {
    "duration": 101,
    "start_time": "2023-09-18T08:35:18.386Z"
   },
   {
    "duration": 26,
    "start_time": "2023-09-18T08:35:18.488Z"
   },
   {
    "duration": 159,
    "start_time": "2023-09-18T08:35:18.516Z"
   },
   {
    "duration": 90,
    "start_time": "2023-09-18T08:35:18.676Z"
   },
   {
    "duration": 17,
    "start_time": "2023-09-18T08:35:18.768Z"
   },
   {
    "duration": 138,
    "start_time": "2023-09-18T08:35:18.788Z"
   },
   {
    "duration": 122,
    "start_time": "2023-09-18T08:35:18.928Z"
   },
   {
    "duration": 14,
    "start_time": "2023-09-18T08:35:19.051Z"
   },
   {
    "duration": 429,
    "start_time": "2023-09-18T08:35:19.067Z"
   },
   {
    "duration": 132,
    "start_time": "2023-09-18T08:35:19.497Z"
   },
   {
    "duration": 4,
    "start_time": "2023-09-18T08:35:19.631Z"
   },
   {
    "duration": 123,
    "start_time": "2023-09-18T08:35:19.636Z"
   },
   {
    "duration": 216,
    "start_time": "2023-09-18T08:35:19.761Z"
   },
   {
    "duration": 61122,
    "start_time": "2023-09-18T08:35:19.981Z"
   },
   {
    "duration": 4,
    "start_time": "2023-09-18T08:36:21.105Z"
   },
   {
    "duration": 4,
    "start_time": "2023-09-18T12:47:32.388Z"
   },
   {
    "duration": 392,
    "start_time": "2023-09-18T13:45:07.559Z"
   },
   {
    "duration": 131,
    "start_time": "2023-09-18T13:45:26.476Z"
   },
   {
    "duration": 89,
    "start_time": "2023-09-18T13:46:11.976Z"
   },
   {
    "duration": 159,
    "start_time": "2023-09-18T13:46:18.646Z"
   },
   {
    "duration": 45,
    "start_time": "2023-09-18T13:52:13.849Z"
   },
   {
    "duration": 11,
    "start_time": "2023-09-18T13:53:34.010Z"
   },
   {
    "duration": 11,
    "start_time": "2023-09-18T13:53:50.840Z"
   },
   {
    "duration": 11,
    "start_time": "2023-09-18T13:54:06.011Z"
   },
   {
    "duration": 13,
    "start_time": "2023-09-18T13:54:37.707Z"
   },
   {
    "duration": 11,
    "start_time": "2023-09-18T13:54:45.020Z"
   },
   {
    "duration": 12,
    "start_time": "2023-09-18T13:54:53.303Z"
   },
   {
    "duration": 13,
    "start_time": "2023-09-18T13:55:01.050Z"
   },
   {
    "duration": 22,
    "start_time": "2023-09-18T14:01:22.669Z"
   },
   {
    "duration": 43,
    "start_time": "2023-09-18T14:01:30.697Z"
   },
   {
    "duration": 23,
    "start_time": "2023-09-18T14:02:47.848Z"
   },
   {
    "duration": 13,
    "start_time": "2023-09-18T14:23:48.361Z"
   },
   {
    "duration": 15,
    "start_time": "2023-09-18T14:23:53.672Z"
   },
   {
    "duration": 1949,
    "start_time": "2023-09-18T14:26:02.395Z"
   },
   {
    "duration": 3689,
    "start_time": "2023-09-18T14:26:22.764Z"
   },
   {
    "duration": 17,
    "start_time": "2023-09-18T14:26:37.314Z"
   },
   {
    "duration": 15,
    "start_time": "2023-09-18T14:27:28.979Z"
   },
   {
    "duration": 2552,
    "start_time": "2023-09-18T14:30:31.614Z"
   },
   {
    "duration": 16,
    "start_time": "2023-09-18T14:30:38.103Z"
   },
   {
    "duration": 1591,
    "start_time": "2023-09-18T14:30:46.054Z"
   },
   {
    "duration": 1629,
    "start_time": "2023-09-18T14:30:54.277Z"
   },
   {
    "duration": 1723,
    "start_time": "2023-09-18T14:31:53.616Z"
   },
   {
    "duration": 0,
    "start_time": "2023-09-18T14:31:55.342Z"
   },
   {
    "duration": 0,
    "start_time": "2023-09-18T14:31:55.345Z"
   },
   {
    "duration": 0,
    "start_time": "2023-09-18T14:31:55.347Z"
   },
   {
    "duration": 0,
    "start_time": "2023-09-18T14:31:55.348Z"
   },
   {
    "duration": 0,
    "start_time": "2023-09-18T14:31:55.350Z"
   },
   {
    "duration": 0,
    "start_time": "2023-09-18T14:31:55.352Z"
   },
   {
    "duration": 1,
    "start_time": "2023-09-18T14:31:55.380Z"
   },
   {
    "duration": 0,
    "start_time": "2023-09-18T14:31:55.382Z"
   },
   {
    "duration": 0,
    "start_time": "2023-09-18T14:31:55.383Z"
   },
   {
    "duration": 0,
    "start_time": "2023-09-18T14:31:55.384Z"
   },
   {
    "duration": 0,
    "start_time": "2023-09-18T14:31:55.384Z"
   },
   {
    "duration": 0,
    "start_time": "2023-09-18T14:31:55.385Z"
   },
   {
    "duration": 0,
    "start_time": "2023-09-18T14:31:55.386Z"
   },
   {
    "duration": 0,
    "start_time": "2023-09-18T14:31:55.387Z"
   },
   {
    "duration": 0,
    "start_time": "2023-09-18T14:31:55.388Z"
   },
   {
    "duration": 0,
    "start_time": "2023-09-18T14:31:55.389Z"
   },
   {
    "duration": 0,
    "start_time": "2023-09-18T14:31:55.390Z"
   },
   {
    "duration": 0,
    "start_time": "2023-09-18T14:31:55.391Z"
   },
   {
    "duration": 0,
    "start_time": "2023-09-18T14:31:55.392Z"
   },
   {
    "duration": 0,
    "start_time": "2023-09-18T14:31:55.393Z"
   },
   {
    "duration": 0,
    "start_time": "2023-09-18T14:31:55.398Z"
   },
   {
    "duration": 0,
    "start_time": "2023-09-18T14:31:55.399Z"
   },
   {
    "duration": 0,
    "start_time": "2023-09-18T14:31:55.401Z"
   },
   {
    "duration": 14,
    "start_time": "2023-09-18T14:34:26.104Z"
   },
   {
    "duration": 10,
    "start_time": "2023-09-18T14:39:40.732Z"
   },
   {
    "duration": 11,
    "start_time": "2023-09-18T14:39:41.912Z"
   },
   {
    "duration": 28,
    "start_time": "2023-09-18T14:46:53.088Z"
   },
   {
    "duration": 3421,
    "start_time": "2023-09-18T14:47:04.221Z"
   },
   {
    "duration": 171,
    "start_time": "2023-09-18T14:47:14.221Z"
   },
   {
    "duration": 2350,
    "start_time": "2023-09-18T14:47:22.103Z"
   },
   {
    "duration": 2847,
    "start_time": "2023-09-18T14:47:24.456Z"
   },
   {
    "duration": 3,
    "start_time": "2023-09-18T14:47:27.306Z"
   },
   {
    "duration": 6,
    "start_time": "2023-09-18T14:47:27.311Z"
   },
   {
    "duration": 976,
    "start_time": "2023-09-18T14:47:27.321Z"
   },
   {
    "duration": 197,
    "start_time": "2023-09-18T14:47:28.303Z"
   },
   {
    "duration": 528,
    "start_time": "2023-09-18T14:47:28.503Z"
   },
   {
    "duration": 641,
    "start_time": "2023-09-18T14:47:29.033Z"
   },
   {
    "duration": 39,
    "start_time": "2023-09-18T14:47:29.676Z"
   },
   {
    "duration": 113,
    "start_time": "2023-09-18T14:47:29.717Z"
   },
   {
    "duration": 39,
    "start_time": "2023-09-18T14:47:29.832Z"
   },
   {
    "duration": 186,
    "start_time": "2023-09-18T14:47:29.873Z"
   },
   {
    "duration": 108,
    "start_time": "2023-09-18T14:47:30.061Z"
   },
   {
    "duration": 55,
    "start_time": "2023-09-18T14:47:30.183Z"
   },
   {
    "duration": 169,
    "start_time": "2023-09-18T14:47:30.240Z"
   },
   {
    "duration": 9,
    "start_time": "2023-09-18T14:47:30.411Z"
   },
   {
    "duration": 24,
    "start_time": "2023-09-18T14:47:30.421Z"
   },
   {
    "duration": 578,
    "start_time": "2023-09-18T14:47:30.447Z"
   },
   {
    "duration": 172,
    "start_time": "2023-09-18T14:47:31.027Z"
   },
   {
    "duration": 7,
    "start_time": "2023-09-18T14:47:31.201Z"
   },
   {
    "duration": 104,
    "start_time": "2023-09-18T14:47:31.211Z"
   },
   {
    "duration": 239,
    "start_time": "2023-09-18T14:47:31.317Z"
   },
   {
    "duration": 68554,
    "start_time": "2023-09-18T14:47:31.557Z"
   },
   {
    "duration": 4,
    "start_time": "2023-09-18T14:48:40.113Z"
   },
   {
    "duration": 151,
    "start_time": "2023-09-18T14:48:40.118Z"
   },
   {
    "duration": 1966,
    "start_time": "2023-09-18T14:54:31.276Z"
   },
   {
    "duration": 5,
    "start_time": "2023-09-18T15:03:44.179Z"
   },
   {
    "duration": 190,
    "start_time": "2023-09-18T15:04:15.498Z"
   },
   {
    "duration": 9,
    "start_time": "2023-09-18T15:05:13.464Z"
   },
   {
    "duration": 11,
    "start_time": "2023-09-18T15:05:38.252Z"
   },
   {
    "duration": 12,
    "start_time": "2023-09-18T15:06:15.225Z"
   },
   {
    "duration": 13,
    "start_time": "2023-09-18T15:06:16.748Z"
   },
   {
    "duration": 50,
    "start_time": "2023-09-18T15:06:41.171Z"
   },
   {
    "duration": 289692,
    "start_time": "2023-09-18T15:15:36.903Z"
   },
   {
    "duration": 6,
    "start_time": "2023-09-18T15:21:31.533Z"
   },
   {
    "duration": 4,
    "start_time": "2023-09-18T15:22:19.639Z"
   },
   {
    "duration": 4,
    "start_time": "2023-09-18T15:24:55.366Z"
   },
   {
    "duration": 1728,
    "start_time": "2023-09-18T15:34:34.206Z"
   },
   {
    "duration": 3,
    "start_time": "2023-09-18T15:34:35.936Z"
   },
   {
    "duration": 34,
    "start_time": "2023-09-18T15:34:35.941Z"
   },
   {
    "duration": 1415,
    "start_time": "2023-09-18T15:34:35.977Z"
   },
   {
    "duration": 158,
    "start_time": "2023-09-18T15:34:37.396Z"
   },
   {
    "duration": 541,
    "start_time": "2023-09-18T15:34:37.556Z"
   },
   {
    "duration": 600,
    "start_time": "2023-09-18T15:34:38.099Z"
   },
   {
    "duration": 36,
    "start_time": "2023-09-18T15:34:38.700Z"
   },
   {
    "duration": 136,
    "start_time": "2023-09-18T15:34:38.738Z"
   },
   {
    "duration": 88,
    "start_time": "2023-09-18T15:34:38.876Z"
   },
   {
    "duration": 213,
    "start_time": "2023-09-18T15:34:38.965Z"
   },
   {
    "duration": 121,
    "start_time": "2023-09-18T15:34:39.181Z"
   },
   {
    "duration": 7,
    "start_time": "2023-09-18T15:34:39.304Z"
   },
   {
    "duration": 88,
    "start_time": "2023-09-18T15:34:39.316Z"
   },
   {
    "duration": 8,
    "start_time": "2023-09-18T15:34:39.407Z"
   },
   {
    "duration": 10,
    "start_time": "2023-09-18T15:34:39.417Z"
   },
   {
    "duration": 478,
    "start_time": "2023-09-18T15:34:39.428Z"
   },
   {
    "duration": 139,
    "start_time": "2023-09-18T15:34:39.908Z"
   },
   {
    "duration": 4,
    "start_time": "2023-09-18T15:34:40.049Z"
   },
   {
    "duration": 101,
    "start_time": "2023-09-18T15:34:40.055Z"
   },
   {
    "duration": 253,
    "start_time": "2023-09-18T15:34:40.157Z"
   },
   {
    "duration": 66269,
    "start_time": "2023-09-18T15:34:40.412Z"
   },
   {
    "duration": 4,
    "start_time": "2023-09-18T15:35:46.683Z"
   },
   {
    "duration": 177,
    "start_time": "2023-09-18T15:35:46.696Z"
   },
   {
    "duration": 52,
    "start_time": "2023-09-18T15:35:46.875Z"
   },
   {
    "duration": 3,
    "start_time": "2023-09-18T15:35:46.930Z"
   },
   {
    "duration": 294066,
    "start_time": "2023-09-18T15:35:46.936Z"
   },
   {
    "duration": 91,
    "start_time": "2023-09-18T15:40:41.004Z"
   },
   {
    "duration": 0,
    "start_time": "2023-09-18T15:40:41.096Z"
   },
   {
    "duration": 0,
    "start_time": "2023-09-18T15:40:41.098Z"
   },
   {
    "duration": 0,
    "start_time": "2023-09-18T15:40:41.099Z"
   },
   {
    "duration": 0,
    "start_time": "2023-09-18T15:40:41.100Z"
   },
   {
    "duration": 0,
    "start_time": "2023-09-18T15:40:41.102Z"
   },
   {
    "duration": 93,
    "start_time": "2023-09-18T15:41:13.663Z"
   },
   {
    "duration": 5,
    "start_time": "2023-09-18T15:41:20.594Z"
   },
   {
    "duration": 5,
    "start_time": "2023-09-18T15:41:31.958Z"
   },
   {
    "duration": 4,
    "start_time": "2023-09-18T15:41:39.602Z"
   },
   {
    "duration": 54,
    "start_time": "2023-09-18T15:44:15.494Z"
   },
   {
    "duration": 1697,
    "start_time": "2023-09-18T15:44:21.233Z"
   },
   {
    "duration": 113,
    "start_time": "2023-09-18T15:44:26.618Z"
   },
   {
    "duration": 1625,
    "start_time": "2023-09-18T15:44:43.371Z"
   },
   {
    "duration": 4,
    "start_time": "2023-09-18T15:44:44.999Z"
   },
   {
    "duration": 55,
    "start_time": "2023-09-18T15:44:45.004Z"
   },
   {
    "duration": 1405,
    "start_time": "2023-09-18T15:44:45.063Z"
   },
   {
    "duration": 171,
    "start_time": "2023-09-18T15:44:46.470Z"
   },
   {
    "duration": 534,
    "start_time": "2023-09-18T15:44:46.644Z"
   },
   {
    "duration": 709,
    "start_time": "2023-09-18T15:44:47.185Z"
   },
   {
    "duration": 44,
    "start_time": "2023-09-18T15:44:47.896Z"
   },
   {
    "duration": 123,
    "start_time": "2023-09-18T15:44:47.942Z"
   },
   {
    "duration": 38,
    "start_time": "2023-09-18T15:44:48.068Z"
   },
   {
    "duration": 202,
    "start_time": "2023-09-18T15:44:48.108Z"
   },
   {
    "duration": 108,
    "start_time": "2023-09-18T15:44:48.312Z"
   },
   {
    "duration": 85,
    "start_time": "2023-09-18T15:44:48.422Z"
   },
   {
    "duration": 100,
    "start_time": "2023-09-18T15:44:48.508Z"
   },
   {
    "duration": 8,
    "start_time": "2023-09-18T15:44:48.610Z"
   },
   {
    "duration": 78,
    "start_time": "2023-09-18T15:44:48.619Z"
   },
   {
    "duration": 430,
    "start_time": "2023-09-18T15:44:48.699Z"
   },
   {
    "duration": 145,
    "start_time": "2023-09-18T15:44:49.131Z"
   },
   {
    "duration": 5,
    "start_time": "2023-09-18T15:44:49.278Z"
   },
   {
    "duration": 94,
    "start_time": "2023-09-18T15:44:49.287Z"
   },
   {
    "duration": 252,
    "start_time": "2023-09-18T15:44:49.391Z"
   },
   {
    "duration": 149,
    "start_time": "2023-09-18T15:44:49.645Z"
   },
   {
    "duration": 0,
    "start_time": "2023-09-18T15:44:49.876Z"
   },
   {
    "duration": 0,
    "start_time": "2023-09-18T15:44:49.877Z"
   },
   {
    "duration": 0,
    "start_time": "2023-09-18T15:44:49.879Z"
   },
   {
    "duration": 0,
    "start_time": "2023-09-18T15:44:49.880Z"
   },
   {
    "duration": 0,
    "start_time": "2023-09-18T15:44:49.882Z"
   },
   {
    "duration": 0,
    "start_time": "2023-09-18T15:44:49.884Z"
   },
   {
    "duration": 0,
    "start_time": "2023-09-18T15:44:49.884Z"
   },
   {
    "duration": 0,
    "start_time": "2023-09-18T15:44:49.885Z"
   },
   {
    "duration": 0,
    "start_time": "2023-09-18T15:44:49.886Z"
   },
   {
    "duration": 67,
    "start_time": "2023-09-18T15:46:29.177Z"
   },
   {
    "duration": 1778,
    "start_time": "2023-09-18T15:46:34.359Z"
   },
   {
    "duration": 3,
    "start_time": "2023-09-18T15:46:36.139Z"
   },
   {
    "duration": 7,
    "start_time": "2023-09-18T15:46:36.143Z"
   },
   {
    "duration": 1416,
    "start_time": "2023-09-18T15:46:36.151Z"
   },
   {
    "duration": 177,
    "start_time": "2023-09-18T15:46:37.570Z"
   },
   {
    "duration": 516,
    "start_time": "2023-09-18T15:46:37.749Z"
   },
   {
    "duration": 634,
    "start_time": "2023-09-18T15:46:38.268Z"
   },
   {
    "duration": 35,
    "start_time": "2023-09-18T15:46:38.903Z"
   },
   {
    "duration": 129,
    "start_time": "2023-09-18T15:46:38.941Z"
   },
   {
    "duration": 41,
    "start_time": "2023-09-18T15:46:39.072Z"
   },
   {
    "duration": 196,
    "start_time": "2023-09-18T15:46:39.115Z"
   },
   {
    "duration": 111,
    "start_time": "2023-09-18T15:46:39.313Z"
   },
   {
    "duration": 5,
    "start_time": "2023-09-18T15:46:39.426Z"
   },
   {
    "duration": 97,
    "start_time": "2023-09-18T15:46:39.435Z"
   },
   {
    "duration": 9,
    "start_time": "2023-09-18T15:46:39.535Z"
   },
   {
    "duration": 5,
    "start_time": "2023-09-18T15:46:39.545Z"
   },
   {
    "duration": 488,
    "start_time": "2023-09-18T15:46:39.552Z"
   },
   {
    "duration": 155,
    "start_time": "2023-09-18T15:46:40.041Z"
   },
   {
    "duration": 4,
    "start_time": "2023-09-18T15:46:40.198Z"
   },
   {
    "duration": 78,
    "start_time": "2023-09-18T15:46:40.204Z"
   },
   {
    "duration": 249,
    "start_time": "2023-09-18T15:46:40.284Z"
   },
   {
    "duration": 577,
    "start_time": "2023-09-18T15:46:40.535Z"
   },
   {
    "duration": 4,
    "start_time": "2023-09-18T15:46:41.113Z"
   },
   {
    "duration": 119144,
    "start_time": "2023-09-18T15:46:41.119Z"
   },
   {
    "duration": 5,
    "start_time": "2023-09-18T15:48:40.264Z"
   },
   {
    "duration": 37,
    "start_time": "2023-09-18T15:48:40.271Z"
   },
   {
    "duration": 6,
    "start_time": "2023-09-18T15:48:51.940Z"
   },
   {
    "duration": 93,
    "start_time": "2023-09-18T15:49:35.764Z"
   },
   {
    "duration": 133,
    "start_time": "2023-09-18T15:49:42.712Z"
   },
   {
    "duration": 4,
    "start_time": "2023-09-18T15:49:53.516Z"
   },
   {
    "duration": 5,
    "start_time": "2023-09-18T15:50:27.142Z"
   },
   {
    "duration": 4,
    "start_time": "2023-09-18T15:50:35.941Z"
   },
   {
    "duration": 1910,
    "start_time": "2023-09-18T15:54:10.394Z"
   },
   {
    "duration": 3,
    "start_time": "2023-09-18T15:54:12.306Z"
   },
   {
    "duration": 11,
    "start_time": "2023-09-18T15:54:12.310Z"
   },
   {
    "duration": 1041,
    "start_time": "2023-09-18T15:54:12.322Z"
   },
   {
    "duration": 169,
    "start_time": "2023-09-18T15:54:13.366Z"
   },
   {
    "duration": 560,
    "start_time": "2023-09-18T15:54:13.538Z"
   },
   {
    "duration": 632,
    "start_time": "2023-09-18T15:54:14.100Z"
   },
   {
    "duration": 33,
    "start_time": "2023-09-18T15:54:14.734Z"
   },
   {
    "duration": 130,
    "start_time": "2023-09-18T15:54:14.769Z"
   },
   {
    "duration": 37,
    "start_time": "2023-09-18T15:54:14.902Z"
   },
   {
    "duration": 229,
    "start_time": "2023-09-18T15:54:14.942Z"
   },
   {
    "duration": 123,
    "start_time": "2023-09-18T15:54:15.173Z"
   },
   {
    "duration": 13,
    "start_time": "2023-09-18T15:54:15.298Z"
   },
   {
    "duration": 87,
    "start_time": "2023-09-18T15:54:15.315Z"
   },
   {
    "duration": 8,
    "start_time": "2023-09-18T15:54:15.403Z"
   },
   {
    "duration": 10,
    "start_time": "2023-09-18T15:54:15.413Z"
   },
   {
    "duration": 482,
    "start_time": "2023-09-18T15:54:15.425Z"
   },
   {
    "duration": 156,
    "start_time": "2023-09-18T15:54:15.909Z"
   },
   {
    "duration": 4,
    "start_time": "2023-09-18T15:54:16.067Z"
   },
   {
    "duration": 91,
    "start_time": "2023-09-18T15:54:16.081Z"
   },
   {
    "duration": 283,
    "start_time": "2023-09-18T15:54:16.173Z"
   },
   {
    "duration": 69326,
    "start_time": "2023-09-18T15:54:16.458Z"
   },
   {
    "duration": 5,
    "start_time": "2023-09-18T15:55:25.791Z"
   },
   {
    "duration": 318,
    "start_time": "2023-09-18T15:55:25.798Z"
   },
   {
    "duration": 34,
    "start_time": "2023-09-18T15:55:26.117Z"
   },
   {
    "duration": 3,
    "start_time": "2023-09-18T15:55:26.153Z"
   },
   {
    "duration": 219954,
    "start_time": "2023-09-18T15:55:26.157Z"
   },
   {
    "duration": 4,
    "start_time": "2023-09-18T15:59:06.113Z"
   },
   {
    "duration": 736,
    "start_time": "2023-09-18T15:59:06.118Z"
   },
   {
    "duration": 4,
    "start_time": "2023-09-18T15:59:06.856Z"
   },
   {
    "duration": 117652,
    "start_time": "2023-09-18T15:59:06.862Z"
   },
   {
    "duration": 4,
    "start_time": "2023-09-18T16:01:04.516Z"
   },
   {
    "duration": 9,
    "start_time": "2023-09-18T16:01:04.522Z"
   },
   {
    "duration": 6,
    "start_time": "2023-09-18T16:01:36.597Z"
   },
   {
    "duration": 4,
    "start_time": "2023-09-18T16:01:52.494Z"
   },
   {
    "duration": 80,
    "start_time": "2023-09-18T16:07:44.427Z"
   },
   {
    "duration": 125,
    "start_time": "2023-09-18T16:07:46.399Z"
   },
   {
    "duration": 10,
    "start_time": "2023-09-18T16:08:00.922Z"
   },
   {
    "duration": 6452,
    "start_time": "2023-09-18T16:08:06.620Z"
   },
   {
    "duration": 5,
    "start_time": "2023-09-18T16:10:02.451Z"
   },
   {
    "duration": 3,
    "start_time": "2023-09-18T16:10:34.116Z"
   },
   {
    "duration": 3,
    "start_time": "2023-09-18T16:10:40.752Z"
   },
   {
    "duration": 4,
    "start_time": "2023-09-18T16:10:42.640Z"
   },
   {
    "duration": 7656,
    "start_time": "2023-09-18T17:22:00.257Z"
   },
   {
    "duration": 17,
    "start_time": "2023-09-18T17:22:07.915Z"
   },
   {
    "duration": 13,
    "start_time": "2023-09-18T17:22:07.937Z"
   },
   {
    "duration": 1030,
    "start_time": "2023-09-18T17:22:07.952Z"
   },
   {
    "duration": 183,
    "start_time": "2023-09-18T17:22:08.985Z"
   },
   {
    "duration": 544,
    "start_time": "2023-09-18T17:22:09.170Z"
   },
   {
    "duration": 662,
    "start_time": "2023-09-18T17:22:09.716Z"
   },
   {
    "duration": 53,
    "start_time": "2023-09-18T17:22:10.380Z"
   },
   {
    "duration": 124,
    "start_time": "2023-09-18T17:22:10.435Z"
   },
   {
    "duration": 44,
    "start_time": "2023-09-18T17:22:10.561Z"
   },
   {
    "duration": 184,
    "start_time": "2023-09-18T17:22:10.607Z"
   },
   {
    "duration": 120,
    "start_time": "2023-09-18T17:22:10.793Z"
   },
   {
    "duration": 34,
    "start_time": "2023-09-18T17:22:10.915Z"
   },
   {
    "duration": 95,
    "start_time": "2023-09-18T17:22:10.952Z"
   },
   {
    "duration": 10,
    "start_time": "2023-09-18T17:22:11.050Z"
   },
   {
    "duration": 41,
    "start_time": "2023-09-18T17:22:11.062Z"
   },
   {
    "duration": 539,
    "start_time": "2023-09-18T17:22:11.105Z"
   },
   {
    "duration": 31,
    "start_time": "2023-09-18T17:22:11.646Z"
   },
   {
    "duration": 25,
    "start_time": "2023-09-18T17:22:11.679Z"
   },
   {
    "duration": 99,
    "start_time": "2023-09-18T17:22:11.706Z"
   },
   {
    "duration": 28,
    "start_time": "2023-09-18T17:22:11.807Z"
   },
   {
    "duration": 143,
    "start_time": "2023-09-18T17:22:11.836Z"
   },
   {
    "duration": 253,
    "start_time": "2023-09-18T17:22:11.981Z"
   },
   {
    "duration": 70411,
    "start_time": "2023-09-18T17:22:12.242Z"
   },
   {
    "duration": 4,
    "start_time": "2023-09-18T17:23:22.655Z"
   },
   {
    "duration": 7,
    "start_time": "2023-09-18T17:24:30.417Z"
   },
   {
    "duration": 7,
    "start_time": "2023-09-18T17:24:35.967Z"
   },
   {
    "duration": 21,
    "start_time": "2023-09-18T17:24:44.966Z"
   },
   {
    "duration": 131,
    "start_time": "2023-09-18T17:24:57.461Z"
   },
   {
    "duration": 16,
    "start_time": "2023-09-18T17:24:59.292Z"
   },
   {
    "duration": 5,
    "start_time": "2023-09-18T17:25:15.372Z"
   },
   {
    "duration": 4,
    "start_time": "2023-09-18T17:25:19.962Z"
   },
   {
    "duration": 51,
    "start_time": "2023-09-19T10:07:38.363Z"
   },
   {
    "duration": 1808,
    "start_time": "2023-09-19T10:07:43.583Z"
   },
   {
    "duration": 3,
    "start_time": "2023-09-19T10:07:45.394Z"
   },
   {
    "duration": 6,
    "start_time": "2023-09-19T10:07:45.399Z"
   },
   {
    "duration": 2363,
    "start_time": "2023-09-19T10:07:45.406Z"
   },
   {
    "duration": 339,
    "start_time": "2023-09-19T10:07:47.771Z"
   },
   {
    "duration": 581,
    "start_time": "2023-09-19T10:07:48.112Z"
   },
   {
    "duration": 642,
    "start_time": "2023-09-19T10:07:48.694Z"
   },
   {
    "duration": 36,
    "start_time": "2023-09-19T10:07:49.338Z"
   },
   {
    "duration": 1720,
    "start_time": "2023-09-19T10:07:49.376Z"
   },
   {
    "duration": 114,
    "start_time": "2023-09-19T10:07:51.097Z"
   },
   {
    "duration": 62,
    "start_time": "2023-09-19T10:07:51.212Z"
   },
   {
    "duration": 205,
    "start_time": "2023-09-19T10:07:51.276Z"
   },
   {
    "duration": 110,
    "start_time": "2023-09-19T10:07:51.483Z"
   },
   {
    "duration": 26,
    "start_time": "2023-09-19T10:07:51.596Z"
   },
   {
    "duration": 100,
    "start_time": "2023-09-19T10:07:51.624Z"
   },
   {
    "duration": 7,
    "start_time": "2023-09-19T10:07:51.726Z"
   },
   {
    "duration": 53,
    "start_time": "2023-09-19T10:07:51.735Z"
   },
   {
    "duration": 577,
    "start_time": "2023-09-19T10:07:51.790Z"
   },
   {
    "duration": 28,
    "start_time": "2023-09-19T10:07:52.369Z"
   },
   {
    "duration": 76,
    "start_time": "2023-09-19T10:07:52.399Z"
   },
   {
    "duration": 93,
    "start_time": "2023-09-19T10:07:52.477Z"
   },
   {
    "duration": 4,
    "start_time": "2023-09-19T10:07:52.571Z"
   },
   {
    "duration": 118,
    "start_time": "2023-09-19T10:07:52.576Z"
   },
   {
    "duration": 264,
    "start_time": "2023-09-19T10:07:52.696Z"
   },
   {
    "duration": 71164,
    "start_time": "2023-09-19T10:07:52.963Z"
   },
   {
    "duration": 4,
    "start_time": "2023-09-19T10:09:04.129Z"
   },
   {
    "duration": 197,
    "start_time": "2023-09-19T10:09:04.134Z"
   },
   {
    "duration": 44,
    "start_time": "2023-09-19T10:09:04.333Z"
   },
   {
    "duration": 3,
    "start_time": "2023-09-19T10:09:04.379Z"
   },
   {
    "duration": 16512,
    "start_time": "2023-09-19T10:09:04.384Z"
   },
   {
    "duration": 25,
    "start_time": "2023-09-19T10:09:20.898Z"
   },
   {
    "duration": 0,
    "start_time": "2023-09-19T10:09:20.925Z"
   },
   {
    "duration": 0,
    "start_time": "2023-09-19T10:09:20.926Z"
   },
   {
    "duration": 0,
    "start_time": "2023-09-19T10:09:20.927Z"
   },
   {
    "duration": 0,
    "start_time": "2023-09-19T10:09:20.928Z"
   },
   {
    "duration": 0,
    "start_time": "2023-09-19T10:09:20.929Z"
   },
   {
    "duration": 0,
    "start_time": "2023-09-19T10:09:20.931Z"
   },
   {
    "duration": 0,
    "start_time": "2023-09-19T10:09:20.932Z"
   },
   {
    "duration": 0,
    "start_time": "2023-09-19T10:09:20.933Z"
   },
   {
    "duration": 0,
    "start_time": "2023-09-19T10:09:20.934Z"
   },
   {
    "duration": 0,
    "start_time": "2023-09-19T10:09:20.935Z"
   },
   {
    "duration": 735,
    "start_time": "2023-09-19T10:09:30.954Z"
   },
   {
    "duration": 220,
    "start_time": "2023-09-19T10:09:40.795Z"
   },
   {
    "duration": 1409,
    "start_time": "2023-09-19T10:09:47.066Z"
   },
   {
    "duration": 722,
    "start_time": "2023-09-19T10:10:26.546Z"
   },
   {
    "duration": 746,
    "start_time": "2023-09-19T10:11:03.643Z"
   },
   {
    "duration": 722,
    "start_time": "2023-09-19T10:13:08.190Z"
   },
   {
    "duration": 704,
    "start_time": "2023-09-19T10:13:11.660Z"
   },
   {
    "duration": 741,
    "start_time": "2023-09-19T10:16:30.386Z"
   },
   {
    "duration": 785,
    "start_time": "2023-09-19T10:17:18.032Z"
   },
   {
    "duration": 5,
    "start_time": "2023-09-19T10:18:47.142Z"
   },
   {
    "duration": 2705,
    "start_time": "2023-09-19T10:18:48.464Z"
   },
   {
    "duration": 1801,
    "start_time": "2023-09-19T10:19:08.042Z"
   },
   {
    "duration": 4,
    "start_time": "2023-09-19T10:19:09.847Z"
   },
   {
    "duration": 18,
    "start_time": "2023-09-19T10:19:09.853Z"
   },
   {
    "duration": 1797,
    "start_time": "2023-09-19T10:19:09.872Z"
   },
   {
    "duration": 400,
    "start_time": "2023-09-19T10:19:11.672Z"
   },
   {
    "duration": 987,
    "start_time": "2023-09-19T10:19:12.075Z"
   },
   {
    "duration": 673,
    "start_time": "2023-09-19T10:19:13.065Z"
   },
   {
    "duration": 42,
    "start_time": "2023-09-19T10:19:13.740Z"
   },
   {
    "duration": 5310,
    "start_time": "2023-09-19T10:19:13.784Z"
   },
   {
    "duration": 0,
    "start_time": "2023-09-19T10:19:19.097Z"
   },
   {
    "duration": 0,
    "start_time": "2023-09-19T10:19:19.099Z"
   },
   {
    "duration": 0,
    "start_time": "2023-09-19T10:19:19.100Z"
   },
   {
    "duration": 0,
    "start_time": "2023-09-19T10:19:19.102Z"
   },
   {
    "duration": 0,
    "start_time": "2023-09-19T10:19:19.104Z"
   },
   {
    "duration": 0,
    "start_time": "2023-09-19T10:19:19.106Z"
   },
   {
    "duration": 0,
    "start_time": "2023-09-19T10:19:19.107Z"
   },
   {
    "duration": 0,
    "start_time": "2023-09-19T10:19:19.109Z"
   },
   {
    "duration": 0,
    "start_time": "2023-09-19T10:19:19.110Z"
   },
   {
    "duration": 0,
    "start_time": "2023-09-19T10:19:19.112Z"
   },
   {
    "duration": 0,
    "start_time": "2023-09-19T10:19:19.113Z"
   },
   {
    "duration": 0,
    "start_time": "2023-09-19T10:19:19.115Z"
   },
   {
    "duration": 0,
    "start_time": "2023-09-19T10:19:19.117Z"
   },
   {
    "duration": 0,
    "start_time": "2023-09-19T10:19:19.147Z"
   },
   {
    "duration": 0,
    "start_time": "2023-09-19T10:19:19.149Z"
   },
   {
    "duration": 0,
    "start_time": "2023-09-19T10:19:19.151Z"
   },
   {
    "duration": 0,
    "start_time": "2023-09-19T10:19:19.152Z"
   },
   {
    "duration": 0,
    "start_time": "2023-09-19T10:19:19.154Z"
   },
   {
    "duration": 0,
    "start_time": "2023-09-19T10:19:19.155Z"
   },
   {
    "duration": 0,
    "start_time": "2023-09-19T10:19:19.157Z"
   },
   {
    "duration": 0,
    "start_time": "2023-09-19T10:19:19.158Z"
   },
   {
    "duration": 0,
    "start_time": "2023-09-19T10:19:19.160Z"
   },
   {
    "duration": 0,
    "start_time": "2023-09-19T10:19:19.162Z"
   },
   {
    "duration": 0,
    "start_time": "2023-09-19T10:19:19.163Z"
   },
   {
    "duration": 0,
    "start_time": "2023-09-19T10:19:19.165Z"
   },
   {
    "duration": 0,
    "start_time": "2023-09-19T10:19:19.166Z"
   },
   {
    "duration": 0,
    "start_time": "2023-09-19T10:19:19.167Z"
   },
   {
    "duration": 0,
    "start_time": "2023-09-19T10:19:19.169Z"
   },
   {
    "duration": 0,
    "start_time": "2023-09-19T10:19:19.170Z"
   },
   {
    "duration": 0,
    "start_time": "2023-09-19T10:19:19.171Z"
   },
   {
    "duration": 1826,
    "start_time": "2023-09-19T10:19:52.354Z"
   },
   {
    "duration": 3,
    "start_time": "2023-09-19T10:19:54.183Z"
   },
   {
    "duration": 50,
    "start_time": "2023-09-19T10:19:54.187Z"
   },
   {
    "duration": 2358,
    "start_time": "2023-09-19T10:19:54.239Z"
   },
   {
    "duration": 348,
    "start_time": "2023-09-19T10:19:56.599Z"
   },
   {
    "duration": 544,
    "start_time": "2023-09-19T10:19:56.949Z"
   },
   {
    "duration": 658,
    "start_time": "2023-09-19T10:19:57.495Z"
   },
   {
    "duration": 1086,
    "start_time": "2023-09-19T10:19:58.156Z"
   },
   {
    "duration": 22,
    "start_time": "2023-09-19T10:19:59.247Z"
   },
   {
    "duration": 123,
    "start_time": "2023-09-19T10:19:59.270Z"
   },
   {
    "duration": 30,
    "start_time": "2023-09-19T10:19:59.395Z"
   },
   {
    "duration": 187,
    "start_time": "2023-09-19T10:19:59.427Z"
   },
   {
    "duration": 113,
    "start_time": "2023-09-19T10:19:59.616Z"
   },
   {
    "duration": 6,
    "start_time": "2023-09-19T10:19:59.748Z"
   },
   {
    "duration": 122,
    "start_time": "2023-09-19T10:19:59.755Z"
   },
   {
    "duration": 4,
    "start_time": "2023-09-19T10:19:59.878Z"
   },
   {
    "duration": 587,
    "start_time": "2023-09-19T10:19:59.884Z"
   },
   {
    "duration": 29,
    "start_time": "2023-09-19T10:20:00.473Z"
   },
   {
    "duration": 32,
    "start_time": "2023-09-19T10:20:00.504Z"
   },
   {
    "duration": 78,
    "start_time": "2023-09-19T10:20:00.546Z"
   },
   {
    "duration": 4,
    "start_time": "2023-09-19T10:20:00.626Z"
   },
   {
    "duration": 88,
    "start_time": "2023-09-19T10:20:00.646Z"
   },
   {
    "duration": 267,
    "start_time": "2023-09-19T10:20:00.736Z"
   },
   {
    "duration": 12794,
    "start_time": "2023-09-19T10:20:01.004Z"
   },
   {
    "duration": 11,
    "start_time": "2023-09-19T10:20:13.800Z"
   },
   {
    "duration": 0,
    "start_time": "2023-09-19T10:20:13.812Z"
   },
   {
    "duration": 0,
    "start_time": "2023-09-19T10:20:13.814Z"
   },
   {
    "duration": 0,
    "start_time": "2023-09-19T10:20:13.815Z"
   },
   {
    "duration": 0,
    "start_time": "2023-09-19T10:20:13.817Z"
   },
   {
    "duration": 0,
    "start_time": "2023-09-19T10:20:13.818Z"
   },
   {
    "duration": 0,
    "start_time": "2023-09-19T10:20:13.819Z"
   },
   {
    "duration": 0,
    "start_time": "2023-09-19T10:20:13.821Z"
   },
   {
    "duration": 0,
    "start_time": "2023-09-19T10:20:13.822Z"
   },
   {
    "duration": 0,
    "start_time": "2023-09-19T10:20:13.823Z"
   },
   {
    "duration": 0,
    "start_time": "2023-09-19T10:20:13.824Z"
   },
   {
    "duration": 0,
    "start_time": "2023-09-19T10:20:13.826Z"
   },
   {
    "duration": 0,
    "start_time": "2023-09-19T10:20:13.827Z"
   },
   {
    "duration": 1,
    "start_time": "2023-09-19T10:20:13.828Z"
   },
   {
    "duration": 0,
    "start_time": "2023-09-19T10:20:13.830Z"
   },
   {
    "duration": 4,
    "start_time": "2023-09-19T10:20:53.888Z"
   },
   {
    "duration": 4564,
    "start_time": "2023-09-19T10:20:55.860Z"
   },
   {
    "duration": 1841,
    "start_time": "2023-09-19T10:21:20.829Z"
   },
   {
    "duration": 4,
    "start_time": "2023-09-19T10:21:22.672Z"
   },
   {
    "duration": 12,
    "start_time": "2023-09-19T10:21:22.678Z"
   },
   {
    "duration": 2279,
    "start_time": "2023-09-19T10:21:22.692Z"
   },
   {
    "duration": 383,
    "start_time": "2023-09-19T10:21:24.974Z"
   },
   {
    "duration": 630,
    "start_time": "2023-09-19T10:21:25.360Z"
   },
   {
    "duration": 668,
    "start_time": "2023-09-19T10:21:25.993Z"
   },
   {
    "duration": 1094,
    "start_time": "2023-09-19T10:21:26.663Z"
   },
   {
    "duration": 18,
    "start_time": "2023-09-19T10:21:27.759Z"
   },
   {
    "duration": 121,
    "start_time": "2023-09-19T10:21:27.779Z"
   },
   {
    "duration": 52,
    "start_time": "2023-09-19T10:21:27.902Z"
   },
   {
    "duration": 199,
    "start_time": "2023-09-19T10:21:27.957Z"
   },
   {
    "duration": 130,
    "start_time": "2023-09-19T10:21:28.158Z"
   },
   {
    "duration": 14,
    "start_time": "2023-09-19T10:21:28.292Z"
   },
   {
    "duration": 103,
    "start_time": "2023-09-19T10:21:28.307Z"
   },
   {
    "duration": 5,
    "start_time": "2023-09-19T10:21:28.413Z"
   },
   {
    "duration": 680,
    "start_time": "2023-09-19T10:21:28.420Z"
   },
   {
    "duration": 51,
    "start_time": "2023-09-19T10:21:29.102Z"
   },
   {
    "duration": 42,
    "start_time": "2023-09-19T10:21:29.156Z"
   },
   {
    "duration": 94,
    "start_time": "2023-09-19T10:21:29.200Z"
   },
   {
    "duration": 4,
    "start_time": "2023-09-19T10:21:29.296Z"
   },
   {
    "duration": 110,
    "start_time": "2023-09-19T10:21:29.302Z"
   },
   {
    "duration": 296,
    "start_time": "2023-09-19T10:21:29.414Z"
   },
   {
    "duration": 73494,
    "start_time": "2023-09-19T10:21:29.712Z"
   },
   {
    "duration": 4,
    "start_time": "2023-09-19T10:22:43.208Z"
   },
   {
    "duration": 187,
    "start_time": "2023-09-19T10:22:43.213Z"
   },
   {
    "duration": 34,
    "start_time": "2023-09-19T10:22:43.402Z"
   },
   {
    "duration": 11,
    "start_time": "2023-09-19T10:22:43.438Z"
   },
   {
    "duration": 1720,
    "start_time": "2023-09-19T10:24:55.297Z"
   },
   {
    "duration": 2,
    "start_time": "2023-09-19T10:24:57.019Z"
   },
   {
    "duration": 11,
    "start_time": "2023-09-19T10:24:57.023Z"
   },
   {
    "duration": 2031,
    "start_time": "2023-09-19T10:24:57.036Z"
   },
   {
    "duration": 477,
    "start_time": "2023-09-19T10:24:59.070Z"
   },
   {
    "duration": 832,
    "start_time": "2023-09-19T10:24:59.550Z"
   },
   {
    "duration": 696,
    "start_time": "2023-09-19T10:25:00.385Z"
   },
   {
    "duration": 1099,
    "start_time": "2023-09-19T10:25:01.085Z"
   },
   {
    "duration": 17,
    "start_time": "2023-09-19T10:25:02.186Z"
   },
   {
    "duration": 150,
    "start_time": "2023-09-19T10:25:02.205Z"
   },
   {
    "duration": 61,
    "start_time": "2023-09-19T10:25:02.358Z"
   },
   {
    "duration": 212,
    "start_time": "2023-09-19T10:25:02.421Z"
   },
   {
    "duration": 115,
    "start_time": "2023-09-19T10:25:02.634Z"
   },
   {
    "duration": 8,
    "start_time": "2023-09-19T10:25:02.754Z"
   },
   {
    "duration": 84,
    "start_time": "2023-09-19T10:25:02.764Z"
   },
   {
    "duration": 7,
    "start_time": "2023-09-19T10:25:02.850Z"
   },
   {
    "duration": 360,
    "start_time": "2023-09-19T10:25:02.859Z"
   },
   {
    "duration": 0,
    "start_time": "2023-09-19T10:25:03.221Z"
   },
   {
    "duration": 0,
    "start_time": "2023-09-19T10:25:03.222Z"
   },
   {
    "duration": 0,
    "start_time": "2023-09-19T10:25:03.223Z"
   },
   {
    "duration": 0,
    "start_time": "2023-09-19T10:25:03.224Z"
   },
   {
    "duration": 0,
    "start_time": "2023-09-19T10:25:03.226Z"
   },
   {
    "duration": 0,
    "start_time": "2023-09-19T10:25:03.227Z"
   },
   {
    "duration": 0,
    "start_time": "2023-09-19T10:25:03.248Z"
   },
   {
    "duration": 0,
    "start_time": "2023-09-19T10:25:03.250Z"
   },
   {
    "duration": 0,
    "start_time": "2023-09-19T10:25:03.252Z"
   },
   {
    "duration": 0,
    "start_time": "2023-09-19T10:25:03.254Z"
   },
   {
    "duration": 0,
    "start_time": "2023-09-19T10:25:03.256Z"
   },
   {
    "duration": 0,
    "start_time": "2023-09-19T10:25:03.258Z"
   },
   {
    "duration": 0,
    "start_time": "2023-09-19T10:25:03.260Z"
   },
   {
    "duration": 0,
    "start_time": "2023-09-19T10:25:03.262Z"
   },
   {
    "duration": 0,
    "start_time": "2023-09-19T10:25:03.263Z"
   },
   {
    "duration": 0,
    "start_time": "2023-09-19T10:25:03.266Z"
   },
   {
    "duration": 0,
    "start_time": "2023-09-19T10:25:03.268Z"
   },
   {
    "duration": 0,
    "start_time": "2023-09-19T10:25:03.269Z"
   },
   {
    "duration": 0,
    "start_time": "2023-09-19T10:25:03.271Z"
   },
   {
    "duration": 0,
    "start_time": "2023-09-19T10:25:03.272Z"
   },
   {
    "duration": 0,
    "start_time": "2023-09-19T10:25:03.274Z"
   },
   {
    "duration": 0,
    "start_time": "2023-09-19T10:25:03.276Z"
   },
   {
    "duration": 243,
    "start_time": "2023-09-19T10:25:39.934Z"
   },
   {
    "duration": 5,
    "start_time": "2023-09-19T10:26:46.512Z"
   },
   {
    "duration": 4,
    "start_time": "2023-09-19T10:27:17.139Z"
   },
   {
    "duration": 638,
    "start_time": "2023-09-19T10:27:18.596Z"
   },
   {
    "duration": 4,
    "start_time": "2023-09-19T10:28:33.665Z"
   },
   {
    "duration": 208,
    "start_time": "2023-09-19T10:28:34.877Z"
   },
   {
    "duration": 4,
    "start_time": "2023-09-19T10:28:41.094Z"
   },
   {
    "duration": 544,
    "start_time": "2023-09-19T10:28:42.383Z"
   },
   {
    "duration": 5,
    "start_time": "2023-09-19T10:29:09.621Z"
   },
   {
    "duration": 556,
    "start_time": "2023-09-19T10:29:11.714Z"
   },
   {
    "duration": 5,
    "start_time": "2023-09-19T10:30:58.512Z"
   },
   {
    "duration": 567,
    "start_time": "2023-09-19T10:31:00.226Z"
   },
   {
    "duration": 35,
    "start_time": "2023-09-19T10:32:05.146Z"
   },
   {
    "duration": 23,
    "start_time": "2023-09-19T10:32:07.171Z"
   },
   {
    "duration": 5,
    "start_time": "2023-09-19T10:32:18.131Z"
   },
   {
    "duration": 72,
    "start_time": "2023-09-19T10:32:20.463Z"
   },
   {
    "duration": 4,
    "start_time": "2023-09-19T10:32:22.775Z"
   },
   {
    "duration": 240,
    "start_time": "2023-09-19T10:33:09.868Z"
   },
   {
    "duration": 282,
    "start_time": "2023-09-19T10:36:26.455Z"
   },
   {
    "duration": 1593,
    "start_time": "2023-09-19T10:36:57.788Z"
   },
   {
    "duration": 3,
    "start_time": "2023-09-19T10:36:59.383Z"
   },
   {
    "duration": 28,
    "start_time": "2023-09-19T10:36:59.387Z"
   },
   {
    "duration": 1736,
    "start_time": "2023-09-19T10:36:59.417Z"
   },
   {
    "duration": 317,
    "start_time": "2023-09-19T10:37:01.155Z"
   },
   {
    "duration": 708,
    "start_time": "2023-09-19T10:37:01.473Z"
   },
   {
    "duration": 638,
    "start_time": "2023-09-19T10:37:02.184Z"
   },
   {
    "duration": 1041,
    "start_time": "2023-09-19T10:37:02.824Z"
   },
   {
    "duration": 17,
    "start_time": "2023-09-19T10:37:03.867Z"
   },
   {
    "duration": 116,
    "start_time": "2023-09-19T10:37:03.886Z"
   },
   {
    "duration": 26,
    "start_time": "2023-09-19T10:37:04.004Z"
   },
   {
    "duration": 178,
    "start_time": "2023-09-19T10:37:04.046Z"
   },
   {
    "duration": 101,
    "start_time": "2023-09-19T10:37:04.226Z"
   },
   {
    "duration": 17,
    "start_time": "2023-09-19T10:37:04.331Z"
   },
   {
    "duration": 86,
    "start_time": "2023-09-19T10:37:04.349Z"
   },
   {
    "duration": 4,
    "start_time": "2023-09-19T10:37:04.437Z"
   },
   {
    "duration": 598,
    "start_time": "2023-09-19T10:37:04.443Z"
   },
   {
    "duration": 32,
    "start_time": "2023-09-19T10:37:05.043Z"
   },
   {
    "duration": 24,
    "start_time": "2023-09-19T10:37:05.076Z"
   },
   {
    "duration": 101,
    "start_time": "2023-09-19T10:37:05.102Z"
   },
   {
    "duration": 5,
    "start_time": "2023-09-19T10:37:05.205Z"
   },
   {
    "duration": 186,
    "start_time": "2023-09-19T10:37:05.212Z"
   },
   {
    "duration": 191,
    "start_time": "2023-09-19T10:37:05.400Z"
   },
   {
    "duration": 61,
    "start_time": "2023-09-19T10:37:05.593Z"
   },
   {
    "duration": 200,
    "start_time": "2023-09-19T10:37:05.656Z"
   },
   {
    "duration": 23165,
    "start_time": "2023-09-19T10:37:05.857Z"
   },
   {
    "duration": 15,
    "start_time": "2023-09-19T10:37:29.024Z"
   },
   {
    "duration": 0,
    "start_time": "2023-09-19T10:37:29.041Z"
   },
   {
    "duration": 0,
    "start_time": "2023-09-19T10:37:29.042Z"
   },
   {
    "duration": 0,
    "start_time": "2023-09-19T10:37:29.043Z"
   },
   {
    "duration": 0,
    "start_time": "2023-09-19T10:37:29.045Z"
   },
   {
    "duration": 0,
    "start_time": "2023-09-19T10:37:29.049Z"
   },
   {
    "duration": 0,
    "start_time": "2023-09-19T10:37:29.050Z"
   },
   {
    "duration": 0,
    "start_time": "2023-09-19T10:37:29.054Z"
   },
   {
    "duration": 0,
    "start_time": "2023-09-19T10:37:29.056Z"
   },
   {
    "duration": 0,
    "start_time": "2023-09-19T10:37:29.057Z"
   },
   {
    "duration": 0,
    "start_time": "2023-09-19T10:37:29.059Z"
   },
   {
    "duration": 0,
    "start_time": "2023-09-19T10:37:29.061Z"
   },
   {
    "duration": 0,
    "start_time": "2023-09-19T10:37:29.063Z"
   },
   {
    "duration": 0,
    "start_time": "2023-09-19T10:37:29.065Z"
   },
   {
    "duration": 0,
    "start_time": "2023-09-19T10:37:29.067Z"
   },
   {
    "duration": 0,
    "start_time": "2023-09-19T10:37:29.069Z"
   },
   {
    "duration": 183,
    "start_time": "2023-09-19T10:37:31.325Z"
   },
   {
    "duration": 1636,
    "start_time": "2023-09-19T11:38:52.876Z"
   },
   {
    "duration": 2,
    "start_time": "2023-09-19T11:38:54.515Z"
   },
   {
    "duration": 36,
    "start_time": "2023-09-19T11:38:54.518Z"
   },
   {
    "duration": 1003,
    "start_time": "2023-09-19T11:38:54.555Z"
   },
   {
    "duration": 184,
    "start_time": "2023-09-19T11:38:55.561Z"
   },
   {
    "duration": 538,
    "start_time": "2023-09-19T11:38:55.746Z"
   },
   {
    "duration": 624,
    "start_time": "2023-09-19T11:38:56.285Z"
   },
   {
    "duration": 1006,
    "start_time": "2023-09-19T11:38:56.911Z"
   },
   {
    "duration": 17,
    "start_time": "2023-09-19T11:38:57.919Z"
   },
   {
    "duration": 131,
    "start_time": "2023-09-19T11:38:57.947Z"
   },
   {
    "duration": 42,
    "start_time": "2023-09-19T11:38:58.080Z"
   },
   {
    "duration": 169,
    "start_time": "2023-09-19T11:38:58.124Z"
   },
   {
    "duration": 103,
    "start_time": "2023-09-19T11:38:58.295Z"
   },
   {
    "duration": 15,
    "start_time": "2023-09-19T11:38:58.402Z"
   },
   {
    "duration": 69,
    "start_time": "2023-09-19T11:38:58.419Z"
   },
   {
    "duration": 3,
    "start_time": "2023-09-19T11:38:58.490Z"
   },
   {
    "duration": 615,
    "start_time": "2023-09-19T11:38:58.495Z"
   },
   {
    "duration": 35,
    "start_time": "2023-09-19T11:38:59.112Z"
   },
   {
    "duration": 23,
    "start_time": "2023-09-19T11:38:59.149Z"
   },
   {
    "duration": 86,
    "start_time": "2023-09-19T11:38:59.174Z"
   },
   {
    "duration": 4,
    "start_time": "2023-09-19T11:38:59.262Z"
   },
   {
    "duration": 146,
    "start_time": "2023-09-19T11:38:59.268Z"
   },
   {
    "duration": 165,
    "start_time": "2023-09-19T11:38:59.415Z"
   },
   {
    "duration": 55,
    "start_time": "2023-09-19T11:38:59.581Z"
   },
   {
    "duration": 200,
    "start_time": "2023-09-19T11:38:59.647Z"
   },
   {
    "duration": 53182,
    "start_time": "2023-09-19T11:38:59.849Z"
   },
   {
    "duration": 4,
    "start_time": "2023-09-19T11:39:53.033Z"
   },
   {
    "duration": 28,
    "start_time": "2023-09-19T11:39:53.039Z"
   },
   {
    "duration": 4893,
    "start_time": "2023-09-19T11:39:53.069Z"
   },
   {
    "duration": 120,
    "start_time": "2023-09-19T11:39:57.963Z"
   },
   {
    "duration": 29,
    "start_time": "2023-09-19T11:39:58.085Z"
   },
   {
    "duration": 135,
    "start_time": "2023-09-19T11:39:58.116Z"
   },
   {
    "duration": 0,
    "start_time": "2023-09-19T11:39:58.253Z"
   },
   {
    "duration": 0,
    "start_time": "2023-09-19T11:39:58.254Z"
   },
   {
    "duration": 0,
    "start_time": "2023-09-19T11:39:58.255Z"
   },
   {
    "duration": 0,
    "start_time": "2023-09-19T11:39:58.256Z"
   },
   {
    "duration": 0,
    "start_time": "2023-09-19T11:39:58.257Z"
   },
   {
    "duration": 0,
    "start_time": "2023-09-19T11:39:58.258Z"
   },
   {
    "duration": 0,
    "start_time": "2023-09-19T11:39:58.259Z"
   },
   {
    "duration": 0,
    "start_time": "2023-09-19T11:39:58.260Z"
   },
   {
    "duration": 0,
    "start_time": "2023-09-19T11:39:58.261Z"
   },
   {
    "duration": 0,
    "start_time": "2023-09-19T11:39:58.263Z"
   },
   {
    "duration": 0,
    "start_time": "2023-09-19T11:39:58.264Z"
   },
   {
    "duration": 0,
    "start_time": "2023-09-19T11:39:58.265Z"
   },
   {
    "duration": 0,
    "start_time": "2023-09-19T11:39:58.266Z"
   },
   {
    "duration": 4984,
    "start_time": "2023-09-19T11:40:58.246Z"
   },
   {
    "duration": 68,
    "start_time": "2023-09-19T11:45:21.768Z"
   },
   {
    "duration": 107,
    "start_time": "2023-09-19T11:45:43.210Z"
   },
   {
    "duration": 67,
    "start_time": "2023-09-19T11:46:04.982Z"
   },
   {
    "duration": 27,
    "start_time": "2023-09-19T11:46:06.792Z"
   },
   {
    "duration": 63,
    "start_time": "2023-09-19T11:47:17.665Z"
   },
   {
    "duration": 357,
    "start_time": "2023-09-19T12:08:47.643Z"
   },
   {
    "duration": 240,
    "start_time": "2023-09-19T12:09:20.582Z"
   },
   {
    "duration": 1605,
    "start_time": "2023-09-19T12:11:27.190Z"
   },
   {
    "duration": 3,
    "start_time": "2023-09-19T12:11:28.797Z"
   },
   {
    "duration": 14,
    "start_time": "2023-09-19T12:11:28.802Z"
   },
   {
    "duration": 1012,
    "start_time": "2023-09-19T12:11:28.817Z"
   },
   {
    "duration": 178,
    "start_time": "2023-09-19T12:11:29.831Z"
   },
   {
    "duration": 582,
    "start_time": "2023-09-19T12:11:30.011Z"
   },
   {
    "duration": 660,
    "start_time": "2023-09-19T12:11:30.596Z"
   },
   {
    "duration": 1048,
    "start_time": "2023-09-19T12:11:31.257Z"
   },
   {
    "duration": 19,
    "start_time": "2023-09-19T12:11:32.306Z"
   },
   {
    "duration": 129,
    "start_time": "2023-09-19T12:11:32.327Z"
   },
   {
    "duration": 73,
    "start_time": "2023-09-19T12:11:32.458Z"
   },
   {
    "duration": 204,
    "start_time": "2023-09-19T12:11:32.533Z"
   },
   {
    "duration": 99,
    "start_time": "2023-09-19T12:11:32.739Z"
   },
   {
    "duration": 12,
    "start_time": "2023-09-19T12:11:32.847Z"
   },
   {
    "duration": 76,
    "start_time": "2023-09-19T12:11:32.860Z"
   },
   {
    "duration": 4,
    "start_time": "2023-09-19T12:11:32.938Z"
   },
   {
    "duration": 619,
    "start_time": "2023-09-19T12:11:32.943Z"
   },
   {
    "duration": 27,
    "start_time": "2023-09-19T12:11:33.563Z"
   },
   {
    "duration": 24,
    "start_time": "2023-09-19T12:11:33.592Z"
   },
   {
    "duration": 90,
    "start_time": "2023-09-19T12:11:33.618Z"
   },
   {
    "duration": 3,
    "start_time": "2023-09-19T12:11:33.710Z"
   },
   {
    "duration": 174,
    "start_time": "2023-09-19T12:11:33.715Z"
   },
   {
    "duration": 166,
    "start_time": "2023-09-19T12:11:33.891Z"
   },
   {
    "duration": 68,
    "start_time": "2023-09-19T12:11:34.060Z"
   },
   {
    "duration": 219,
    "start_time": "2023-09-19T12:11:34.130Z"
   },
   {
    "duration": 59353,
    "start_time": "2023-09-19T12:11:34.351Z"
   },
   {
    "duration": 3,
    "start_time": "2023-09-19T12:12:33.706Z"
   },
   {
    "duration": 25,
    "start_time": "2023-09-19T12:12:33.711Z"
   },
   {
    "duration": 4823,
    "start_time": "2023-09-19T12:12:33.738Z"
   },
   {
    "duration": 247,
    "start_time": "2023-09-19T12:12:38.563Z"
   },
   {
    "duration": 137,
    "start_time": "2023-09-19T12:12:38.811Z"
   },
   {
    "duration": 27,
    "start_time": "2023-09-19T12:12:38.950Z"
   },
   {
    "duration": 29,
    "start_time": "2023-09-19T12:12:38.979Z"
   },
   {
    "duration": 26057,
    "start_time": "2023-09-19T12:12:39.010Z"
   },
   {
    "duration": 3,
    "start_time": "2023-09-19T12:13:05.069Z"
   },
   {
    "duration": 6,
    "start_time": "2023-09-19T12:13:05.074Z"
   },
   {
    "duration": 5068,
    "start_time": "2023-09-19T12:13:05.082Z"
   },
   {
    "duration": 2026,
    "start_time": "2023-09-19T12:13:10.151Z"
   },
   {
    "duration": 10,
    "start_time": "2023-09-19T12:13:12.179Z"
   },
   {
    "duration": 167,
    "start_time": "2023-09-19T12:13:12.191Z"
   },
   {
    "duration": 0,
    "start_time": "2023-09-19T12:13:12.360Z"
   },
   {
    "duration": 0,
    "start_time": "2023-09-19T12:13:12.361Z"
   },
   {
    "duration": 0,
    "start_time": "2023-09-19T12:13:12.362Z"
   },
   {
    "duration": 0,
    "start_time": "2023-09-19T12:13:12.363Z"
   },
   {
    "duration": 0,
    "start_time": "2023-09-19T12:13:12.364Z"
   },
   {
    "duration": 0,
    "start_time": "2023-09-19T12:13:12.366Z"
   },
   {
    "duration": 0,
    "start_time": "2023-09-19T12:13:12.367Z"
   },
   {
    "duration": 0,
    "start_time": "2023-09-19T12:13:12.368Z"
   },
   {
    "duration": 0,
    "start_time": "2023-09-19T12:13:12.370Z"
   },
   {
    "duration": 4,
    "start_time": "2023-09-19T12:24:39.699Z"
   },
   {
    "duration": 308,
    "start_time": "2023-09-19T12:24:43.066Z"
   },
   {
    "duration": 314,
    "start_time": "2023-09-19T12:27:11.276Z"
   },
   {
    "duration": 837,
    "start_time": "2023-09-19T12:27:25.163Z"
   },
   {
    "duration": 524,
    "start_time": "2023-09-19T12:27:36.792Z"
   },
   {
    "duration": 10,
    "start_time": "2023-09-19T12:28:21.557Z"
   },
   {
    "duration": 4,
    "start_time": "2023-09-19T12:28:25.359Z"
   },
   {
    "duration": 10,
    "start_time": "2023-09-19T12:28:27.013Z"
   },
   {
    "duration": 4168,
    "start_time": "2023-09-19T12:28:45.071Z"
   },
   {
    "duration": 5,
    "start_time": "2023-09-19T12:30:08.397Z"
   },
   {
    "duration": 5,
    "start_time": "2023-09-19T12:30:10.727Z"
   },
   {
    "duration": 99,
    "start_time": "2023-09-19T12:32:22.359Z"
   },
   {
    "duration": 2,
    "start_time": "2023-09-19T12:32:27.326Z"
   },
   {
    "duration": 104,
    "start_time": "2023-09-19T12:32:28.462Z"
   },
   {
    "duration": 124,
    "start_time": "2023-09-19T12:32:37.972Z"
   },
   {
    "duration": 28,
    "start_time": "2023-09-19T12:33:05.914Z"
   },
   {
    "duration": 12,
    "start_time": "2023-09-19T12:44:25.204Z"
   },
   {
    "duration": 4,
    "start_time": "2023-09-19T12:45:03.739Z"
   },
   {
    "duration": 64,
    "start_time": "2023-09-19T12:45:05.942Z"
   },
   {
    "duration": 5208,
    "start_time": "2023-09-19T12:45:07.638Z"
   },
   {
    "duration": 4,
    "start_time": "2023-09-19T12:45:19.075Z"
   },
   {
    "duration": 6,
    "start_time": "2023-09-19T12:48:56.428Z"
   },
   {
    "duration": 1624,
    "start_time": "2023-09-19T12:52:01.782Z"
   },
   {
    "duration": 3,
    "start_time": "2023-09-19T12:52:03.408Z"
   },
   {
    "duration": 10,
    "start_time": "2023-09-19T12:52:03.412Z"
   },
   {
    "duration": 977,
    "start_time": "2023-09-19T12:52:03.423Z"
   },
   {
    "duration": 190,
    "start_time": "2023-09-19T12:52:04.403Z"
   },
   {
    "duration": 536,
    "start_time": "2023-09-19T12:52:04.595Z"
   },
   {
    "duration": 703,
    "start_time": "2023-09-19T12:52:05.133Z"
   },
   {
    "duration": 1062,
    "start_time": "2023-09-19T12:52:05.838Z"
   },
   {
    "duration": 18,
    "start_time": "2023-09-19T12:52:06.902Z"
   },
   {
    "duration": 116,
    "start_time": "2023-09-19T12:52:06.922Z"
   },
   {
    "duration": 30,
    "start_time": "2023-09-19T12:52:07.041Z"
   },
   {
    "duration": 184,
    "start_time": "2023-09-19T12:52:07.072Z"
   },
   {
    "duration": 102,
    "start_time": "2023-09-19T12:52:07.258Z"
   },
   {
    "duration": 4,
    "start_time": "2023-09-19T12:52:07.365Z"
   },
   {
    "duration": 83,
    "start_time": "2023-09-19T12:52:07.371Z"
   },
   {
    "duration": 4,
    "start_time": "2023-09-19T12:52:07.456Z"
   },
   {
    "duration": 599,
    "start_time": "2023-09-19T12:52:07.462Z"
   },
   {
    "duration": 30,
    "start_time": "2023-09-19T12:52:08.063Z"
   },
   {
    "duration": 25,
    "start_time": "2023-09-19T12:52:08.095Z"
   },
   {
    "duration": 88,
    "start_time": "2023-09-19T12:52:08.122Z"
   },
   {
    "duration": 5,
    "start_time": "2023-09-19T12:52:08.212Z"
   },
   {
    "duration": 155,
    "start_time": "2023-09-19T12:52:08.219Z"
   },
   {
    "duration": 167,
    "start_time": "2023-09-19T12:52:08.377Z"
   },
   {
    "duration": 54,
    "start_time": "2023-09-19T12:52:08.547Z"
   },
   {
    "duration": 206,
    "start_time": "2023-09-19T12:52:08.603Z"
   },
   {
    "duration": 53709,
    "start_time": "2023-09-19T12:52:08.811Z"
   },
   {
    "duration": 4,
    "start_time": "2023-09-19T12:53:02.521Z"
   },
   {
    "duration": 37,
    "start_time": "2023-09-19T12:53:02.526Z"
   },
   {
    "duration": 4685,
    "start_time": "2023-09-19T12:53:02.564Z"
   },
   {
    "duration": 259,
    "start_time": "2023-09-19T12:53:07.251Z"
   },
   {
    "duration": 145,
    "start_time": "2023-09-19T12:53:07.512Z"
   },
   {
    "duration": 27,
    "start_time": "2023-09-19T12:53:07.658Z"
   },
   {
    "duration": 3,
    "start_time": "2023-09-19T12:53:07.687Z"
   },
   {
    "duration": 25676,
    "start_time": "2023-09-19T12:53:07.691Z"
   },
   {
    "duration": 3,
    "start_time": "2023-09-19T12:53:33.370Z"
   },
   {
    "duration": 10,
    "start_time": "2023-09-19T12:53:33.375Z"
   },
   {
    "duration": 33373,
    "start_time": "2023-09-19T12:53:33.386Z"
   },
   {
    "duration": 2211,
    "start_time": "2023-09-19T12:54:06.761Z"
   },
   {
    "duration": 8,
    "start_time": "2023-09-19T12:54:08.974Z"
   },
   {
    "duration": 940,
    "start_time": "2023-09-19T12:54:08.984Z"
   },
   {
    "duration": 4,
    "start_time": "2023-09-19T12:54:09.928Z"
   },
   {
    "duration": 4421,
    "start_time": "2023-09-19T12:54:09.933Z"
   },
   {
    "duration": 4,
    "start_time": "2023-09-19T12:54:14.356Z"
   },
   {
    "duration": 15,
    "start_time": "2023-09-19T12:54:14.362Z"
   },
   {
    "duration": 27,
    "start_time": "2023-09-19T12:54:14.379Z"
   },
   {
    "duration": 145,
    "start_time": "2023-09-19T12:54:14.408Z"
   },
   {
    "duration": 27,
    "start_time": "2023-09-19T12:54:14.555Z"
   },
   {
    "duration": 11,
    "start_time": "2023-09-19T12:54:14.583Z"
   },
   {
    "duration": 27,
    "start_time": "2023-09-19T12:54:14.595Z"
   },
   {
    "duration": 83,
    "start_time": "2023-09-19T12:54:14.624Z"
   },
   {
    "duration": 5733,
    "start_time": "2023-09-19T12:54:14.709Z"
   },
   {
    "duration": 4,
    "start_time": "2023-09-19T12:54:20.444Z"
   },
   {
    "duration": 34,
    "start_time": "2023-09-19T12:54:20.449Z"
   }
  ],
  "kernelspec": {
   "display_name": "Python 3 (ipykernel)",
   "language": "python",
   "name": "python3"
  },
  "language_info": {
   "codemirror_mode": {
    "name": "ipython",
    "version": 3
   },
   "file_extension": ".py",
   "mimetype": "text/x-python",
   "name": "python",
   "nbconvert_exporter": "python",
   "pygments_lexer": "ipython3",
   "version": "3.10.9"
  },
  "toc": {
   "base_numbering": 1,
   "nav_menu": {},
   "number_sections": true,
   "sideBar": true,
   "skip_h1_title": true,
   "title_cell": "Table of Contents",
   "title_sidebar": "Contents",
   "toc_cell": false,
   "toc_position": {
    "height": "calc(100% - 180px)",
    "left": "10px",
    "top": "150px",
    "width": "328.528px"
   },
   "toc_section_display": true,
   "toc_window_display": true
  }
 },
 "nbformat": 4,
 "nbformat_minor": 2
}
