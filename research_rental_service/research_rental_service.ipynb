{
 "cells": [
  {
   "cell_type": "markdown",
   "id": "b7ae44e9",
   "metadata": {},
   "source": [
    "# Исследование сервиса аренды самокатов GoFast\n",
    "Переданы данные о некоторых пользователях из нескольких городов, а также об их поездках.  Необходимо проанализировать данные и проверить некоторые гипотезы, которые могут помочь бизнесу вырасти.\n",
    "Чтобы совершать поездки по городу, пользователи сервиса GoFast пользуются мобильным приложением. \n",
    "\n",
    "Сервисом можно пользоваться:\n",
    "\n",
    "без подписки \n",
    "- абонентская плата отсутствует;\n",
    "- стоимость одной минуты поездки — 8 рублей;\n",
    "- стоимость старта (начала поездки) — 50 рублей;\n",
    "\n",
    "с подпиской Ultra\n",
    "\n",
    "- абонентская плата — 199 рублей в месяц;\n",
    "- стоимость одной минуты поездки — 6 рублей;\n",
    "- стоимость старта — бесплатно.\n",
    "\n",
    "В ходе исследований необходимо выполнить:\n",
    "\n",
    "- предоработку данных (выяления дубликатов, обработка пропущенных значений и устранение выбросов)\n",
    "- провести исследовательский анализ\n",
    "- выполнить подсчет выручки\n",
    "- проверить гипотезы"
   ]
  },
  {
   "cell_type": "code",
   "execution_count": 1,
   "id": "72576667",
   "metadata": {},
   "outputs": [],
   "source": [
    "import pandas as pd\n",
    "import matplotlib.pyplot as plt\n",
    "import numpy as np\n",
    "from scipy import stats as st"
   ]
  },
  {
   "cell_type": "markdown",
   "id": "c42cbe00",
   "metadata": {},
   "source": [
    "#### Шаг 1. Загрузка данных"
   ]
  },
  {
   "cell_type": "code",
   "execution_count": 2,
   "id": "eff9f206",
   "metadata": {},
   "outputs": [
    {
     "data": {
      "text/html": [
       "<div>\n",
       "<style scoped>\n",
       "    .dataframe tbody tr th:only-of-type {\n",
       "        vertical-align: middle;\n",
       "    }\n",
       "\n",
       "    .dataframe tbody tr th {\n",
       "        vertical-align: top;\n",
       "    }\n",
       "\n",
       "    .dataframe thead th {\n",
       "        text-align: right;\n",
       "    }\n",
       "</style>\n",
       "<table border=\"1\" class=\"dataframe\">\n",
       "  <thead>\n",
       "    <tr style=\"text-align: right;\">\n",
       "      <th></th>\n",
       "      <th>user_id</th>\n",
       "      <th>name</th>\n",
       "      <th>age</th>\n",
       "      <th>city</th>\n",
       "      <th>subscription_type</th>\n",
       "    </tr>\n",
       "  </thead>\n",
       "  <tbody>\n",
       "    <tr>\n",
       "      <th>0</th>\n",
       "      <td>1</td>\n",
       "      <td>Кира</td>\n",
       "      <td>22</td>\n",
       "      <td>Тюмень</td>\n",
       "      <td>ultra</td>\n",
       "    </tr>\n",
       "    <tr>\n",
       "      <th>1</th>\n",
       "      <td>2</td>\n",
       "      <td>Станислав</td>\n",
       "      <td>31</td>\n",
       "      <td>Омск</td>\n",
       "      <td>ultra</td>\n",
       "    </tr>\n",
       "    <tr>\n",
       "      <th>2</th>\n",
       "      <td>3</td>\n",
       "      <td>Алексей</td>\n",
       "      <td>20</td>\n",
       "      <td>Москва</td>\n",
       "      <td>ultra</td>\n",
       "    </tr>\n",
       "    <tr>\n",
       "      <th>3</th>\n",
       "      <td>4</td>\n",
       "      <td>Константин</td>\n",
       "      <td>26</td>\n",
       "      <td>Ростов-на-Дону</td>\n",
       "      <td>ultra</td>\n",
       "    </tr>\n",
       "    <tr>\n",
       "      <th>4</th>\n",
       "      <td>5</td>\n",
       "      <td>Адель</td>\n",
       "      <td>28</td>\n",
       "      <td>Омск</td>\n",
       "      <td>ultra</td>\n",
       "    </tr>\n",
       "  </tbody>\n",
       "</table>\n",
       "</div>"
      ],
      "text/plain": [
       "   user_id        name  age            city subscription_type\n",
       "0        1        Кира   22          Тюмень             ultra\n",
       "1        2   Станислав   31            Омск             ultra\n",
       "2        3     Алексей   20          Москва             ultra\n",
       "3        4  Константин   26  Ростов-на-Дону             ultra\n",
       "4        5       Адель   28            Омск             ultra"
      ]
     },
     "execution_count": 2,
     "metadata": {},
     "output_type": "execute_result"
    }
   ],
   "source": [
    "data_users_go = pd.read_csv('/datasets/users_go.csv')\n",
    "data_users_go.head()"
   ]
  },
  {
   "cell_type": "code",
   "execution_count": 3,
   "id": "2dec6cc1",
   "metadata": {},
   "outputs": [
    {
     "name": "stdout",
     "output_type": "stream",
     "text": [
      "<class 'pandas.core.frame.DataFrame'>\n",
      "RangeIndex: 1565 entries, 0 to 1564\n",
      "Data columns (total 5 columns):\n",
      " #   Column             Non-Null Count  Dtype \n",
      "---  ------             --------------  ----- \n",
      " 0   user_id            1565 non-null   int64 \n",
      " 1   name               1565 non-null   object\n",
      " 2   age                1565 non-null   int64 \n",
      " 3   city               1565 non-null   object\n",
      " 4   subscription_type  1565 non-null   object\n",
      "dtypes: int64(2), object(3)\n",
      "memory usage: 61.3+ KB\n"
     ]
    }
   ],
   "source": [
    "data_users_go.info()"
   ]
  },
  {
   "cell_type": "code",
   "execution_count": 4,
   "id": "f6549e62",
   "metadata": {},
   "outputs": [
    {
     "data": {
      "text/html": [
       "<div>\n",
       "<style scoped>\n",
       "    .dataframe tbody tr th:only-of-type {\n",
       "        vertical-align: middle;\n",
       "    }\n",
       "\n",
       "    .dataframe tbody tr th {\n",
       "        vertical-align: top;\n",
       "    }\n",
       "\n",
       "    .dataframe thead th {\n",
       "        text-align: right;\n",
       "    }\n",
       "</style>\n",
       "<table border=\"1\" class=\"dataframe\">\n",
       "  <thead>\n",
       "    <tr style=\"text-align: right;\">\n",
       "      <th></th>\n",
       "      <th>user_id</th>\n",
       "      <th>distance</th>\n",
       "      <th>duration</th>\n",
       "      <th>date</th>\n",
       "    </tr>\n",
       "  </thead>\n",
       "  <tbody>\n",
       "    <tr>\n",
       "      <th>0</th>\n",
       "      <td>1</td>\n",
       "      <td>4409.919140</td>\n",
       "      <td>25.599769</td>\n",
       "      <td>2021-01-01</td>\n",
       "    </tr>\n",
       "    <tr>\n",
       "      <th>1</th>\n",
       "      <td>1</td>\n",
       "      <td>2617.592153</td>\n",
       "      <td>15.816871</td>\n",
       "      <td>2021-01-18</td>\n",
       "    </tr>\n",
       "    <tr>\n",
       "      <th>2</th>\n",
       "      <td>1</td>\n",
       "      <td>754.159807</td>\n",
       "      <td>6.232113</td>\n",
       "      <td>2021-04-20</td>\n",
       "    </tr>\n",
       "    <tr>\n",
       "      <th>3</th>\n",
       "      <td>1</td>\n",
       "      <td>2694.783254</td>\n",
       "      <td>18.511000</td>\n",
       "      <td>2021-08-11</td>\n",
       "    </tr>\n",
       "    <tr>\n",
       "      <th>4</th>\n",
       "      <td>1</td>\n",
       "      <td>4028.687306</td>\n",
       "      <td>26.265803</td>\n",
       "      <td>2021-08-28</td>\n",
       "    </tr>\n",
       "  </tbody>\n",
       "</table>\n",
       "</div>"
      ],
      "text/plain": [
       "   user_id     distance   duration        date\n",
       "0        1  4409.919140  25.599769  2021-01-01\n",
       "1        1  2617.592153  15.816871  2021-01-18\n",
       "2        1   754.159807   6.232113  2021-04-20\n",
       "3        1  2694.783254  18.511000  2021-08-11\n",
       "4        1  4028.687306  26.265803  2021-08-28"
      ]
     },
     "execution_count": 4,
     "metadata": {},
     "output_type": "execute_result"
    }
   ],
   "source": [
    "data_rides_go = pd.read_csv('/datasets/rides_go.csv')\n",
    "data_rides_go.head()"
   ]
  },
  {
   "cell_type": "code",
   "execution_count": 5,
   "id": "d34a5a7a",
   "metadata": {},
   "outputs": [
    {
     "name": "stdout",
     "output_type": "stream",
     "text": [
      "<class 'pandas.core.frame.DataFrame'>\n",
      "RangeIndex: 18068 entries, 0 to 18067\n",
      "Data columns (total 4 columns):\n",
      " #   Column    Non-Null Count  Dtype  \n",
      "---  ------    --------------  -----  \n",
      " 0   user_id   18068 non-null  int64  \n",
      " 1   distance  18068 non-null  float64\n",
      " 2   duration  18068 non-null  float64\n",
      " 3   date      18068 non-null  object \n",
      "dtypes: float64(2), int64(1), object(1)\n",
      "memory usage: 564.8+ KB\n"
     ]
    }
   ],
   "source": [
    "data_rides_go.info()"
   ]
  },
  {
   "cell_type": "code",
   "execution_count": 6,
   "id": "49078908",
   "metadata": {},
   "outputs": [
    {
     "data": {
      "text/html": [
       "<div>\n",
       "<style scoped>\n",
       "    .dataframe tbody tr th:only-of-type {\n",
       "        vertical-align: middle;\n",
       "    }\n",
       "\n",
       "    .dataframe tbody tr th {\n",
       "        vertical-align: top;\n",
       "    }\n",
       "\n",
       "    .dataframe thead th {\n",
       "        text-align: right;\n",
       "    }\n",
       "</style>\n",
       "<table border=\"1\" class=\"dataframe\">\n",
       "  <thead>\n",
       "    <tr style=\"text-align: right;\">\n",
       "      <th></th>\n",
       "      <th>subscription_type</th>\n",
       "      <th>minute_price</th>\n",
       "      <th>start_ride_price</th>\n",
       "      <th>subscription_fee</th>\n",
       "    </tr>\n",
       "  </thead>\n",
       "  <tbody>\n",
       "    <tr>\n",
       "      <th>0</th>\n",
       "      <td>free</td>\n",
       "      <td>8</td>\n",
       "      <td>50</td>\n",
       "      <td>0</td>\n",
       "    </tr>\n",
       "    <tr>\n",
       "      <th>1</th>\n",
       "      <td>ultra</td>\n",
       "      <td>6</td>\n",
       "      <td>0</td>\n",
       "      <td>199</td>\n",
       "    </tr>\n",
       "  </tbody>\n",
       "</table>\n",
       "</div>"
      ],
      "text/plain": [
       "  subscription_type  minute_price  start_ride_price  subscription_fee\n",
       "0              free             8                50                 0\n",
       "1             ultra             6                 0               199"
      ]
     },
     "execution_count": 6,
     "metadata": {},
     "output_type": "execute_result"
    }
   ],
   "source": [
    "data_subscriptions_go = pd.read_csv('/datasets/subscriptions_go.csv')\n",
    "data_subscriptions_go.head()"
   ]
  },
  {
   "cell_type": "code",
   "execution_count": 7,
   "id": "4075ae44",
   "metadata": {},
   "outputs": [
    {
     "name": "stdout",
     "output_type": "stream",
     "text": [
      "<class 'pandas.core.frame.DataFrame'>\n",
      "RangeIndex: 2 entries, 0 to 1\n",
      "Data columns (total 4 columns):\n",
      " #   Column             Non-Null Count  Dtype \n",
      "---  ------             --------------  ----- \n",
      " 0   subscription_type  2 non-null      object\n",
      " 1   minute_price       2 non-null      int64 \n",
      " 2   start_ride_price   2 non-null      int64 \n",
      " 3   subscription_fee   2 non-null      int64 \n",
      "dtypes: int64(3), object(1)\n",
      "memory usage: 192.0+ bytes\n"
     ]
    }
   ],
   "source": [
    "data_subscriptions_go.info()"
   ]
  },
  {
   "cell_type": "markdown",
   "id": "587b8551",
   "metadata": {},
   "source": [
    "По первому знакомству с данными:\n",
    "- пропущенныех значений нет\n",
    "- все столбцы соответствуют типу данных, кроме столбца 'date' в датефрейме '/datasets/rides_go.csv', необходимо привести к типу datetime"
   ]
  },
  {
   "cell_type": "markdown",
   "id": "e95ebca7",
   "metadata": {},
   "source": [
    "#### Шаг 2. Предобработка данных"
   ]
  },
  {
   "cell_type": "code",
   "execution_count": 8,
   "id": "af6d202c",
   "metadata": {},
   "outputs": [
    {
     "data": {
      "text/plain": [
       "array([2021])"
      ]
     },
     "execution_count": 8,
     "metadata": {},
     "output_type": "execute_result"
    }
   ],
   "source": [
    "data_rides_go['date'] = pd.to_datetime(data_rides_go['date'], format = '%Y-%m-%d')\n",
    "data_rides_go['month'] = data_rides_go['date'].dt.month\n",
    "data_rides_go['date'].dt.year.unique()"
   ]
  },
  {
   "cell_type": "code",
   "execution_count": 9,
   "id": "2c1c43fe",
   "metadata": {},
   "outputs": [
    {
     "data": {
      "text/plain": [
       "array(['Тюмень', 'Омск', 'Москва', 'Ростов-на-Дону', 'Краснодар',\n",
       "       'Пятигорск', 'Екатеринбург', 'Сочи'], dtype=object)"
      ]
     },
     "execution_count": 9,
     "metadata": {},
     "output_type": "execute_result"
    }
   ],
   "source": [
    "data_users_go['city'].unique()"
   ]
  },
  {
   "cell_type": "code",
   "execution_count": 10,
   "id": "24229b65",
   "metadata": {},
   "outputs": [
    {
     "data": {
      "text/plain": [
       "31"
      ]
     },
     "execution_count": 10,
     "metadata": {},
     "output_type": "execute_result"
    }
   ],
   "source": [
    "data_users_go.duplicated().sum()"
   ]
  },
  {
   "cell_type": "code",
   "execution_count": 11,
   "id": "8092311e",
   "metadata": {},
   "outputs": [],
   "source": [
    "data_users_go = data_users_go.drop_duplicates().reset_index(drop=True)"
   ]
  },
  {
   "cell_type": "code",
   "execution_count": 12,
   "id": "164c2496",
   "metadata": {},
   "outputs": [
    {
     "data": {
      "text/plain": [
       "0"
      ]
     },
     "execution_count": 12,
     "metadata": {},
     "output_type": "execute_result"
    }
   ],
   "source": [
    "data_rides_go.duplicated().sum()"
   ]
  },
  {
   "cell_type": "markdown",
   "id": "70c1f5ec",
   "metadata": {},
   "source": [
    "Неявных дубликатов не выявлено. Явные дубликаты в датафрейме '/datasets/users_go.csv' были удалены (их немного и на результат исследолвания не повлияет)"
   ]
  },
  {
   "cell_type": "markdown",
   "id": "212593c7",
   "metadata": {},
   "source": [
    "#### Шаг 3. Исследовательский анализ данных"
   ]
  },
  {
   "cell_type": "code",
   "execution_count": 13,
   "id": "e3a4274c",
   "metadata": {},
   "outputs": [
    {
     "data": {
      "image/png": "[encoded data removed]",
      "text/plain": [
       "<Figure size 720x432 with 1 Axes>"
      ]
     },
     "metadata": {
      "needs_background": "light"
     },
     "output_type": "display_data"
    }
   ],
   "source": [
    "data_users_go['city'].value_counts(ascending = True).plot(kind = 'barh', figsize = (10,6));\n",
    "plt.title('Частота встречаемости городов среди пользователей');\n",
    "plt.xlabel('Количество пользователей в городе, шт');"
   ]
  },
  {
   "cell_type": "markdown",
   "id": "9d174f24",
   "metadata": {},
   "source": [
    "Больше всего сервисом пользуются в Пятигорске, меньше всего в Москве."
   ]
  },
  {
   "cell_type": "code",
   "execution_count": 14,
   "id": "0faacf8b",
   "metadata": {},
   "outputs": [
    {
     "data": {
      "image/png": "[encoded data removed]",
      "text/plain": [
       "<Figure size 432x288 with 1 Axes>"
      ]
     },
     "metadata": {},
     "output_type": "display_data"
    }
   ],
   "source": [
    "data_users_go['subscription_type'].value_counts(ascending = True).plot(kind='pie', autopct='%1.0f%%');\n",
    "plt.title('Соотношение пользователей с подпиской и без подписки');\n",
    "plt.ylabel('Тип подписки');"
   ]
  },
  {
   "cell_type": "markdown",
   "id": "5a2d7c56",
   "metadata": {},
   "source": [
    "54% пользователей пользуются сервисом без подписки"
   ]
  },
  {
   "cell_type": "code",
   "execution_count": 15,
   "id": "bb3d1987",
   "metadata": {},
   "outputs": [
    {
     "data": {
      "image/png": "[encoded data removed]",
      "text/plain": [
       "<Figure size 720x360 with 1 Axes>"
      ]
     },
     "metadata": {
      "needs_background": "light"
     },
     "output_type": "display_data"
    }
   ],
   "source": [
    "data_users_go['age'].hist(bins = 15, figsize = (10,5));\n",
    "plt.title('Гистограмма распределния возраста пользователей');\n",
    "plt.xlabel('Возраст, лет');\n",
    "plt.ylabel('Количество пользователей');"
   ]
  },
  {
   "cell_type": "markdown",
   "id": "de9a3f22",
   "metadata": {},
   "source": [
    "Сервис больше всего пользуется спросом для людей в возрасте от 20 до 30 лет."
   ]
  },
  {
   "cell_type": "code",
   "execution_count": 16,
   "id": "245120c0",
   "metadata": {},
   "outputs": [
    {
     "data": {
      "image/png": "[encoded data removed]",
      "text/plain": [
       "<Figure size 720x360 with 1 Axes>"
      ]
     },
     "metadata": {
      "needs_background": "light"
     },
     "output_type": "display_data"
    }
   ],
   "source": [
    "data_rides_go['distance'].hist(bins = 150, figsize = (10,5));\n",
    "plt.title('Расстояние, которое пользователь преодолел за одну поездку');\n",
    "plt.xlabel('Расстояние, м');\n",
    "plt.ylabel('Количество пользователей');"
   ]
  },
  {
   "cell_type": "code",
   "execution_count": 17,
   "id": "04dfc61a",
   "metadata": {},
   "outputs": [
    {
     "data": {
      "text/plain": [
       "3070.6599756818814"
      ]
     },
     "execution_count": 17,
     "metadata": {},
     "output_type": "execute_result"
    }
   ],
   "source": [
    "data_rides_go['distance'].mean()"
   ]
  },
  {
   "cell_type": "markdown",
   "id": "0667985d",
   "metadata": {},
   "source": [
    "В среднем пользователь проезжает 3070м за поездку. Но есть странные значения возле нуля, которые могут свидетельствовать, что пользователь сразу завершал поездку. Это возможно связано с зарядом самоката."
   ]
  },
  {
   "cell_type": "code",
   "execution_count": 18,
   "id": "6569a4ab",
   "metadata": {},
   "outputs": [
    {
     "data": {
      "image/png": "[encoded data removed]",
      "text/plain": [
       "<Figure size 720x360 with 1 Axes>"
      ]
     },
     "metadata": {
      "needs_background": "light"
     },
     "output_type": "display_data"
    }
   ],
   "source": [
    "data_rides_go['duration'].hist(bins = 150, figsize = (10,5));\n",
    "plt.title('Продолжительность одной поездки');\n",
    "plt.xlabel('Время, мин');\n",
    "plt.ylabel('Количество пользователей');"
   ]
  },
  {
   "cell_type": "code",
   "execution_count": 19,
   "id": "6aca421f",
   "metadata": {},
   "outputs": [
    {
     "data": {
      "text/plain": [
       "17.80501119798444"
      ]
     },
     "execution_count": 19,
     "metadata": {},
     "output_type": "execute_result"
    }
   ],
   "source": [
    "data_rides_go['duration'].mean()"
   ]
  },
  {
   "cell_type": "markdown",
   "id": "6b2aac34",
   "metadata": {},
   "source": [
    "В среднем на поездку уходит примерно 18мин. Здесь также есть нулевые значения, что говорит об мгновенном завершени поездки."
   ]
  },
  {
   "cell_type": "markdown",
   "id": "b46b8b8c",
   "metadata": {},
   "source": [
    "#### Шаг 4. Объединение данных"
   ]
  },
  {
   "cell_type": "code",
   "execution_count": 20,
   "id": "6bf288b5",
   "metadata": {},
   "outputs": [
    {
     "data": {
      "text/html": [
       "<div>\n",
       "<style scoped>\n",
       "    .dataframe tbody tr th:only-of-type {\n",
       "        vertical-align: middle;\n",
       "    }\n",
       "\n",
       "    .dataframe tbody tr th {\n",
       "        vertical-align: top;\n",
       "    }\n",
       "\n",
       "    .dataframe thead th {\n",
       "        text-align: right;\n",
       "    }\n",
       "</style>\n",
       "<table border=\"1\" class=\"dataframe\">\n",
       "  <thead>\n",
       "    <tr style=\"text-align: right;\">\n",
       "      <th></th>\n",
       "      <th>user_id</th>\n",
       "      <th>name</th>\n",
       "      <th>age</th>\n",
       "      <th>city</th>\n",
       "      <th>subscription_type</th>\n",
       "      <th>distance</th>\n",
       "      <th>duration</th>\n",
       "      <th>date</th>\n",
       "      <th>month</th>\n",
       "    </tr>\n",
       "  </thead>\n",
       "  <tbody>\n",
       "    <tr>\n",
       "      <th>0</th>\n",
       "      <td>1</td>\n",
       "      <td>Кира</td>\n",
       "      <td>22</td>\n",
       "      <td>Тюмень</td>\n",
       "      <td>ultra</td>\n",
       "      <td>4409.919140</td>\n",
       "      <td>25.599769</td>\n",
       "      <td>2021-01-01</td>\n",
       "      <td>1</td>\n",
       "    </tr>\n",
       "    <tr>\n",
       "      <th>1</th>\n",
       "      <td>1</td>\n",
       "      <td>Кира</td>\n",
       "      <td>22</td>\n",
       "      <td>Тюмень</td>\n",
       "      <td>ultra</td>\n",
       "      <td>2617.592153</td>\n",
       "      <td>15.816871</td>\n",
       "      <td>2021-01-18</td>\n",
       "      <td>1</td>\n",
       "    </tr>\n",
       "    <tr>\n",
       "      <th>2</th>\n",
       "      <td>1</td>\n",
       "      <td>Кира</td>\n",
       "      <td>22</td>\n",
       "      <td>Тюмень</td>\n",
       "      <td>ultra</td>\n",
       "      <td>754.159807</td>\n",
       "      <td>6.232113</td>\n",
       "      <td>2021-04-20</td>\n",
       "      <td>4</td>\n",
       "    </tr>\n",
       "    <tr>\n",
       "      <th>3</th>\n",
       "      <td>1</td>\n",
       "      <td>Кира</td>\n",
       "      <td>22</td>\n",
       "      <td>Тюмень</td>\n",
       "      <td>ultra</td>\n",
       "      <td>2694.783254</td>\n",
       "      <td>18.511000</td>\n",
       "      <td>2021-08-11</td>\n",
       "      <td>8</td>\n",
       "    </tr>\n",
       "    <tr>\n",
       "      <th>4</th>\n",
       "      <td>1</td>\n",
       "      <td>Кира</td>\n",
       "      <td>22</td>\n",
       "      <td>Тюмень</td>\n",
       "      <td>ultra</td>\n",
       "      <td>4028.687306</td>\n",
       "      <td>26.265803</td>\n",
       "      <td>2021-08-28</td>\n",
       "      <td>8</td>\n",
       "    </tr>\n",
       "  </tbody>\n",
       "</table>\n",
       "</div>"
      ],
      "text/plain": [
       "   user_id  name  age    city subscription_type     distance   duration  \\\n",
       "0        1  Кира   22  Тюмень             ultra  4409.919140  25.599769   \n",
       "1        1  Кира   22  Тюмень             ultra  2617.592153  15.816871   \n",
       "2        1  Кира   22  Тюмень             ultra   754.159807   6.232113   \n",
       "3        1  Кира   22  Тюмень             ultra  2694.783254  18.511000   \n",
       "4        1  Кира   22  Тюмень             ultra  4028.687306  26.265803   \n",
       "\n",
       "        date  month  \n",
       "0 2021-01-01      1  \n",
       "1 2021-01-18      1  \n",
       "2 2021-04-20      4  \n",
       "3 2021-08-11      8  \n",
       "4 2021-08-28      8  "
      ]
     },
     "execution_count": 20,
     "metadata": {},
     "output_type": "execute_result"
    }
   ],
   "source": [
    "df_1 = data_users_go.merge(data_rides_go, on='user_id')\n",
    "df_1.head(5)"
   ]
  },
  {
   "cell_type": "code",
   "execution_count": 21,
   "id": "19d7e368",
   "metadata": {},
   "outputs": [
    {
     "data": {
      "text/html": [
       "<div>\n",
       "<style scoped>\n",
       "    .dataframe tbody tr th:only-of-type {\n",
       "        vertical-align: middle;\n",
       "    }\n",
       "\n",
       "    .dataframe tbody tr th {\n",
       "        vertical-align: top;\n",
       "    }\n",
       "\n",
       "    .dataframe thead th {\n",
       "        text-align: right;\n",
       "    }\n",
       "</style>\n",
       "<table border=\"1\" class=\"dataframe\">\n",
       "  <thead>\n",
       "    <tr style=\"text-align: right;\">\n",
       "      <th></th>\n",
       "      <th>user_id</th>\n",
       "      <th>name</th>\n",
       "      <th>age</th>\n",
       "      <th>city</th>\n",
       "      <th>subscription_type</th>\n",
       "      <th>distance</th>\n",
       "      <th>duration</th>\n",
       "      <th>date</th>\n",
       "      <th>month</th>\n",
       "      <th>minute_price</th>\n",
       "      <th>start_ride_price</th>\n",
       "      <th>subscription_fee</th>\n",
       "    </tr>\n",
       "  </thead>\n",
       "  <tbody>\n",
       "    <tr>\n",
       "      <th>0</th>\n",
       "      <td>1</td>\n",
       "      <td>Кира</td>\n",
       "      <td>22</td>\n",
       "      <td>Тюмень</td>\n",
       "      <td>ultra</td>\n",
       "      <td>4409.919140</td>\n",
       "      <td>25.599769</td>\n",
       "      <td>2021-01-01</td>\n",
       "      <td>1</td>\n",
       "      <td>6</td>\n",
       "      <td>0</td>\n",
       "      <td>199</td>\n",
       "    </tr>\n",
       "    <tr>\n",
       "      <th>1</th>\n",
       "      <td>1</td>\n",
       "      <td>Кира</td>\n",
       "      <td>22</td>\n",
       "      <td>Тюмень</td>\n",
       "      <td>ultra</td>\n",
       "      <td>2617.592153</td>\n",
       "      <td>15.816871</td>\n",
       "      <td>2021-01-18</td>\n",
       "      <td>1</td>\n",
       "      <td>6</td>\n",
       "      <td>0</td>\n",
       "      <td>199</td>\n",
       "    </tr>\n",
       "    <tr>\n",
       "      <th>2</th>\n",
       "      <td>1</td>\n",
       "      <td>Кира</td>\n",
       "      <td>22</td>\n",
       "      <td>Тюмень</td>\n",
       "      <td>ultra</td>\n",
       "      <td>754.159807</td>\n",
       "      <td>6.232113</td>\n",
       "      <td>2021-04-20</td>\n",
       "      <td>4</td>\n",
       "      <td>6</td>\n",
       "      <td>0</td>\n",
       "      <td>199</td>\n",
       "    </tr>\n",
       "    <tr>\n",
       "      <th>3</th>\n",
       "      <td>1</td>\n",
       "      <td>Кира</td>\n",
       "      <td>22</td>\n",
       "      <td>Тюмень</td>\n",
       "      <td>ultra</td>\n",
       "      <td>2694.783254</td>\n",
       "      <td>18.511000</td>\n",
       "      <td>2021-08-11</td>\n",
       "      <td>8</td>\n",
       "      <td>6</td>\n",
       "      <td>0</td>\n",
       "      <td>199</td>\n",
       "    </tr>\n",
       "    <tr>\n",
       "      <th>4</th>\n",
       "      <td>1</td>\n",
       "      <td>Кира</td>\n",
       "      <td>22</td>\n",
       "      <td>Тюмень</td>\n",
       "      <td>ultra</td>\n",
       "      <td>4028.687306</td>\n",
       "      <td>26.265803</td>\n",
       "      <td>2021-08-28</td>\n",
       "      <td>8</td>\n",
       "      <td>6</td>\n",
       "      <td>0</td>\n",
       "      <td>199</td>\n",
       "    </tr>\n",
       "  </tbody>\n",
       "</table>\n",
       "</div>"
      ],
      "text/plain": [
       "   user_id  name  age    city subscription_type     distance   duration  \\\n",
       "0        1  Кира   22  Тюмень             ultra  4409.919140  25.599769   \n",
       "1        1  Кира   22  Тюмень             ultra  2617.592153  15.816871   \n",
       "2        1  Кира   22  Тюмень             ultra   754.159807   6.232113   \n",
       "3        1  Кира   22  Тюмень             ultra  2694.783254  18.511000   \n",
       "4        1  Кира   22  Тюмень             ultra  4028.687306  26.265803   \n",
       "\n",
       "        date  month  minute_price  start_ride_price  subscription_fee  \n",
       "0 2021-01-01      1             6                 0               199  \n",
       "1 2021-01-18      1             6                 0               199  \n",
       "2 2021-04-20      4             6                 0               199  \n",
       "3 2021-08-11      8             6                 0               199  \n",
       "4 2021-08-28      8             6                 0               199  "
      ]
     },
     "execution_count": 21,
     "metadata": {},
     "output_type": "execute_result"
    }
   ],
   "source": [
    "df_all = df_1.merge(data_subscriptions_go, on='subscription_type')\n",
    "df_all.head()"
   ]
  },
  {
   "cell_type": "code",
   "execution_count": 22,
   "id": "67b224b2",
   "metadata": {},
   "outputs": [
    {
     "name": "stdout",
     "output_type": "stream",
     "text": [
      "<class 'pandas.core.frame.DataFrame'>\n",
      "Int64Index: 18068 entries, 0 to 18067\n",
      "Data columns (total 12 columns):\n",
      " #   Column             Non-Null Count  Dtype         \n",
      "---  ------             --------------  -----         \n",
      " 0   user_id            18068 non-null  int64         \n",
      " 1   name               18068 non-null  object        \n",
      " 2   age                18068 non-null  int64         \n",
      " 3   city               18068 non-null  object        \n",
      " 4   subscription_type  18068 non-null  object        \n",
      " 5   distance           18068 non-null  float64       \n",
      " 6   duration           18068 non-null  float64       \n",
      " 7   date               18068 non-null  datetime64[ns]\n",
      " 8   month              18068 non-null  int64         \n",
      " 9   minute_price       18068 non-null  int64         \n",
      " 10  start_ride_price   18068 non-null  int64         \n",
      " 11  subscription_fee   18068 non-null  int64         \n",
      "dtypes: datetime64[ns](1), float64(2), int64(6), object(3)\n",
      "memory usage: 1.8+ MB\n"
     ]
    }
   ],
   "source": [
    "df_all.info()"
   ]
  },
  {
   "cell_type": "code",
   "execution_count": 23,
   "id": "83523238",
   "metadata": {},
   "outputs": [
    {
     "data": {
      "text/html": [
       "<div>\n",
       "<style scoped>\n",
       "    .dataframe tbody tr th:only-of-type {\n",
       "        vertical-align: middle;\n",
       "    }\n",
       "\n",
       "    .dataframe tbody tr th {\n",
       "        vertical-align: top;\n",
       "    }\n",
       "\n",
       "    .dataframe thead th {\n",
       "        text-align: right;\n",
       "    }\n",
       "</style>\n",
       "<table border=\"1\" class=\"dataframe\">\n",
       "  <thead>\n",
       "    <tr style=\"text-align: right;\">\n",
       "      <th></th>\n",
       "      <th>user_id</th>\n",
       "      <th>name</th>\n",
       "      <th>age</th>\n",
       "      <th>city</th>\n",
       "      <th>subscription_type</th>\n",
       "      <th>distance</th>\n",
       "      <th>duration</th>\n",
       "      <th>date</th>\n",
       "      <th>month</th>\n",
       "      <th>minute_price</th>\n",
       "      <th>start_ride_price</th>\n",
       "      <th>subscription_fee</th>\n",
       "    </tr>\n",
       "  </thead>\n",
       "  <tbody>\n",
       "    <tr>\n",
       "      <th>6500</th>\n",
       "      <td>700</td>\n",
       "      <td>Айдар</td>\n",
       "      <td>22</td>\n",
       "      <td>Омск</td>\n",
       "      <td>free</td>\n",
       "      <td>2515.690719</td>\n",
       "      <td>14.944286</td>\n",
       "      <td>2021-01-02</td>\n",
       "      <td>1</td>\n",
       "      <td>8</td>\n",
       "      <td>50</td>\n",
       "      <td>0</td>\n",
       "    </tr>\n",
       "    <tr>\n",
       "      <th>6501</th>\n",
       "      <td>700</td>\n",
       "      <td>Айдар</td>\n",
       "      <td>22</td>\n",
       "      <td>Омск</td>\n",
       "      <td>free</td>\n",
       "      <td>846.932642</td>\n",
       "      <td>16.234663</td>\n",
       "      <td>2021-02-01</td>\n",
       "      <td>2</td>\n",
       "      <td>8</td>\n",
       "      <td>50</td>\n",
       "      <td>0</td>\n",
       "    </tr>\n",
       "    <tr>\n",
       "      <th>6502</th>\n",
       "      <td>700</td>\n",
       "      <td>Айдар</td>\n",
       "      <td>22</td>\n",
       "      <td>Омск</td>\n",
       "      <td>free</td>\n",
       "      <td>4004.434142</td>\n",
       "      <td>20.016628</td>\n",
       "      <td>2021-02-04</td>\n",
       "      <td>2</td>\n",
       "      <td>8</td>\n",
       "      <td>50</td>\n",
       "      <td>0</td>\n",
       "    </tr>\n",
       "    <tr>\n",
       "      <th>6503</th>\n",
       "      <td>700</td>\n",
       "      <td>Айдар</td>\n",
       "      <td>22</td>\n",
       "      <td>Омск</td>\n",
       "      <td>free</td>\n",
       "      <td>1205.911290</td>\n",
       "      <td>9.782872</td>\n",
       "      <td>2021-02-10</td>\n",
       "      <td>2</td>\n",
       "      <td>8</td>\n",
       "      <td>50</td>\n",
       "      <td>0</td>\n",
       "    </tr>\n",
       "    <tr>\n",
       "      <th>6504</th>\n",
       "      <td>700</td>\n",
       "      <td>Айдар</td>\n",
       "      <td>22</td>\n",
       "      <td>Омск</td>\n",
       "      <td>free</td>\n",
       "      <td>3047.379435</td>\n",
       "      <td>17.427673</td>\n",
       "      <td>2021-02-14</td>\n",
       "      <td>2</td>\n",
       "      <td>8</td>\n",
       "      <td>50</td>\n",
       "      <td>0</td>\n",
       "    </tr>\n",
       "  </tbody>\n",
       "</table>\n",
       "</div>"
      ],
      "text/plain": [
       "      user_id   name  age  city subscription_type     distance   duration  \\\n",
       "6500      700  Айдар   22  Омск              free  2515.690719  14.944286   \n",
       "6501      700  Айдар   22  Омск              free   846.932642  16.234663   \n",
       "6502      700  Айдар   22  Омск              free  4004.434142  20.016628   \n",
       "6503      700  Айдар   22  Омск              free  1205.911290   9.782872   \n",
       "6504      700  Айдар   22  Омск              free  3047.379435  17.427673   \n",
       "\n",
       "           date  month  minute_price  start_ride_price  subscription_fee  \n",
       "6500 2021-01-02      1             8                50                 0  \n",
       "6501 2021-02-01      2             8                50                 0  \n",
       "6502 2021-02-04      2             8                50                 0  \n",
       "6503 2021-02-10      2             8                50                 0  \n",
       "6504 2021-02-14      2             8                50                 0  "
      ]
     },
     "execution_count": 23,
     "metadata": {},
     "output_type": "execute_result"
    }
   ],
   "source": [
    "df_free = df_all.query('subscription_type == \"free\"')\n",
    "df_free.head()"
   ]
  },
  {
   "cell_type": "code",
   "execution_count": 24,
   "id": "82e35c8e",
   "metadata": {},
   "outputs": [
    {
     "data": {
      "text/html": [
       "<div>\n",
       "<style scoped>\n",
       "    .dataframe tbody tr th:only-of-type {\n",
       "        vertical-align: middle;\n",
       "    }\n",
       "\n",
       "    .dataframe tbody tr th {\n",
       "        vertical-align: top;\n",
       "    }\n",
       "\n",
       "    .dataframe thead th {\n",
       "        text-align: right;\n",
       "    }\n",
       "</style>\n",
       "<table border=\"1\" class=\"dataframe\">\n",
       "  <thead>\n",
       "    <tr style=\"text-align: right;\">\n",
       "      <th></th>\n",
       "      <th>user_id</th>\n",
       "      <th>name</th>\n",
       "      <th>age</th>\n",
       "      <th>city</th>\n",
       "      <th>subscription_type</th>\n",
       "      <th>distance</th>\n",
       "      <th>duration</th>\n",
       "      <th>date</th>\n",
       "      <th>month</th>\n",
       "      <th>minute_price</th>\n",
       "      <th>start_ride_price</th>\n",
       "      <th>subscription_fee</th>\n",
       "    </tr>\n",
       "  </thead>\n",
       "  <tbody>\n",
       "    <tr>\n",
       "      <th>0</th>\n",
       "      <td>1</td>\n",
       "      <td>Кира</td>\n",
       "      <td>22</td>\n",
       "      <td>Тюмень</td>\n",
       "      <td>ultra</td>\n",
       "      <td>4409.919140</td>\n",
       "      <td>25.599769</td>\n",
       "      <td>2021-01-01</td>\n",
       "      <td>1</td>\n",
       "      <td>6</td>\n",
       "      <td>0</td>\n",
       "      <td>199</td>\n",
       "    </tr>\n",
       "    <tr>\n",
       "      <th>1</th>\n",
       "      <td>1</td>\n",
       "      <td>Кира</td>\n",
       "      <td>22</td>\n",
       "      <td>Тюмень</td>\n",
       "      <td>ultra</td>\n",
       "      <td>2617.592153</td>\n",
       "      <td>15.816871</td>\n",
       "      <td>2021-01-18</td>\n",
       "      <td>1</td>\n",
       "      <td>6</td>\n",
       "      <td>0</td>\n",
       "      <td>199</td>\n",
       "    </tr>\n",
       "    <tr>\n",
       "      <th>2</th>\n",
       "      <td>1</td>\n",
       "      <td>Кира</td>\n",
       "      <td>22</td>\n",
       "      <td>Тюмень</td>\n",
       "      <td>ultra</td>\n",
       "      <td>754.159807</td>\n",
       "      <td>6.232113</td>\n",
       "      <td>2021-04-20</td>\n",
       "      <td>4</td>\n",
       "      <td>6</td>\n",
       "      <td>0</td>\n",
       "      <td>199</td>\n",
       "    </tr>\n",
       "    <tr>\n",
       "      <th>3</th>\n",
       "      <td>1</td>\n",
       "      <td>Кира</td>\n",
       "      <td>22</td>\n",
       "      <td>Тюмень</td>\n",
       "      <td>ultra</td>\n",
       "      <td>2694.783254</td>\n",
       "      <td>18.511000</td>\n",
       "      <td>2021-08-11</td>\n",
       "      <td>8</td>\n",
       "      <td>6</td>\n",
       "      <td>0</td>\n",
       "      <td>199</td>\n",
       "    </tr>\n",
       "    <tr>\n",
       "      <th>4</th>\n",
       "      <td>1</td>\n",
       "      <td>Кира</td>\n",
       "      <td>22</td>\n",
       "      <td>Тюмень</td>\n",
       "      <td>ultra</td>\n",
       "      <td>4028.687306</td>\n",
       "      <td>26.265803</td>\n",
       "      <td>2021-08-28</td>\n",
       "      <td>8</td>\n",
       "      <td>6</td>\n",
       "      <td>0</td>\n",
       "      <td>199</td>\n",
       "    </tr>\n",
       "  </tbody>\n",
       "</table>\n",
       "</div>"
      ],
      "text/plain": [
       "   user_id  name  age    city subscription_type     distance   duration  \\\n",
       "0        1  Кира   22  Тюмень             ultra  4409.919140  25.599769   \n",
       "1        1  Кира   22  Тюмень             ultra  2617.592153  15.816871   \n",
       "2        1  Кира   22  Тюмень             ultra   754.159807   6.232113   \n",
       "3        1  Кира   22  Тюмень             ultra  2694.783254  18.511000   \n",
       "4        1  Кира   22  Тюмень             ultra  4028.687306  26.265803   \n",
       "\n",
       "        date  month  minute_price  start_ride_price  subscription_fee  \n",
       "0 2021-01-01      1             6                 0               199  \n",
       "1 2021-01-18      1             6                 0               199  \n",
       "2 2021-04-20      4             6                 0               199  \n",
       "3 2021-08-11      8             6                 0               199  \n",
       "4 2021-08-28      8             6                 0               199  "
      ]
     },
     "execution_count": 24,
     "metadata": {},
     "output_type": "execute_result"
    }
   ],
   "source": [
    "df_ultra = df_all.query('subscription_type == \"ultra\"')\n",
    "df_ultra.head()"
   ]
  },
  {
   "cell_type": "code",
   "execution_count": 25,
   "id": "2b80b46b",
   "metadata": {},
   "outputs": [
    {
     "data": {
      "image/png": "[encoded data removed]",
      "text/plain": [
       "<Figure size 1008x576 with 1 Axes>"
      ]
     },
     "metadata": {
      "needs_background": "light"
     },
     "output_type": "display_data"
    }
   ],
   "source": [
    "df_free['distance'].hist(bins = 150, figsize = (14,8));\n",
    "df_ultra['distance'].hist(bins = 150, figsize = (14,8));\n",
    "plt.title('Гистограмма распределения — расстояния поездок');\n",
    "plt.legend(['free_duration', 'ultra_duration']);\n",
    "plt.xlabel('Расстояние, м');\n",
    "plt.ylabel('Количество пользователей');"
   ]
  },
  {
   "cell_type": "markdown",
   "id": "2e6755e5",
   "metadata": {},
   "source": [
    "Из гистограммы видно, что большинство поездок совершается без подписки. Среднее расстояния пользователей с подпиской и без примерно равно, но отклонение у потльзователей с подпиской значительно меньше. "
   ]
  },
  {
   "cell_type": "code",
   "execution_count": 26,
   "id": "5626561b",
   "metadata": {},
   "outputs": [
    {
     "data": {
      "image/png": "[encoded data removed]",
      "text/plain": [
       "<Figure size 1008x576 with 1 Axes>"
      ]
     },
     "metadata": {
      "needs_background": "light"
     },
     "output_type": "display_data"
    }
   ],
   "source": [
    "df_free['duration'].hist(bins = 150, figsize = (14,8));\n",
    "df_ultra['duration'].hist(bins = 150, figsize = (14,8));\n",
    "plt.title('Гистограмма распределения — времени поездок');\n",
    "plt.legend(['free_duration', 'ultra_duration']);"
   ]
  },
  {
   "cell_type": "markdown",
   "id": "beb4c754",
   "metadata": {},
   "source": [
    "Распределния схожи по всем параметрам. Как и было выше сказанно поездок без подписки больше."
   ]
  },
  {
   "cell_type": "markdown",
   "id": "402d620f",
   "metadata": {},
   "source": [
    "#### Шаг 5. Подсчёт выручки"
   ]
  },
  {
   "cell_type": "code",
   "execution_count": 27,
   "id": "a346a055",
   "metadata": {},
   "outputs": [
    {
     "data": {
      "text/html": [
       "<div>\n",
       "<style scoped>\n",
       "    .dataframe tbody tr th:only-of-type {\n",
       "        vertical-align: middle;\n",
       "    }\n",
       "\n",
       "    .dataframe tbody tr th {\n",
       "        vertical-align: top;\n",
       "    }\n",
       "\n",
       "    .dataframe thead th {\n",
       "        text-align: right;\n",
       "    }\n",
       "</style>\n",
       "<table border=\"1\" class=\"dataframe\">\n",
       "  <thead>\n",
       "    <tr style=\"text-align: right;\">\n",
       "      <th></th>\n",
       "      <th>user_id</th>\n",
       "      <th>month</th>\n",
       "      <th>total_distance</th>\n",
       "      <th>total_duration</th>\n",
       "      <th>trip_count</th>\n",
       "      <th>subscription_type</th>\n",
       "    </tr>\n",
       "  </thead>\n",
       "  <tbody>\n",
       "    <tr>\n",
       "      <th>0</th>\n",
       "      <td>1</td>\n",
       "      <td>1</td>\n",
       "      <td>7027.5</td>\n",
       "      <td>41.4</td>\n",
       "      <td>2</td>\n",
       "      <td>ultra</td>\n",
       "    </tr>\n",
       "    <tr>\n",
       "      <th>1</th>\n",
       "      <td>1</td>\n",
       "      <td>4</td>\n",
       "      <td>754.2</td>\n",
       "      <td>6.2</td>\n",
       "      <td>1</td>\n",
       "      <td>ultra</td>\n",
       "    </tr>\n",
       "    <tr>\n",
       "      <th>2</th>\n",
       "      <td>1</td>\n",
       "      <td>8</td>\n",
       "      <td>6723.5</td>\n",
       "      <td>44.8</td>\n",
       "      <td>2</td>\n",
       "      <td>ultra</td>\n",
       "    </tr>\n",
       "    <tr>\n",
       "      <th>3</th>\n",
       "      <td>1</td>\n",
       "      <td>10</td>\n",
       "      <td>5809.9</td>\n",
       "      <td>31.6</td>\n",
       "      <td>2</td>\n",
       "      <td>ultra</td>\n",
       "    </tr>\n",
       "    <tr>\n",
       "      <th>4</th>\n",
       "      <td>1</td>\n",
       "      <td>11</td>\n",
       "      <td>7003.5</td>\n",
       "      <td>53.4</td>\n",
       "      <td>3</td>\n",
       "      <td>ultra</td>\n",
       "    </tr>\n",
       "    <tr>\n",
       "      <th>5</th>\n",
       "      <td>1</td>\n",
       "      <td>12</td>\n",
       "      <td>6751.6</td>\n",
       "      <td>27.2</td>\n",
       "      <td>2</td>\n",
       "      <td>ultra</td>\n",
       "    </tr>\n",
       "    <tr>\n",
       "      <th>6</th>\n",
       "      <td>2</td>\n",
       "      <td>3</td>\n",
       "      <td>10187.7</td>\n",
       "      <td>61.0</td>\n",
       "      <td>3</td>\n",
       "      <td>ultra</td>\n",
       "    </tr>\n",
       "    <tr>\n",
       "      <th>7</th>\n",
       "      <td>2</td>\n",
       "      <td>4</td>\n",
       "      <td>6164.4</td>\n",
       "      <td>39.0</td>\n",
       "      <td>2</td>\n",
       "      <td>ultra</td>\n",
       "    </tr>\n",
       "    <tr>\n",
       "      <th>8</th>\n",
       "      <td>2</td>\n",
       "      <td>6</td>\n",
       "      <td>3255.3</td>\n",
       "      <td>13.9</td>\n",
       "      <td>1</td>\n",
       "      <td>ultra</td>\n",
       "    </tr>\n",
       "    <tr>\n",
       "      <th>9</th>\n",
       "      <td>2</td>\n",
       "      <td>7</td>\n",
       "      <td>6780.7</td>\n",
       "      <td>46.2</td>\n",
       "      <td>2</td>\n",
       "      <td>ultra</td>\n",
       "    </tr>\n",
       "  </tbody>\n",
       "</table>\n",
       "</div>"
      ],
      "text/plain": [
       "   user_id  month  total_distance  total_duration  trip_count  \\\n",
       "0        1      1          7027.5            41.4           2   \n",
       "1        1      4           754.2             6.2           1   \n",
       "2        1      8          6723.5            44.8           2   \n",
       "3        1     10          5809.9            31.6           2   \n",
       "4        1     11          7003.5            53.4           3   \n",
       "5        1     12          6751.6            27.2           2   \n",
       "6        2      3         10187.7            61.0           3   \n",
       "7        2      4          6164.4            39.0           2   \n",
       "8        2      6          3255.3            13.9           1   \n",
       "9        2      7          6780.7            46.2           2   \n",
       "\n",
       "  subscription_type  \n",
       "0             ultra  \n",
       "1             ultra  \n",
       "2             ultra  \n",
       "3             ultra  \n",
       "4             ultra  \n",
       "5             ultra  \n",
       "6             ultra  \n",
       "7             ultra  \n",
       "8             ultra  \n",
       "9             ultra  "
      ]
     },
     "execution_count": 27,
     "metadata": {},
     "output_type": "execute_result"
    }
   ],
   "source": [
    "df_aggregated = df_all.pivot_table(index=['user_id','month'], \n",
    "                            values=['distance', 'duration', 'name', 'subscription_type'], \n",
    "                            aggfunc={'distance':'sum', 'duration':'sum', 'name':'count', 'subscription_type': 'min'})\n",
    "df_aggregated.columns = ['total_distance', 'total_duration', 'trip_count', 'subscription_type']\n",
    "df_aggregated = df_aggregated.round(1).reset_index()\n",
    "df_aggregated.head(10)"
   ]
  },
  {
   "cell_type": "code",
   "execution_count": 28,
   "id": "41555b15",
   "metadata": {},
   "outputs": [],
   "source": [
    "def income_func (row):\n",
    "    if row['user_id'] in df_ultra['user_id'].values:\n",
    "        return (6 * np.ceil(row['total_duration']) + 199)\n",
    "    elif row['user_id'] in df_free['user_id'].values:\n",
    "        return (8 * np.ceil(row['total_duration']) + 50 * row['trip_count'])"
   ]
  },
  {
   "cell_type": "code",
   "execution_count": 29,
   "id": "3c530a20",
   "metadata": {},
   "outputs": [
    {
     "data": {
      "text/html": [
       "<div>\n",
       "<style scoped>\n",
       "    .dataframe tbody tr th:only-of-type {\n",
       "        vertical-align: middle;\n",
       "    }\n",
       "\n",
       "    .dataframe tbody tr th {\n",
       "        vertical-align: top;\n",
       "    }\n",
       "\n",
       "    .dataframe thead th {\n",
       "        text-align: right;\n",
       "    }\n",
       "</style>\n",
       "<table border=\"1\" class=\"dataframe\">\n",
       "  <thead>\n",
       "    <tr style=\"text-align: right;\">\n",
       "      <th></th>\n",
       "      <th>user_id</th>\n",
       "      <th>month</th>\n",
       "      <th>total_distance</th>\n",
       "      <th>total_duration</th>\n",
       "      <th>trip_count</th>\n",
       "      <th>subscription_type</th>\n",
       "      <th>income_month</th>\n",
       "    </tr>\n",
       "  </thead>\n",
       "  <tbody>\n",
       "    <tr>\n",
       "      <th>0</th>\n",
       "      <td>1</td>\n",
       "      <td>1</td>\n",
       "      <td>7027.5</td>\n",
       "      <td>41.4</td>\n",
       "      <td>2</td>\n",
       "      <td>ultra</td>\n",
       "      <td>451.0</td>\n",
       "    </tr>\n",
       "    <tr>\n",
       "      <th>1</th>\n",
       "      <td>1</td>\n",
       "      <td>4</td>\n",
       "      <td>754.2</td>\n",
       "      <td>6.2</td>\n",
       "      <td>1</td>\n",
       "      <td>ultra</td>\n",
       "      <td>241.0</td>\n",
       "    </tr>\n",
       "    <tr>\n",
       "      <th>2</th>\n",
       "      <td>1</td>\n",
       "      <td>8</td>\n",
       "      <td>6723.5</td>\n",
       "      <td>44.8</td>\n",
       "      <td>2</td>\n",
       "      <td>ultra</td>\n",
       "      <td>469.0</td>\n",
       "    </tr>\n",
       "    <tr>\n",
       "      <th>3</th>\n",
       "      <td>1</td>\n",
       "      <td>10</td>\n",
       "      <td>5809.9</td>\n",
       "      <td>31.6</td>\n",
       "      <td>2</td>\n",
       "      <td>ultra</td>\n",
       "      <td>391.0</td>\n",
       "    </tr>\n",
       "    <tr>\n",
       "      <th>4</th>\n",
       "      <td>1</td>\n",
       "      <td>11</td>\n",
       "      <td>7003.5</td>\n",
       "      <td>53.4</td>\n",
       "      <td>3</td>\n",
       "      <td>ultra</td>\n",
       "      <td>523.0</td>\n",
       "    </tr>\n",
       "    <tr>\n",
       "      <th>5</th>\n",
       "      <td>1</td>\n",
       "      <td>12</td>\n",
       "      <td>6751.6</td>\n",
       "      <td>27.2</td>\n",
       "      <td>2</td>\n",
       "      <td>ultra</td>\n",
       "      <td>367.0</td>\n",
       "    </tr>\n",
       "    <tr>\n",
       "      <th>6</th>\n",
       "      <td>2</td>\n",
       "      <td>3</td>\n",
       "      <td>10187.7</td>\n",
       "      <td>61.0</td>\n",
       "      <td>3</td>\n",
       "      <td>ultra</td>\n",
       "      <td>565.0</td>\n",
       "    </tr>\n",
       "    <tr>\n",
       "      <th>7</th>\n",
       "      <td>2</td>\n",
       "      <td>4</td>\n",
       "      <td>6164.4</td>\n",
       "      <td>39.0</td>\n",
       "      <td>2</td>\n",
       "      <td>ultra</td>\n",
       "      <td>433.0</td>\n",
       "    </tr>\n",
       "    <tr>\n",
       "      <th>8</th>\n",
       "      <td>2</td>\n",
       "      <td>6</td>\n",
       "      <td>3255.3</td>\n",
       "      <td>13.9</td>\n",
       "      <td>1</td>\n",
       "      <td>ultra</td>\n",
       "      <td>283.0</td>\n",
       "    </tr>\n",
       "    <tr>\n",
       "      <th>9</th>\n",
       "      <td>2</td>\n",
       "      <td>7</td>\n",
       "      <td>6780.7</td>\n",
       "      <td>46.2</td>\n",
       "      <td>2</td>\n",
       "      <td>ultra</td>\n",
       "      <td>481.0</td>\n",
       "    </tr>\n",
       "  </tbody>\n",
       "</table>\n",
       "</div>"
      ],
      "text/plain": [
       "   user_id  month  total_distance  total_duration  trip_count  \\\n",
       "0        1      1          7027.5            41.4           2   \n",
       "1        1      4           754.2             6.2           1   \n",
       "2        1      8          6723.5            44.8           2   \n",
       "3        1     10          5809.9            31.6           2   \n",
       "4        1     11          7003.5            53.4           3   \n",
       "5        1     12          6751.6            27.2           2   \n",
       "6        2      3         10187.7            61.0           3   \n",
       "7        2      4          6164.4            39.0           2   \n",
       "8        2      6          3255.3            13.9           1   \n",
       "9        2      7          6780.7            46.2           2   \n",
       "\n",
       "  subscription_type  income_month  \n",
       "0             ultra         451.0  \n",
       "1             ultra         241.0  \n",
       "2             ultra         469.0  \n",
       "3             ultra         391.0  \n",
       "4             ultra         523.0  \n",
       "5             ultra         367.0  \n",
       "6             ultra         565.0  \n",
       "7             ultra         433.0  \n",
       "8             ultra         283.0  \n",
       "9             ultra         481.0  "
      ]
     },
     "execution_count": 29,
     "metadata": {},
     "output_type": "execute_result"
    }
   ],
   "source": [
    "df_aggregated['income_month'] = df_aggregated.apply(income_func, axis=1)\n",
    "df_aggregated.head(10)"
   ]
  },
  {
   "cell_type": "markdown",
   "id": "41545ac0",
   "metadata": {},
   "source": [
    "#### Шаг 6. Проверка гипотез"
   ]
  },
  {
   "cell_type": "markdown",
   "id": "f7574ca4",
   "metadata": {},
   "source": [
    "##### Важно понять, тратят ли пользователи с подпиской больше времени на поездки? Если да, то пользователи с подпиской могут быть «выгоднее» для компании. Проверьте гипотезу. Используйте исходные данные о продолжительности каждой сессии — отдельно для подписчиков и тех, у кого нет подписки."
   ]
  },
  {
   "cell_type": "markdown",
   "id": "87da0b75",
   "metadata": {},
   "source": [
    "Н0: пользователи с подпиской тратят столько же времени на поездки, сколько и пользователи без подписки, время равно\n",
    "\n",
    "Н1: пользователи с подпиской тратят больше времени на поездки."
   ]
  },
  {
   "cell_type": "code",
   "execution_count": 30,
   "id": "ddf29508",
   "metadata": {},
   "outputs": [
    {
     "name": "stdout",
     "output_type": "stream",
     "text": [
      "p-value: 1.2804098316645618e-34\n",
      "Отвергаем нулевую гипотезу.\n"
     ]
    }
   ],
   "source": [
    "time_ultra = df_ultra['duration']\n",
    "time_free = df_free['duration']\n",
    "\n",
    "alpha = 0.05\n",
    "\n",
    "results = st.ttest_ind(time_ultra, time_free, alternative='greater')\n",
    "print(f'p-value: {results.pvalue}')\n",
    "\n",
    "if results.pvalue < alpha:\n",
    "    print('Отвергаем нулевую гипотезу.')\n",
    "else:\n",
    "    print('Не получилось отвергнуть нулевую гипотезу.')"
   ]
  },
  {
   "cell_type": "markdown",
   "id": "1cfffac5",
   "metadata": {},
   "source": [
    "##### Расстояние одной поездки в 3130 метров — оптимальное с точки зрения износа самоката. Можно ли сказать, что расстояние, которое проезжают пользователи с подпиской за одну поездку, не превышает 3130 метров? Проверьте гипотезу и сделайте выводы."
   ]
  },
  {
   "cell_type": "markdown",
   "id": "1207d368",
   "metadata": {},
   "source": [
    "Н0: пользователи с подпиской за одну сессию проезжают 3130 метров.\n",
    "\n",
    "Н1: пользователи с подпиской за одну сессию проезжают расстояние больше 3130 метров."
   ]
  },
  {
   "cell_type": "code",
   "execution_count": 31,
   "id": "e5b2a5bb",
   "metadata": {},
   "outputs": [
    {
     "name": "stdout",
     "output_type": "stream",
     "text": [
      "p-value:, 0.9195368847849785\n",
      "Не получилось отвергнуть нулевую гипотезу.\n"
     ]
    }
   ],
   "source": [
    "distance_ultra = df_ultra['distance']\n",
    "interested_value = 3130\n",
    "\n",
    "alpha = 0.05  \n",
    "\n",
    "results = st.ttest_1samp(distance_ultra, interested_value, alternative='greater')\n",
    "print(f'p-value:, {results.pvalue}')\n",
    "\n",
    "if results.pvalue < alpha:\n",
    "    print('Отвергаем нулевую гипотезу.')\n",
    "else:\n",
    "    print(\"Не получилось отвергнуть нулевую гипотезу.\")"
   ]
  },
  {
   "cell_type": "markdown",
   "id": "124e0255",
   "metadata": {},
   "source": [
    "##### Проверьте гипотезу о том, будет ли помесячная выручка от пользователей с подпиской по месяцам выше, чем выручка от пользователей без подписки. Сделайте вывод."
   ]
  },
  {
   "cell_type": "markdown",
   "id": "1e4c5269",
   "metadata": {},
   "source": [
    "Н0: помесячная выручка пользователей с подпиской не отличается от пользователй без подписки\n",
    "\n",
    "Н1: помесячная выручка пользователей с подпиской выше чем без неё "
   ]
  },
  {
   "cell_type": "code",
   "execution_count": 32,
   "id": "f76d55fd",
   "metadata": {},
   "outputs": [
    {
     "name": "stdout",
     "output_type": "stream",
     "text": [
      "p-value: 1.8550604780127757e-35\n",
      "Отвергаем нулевую гипотезу\n"
     ]
    }
   ],
   "source": [
    "income_month_ultra = df_aggregated[df_aggregated['subscription_type'] == 'ultra']['income_month']\n",
    "income_month_free = df_aggregated[df_aggregated['subscription_type'] == 'free']['income_month']\n",
    "\n",
    "alpha = 0.05\n",
    "\n",
    "results = st.ttest_ind(income_month_ultra, income_month_free, alternative='greater')\n",
    "print(f'p-value: {results.pvalue}')\n",
    "\n",
    "if results.pvalue < alpha:\n",
    "    print(\"Отвергаем нулевую гипотезу\")\n",
    "else:\n",
    "    print(\"Нет оснований отвергнуть нулевую гипотезу\")"
   ]
  },
  {
   "cell_type": "markdown",
   "id": "a22e3e2e",
   "metadata": {},
   "source": [
    "##### Представьте такую ситуацию: техническая команда сервиса обновила сервера, с которыми взаимодействует мобильное приложение. Она надеется, что из-за этого количество обращений в техподдержку значимо снизилось. Некоторый файл содержит для каждого пользователя данные о количестве обращений до обновления и после него. Какой тест вам понадобился бы для проверки этой гипотезы?"
   ]
  },
  {
   "cell_type": "markdown",
   "id": "fcee327a",
   "metadata": {},
   "source": [
    "Чтобы проверить гипотезу о том, что количество обращений в службу технической поддержки значительно уменьшилось после обновления сервера, нужно использовать метод scipy.stats.ttest_rel(before, after). Этот тест подходит, если у нас есть данные для одной и той же группы пользователей до и после определенного события или вмешательства.\n",
    "\n",
    "H0: после обновления серверов для мобильного приложения количество обращений осталось прежним\n",
    "\n",
    "H1: после обновления серверов для мобильного приложения количество обращений изменилось"
   ]
  },
  {
   "cell_type": "markdown",
   "id": "05137047",
   "metadata": {},
   "source": [
    "#### Вывод"
   ]
  },
  {
   "cell_type": "markdown",
   "id": "6e660731",
   "metadata": {},
   "source": [
    "1) В ходе исследовательского анализ:\n",
    "\n",
    "- больше всего пользователей в Пятигорске чуть более 200 человек\n",
    "- 54% пользователей пользуются сервисом без подписки\n",
    "- сервис больше всего пользуется спросом для людей в возрасте от 20 до 30 лет\n",
    "- в среднем на поездку уходит примерно 18мин. Здесь также есть нулевые значения, что говорит об мгновенном завершени поездки\n",
    "\n",
    "2) При проверке гипотез были приняты решения:\n",
    "\n",
    "- тратят ли пользователи с подпиской больше времени на поездки, отвергаем данную гипотезу\n",
    "- расстояние одной поездки в 3130 метров — оптимальное с точки зрения износа самоката. Можно ли сказать, что расстояние, которое проезжают пользователи с подпиской за одну поездку, не превышает 3130 метров, не отвергаем нулевую гипотезу\n",
    "- проверьте гипотезу о том, будет ли помесячная выручка от пользователей с подпиской по месяцам выше, чем выручка от пользователей без подписки, отвергаем данную гипотезу\n"
   ]
  }
 ],
 "metadata": {
  "ExecuteTimeLog": [
   {
    "duration": 52,
    "start_time": "2023-06-12T15:35:07.171Z"
   },
   {
    "duration": 7,
    "start_time": "2023-06-12T15:35:17.232Z"
   },
   {
    "duration": 414,
    "start_time": "2023-06-12T15:35:21.713Z"
   },
   {
    "duration": 99,
    "start_time": "2023-06-12T15:35:23.393Z"
   },
   {
    "duration": 39,
    "start_time": "2023-06-12T15:35:43.767Z"
   },
   {
    "duration": 20,
    "start_time": "2023-06-12T15:36:15.239Z"
   },
   {
    "duration": 15,
    "start_time": "2023-06-12T15:36:19.987Z"
   },
   {
    "duration": 27,
    "start_time": "2023-06-12T15:36:21.144Z"
   },
   {
    "duration": 11,
    "start_time": "2023-06-12T15:36:23.433Z"
   },
   {
    "duration": 105,
    "start_time": "2023-06-12T15:40:34.347Z"
   },
   {
    "duration": 120,
    "start_time": "2023-06-12T15:40:51.118Z"
   },
   {
    "duration": 14,
    "start_time": "2023-06-12T15:42:20.301Z"
   },
   {
    "duration": 105,
    "start_time": "2023-06-12T15:44:31.134Z"
   },
   {
    "duration": 10,
    "start_time": "2023-06-12T15:45:28.630Z"
   },
   {
    "duration": 21,
    "start_time": "2023-06-12T15:48:38.668Z"
   },
   {
    "duration": 73,
    "start_time": "2023-06-12T15:48:47.721Z"
   },
   {
    "duration": 20,
    "start_time": "2023-06-12T15:48:55.728Z"
   },
   {
    "duration": 21,
    "start_time": "2023-06-12T15:49:02.869Z"
   },
   {
    "duration": 13,
    "start_time": "2023-06-12T15:54:26.020Z"
   },
   {
    "duration": 2058,
    "start_time": "2023-06-12T15:55:50.268Z"
   },
   {
    "duration": 18,
    "start_time": "2023-06-12T15:56:10.719Z"
   },
   {
    "duration": 36,
    "start_time": "2023-06-12T15:56:24.463Z"
   },
   {
    "duration": 23,
    "start_time": "2023-06-12T15:56:33.459Z"
   },
   {
    "duration": 9,
    "start_time": "2023-06-12T16:01:06.875Z"
   },
   {
    "duration": 5,
    "start_time": "2023-06-12T16:01:34.634Z"
   },
   {
    "duration": 7,
    "start_time": "2023-06-12T16:02:04.375Z"
   },
   {
    "duration": 10,
    "start_time": "2023-06-12T16:02:35.587Z"
   },
   {
    "duration": 8,
    "start_time": "2023-06-12T16:04:01.444Z"
   },
   {
    "duration": 9,
    "start_time": "2023-06-12T16:06:23.512Z"
   },
   {
    "duration": 22,
    "start_time": "2023-06-12T16:06:31.536Z"
   },
   {
    "duration": 6,
    "start_time": "2023-06-12T16:07:04.164Z"
   },
   {
    "duration": 8,
    "start_time": "2023-06-12T16:07:14.082Z"
   },
   {
    "duration": 9,
    "start_time": "2023-06-12T16:07:43.304Z"
   },
   {
    "duration": 390,
    "start_time": "2023-06-12T16:08:09.990Z"
   },
   {
    "duration": 43,
    "start_time": "2023-06-12T16:08:10.382Z"
   },
   {
    "duration": 13,
    "start_time": "2023-06-12T16:08:10.427Z"
   },
   {
    "duration": 62,
    "start_time": "2023-06-12T16:08:10.442Z"
   },
   {
    "duration": 13,
    "start_time": "2023-06-12T16:08:10.506Z"
   },
   {
    "duration": 33,
    "start_time": "2023-06-12T16:08:10.521Z"
   },
   {
    "duration": 14,
    "start_time": "2023-06-12T16:08:10.555Z"
   },
   {
    "duration": 19,
    "start_time": "2023-06-12T16:08:10.571Z"
   },
   {
    "duration": 31,
    "start_time": "2023-06-12T16:08:10.592Z"
   },
   {
    "duration": 12,
    "start_time": "2023-06-12T16:08:10.624Z"
   },
   {
    "duration": 29,
    "start_time": "2023-06-12T16:08:10.638Z"
   },
   {
    "duration": 29,
    "start_time": "2023-06-12T16:08:10.669Z"
   },
   {
    "duration": 15,
    "start_time": "2023-06-12T16:08:28.816Z"
   },
   {
    "duration": 8,
    "start_time": "2023-06-12T16:08:44.090Z"
   },
   {
    "duration": 625,
    "start_time": "2023-06-12T16:17:45.103Z"
   },
   {
    "duration": 167,
    "start_time": "2023-06-12T16:18:48.217Z"
   },
   {
    "duration": 148,
    "start_time": "2023-06-12T16:19:30.672Z"
   },
   {
    "duration": 192,
    "start_time": "2023-06-12T16:23:54.006Z"
   },
   {
    "duration": 11,
    "start_time": "2023-06-12T16:24:37.155Z"
   },
   {
    "duration": 179,
    "start_time": "2023-06-12T16:25:20.995Z"
   },
   {
    "duration": 91,
    "start_time": "2023-06-12T16:25:43.783Z"
   },
   {
    "duration": 9,
    "start_time": "2023-06-12T16:26:01.063Z"
   },
   {
    "duration": 203,
    "start_time": "2023-06-12T16:26:41.807Z"
   },
   {
    "duration": 135,
    "start_time": "2023-06-12T16:26:48.679Z"
   },
   {
    "duration": 104,
    "start_time": "2023-06-12T16:30:07.589Z"
   },
   {
    "duration": 83,
    "start_time": "2023-06-12T16:30:13.626Z"
   },
   {
    "duration": 14,
    "start_time": "2023-06-12T16:31:33.424Z"
   },
   {
    "duration": 101,
    "start_time": "2023-06-12T16:32:37.969Z"
   },
   {
    "duration": 271,
    "start_time": "2023-06-12T16:35:25.217Z"
   },
   {
    "duration": 223,
    "start_time": "2023-06-12T16:35:52.263Z"
   },
   {
    "duration": 159,
    "start_time": "2023-06-12T16:35:58.414Z"
   },
   {
    "duration": 264,
    "start_time": "2023-06-12T16:37:15.135Z"
   },
   {
    "duration": 159,
    "start_time": "2023-06-12T16:37:31.161Z"
   },
   {
    "duration": 240,
    "start_time": "2023-06-12T16:37:40.327Z"
   },
   {
    "duration": 203,
    "start_time": "2023-06-12T16:39:34.455Z"
   },
   {
    "duration": 178,
    "start_time": "2023-06-12T16:48:49.735Z"
   },
   {
    "duration": 7,
    "start_time": "2023-06-12T16:49:28.128Z"
   },
   {
    "duration": 5,
    "start_time": "2023-06-12T16:49:39.290Z"
   },
   {
    "duration": 182,
    "start_time": "2023-06-12T16:51:32.729Z"
   },
   {
    "duration": 173,
    "start_time": "2023-06-12T16:51:46.938Z"
   },
   {
    "duration": 1567,
    "start_time": "2023-06-12T16:52:24.740Z"
   },
   {
    "duration": 184,
    "start_time": "2023-06-12T16:52:36.394Z"
   },
   {
    "duration": 182,
    "start_time": "2023-06-12T16:53:24.610Z"
   },
   {
    "duration": 826,
    "start_time": "2023-06-12T16:53:38.468Z"
   },
   {
    "duration": 40,
    "start_time": "2023-06-12T16:53:39.297Z"
   },
   {
    "duration": 17,
    "start_time": "2023-06-12T16:53:39.340Z"
   },
   {
    "duration": 54,
    "start_time": "2023-06-12T16:53:39.362Z"
   },
   {
    "duration": 14,
    "start_time": "2023-06-12T16:53:39.419Z"
   },
   {
    "duration": 75,
    "start_time": "2023-06-12T16:53:39.435Z"
   },
   {
    "duration": 17,
    "start_time": "2023-06-12T16:53:39.512Z"
   },
   {
    "duration": 56,
    "start_time": "2023-06-12T16:53:39.531Z"
   },
   {
    "duration": 25,
    "start_time": "2023-06-12T16:53:39.589Z"
   },
   {
    "duration": 18,
    "start_time": "2023-06-12T16:53:39.616Z"
   },
   {
    "duration": 32,
    "start_time": "2023-06-12T16:53:39.636Z"
   },
   {
    "duration": 34,
    "start_time": "2023-06-12T16:53:39.670Z"
   },
   {
    "duration": 185,
    "start_time": "2023-06-12T16:53:39.706Z"
   },
   {
    "duration": 108,
    "start_time": "2023-06-12T16:53:39.894Z"
   },
   {
    "duration": 196,
    "start_time": "2023-06-12T16:53:40.004Z"
   },
   {
    "duration": 227,
    "start_time": "2023-06-12T16:53:40.203Z"
   },
   {
    "duration": 6,
    "start_time": "2023-06-12T16:53:40.432Z"
   },
   {
    "duration": 402,
    "start_time": "2023-06-12T16:53:53.139Z"
   },
   {
    "duration": 268,
    "start_time": "2023-06-12T16:54:08.604Z"
   },
   {
    "duration": 253,
    "start_time": "2023-06-12T16:54:17.441Z"
   },
   {
    "duration": 208,
    "start_time": "2023-06-12T16:54:57.498Z"
   },
   {
    "duration": 379,
    "start_time": "2023-06-12T16:56:05.534Z"
   },
   {
    "duration": 540,
    "start_time": "2023-06-12T16:56:18.999Z"
   },
   {
    "duration": 369,
    "start_time": "2023-06-12T16:56:28.341Z"
   },
   {
    "duration": 581,
    "start_time": "2023-06-12T16:58:47.798Z"
   },
   {
    "duration": 488,
    "start_time": "2023-06-12T16:59:22.496Z"
   },
   {
    "duration": 165,
    "start_time": "2023-06-12T16:59:41.600Z"
   },
   {
    "duration": 675,
    "start_time": "2023-06-12T16:59:47.874Z"
   },
   {
    "duration": 439,
    "start_time": "2023-06-12T16:59:51.990Z"
   },
   {
    "duration": 7,
    "start_time": "2023-06-12T17:01:02.387Z"
   },
   {
    "duration": 84,
    "start_time": "2023-06-16T06:26:45.731Z"
   },
   {
    "duration": 3733,
    "start_time": "2023-06-16T06:27:02.290Z"
   },
   {
    "duration": 118,
    "start_time": "2023-06-16T06:27:06.026Z"
   },
   {
    "duration": 32,
    "start_time": "2023-06-16T06:27:06.147Z"
   },
   {
    "duration": 158,
    "start_time": "2023-06-16T06:27:06.182Z"
   },
   {
    "duration": 20,
    "start_time": "2023-06-16T06:27:06.342Z"
   },
   {
    "duration": 124,
    "start_time": "2023-06-16T06:27:06.365Z"
   },
   {
    "duration": 13,
    "start_time": "2023-06-16T06:27:06.494Z"
   },
   {
    "duration": 37,
    "start_time": "2023-06-16T06:27:06.509Z"
   },
   {
    "duration": 6,
    "start_time": "2023-06-16T06:27:06.548Z"
   },
   {
    "duration": 52,
    "start_time": "2023-06-16T06:27:06.572Z"
   },
   {
    "duration": 16,
    "start_time": "2023-06-16T06:27:06.627Z"
   },
   {
    "duration": 10,
    "start_time": "2023-06-16T06:27:06.645Z"
   },
   {
    "duration": 54,
    "start_time": "2023-06-16T06:27:06.659Z"
   },
   {
    "duration": 212,
    "start_time": "2023-06-16T06:27:06.720Z"
   },
   {
    "duration": 97,
    "start_time": "2023-06-16T06:27:06.934Z"
   },
   {
    "duration": 189,
    "start_time": "2023-06-16T06:27:07.033Z"
   },
   {
    "duration": 491,
    "start_time": "2023-06-16T06:27:07.224Z"
   },
   {
    "duration": 6,
    "start_time": "2023-06-16T06:27:07.717Z"
   },
   {
    "duration": 414,
    "start_time": "2023-06-16T06:27:07.724Z"
   },
   {
    "duration": 25,
    "start_time": "2023-06-16T06:27:08.140Z"
   },
   {
    "duration": 3,
    "start_time": "2023-06-16T06:27:17.005Z"
   },
   {
    "duration": 4,
    "start_time": "2023-06-16T06:27:21.631Z"
   },
   {
    "duration": 5,
    "start_time": "2023-06-16T06:27:26.341Z"
   },
   {
    "duration": 34,
    "start_time": "2023-06-16T08:56:29.792Z"
   },
   {
    "duration": 35,
    "start_time": "2023-06-16T08:57:35.575Z"
   },
   {
    "duration": 38,
    "start_time": "2023-06-16T08:57:48.145Z"
   },
   {
    "duration": 28,
    "start_time": "2023-06-16T08:57:57.300Z"
   },
   {
    "duration": 29,
    "start_time": "2023-06-16T08:58:00.896Z"
   },
   {
    "duration": 37,
    "start_time": "2023-06-16T08:58:10.490Z"
   },
   {
    "duration": 36,
    "start_time": "2023-06-16T08:58:28.078Z"
   },
   {
    "duration": 37,
    "start_time": "2023-06-16T08:58:31.202Z"
   },
   {
    "duration": 133,
    "start_time": "2023-06-16T08:59:03.675Z"
   },
   {
    "duration": 41,
    "start_time": "2023-06-16T08:59:09.806Z"
   },
   {
    "duration": 1059,
    "start_time": "2023-06-16T08:59:39.880Z"
   },
   {
    "duration": 145,
    "start_time": "2023-06-16T08:59:40.942Z"
   },
   {
    "duration": 22,
    "start_time": "2023-06-16T08:59:41.090Z"
   },
   {
    "duration": 123,
    "start_time": "2023-06-16T08:59:41.114Z"
   },
   {
    "duration": 32,
    "start_time": "2023-06-16T08:59:41.241Z"
   },
   {
    "duration": 235,
    "start_time": "2023-06-16T08:59:41.287Z"
   },
   {
    "duration": 25,
    "start_time": "2023-06-16T08:59:41.525Z"
   },
   {
    "duration": 31,
    "start_time": "2023-06-16T08:59:41.558Z"
   },
   {
    "duration": 38,
    "start_time": "2023-06-16T08:59:41.601Z"
   },
   {
    "duration": 86,
    "start_time": "2023-06-16T08:59:41.643Z"
   },
   {
    "duration": 85,
    "start_time": "2023-06-16T08:59:41.732Z"
   },
   {
    "duration": 44,
    "start_time": "2023-06-16T08:59:41.819Z"
   },
   {
    "duration": 421,
    "start_time": "2023-06-16T08:59:41.866Z"
   },
   {
    "duration": 146,
    "start_time": "2023-06-16T08:59:42.290Z"
   },
   {
    "duration": 242,
    "start_time": "2023-06-16T08:59:42.440Z"
   },
   {
    "duration": 609,
    "start_time": "2023-06-16T08:59:42.684Z"
   },
   {
    "duration": 9,
    "start_time": "2023-06-16T08:59:43.296Z"
   },
   {
    "duration": 561,
    "start_time": "2023-06-16T08:59:43.307Z"
   },
   {
    "duration": 9,
    "start_time": "2023-06-16T08:59:43.871Z"
   },
   {
    "duration": 55,
    "start_time": "2023-06-16T08:59:43.882Z"
   },
   {
    "duration": 47,
    "start_time": "2023-06-16T08:59:52.488Z"
   },
   {
    "duration": 33,
    "start_time": "2023-06-16T09:00:42.369Z"
   },
   {
    "duration": 38,
    "start_time": "2023-06-16T09:00:48.674Z"
   },
   {
    "duration": 27,
    "start_time": "2023-06-16T09:00:58.822Z"
   },
   {
    "duration": 31,
    "start_time": "2023-06-16T09:02:53.404Z"
   },
   {
    "duration": 128,
    "start_time": "2023-06-16T09:05:34.053Z"
   },
   {
    "duration": 41,
    "start_time": "2023-06-16T09:05:41.883Z"
   },
   {
    "duration": 14,
    "start_time": "2023-06-16T09:06:05.281Z"
   },
   {
    "duration": 11,
    "start_time": "2023-06-16T09:06:07.010Z"
   },
   {
    "duration": 25,
    "start_time": "2023-06-16T09:06:16.935Z"
   },
   {
    "duration": 26,
    "start_time": "2023-06-16T09:06:29.132Z"
   },
   {
    "duration": 35,
    "start_time": "2023-06-16T09:06:34.519Z"
   },
   {
    "duration": 23,
    "start_time": "2023-06-16T09:07:03.642Z"
   },
   {
    "duration": 26,
    "start_time": "2023-06-16T09:07:13.446Z"
   },
   {
    "duration": 35,
    "start_time": "2023-06-16T09:07:17.676Z"
   },
   {
    "duration": 25,
    "start_time": "2023-06-16T09:07:27.088Z"
   },
   {
    "duration": 435,
    "start_time": "2023-06-16T09:45:15.530Z"
   },
   {
    "duration": 247,
    "start_time": "2023-06-16T09:45:20.414Z"
   },
   {
    "duration": 114,
    "start_time": "2023-06-16T09:45:59.267Z"
   },
   {
    "duration": 84,
    "start_time": "2023-06-16T09:46:03.609Z"
   },
   {
    "duration": 64,
    "start_time": "2023-06-16T09:46:10.679Z"
   },
   {
    "duration": 45,
    "start_time": "2023-06-16T09:46:43.231Z"
   },
   {
    "duration": 109,
    "start_time": "2023-06-16T09:46:50.100Z"
   },
   {
    "duration": 57,
    "start_time": "2023-06-16T09:46:57.358Z"
   },
   {
    "duration": 532,
    "start_time": "2023-06-16T09:48:49.783Z"
   },
   {
    "duration": 1392,
    "start_time": "2023-06-16T09:49:05.899Z"
   },
   {
    "duration": 987,
    "start_time": "2023-06-16T09:49:54.097Z"
   },
   {
    "duration": 1207,
    "start_time": "2023-06-16T09:52:08.938Z"
   },
   {
    "duration": 1314,
    "start_time": "2023-06-16T09:52:14.422Z"
   },
   {
    "duration": 1206,
    "start_time": "2023-06-16T09:52:30.527Z"
   },
   {
    "duration": 1056,
    "start_time": "2023-06-16T09:56:57.635Z"
   },
   {
    "duration": 1059,
    "start_time": "2023-06-16T09:57:02.171Z"
   },
   {
    "duration": 983,
    "start_time": "2023-06-16T09:57:21.008Z"
   },
   {
    "duration": 1113,
    "start_time": "2023-06-16T09:57:29.020Z"
   },
   {
    "duration": 911,
    "start_time": "2023-06-16T09:57:34.667Z"
   },
   {
    "duration": 1007,
    "start_time": "2023-06-16T09:57:58.802Z"
   },
   {
    "duration": 1056,
    "start_time": "2023-06-16T10:02:00.478Z"
   },
   {
    "duration": 1402,
    "start_time": "2023-06-16T10:03:27.211Z"
   },
   {
    "duration": 169,
    "start_time": "2023-06-16T10:03:28.618Z"
   },
   {
    "duration": 26,
    "start_time": "2023-06-16T10:03:28.800Z"
   },
   {
    "duration": 182,
    "start_time": "2023-06-16T10:03:28.830Z"
   },
   {
    "duration": 25,
    "start_time": "2023-06-16T10:03:29.021Z"
   },
   {
    "duration": 107,
    "start_time": "2023-06-16T10:03:29.048Z"
   },
   {
    "duration": 18,
    "start_time": "2023-06-16T10:03:29.157Z"
   },
   {
    "duration": 129,
    "start_time": "2023-06-16T10:03:29.178Z"
   },
   {
    "duration": 86,
    "start_time": "2023-06-16T10:03:29.317Z"
   },
   {
    "duration": 38,
    "start_time": "2023-06-16T10:03:29.405Z"
   },
   {
    "duration": 71,
    "start_time": "2023-06-16T10:03:29.445Z"
   },
   {
    "duration": 24,
    "start_time": "2023-06-16T10:03:29.519Z"
   },
   {
    "duration": 359,
    "start_time": "2023-06-16T10:03:29.546Z"
   },
   {
    "duration": 184,
    "start_time": "2023-06-16T10:03:29.917Z"
   },
   {
    "duration": 239,
    "start_time": "2023-06-16T10:03:30.110Z"
   },
   {
    "duration": 646,
    "start_time": "2023-06-16T10:03:30.351Z"
   },
   {
    "duration": 19,
    "start_time": "2023-06-16T10:03:31.000Z"
   },
   {
    "duration": 557,
    "start_time": "2023-06-16T10:03:31.022Z"
   },
   {
    "duration": 19,
    "start_time": "2023-06-16T10:03:31.587Z"
   },
   {
    "duration": 103,
    "start_time": "2023-06-16T10:03:31.613Z"
   },
   {
    "duration": 51,
    "start_time": "2023-06-16T10:03:31.719Z"
   },
   {
    "duration": 70,
    "start_time": "2023-06-16T10:03:31.772Z"
   },
   {
    "duration": 51,
    "start_time": "2023-06-16T10:03:31.844Z"
   },
   {
    "duration": 955,
    "start_time": "2023-06-16T10:03:31.898Z"
   },
   {
    "duration": 1195,
    "start_time": "2023-06-16T10:03:32.872Z"
   },
   {
    "duration": 4,
    "start_time": "2023-06-16T10:32:43.624Z"
   },
   {
    "duration": 10,
    "start_time": "2023-06-16T10:32:48.847Z"
   },
   {
    "duration": 29,
    "start_time": "2023-06-16T10:32:58.549Z"
   },
   {
    "duration": 14,
    "start_time": "2023-06-16T10:33:25.347Z"
   },
   {
    "duration": 34,
    "start_time": "2023-06-16T10:33:47.045Z"
   },
   {
    "duration": 45,
    "start_time": "2023-06-16T10:35:13.547Z"
   },
   {
    "duration": 21,
    "start_time": "2023-06-16T10:35:16.108Z"
   },
   {
    "duration": 28,
    "start_time": "2023-06-16T10:35:30.419Z"
   },
   {
    "duration": 32,
    "start_time": "2023-06-16T10:35:47.855Z"
   },
   {
    "duration": 9,
    "start_time": "2023-06-16T10:36:04.228Z"
   },
   {
    "duration": 48,
    "start_time": "2023-06-16T10:36:08.133Z"
   },
   {
    "duration": 59,
    "start_time": "2023-06-16T10:36:50.160Z"
   },
   {
    "duration": 38,
    "start_time": "2023-06-16T10:38:13.144Z"
   },
   {
    "duration": 25,
    "start_time": "2023-06-16T10:38:30.614Z"
   },
   {
    "duration": 14,
    "start_time": "2023-06-16T10:39:33.602Z"
   },
   {
    "duration": 31,
    "start_time": "2023-06-16T10:39:48.532Z"
   },
   {
    "duration": 57,
    "start_time": "2023-06-16T10:40:30.049Z"
   },
   {
    "duration": 27,
    "start_time": "2023-06-16T10:40:37.412Z"
   },
   {
    "duration": 23,
    "start_time": "2023-06-16T10:40:54.036Z"
   },
   {
    "duration": 39,
    "start_time": "2023-06-16T10:41:08.905Z"
   },
   {
    "duration": 47,
    "start_time": "2023-06-16T10:43:59.334Z"
   },
   {
    "duration": 48,
    "start_time": "2023-06-16T10:45:13.002Z"
   },
   {
    "duration": 90,
    "start_time": "2023-06-16T10:56:25.944Z"
   },
   {
    "duration": 53,
    "start_time": "2023-06-16T10:57:08.376Z"
   },
   {
    "duration": 3,
    "start_time": "2023-06-16T11:03:07.709Z"
   },
   {
    "duration": 827,
    "start_time": "2023-06-16T11:03:20.422Z"
   },
   {
    "duration": 123,
    "start_time": "2023-06-16T11:03:21.251Z"
   },
   {
    "duration": 20,
    "start_time": "2023-06-16T11:03:21.380Z"
   },
   {
    "duration": 123,
    "start_time": "2023-06-16T11:03:21.405Z"
   },
   {
    "duration": 17,
    "start_time": "2023-06-16T11:03:21.530Z"
   },
   {
    "duration": 94,
    "start_time": "2023-06-16T11:03:21.549Z"
   },
   {
    "duration": 20,
    "start_time": "2023-06-16T11:03:21.645Z"
   },
   {
    "duration": 46,
    "start_time": "2023-06-16T11:03:21.674Z"
   },
   {
    "duration": 10,
    "start_time": "2023-06-16T11:03:21.722Z"
   },
   {
    "duration": 14,
    "start_time": "2023-06-16T11:03:21.734Z"
   },
   {
    "duration": 14,
    "start_time": "2023-06-16T11:03:21.750Z"
   },
   {
    "duration": 39,
    "start_time": "2023-06-16T11:03:21.771Z"
   },
   {
    "duration": 185,
    "start_time": "2023-06-16T11:03:21.813Z"
   },
   {
    "duration": 95,
    "start_time": "2023-06-16T11:03:22.001Z"
   },
   {
    "duration": 168,
    "start_time": "2023-06-16T11:03:22.106Z"
   },
   {
    "duration": 495,
    "start_time": "2023-06-16T11:03:22.281Z"
   },
   {
    "duration": 6,
    "start_time": "2023-06-16T11:03:22.783Z"
   },
   {
    "duration": 421,
    "start_time": "2023-06-16T11:03:22.800Z"
   },
   {
    "duration": 5,
    "start_time": "2023-06-16T11:03:23.223Z"
   },
   {
    "duration": 61,
    "start_time": "2023-06-16T11:03:23.230Z"
   },
   {
    "duration": 28,
    "start_time": "2023-06-16T11:03:23.300Z"
   },
   {
    "duration": 32,
    "start_time": "2023-06-16T11:03:23.330Z"
   },
   {
    "duration": 34,
    "start_time": "2023-06-16T11:03:23.363Z"
   },
   {
    "duration": 830,
    "start_time": "2023-06-16T11:03:23.399Z"
   },
   {
    "duration": 933,
    "start_time": "2023-06-16T11:03:24.231Z"
   },
   {
    "duration": 44,
    "start_time": "2023-06-16T11:03:25.172Z"
   },
   {
    "duration": 981,
    "start_time": "2023-06-16T11:48:43.898Z"
   },
   {
    "duration": 2401,
    "start_time": "2023-06-16T11:49:57.205Z"
   },
   {
    "duration": 1653,
    "start_time": "2023-06-16T11:54:00.950Z"
   },
   {
    "duration": 1618,
    "start_time": "2023-06-16T11:54:15.230Z"
   },
   {
    "duration": 302,
    "start_time": "2023-06-16T11:56:38.409Z"
   },
   {
    "duration": 372,
    "start_time": "2023-06-16T11:57:26.033Z"
   },
   {
    "duration": 110,
    "start_time": "2023-06-16T12:00:02.955Z"
   },
   {
    "duration": 106,
    "start_time": "2023-06-16T12:01:29.728Z"
   },
   {
    "duration": 43,
    "start_time": "2023-06-16T12:01:40.796Z"
   },
   {
    "duration": 353,
    "start_time": "2023-06-16T12:01:48.583Z"
   },
   {
    "duration": 270,
    "start_time": "2023-06-16T12:02:44.670Z"
   },
   {
    "duration": 273,
    "start_time": "2023-06-16T12:03:01.355Z"
   },
   {
    "duration": 85,
    "start_time": "2023-06-16T12:03:34.652Z"
   },
   {
    "duration": 1222,
    "start_time": "2023-06-16T12:04:03.555Z"
   },
   {
    "duration": 1556,
    "start_time": "2023-06-16T12:05:13.069Z"
   },
   {
    "duration": 908,
    "start_time": "2023-06-16T12:05:54.106Z"
   },
   {
    "duration": 1730,
    "start_time": "2023-06-16T12:05:58.744Z"
   },
   {
    "duration": 1098,
    "start_time": "2023-06-16T12:07:13.729Z"
   },
   {
    "duration": 986,
    "start_time": "2023-06-16T12:08:24.107Z"
   },
   {
    "duration": 1391,
    "start_time": "2023-06-16T12:08:42.556Z"
   },
   {
    "duration": 1329,
    "start_time": "2023-06-16T12:09:25.251Z"
   },
   {
    "duration": 1011,
    "start_time": "2023-06-16T12:09:33.820Z"
   },
   {
    "duration": 1320,
    "start_time": "2023-06-16T12:10:09.108Z"
   },
   {
    "duration": 1250,
    "start_time": "2023-06-16T12:11:38.923Z"
   },
   {
    "duration": 1225,
    "start_time": "2023-06-16T12:11:52.625Z"
   },
   {
    "duration": 53,
    "start_time": "2023-06-16T12:16:31.425Z"
   },
   {
    "duration": 5,
    "start_time": "2023-06-16T12:20:21.506Z"
   },
   {
    "duration": 1699,
    "start_time": "2023-06-16T12:20:24.972Z"
   },
   {
    "duration": 4,
    "start_time": "2023-06-16T12:21:11.126Z"
   },
   {
    "duration": 53,
    "start_time": "2023-06-16T12:21:46.432Z"
   },
   {
    "duration": 9,
    "start_time": "2023-06-16T12:21:49.914Z"
   },
   {
    "duration": 569,
    "start_time": "2023-06-16T12:21:51.517Z"
   },
   {
    "duration": 444,
    "start_time": "2023-06-16T12:22:00.891Z"
   },
   {
    "duration": 22,
    "start_time": "2023-06-16T12:24:59.850Z"
   },
   {
    "duration": 1352,
    "start_time": "2023-06-16T12:25:02.177Z"
   },
   {
    "duration": 11,
    "start_time": "2023-06-16T12:25:18.204Z"
   },
   {
    "duration": 900,
    "start_time": "2023-06-16T12:25:22.121Z"
   },
   {
    "duration": 48,
    "start_time": "2023-06-16T12:31:01.911Z"
   },
   {
    "duration": 6,
    "start_time": "2023-06-16T12:31:14.502Z"
   },
   {
    "duration": 24,
    "start_time": "2023-06-16T12:31:16.311Z"
   },
   {
    "duration": 4,
    "start_time": "2023-06-16T12:34:21.608Z"
   },
   {
    "duration": 523,
    "start_time": "2023-06-16T12:34:23.627Z"
   },
   {
    "duration": 5195,
    "start_time": "2023-06-16T12:35:08.662Z"
   },
   {
    "duration": 186,
    "start_time": "2023-06-16T12:35:13.865Z"
   },
   {
    "duration": 24,
    "start_time": "2023-06-16T12:35:14.054Z"
   },
   {
    "duration": 89,
    "start_time": "2023-06-16T12:35:14.086Z"
   },
   {
    "duration": 18,
    "start_time": "2023-06-16T12:35:14.177Z"
   },
   {
    "duration": 122,
    "start_time": "2023-06-16T12:35:14.197Z"
   },
   {
    "duration": 13,
    "start_time": "2023-06-16T12:35:14.321Z"
   },
   {
    "duration": 32,
    "start_time": "2023-06-16T12:35:14.336Z"
   },
   {
    "duration": 54,
    "start_time": "2023-06-16T12:35:14.369Z"
   },
   {
    "duration": 10,
    "start_time": "2023-06-16T12:35:14.426Z"
   },
   {
    "duration": 6,
    "start_time": "2023-06-16T12:35:14.439Z"
   },
   {
    "duration": 11,
    "start_time": "2023-06-16T12:35:14.448Z"
   },
   {
    "duration": 307,
    "start_time": "2023-06-16T12:35:14.461Z"
   },
   {
    "duration": 144,
    "start_time": "2023-06-16T12:35:14.774Z"
   },
   {
    "duration": 250,
    "start_time": "2023-06-16T12:35:14.923Z"
   },
   {
    "duration": 536,
    "start_time": "2023-06-16T12:35:15.187Z"
   },
   {
    "duration": 6,
    "start_time": "2023-06-16T12:35:15.726Z"
   },
   {
    "duration": 466,
    "start_time": "2023-06-16T12:35:15.734Z"
   },
   {
    "duration": 11,
    "start_time": "2023-06-16T12:35:16.202Z"
   },
   {
    "duration": 90,
    "start_time": "2023-06-16T12:35:16.217Z"
   },
   {
    "duration": 123,
    "start_time": "2023-06-16T12:35:16.311Z"
   },
   {
    "duration": 29,
    "start_time": "2023-06-16T12:35:16.436Z"
   },
   {
    "duration": 97,
    "start_time": "2023-06-16T12:35:16.467Z"
   },
   {
    "duration": 950,
    "start_time": "2023-06-16T12:35:16.567Z"
   },
   {
    "duration": 1038,
    "start_time": "2023-06-16T12:35:17.522Z"
   },
   {
    "duration": 49,
    "start_time": "2023-06-16T12:35:18.573Z"
   },
   {
    "duration": 6,
    "start_time": "2023-06-16T12:35:18.636Z"
   },
   {
    "duration": 24912,
    "start_time": "2023-06-16T12:35:18.645Z"
   },
   {
    "duration": 4,
    "start_time": "2023-06-16T12:40:04.528Z"
   },
   {
    "duration": 107,
    "start_time": "2023-06-16T12:40:20.442Z"
   },
   {
    "duration": 10,
    "start_time": "2023-06-16T12:40:21.103Z"
   },
   {
    "duration": 10,
    "start_time": "2023-06-16T12:40:21.848Z"
   },
   {
    "duration": 10,
    "start_time": "2023-06-16T12:40:22.405Z"
   },
   {
    "duration": 9,
    "start_time": "2023-06-16T12:40:41.446Z"
   },
   {
    "duration": 3864,
    "start_time": "2023-06-16T12:40:50.642Z"
   },
   {
    "duration": 117,
    "start_time": "2023-06-16T12:40:54.509Z"
   },
   {
    "duration": 17,
    "start_time": "2023-06-16T12:40:54.628Z"
   },
   {
    "duration": 242,
    "start_time": "2023-06-16T12:40:54.647Z"
   },
   {
    "duration": 12,
    "start_time": "2023-06-16T12:40:54.891Z"
   },
   {
    "duration": 97,
    "start_time": "2023-06-16T12:40:54.905Z"
   },
   {
    "duration": 12,
    "start_time": "2023-06-16T12:40:55.004Z"
   },
   {
    "duration": 80,
    "start_time": "2023-06-16T12:40:55.018Z"
   },
   {
    "duration": 22,
    "start_time": "2023-06-16T12:40:55.100Z"
   },
   {
    "duration": 9,
    "start_time": "2023-06-16T12:40:55.124Z"
   },
   {
    "duration": 7,
    "start_time": "2023-06-16T12:40:55.136Z"
   },
   {
    "duration": 14,
    "start_time": "2023-06-16T12:40:55.145Z"
   },
   {
    "duration": 324,
    "start_time": "2023-06-16T12:40:55.161Z"
   },
   {
    "duration": 89,
    "start_time": "2023-06-16T12:40:55.488Z"
   },
   {
    "duration": 166,
    "start_time": "2023-06-16T12:40:55.578Z"
   },
   {
    "duration": 417,
    "start_time": "2023-06-16T12:40:55.752Z"
   },
   {
    "duration": 11,
    "start_time": "2023-06-16T12:40:56.174Z"
   },
   {
    "duration": 381,
    "start_time": "2023-06-16T12:40:56.189Z"
   },
   {
    "duration": 7,
    "start_time": "2023-06-16T12:40:56.572Z"
   },
   {
    "duration": 45,
    "start_time": "2023-06-16T12:40:56.580Z"
   },
   {
    "duration": 21,
    "start_time": "2023-06-16T12:40:56.627Z"
   },
   {
    "duration": 58,
    "start_time": "2023-06-16T12:40:56.651Z"
   },
   {
    "duration": 17,
    "start_time": "2023-06-16T12:40:56.711Z"
   },
   {
    "duration": 741,
    "start_time": "2023-06-16T12:40:56.730Z"
   },
   {
    "duration": 861,
    "start_time": "2023-06-16T12:40:57.480Z"
   },
   {
    "duration": 57,
    "start_time": "2023-06-16T12:40:58.345Z"
   },
   {
    "duration": 6,
    "start_time": "2023-06-16T12:40:58.405Z"
   },
   {
    "duration": 725,
    "start_time": "2023-06-16T12:40:58.413Z"
   },
   {
    "duration": 501,
    "start_time": "2023-06-16T12:41:07.944Z"
   },
   {
    "duration": 15276,
    "start_time": "2023-06-16T12:41:13.282Z"
   },
   {
    "duration": 71,
    "start_time": "2023-06-16T12:49:50.310Z"
   },
   {
    "duration": 4,
    "start_time": "2023-06-16T12:49:58.008Z"
   },
   {
    "duration": 9,
    "start_time": "2023-06-16T12:49:59.630Z"
   },
   {
    "duration": 13,
    "start_time": "2023-06-16T12:50:04.258Z"
   },
   {
    "duration": 817,
    "start_time": "2023-06-16T12:50:10.428Z"
   },
   {
    "duration": 107,
    "start_time": "2023-06-16T12:50:11.247Z"
   },
   {
    "duration": 21,
    "start_time": "2023-06-16T12:50:11.360Z"
   },
   {
    "duration": 128,
    "start_time": "2023-06-16T12:50:11.385Z"
   },
   {
    "duration": 12,
    "start_time": "2023-06-16T12:50:11.516Z"
   },
   {
    "duration": 85,
    "start_time": "2023-06-16T12:50:11.530Z"
   },
   {
    "duration": 14,
    "start_time": "2023-06-16T12:50:11.617Z"
   },
   {
    "duration": 13,
    "start_time": "2023-06-16T12:50:11.633Z"
   },
   {
    "duration": 63,
    "start_time": "2023-06-16T12:50:11.648Z"
   },
   {
    "duration": 43,
    "start_time": "2023-06-16T12:50:11.713Z"
   },
   {
    "duration": 41,
    "start_time": "2023-06-16T12:50:11.757Z"
   },
   {
    "duration": 28,
    "start_time": "2023-06-16T12:50:11.801Z"
   },
   {
    "duration": 273,
    "start_time": "2023-06-16T12:50:11.831Z"
   },
   {
    "duration": 104,
    "start_time": "2023-06-16T12:50:12.108Z"
   },
   {
    "duration": 303,
    "start_time": "2023-06-16T12:50:12.215Z"
   },
   {
    "duration": 479,
    "start_time": "2023-06-16T12:50:12.521Z"
   },
   {
    "duration": 6,
    "start_time": "2023-06-16T12:50:13.002Z"
   },
   {
    "duration": 423,
    "start_time": "2023-06-16T12:50:13.010Z"
   },
   {
    "duration": 6,
    "start_time": "2023-06-16T12:50:13.435Z"
   },
   {
    "duration": 38,
    "start_time": "2023-06-16T12:50:13.454Z"
   },
   {
    "duration": 28,
    "start_time": "2023-06-16T12:50:13.494Z"
   },
   {
    "duration": 33,
    "start_time": "2023-06-16T12:50:13.524Z"
   },
   {
    "duration": 48,
    "start_time": "2023-06-16T12:50:13.558Z"
   },
   {
    "duration": 908,
    "start_time": "2023-06-16T12:50:13.608Z"
   },
   {
    "duration": 905,
    "start_time": "2023-06-16T12:50:14.518Z"
   },
   {
    "duration": 56,
    "start_time": "2023-06-16T12:50:15.424Z"
   },
   {
    "duration": 48,
    "start_time": "2023-06-16T12:50:15.487Z"
   },
   {
    "duration": 111,
    "start_time": "2023-06-16T12:50:15.537Z"
   },
   {
    "duration": 198,
    "start_time": "2023-06-16T12:58:18.918Z"
   },
   {
    "duration": 785,
    "start_time": "2023-06-16T12:58:26.362Z"
   },
   {
    "duration": 48,
    "start_time": "2023-06-16T12:58:27.151Z"
   },
   {
    "duration": 19,
    "start_time": "2023-06-16T12:58:27.202Z"
   },
   {
    "duration": 50,
    "start_time": "2023-06-16T12:58:27.224Z"
   },
   {
    "duration": 17,
    "start_time": "2023-06-16T12:58:27.278Z"
   },
   {
    "duration": 25,
    "start_time": "2023-06-16T12:58:27.298Z"
   },
   {
    "duration": 18,
    "start_time": "2023-06-16T12:58:27.353Z"
   },
   {
    "duration": 45,
    "start_time": "2023-06-16T12:58:27.373Z"
   },
   {
    "duration": 20,
    "start_time": "2023-06-16T12:58:27.421Z"
   },
   {
    "duration": 29,
    "start_time": "2023-06-16T12:58:27.444Z"
   },
   {
    "duration": 9,
    "start_time": "2023-06-16T12:58:27.476Z"
   },
   {
    "duration": 22,
    "start_time": "2023-06-16T12:58:27.488Z"
   },
   {
    "duration": 206,
    "start_time": "2023-06-16T12:58:27.517Z"
   },
   {
    "duration": 127,
    "start_time": "2023-06-16T12:58:27.726Z"
   },
   {
    "duration": 166,
    "start_time": "2023-06-16T12:58:27.855Z"
   },
   {
    "duration": 560,
    "start_time": "2023-06-16T12:58:28.023Z"
   },
   {
    "duration": 7,
    "start_time": "2023-06-16T12:58:28.586Z"
   },
   {
    "duration": 569,
    "start_time": "2023-06-16T12:58:28.596Z"
   },
   {
    "duration": 6,
    "start_time": "2023-06-16T12:58:29.167Z"
   },
   {
    "duration": 38,
    "start_time": "2023-06-16T12:58:29.176Z"
   },
   {
    "duration": 48,
    "start_time": "2023-06-16T12:58:29.216Z"
   },
   {
    "duration": 28,
    "start_time": "2023-06-16T12:58:29.265Z"
   },
   {
    "duration": 21,
    "start_time": "2023-06-16T12:58:29.295Z"
   },
   {
    "duration": 855,
    "start_time": "2023-06-16T12:58:29.318Z"
   },
   {
    "duration": 988,
    "start_time": "2023-06-16T12:58:30.176Z"
   },
   {
    "duration": 45,
    "start_time": "2023-06-16T12:58:31.167Z"
   },
   {
    "duration": 17,
    "start_time": "2023-06-16T12:58:31.216Z"
   },
   {
    "duration": 249,
    "start_time": "2023-06-16T12:58:31.235Z"
   },
   {
    "duration": 18,
    "start_time": "2023-06-16T12:59:13.902Z"
   },
   {
    "duration": 93,
    "start_time": "2023-06-16T13:00:55.357Z"
   },
   {
    "duration": 4,
    "start_time": "2023-06-16T13:01:23.137Z"
   },
   {
    "duration": 5,
    "start_time": "2023-06-16T13:01:46.978Z"
   },
   {
    "duration": 199,
    "start_time": "2023-06-16T13:01:48.739Z"
   },
   {
    "duration": 249,
    "start_time": "2023-06-16T13:01:56.240Z"
   },
   {
    "duration": 5,
    "start_time": "2023-06-16T13:03:24.817Z"
   },
   {
    "duration": 252,
    "start_time": "2023-06-16T13:03:27.074Z"
   },
   {
    "duration": 4,
    "start_time": "2023-06-16T13:04:55.309Z"
   },
   {
    "duration": 4,
    "start_time": "2023-06-16T13:04:56.174Z"
   },
   {
    "duration": 195,
    "start_time": "2023-06-16T13:04:57.710Z"
   },
   {
    "duration": 33,
    "start_time": "2023-06-16T13:05:22.095Z"
   },
   {
    "duration": 51,
    "start_time": "2023-06-16T13:05:30.931Z"
   },
   {
    "duration": 197,
    "start_time": "2023-06-16T13:05:40.641Z"
   },
   {
    "duration": 231,
    "start_time": "2023-06-16T13:09:47.027Z"
   },
   {
    "duration": 846,
    "start_time": "2023-06-16T13:14:01.724Z"
   },
   {
    "duration": 39,
    "start_time": "2023-06-16T13:14:02.573Z"
   },
   {
    "duration": 19,
    "start_time": "2023-06-16T13:14:02.615Z"
   },
   {
    "duration": 143,
    "start_time": "2023-06-16T13:14:02.636Z"
   },
   {
    "duration": 81,
    "start_time": "2023-06-16T13:14:02.782Z"
   },
   {
    "duration": 73,
    "start_time": "2023-06-16T13:14:02.866Z"
   },
   {
    "duration": 27,
    "start_time": "2023-06-16T13:14:02.941Z"
   },
   {
    "duration": 52,
    "start_time": "2023-06-16T13:14:02.971Z"
   },
   {
    "duration": 19,
    "start_time": "2023-06-16T13:14:03.026Z"
   },
   {
    "duration": 44,
    "start_time": "2023-06-16T13:14:03.048Z"
   },
   {
    "duration": 16,
    "start_time": "2023-06-16T13:14:03.094Z"
   },
   {
    "duration": 16,
    "start_time": "2023-06-16T13:14:03.113Z"
   },
   {
    "duration": 215,
    "start_time": "2023-06-16T13:14:03.131Z"
   },
   {
    "duration": 83,
    "start_time": "2023-06-16T13:14:03.349Z"
   },
   {
    "duration": 167,
    "start_time": "2023-06-16T13:14:03.435Z"
   },
   {
    "duration": 412,
    "start_time": "2023-06-16T13:14:03.604Z"
   },
   {
    "duration": 5,
    "start_time": "2023-06-16T13:14:04.018Z"
   },
   {
    "duration": 380,
    "start_time": "2023-06-16T13:14:04.026Z"
   },
   {
    "duration": 5,
    "start_time": "2023-06-16T13:14:04.411Z"
   },
   {
    "duration": 43,
    "start_time": "2023-06-16T13:14:04.418Z"
   },
   {
    "duration": 33,
    "start_time": "2023-06-16T13:14:04.464Z"
   },
   {
    "duration": 54,
    "start_time": "2023-06-16T13:14:04.499Z"
   },
   {
    "duration": 24,
    "start_time": "2023-06-16T13:14:04.555Z"
   },
   {
    "duration": 820,
    "start_time": "2023-06-16T13:14:04.581Z"
   },
   {
    "duration": 803,
    "start_time": "2023-06-16T13:14:05.403Z"
   },
   {
    "duration": 46,
    "start_time": "2023-06-16T13:14:06.208Z"
   },
   {
    "duration": 5,
    "start_time": "2023-06-16T13:14:06.256Z"
   },
   {
    "duration": 222,
    "start_time": "2023-06-16T13:14:06.263Z"
   },
   {
    "duration": 6,
    "start_time": "2023-06-16T13:15:30.737Z"
   },
   {
    "duration": 285,
    "start_time": "2023-06-16T13:15:32.398Z"
   },
   {
    "duration": 5,
    "start_time": "2023-06-16T13:16:04.240Z"
   },
   {
    "duration": 245,
    "start_time": "2023-06-16T13:16:05.772Z"
   },
   {
    "duration": 7,
    "start_time": "2023-06-16T13:16:16.479Z"
   },
   {
    "duration": 968,
    "start_time": "2023-06-16T13:16:21.572Z"
   },
   {
    "duration": 73,
    "start_time": "2023-06-16T13:16:22.544Z"
   },
   {
    "duration": 21,
    "start_time": "2023-06-16T13:16:22.620Z"
   },
   {
    "duration": 86,
    "start_time": "2023-06-16T13:16:22.644Z"
   },
   {
    "duration": 22,
    "start_time": "2023-06-16T13:16:22.734Z"
   },
   {
    "duration": 67,
    "start_time": "2023-06-16T13:16:22.758Z"
   },
   {
    "duration": 12,
    "start_time": "2023-06-16T13:16:22.828Z"
   },
   {
    "duration": 67,
    "start_time": "2023-06-16T13:16:22.843Z"
   },
   {
    "duration": 32,
    "start_time": "2023-06-16T13:16:22.912Z"
   },
   {
    "duration": 76,
    "start_time": "2023-06-16T13:16:22.946Z"
   },
   {
    "duration": 21,
    "start_time": "2023-06-16T13:16:23.024Z"
   },
   {
    "duration": 72,
    "start_time": "2023-06-16T13:16:23.047Z"
   },
   {
    "duration": 206,
    "start_time": "2023-06-16T13:16:23.122Z"
   },
   {
    "duration": 105,
    "start_time": "2023-06-16T13:16:23.332Z"
   },
   {
    "duration": 181,
    "start_time": "2023-06-16T13:16:23.439Z"
   },
   {
    "duration": 482,
    "start_time": "2023-06-16T13:16:23.622Z"
   },
   {
    "duration": 7,
    "start_time": "2023-06-16T13:16:24.106Z"
   },
   {
    "duration": 500,
    "start_time": "2023-06-16T13:16:24.116Z"
   },
   {
    "duration": 8,
    "start_time": "2023-06-16T13:16:24.619Z"
   },
   {
    "duration": 52,
    "start_time": "2023-06-16T13:16:24.629Z"
   },
   {
    "duration": 21,
    "start_time": "2023-06-16T13:16:24.684Z"
   },
   {
    "duration": 46,
    "start_time": "2023-06-16T13:16:24.708Z"
   },
   {
    "duration": 21,
    "start_time": "2023-06-16T13:16:24.756Z"
   },
   {
    "duration": 858,
    "start_time": "2023-06-16T13:16:24.779Z"
   },
   {
    "duration": 895,
    "start_time": "2023-06-16T13:16:25.639Z"
   },
   {
    "duration": 48,
    "start_time": "2023-06-16T13:16:26.537Z"
   },
   {
    "duration": 7,
    "start_time": "2023-06-16T13:16:26.587Z"
   },
   {
    "duration": 269,
    "start_time": "2023-06-16T13:16:26.596Z"
   },
   {
    "duration": 132,
    "start_time": "2023-06-16T13:18:53.261Z"
   },
   {
    "duration": 31,
    "start_time": "2023-06-16T13:18:58.666Z"
   },
   {
    "duration": 229,
    "start_time": "2023-06-16T13:19:02.515Z"
   },
   {
    "duration": 5,
    "start_time": "2023-06-16T13:20:30.022Z"
   },
   {
    "duration": 205,
    "start_time": "2023-06-16T13:20:31.505Z"
   },
   {
    "duration": 6,
    "start_time": "2023-06-16T13:21:03.759Z"
   },
   {
    "duration": 370,
    "start_time": "2023-06-16T13:21:05.428Z"
   },
   {
    "duration": 4,
    "start_time": "2023-06-16T13:21:20.392Z"
   },
   {
    "duration": 144,
    "start_time": "2023-06-16T13:21:22.203Z"
   },
   {
    "duration": 5,
    "start_time": "2023-06-16T13:21:36.981Z"
   },
   {
    "duration": 555,
    "start_time": "2023-06-16T13:21:39.089Z"
   },
   {
    "duration": 517,
    "start_time": "2023-06-16T13:46:01.941Z"
   },
   {
    "duration": 15,
    "start_time": "2023-06-16T14:30:14.274Z"
   },
   {
    "duration": 1261,
    "start_time": "2023-06-16T14:30:45.402Z"
   },
   {
    "duration": 43,
    "start_time": "2023-06-16T14:30:46.667Z"
   },
   {
    "duration": 11,
    "start_time": "2023-06-16T14:30:46.712Z"
   },
   {
    "duration": 91,
    "start_time": "2023-06-16T14:30:46.725Z"
   },
   {
    "duration": 11,
    "start_time": "2023-06-16T14:30:46.818Z"
   },
   {
    "duration": 34,
    "start_time": "2023-06-16T14:30:46.830Z"
   },
   {
    "duration": 16,
    "start_time": "2023-06-16T14:30:46.868Z"
   },
   {
    "duration": 16,
    "start_time": "2023-06-16T14:30:46.885Z"
   },
   {
    "duration": 7,
    "start_time": "2023-06-16T14:30:46.903Z"
   },
   {
    "duration": 8,
    "start_time": "2023-06-16T14:30:46.912Z"
   },
   {
    "duration": 42,
    "start_time": "2023-06-16T14:30:46.922Z"
   },
   {
    "duration": 30,
    "start_time": "2023-06-16T14:30:46.966Z"
   },
   {
    "duration": 192,
    "start_time": "2023-06-16T14:30:46.998Z"
   },
   {
    "duration": 90,
    "start_time": "2023-06-16T14:30:47.192Z"
   },
   {
    "duration": 163,
    "start_time": "2023-06-16T14:30:47.284Z"
   },
   {
    "duration": 348,
    "start_time": "2023-06-16T14:30:47.449Z"
   },
   {
    "duration": 6,
    "start_time": "2023-06-16T14:30:47.798Z"
   },
   {
    "duration": 374,
    "start_time": "2023-06-16T14:30:47.805Z"
   },
   {
    "duration": 6,
    "start_time": "2023-06-16T14:30:48.184Z"
   },
   {
    "duration": 24,
    "start_time": "2023-06-16T14:30:48.191Z"
   },
   {
    "duration": 45,
    "start_time": "2023-06-16T14:30:48.216Z"
   },
   {
    "duration": 125,
    "start_time": "2023-06-16T14:30:48.267Z"
   },
   {
    "duration": 17,
    "start_time": "2023-06-16T14:30:48.395Z"
   },
   {
    "duration": 775,
    "start_time": "2023-06-16T14:30:48.414Z"
   },
   {
    "duration": 743,
    "start_time": "2023-06-16T14:30:49.196Z"
   },
   {
    "duration": 45,
    "start_time": "2023-06-16T14:30:49.941Z"
   },
   {
    "duration": 4,
    "start_time": "2023-06-16T14:30:49.988Z"
   },
   {
    "duration": 592,
    "start_time": "2023-06-16T14:30:49.995Z"
   },
   {
    "duration": 7,
    "start_time": "2023-06-16T14:30:50.589Z"
   },
   {
    "duration": 6,
    "start_time": "2023-06-16T14:31:18.801Z"
   },
   {
    "duration": 7,
    "start_time": "2023-06-16T14:35:07.497Z"
   },
   {
    "duration": 9,
    "start_time": "2023-06-16T14:36:41.156Z"
   },
   {
    "duration": 6,
    "start_time": "2023-06-16T14:43:16.340Z"
   },
   {
    "duration": 14,
    "start_time": "2023-06-16T14:46:32.735Z"
   },
   {
    "duration": 7,
    "start_time": "2023-06-16T14:46:41.197Z"
   },
   {
    "duration": 963,
    "start_time": "2023-06-16T14:55:13.243Z"
   },
   {
    "duration": 4,
    "start_time": "2023-06-16T14:55:18.202Z"
   },
   {
    "duration": 435,
    "start_time": "2023-06-16T14:55:19.885Z"
   },
   {
    "duration": 134,
    "start_time": "2023-06-16T14:56:48.189Z"
   },
   {
    "duration": 13,
    "start_time": "2023-06-16T14:57:06.208Z"
   },
   {
    "duration": 1239,
    "start_time": "2023-06-16T15:16:06.270Z"
   },
   {
    "duration": 39,
    "start_time": "2023-06-16T15:16:07.511Z"
   },
   {
    "duration": 20,
    "start_time": "2023-06-16T15:16:07.551Z"
   },
   {
    "duration": 121,
    "start_time": "2023-06-16T15:16:07.574Z"
   },
   {
    "duration": 39,
    "start_time": "2023-06-16T15:16:07.699Z"
   },
   {
    "duration": 71,
    "start_time": "2023-06-16T15:16:07.740Z"
   },
   {
    "duration": 127,
    "start_time": "2023-06-16T15:16:07.812Z"
   },
   {
    "duration": 54,
    "start_time": "2023-06-16T15:16:07.941Z"
   },
   {
    "duration": 11,
    "start_time": "2023-06-16T15:16:07.997Z"
   },
   {
    "duration": 16,
    "start_time": "2023-06-16T15:16:08.010Z"
   },
   {
    "duration": 8,
    "start_time": "2023-06-16T15:16:08.027Z"
   },
   {
    "duration": 14,
    "start_time": "2023-06-16T15:16:08.036Z"
   },
   {
    "duration": 208,
    "start_time": "2023-06-16T15:16:08.054Z"
   },
   {
    "duration": 103,
    "start_time": "2023-06-16T15:16:08.266Z"
   },
   {
    "duration": 213,
    "start_time": "2023-06-16T15:16:08.373Z"
   },
   {
    "duration": 384,
    "start_time": "2023-06-16T15:16:08.589Z"
   },
   {
    "duration": 6,
    "start_time": "2023-06-16T15:16:08.975Z"
   },
   {
    "duration": 381,
    "start_time": "2023-06-16T15:16:08.984Z"
   },
   {
    "duration": 5,
    "start_time": "2023-06-16T15:16:09.367Z"
   },
   {
    "duration": 39,
    "start_time": "2023-06-16T15:16:09.373Z"
   },
   {
    "duration": 20,
    "start_time": "2023-06-16T15:16:09.414Z"
   },
   {
    "duration": 133,
    "start_time": "2023-06-16T15:16:09.436Z"
   },
   {
    "duration": 17,
    "start_time": "2023-06-16T15:16:09.573Z"
   },
   {
    "duration": 699,
    "start_time": "2023-06-16T15:16:09.592Z"
   },
   {
    "duration": 737,
    "start_time": "2023-06-16T15:16:10.293Z"
   },
   {
    "duration": 945,
    "start_time": "2023-06-16T15:16:11.032Z"
   },
   {
    "duration": 4,
    "start_time": "2023-06-16T15:16:11.979Z"
   },
   {
    "duration": 440,
    "start_time": "2023-06-16T15:16:11.984Z"
   },
   {
    "duration": 6,
    "start_time": "2023-06-16T15:16:12.426Z"
   },
   {
    "duration": 11,
    "start_time": "2023-06-16T15:16:12.433Z"
   },
   {
    "duration": 14,
    "start_time": "2023-06-16T15:16:12.451Z"
   },
   {
    "duration": 1210,
    "start_time": "2023-06-16T16:31:41.124Z"
   },
   {
    "duration": 44,
    "start_time": "2023-06-16T16:31:42.336Z"
   },
   {
    "duration": 12,
    "start_time": "2023-06-16T16:31:42.382Z"
   },
   {
    "duration": 88,
    "start_time": "2023-06-16T16:31:42.395Z"
   },
   {
    "duration": 11,
    "start_time": "2023-06-16T16:31:42.485Z"
   },
   {
    "duration": 84,
    "start_time": "2023-06-16T16:31:42.498Z"
   },
   {
    "duration": 10,
    "start_time": "2023-06-16T16:31:42.583Z"
   },
   {
    "duration": 57,
    "start_time": "2023-06-16T16:31:42.594Z"
   },
   {
    "duration": 27,
    "start_time": "2023-06-16T16:31:42.653Z"
   },
   {
    "duration": 15,
    "start_time": "2023-06-16T16:31:42.682Z"
   },
   {
    "duration": 27,
    "start_time": "2023-06-16T16:31:42.699Z"
   },
   {
    "duration": 39,
    "start_time": "2023-06-16T16:31:42.728Z"
   },
   {
    "duration": 197,
    "start_time": "2023-06-16T16:31:42.768Z"
   },
   {
    "duration": 93,
    "start_time": "2023-06-16T16:31:42.967Z"
   },
   {
    "duration": 148,
    "start_time": "2023-06-16T16:31:43.062Z"
   },
   {
    "duration": 330,
    "start_time": "2023-06-16T16:31:43.211Z"
   },
   {
    "duration": 5,
    "start_time": "2023-06-16T16:31:43.543Z"
   },
   {
    "duration": 387,
    "start_time": "2023-06-16T16:31:43.550Z"
   },
   {
    "duration": 7,
    "start_time": "2023-06-16T16:31:43.948Z"
   },
   {
    "duration": 29,
    "start_time": "2023-06-16T16:31:43.956Z"
   },
   {
    "duration": 18,
    "start_time": "2023-06-16T16:31:43.987Z"
   },
   {
    "duration": 149,
    "start_time": "2023-06-16T16:31:44.007Z"
   },
   {
    "duration": 19,
    "start_time": "2023-06-16T16:31:44.158Z"
   },
   {
    "duration": 699,
    "start_time": "2023-06-16T16:31:44.178Z"
   },
   {
    "duration": 707,
    "start_time": "2023-06-16T16:31:44.879Z"
   },
   {
    "duration": 998,
    "start_time": "2023-06-16T16:31:45.588Z"
   },
   {
    "duration": 4,
    "start_time": "2023-06-16T16:31:46.588Z"
   },
   {
    "duration": 493,
    "start_time": "2023-06-16T16:31:46.612Z"
   },
   {
    "duration": 6,
    "start_time": "2023-06-16T16:31:47.110Z"
   },
   {
    "duration": 33,
    "start_time": "2023-06-16T16:31:47.127Z"
   },
   {
    "duration": 17,
    "start_time": "2023-06-16T16:31:47.161Z"
   },
   {
    "duration": 14,
    "start_time": "2023-06-16T16:36:45.818Z"
   },
   {
    "duration": 7,
    "start_time": "2023-06-16T16:36:58.147Z"
   },
   {
    "duration": 45,
    "start_time": "2023-06-17T10:13:33.017Z"
   },
   {
    "duration": 1256,
    "start_time": "2023-06-17T10:13:44.658Z"
   },
   {
    "duration": 94,
    "start_time": "2023-06-17T10:13:45.916Z"
   },
   {
    "duration": 11,
    "start_time": "2023-06-17T10:13:46.011Z"
   },
   {
    "duration": 148,
    "start_time": "2023-06-17T10:13:46.023Z"
   },
   {
    "duration": 11,
    "start_time": "2023-06-17T10:13:46.173Z"
   },
   {
    "duration": 61,
    "start_time": "2023-06-17T10:13:46.186Z"
   },
   {
    "duration": 10,
    "start_time": "2023-06-17T10:13:46.248Z"
   },
   {
    "duration": 14,
    "start_time": "2023-06-17T10:13:46.260Z"
   },
   {
    "duration": 4,
    "start_time": "2023-06-17T10:13:46.276Z"
   },
   {
    "duration": 6,
    "start_time": "2023-06-17T10:13:46.282Z"
   },
   {
    "duration": 6,
    "start_time": "2023-06-17T10:13:46.290Z"
   },
   {
    "duration": 8,
    "start_time": "2023-06-17T10:13:46.297Z"
   },
   {
    "duration": 168,
    "start_time": "2023-06-17T10:13:46.306Z"
   },
   {
    "duration": 87,
    "start_time": "2023-06-17T10:13:46.477Z"
   },
   {
    "duration": 141,
    "start_time": "2023-06-17T10:13:46.565Z"
   },
   {
    "duration": 287,
    "start_time": "2023-06-17T10:13:46.707Z"
   },
   {
    "duration": 5,
    "start_time": "2023-06-17T10:13:46.995Z"
   },
   {
    "duration": 325,
    "start_time": "2023-06-17T10:13:47.002Z"
   },
   {
    "duration": 4,
    "start_time": "2023-06-17T10:13:47.328Z"
   },
   {
    "duration": 30,
    "start_time": "2023-06-17T10:13:47.333Z"
   },
   {
    "duration": 16,
    "start_time": "2023-06-17T10:13:47.364Z"
   },
   {
    "duration": 105,
    "start_time": "2023-06-17T10:13:47.381Z"
   },
   {
    "duration": 13,
    "start_time": "2023-06-17T10:13:47.487Z"
   },
   {
    "duration": 594,
    "start_time": "2023-06-17T10:13:47.502Z"
   },
   {
    "duration": 658,
    "start_time": "2023-06-17T10:13:48.098Z"
   },
   {
    "duration": 718,
    "start_time": "2023-06-17T10:13:48.758Z"
   },
   {
    "duration": 3,
    "start_time": "2023-06-17T10:13:49.477Z"
   },
   {
    "duration": 328,
    "start_time": "2023-06-17T10:13:49.482Z"
   },
   {
    "duration": 7,
    "start_time": "2023-06-17T10:13:49.812Z"
   },
   {
    "duration": 6,
    "start_time": "2023-06-17T10:13:49.820Z"
   },
   {
    "duration": 31,
    "start_time": "2023-06-17T10:13:49.828Z"
   },
   {
    "duration": 105,
    "start_time": "2023-06-17T10:14:09.515Z"
   },
   {
    "duration": 148,
    "start_time": "2023-06-17T10:14:22.318Z"
   },
   {
    "duration": 68,
    "start_time": "2023-06-17T10:14:35.738Z"
   },
   {
    "duration": 17,
    "start_time": "2023-06-17T10:14:39.657Z"
   },
   {
    "duration": 136,
    "start_time": "2023-06-17T11:20:57.917Z"
   },
   {
    "duration": 141,
    "start_time": "2023-06-17T11:21:08.063Z"
   },
   {
    "duration": 147,
    "start_time": "2023-06-17T11:21:10.625Z"
   },
   {
    "duration": 94,
    "start_time": "2023-06-17T11:22:24.985Z"
   },
   {
    "duration": 75,
    "start_time": "2023-06-17T11:23:05.314Z"
   },
   {
    "duration": 147,
    "start_time": "2023-06-17T11:24:11.161Z"
   },
   {
    "duration": 150,
    "start_time": "2023-06-17T11:25:52.436Z"
   },
   {
    "duration": 139,
    "start_time": "2023-06-17T11:26:39.055Z"
   },
   {
    "duration": 363,
    "start_time": "2023-06-17T11:28:41.378Z"
   },
   {
    "duration": 358,
    "start_time": "2023-06-17T11:30:47.866Z"
   },
   {
    "duration": 12,
    "start_time": "2023-06-17T11:31:45.498Z"
   },
   {
    "duration": 587,
    "start_time": "2023-06-17T11:35:08.755Z"
   },
   {
    "duration": 1108,
    "start_time": "2023-06-17T20:29:59.447Z"
   },
   {
    "duration": 41,
    "start_time": "2023-06-17T20:30:00.557Z"
   },
   {
    "duration": 12,
    "start_time": "2023-06-17T20:30:00.600Z"
   },
   {
    "duration": 97,
    "start_time": "2023-06-17T20:30:00.614Z"
   },
   {
    "duration": 65,
    "start_time": "2023-06-17T20:30:00.714Z"
   },
   {
    "duration": 67,
    "start_time": "2023-06-17T20:30:00.781Z"
   },
   {
    "duration": 33,
    "start_time": "2023-06-17T20:30:00.849Z"
   },
   {
    "duration": 52,
    "start_time": "2023-06-17T20:30:00.883Z"
   },
   {
    "duration": 15,
    "start_time": "2023-06-17T20:30:00.937Z"
   },
   {
    "duration": 48,
    "start_time": "2023-06-17T20:30:00.954Z"
   },
   {
    "duration": 43,
    "start_time": "2023-06-17T20:30:01.004Z"
   },
   {
    "duration": 46,
    "start_time": "2023-06-17T20:30:01.049Z"
   },
   {
    "duration": 185,
    "start_time": "2023-06-17T20:30:01.097Z"
   },
   {
    "duration": 77,
    "start_time": "2023-06-17T20:30:01.285Z"
   },
   {
    "duration": 163,
    "start_time": "2023-06-17T20:30:01.363Z"
   },
   {
    "duration": 353,
    "start_time": "2023-06-17T20:30:01.527Z"
   },
   {
    "duration": 9,
    "start_time": "2023-06-17T20:30:01.883Z"
   },
   {
    "duration": 391,
    "start_time": "2023-06-17T20:30:01.894Z"
   },
   {
    "duration": 6,
    "start_time": "2023-06-17T20:30:02.287Z"
   },
   {
    "duration": 33,
    "start_time": "2023-06-17T20:30:02.295Z"
   },
   {
    "duration": 70,
    "start_time": "2023-06-17T20:30:02.329Z"
   },
   {
    "duration": 17,
    "start_time": "2023-06-17T20:30:02.401Z"
   },
   {
    "duration": 143,
    "start_time": "2023-06-17T20:30:02.420Z"
   },
   {
    "duration": 21,
    "start_time": "2023-06-17T20:30:02.565Z"
   },
   {
    "duration": 657,
    "start_time": "2023-06-17T20:30:02.588Z"
   },
   {
    "duration": 665,
    "start_time": "2023-06-17T20:30:03.247Z"
   },
   {
    "duration": 785,
    "start_time": "2023-06-17T20:30:03.915Z"
   },
   {
    "duration": 4,
    "start_time": "2023-06-17T20:30:04.701Z"
   },
   {
    "duration": 398,
    "start_time": "2023-06-17T20:30:04.706Z"
   },
   {
    "duration": 6,
    "start_time": "2023-06-17T20:30:05.106Z"
   },
   {
    "duration": 11,
    "start_time": "2023-06-17T20:30:05.114Z"
   },
   {
    "duration": 16,
    "start_time": "2023-06-17T20:30:05.127Z"
   },
   {
    "duration": 92,
    "start_time": "2023-06-17T20:32:39.347Z"
   }
  ],
  "kernelspec": {
   "display_name": "Python 3 (ipykernel)",
   "language": "python",
   "name": "python3"
  },
  "language_info": {
   "codemirror_mode": {
    "name": "ipython",
    "version": 3
   },
   "file_extension": ".py",
   "mimetype": "text/x-python",
   "name": "python",
   "nbconvert_exporter": "python",
   "pygments_lexer": "ipython3",
   "version": "3.10.9"
  },
  "toc": {
   "base_numbering": 1,
   "nav_menu": {},
   "number_sections": true,
   "sideBar": true,
   "skip_h1_title": true,
   "title_cell": "Table of Contents",
   "title_sidebar": "Contents",
   "toc_cell": false,
   "toc_position": {
    "height": "calc(100% - 180px)",
    "left": "10px",
    "top": "150px",
    "width": "371px"
   },
   "toc_section_display": true,
   "toc_window_display": true
  }
 },
 "nbformat": 4,
 "nbformat_minor": 5
}
